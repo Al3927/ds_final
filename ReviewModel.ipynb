{
 "cells": [
  {
   "cell_type": "code",
   "execution_count": 1,
   "metadata": {},
   "outputs": [],
   "source": [
    "import pandas as pd\n",
    "import numpy as np"
   ]
  },
  {
   "cell_type": "code",
   "execution_count": 83,
   "metadata": {},
   "outputs": [],
   "source": [
    "class ReviewModel():\n",
    "    #y_after_predict: 3-dimension array\n",
    "    #y_after_predict[model type index][model series squecence in specific hypa index][y_value_after_predict index]\n",
    "    y_after_predict = [[[]]]\n",
    "    val_y = pd.Series([],dtype=pd.StringDtype()) \n",
    "    # DistanceType: 'Hausdoff'\n",
    "    # DistanceType: 'r2', 'mse'\n",
    "    DistanceType = ''\n",
    "    baseline_preds = 0.0\n",
    "    bestModel = [[]] # binary, mark index of the best\n",
    "    #Distance between y_after_predict and val_y\n",
    "    distance = [[]]\n",
    "    #Index of <Model type> element in y_after_predict have the best result\n",
    "    best = 0\n",
    "    def __init__(self,val_y,y_after_predict,baseline_preds = None, DistanceType = 'Hausdoff'):\n",
    "        self.DistanceType = DistanceType\n",
    "        self.val_y = val_y\n",
    "        self.y_after_predict = y_after_predict\n",
    "        self.baseline_preds = baseline_preds\n",
    "#         self.bestModel.reshape(y_after_predict.shape)\n",
    "#         self.minDistance.reshape(y_after_predict.shape)\n",
    "        pass\n",
    "\n",
    "    \n",
    "###\n",
    "# Hausdoff Distance\n",
    "###\n",
    "    def HausdoffDistanceBetween_xAndA(self,x,A):\n",
    "        minn = float('inf')\n",
    "        for a in A:\n",
    "            if abs(x-a) < minn:\n",
    "                minn = abs(x-a)\n",
    "        return minn\n",
    "    def HausdoffDistanceBetween_AAndB(self,A,B):\n",
    "        maxx = -float('inf')\n",
    "        max1 = -float('inf')\n",
    "        max2 = -float('inf')\n",
    "        for a in A:\n",
    "            temp = self.HausdoffDistanceBetween_xAndA(a,B)\n",
    "            if temp > max1:\n",
    "                max1 = temp\n",
    "        for b in B:\n",
    "            temp = self.HausdoffDistanceBetween_xAndA(b,A)\n",
    "            if temp > max2:\n",
    "                max2 = temp\n",
    "        if max1 > max2:\n",
    "            maxx = max1\n",
    "        else:\n",
    "            maxx = max2\n",
    "        return maxx\n",
    "        pass\n",
    "###\n",
    "# R^2\n",
    "###\n",
    "    def compute_mse(self,y, preds):\n",
    "        return ((y - preds) ** 2).mean()\n",
    "    def compute_rr(self,y, preds):\n",
    "        return 1 - self.compute_mse(y, preds) / self.compute_mse(y, self.baseline_preds)\n",
    "    \n",
    "###\n",
    "#Calculate\n",
    "###\n",
    "    def chooseTheBestHyperParameter(self):\n",
    "        distance = [0]\n",
    "        binaryArray=[0]\n",
    "        self.distance.clear()\n",
    "        self.bestModel.clear()\n",
    "        for modelType in self.y_after_predict:\n",
    "            distance.clear()\n",
    "            binaryArray.clear()\n",
    "            for modelHypa in modelType:\n",
    "                if self.DistanceType == 'Hausdoff':\n",
    "                    distance.append(self.HausdoffDistanceBetween_AAndB(modelHypa,val_y))\n",
    "                elif self.DistanceType == 'r2':\n",
    "                    distance.append(self.compute_rr(val_y,modelHypa))\n",
    "                elif self.DistanceType == 'mse':\n",
    "                    distance.append(self.compute_mse(val_y,modelHypa))\n",
    "                else:\n",
    "                    distance.append(self.HausdoffDistanceBetween_AAndB(modelHypa,val_y))\n",
    "                binaryArray.append(0)\n",
    "            print(distance)\n",
    "            self.distance.append(distance.copy())\n",
    "            if self.DistanceType == 'Hausdoff' or self.DistanceType == 'mse':\n",
    "                binaryArray[distance.index(min(distance))] = 1\n",
    "            elif self.DistanceType == 'r2':\n",
    "                binaryArray[distance.index(max(distance))] = 1\n",
    "            else:\n",
    "                binaryArray[distance.index(min(distance))] = 1\n",
    "            self.bestModel.append(binaryArray.copy())\n",
    "    \n",
    "    def chooseTheBestModel(self):\n",
    "        i = 0\n",
    "        distance = []\n",
    "        distance.clear()\n",
    "        for modelType in self.y_after_predict:\n",
    "            # print series have the best result in this model type\n",
    "#             print(modelType[self.bestModel[i].index(max(self.bestModel[i]))])\n",
    "#             modelType[self.bestModel[i].index(max(self.bestModel[i]))]\n",
    "            # print min distance in this model type\n",
    "#             print(self.distance[i][self.bestModel[i].index(max(self.bestModel[i]))])\n",
    "            distance.append(self.distance[i][self.bestModel[i].index(max(self.bestModel[i]))])\n",
    "            i += 1\n",
    "        if self.DistanceType == 'Hausdoff' or self.DistanceType == 'mse':\n",
    "                self.best = distance.index(min(distance))\n",
    "        elif self.DistanceType == 'r2':\n",
    "                self.best = distance.index(max(distance))\n",
    "        else:\n",
    "                self.best = distance.index(min(distance))\n",
    "        \n",
    "        pass\n",
    "    def calculate(self):\n",
    "        self.chooseTheBestHyperParameter()\n",
    "        self.chooseTheBestModel()\n",
    "        return self.bestModel, self.best\n",
    "            \n",
    "    def __del__(self):\n",
    "        pass\n",
    "    pass"
   ]
  },
  {
   "cell_type": "code",
   "execution_count": 84,
   "metadata": {},
   "outputs": [
    {
     "data": {
      "text/plain": [
       "array([[[10, 20, 30],\n",
       "        [ 4,  5,  6],\n",
       "        [ 7,  0,  9]],\n",
       "\n",
       "       [[10, 11, 12],\n",
       "        [ 2,  1,  3],\n",
       "        [ 3,  2,  1]]])"
      ]
     },
     "execution_count": 84,
     "metadata": {},
     "output_type": "execute_result"
    }
   ],
   "source": [
    "baseline_preds = 125.14696927760863\n",
    "val_y = np.array([10,2,3])\n",
    "# df_1 = pd.DataFrame()\n",
    "# df_1[0] = [6,7,8]\n",
    "# df_1[1] = [2,3,4]\n",
    "# df_2 = pd.DataFrame()\n",
    "# df_2[0] = [4,5,3]\n",
    "# df_2[1] = [9,7,2]\n",
    "arr = np.array([10, 20, 30, 4, 5, 6, 7, 0, 9, 10, 11, 12, 2, 1, 3, 3, 2, 1])\n",
    "\n",
    "newarr = arr.reshape(2, 3, 3)\n",
    "newarr\n",
    "# df[0].reshape(df_1.shape)\n",
    "# df[1].reshape(df_2.shape)\n",
    "# df[0] = df_1\n",
    "# df[1] = df_2"
   ]
  },
  {
   "cell_type": "code",
   "execution_count": 85,
   "metadata": {},
   "outputs": [],
   "source": [
    "test = ReviewModel(val_y, newarr)\n",
    "test1 = ReviewModel(val_y, newarr,baseline_preds,'r2')\n",
    "# test.val_y = pd.Series([1,2,3])"
   ]
  },
  {
   "cell_type": "code",
   "execution_count": 86,
   "metadata": {},
   "outputs": [
    {
     "name": "stdout",
     "output_type": "stream",
     "text": [
      "[20, 4, 3]\n",
      "[8, 7, 7]\n"
     ]
    }
   ],
   "source": [
    "test.chooseTheBestHyperParameter()"
   ]
  },
  {
   "cell_type": "code",
   "execution_count": 87,
   "metadata": {},
   "outputs": [
    {
     "data": {
      "text/plain": [
       "[[20, 4, 3], [8, 7, 7]]"
      ]
     },
     "execution_count": 87,
     "metadata": {},
     "output_type": "execute_result"
    }
   ],
   "source": [
    "test.distance"
   ]
  },
  {
   "cell_type": "code",
   "execution_count": 88,
   "metadata": {},
   "outputs": [
    {
     "data": {
      "text/plain": [
       "[[0, 0, 1], [0, 1, 0]]"
      ]
     },
     "execution_count": 88,
     "metadata": {},
     "output_type": "execute_result"
    }
   ],
   "source": [
    "test.bestModel"
   ]
  },
  {
   "cell_type": "code",
   "execution_count": 89,
   "metadata": {},
   "outputs": [],
   "source": [
    "test.chooseTheBestModel()"
   ]
  },
  {
   "cell_type": "code",
   "execution_count": 90,
   "metadata": {},
   "outputs": [
    {
     "data": {
      "text/plain": [
       "0"
      ]
     },
     "execution_count": 90,
     "metadata": {},
     "output_type": "execute_result"
    }
   ],
   "source": [
    "test.best"
   ]
  },
  {
   "cell_type": "code",
   "execution_count": 91,
   "metadata": {},
   "outputs": [
    {
     "name": "stdout",
     "output_type": "stream",
     "text": [
      "[0.9757059143090766, 0.9987541494517476, 0.9988695059839932]\n",
      "[0.9962624483552426, 0.9985003650808072, 0.9987772207581966]\n"
     ]
    }
   ],
   "source": [
    "binaryArray,bestIndex = test1.calculate()"
   ]
  },
  {
   "cell_type": "code",
   "execution_count": 92,
   "metadata": {},
   "outputs": [
    {
     "data": {
      "text/plain": [
       "[[0, 0, 1], [0, 0, 1]]"
      ]
     },
     "execution_count": 92,
     "metadata": {},
     "output_type": "execute_result"
    }
   ],
   "source": [
    "binaryArray"
   ]
  },
  {
   "cell_type": "code",
   "execution_count": 93,
   "metadata": {},
   "outputs": [
    {
     "data": {
      "text/plain": [
       "0"
      ]
     },
     "execution_count": 93,
     "metadata": {},
     "output_type": "execute_result"
    }
   ],
   "source": [
    "bestIndex"
   ]
  },
  {
   "cell_type": "code",
   "execution_count": null,
   "metadata": {},
   "outputs": [],
   "source": []
  },
  {
   "cell_type": "code",
   "execution_count": null,
   "metadata": {},
   "outputs": [],
   "source": []
  }
 ],
 "metadata": {
  "kernelspec": {
   "display_name": "Python 3",
   "language": "python",
   "name": "python3"
  },
  "language_info": {
   "codemirror_mode": {
    "name": "ipython",
    "version": 3
   },
   "file_extension": ".py",
   "mimetype": "text/x-python",
   "name": "python",
   "nbconvert_exporter": "python",
   "pygments_lexer": "ipython3",
   "version": "3.8.3"
  }
 },
 "nbformat": 4,
 "nbformat_minor": 4
}
