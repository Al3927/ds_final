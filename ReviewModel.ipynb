{
 "cells": [
  {
   "cell_type": "code",
   "execution_count": 1,
   "metadata": {},
   "outputs": [],
   "source": [
    "import pandas as pd\n",
    "import numpy as np"
   ]
  },
  {
   "cell_type": "code",
   "execution_count": 1,
   "metadata": {},
   "outputs": [
    {
     "ename": "NameError",
     "evalue": "name 'pd' is not defined",
     "output_type": "error",
     "traceback": [
      "\u001b[1;31m---------------------------------------------------------------------------\u001b[0m",
      "\u001b[1;31mNameError\u001b[0m                                 Traceback (most recent call last)",
      "\u001b[1;32m<ipython-input-1-87d139077f47>\u001b[0m in \u001b[0;36m<module>\u001b[1;34m\u001b[0m\n\u001b[1;32m----> 1\u001b[1;33m \u001b[1;32mclass\u001b[0m \u001b[0mReviewModel\u001b[0m\u001b[1;33m(\u001b[0m\u001b[1;33m)\u001b[0m\u001b[1;33m:\u001b[0m\u001b[1;33m\u001b[0m\u001b[1;33m\u001b[0m\u001b[0m\n\u001b[0m\u001b[0;32m      2\u001b[0m     \u001b[1;31m#y_after_predict: 3-dimension array\u001b[0m\u001b[1;33m\u001b[0m\u001b[1;33m\u001b[0m\u001b[1;33m\u001b[0m\u001b[0m\n\u001b[0;32m      3\u001b[0m     \u001b[1;31m#y_after_predict[model type index][model series squecence in specific hypa index][y_value_after_predict index]\u001b[0m\u001b[1;33m\u001b[0m\u001b[1;33m\u001b[0m\u001b[1;33m\u001b[0m\u001b[0m\n\u001b[0;32m      4\u001b[0m     \u001b[0my_after_predict\u001b[0m \u001b[1;33m=\u001b[0m \u001b[1;33m[\u001b[0m\u001b[1;33m[\u001b[0m\u001b[1;33m[\u001b[0m\u001b[1;33m]\u001b[0m\u001b[1;33m]\u001b[0m\u001b[1;33m]\u001b[0m\u001b[1;33m\u001b[0m\u001b[1;33m\u001b[0m\u001b[0m\n\u001b[0;32m      5\u001b[0m     \u001b[0mval_y\u001b[0m \u001b[1;33m=\u001b[0m \u001b[0mpd\u001b[0m\u001b[1;33m.\u001b[0m\u001b[0mSeries\u001b[0m\u001b[1;33m(\u001b[0m\u001b[1;33m[\u001b[0m\u001b[1;33m]\u001b[0m\u001b[1;33m,\u001b[0m\u001b[0mdtype\u001b[0m\u001b[1;33m=\u001b[0m\u001b[0mpd\u001b[0m\u001b[1;33m.\u001b[0m\u001b[0mStringDtype\u001b[0m\u001b[1;33m(\u001b[0m\u001b[1;33m)\u001b[0m\u001b[1;33m)\u001b[0m\u001b[1;33m\u001b[0m\u001b[1;33m\u001b[0m\u001b[0m\n",
      "\u001b[1;32m<ipython-input-1-87d139077f47>\u001b[0m in \u001b[0;36mReviewModel\u001b[1;34m()\u001b[0m\n\u001b[0;32m      3\u001b[0m     \u001b[1;31m#y_after_predict[model type index][model series squecence in specific hypa index][y_value_after_predict index]\u001b[0m\u001b[1;33m\u001b[0m\u001b[1;33m\u001b[0m\u001b[1;33m\u001b[0m\u001b[0m\n\u001b[0;32m      4\u001b[0m     \u001b[0my_after_predict\u001b[0m \u001b[1;33m=\u001b[0m \u001b[1;33m[\u001b[0m\u001b[1;33m[\u001b[0m\u001b[1;33m[\u001b[0m\u001b[1;33m]\u001b[0m\u001b[1;33m]\u001b[0m\u001b[1;33m]\u001b[0m\u001b[1;33m\u001b[0m\u001b[1;33m\u001b[0m\u001b[0m\n\u001b[1;32m----> 5\u001b[1;33m     \u001b[0mval_y\u001b[0m \u001b[1;33m=\u001b[0m \u001b[0mpd\u001b[0m\u001b[1;33m.\u001b[0m\u001b[0mSeries\u001b[0m\u001b[1;33m(\u001b[0m\u001b[1;33m[\u001b[0m\u001b[1;33m]\u001b[0m\u001b[1;33m,\u001b[0m\u001b[0mdtype\u001b[0m\u001b[1;33m=\u001b[0m\u001b[0mpd\u001b[0m\u001b[1;33m.\u001b[0m\u001b[0mStringDtype\u001b[0m\u001b[1;33m(\u001b[0m\u001b[1;33m)\u001b[0m\u001b[1;33m)\u001b[0m\u001b[1;33m\u001b[0m\u001b[1;33m\u001b[0m\u001b[0m\n\u001b[0m\u001b[0;32m      6\u001b[0m     \u001b[1;31m# DistanceType: 'Hausdoff'\u001b[0m\u001b[1;33m\u001b[0m\u001b[1;33m\u001b[0m\u001b[1;33m\u001b[0m\u001b[0m\n\u001b[0;32m      7\u001b[0m     \u001b[1;31m# DistanceType: 'r2', 'mse'\u001b[0m\u001b[1;33m\u001b[0m\u001b[1;33m\u001b[0m\u001b[1;33m\u001b[0m\u001b[0m\n",
      "\u001b[1;31mNameError\u001b[0m: name 'pd' is not defined"
     ]
    }
   ],
   "source": [
    "class ReviewModel():\n",
    "    #y_after_predict: 3-dimension array\n",
    "    #y_after_predict[model type index][model series squecence in specific hypa index][y_value_after_predict index]\n",
    "    y_after_predict = [[[]]]\n",
    "    val_y = pd.Series([],dtype=pd.StringDtype()) \n",
    "    # DistanceType: 'Hausdoff'\n",
    "    # DistanceType: 'r2', 'mse'\n",
    "    DistanceType = ''\n",
    "    baseline_preds = 0.0\n",
    "    bestModel = [[]] # binary, mark index of the best\n",
    "    #Distance between y_after_predict and val_y\n",
    "    distance = [[]]\n",
    "    #Index of <Model type> element in y_after_predict have the best result\n",
    "    best = 0\n",
    "    def __init__(self,val_y,y_after_predict,baseline_preds = None, DistanceType = 'Hausdoff'):\n",
    "        self.DistanceType = DistanceType\n",
    "        self.val_y = val_y\n",
    "        self.y_after_predict = y_after_predict\n",
    "        self.baseline_preds = baseline_preds\n",
    "#         self.bestModel.reshape(y_after_predict.shape)\n",
    "#         self.minDistance.reshape(y_after_predict.shape)\n",
    "        pass\n",
    "\n",
    "    \n",
    "###\n",
    "# Hausdoff Distance\n",
    "###\n",
    "    def HausdoffDistanceBetween_xAndA(self,x,A):\n",
    "        minn = float('inf')\n",
    "        for a in A:\n",
    "            if abs(x-a) < minn:\n",
    "                minn = abs(x-a)\n",
    "        return minn\n",
    "    def HausdoffDistanceBetween_AAndB(self,A,B):\n",
    "        maxx = -float('inf')\n",
    "        max1 = -float('inf')\n",
    "        max2 = -float('inf')\n",
    "        for a in A:\n",
    "            temp = self.HausdoffDistanceBetween_xAndA(a,B)\n",
    "            if temp > max1:\n",
    "                max1 = temp\n",
    "        for b in B:\n",
    "            temp = self.HausdoffDistanceBetween_xAndA(b,A)\n",
    "            if temp > max2:\n",
    "                max2 = temp\n",
    "        if max1 > max2:\n",
    "            maxx = max1\n",
    "        else:\n",
    "            maxx = max2\n",
    "        return maxx\n",
    "        pass\n",
    "###\n",
    "# R^2\n",
    "###\n",
    "    def compute_mse(self,y, preds):\n",
    "        return ((y - preds) ** 2).mean()\n",
    "    def compute_rr(self,y, preds):\n",
    "        return 1 - self.compute_mse(y, preds) / self.compute_mse(y, self.baseline_preds)\n",
    "    \n",
    "###\n",
    "#Calculate\n",
    "###\n",
    "    def chooseTheBestHyperParameter(self):\n",
    "        distance = [0]\n",
    "        binaryArray=[0]\n",
    "        self.distance.clear()\n",
    "        self.bestModel.clear()\n",
    "        for modelType in self.y_after_predict:\n",
    "            distance.clear()\n",
    "            binaryArray.clear()\n",
    "            for modelHypa in modelType:\n",
    "                if self.DistanceType == 'Hausdoff':\n",
    "                    distance.append(self.HausdoffDistanceBetween_AAndB(modelHypa,self.val_y))\n",
    "                elif self.DistanceType == 'r2':\n",
    "                    distance.append(self.compute_rr(self.val_y,modelHypa))\n",
    "                elif self.DistanceType == 'mse':\n",
    "                    distance.append(self.compute_mse(self.val_y,modelHypa))\n",
    "                else:\n",
    "                    distance.append(self.HausdoffDistanceBetween_AAndB(modelHypa,self.val_y))\n",
    "                binaryArray.append(0)\n",
    "            print(distance)\n",
    "            self.distance.append(distance.copy())\n",
    "            if self.DistanceType == 'Hausdoff' or self.DistanceType == 'mse':\n",
    "                binaryArray[distance.index(min(distance))] = 1\n",
    "            elif self.DistanceType == 'r2':\n",
    "                binaryArray[distance.index(max(distance))] = 1\n",
    "            else:\n",
    "                binaryArray[distance.index(min(distance))] = 1\n",
    "            self.bestModel.append(binaryArray.copy())\n",
    "    \n",
    "    def chooseTheBestModel(self):\n",
    "        i = 0\n",
    "        distance = []\n",
    "        distance.clear()\n",
    "        for modelType in self.y_after_predict:\n",
    "            # print series have the best result in this model type\n",
    "#             print(modelType[self.bestModel[i].index(max(self.bestModel[i]))])\n",
    "#             modelType[self.bestModel[i].index(max(self.bestModel[i]))]\n",
    "            # print min distance in this model type\n",
    "#             print(self.distance[i][self.bestModel[i].index(max(self.bestModel[i]))])\n",
    "            distance.append(self.distance[i][self.bestModel[i].index(max(self.bestModel[i]))])\n",
    "            i += 1\n",
    "        if self.DistanceType == 'Hausdoff' or self.DistanceType == 'mse':\n",
    "                self.best = distance.index(min(distance))\n",
    "        elif self.DistanceType == 'r2':\n",
    "                self.best = distance.index(max(distance))\n",
    "        else:\n",
    "                self.best = distance.index(min(distance))\n",
    "        \n",
    "        pass\n",
    "    def calculate(self):\n",
    "        self.chooseTheBestHyperParameter()\n",
    "        self.chooseTheBestModel()\n",
    "        return self.bestModel, self.best\n",
    "            \n",
    "    def __del__(self):\n",
    "        pass\n",
    "    pass"
   ]
  },
  {
   "cell_type": "code",
   "execution_count": 122,
   "metadata": {},
   "outputs": [],
   "source": [
    "baseline_preds = 125.14696927760863\n",
    "val_y = np.random.randint((1000),size=(389))\n",
    "y_after_predict = np.random.randint((2*398*5),size=(2,5,389))"
   ]
  },
  {
   "cell_type": "code",
   "execution_count": 112,
   "metadata": {},
   "outputs": [],
   "source": [
    "test = ReviewModel(val_y, y_after_predict)\n",
    "test1 = ReviewModel(val_y, y_after_predict,baseline_preds,'r2')\n",
    "# test.val_y = pd.Series([1,2,3])"
   ]
  },
  {
   "cell_type": "code",
   "execution_count": 113,
   "metadata": {},
   "outputs": [
    {
     "name": "stdout",
     "output_type": "stream",
     "text": [
      "[2967, 2968, 2974, 2976, 2979]\n",
      "[2964, 2950, 2972, 2980, 2981]\n"
     ]
    }
   ],
   "source": [
    "test.chooseTheBestHyperParameter()"
   ]
  },
  {
   "cell_type": "code",
   "execution_count": 114,
   "metadata": {},
   "outputs": [
    {
     "data": {
      "text/plain": [
       "[[2967, 2968, 2974, 2976, 2979], [2964, 2950, 2972, 2980, 2981]]"
      ]
     },
     "execution_count": 114,
     "metadata": {},
     "output_type": "execute_result"
    }
   ],
   "source": [
    "test.distance"
   ]
  },
  {
   "cell_type": "code",
   "execution_count": 115,
   "metadata": {},
   "outputs": [
    {
     "data": {
      "text/plain": [
       "[[1, 0, 0, 0, 0], [0, 1, 0, 0, 0]]"
      ]
     },
     "execution_count": 115,
     "metadata": {},
     "output_type": "execute_result"
    }
   ],
   "source": [
    "test.bestModel"
   ]
  },
  {
   "cell_type": "code",
   "execution_count": 116,
   "metadata": {},
   "outputs": [],
   "source": [
    "test.chooseTheBestModel()"
   ]
  },
  {
   "cell_type": "code",
   "execution_count": 117,
   "metadata": {},
   "outputs": [
    {
     "data": {
      "text/plain": [
       "1"
      ]
     },
     "execution_count": 117,
     "metadata": {},
     "output_type": "execute_result"
    }
   ],
   "source": [
    "test.best"
   ]
  },
  {
   "cell_type": "code",
   "execution_count": 118,
   "metadata": {},
   "outputs": [
    {
     "name": "stdout",
     "output_type": "stream",
     "text": [
      "[-14.707678546763718, -15.731831208965179, -15.617842593965989, -16.227971817782525, -15.113278856403607]\n",
      "[-14.846385537348471, -15.696350217437104, -14.188260137814883, -15.923347349212975, -16.74479674363721]\n"
     ]
    }
   ],
   "source": [
    "binaryArray,bestIndex = test1.calculate()"
   ]
  },
  {
   "cell_type": "code",
   "execution_count": 119,
   "metadata": {},
   "outputs": [
    {
     "data": {
      "text/plain": [
       "[[1, 0, 0, 0, 0], [0, 0, 1, 0, 0]]"
      ]
     },
     "execution_count": 119,
     "metadata": {},
     "output_type": "execute_result"
    }
   ],
   "source": [
    "binaryArray"
   ]
  },
  {
   "cell_type": "code",
   "execution_count": 120,
   "metadata": {},
   "outputs": [
    {
     "data": {
      "text/plain": [
       "1"
      ]
     },
     "execution_count": 120,
     "metadata": {},
     "output_type": "execute_result"
    }
   ],
   "source": [
    "bestIndex"
   ]
  },
  {
   "cell_type": "code",
   "execution_count": 121,
   "metadata": {},
   "outputs": [
    {
     "data": {
      "text/plain": [
       "[[-14.707678546763718,\n",
       "  -15.731831208965179,\n",
       "  -15.617842593965989,\n",
       "  -16.227971817782525,\n",
       "  -15.113278856403607],\n",
       " [-14.846385537348471,\n",
       "  -15.696350217437104,\n",
       "  -14.188260137814883,\n",
       "  -15.923347349212975,\n",
       "  -16.74479674363721]]"
      ]
     },
     "execution_count": 121,
     "metadata": {},
     "output_type": "execute_result"
    }
   ],
   "source": [
    "test1.distance"
   ]
  },
  {
   "cell_type": "code",
   "execution_count": null,
   "metadata": {},
   "outputs": [],
   "source": []
  }
 ],
 "metadata": {
  "kernelspec": {
   "display_name": "Python 3",
   "language": "python",
   "name": "python3"
  },
  "language_info": {
   "codemirror_mode": {
    "name": "ipython",
    "version": 3
   },
   "file_extension": ".py",
   "mimetype": "text/x-python",
   "name": "python",
   "nbconvert_exporter": "python",
   "pygments_lexer": "ipython3",
   "version": "3.8.3"
  }
 },
 "nbformat": 4,
 "nbformat_minor": 4
}
