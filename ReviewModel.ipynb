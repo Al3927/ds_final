{
 "cells": [
  {
   "cell_type": "code",
   "execution_count": 1,
   "metadata": {},
   "outputs": [],
   "source": [
    "import pandas as pd\n",
    "import numpy as np"
   ]
  },
  {
   "cell_type": "code",
   "execution_count": 11,
   "metadata": {},
   "outputs": [],
   "source": [
    "class ReviewModel():\n",
    "    #y_after_predict: 3-dimension array\n",
    "    #y_after_predict[model type index][model series squecence in specific hypa index][y_value_after_predict index]\n",
    "    y_after_predict = [[[]]]\n",
    "    val_y = pd.Series([],dtype=pd.StringDtype()) \n",
    "    \n",
    "    bestModel = [[]] # binary, mark index of the best\n",
    "    #Distance between y_after_predict and val_y\n",
    "    distance = [[]]\n",
    "    #Index of <Model type> element in y_after_predict have the best result\n",
    "    best = 0\n",
    "    def __init__(self,val_y,y_after_predict):\n",
    "        self.val_y = val_y\n",
    "        self.y_after_predict = y_after_predict\n",
    "#         self.bestModel.reshape(y_after_predict.shape)\n",
    "#         self.minDistance.reshape(y_after_predict.shape)\n",
    "        pass\n",
    "    def HausdoffDistanceBetween_xAndA(self,x,A):\n",
    "        minn = float('inf')\n",
    "        for a in A:\n",
    "            if abs(x-a) < minn:\n",
    "                minn = abs(x-a)\n",
    "        return minn\n",
    "    def HausdoffDistanceBetween_AAndB(self,A,B):\n",
    "        maxx = -float('inf')\n",
    "        max1 = -float('inf')\n",
    "        max2 = -float('inf')\n",
    "        for a in A:\n",
    "            temp = self.HausdoffDistanceBetween_xAndA(a,B)\n",
    "            if temp > max1:\n",
    "                max1 = temp\n",
    "        for b in B:\n",
    "            temp = self.HausdoffDistanceBetween_xAndA(b,A)\n",
    "            if temp > max2:\n",
    "                max2 = temp\n",
    "        if max1 > max2:\n",
    "            maxx = max1\n",
    "        else:\n",
    "            maxx = max2\n",
    "        return maxx\n",
    "        pass\n",
    "    def chooseTheBestHyperParameter(self):\n",
    "        distance = [0]\n",
    "        binaryArray=[0]\n",
    "        self.distance.clear()\n",
    "        self.bestModel.clear()\n",
    "        for modelType in self.y_after_predict:\n",
    "            distance.clear()\n",
    "            binaryArray.clear()\n",
    "            for modelHypa in modelType:\n",
    "                distance.append(self.HausdoffDistanceBetween_AAndB(modelHypa,val_y))\n",
    "                binaryArray.append(0)\n",
    "                print(distance)\n",
    "            self.distance.append(distance.copy())\n",
    "            binaryArray[distance.index(min(distance))] = 1\n",
    "            self.bestModel.append(binaryArray.copy())\n",
    "    \n",
    "    def chooseTheBestModel(self):\n",
    "        i = 0\n",
    "        distance = []\n",
    "        distance.clear()\n",
    "        for modelType in self.y_after_predict:\n",
    "            # print series have the best result in this model type\n",
    "#             print(modelType[self.bestModel[i].index(max(self.bestModel[i]))])\n",
    "#             modelType[self.bestModel[i].index(max(self.bestModel[i]))]\n",
    "            # print min distance in this model type\n",
    "#             print(self.distance[i][self.bestModel[i].index(max(self.bestModel[i]))])\n",
    "            distance.append(self.distance[i][self.bestModel[i].index(max(self.bestModel[i]))])\n",
    "            i += 1\n",
    "        self.best = distance.index(min(distance))\n",
    "        pass\n",
    "    def calculate(self):\n",
    "        self.chooseTheBestHyperParameter()\n",
    "        self.chooseTheBestModel()\n",
    "        return self.bestModel, self.best\n",
    "            \n",
    "    def __del__(self):\n",
    "        pass\n",
    "    pass"
   ]
  },
  {
   "cell_type": "code",
   "execution_count": 12,
   "metadata": {},
   "outputs": [
    {
     "data": {
      "text/plain": [
       "array([[[10, 20, 30],\n",
       "        [ 4,  5,  6],\n",
       "        [ 7,  0,  9]],\n",
       "\n",
       "       [[10, 11, 12],\n",
       "        [ 2,  1,  3],\n",
       "        [ 3,  2,  1]]])"
      ]
     },
     "execution_count": 12,
     "metadata": {},
     "output_type": "execute_result"
    }
   ],
   "source": [
    "val_y = np.array([10,2,3])\n",
    "# df_1 = pd.DataFrame()\n",
    "# df_1[0] = [6,7,8]\n",
    "# df_1[1] = [2,3,4]\n",
    "# df_2 = pd.DataFrame()\n",
    "# df_2[0] = [4,5,3]\n",
    "# df_2[1] = [9,7,2]\n",
    "arr = np.array([10, 20, 30, 4, 5, 6, 7, 0, 9, 10, 11, 12, 2, 1, 3, 3, 2, 1])\n",
    "\n",
    "newarr = arr.reshape(2, 3, 3)\n",
    "newarr\n",
    "# df[0].reshape(df_1.shape)\n",
    "# df[1].reshape(df_2.shape)\n",
    "# df[0] = df_1\n",
    "# df[1] = df_2"
   ]
  },
  {
   "cell_type": "code",
   "execution_count": 13,
   "metadata": {},
   "outputs": [],
   "source": [
    "test = ReviewModel(val_y, newarr)\n",
    "test.val_y = pd.Series([1,2,3])"
   ]
  },
  {
   "cell_type": "code",
   "execution_count": 14,
   "metadata": {},
   "outputs": [
    {
     "name": "stdout",
     "output_type": "stream",
     "text": [
      "[20]\n",
      "[20, 4]\n",
      "[20, 4, 3]\n",
      "[8]\n",
      "[8, 7]\n",
      "[8, 7, 7]\n"
     ]
    }
   ],
   "source": [
    "test.chooseTheBestHyperParameter()"
   ]
  },
  {
   "cell_type": "code",
   "execution_count": 15,
   "metadata": {},
   "outputs": [
    {
     "data": {
      "text/plain": [
       "[[20, 4, 3], [8, 7, 7]]"
      ]
     },
     "execution_count": 15,
     "metadata": {},
     "output_type": "execute_result"
    }
   ],
   "source": [
    "test.distance"
   ]
  },
  {
   "cell_type": "code",
   "execution_count": 16,
   "metadata": {},
   "outputs": [
    {
     "data": {
      "text/plain": [
       "[[0, 0, 1], [0, 1, 0]]"
      ]
     },
     "execution_count": 16,
     "metadata": {},
     "output_type": "execute_result"
    }
   ],
   "source": [
    "test.bestModel"
   ]
  },
  {
   "cell_type": "code",
   "execution_count": 17,
   "metadata": {},
   "outputs": [],
   "source": [
    "test.chooseTheBestModel()"
   ]
  },
  {
   "cell_type": "code",
   "execution_count": 18,
   "metadata": {},
   "outputs": [
    {
     "data": {
      "text/plain": [
       "0"
      ]
     },
     "execution_count": 18,
     "metadata": {},
     "output_type": "execute_result"
    }
   ],
   "source": [
    "test.best"
   ]
  },
  {
   "cell_type": "code",
   "execution_count": 21,
   "metadata": {},
   "outputs": [
    {
     "name": "stdout",
     "output_type": "stream",
     "text": [
      "[20]\n",
      "[20, 4]\n",
      "[20, 4, 3]\n",
      "[8]\n",
      "[8, 7]\n",
      "[8, 7, 7]\n"
     ]
    }
   ],
   "source": [
    "binaryArray,bestIndex = test.calculate()"
   ]
  },
  {
   "cell_type": "code",
   "execution_count": 22,
   "metadata": {},
   "outputs": [
    {
     "data": {
      "text/plain": [
       "[[0, 0, 1], [0, 1, 0]]"
      ]
     },
     "execution_count": 22,
     "metadata": {},
     "output_type": "execute_result"
    }
   ],
   "source": [
    "binaryArray"
   ]
  },
  {
   "cell_type": "code",
   "execution_count": 23,
   "metadata": {},
   "outputs": [
    {
     "data": {
      "text/plain": [
       "0"
      ]
     },
     "execution_count": 23,
     "metadata": {},
     "output_type": "execute_result"
    }
   ],
   "source": [
    "bestIndex"
   ]
  },
  {
   "cell_type": "code",
   "execution_count": null,
   "metadata": {},
   "outputs": [],
   "source": []
  }
 ],
 "metadata": {
  "kernelspec": {
   "display_name": "Python 3",
   "language": "python",
   "name": "python3"
  },
  "language_info": {
   "codemirror_mode": {
    "name": "ipython",
    "version": 3
   },
   "file_extension": ".py",
   "mimetype": "text/x-python",
   "name": "python",
   "nbconvert_exporter": "python",
   "pygments_lexer": "ipython3",
   "version": "3.8.3"
  }
 },
 "nbformat": 4,
 "nbformat_minor": 4
}
