{
 "cells": [
  {
   "cell_type": "code",
   "execution_count": 6,
   "metadata": {},
   "outputs": [],
   "source": [
    "class SHOPPEItem:\n",
    "    \n",
    "    name = \"\"\n",
    "    shop_location = \"\"\n",
    "    ctime = 0 # the number of seconds since midnight, January 1, 1970 to the time this item be public.\n",
    "    time_now = 0\n",
    "    sell_time = 0\n",
    "    historical_sold = 0\n",
    "    shopee_verified = 0\n",
    "    discount = 0.0\n",
    "    is_adult = 0\n",
    "    options = 0\n",
    "    show_official_shop_label_in_title = 0\n",
    "    rating_star = 0.0\n",
    "    rating_count = []\n",
    "    five_star = 0\n",
    "    four_star = 0\n",
    "    three_star = 0\n",
    "    two_star = 0\n",
    "    one_star = 0\n",
    "    flash_sale = 0\n",
    "    upcoming_flash_sale = 0\n",
    "    \n",
    "    price_min = 0.0\n",
    "    price_min_before_discount = 0.0\n",
    "    price_max = 0.0\n",
    "    price_max_before_discount = 0.0\n",
    "    price = 0.0\n",
    "    price_before_discount = 0.0\n",
    "    \n",
    "    coin_earn_label = 0\n",
    "    liked_count = 0\n",
    "    view_count = 0\n",
    "    cmt_count = 0\n",
    "    is_preferred_plus_seller = 0\n",
    "    show_free_shipping = 0\n",
    "    images = 0\n",
    "    video_info_list = 0\n",
    "    \n",
    "    def __init__(self):\n",
    "        pass\n",
    "       "
   ]
  },
  {
   "cell_type": "code",
   "execution_count": null,
   "metadata": {},
   "outputs": [],
   "source": []
  }
 ],
 "metadata": {
  "kernelspec": {
   "display_name": "Python 3",
   "language": "python",
   "name": "python3"
  },
  "language_info": {
   "codemirror_mode": {
    "name": "ipython",
    "version": 3
   },
   "file_extension": ".py",
   "mimetype": "text/x-python",
   "name": "python",
   "nbconvert_exporter": "python",
   "pygments_lexer": "ipython3",
   "version": "3.8.3"
  }
 },
 "nbformat": 4,
 "nbformat_minor": 4
}
