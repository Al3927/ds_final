{
 "cells": [
  {
   "cell_type": "code",
   "execution_count": 15,
   "metadata": {},
   "outputs": [],
   "source": [
    "import requests\n",
    "import json\n",
    "import time\n",
    "import urllib"
   ]
  },
  {
   "cell_type": "markdown",
   "metadata": {},
   "source": [
    "# Protocol Delegate"
   ]
  },
  {
   "cell_type": "code",
   "execution_count": 41,
   "metadata": {},
   "outputs": [],
   "source": [
    "class apiServiceDelegate:\n",
    "    def updateDataWhenSuccess(self, json_pydata):\n",
    "        return check\n",
    "        pass\n",
    "    def getDataError(self, error):\n",
    "        return check\n",
    "        pass"
   ]
  },
  {
   "cell_type": "markdown",
   "metadata": {},
   "source": [
    "# API Service"
   ]
  },
  {
   "cell_type": "code",
   "execution_count": 45,
   "metadata": {},
   "outputs": [],
   "source": [
    "class APIService:\n",
    "    delegate = apiServiceDelegate()\n",
    "    params = {}\n",
    "    headers = {}\n",
    "    base_url = \"https://shopee.vn/api/v2/search_items/\"\n",
    "    payload = {\n",
    "            \"by\" : \"relevancy\",\n",
    "            \"categoryids\" : \"\",\n",
    "            \"keyword\" : \"\",\n",
    "            \"limit\" : \"50\",\n",
    "            \"newest\" : \"0\",\n",
    "            \"order\" : \"desc\",\n",
    "            \"page_type\" : \"search\",\n",
    "            \"skip_autocorrect\" : \"1\",\n",
    "            \"version\" : \"2\"\n",
    "        }\n",
    "    \n",
    "    def __init__(self, newest, keyword = \"thoi%20trang%20nu\", categoryids = \"\"):\n",
    "        self.payload = {\n",
    "            \"by\" : \"relevancy\",\n",
    "            \"categoryids\" : categoryids,\n",
    "            \"keyword\" : keyword,\n",
    "            \"limit\" : \"50\",\n",
    "            \"newest\" : newest,\n",
    "            \"order\" : \"desc\",\n",
    "            \"page_type\" : \"search\",\n",
    "            \"skip_autocorrect\" : \"1\",\n",
    "            \"version\" : \"2\"\n",
    "        }\n",
    "        \n",
    "#         self.params = urllib.urlencode(self.payload)\n",
    "        self.params = urllib.parse.urlencode(self.payload, quote_via=urllib.parse.quote)\n",
    "\n",
    "        self.headers = {\n",
    "          'if-none-match-': '55b03-3fd0f4bf7f1503951d3409cbf31998e0',\n",
    "          'cookie': 'SPC_IA=-1; SPC_F=xy8cDlkhDlqLeCmJKA43hs8UvmvwNAdV; REC_T_ID=527dc03e-e820-11ea-af33-3c15fb3aee63; _fbp=fb.1.1598503612222.1102617144; G_ENABLED_IDPS=google; SPC_CLIENTID=xy8cDlkhDlqLeCmJrfeazpkeljwtewtt; csrftoken=uBzcFbopA2X4oZMfFC2ZxJnd0pIMfdgr; welcomePkgShown=true; _hjid=61a2a48d-3cdf-4387-8dd0-e402b2c830d9; SPC_EC=-; SPC_U=-; _gcl_au=1.1.2002568888.1609424355; _med=refer; _fbc=fb.1.1609424355495.IwAR2MCCDPf3Bd58M7moDMbDtlh_AECwYVZ1GzpVngTYY4ynpD6Vz7hXu9G5Q; SPC_SI=bfftocvn.nkCIcFHX86pnYTjYLpnhBMJZWMXw2Xt3; _gid=GA1.2.1679848950.1609554969; SPC_CT_06c39b1c=\"1609657564.jgiHYvG56Z2WGUVR5C5CEyCaqWCBAMljlpi7Sqq0B/8=\"; AMP_TOKEN=%24NOT_FOUND; _dc_gtm_UA-61914164-6=1; _ga_M32T05RVZT=GS1.1.1609657554.14.1.1609657561.0; _ga=GA1.1.1996604151.1598503618; SPC_R_T_ID=\"LwXdQgt3pW5R0zy4Q9W04FVunzyJdzy1T9cLVtbRShHsUVKI1CwTvJlXKPNOTvax3C81kk/bT5/hQhb7waYlovnGcKfxdvzq/itFTzp6rfw=\"; SPC_T_IV=\"OEzMsA+uR46+cRTV3BtHow==\"; SPC_R_T_IV=\"OEzMsA+uR46+cRTV3BtHow==\"; SPC_T_ID=\"LwXdQgt3pW5R0zy4Q9W04FVunzyJdzy1T9cLVtbRShHsUVKI1CwTvJlXKPNOTvax3C81kk/bT5/hQhb7waYlovnGcKfxdvzq/itFTzp6rfw=\"; SPC_R_T_ID=\"9gS7RbDrxta/PjmvTcCB+8O6ayoKE17YRHL7KfL3+x8jabYljSb+seVGVbkkjVOBzL7Og1Ru4GJI8RxSsumF+5mNLva2i9dE8K2AdjWlhCY=\"; SPC_T_IV=\"6erDrGN3mb1k5wS4QCUKcg==\"; SPC_R_T_IV=\"6erDrGN3mb1k5wS4QCUKcg==\"; SPC_T_ID=\"9gS7RbDrxta/PjmvTcCB+8O6ayoKE17YRHL7KfL3+x8jabYljSb+seVGVbkkjVOBzL7Og1Ru4GJI8RxSsumF+5mNLva2i9dE8K2AdjWlhCY=\"; SPC_CT_9520cad2=\"1610631640.xO462+fwbkbaIoDRXtOzEjF6qAJFVo9PRAWbQpTEVUA=\"',\n",
    "          'if-none-match': 'dd1a0ad3dcc8622196f56bcd514c3e06'\n",
    "        }\n",
    "\n",
    "    def get(self):\n",
    "        try:\n",
    "            self.response = requests.get(self.base_url, params = self.params, headers=self.headers)\n",
    "            self.json_pydata = json.loads(self.response.text)\n",
    "            return self.delegate.updateDataWhenSuccess(self.json_pydata)\n",
    "        except Exception as error:\n",
    "            return self.delegate.getDataError(error)\n",
    "#         return self.json_pydata\n",
    "    def setNewest(self, newest):\n",
    "        self.newest = newest\n",
    "        self.payload['newest'] = self.newest\n",
    "        self.params = urllib.parse.urlencode(self.payload, quote_via=urllib.parse.quote)\n",
    "        pass\n",
    "    def __del__(self):\n",
    "        pass\n",
    "    pass"
   ]
  },
  {
   "cell_type": "code",
   "execution_count": null,
   "metadata": {},
   "outputs": [],
   "source": []
  },
  {
   "cell_type": "code",
   "execution_count": null,
   "metadata": {},
   "outputs": [],
   "source": []
  }
 ],
 "metadata": {
  "kernelspec": {
   "display_name": "Python 3",
   "language": "python",
   "name": "python3"
  },
  "language_info": {
   "codemirror_mode": {
    "name": "ipython",
    "version": 3
   },
   "file_extension": ".py",
   "mimetype": "text/x-python",
   "name": "python",
   "nbconvert_exporter": "python",
   "pygments_lexer": "ipython3",
   "version": "3.8.3"
  }
 },
 "nbformat": 4,
 "nbformat_minor": 4
}
