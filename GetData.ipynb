{
 "cells": [
  {
   "cell_type": "code",
   "execution_count": 78,
   "metadata": {},
   "outputs": [],
   "source": [
    "# import import_ipynb\n",
    "# import ItemModel\n",
    "# import APIService\n",
    "%run ItemModel.ipynb\n",
    "%run APIService.ipynb\n"
   ]
  },
  {
   "cell_type": "code",
   "execution_count": 96,
   "metadata": {},
   "outputs": [],
   "source": [
    "class GetData:\n",
    "    newest = 0\n",
    "    items_json = []\n",
    "    all_items = [] #ItemModel.SHOPPEItem\n",
    "    itemModel = SHOPPEItem()\n",
    "    i = 1\n",
    "    def __init__(self):\n",
    "        pass\n",
    "    \n",
    "    def getData(self):\n",
    "        while True:\n",
    "            try:\n",
    "                json_pydata = APIService(self.newest).get()\n",
    "                print(len(json_pydata))\n",
    "                print(f'get! {self.i}')\n",
    "                self.items_json.extend(json_pydata['items'])\n",
    "        \n",
    "                self.newest += 50\n",
    "                self.i += 1\n",
    "        \n",
    "                time.sleep(3)\n",
    "            except Exception as e:\n",
    "                print(f'Error: {e}')\n",
    "                break\n",
    "        pass\n",
    "    \n",
    "    def parseData(self):\n",
    "        for item in self.items_json:\n",
    "            itemModel = SHOPPEItem()\n",
    "            itemModel.name = item['name']\n",
    "            itemModel.shop_location = item['shop_location']\n",
    "            itemModel.historical_sold = item['historical_sold']\n",
    "            itemModel.sold = item['sold']\n",
    "            itemModel.shopee_verified = item['shopee_verified']\n",
    "            itemModel.discount = item['discount']\n",
    "            itemModel.is_adult = item['is_adult']\n",
    "            for tier_variation in item['tier_variations']:\n",
    "                itemModel.options = len(tier_variation['options'])\n",
    "            itemModel.show_official_shop_label_in_title = item['show_official_shop_label_in_title']\n",
    "            itemModel.rating_star = item['item_rating']['rating_star']\n",
    "            itemModel.rating_count = item['item_rating']['rating_count']\n",
    "            itemModel.flash_sale = item['flash_sale']\n",
    "            itemModel.upcoming_flash_sale = item['upcoming_flash_sale']\n",
    "            itemModel.price_min = item['price_min']\n",
    "            itemModel.price_min_before_discount = item['price_min_before_discount']\n",
    "            \n",
    "            itemModel.price_max = item['price_max']\n",
    "            itemModel.price_max_before_discount = item['price_max_before_discount']\n",
    "            itemModel.price = item['price']\n",
    "            itemModel.price_before_discount = item['price_before_discount']\n",
    "            itemModel.coin_earn_label = item['coin_earn_label']\n",
    "            itemModel.liked_count = item['liked_count']\n",
    "            itemModel.view_count = item['view_count']\n",
    "            itemModel.cmt_count = item['cmt_count']\n",
    "            itemModel.is_preferred_plus_seller = item['is_preferred_plus_seller']\n",
    "            itemModel.show_free_shipping = item['show_free_shipping']\n",
    "            itemModel.images = len(item['images'])\n",
    "            itemModel.video_info_list = len(item['video_info_list'])\n",
    "            self.all_items.append(itemModel)\n",
    "        pass\n",
    "    pass"
   ]
  },
  {
   "cell_type": "code",
   "execution_count": 97,
   "metadata": {},
   "outputs": [],
   "source": [
    "getData = GetData()"
   ]
  },
  {
   "cell_type": "code",
   "execution_count": 98,
   "metadata": {},
   "outputs": [
    {
     "name": "stdout",
     "output_type": "stream",
     "text": [
      "17\n",
      "get! 1\n",
      "Error: Expecting value: line 1 column 1 (char 0)\n"
     ]
    }
   ],
   "source": [
    "getData.getData()\n"
   ]
  },
  {
   "cell_type": "code",
   "execution_count": 99,
   "metadata": {},
   "outputs": [],
   "source": [
    "getData.parseData()"
   ]
  },
  {
   "cell_type": "code",
   "execution_count": 103,
   "metadata": {},
   "outputs": [
    {
     "data": {
      "text/plain": [
       "'(Hàng sịn ) Quần Âu Nam Đẹp KOREA vải mịn dáng slimfit phong cách Hàn Quốc đẳng cấp Thời trang nam'"
      ]
     },
     "execution_count": 103,
     "metadata": {},
     "output_type": "execute_result"
    }
   ],
   "source": [
    "getData.all_items[10].name"
   ]
  },
  {
   "cell_type": "code",
   "execution_count": null,
   "metadata": {},
   "outputs": [],
   "source": []
  }
 ],
 "metadata": {
  "kernelspec": {
   "display_name": "Python 3",
   "language": "python",
   "name": "python3"
  },
  "language_info": {
   "codemirror_mode": {
    "name": "ipython",
    "version": 3
   },
   "file_extension": ".py",
   "mimetype": "text/x-python",
   "name": "python",
   "nbconvert_exporter": "python",
   "pygments_lexer": "ipython3",
   "version": "3.8.3"
  }
 },
 "nbformat": 4,
 "nbformat_minor": 4
}
