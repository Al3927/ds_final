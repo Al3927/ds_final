{
 "cells": [
  {
   "cell_type": "code",
   "execution_count": 15,
   "metadata": {},
   "outputs": [],
   "source": [
    "import requests\n",
    "import json\n",
    "import time\n",
    "import urllib"
   ]
  },
  {
   "cell_type": "code",
   "execution_count": 28,
   "metadata": {},
   "outputs": [],
   "source": [
    "class APIService:\n",
    "    params = {}\n",
    "    headers = {}\n",
    "    base_url = \"https://shopee.vn/api/v2/search_items/\"\n",
    "    payload = {\n",
    "            \"by\" : \"relevancy\",\n",
    "            \"categoryids\" : \"\",\n",
    "            \"keyword\" : \"\",\n",
    "            \"limit\" : \"50\",\n",
    "            \"newest\" : \"0\",\n",
    "            \"order\" : \"desc\",\n",
    "            \"page_type\" : \"search\",\n",
    "            \"skip_autocorrect\" : \"1\",\n",
    "            \"version\" : \"2\"\n",
    "        }\n",
    "    \n",
    "    def __init__(self, newest, keyword = \"thoi%20trang%20nu\", categoryids = \"\"):\n",
    "        self.payload = {\n",
    "            \"by\" : \"relevancy\",\n",
    "            \"categoryids\" : categoryids,\n",
    "            \"keyword\" : keyword,\n",
    "            \"limit\" : \"50\",\n",
    "            \"newest\" : newest,\n",
    "            \"order\" : \"desc\",\n",
    "            \"page_type\" : \"search\",\n",
    "            \"skip_autocorrect\" : \"1\",\n",
    "            \"version\" : \"2\"\n",
    "        }\n",
    "        \n",
    "#         self.params = urllib.urlencode(self.payload)\n",
    "        self.params = urllib.parse.urlencode(self.payload, quote_via=urllib.parse.quote)\n",
    "\n",
    "        headers = {\n",
    "          'authority': 'shopee.vn',\n",
    "          'sec-ch-ua': '\"Google Chrome\";v=\"87\", \" Not;A Brand\";v=\"99\", \"Chromium\";v=\"87\"',\n",
    "          'x-shopee-language': 'vi',\n",
    "          'x-requested-with': 'XMLHttpRequest',\n",
    "          'if-none-match-': '55b03-3fd0f4bf7f1503951d3409cbf31998e0',\n",
    "          'sec-ch-ua-mobile': '?0',\n",
    "          'user-agent': 'Mozilla/5.0 (Windows NT 10.0; Win64; x64) AppleWebKit/537.36 (KHTML, like Gecko) Chrome/87.0.4280.88 Safari/537.36 FS',\n",
    "          'x-api-source': 'pc',\n",
    "          'accept': '*/*',\n",
    "          'sec-fetch-site': 'same-origin',\n",
    "          'sec-fetch-mode': 'cors',\n",
    "          'sec-fetch-dest': 'empty',\n",
    "          'referer': f'https://shopee.vn/search?facet={categoryids}&keyword={keyword}&noCorrection=true&page=0',\n",
    "          'accept-language': 'vi-VN,vi;q=0.9,fr-FR;q=0.8,fr;q=0.7,en-US;q=0.6,en;q=0.5',\n",
    "          'cookie': 'SPC_IA=-1; SPC_F=xy8cDlkhDlqLeCmJKA43hs8UvmvwNAdV; REC_T_ID=527dc03e-e820-11ea-af33-3c15fb3aee63; _fbp=fb.1.1598503612222.1102617144; G_ENABLED_IDPS=google; SPC_CLIENTID=xy8cDlkhDlqLeCmJrfeazpkeljwtewtt; csrftoken=uBzcFbopA2X4oZMfFC2ZxJnd0pIMfdgr; welcomePkgShown=true; _hjid=61a2a48d-3cdf-4387-8dd0-e402b2c830d9; SPC_EC=-; SPC_U=-; _gcl_au=1.1.2002568888.1609424355; _med=refer; _fbc=fb.1.1609424355495.IwAR2MCCDPf3Bd58M7moDMbDtlh_AECwYVZ1GzpVngTYY4ynpD6Vz7hXu9G5Q; SPC_SI=bfftocvn.nkCIcFHX86pnYTjYLpnhBMJZWMXw2Xt3; _gid=GA1.2.1679848950.1609554969; SPC_CT_06c39b1c=\"1609657564.jgiHYvG56Z2WGUVR5C5CEyCaqWCBAMljlpi7Sqq0B/8=\"; AMP_TOKEN=%24NOT_FOUND; _dc_gtm_UA-61914164-6=1; _ga_M32T05RVZT=GS1.1.1609657554.14.1.1609657561.0; _ga=GA1.1.1996604151.1598503618; SPC_R_T_ID=\"LwXdQgt3pW5R0zy4Q9W04FVunzyJdzy1T9cLVtbRShHsUVKI1CwTvJlXKPNOTvax3C81kk/bT5/hQhb7waYlovnGcKfxdvzq/itFTzp6rfw=\"; SPC_T_IV=\"OEzMsA+uR46+cRTV3BtHow==\"; SPC_R_T_IV=\"OEzMsA+uR46+cRTV3BtHow==\"; SPC_T_ID=\"LwXdQgt3pW5R0zy4Q9W04FVunzyJdzy1T9cLVtbRShHsUVKI1CwTvJlXKPNOTvax3C81kk/bT5/hQhb7waYlovnGcKfxdvzq/itFTzp6rfw=\"; SPC_R_T_ID=\"B9MiYjvQImweFpgLy/pu8U9cF4IM6kIDhm2Uo7kHgxP2XTVaqd3Sr6YHb7yApXoM03spHDo0L+LnlutFwPuhPJJst1GEq4IL5on6p8vK/vI=\"; SPC_T_IV=\"H4KOhS2fFfjygPdHOAi5Yw==\"; SPC_R_T_IV=\"H4KOhS2fFfjygPdHOAi5Yw==\"; SPC_T_ID=\"B9MiYjvQImweFpgLy/pu8U9cF4IM6kIDhm2Uo7kHgxP2XTVaqd3Sr6YHb7yApXoM03spHDo0L+LnlutFwPuhPJJst1GEq4IL5on6p8vK/vI=\"; SPC_CT_9520cad2=\"1609658083.hkAmLXaMESeLqDv+IgY7ZgDY1g8OlbPIbCoInJw1Etk=\"',\n",
    "          'if-none-match': 'dd1a0ad3dcc8622196f56bcd514c3e06'\n",
    "        }\n",
    "\n",
    "    def get(self):\n",
    "        self.response = requests.get(self.base_url, params = self.params, headers=self.headers)\n",
    "        self.json_pydata = json.loads(self.response.text)\n",
    "        return self.json_pydata\n",
    "    def setNewest(self, newest):\n",
    "        self.newest = newest\n",
    "        self.payload['newest'] = self.newest\n",
    "        self.params = urllib.parse.urlencode(self.payload, quote_via=urllib.parse.quote)\n",
    "        pass\n",
    "    def __del__(self):\n",
    "        pass\n",
    "    pass"
   ]
  },
  {
   "cell_type": "code",
   "execution_count": null,
   "metadata": {},
   "outputs": [],
   "source": []
  },
  {
   "cell_type": "code",
   "execution_count": null,
   "metadata": {},
   "outputs": [],
   "source": []
  }
 ],
 "metadata": {
  "kernelspec": {
   "display_name": "Python 3",
   "language": "python",
   "name": "python3"
  },
  "language_info": {
   "codemirror_mode": {
    "name": "ipython",
    "version": 3
   },
   "file_extension": ".py",
   "mimetype": "text/x-python",
   "name": "python",
   "nbconvert_exporter": "python",
   "pygments_lexer": "ipython3",
   "version": "3.8.3"
  }
 },
 "nbformat": 4,
 "nbformat_minor": 4
}
