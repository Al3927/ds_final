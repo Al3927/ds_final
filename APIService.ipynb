{
 "cells": [
  {
   "cell_type": "code",
   "execution_count": 1,
   "metadata": {},
   "outputs": [],
   "source": [
    "import requests\n",
    "import json\n",
    "import time"
   ]
  },
  {
   "cell_type": "code",
   "execution_count": 8,
   "metadata": {},
   "outputs": [],
   "source": [
    "class APIService:\n",
    "    payload = {}\n",
    "    def __init__(self, newest):\n",
    "        self.url = f\"https://shopee.vn/api/v2/search_items/?by=relevancy&keyword=thoi%20trang%20nam&limit=50&newest={newest}&order=desc&page_type=search&version=2\"\n",
    "\n",
    "        self.payload={}\n",
    "        self.headers = {\n",
    "          'authority': 'shopee.vn',\n",
    "          'sec-ch-ua': '\"Google Chrome\";v=\"87\", \" Not;A Brand\";v=\"99\", \"Chromium\";v=\"87\"',\n",
    "          'x-shopee-language': 'vi',\n",
    "          'x-requested-with': 'XMLHttpRequest',\n",
    "          'if-none-match-': '55b03-dceaa180c1eeddc86ba1970534386c5f',\n",
    "          'sec-ch-ua-mobile': '?0',\n",
    "          'user-agent': 'Mozilla/5.0 (Windows NT 10.0; Win64; x64) AppleWebKit/537.36 (KHTML, like Gecko) Chrome/87.0.4280.88 Safari/537.36 FS',\n",
    "          'x-api-source': 'pc',\n",
    "          'accept': '*/*',\n",
    "          'sec-fetch-site': 'same-origin',\n",
    "          'sec-fetch-mode': 'cors',\n",
    "          'sec-fetch-dest': 'empty',\n",
    "          'referer': 'https://shopee.vn/search?keyword=thoi%20trang%20nam',\n",
    "          'accept-language': 'vi-VN,vi;q=0.9,fr-FR;q=0.8,fr;q=0.7,en-US;q=0.6,en;q=0.5',\n",
    "          'cookie': 'SPC_IA=-1; SPC_F=xy8cDlkhDlqLeCmJKA43hs8UvmvwNAdV; REC_T_ID=527dc03e-e820-11ea-af33-3c15fb3aee63; _fbp=fb.1.1598503612222.1102617144; G_ENABLED_IDPS=google; SPC_CLIENTID=xy8cDlkhDlqLeCmJrfeazpkeljwtewtt; csrftoken=uBzcFbopA2X4oZMfFC2ZxJnd0pIMfdgr; welcomePkgShown=true; _hjid=61a2a48d-3cdf-4387-8dd0-e402b2c830d9; SPC_EC=-; SPC_U=-; _gcl_au=1.1.2002568888.1609424355; _med=refer; _fbc=fb.1.1609424355495.IwAR2MCCDPf3Bd58M7moDMbDtlh_AECwYVZ1GzpVngTYY4ynpD6Vz7hXu9G5Q; SPC_SI=bfftocvn.nkCIcFHX86pnYTjYLpnhBMJZWMXw2Xt3; _gid=GA1.2.1679848950.1609554969; AMP_TOKEN=%24NOT_FOUND; SPC_CT_31a5d522=\"1609583997.OD5XCU5+jAPxKwPd54DjKzZm9Fa5PPcFqG7x87mh2AU=\"; _ga_M32T05RVZT=GS1.1.1609583950.8.1.1609583996.0; _ga=GA1.1.1996604151.1598503618; SPC_R_T_ID=\"bPJ6LY3RrF7Py+g1wi4XhhvsPwyMt1Uh7xjxdniHAC6CGqNvOCfjvwUV97BCaeYAh8KP1F1AqqweJSAVOGQFD68NsUA7G2b9Pvr6ED5KaYg=\"; SPC_T_IV=\"kcC32xZH420aFQbqmOf1ng==\"; SPC_R_T_IV=\"kcC32xZH420aFQbqmOf1ng==\"; SPC_T_ID=\"bPJ6LY3RrF7Py+g1wi4XhhvsPwyMt1Uh7xjxdniHAC6CGqNvOCfjvwUV97BCaeYAh8KP1F1AqqweJSAVOGQFD68NsUA7G2b9Pvr6ED5KaYg=\"; SPC_R_T_ID=\"ZBV9lwcJvBfGFHW06oiZ8Fs38bUc3MkkZ/+g08kY0zx98XgkCpD4MGdzyhiQqAfND2qK4WRpuyHP0NIab1OWEPbwVz3a+OQ0WxxE0NQfSzA=\"; SPC_T_IV=\"xE7S3rUv8zMwHM5yEhlQEA==\"; SPC_R_T_IV=\"xE7S3rUv8zMwHM5yEhlQEA==\"; SPC_T_ID=\"ZBV9lwcJvBfGFHW06oiZ8Fs38bUc3MkkZ/+g08kY0zx98XgkCpD4MGdzyhiQqAfND2qK4WRpuyHP0NIab1OWEPbwVz3a+OQ0WxxE0NQfSzA=\"',\n",
    "          'if-none-match': '7321ef0605d99cd571458a8fe555de4b'\n",
    "        }\n",
    "        \n",
    "    def get(self):\n",
    "        self.response = requests.request(\"GET\", self.url, headers=self.headers, data=self.payload)\n",
    "        self.json_pydata = json.loads(self.response.text)\n",
    "        \n",
    "        return self.json_pydata"
   ]
  },
  {
   "cell_type": "code",
   "execution_count": null,
   "metadata": {},
   "outputs": [],
   "source": []
  }
 ],
 "metadata": {
  "kernelspec": {
   "display_name": "Python 3",
   "language": "python",
   "name": "python3"
  },
  "language_info": {
   "codemirror_mode": {
    "name": "ipython",
    "version": 3
   },
   "file_extension": ".py",
   "mimetype": "text/x-python",
   "name": "python",
   "nbconvert_exporter": "python",
   "pygments_lexer": "ipython3",
   "version": "3.8.3"
  }
 },
 "nbformat": 4,
 "nbformat_minor": 4
}
