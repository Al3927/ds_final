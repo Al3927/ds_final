{
 "cells": [
  {
   "cell_type": "code",
   "execution_count": 11,
   "metadata": {},
   "outputs": [],
   "source": [
    "import requests\n",
    "import json\n",
    "import time"
   ]
  },
  {
   "cell_type": "code",
   "execution_count": 8,
   "metadata": {},
   "outputs": [],
   "source": [
    "class APIService:\n",
    "    payload = {}\n",
    "    headers = {}\n",
    "    base_url = \"https://shopee.vn/api/v2/search_items/\"\n",
    "    params = {\n",
    "            \"by\" : \"relevancy\",\n",
    "            \"categoryids\" : \"\",\n",
    "            \"keyword\" : \"\",\n",
    "            \"limit\" : \"50\",\n",
    "            \"newest\" : \"0\",\n",
    "            \"order\" : \"desc\",\n",
    "            \"page_type\" : \"search\",\n",
    "            \"skip_autocorrect\" : \"1\",\n",
    "            \"version\" : \"2\"\n",
    "        }\n",
    "    \n",
    "    def __init__(self, newest, keyword = \"thoi%20trang%20nu\", categoryids = \"\"):\n",
    "        self.params = {\n",
    "            \"by\" : \"relevancy\",\n",
    "            \"categoryids\" : categoryids,\n",
    "            \"keyword\" : keyword,\n",
    "            \"limit\" : \"50\",\n",
    "            \"newest\" : newest,\n",
    "            \"order\" : \"desc\",\n",
    "            \"page_type\" : \"search\",\n",
    "            \"skip_autocorrect\" : \"1\",\n",
    "            \"version\" : \"2\"\n",
    "        }\n",
    "        self.url = f\"https://shopee.vn/api/v2/search_items/?by=relevancy&keyword={keyword}&limit=50&newest={newest}&order=desc&page_type=search&version=2\"\n",
    "\n",
    "        self.payload={}\n",
    "        self.headers = {\n",
    "          'authority': 'shopee.vn',\n",
    "          'sec-ch-ua': '\"Google Chrome\";v=\"87\", \" Not;A Brand\";v=\"99\", \"Chromium\";v=\"87\"',\n",
    "          'x-shopee-language': 'vi',\n",
    "          'x-requested-with': 'XMLHttpRequest',\n",
    "          'if-none-match-': '55b03-ac8f88d7d404c82e877238368d5b4421',\n",
    "          'sec-ch-ua-mobile': '?0',\n",
    "          'user-agent': 'Mozilla/5.0 (Windows NT 10.0; Win64; x64) AppleWebKit/537.36 (KHTML, like Gecko) Chrome/87.0.4280.88 Safari/537.36 FS',\n",
    "          'x-api-source': 'pc',\n",
    "          'accept': '*/*',\n",
    "          'sec-fetch-site': 'same-origin',\n",
    "          'sec-fetch-mode': 'cors',\n",
    "          'sec-fetch-dest': 'empty',\n",
    "          #'referer': f'https://shopee.vn/search?keyword={keyword}',\n",
    "          'accept-language': 'vi-VN,vi;q=0.9,fr-FR;q=0.8,fr;q=0.7,en-US;q=0.6,en;q=0.5',\n",
    "          'cookie': 'SPC_IA=-1; SPC_F=xy8cDlkhDlqLeCmJKA43hs8UvmvwNAdV; REC_T_ID=527dc03e-e820-11ea-af33-3c15fb3aee63; _fbp=fb.1.1598503612222.1102617144; G_ENABLED_IDPS=google; SPC_CLIENTID=xy8cDlkhDlqLeCmJrfeazpkeljwtewtt; csrftoken=uBzcFbopA2X4oZMfFC2ZxJnd0pIMfdgr; welcomePkgShown=true; _hjid=61a2a48d-3cdf-4387-8dd0-e402b2c830d9; SPC_EC=-; SPC_U=-; _gcl_au=1.1.2002568888.1609424355; _med=refer; _fbc=fb.1.1609424355495.IwAR2MCCDPf3Bd58M7moDMbDtlh_AECwYVZ1GzpVngTYY4ynpD6Vz7hXu9G5Q; SPC_SI=bfftocvn.nkCIcFHX86pnYTjYLpnhBMJZWMXw2Xt3; _gid=GA1.2.1679848950.1609554969; _hjAbsoluteSessionInProgress=1; SPC_CT_9520cad2=\"1609589636.oFhOJHFyVjt58Ib562A0yCCaFSuqBwwvwvI2n38l0hc=\"; AMP_TOKEN=%24NOT_FOUND; _ga=GA1.1.1996604151.1598503618; _dc_gtm_UA-61914164-6=1; SPC_CT_eccd8a56=\"1609589870.NBPsI6mfcSn7Y5MocfbSE3yEFuY5kI2cYajmZubE10w=\"; _ga_M32T05RVZT=GS1.1.1609589629.10.1.1609589894.0; SPC_R_T_ID=\"KPk28KGlOpie4YpZM6ghc9osEfex73zjdO/P0Qw2QME2rmCqRHSTdRyiqJQcqXHL2I1vj86SgFkKlxVxIRNrIiEtTgeLTnGKofqNInYCihw=\"; SPC_T_IV=\"+HqgmJwMS60BxlNBcen+sA==\"; SPC_R_T_IV=\"+HqgmJwMS60BxlNBcen+sA==\"; SPC_T_ID=\"KPk28KGlOpie4YpZM6ghc9osEfex73zjdO/P0Qw2QME2rmCqRHSTdRyiqJQcqXHL2I1vj86SgFkKlxVxIRNrIiEtTgeLTnGKofqNInYCihw=\"; SPC_CT_9520cad2=\"1609589723.lGEQY14gFbp/tbojpvQ/HEkpXUvImCCkbDF5T0jBgBw=\"; SPC_R_T_ID=\"0y0bNdhrG0Xphkg2NLEVyS+o0iJNaXHzLYQye4XIo/zMz9tJJs4cISCco6c+4FGIya5Du3fAXM81mCzFuAVFPVX3wuBFDirHfXYJ++XAp3s=\"; SPC_T_IV=\"oJyXtJBE9fTS5AdRnGQFdg==\"; SPC_R_T_IV=\"oJyXtJBE9fTS5AdRnGQFdg==\"; SPC_T_ID=\"0y0bNdhrG0Xphkg2NLEVyS+o0iJNaXHzLYQye4XIo/zMz9tJJs4cISCco6c+4FGIya5Du3fAXM81mCzFuAVFPVX3wuBFDirHfXYJ++XAp3s=\"; SPC_CT_eccd8a56=\"1609590029.7mqZzgj9FeV4UA3ozLS331/USx4jy3VNgePNJBEyQDs=\"',\n",
    "          'if-none-match': 'd97cd678f3fa8061d7627a431a4bdb4f'\n",
    "        }\n",
    "        \n",
    "    def get(self):\n",
    "        self.response = requests.request(\"GET\", self.base_url, params = self.params, headers=self.headers, data=self.payload)\n",
    "        self.json_pydata = json.loads(self.response.text)\n",
    "        \n",
    "        return self.json_pydata\n",
    "    def setNewest(self, newest):\n",
    "        self.newest = newest\n",
    "        self.params['newest'] = self.newest\n",
    "        pass\n",
    "    def __del__(self):\n",
    "            pass"
   ]
  },
  {
   "cell_type": "code",
   "execution_count": null,
   "metadata": {},
   "outputs": [],
   "source": []
  }
 ],
 "metadata": {
  "kernelspec": {
   "display_name": "Python 3",
   "language": "python",
   "name": "python3"
  },
  "language_info": {
   "codemirror_mode": {
    "name": "ipython",
    "version": 3
   },
   "file_extension": ".py",
   "mimetype": "text/x-python",
   "name": "python",
   "nbconvert_exporter": "python",
   "pygments_lexer": "ipython3",
   "version": "3.8.3"
  }
 },
 "nbformat": 4,
 "nbformat_minor": 4
}
