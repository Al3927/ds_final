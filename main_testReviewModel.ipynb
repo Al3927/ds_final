{
 "cells": [
  {
   "cell_type": "markdown",
   "metadata": {},
   "source": [
    "# ĐỒ ÁN MÔN HỌC CUỐI KÌ\n",
    " \n",
    "__TÊN MÔN HỌC:__ NHẬP MÔN KHOA HỌC DỮ LIỆU\n",
    "\n",
    "__ĐỀ TÀI:__ ÁP DỤNG MÔ HÌNH HỌC MÁY ĐỂ DỰ ĐOÁN DOANH SỐ TRÊN SÀN THƯƠNG MẠI ĐIỆN TỬ SHOPEE\n",
    "\n",
    "__GIẢNG VIÊN:__ TRẦN TRUNG KIÊN\n",
    " \n",
    "__THỨ TỰ NHÓM:__ 15\n",
    " \n",
    "__THÀNH VIÊN:__\n",
    "\n",
    "- 18120184 - Nguyễn Nguyên Khang\n",
    "\n",
    "- 18120189 - Trần Đăng Khoa\n",
    "\n",
    "__PHÂN CÔNG:__\n",
    "\n",
    "Công việc | Thực hiện | Mức độ hoàn thành\n",
    "------------ | ------------- | ------------\n",
    "Thu thập dữ liệu | Khang |\n",
    "Khám phá dữ liệu | Khang |\n",
    "Tiền xử lý dữ liệu | Khang, Khoa |\n",
    "Mô hình hóa dữ liệu | Khoa |"
   ]
  },
  {
   "cell_type": "markdown",
   "metadata": {},
   "source": [
    "# Mục lục\n",
    "- [Giới thiệu đồ án](#I.-Giới-thiệu-đồ-án)\n",
    "   - [Dữ liệu](#1.-Dữ-liệu)\n",
    "   - [Câu hỏi](#2.-Câu-hỏi)\n",
    "- [Thu thập dữ liệu](#II.-Thu-thập-dữ-liệu)\n",
    "  - [Lấy dữ liệu từ Shopee bằng API](#1.-Lấy-dữ-liệu-từ-Shopee-bằng-API)\n",
    "  - [Gộp dữ liệu](#2.-Gộp-dữ-liệu)\n",
    "- [Khám phá dữ liệu, tiền xử lý đơn giản và tách tập](#III.-Khám-phá-dữ-liệu,-tiền-xử-lý-đơn-giản-và-tách-tập)\n",
    "  - [Kiểm tra output hợp lệ](#1.-Kiểm-tra-output-hợp-lệ)\n",
    "  - [Ý nghĩa của mỗi dòng](#2.-Ý-nghĩa-của-mỗi-dòng)\n",
    "  - [Kiểm tra các giá trị trùng](#3.-Kiểm-tra-các-giá-trị-trùng)   \n",
    "  - [Kiểm tra các giá trị không hợp lệ](#4.-Kiểm-tra-các-giá-trị-không-hợp-lệ)\n",
    "  - [Tách các tập](#5.-Tách-các-tập) \n",
    "- [Khám phá dữ liệu](#IV.-Khám-phá-dữ-liệu)\n",
    "  - [Kiểm tra kiểu dữ liệu của input có phù hợp](#1.-Kiểm-tra-kiểu-dữ-liệu-của-input-có-phù-hợp)\n",
    "  - [Phân bố giá trị của cột có kiểu dữ liệu dạng số](#2.-Phân-bố-giá-trị-của-cột-có-kiểu-dữ-liệu-dạng-số)\n",
    "  - [Phân bố giá trị của cột có kiểu dữ liệu không phải dạng số](#3.-Phân-bố-giá-trị-của-cột-có-kiểu-dữ-liệu-không-phải-dạng-số)\n",
    "- [Tiền xử lý cho tập huấn luyện](#V.-Tiền-xử-lý-cho-tập-huấn-luyện)\n",
    "  - [Xử lý khác biệt ngữ nghĩa do parse data từ JSON](#1.-Xử-lý-khác-biệt-ngữ-nghĩa-do-parse-data-từ-JSON)\n",
    "  - [Bỏ cột](#2.-Bỏ-cột)\n",
    "  - [Sửa cột](#3.-Sửa-cột)\n",
    "  - [Xử lý giá trị thiếu](#4.-Xử-lý-giá-trị-thiếu)\n",
    "  - [Chuẩn hóa](#5.-Chuẩn-hóa)\n",
    "  - [Tạo pipeline](#6.-Tạo-pipeline)\n",
    "- [Mô hình hóa dữ liệu](#VI.-Mô-hình-hóa-dữ-liệu)\n",
    "  - [Tìm mô hình tốt nhất](#1.-Tìm-mô-hình-tốt-nhất)\n",
    "  - [Đánh giá mô hình tìm được](#2.-Đánh-giá-mô-hình-tìm-được)\n",
    "- [Nhìn lại quá trình làm đồ án](#VII.-Nhìn-lại-quá-trình-làm-đồ-án)\n",
    "  - [Khó khăn](#1.-Khó-khăn)\n",
    "  - [Những thứ học được](#2.-Những-thứ-học-được)\n",
    "  - [Những điều cần bổ sung nếu có thêm thời gian](#3.-Những-điều-cần-bổ-sung-nếu-có-thêm-thời-gian)\n",
    "- [Tài liệu tham khảo](#VIII.-Tài-liệu-tham-khảo)"
   ]
  },
  {
   "cell_type": "code",
   "execution_count": 1,
   "metadata": {},
   "outputs": [
    {
     "data": {
      "text/plain": [
       "''"
      ]
     },
     "execution_count": 1,
     "metadata": {},
     "output_type": "execute_result"
    }
   ],
   "source": [
    "t = ''\n",
    "s = t.replace(' ', '-')\n",
    "s"
   ]
  },
  {
   "cell_type": "markdown",
   "metadata": {},
   "source": [
    "## I. Giới thiệu đồ án\n",
    "### 1. Dữ liệu\n",
    "\n",
    "Các món hàng _Thời trang nam_ trên shopee\n",
    "\n",
    "Input là các thuộc tính của món hàng mà được biểu hiện ra trên giao diện của shopee.vn cho người dùng thấy, và thuộc tính thời gian của món hàng bao gồm: Thời gian sản phẩm được đăng, thời gian sản phẩm được lấy dữ liệu về máy, và thời gian sản phẩm được bày bán\n",
    "\n",
    "Output là số lượng hàng đã bán được trong thời gian món hàng được đăng lên shopee cho đến lúc được lấy dữ liệu về máy\n",
    "\n",
    "Dữ liệu đúng vì được request từ API của Shopee, có nghĩa là Shopee cũng đang sử dụng dữ liệu này để hiện thị cho người tiêu dùng xem.\n",
    "\n",
    "### 2. Câu hỏi\n",
    "\n",
    "*Output - doanh số -* được tính từ *input - các thông tin của sản phẩm -* theo công thức nào?\n",
    "\n",
    "Trả lời cho câu hỏi này có ý nghĩa trong việc tìm ra cách để tăng doanh số bán được trên shopee\n",
    "\n"
   ]
  },
  {
   "cell_type": "markdown",
   "metadata": {},
   "source": [
    "## Import \n",
    "\n",
    "import trước các thư viện re, numpy, pandas, sklearn"
   ]
  },
  {
   "cell_type": "code",
   "execution_count": 115,
   "metadata": {},
   "outputs": [
    {
     "name": "stdout",
     "output_type": "stream",
     "text": [
      "[2976, 2979, 2970, 2974, 2976]\n",
      "[2952, 2974, 2969, 2964, 2977]\n",
      "[-16.011557554883005, -13.914923295057243, -18.051191869471005, -16.44587435938166, -16.542110687132507]\n",
      "[-14.82227152397217, -16.694479991265702, -14.737422280746692, -16.844206059868938, -15.16625293190004]\n"
     ]
    }
   ],
   "source": [
    "%run ReviewModel.ipynb"
   ]
  },
  {
   "cell_type": "code",
   "execution_count": 3,
   "metadata": {},
   "outputs": [],
   "source": [
    "import re\n",
    "import pandas as pd\n",
    "import numpy as np\n",
    "%matplotlib inline\n",
    "import matplotlib.pyplot as plt\n",
    "import seaborn as sns\n",
    "\n",
    "from numpy import mean\n",
    "from numpy import std\n",
    "from sklearn.model_selection import train_test_split\n",
    "from sklearn import preprocessing\n",
    "from sklearn.compose import ColumnTransformer\n",
    "from sklearn.compose import make_column_transformer\n",
    "from sklearn.preprocessing import LabelEncoder\n",
    "from sklearn.preprocessing import OneHotEncoder\n",
    "from sklearn.preprocessing import FunctionTransformer\n",
    "from sklearn.preprocessing import MinMaxScaler\n",
    "from sklearn.preprocessing import StandardScaler\n",
    "from sklearn.base import BaseEstimator, TransformerMixin\n",
    "import time\n",
    "\n",
    "from sklearn.impute import SimpleImputer\n",
    "from sklearn.impute import KNNImputer\n",
    "from sklearn.pipeline import Pipeline, make_pipeline\n",
    "from sklearn.model_selection import GridSearchCV\n",
    "from sklearn import set_config\n",
    "set_config(display='diagram') # Để trực quan hóa pipeline\n",
    "# from sklearn.cross_validation import train_test_split\n",
    "\n",
    "from sklearn.neural_network import MLPRegressor\n",
    "from sklearn.linear_model import SGDRegressor\n",
    "from sklearn.linear_model import LinearRegression\n",
    "\n",
    "#Set Option\n",
    "pd.set_option('max_colwidth', 10000)\n",
    "pd.set_option('display.max_rows', 500)\n",
    "pd.set_option('display.max_columns', 500)\n",
    "pd.set_option('display.width', 1000)"
   ]
  },
  {
   "cell_type": "markdown",
   "metadata": {},
   "source": [
    "## II. Thu thập dữ liệu"
   ]
  },
  {
   "cell_type": "markdown",
   "metadata": {},
   "source": [
    "### 1. Lấy dữ liệu từ Shopee bằng API \n",
    "Toàn bộ phần thu thập dữ liệu được nhóm đặt trong thư mục _Data Crawler_ và quá trình làm việc trong branch [_develope-Al27_](https://github.com/cstotodile/ds_final/tree/develope-Al27)"
   ]
  },
  {
   "cell_type": "markdown",
   "metadata": {},
   "source": [
    "### 2. Gộp dữ liệu"
   ]
  },
  {
   "cell_type": "markdown",
   "metadata": {},
   "source": [
    "Do dữ liệu thu thập được nằm ở những tập tin riêng lẻ, ta tiến hành gộp lại thành một tập dữ liệu duy nhất để khám phá"
   ]
  },
  {
   "cell_type": "code",
   "execution_count": 4,
   "metadata": {},
   "outputs": [],
   "source": [
    "dataset = ['AoNganTayKhongCo', 'AoSoMi', 'BaloTuiVi', 'GiayDep', 'PhuKien', 'Quan', 'AoKhoacAoVest', 'AoNi']\n",
    "frames = [pd.read_csv(f'Data/ShopeeItem-ThoiTrangNam-{x}.tsv', sep='\\t') for x in dataset]\n",
    "items_df = pd.concat(frames, ignore_index=True, sort=False)"
   ]
  },
  {
   "cell_type": "markdown",
   "metadata": {},
   "source": [
    "Xem kích thước của dữ liệu"
   ]
  },
  {
   "cell_type": "code",
   "execution_count": 5,
   "metadata": {},
   "outputs": [
    {
     "data": {
      "text/plain": [
       "(7901, 34)"
      ]
     },
     "execution_count": 5,
     "metadata": {},
     "output_type": "execute_result"
    }
   ],
   "source": [
    "items_df.shape"
   ]
  },
  {
   "cell_type": "code",
   "execution_count": 6,
   "metadata": {},
   "outputs": [
    {
     "data": {
      "text/html": [
       "<div>\n",
       "<style scoped>\n",
       "    .dataframe tbody tr th:only-of-type {\n",
       "        vertical-align: middle;\n",
       "    }\n",
       "\n",
       "    .dataframe tbody tr th {\n",
       "        vertical-align: top;\n",
       "    }\n",
       "\n",
       "    .dataframe thead th {\n",
       "        text-align: right;\n",
       "    }\n",
       "</style>\n",
       "<table border=\"1\" class=\"dataframe\">\n",
       "  <thead>\n",
       "    <tr style=\"text-align: right;\">\n",
       "      <th></th>\n",
       "      <th>category_id</th>\n",
       "      <th>name</th>\n",
       "      <th>shop_location</th>\n",
       "      <th>item_public_time</th>\n",
       "      <th>item_be_got_time</th>\n",
       "      <th>sell_time</th>\n",
       "      <th>shopee_verified</th>\n",
       "      <th>discount</th>\n",
       "      <th>is_adult</th>\n",
       "      <th>options</th>\n",
       "      <th>show_official_shop_label_in_title</th>\n",
       "      <th>rating_star</th>\n",
       "      <th>five_star</th>\n",
       "      <th>four_star</th>\n",
       "      <th>three_star</th>\n",
       "      <th>two_star</th>\n",
       "      <th>one_star</th>\n",
       "      <th>flash_sale</th>\n",
       "      <th>upcoming_flash_sale</th>\n",
       "      <th>price_min</th>\n",
       "      <th>price_min_before_discount</th>\n",
       "      <th>price_max</th>\n",
       "      <th>price_max_before_discount</th>\n",
       "      <th>price</th>\n",
       "      <th>price_before_discount</th>\n",
       "      <th>coin_earn_label</th>\n",
       "      <th>liked_count</th>\n",
       "      <th>view_count</th>\n",
       "      <th>cmt_count</th>\n",
       "      <th>is_preferred_plus_seller</th>\n",
       "      <th>show_free_shipping</th>\n",
       "      <th>images</th>\n",
       "      <th>video_info_list</th>\n",
       "      <th>historical_sold</th>\n",
       "    </tr>\n",
       "  </thead>\n",
       "  <tbody>\n",
       "    <tr>\n",
       "      <th>0</th>\n",
       "      <td>8947</td>\n",
       "      <td>Áo thun phông Unisex nam nữ 2 màu Trắng Đen tay ngắn cổ tròn dáng ôm phối cực cá tính - V107</td>\n",
       "      <td>TP. Hồ Chí Minh</td>\n",
       "      <td>1.607317e+09</td>\n",
       "      <td>1.609949e+09</td>\n",
       "      <td>2632455.0</td>\n",
       "      <td>True</td>\n",
       "      <td>39%</td>\n",
       "      <td>False</td>\n",
       "      <td>8.0</td>\n",
       "      <td>False</td>\n",
       "      <td>5.000000</td>\n",
       "      <td>4.0</td>\n",
       "      <td>0.0</td>\n",
       "      <td>0.0</td>\n",
       "      <td>0.0</td>\n",
       "      <td>0.0</td>\n",
       "      <td>None</td>\n",
       "      <td>None</td>\n",
       "      <td>1.490000e+10</td>\n",
       "      <td>2.450000e+10</td>\n",
       "      <td>1.490000e+10</td>\n",
       "      <td>2.450000e+10</td>\n",
       "      <td>1.490000e+10</td>\n",
       "      <td>2.450000e+10</td>\n",
       "      <td>None</td>\n",
       "      <td>7.0</td>\n",
       "      <td>1048.0</td>\n",
       "      <td>4.0</td>\n",
       "      <td>True</td>\n",
       "      <td>False</td>\n",
       "      <td>8.0</td>\n",
       "      <td>0.0</td>\n",
       "      <td>18.0</td>\n",
       "    </tr>\n",
       "    <tr>\n",
       "      <th>1</th>\n",
       "      <td>8947</td>\n",
       "      <td>Áo Thun Trơn Nam [FREESHIP] Áo phông nam tay ngắn 100% cotton Trắng Đen dáng ôm vừa vặn AT01</td>\n",
       "      <td>TP. Hồ Chí Minh</td>\n",
       "      <td>1.596338e+09</td>\n",
       "      <td>1.609949e+09</td>\n",
       "      <td>13611374.0</td>\n",
       "      <td>True</td>\n",
       "      <td>49%</td>\n",
       "      <td>False</td>\n",
       "      <td>35.0</td>\n",
       "      <td>False</td>\n",
       "      <td>4.947977</td>\n",
       "      <td>166.0</td>\n",
       "      <td>5.0</td>\n",
       "      <td>2.0</td>\n",
       "      <td>0.0</td>\n",
       "      <td>0.0</td>\n",
       "      <td>None</td>\n",
       "      <td>None</td>\n",
       "      <td>1.090000e+10</td>\n",
       "      <td>1.090000e+10</td>\n",
       "      <td>1.090000e+10</td>\n",
       "      <td>2.150000e+10</td>\n",
       "      <td>1.090000e+10</td>\n",
       "      <td>1.090000e+10</td>\n",
       "      <td>None</td>\n",
       "      <td>109.0</td>\n",
       "      <td>10540.0</td>\n",
       "      <td>173.0</td>\n",
       "      <td>True</td>\n",
       "      <td>False</td>\n",
       "      <td>9.0</td>\n",
       "      <td>0.0</td>\n",
       "      <td>526.0</td>\n",
       "    </tr>\n",
       "    <tr>\n",
       "      <th>2</th>\n",
       "      <td>8947</td>\n",
       "      <td>[SALE 50%] - Áo Thun Nam Cổ Tròn Cao Cấp ( nhiều màu) Tay Ngắn, chất cotton bề mặt vải mềm Mịn cực hot</td>\n",
       "      <td>TP. Hồ Chí Minh</td>\n",
       "      <td>1.603988e+09</td>\n",
       "      <td>1.609949e+09</td>\n",
       "      <td>5961754.0</td>\n",
       "      <td>True</td>\n",
       "      <td>50%</td>\n",
       "      <td>False</td>\n",
       "      <td>48.0</td>\n",
       "      <td>False</td>\n",
       "      <td>4.885417</td>\n",
       "      <td>89.0</td>\n",
       "      <td>4.0</td>\n",
       "      <td>2.0</td>\n",
       "      <td>1.0</td>\n",
       "      <td>0.0</td>\n",
       "      <td>None</td>\n",
       "      <td>None</td>\n",
       "      <td>4.950000e+09</td>\n",
       "      <td>9.900000e+09</td>\n",
       "      <td>4.950000e+09</td>\n",
       "      <td>9.900000e+09</td>\n",
       "      <td>4.950000e+09</td>\n",
       "      <td>9.900000e+09</td>\n",
       "      <td>None</td>\n",
       "      <td>25.0</td>\n",
       "      <td>4025.0</td>\n",
       "      <td>96.0</td>\n",
       "      <td>True</td>\n",
       "      <td>False</td>\n",
       "      <td>9.0</td>\n",
       "      <td>0.0</td>\n",
       "      <td>431.0</td>\n",
       "    </tr>\n",
       "    <tr>\n",
       "      <th>3</th>\n",
       "      <td>8947</td>\n",
       "      <td>Áo thun nam unisex 100% cotton basic Trắng Đen áo phông co giãn cao cấp dáng rộng dễ phối đồ - V69</td>\n",
       "      <td>TP. Hồ Chí Minh</td>\n",
       "      <td>1.596083e+09</td>\n",
       "      <td>1.609949e+09</td>\n",
       "      <td>13866721.0</td>\n",
       "      <td>True</td>\n",
       "      <td>39%</td>\n",
       "      <td>False</td>\n",
       "      <td>8.0</td>\n",
       "      <td>False</td>\n",
       "      <td>5.000000</td>\n",
       "      <td>66.0</td>\n",
       "      <td>0.0</td>\n",
       "      <td>0.0</td>\n",
       "      <td>0.0</td>\n",
       "      <td>0.0</td>\n",
       "      <td>None</td>\n",
       "      <td>None</td>\n",
       "      <td>1.490000e+10</td>\n",
       "      <td>2.450000e+10</td>\n",
       "      <td>1.490000e+10</td>\n",
       "      <td>2.450000e+10</td>\n",
       "      <td>1.490000e+10</td>\n",
       "      <td>2.450000e+10</td>\n",
       "      <td>None</td>\n",
       "      <td>85.0</td>\n",
       "      <td>4551.0</td>\n",
       "      <td>66.0</td>\n",
       "      <td>True</td>\n",
       "      <td>False</td>\n",
       "      <td>7.0</td>\n",
       "      <td>0.0</td>\n",
       "      <td>141.0</td>\n",
       "    </tr>\n",
       "    <tr>\n",
       "      <th>4</th>\n",
       "      <td>8947</td>\n",
       "      <td>🔥XẢ HÀNG🔥 Áo đôi - áo cặp nam nữ dễ thương cực HOT</td>\n",
       "      <td>Hà Nội</td>\n",
       "      <td>1.590391e+09</td>\n",
       "      <td>1.609949e+09</td>\n",
       "      <td>19558163.0</td>\n",
       "      <td>False</td>\n",
       "      <td>None</td>\n",
       "      <td>False</td>\n",
       "      <td>10.0</td>\n",
       "      <td>False</td>\n",
       "      <td>4.687500</td>\n",
       "      <td>27.0</td>\n",
       "      <td>1.0</td>\n",
       "      <td>3.0</td>\n",
       "      <td>1.0</td>\n",
       "      <td>0.0</td>\n",
       "      <td>None</td>\n",
       "      <td>None</td>\n",
       "      <td>7.200000e+09</td>\n",
       "      <td>-1.000000e+00</td>\n",
       "      <td>7.200000e+09</td>\n",
       "      <td>-1.000000e+00</td>\n",
       "      <td>7.200000e+09</td>\n",
       "      <td>0.000000e+00</td>\n",
       "      <td>None</td>\n",
       "      <td>128.0</td>\n",
       "      <td>3613.0</td>\n",
       "      <td>32.0</td>\n",
       "      <td>False</td>\n",
       "      <td>False</td>\n",
       "      <td>1.0</td>\n",
       "      <td>0.0</td>\n",
       "      <td>158.0</td>\n",
       "    </tr>\n",
       "  </tbody>\n",
       "</table>\n",
       "</div>"
      ],
      "text/plain": [
       "   category_id                                                                                                    name    shop_location  item_public_time  item_be_got_time   sell_time shopee_verified discount is_adult  options show_official_shop_label_in_title  rating_star  five_star  four_star  three_star  two_star  one_star flash_sale upcoming_flash_sale     price_min  price_min_before_discount     price_max  price_max_before_discount         price  price_before_discount coin_earn_label  liked_count  view_count  cmt_count is_preferred_plus_seller show_free_shipping  images  video_info_list  historical_sold\n",
       "0         8947            Áo thun phông Unisex nam nữ 2 màu Trắng Đen tay ngắn cổ tròn dáng ôm phối cực cá tính - V107  TP. Hồ Chí Minh      1.607317e+09      1.609949e+09   2632455.0            True      39%    False      8.0                             False     5.000000        4.0        0.0         0.0       0.0       0.0       None                None  1.490000e+10               2.450000e+10  1.490000e+10               2.450000e+10  1.490000e+10           2.450000e+10            None          7.0      1048.0        4.0                     True              False     8.0              0.0             18.0\n",
       "1         8947            Áo Thun Trơn Nam [FREESHIP] Áo phông nam tay ngắn 100% cotton Trắng Đen dáng ôm vừa vặn AT01  TP. Hồ Chí Minh      1.596338e+09      1.609949e+09  13611374.0            True      49%    False     35.0                             False     4.947977      166.0        5.0         2.0       0.0       0.0       None                None  1.090000e+10               1.090000e+10  1.090000e+10               2.150000e+10  1.090000e+10           1.090000e+10            None        109.0     10540.0      173.0                     True              False     9.0              0.0            526.0\n",
       "2         8947  [SALE 50%] - Áo Thun Nam Cổ Tròn Cao Cấp ( nhiều màu) Tay Ngắn, chất cotton bề mặt vải mềm Mịn cực hot  TP. Hồ Chí Minh      1.603988e+09      1.609949e+09   5961754.0            True      50%    False     48.0                             False     4.885417       89.0        4.0         2.0       1.0       0.0       None                None  4.950000e+09               9.900000e+09  4.950000e+09               9.900000e+09  4.950000e+09           9.900000e+09            None         25.0      4025.0       96.0                     True              False     9.0              0.0            431.0\n",
       "3         8947      Áo thun nam unisex 100% cotton basic Trắng Đen áo phông co giãn cao cấp dáng rộng dễ phối đồ - V69  TP. Hồ Chí Minh      1.596083e+09      1.609949e+09  13866721.0            True      39%    False      8.0                             False     5.000000       66.0        0.0         0.0       0.0       0.0       None                None  1.490000e+10               2.450000e+10  1.490000e+10               2.450000e+10  1.490000e+10           2.450000e+10            None         85.0      4551.0       66.0                     True              False     7.0              0.0            141.0\n",
       "4         8947                                                      🔥XẢ HÀNG🔥 Áo đôi - áo cặp nam nữ dễ thương cực HOT           Hà Nội      1.590391e+09      1.609949e+09  19558163.0           False     None    False     10.0                             False     4.687500       27.0        1.0         3.0       1.0       0.0       None                None  7.200000e+09              -1.000000e+00  7.200000e+09              -1.000000e+00  7.200000e+09           0.000000e+00            None        128.0      3613.0       32.0                    False              False     1.0              0.0            158.0"
      ]
     },
     "execution_count": 6,
     "metadata": {},
     "output_type": "execute_result"
    }
   ],
   "source": [
    "items_df.head()"
   ]
  },
  {
   "cell_type": "markdown",
   "metadata": {},
   "source": [
    "Lưu file khi cần thiết"
   ]
  },
  {
   "cell_type": "code",
   "execution_count": 7,
   "metadata": {},
   "outputs": [],
   "source": [
    "#items_df.to_csv('Data/ShopeeItem-ThoiTrangNam-Full.tsv', sep='\\t', index=False)"
   ]
  },
  {
   "cell_type": "markdown",
   "metadata": {},
   "source": [
    "## III. Khám phá dữ liệu, tiền xử lý đơn giản và tách tập"
   ]
  },
  {
   "cell_type": "markdown",
   "metadata": {},
   "source": [
    "### 1. Kiểm tra output hợp lệ\n",
    "Ta kiểm tra xem dữ liệu thu được có đủ điều kiện để mô hình hóa hay không? Vì đây là bài toán hồi qui nên cột output bắt buộc phải có dạng số; nếu hiện chưa có dạng số (ví dụ, số nhưng được lưu dưới dạng chuỗi) thì ta cần chuyển sang dạng số rồi mới tách các tập."
   ]
  },
  {
   "cell_type": "code",
   "execution_count": 8,
   "metadata": {},
   "outputs": [
    {
     "data": {
      "text/plain": [
       "dtype('float64')"
      ]
     },
     "execution_count": 8,
     "metadata": {},
     "output_type": "execute_result"
    }
   ],
   "source": [
    "# Cột output hiện có kiểu dữ liệu gì?\n",
    "items_df['historical_sold'].dtype"
   ]
  },
  {
   "cell_type": "code",
   "execution_count": 9,
   "metadata": {},
   "outputs": [
    {
     "data": {
      "text/plain": [
       "1"
      ]
     },
     "execution_count": 9,
     "metadata": {},
     "output_type": "execute_result"
    }
   ],
   "source": [
    "# Cột output có giá trị thiếu không?\n",
    "items_df['historical_sold'].isna().sum()"
   ]
  },
  {
   "cell_type": "code",
   "execution_count": 10,
   "metadata": {},
   "outputs": [],
   "source": [
    "# Xóa các mẫu có giá trị output thiếu\n",
    "items_df.dropna(subset=['historical_sold'], inplace=True)"
   ]
  },
  {
   "cell_type": "code",
   "execution_count": 11,
   "metadata": {},
   "outputs": [
    {
     "data": {
      "text/plain": [
       "count     7900.000000\n",
       "mean       100.453165\n",
       "std        951.720187\n",
       "min          0.000000\n",
       "25%          0.000000\n",
       "50%          0.000000\n",
       "75%          2.000000\n",
       "max      37079.000000\n",
       "Name: historical_sold, dtype: float64"
      ]
     },
     "execution_count": 11,
     "metadata": {},
     "output_type": "execute_result"
    }
   ],
   "source": [
    "# Xem phân bố các giá trị của output\n",
    "items_df['historical_sold'].describe()"
   ]
  },
  {
   "cell_type": "markdown",
   "metadata": {},
   "source": [
    "Ta có thể thấy giá trị 0 chiếm rất nhiều trong output khiến cho phân bố bị lệch rõ rệt, hãy xem có bao nhiêu giá trị 0"
   ]
  },
  {
   "cell_type": "code",
   "execution_count": 12,
   "metadata": {},
   "outputs": [
    {
     "data": {
      "text/plain": [
       "<AxesSubplot:ylabel='Frequency'>"
      ]
     },
     "execution_count": 12,
     "metadata": {},
     "output_type": "execute_result"
    },
    {
     "data": {
      "image/png": "[encoded data removed]",
      "text/plain": [
       "<Figure size 432x288 with 1 Axes>"
      ]
     },
     "metadata": {
      "needs_background": "light"
     },
     "output_type": "display_data"
    }
   ],
   "source": [
    "items_df['historical_sold'].plot.hist(bins=range(0, 10, 1), edgecolor='black')"
   ]
  },
  {
   "cell_type": "markdown",
   "metadata": {},
   "source": [
    "Để đơn giản, ta sẽ tiến hành xóa những mẫu có output bằng 0 để cho mô hình học được dự đoán khách quan hơn"
   ]
  },
  {
   "cell_type": "code",
   "execution_count": 13,
   "metadata": {},
   "outputs": [],
   "source": [
    "items_df['historical_sold'] = items_df['historical_sold'].replace(0, np.nan)\n",
    "items_df = items_df.dropna(how='any', axis=0, subset=['historical_sold'])"
   ]
  },
  {
   "cell_type": "markdown",
   "metadata": {},
   "source": [
    "Kiểm tra lại kích thước dữ liệu"
   ]
  },
  {
   "cell_type": "code",
   "execution_count": 14,
   "metadata": {},
   "outputs": [
    {
     "data": {
      "text/plain": [
       "(2467, 34)"
      ]
     },
     "execution_count": 14,
     "metadata": {},
     "output_type": "execute_result"
    }
   ],
   "source": [
    "items_df.shape"
   ]
  },
  {
   "cell_type": "markdown",
   "metadata": {},
   "source": [
    "### 2. Ý nghĩa của mỗi dòng\n",
    "Quan sát sơ bộ dữ liệu và qua quá trình crawler data, ta thấy mỗi dòng chứa thông tin của một món hàng, và không có vấn đề các dòng có ý nghĩa khác nhau."
   ]
  },
  {
   "cell_type": "markdown",
   "metadata": {},
   "source": [
    "### 3. Kiểm tra các giá trị trùng\n",
    "Ta xem thử có bao nhiều mẫu bị trùng giá trị"
   ]
  },
  {
   "cell_type": "code",
   "execution_count": 15,
   "metadata": {},
   "outputs": [
    {
     "data": {
      "text/plain": [
       "19"
      ]
     },
     "execution_count": 15,
     "metadata": {},
     "output_type": "execute_result"
    }
   ],
   "source": [
    "num_duplicated_rows = items_df.duplicated().sum()\n",
    "num_duplicated_rows"
   ]
  },
  {
   "cell_type": "markdown",
   "metadata": {},
   "source": [
    "Tiến hành xóa các mẫu trùng"
   ]
  },
  {
   "cell_type": "code",
   "execution_count": 16,
   "metadata": {},
   "outputs": [],
   "source": [
    "items_df = items_df.drop_duplicates(ignore_index = True)"
   ]
  },
  {
   "cell_type": "markdown",
   "metadata": {},
   "source": [
    "### 4. Kiểm tra các giá trị không hợp lệ\n",
    "\n",
    "Thật ra giá trị của những mẫu này đều đang hoạt động bình thường trên giao diện shopee nên khả năng lỗi là rất thấp. Ta vẫn kiểm tra lại các trường hợp như sau:\n",
    "\n",
    "1. Kiểm tra cột price_min_before_discount và cột price_max_before_discount xem có giá trị âm hay không?\n",
    "  \n",
    "2. So sánh price_min > price_max, price_min_before_discount > price_max_before_discount\n",
    "\n",
    "3. So sánh price < price_before_discount, price_min < price_min_before_discount, price_max < price_max_before_discount"
   ]
  },
  {
   "cell_type": "code",
   "execution_count": 17,
   "metadata": {},
   "outputs": [
    {
     "data": {
      "text/plain": [
       "0.31985294117647056"
      ]
     },
     "execution_count": 17,
     "metadata": {},
     "output_type": "execute_result"
    }
   ],
   "source": [
    "# Xử lý trường hợp 1.\n",
    "\n",
    "invalid_price_negative = (items_df.price_min_before_discount < 0) | (items_df.price_max_before_discount < 0)\n",
    "invalid_price_negative_vals = invalid_price_negative.sum()\n",
    "invalid_price_negative_vals/len(items_df)"
   ]
  },
  {
   "cell_type": "markdown",
   "metadata": {},
   "source": [
    "Ta thấy có đến xấp xỉ 47.35% các giá trị `price_min_before_discount` và `price_min_before_discount` bị âm.\n",
    "Do shopee vẫn hiển thị bình thường nên ta dự đoán có lẽ do tại những mẫu có giá trị âm này thì `discount` = None "
   ]
  },
  {
   "cell_type": "code",
   "execution_count": 18,
   "metadata": {},
   "outputs": [
    {
     "name": "stdout",
     "output_type": "stream",
     "text": [
      "0.31985294117647056\n",
      "True\n"
     ]
    }
   ],
   "source": [
    "print((items_df.discount == 'None').sum()/len(items_df))\n",
    "print((items_df.discount == 'None').sum()/len(items_df) == invalid_price_negative_vals/len(items_df))"
   ]
  },
  {
   "cell_type": "markdown",
   "metadata": {},
   "source": [
    "Kiểm tra thấy hai giá trị là hoàn toàn giống nhau chứng tỏ dự đoán là đúng.\n",
    "Vậy code shopee chịu lỗi này hoặc đây là quy ước data của shopee, khi lấy mẫu mới về từ shopee trường hợp này vẫn sẽ là giá trị âm. Vậy nên những giá trị âm này ta xem như hợp lệ. Tuy nhiên để tránh khiến cho mô hình hiểu nhầm, ta sẽ quy ước lại cho những giá trị này bằng 0."
   ]
  },
  {
   "cell_type": "code",
   "execution_count": 19,
   "metadata": {},
   "outputs": [
    {
     "data": {
      "text/plain": [
       "17"
      ]
     },
     "execution_count": 19,
     "metadata": {},
     "output_type": "execute_result"
    }
   ],
   "source": [
    "# Xử lý trường hợp 2\n",
    "invalid_price_min_max = (items_df.price_min_before_discount > items_df.price_max_before_discount) | (items_df.price_max < items_df.price_min)\n",
    "invalid_price_min_max_vals = invalid_price_min_max.sum()\n",
    "invalid_price_min_max_vals\n"
   ]
  },
  {
   "cell_type": "markdown",
   "metadata": {},
   "source": [
    "Có những mẫu bất hợp lệ trong trường hợp này, ta sẽ giữ lại những mẫu hợp lệ"
   ]
  },
  {
   "cell_type": "code",
   "execution_count": 20,
   "metadata": {},
   "outputs": [],
   "source": [
    "items_df = items_df[~invalid_price_min_max]"
   ]
  },
  {
   "cell_type": "code",
   "execution_count": 21,
   "metadata": {},
   "outputs": [
    {
     "data": {
      "text/plain": [
       "0.3200329082682024"
      ]
     },
     "execution_count": 21,
     "metadata": {},
     "output_type": "execute_result"
    }
   ],
   "source": [
    "# Xử lý trường hợp 3\n",
    "invalid_price_before_after = (items_df.price > items_df.price_before_discount) | (items_df.price_min > items_df.price_min_before_discount) | (items_df.price_max > items_df.price_max_before_discount)\n",
    "invalid_price_before_after_vals = invalid_price_before_after.sum()\n",
    "invalid_price_before_after_vals / len(items_df)"
   ]
  },
  {
   "cell_type": "markdown",
   "metadata": {},
   "source": [
    "Ta thấy phần trăm các giá trị lỗi giống như ở trường hợp 1 nên kiểm tra riêng lại cho điều kiện (items_df.price_min > items_df.price_min_before_discount) | (items_df.price_max > items_df.price_max_before_discount)"
   ]
  },
  {
   "cell_type": "code",
   "execution_count": 22,
   "metadata": {},
   "outputs": [
    {
     "name": "stdout",
     "output_type": "stream",
     "text": [
      "(items_df.price_min > items_df.price_min_before_discount) | (items_df.price_max > items_df.price_max_before_discount):\n",
      "-> 0.3200329082682024\n",
      "True if it equal to (items_df.discount == \"None\").sum()/len(items_df))\n",
      "-> False\n"
     ]
    }
   ],
   "source": [
    "print('(items_df.price_min > items_df.price_min_before_discount) | (items_df.price_max > items_df.price_max_before_discount):\\n->', ((items_df.price_min > items_df.price_min_before_discount) | (items_df.price_max > items_df.price_max_before_discount)).sum()/len(items_df))\n",
    "print('True if it equal to (items_df.discount == \"None\").sum()/len(items_df))\\n->', ((items_df.price_min > items_df.price_min_before_discount) | (items_df.price_max > items_df.price_max_before_discount)).sum()/len(items_df) == (items_df.discount == 'None').sum()/len(items_df))"
   ]
  },
  {
   "cell_type": "markdown",
   "metadata": {},
   "source": [
    "Có một vài mẫu bất hợp lệ, ta cũng sẽ xóa những mẫu này"
   ]
  },
  {
   "cell_type": "code",
   "execution_count": 23,
   "metadata": {},
   "outputs": [],
   "source": [
    "wrong = (((items_df.price_min > items_df.price_min_before_discount) | (items_df.price_max > items_df.price_max_before_discount)) & ~(items_df.discount == 'None'))\n",
    "items_df = items_df[~wrong]"
   ]
  },
  {
   "cell_type": "markdown",
   "metadata": {},
   "source": [
    "Kiểm tra lại số mẫu"
   ]
  },
  {
   "cell_type": "code",
   "execution_count": 24,
   "metadata": {},
   "outputs": [
    {
     "data": {
      "text/plain": [
       "(2430, 34)"
      ]
     },
     "execution_count": 24,
     "metadata": {},
     "output_type": "execute_result"
    }
   ],
   "source": [
    "items_df.shape"
   ]
  },
  {
   "cell_type": "markdown",
   "metadata": {},
   "source": [
    "### 5. Tách các tập\n",
    "Vậy là dữ liệu đã sẵn sàng để tách và khám phá"
   ]
  },
  {
   "cell_type": "code",
   "execution_count": 25,
   "metadata": {},
   "outputs": [],
   "source": [
    "# Tách X và y\n",
    "y_sr = items_df[\"historical_sold\"]\n",
    "X_df = items_df.drop(\"historical_sold\", axis=1)"
   ]
  },
  {
   "cell_type": "code",
   "execution_count": 26,
   "metadata": {},
   "outputs": [],
   "source": [
    "# Tách train và test\n",
    "rest_X_df, test_X_df, rest_y_sr, test_y_sr = train_test_split(X_df, y_sr, test_size=0.2, random_state=0)"
   ]
  },
  {
   "cell_type": "code",
   "execution_count": 27,
   "metadata": {},
   "outputs": [],
   "source": [
    "# Tách train và validation\n",
    "train_X_df, val_X_df, train_y_sr, val_y_sr = train_test_split(rest_X_df, rest_y_sr, test_size=0.2, random_state=0)"
   ]
  },
  {
   "cell_type": "code",
   "execution_count": 28,
   "metadata": {},
   "outputs": [
    {
     "data": {
      "text/plain": [
       "(1555, 33)"
      ]
     },
     "execution_count": 28,
     "metadata": {},
     "output_type": "execute_result"
    }
   ],
   "source": [
    "train_X_df.shape"
   ]
  },
  {
   "cell_type": "code",
   "execution_count": 29,
   "metadata": {},
   "outputs": [
    {
     "data": {
      "text/plain": [
       "(1555,)"
      ]
     },
     "execution_count": 29,
     "metadata": {},
     "output_type": "execute_result"
    }
   ],
   "source": [
    "train_y_sr.shape"
   ]
  },
  {
   "cell_type": "code",
   "execution_count": 30,
   "metadata": {},
   "outputs": [
    {
     "data": {
      "text/plain": [
       "(389, 33)"
      ]
     },
     "execution_count": 30,
     "metadata": {},
     "output_type": "execute_result"
    }
   ],
   "source": [
    "val_X_df.shape"
   ]
  },
  {
   "cell_type": "code",
   "execution_count": 31,
   "metadata": {},
   "outputs": [
    {
     "data": {
      "text/plain": [
       "(389,)"
      ]
     },
     "execution_count": 31,
     "metadata": {},
     "output_type": "execute_result"
    }
   ],
   "source": [
    "val_y_sr.shape"
   ]
  },
  {
   "cell_type": "code",
   "execution_count": 32,
   "metadata": {},
   "outputs": [
    {
     "data": {
      "text/plain": [
       "(486, 33)"
      ]
     },
     "execution_count": 32,
     "metadata": {},
     "output_type": "execute_result"
    }
   ],
   "source": [
    "test_X_df.shape"
   ]
  },
  {
   "cell_type": "code",
   "execution_count": 33,
   "metadata": {},
   "outputs": [
    {
     "data": {
      "text/plain": [
       "(486,)"
      ]
     },
     "execution_count": 33,
     "metadata": {},
     "output_type": "execute_result"
    }
   ],
   "source": [
    "test_y_sr.shape"
   ]
  },
  {
   "cell_type": "markdown",
   "metadata": {},
   "source": [
    "## IV. Khám phá dữ liệu\n",
    "\n",
    "Quá trình làm việc của nhóm trong branch [Preprocessing](https://github.com/cstotodile/ds_final/tree/Preprocessing)\n"
   ]
  },
  {
   "cell_type": "markdown",
   "metadata": {},
   "source": [
    "Xem sơ qua về dữ liệu"
   ]
  },
  {
   "cell_type": "code",
   "execution_count": 34,
   "metadata": {},
   "outputs": [
    {
     "data": {
      "text/html": [
       "<div>\n",
       "<style scoped>\n",
       "    .dataframe tbody tr th:only-of-type {\n",
       "        vertical-align: middle;\n",
       "    }\n",
       "\n",
       "    .dataframe tbody tr th {\n",
       "        vertical-align: top;\n",
       "    }\n",
       "\n",
       "    .dataframe thead th {\n",
       "        text-align: right;\n",
       "    }\n",
       "</style>\n",
       "<table border=\"1\" class=\"dataframe\">\n",
       "  <thead>\n",
       "    <tr style=\"text-align: right;\">\n",
       "      <th></th>\n",
       "      <th>category_id</th>\n",
       "      <th>name</th>\n",
       "      <th>shop_location</th>\n",
       "      <th>item_public_time</th>\n",
       "      <th>item_be_got_time</th>\n",
       "      <th>sell_time</th>\n",
       "      <th>shopee_verified</th>\n",
       "      <th>discount</th>\n",
       "      <th>is_adult</th>\n",
       "      <th>options</th>\n",
       "      <th>show_official_shop_label_in_title</th>\n",
       "      <th>rating_star</th>\n",
       "      <th>five_star</th>\n",
       "      <th>four_star</th>\n",
       "      <th>three_star</th>\n",
       "      <th>two_star</th>\n",
       "      <th>one_star</th>\n",
       "      <th>flash_sale</th>\n",
       "      <th>upcoming_flash_sale</th>\n",
       "      <th>price_min</th>\n",
       "      <th>price_min_before_discount</th>\n",
       "      <th>price_max</th>\n",
       "      <th>price_max_before_discount</th>\n",
       "      <th>price</th>\n",
       "      <th>price_before_discount</th>\n",
       "      <th>coin_earn_label</th>\n",
       "      <th>liked_count</th>\n",
       "      <th>view_count</th>\n",
       "      <th>cmt_count</th>\n",
       "      <th>is_preferred_plus_seller</th>\n",
       "      <th>show_free_shipping</th>\n",
       "      <th>images</th>\n",
       "      <th>video_info_list</th>\n",
       "    </tr>\n",
       "  </thead>\n",
       "  <tbody>\n",
       "    <tr>\n",
       "      <th>2283</th>\n",
       "      <td>2829</td>\n",
       "      <td>Áo Vest nam cao cấp form hàn đủ màu 1 khuy full size</td>\n",
       "      <td>Hà Nội</td>\n",
       "      <td>1.603703e+09</td>\n",
       "      <td>1.610610e+09</td>\n",
       "      <td>6907146.0</td>\n",
       "      <td>False</td>\n",
       "      <td>20%</td>\n",
       "      <td>False</td>\n",
       "      <td>28.0</td>\n",
       "      <td>False</td>\n",
       "      <td>5.000000</td>\n",
       "      <td>6.0</td>\n",
       "      <td>0.0</td>\n",
       "      <td>0.0</td>\n",
       "      <td>0.0</td>\n",
       "      <td>0.0</td>\n",
       "      <td>None</td>\n",
       "      <td>None</td>\n",
       "      <td>5.520000e+10</td>\n",
       "      <td>6.900000e+10</td>\n",
       "      <td>5.520000e+10</td>\n",
       "      <td>6.900000e+10</td>\n",
       "      <td>5.520000e+10</td>\n",
       "      <td>6.900000e+10</td>\n",
       "      <td>None</td>\n",
       "      <td>451.0</td>\n",
       "      <td>1166.0</td>\n",
       "      <td>6.0</td>\n",
       "      <td>False</td>\n",
       "      <td>True</td>\n",
       "      <td>7.0</td>\n",
       "      <td>0.0</td>\n",
       "    </tr>\n",
       "    <tr>\n",
       "      <th>128</th>\n",
       "      <td>8947</td>\n",
       "      <td>[ÁO MÙA HÈ NAM] _ Áo thun mùa hè thời trang nam One35, phom 40-80kg</td>\n",
       "      <td>Hà Nội</td>\n",
       "      <td>1.583143e+09</td>\n",
       "      <td>1.609949e+09</td>\n",
       "      <td>26806573.0</td>\n",
       "      <td>True</td>\n",
       "      <td>47%</td>\n",
       "      <td>False</td>\n",
       "      <td>24.0</td>\n",
       "      <td>False</td>\n",
       "      <td>4.500000</td>\n",
       "      <td>1.0</td>\n",
       "      <td>1.0</td>\n",
       "      <td>0.0</td>\n",
       "      <td>0.0</td>\n",
       "      <td>0.0</td>\n",
       "      <td>None</td>\n",
       "      <td>None</td>\n",
       "      <td>6.900000e+09</td>\n",
       "      <td>1.290000e+10</td>\n",
       "      <td>6.900000e+09</td>\n",
       "      <td>1.290000e+10</td>\n",
       "      <td>6.900000e+09</td>\n",
       "      <td>1.290000e+10</td>\n",
       "      <td>None</td>\n",
       "      <td>3.0</td>\n",
       "      <td>10.0</td>\n",
       "      <td>2.0</td>\n",
       "      <td>False</td>\n",
       "      <td>False</td>\n",
       "      <td>9.0</td>\n",
       "      <td>0.0</td>\n",
       "    </tr>\n",
       "    <tr>\n",
       "      <th>416</th>\n",
       "      <td>8947</td>\n",
       "      <td>Áo sơ mi nam chấm bi korea dài tay cổ bẻ mặc siêu mềm mại và thoải mái, giá cả siêu tốt</td>\n",
       "      <td>Hà Nội</td>\n",
       "      <td>1.573125e+09</td>\n",
       "      <td>1.609949e+09</td>\n",
       "      <td>36823998.0</td>\n",
       "      <td>True</td>\n",
       "      <td>23%</td>\n",
       "      <td>False</td>\n",
       "      <td>12.0</td>\n",
       "      <td>False</td>\n",
       "      <td>4.889447</td>\n",
       "      <td>371.0</td>\n",
       "      <td>18.0</td>\n",
       "      <td>5.0</td>\n",
       "      <td>0.0</td>\n",
       "      <td>4.0</td>\n",
       "      <td>None</td>\n",
       "      <td>None</td>\n",
       "      <td>1.150000e+10</td>\n",
       "      <td>1.500000e+10</td>\n",
       "      <td>1.150000e+10</td>\n",
       "      <td>1.500000e+10</td>\n",
       "      <td>1.150000e+10</td>\n",
       "      <td>1.500000e+10</td>\n",
       "      <td>None</td>\n",
       "      <td>1605.0</td>\n",
       "      <td>3954.0</td>\n",
       "      <td>398.0</td>\n",
       "      <td>False</td>\n",
       "      <td>True</td>\n",
       "      <td>9.0</td>\n",
       "      <td>1.0</td>\n",
       "    </tr>\n",
       "    <tr>\n",
       "      <th>197</th>\n",
       "      <td>8947</td>\n",
       "      <td>[FREESHIP COD ]ÁO Thun Thời Trang Nam Cổ Tròn PMIC7 ,2 Màu Đen- Trắng</td>\n",
       "      <td>Hà Nội</td>\n",
       "      <td>1.597224e+09</td>\n",
       "      <td>1.609949e+09</td>\n",
       "      <td>12725742.0</td>\n",
       "      <td>False</td>\n",
       "      <td>None</td>\n",
       "      <td>False</td>\n",
       "      <td>14.0</td>\n",
       "      <td>False</td>\n",
       "      <td>5.000000</td>\n",
       "      <td>1.0</td>\n",
       "      <td>0.0</td>\n",
       "      <td>0.0</td>\n",
       "      <td>0.0</td>\n",
       "      <td>0.0</td>\n",
       "      <td>None</td>\n",
       "      <td>None</td>\n",
       "      <td>1.790000e+10</td>\n",
       "      <td>-1.000000e+00</td>\n",
       "      <td>1.790000e+10</td>\n",
       "      <td>-1.000000e+00</td>\n",
       "      <td>1.790000e+10</td>\n",
       "      <td>0.000000e+00</td>\n",
       "      <td>None</td>\n",
       "      <td>0.0</td>\n",
       "      <td>0.0</td>\n",
       "      <td>1.0</td>\n",
       "      <td>False</td>\n",
       "      <td>False</td>\n",
       "      <td>5.0</td>\n",
       "      <td>0.0</td>\n",
       "    </tr>\n",
       "    <tr>\n",
       "      <th>1914</th>\n",
       "      <td>1899</td>\n",
       "      <td>Quần lót xuyên thấu thời trang nam độc đáo</td>\n",
       "      <td>Nước ngoài</td>\n",
       "      <td>1.574051e+09</td>\n",
       "      <td>1.609992e+09</td>\n",
       "      <td>35940789.0</td>\n",
       "      <td>False</td>\n",
       "      <td>44%</td>\n",
       "      <td>False</td>\n",
       "      <td>0.0</td>\n",
       "      <td>False</td>\n",
       "      <td>5.000000</td>\n",
       "      <td>1.0</td>\n",
       "      <td>0.0</td>\n",
       "      <td>0.0</td>\n",
       "      <td>0.0</td>\n",
       "      <td>0.0</td>\n",
       "      <td>None</td>\n",
       "      <td>None</td>\n",
       "      <td>4.600000e+09</td>\n",
       "      <td>8.200000e+09</td>\n",
       "      <td>4.600000e+09</td>\n",
       "      <td>8.200000e+09</td>\n",
       "      <td>4.600000e+09</td>\n",
       "      <td>8.200000e+09</td>\n",
       "      <td>None</td>\n",
       "      <td>1.0</td>\n",
       "      <td>9.0</td>\n",
       "      <td>1.0</td>\n",
       "      <td>False</td>\n",
       "      <td>False</td>\n",
       "      <td>9.0</td>\n",
       "      <td>0.0</td>\n",
       "    </tr>\n",
       "  </tbody>\n",
       "</table>\n",
       "</div>"
      ],
      "text/plain": [
       "      category_id                                                                                     name shop_location  item_public_time  item_be_got_time   sell_time shopee_verified discount is_adult  options show_official_shop_label_in_title  rating_star  five_star  four_star  three_star  two_star  one_star flash_sale upcoming_flash_sale     price_min  price_min_before_discount     price_max  price_max_before_discount         price  price_before_discount coin_earn_label  liked_count  view_count  cmt_count is_preferred_plus_seller show_free_shipping  images  video_info_list\n",
       "2283         2829                                     Áo Vest nam cao cấp form hàn đủ màu 1 khuy full size        Hà Nội      1.603703e+09      1.610610e+09   6907146.0           False      20%    False     28.0                             False     5.000000        6.0        0.0         0.0       0.0       0.0       None                None  5.520000e+10               6.900000e+10  5.520000e+10               6.900000e+10  5.520000e+10           6.900000e+10            None        451.0      1166.0        6.0                    False               True     7.0              0.0\n",
       "128          8947                      [ÁO MÙA HÈ NAM] _ Áo thun mùa hè thời trang nam One35, phom 40-80kg        Hà Nội      1.583143e+09      1.609949e+09  26806573.0            True      47%    False     24.0                             False     4.500000        1.0        1.0         0.0       0.0       0.0       None                None  6.900000e+09               1.290000e+10  6.900000e+09               1.290000e+10  6.900000e+09           1.290000e+10            None          3.0        10.0        2.0                    False              False     9.0              0.0\n",
       "416          8947  Áo sơ mi nam chấm bi korea dài tay cổ bẻ mặc siêu mềm mại và thoải mái, giá cả siêu tốt        Hà Nội      1.573125e+09      1.609949e+09  36823998.0            True      23%    False     12.0                             False     4.889447      371.0       18.0         5.0       0.0       4.0       None                None  1.150000e+10               1.500000e+10  1.150000e+10               1.500000e+10  1.150000e+10           1.500000e+10            None       1605.0      3954.0      398.0                    False               True     9.0              1.0\n",
       "197          8947                    [FREESHIP COD ]ÁO Thun Thời Trang Nam Cổ Tròn PMIC7 ,2 Màu Đen- Trắng        Hà Nội      1.597224e+09      1.609949e+09  12725742.0           False     None    False     14.0                             False     5.000000        1.0        0.0         0.0       0.0       0.0       None                None  1.790000e+10              -1.000000e+00  1.790000e+10              -1.000000e+00  1.790000e+10           0.000000e+00            None          0.0         0.0        1.0                    False              False     5.0              0.0\n",
       "1914         1899                                               Quần lót xuyên thấu thời trang nam độc đáo    Nước ngoài      1.574051e+09      1.609992e+09  35940789.0           False      44%    False      0.0                             False     5.000000        1.0        0.0         0.0       0.0       0.0       None                None  4.600000e+09               8.200000e+09  4.600000e+09               8.200000e+09  4.600000e+09           8.200000e+09            None          1.0         9.0        1.0                    False              False     9.0              0.0"
      ]
     },
     "execution_count": 34,
     "metadata": {},
     "output_type": "execute_result"
    }
   ],
   "source": [
    "train_X_df.head()"
   ]
  },
  {
   "cell_type": "markdown",
   "metadata": {},
   "source": [
    "### 1. Kiểm tra kiểu dữ liệu của input có phù hợp"
   ]
  },
  {
   "cell_type": "code",
   "execution_count": 35,
   "metadata": {},
   "outputs": [
    {
     "data": {
      "text/plain": [
       "category_id                            int64\n",
       "name                                  object\n",
       "shop_location                         object\n",
       "item_public_time                     float64\n",
       "item_be_got_time                     float64\n",
       "sell_time                            float64\n",
       "shopee_verified                       object\n",
       "discount                              object\n",
       "is_adult                              object\n",
       "options                              float64\n",
       "show_official_shop_label_in_title     object\n",
       "rating_star                          float64\n",
       "five_star                            float64\n",
       "four_star                            float64\n",
       "three_star                           float64\n",
       "two_star                             float64\n",
       "one_star                             float64\n",
       "flash_sale                            object\n",
       "upcoming_flash_sale                   object\n",
       "price_min                            float64\n",
       "price_min_before_discount            float64\n",
       "price_max                            float64\n",
       "price_max_before_discount            float64\n",
       "price                                float64\n",
       "price_before_discount                float64\n",
       "coin_earn_label                       object\n",
       "liked_count                          float64\n",
       "view_count                           float64\n",
       "cmt_count                            float64\n",
       "is_preferred_plus_seller              object\n",
       "show_free_shipping                    object\n",
       "images                               float64\n",
       "video_info_list                      float64\n",
       "dtype: object"
      ]
     },
     "execution_count": 35,
     "metadata": {},
     "output_type": "execute_result"
    }
   ],
   "source": [
    "train_X_df.dtypes"
   ]
  },
  {
   "cell_type": "markdown",
   "metadata": {},
   "source": [
    "Ta nhận thấy thuộc tính `discount` có kiểu dữ liệu không phù hợp, đáng lẽ phải ở dạng số. Ta hãy kiểm tra xem `discount` giữ những giá trị gì?"
   ]
  },
  {
   "cell_type": "code",
   "execution_count": 36,
   "metadata": {},
   "outputs": [
    {
     "data": {
      "text/plain": [
       "array(['20%', '47%', '23%', 'None', '44%', '30%', '50%', '39%', '34%',\n",
       "       '41%', '35%', '1%', '40%', '46%', '29%', '25%', '43%', '21%',\n",
       "       '37%', '10%', '49%', '48%', '31%', '28%', '45%', '22%', '32%',\n",
       "       '38%', '19%', '18%', '13%', '3%', '42%', '27%', '33%', '36%', '8%',\n",
       "       '5%', '16%', '26%', '7%', '56%', '61%', '4%', '17%', '14%', '15%',\n",
       "       '9%', '11%', '12%', '51%', '24%', '70%', '2%', '87%'], dtype=object)"
      ]
     },
     "execution_count": 36,
     "metadata": {},
     "output_type": "execute_result"
    }
   ],
   "source": [
    "train_X_df['discount'].unique()"
   ]
  },
  {
   "cell_type": "markdown",
   "metadata": {},
   "source": [
    "### 2. Phân bố giá trị của cột có kiểu dữ liệu dạng số\n",
    "\n",
    "- Tỉ lệ % (từ 0 đến 100) các giá trị thiếu \n",
    "- Giá trị min\n",
    "- Giá trị lower quartile (phân vị 25)\n",
    "- Giá trị median (phân vị 50)\n",
    "- Giá trị upper quartile (phân vị 75)\n",
    "- Giá trị max\n",
    "\n",
    "Kết quả được lưu vào DataFrame `num_col_info_df`, trong đó: \n",
    "- Tên của các cột là tên của các cột số trong `train_X_df`\n",
    "- Tên của các dòng là: \"missing_ratio\", \"min\", \"lower_quartile\", \"median\", \"upper_quartile\", \"max\" "
   ]
  },
  {
   "cell_type": "code",
   "execution_count": 37,
   "metadata": {},
   "outputs": [],
   "source": [
    "num_cols = ['item_public_time','item_be_got_time', 'sell_time', 'discount', \n",
    "            'options', 'rating_star' ,'five_star', 'four_star', 'three_star', \n",
    "            'two_star' ,'one_star' ,'price_min_before_discount', 'price_max', 'price_min', \n",
    "            'price_max_before_discount', 'price', 'price_before_discount', \n",
    "            'liked_count', 'view_count', 'cmt_count','images', 'video_info_list']\n",
    "cat_cols = list(set(train_X_df.columns) - set(num_cols))"
   ]
  },
  {
   "cell_type": "code",
   "execution_count": 38,
   "metadata": {},
   "outputs": [
    {
     "data": {
      "text/html": [
       "<div>\n",
       "<style scoped>\n",
       "    .dataframe tbody tr th:only-of-type {\n",
       "        vertical-align: middle;\n",
       "    }\n",
       "\n",
       "    .dataframe tbody tr th {\n",
       "        vertical-align: top;\n",
       "    }\n",
       "\n",
       "    .dataframe thead th {\n",
       "        text-align: right;\n",
       "    }\n",
       "</style>\n",
       "<table border=\"1\" class=\"dataframe\">\n",
       "  <thead>\n",
       "    <tr style=\"text-align: right;\">\n",
       "      <th></th>\n",
       "      <th>item_public_time</th>\n",
       "      <th>item_be_got_time</th>\n",
       "      <th>sell_time</th>\n",
       "      <th>discount</th>\n",
       "      <th>options</th>\n",
       "      <th>rating_star</th>\n",
       "      <th>five_star</th>\n",
       "      <th>four_star</th>\n",
       "      <th>three_star</th>\n",
       "      <th>two_star</th>\n",
       "      <th>one_star</th>\n",
       "      <th>price_min_before_discount</th>\n",
       "      <th>price_max</th>\n",
       "      <th>price_min</th>\n",
       "      <th>price_max_before_discount</th>\n",
       "      <th>price</th>\n",
       "      <th>price_before_discount</th>\n",
       "      <th>liked_count</th>\n",
       "      <th>view_count</th>\n",
       "      <th>cmt_count</th>\n",
       "      <th>images</th>\n",
       "      <th>video_info_list</th>\n",
       "    </tr>\n",
       "  </thead>\n",
       "  <tbody>\n",
       "    <tr>\n",
       "      <th>missing_ratio</th>\n",
       "      <td>0.000000e+00</td>\n",
       "      <td>0.000000e+00</td>\n",
       "      <td>0.000000e+00</td>\n",
       "      <td>0</td>\n",
       "      <td>0.0</td>\n",
       "      <td>0.0</td>\n",
       "      <td>0.0</td>\n",
       "      <td>0.0</td>\n",
       "      <td>0.0</td>\n",
       "      <td>0.0</td>\n",
       "      <td>0.0</td>\n",
       "      <td>0.000000e+00</td>\n",
       "      <td>0.000000e+00</td>\n",
       "      <td>0.000000e+00</td>\n",
       "      <td>0.000000e+00</td>\n",
       "      <td>0.000000e+00</td>\n",
       "      <td>0.000000e+00</td>\n",
       "      <td>0.0</td>\n",
       "      <td>0.0</td>\n",
       "      <td>0.0</td>\n",
       "      <td>0.0</td>\n",
       "      <td>0.0</td>\n",
       "    </tr>\n",
       "    <tr>\n",
       "      <th>min</th>\n",
       "      <td>1.485162e+09</td>\n",
       "      <td>1.609910e+09</td>\n",
       "      <td>-1.504762e+09</td>\n",
       "      <td>1%</td>\n",
       "      <td>0.0</td>\n",
       "      <td>0.0</td>\n",
       "      <td>0.0</td>\n",
       "      <td>0.0</td>\n",
       "      <td>0.0</td>\n",
       "      <td>0.0</td>\n",
       "      <td>0.0</td>\n",
       "      <td>-2.000000e+00</td>\n",
       "      <td>3.900000e+08</td>\n",
       "      <td>3.900000e+08</td>\n",
       "      <td>-2.000000e+00</td>\n",
       "      <td>3.900000e+08</td>\n",
       "      <td>0.000000e+00</td>\n",
       "      <td>0.0</td>\n",
       "      <td>0.0</td>\n",
       "      <td>0.0</td>\n",
       "      <td>1.0</td>\n",
       "      <td>0.0</td>\n",
       "    </tr>\n",
       "    <tr>\n",
       "      <th>lower_quartile</th>\n",
       "      <td>1.557428e+09</td>\n",
       "      <td>1.609917e+09</td>\n",
       "      <td>1.275420e+07</td>\n",
       "      <td>NaN</td>\n",
       "      <td>4.0</td>\n",
       "      <td>4.2</td>\n",
       "      <td>1.0</td>\n",
       "      <td>0.0</td>\n",
       "      <td>0.0</td>\n",
       "      <td>0.0</td>\n",
       "      <td>0.0</td>\n",
       "      <td>-1.000000e+00</td>\n",
       "      <td>8.500000e+09</td>\n",
       "      <td>7.900000e+09</td>\n",
       "      <td>-1.000000e+00</td>\n",
       "      <td>7.900000e+09</td>\n",
       "      <td>0.000000e+00</td>\n",
       "      <td>1.0</td>\n",
       "      <td>5.0</td>\n",
       "      <td>1.0</td>\n",
       "      <td>5.0</td>\n",
       "      <td>0.0</td>\n",
       "    </tr>\n",
       "    <tr>\n",
       "      <th>median</th>\n",
       "      <td>1.579153e+09</td>\n",
       "      <td>1.609949e+09</td>\n",
       "      <td>3.081603e+07</td>\n",
       "      <td>NaN</td>\n",
       "      <td>8.0</td>\n",
       "      <td>4.9</td>\n",
       "      <td>2.0</td>\n",
       "      <td>0.0</td>\n",
       "      <td>0.0</td>\n",
       "      <td>0.0</td>\n",
       "      <td>0.0</td>\n",
       "      <td>1.270000e+10</td>\n",
       "      <td>1.330000e+10</td>\n",
       "      <td>1.290000e+10</td>\n",
       "      <td>1.290000e+10</td>\n",
       "      <td>1.290000e+10</td>\n",
       "      <td>1.270000e+10</td>\n",
       "      <td>10.0</td>\n",
       "      <td>46.0</td>\n",
       "      <td>2.0</td>\n",
       "      <td>8.0</td>\n",
       "      <td>0.0</td>\n",
       "    </tr>\n",
       "    <tr>\n",
       "      <th>upper_quartile</th>\n",
       "      <td>1.597195e+09</td>\n",
       "      <td>1.609992e+09</td>\n",
       "      <td>5.252530e+07</td>\n",
       "      <td>NaN</td>\n",
       "      <td>16.0</td>\n",
       "      <td>5.0</td>\n",
       "      <td>14.0</td>\n",
       "      <td>1.0</td>\n",
       "      <td>0.0</td>\n",
       "      <td>0.0</td>\n",
       "      <td>0.0</td>\n",
       "      <td>2.200000e+10</td>\n",
       "      <td>2.006995e+10</td>\n",
       "      <td>1.990000e+10</td>\n",
       "      <td>2.260000e+10</td>\n",
       "      <td>1.990000e+10</td>\n",
       "      <td>2.200000e+10</td>\n",
       "      <td>335.5</td>\n",
       "      <td>273.0</td>\n",
       "      <td>15.0</td>\n",
       "      <td>9.0</td>\n",
       "      <td>0.0</td>\n",
       "    </tr>\n",
       "    <tr>\n",
       "      <th>max</th>\n",
       "      <td>3.115373e+09</td>\n",
       "      <td>1.610611e+09</td>\n",
       "      <td>1.248327e+08</td>\n",
       "      <td>None</td>\n",
       "      <td>80.0</td>\n",
       "      <td>5.0</td>\n",
       "      <td>7869.0</td>\n",
       "      <td>777.0</td>\n",
       "      <td>427.0</td>\n",
       "      <td>199.0</td>\n",
       "      <td>462.0</td>\n",
       "      <td>1.317000e+11</td>\n",
       "      <td>2.469000e+11</td>\n",
       "      <td>2.469000e+11</td>\n",
       "      <td>1.317000e+11</td>\n",
       "      <td>2.469000e+11</td>\n",
       "      <td>1.317000e+11</td>\n",
       "      <td>79919.0</td>\n",
       "      <td>189252.0</td>\n",
       "      <td>9737.0</td>\n",
       "      <td>9.0</td>\n",
       "      <td>1.0</td>\n",
       "    </tr>\n",
       "  </tbody>\n",
       "</table>\n",
       "</div>"
      ],
      "text/plain": [
       "                item_public_time  item_be_got_time     sell_time discount  options  rating_star  five_star  four_star  three_star  two_star  one_star  price_min_before_discount     price_max     price_min  price_max_before_discount         price  price_before_discount  liked_count  view_count  cmt_count  images  video_info_list\n",
       "missing_ratio       0.000000e+00      0.000000e+00  0.000000e+00        0      0.0          0.0        0.0        0.0         0.0       0.0       0.0               0.000000e+00  0.000000e+00  0.000000e+00               0.000000e+00  0.000000e+00           0.000000e+00          0.0         0.0        0.0     0.0              0.0\n",
       "min                 1.485162e+09      1.609910e+09 -1.504762e+09       1%      0.0          0.0        0.0        0.0         0.0       0.0       0.0              -2.000000e+00  3.900000e+08  3.900000e+08              -2.000000e+00  3.900000e+08           0.000000e+00          0.0         0.0        0.0     1.0              0.0\n",
       "lower_quartile      1.557428e+09      1.609917e+09  1.275420e+07      NaN      4.0          4.2        1.0        0.0         0.0       0.0       0.0              -1.000000e+00  8.500000e+09  7.900000e+09              -1.000000e+00  7.900000e+09           0.000000e+00          1.0         5.0        1.0     5.0              0.0\n",
       "median              1.579153e+09      1.609949e+09  3.081603e+07      NaN      8.0          4.9        2.0        0.0         0.0       0.0       0.0               1.270000e+10  1.330000e+10  1.290000e+10               1.290000e+10  1.290000e+10           1.270000e+10         10.0        46.0        2.0     8.0              0.0\n",
       "upper_quartile      1.597195e+09      1.609992e+09  5.252530e+07      NaN     16.0          5.0       14.0        1.0         0.0       0.0       0.0               2.200000e+10  2.006995e+10  1.990000e+10               2.260000e+10  1.990000e+10           2.200000e+10        335.5       273.0       15.0     9.0              0.0\n",
       "max                 3.115373e+09      1.610611e+09  1.248327e+08     None     80.0          5.0     7869.0      777.0       427.0     199.0     462.0               1.317000e+11  2.469000e+11  2.469000e+11               1.317000e+11  2.469000e+11           1.317000e+11      79919.0    189252.0     9737.0     9.0              1.0"
      ]
     },
     "execution_count": 38,
     "metadata": {},
     "output_type": "execute_result"
    }
   ],
   "source": [
    "def missing_ratio(df):\n",
    "    return (df.isna().mean() * 100).round(1)\n",
    "def lower_quartile(df):\n",
    "    return df.quantile(0.25)\n",
    "def median(df):\n",
    "    return df.quantile(0.5)\n",
    "def upper_quartile(df):\n",
    "    return df.quantile(0.75)\n",
    "df = train_X_df[num_cols]\n",
    "num_col_info_df = df.agg([missing_ratio, min, lower_quartile, median, upper_quartile, max]).round(1)\n",
    "num_col_info_df"
   ]
  },
  {
   "cell_type": "markdown",
   "metadata": {},
   "source": [
    "### 3. Phân bố giá trị của cột có kiểu dữ liệu không phải dạng số\n",
    "\n",
    "- Tỉ lệ % (từ 0 đến 100) các giá trị thiếu \n",
    "\n",
    "- Số lượng các giá trị (các giá trị ở đây là các giá trị khác nhau và ta không xét giá trị thiếu)\n",
    "\n",
    "- Tỉ lệ % (từ 0 đến 100) của mỗi giá trị được sort theo tỉ lệ % giảm dần (ta không xét giá trị thiếu, tỉ lệ là tỉ lệ so với số lượng các giá trị không thiếu): dùng dictionary để lưu, key là giá trị, value là tỉ lệ %\n",
    "\n",
    "Kết quả được lưu vào DataFrame `cat_col_info_df`, trong đó: \n",
    "\n",
    "- Tên của các cột là tên của các cột không phải số trong `train_X_df`\n",
    "- Tên của các dòng là: \"missing_ratio\", \"num_values\", \"value_ratios\"  "
   ]
  },
  {
   "cell_type": "code",
   "execution_count": 39,
   "metadata": {},
   "outputs": [
    {
     "data": {
      "text/html": [
       "<div>\n",
       "<style scoped>\n",
       "    .dataframe tbody tr th:only-of-type {\n",
       "        vertical-align: middle;\n",
       "    }\n",
       "\n",
       "    .dataframe tbody tr th {\n",
       "        vertical-align: top;\n",
       "    }\n",
       "\n",
       "    .dataframe thead th {\n",
       "        text-align: right;\n",
       "    }\n",
       "</style>\n",
       "<table border=\"1\" class=\"dataframe\">\n",
       "  <thead>\n",
       "    <tr style=\"text-align: right;\">\n",
       "      <th></th>\n",
       "      <th>shopee_verified</th>\n",
       "      <th>is_adult</th>\n",
       "      <th>category_id</th>\n",
       "      <th>shop_location</th>\n",
       "      <th>show_official_shop_label_in_title</th>\n",
       "      <th>coin_earn_label</th>\n",
       "      <th>upcoming_flash_sale</th>\n",
       "      <th>is_preferred_plus_seller</th>\n",
       "      <th>show_free_shipping</th>\n",
       "      <th>flash_sale</th>\n",
       "      <th>name</th>\n",
       "    </tr>\n",
       "  </thead>\n",
       "  <tbody>\n",
       "    <tr>\n",
       "      <th>missing_ratio</th>\n",
       "      <td>0</td>\n",
       "      <td>0</td>\n",
       "      <td>0</td>\n",
       "      <td>0</td>\n",
       "      <td>0</td>\n",
       "      <td>0</td>\n",
       "      <td>0</td>\n",
       "      <td>0</td>\n",
       "      <td>0</td>\n",
       "      <td>0</td>\n",
       "      <td>0</td>\n",
       "    </tr>\n",
       "    <tr>\n",
       "      <th>num_values</th>\n",
       "      <td>2</td>\n",
       "      <td>4</td>\n",
       "      <td>7</td>\n",
       "      <td>33</td>\n",
       "      <td>5</td>\n",
       "      <td>1</td>\n",
       "      <td>1</td>\n",
       "      <td>2</td>\n",
       "      <td>2</td>\n",
       "      <td>1</td>\n",
       "      <td>1479</td>\n",
       "    </tr>\n",
       "    <tr>\n",
       "      <th>value_ratios</th>\n",
       "      <td>{False: 59.7, True: 40.3}</td>\n",
       "      <td>{False: 88.6, 'False': 11.2, True: 0.1, 'None': 0.1}</td>\n",
       "      <td>{8947: 23.9, 2429: 22.9, 1899: 18.5, 9572: 12.3, 2831: 11.3, 2829: 8.0, 8945: 3.2}</td>\n",
       "      <td>{'Hà Nội': 52.9, 'TP. Hồ Chí Minh': 22.2, 'Nước ngoài': 16.8, 'None': 1.3, 'Quảng Ninh': 0.9, 'Phú Thọ': 0.6, 'Đồng Nai': 0.6, 'Hà Nam': 0.6, 'Bình Dương': 0.6, 'Lào Cai': 0.4, 'Thái Bình': 0.3, 'Bình Định': 0.3, 'Hưng Yên': 0.3, 'Hải Dương': 0.3, 'TP. Hồ Chí': 0.3, 'Thái Nguyên': 0.2, 'Hải Phòng': 0.2, 'Nghệ An': 0.1, 'Thừa Thiên Huế': 0.1, 'Bà Rịa - Vũng Tàu': 0.1, 'Đà Nẵng': 0.1, 'Kon Tum': 0.1, 'Cà Mau': 0.1, 'Ninh Bình': 0.1, 'Vĩnh Phúc': 0.1, 'Cần Thơ': 0.1, 'Lâm Đồng': 0.1, 'Lạng Sơn': 0.1, 'Tiền Giang': 0.1, 'Bắc Ninh': 0.1, 'Nam Định': 0.1, 'Hà ': 0.1, 'Thanh Hóa': 0.1}</td>\n",
       "      <td>{False: 66.6, 'False': 26.8, True: 3.7, 'None': 1.7, 'True': 1.2}</td>\n",
       "      <td>{'None': 100.0}</td>\n",
       "      <td>{'None': 100.0}</td>\n",
       "      <td>{False: 94.1, True: 5.9}</td>\n",
       "      <td>{False: 53.2, True: 46.8}</td>\n",
       "      <td>{'None': 100.0}</td>\n",
       "      <td>{'Quần tây nam vải co giãn ống côn ĐẲNG CẤP thời trang nam': 0.6, 'Áo Hoodies Có Nón Dài Tay Thời Trang Nam': 0.5, 'Giày Nam Thể Thao Thời Trang Nam bền đẹp giá rẻ': 0.3, 'Giày sneaker thời trang nam cao cấp -GTTB13': 0.3, 'Áo sơ mi đũi NPV thời trang nam,áo sơ mi nam cao cấp phong cách nam tính 3 màu': 0.3, 'Giày sneaker thời trang nam cao cấp 2018-GTTB13': 0.3, 'Giày Sneaker Sup thời trang nam mẫu mới đế siêu bền': 0.2, 'Quần tây âu (2 Màu ĐEN  XANH) Nam Nữ Unisex [Thời trang nam]': 0.2, 'Giày Lười Canvas Thời Trang Nam': 0.2, 'Áo Sơ Mi Thời Trang Nam Cao Cấp BT1': 0.2, 'Áo sơ mi thời trang Nam Hàn Quốc': 0.2, '(Hàng sịn ) Quần Âu Nam Đẹp KOREA vải mịn co dãn màu ghi nhạt, ghi đậm, đen, xanh đen [Thời trang nam]': 0.2, 'BALO THỜI TRANG NAM PHONG CÁCH MỚI': 0.2, '[LIMITED+FULLBOX] #AMMY - Giày Nam DIOR Cao Cấp - GIÀY GUCCI thời trang Nam Sneaker-Đế Bệt 2cm-Khử Mùi Hôi-Mẫu Độc Quyền': 0.2, 'Áo Sơ Mi Nam trắng dài tay Hàn Quốc form body, vải lụa Thái chống nhăn [Thời Trang Nam]': 0.2, 'Nón Snapback Nam Nữ Thời Trang N86 - Mũ Hiphop N86': 0.1, 'GIÀY SNEAKER QP MS9 THỜI TRANG NAM - MÀU ĐEN': 0.1, 'Giày sneaker thời trang nam cao cấp-GTTB14': 0.1, 'Áo Len Cổ Tròn Dài Tay Thời Trang Nam': 0.1, 'Quần âu nam đẹp dáng ôm vải co giãn phong cách thời trang nam hàn quốc': 0.1, 'Balo thời trang nam ❣️freship❣️ balo gucci': 0.1, 'Giày Nam Thể Thao Thời Trang Nam Phong Cách 2020 - GN92': 0.1, 'Giày sneaker thời trang nam cao cấp - GTTB13': 0.1, 'Vớ thời trang nam': 0.1, '5 Quần tây nam vải co giãn ống côn thời trang nam': 0.1, 'Quần Dài Ống Đứng Thời Trang Nam': 0.1, 'Quần Jean Rách Thời Trang Nam': 0.1, 'Quần Ngắn Lưng Thun Thời Trang Nam': 0.1, 'Quần tây âu (2 Màu ĐEN XÁM) Nam Nữ Unisex [Thời trang nam]': 0.1, 'Áo sơ mi kẻ sọc NPV thời trang nam,áo sơ mi nam cao cấp phong cách nam tính 3 màu': 0.1, 'Giày Nam Thể Thao Thời Trang Nam': 0.1, '🔥HOT🔥 áo phông unisex in hình đẹp ⚡ FREESHIP ⚡Áo thun ZORO đẹp giá rẻ thời trang nam': 0.1, 'Túi đeo chéo Champion thời trang nam': 0.1, '🔥HOT🔥 áo Free Fire in hình đẹp ⚡ FREESHIP ⚡Áo game Free Fire đẹp giá rẻ thời trang nam': 0.1, 'Quần tây nam (đen) ống côn dáng body, phong cách thời trang nam cao cấp': 0.1, 'Giày sneaker thời trang nam cao cấp- MS3 1347': 0.1, 'Áo Khoác Sơ Mi Caro Thời Trang Nam': 0.1, 'Áo Sơ Mi Thời Trang Nam Chống Nhăn': 0.1, 'Áo thun thời trang nam cộc tay siêu đẹp xịn - Levis': 0.1, 'Túi xách thời trang nam': 0.1, 'Giày sneaker thời trang nam cao cấp- Verygood- MS10': 0.1, 'Quần Dài Lưng Thun Thời Trang Nam': 0.1, '[SALE HOT] Balo Thời trang Nam Đẹp - Balo chống nước, Đựng laptop cỡ vừa': 0.1, 'Dép Hot Hit Thái Siêu Nhẹ Xỏ Ngón Thời Trang Nam DT11': 0.1, 'Mũ Lưỡi Trai hàn quốc Reclusive ❤️ Nón Lưỡi Trai Thời trang ❤️ Nón Kết nam nữ đẹp': 0.1, '[Freeship] Giày Sneaker nam thể thao phong cách hàng đẹp và chất lượng - Phố Thời Trang Nam SNK11': 0.1, 'Quần lót co giãn eo thấp mùa hè phong cách thể thao thời trang nam gợi cảm': 0.1, 'Giày Thể Thao Thời Trang Nam Bateno BT83': 0.1, '[HOT] Mũ thời trang LV - mũ bucket cao cấp nam nữ': 0.1, '( XẢ KHO - GIÁ SỐC ) Ví Da Bò THẬT  thời trang nam cao cấp': 0.1, 'Combo 3 Đôi Tất Vớ Cổ Ngắn Nam Chống Hôi Kháng Khuẩn Khử Mùi MRM Manlywear': 0.1, '[Quần Jogger]_ Quần dài thu đông thời trang nam, Mã Q49': 0.1, '★THỜI TRANG NAM★Aluminum Alloy Credit Card Holder Wallet Antimagnetic Waterproof Protective Case': 0.1, 'Quần Jogger thời trang nam chất liệu vải umi One 55 One shop': 0.1, 'Quần tây nam hàn quốc công sở đẹp ống côn [Thời Trang Nam]': 0.1, 'Áo thun lạnh cổ tròn nam thời trang nam 036, phom 40-75kg.': 0.1, 'Balo Nữ Thời Trang Nam Chống Nước Style Hàn Quốc BL12': 0.1, 'QUẦN SHORT NAM - kaki thời trang nam chất liệu cotton mềm mịn, quần sọt kaki ngang gối thoáng mát QK04': 0.1, 'Kẹp cà vạt kim loại thiết kế đơn giản thời trang nam': 0.1, 'Áo thun Không Cổ Ngắn Tay Mẫu Mới Nhất 2020 Fom 45 - 75kg, Áo cộc tay thời trang nam (AKC02)': 0.1, 'Túi đeo chéo nam. túi da đeo chéo , túi da thời trang nam loại DA07': 0.1, 'Giày thể thao da trắng thời trang Nam, Giày Sneakers Nam, mẫu hot năm 2019': 0.1, 'Ví da nam cầm tay VARADO VD014  cao cấp thời trang': 0.1, 'Balo Da Thời Trang Nam Phối Họa Tiết Vòng Đặc Biệt 2020 Bazan_shop BZ429': 0.1, 'Túi Đeo Chéo Canvas Thời Trang Nam - Tích Hợp Cổng Sạc USB Tiện Dụng': 0.1, 'Áo Sơ Mi Nam Dài Tay Trắng Kẻ Sọc Đen Chất Vải Lụa Thô Cao Cấp Form Body Phong Cách Công Sở Trẻ Trung Năng Động [SM7]': 0.1, 'Áo hoodie in logo ADIDAS 3D dáng rộng thời trang nam': 0.1, '⭐️GIÁ HỦY DIỆT⭐️BALO DA D8685🔥BALO DA THỜI TRANG NAM ĐI LÀM ĐI HỌC ĐI CHƠI': 0.1, 'Giày thời trang nam Hàn Quốc kiểu dây buộc Rozalo RM5632': 0.1, 'GIÀY SNEAKER THỜI TRANG NAM VERYGOOD MS9 QP - MÀU ĐEN 1381 MS9': 0.1, 'Áo khoác kiểu dáng đơn giản phong cách Hàn Quốc hợp thời trang cho nam/nữ': 0.1, 'Áo Thun Polo Dệt Kim Dài Tay Thời Trang Nam Trung Niên': 0.1, '[XẢ KHO GIÁ SỐC] _ Áo gió mặc hai mặt cao cấp thời trang nam, Mã A01': 0.1, '[Kapo Shop] Áo Khoác Jean Nam Xanh Sáng, Thời Trang Nam Cao Cấp Hàng Đẹp Co Giãn Không Ra Màu': 0.1, 'Cặp đeo chéo thời trang nam Tactical 511 Delivery Lima size lớn': 0.1, '[Ảnh thật ở sau] Áo sơ mi nam cổ trụ phối túi vuông thời trang nam đồ nam chất lượng': 0.1, 'Áo thời trang nam Áo Sơ Mi Nam Hàn Quốc Ngắn Tay áo sơ mi': 0.1, 'Túi đeo hông phong cách quân sự thời trang nam cho hoạt động chạy bộ': 0.1, 'Quần chất liệu vải đũi, có ống bo chun thời trang nam , Mã 21': 0.1, 'Áo sơ mi thời trang nam in hình ảnh nhiều màu sắc thú vị phong cách Hawaii': 0.1, '💖HÀNG XỊN💖BALO NAM THỜI TRANG💖BALO VẢI DÙ DÂY RÚT NĂNG ĐỘNG': 0.1, 'quần short tây nam , quần nam ngắn tây âu kiểu dáng trẻ trung': 0.1, 'Khăn cài túi áo Vest họa tiết Paisley dành cho nam - Phụ kiện cài áo cao cấp thời trang': 0.1, 'Quần âu nam đen thêu họa tiết con ong, vải không nhăn, không xù(QAHT)': 0.1, 'Áo thun hoodie tay ngắn thời trang nam thể thao năng động': 0.1, 'Áo thu đông nam dài tay chất nỉ Thái phối logo ngực hàng may đep dày mịn mã SW21': 0.1, 'Quần lửng thời trang nam chất vải đũi cao cấp phom 40-75kg, Mã 40 One shop': 0.1, 'Nón mũ lưỡi trai NY đen nam nữ đẹp Logo Thêu New York vải kaki trẻ trung thời trang': 0.1, 'Giày lười thời trang nam cá tính siêu mềm êm đi nhẹ chân- GTTB12 1511': 0.1, 'Giày Nam Thể Thao Giày Sneaker Thời Trang Nam 031': 0.1, 'Quần thể thao nam nỉ dày dặn 3 sọc THE 1992 Jogger 3 lines 508': 0.1, 'Nơ cài cổ áo và Khăn cài túi áo Vest thời trang NO-80 và khăn KT-10 {Phụ Kiện Áo Vest Nam - AdamZone}': 0.1, 'Mũ nón lưỡi trai thời trang nam': 0.1, 'Áo Sơ Mi Thời Trang Nam Cao Cấp (Xanh Đậm) BT1': 0.1, 'Áo sơ mi ngắn tay vải denim thời trang nam năng động': 0.1, 'L129- GIÀY VẢI PHỐI MÀU THỔ CẨM (ẢNH THẬT KÈM VIDEO) - THỜI TRANG NAM SPORTMAN - L129': 0.1, 'Áo Khoác Phao Không Tay Khóa Kéo Thời Trang Nam': 0.1, 'Áo Sơ Mi Ngắn Tay Họa Tiết Dân Tộc Thời Trang Nam': 0.1, 'Túi đeo chéo nam chất liệu da PU chống nước 3 màu thời trang hàn quốc TC124': 0.1, 'Giày lười gót da thời trang nam': 0.1, ...}</td>\n",
       "    </tr>\n",
       "  </tbody>\n",
       "</table>\n",
       "</div>"
      ],
      "text/plain": [
       "                         shopee_verified                                              is_adult                                                                         category_id                                                                                                                                                                                                                                                                                                                                                                                                                                                                                                                                                                                              shop_location                                  show_official_shop_label_in_title  coin_earn_label upcoming_flash_sale  is_preferred_plus_seller         show_free_shipping       flash_sale  \\\n",
       "missing_ratio                          0                                                     0                                                                                   0                                                                                                                                                                                                                                                                                                                                                                                                                                                                                                                                                                                                          0                                                                  0                0                   0                         0                          0                0   \n",
       "num_values                             2                                                     4                                                                                   7                                                                                                                                                                                                                                                                                                                                                                                                                                                                                                                                                                                                         33                                                                  5                1                   1                         2                          2                1   \n",
       "value_ratios   {False: 59.7, True: 40.3}  {False: 88.6, 'False': 11.2, True: 0.1, 'None': 0.1}  {8947: 23.9, 2429: 22.9, 1899: 18.5, 9572: 12.3, 2831: 11.3, 2829: 8.0, 8945: 3.2}  {'Hà Nội': 52.9, 'TP. Hồ Chí Minh': 22.2, 'Nước ngoài': 16.8, 'None': 1.3, 'Quảng Ninh': 0.9, 'Phú Thọ': 0.6, 'Đồng Nai': 0.6, 'Hà Nam': 0.6, 'Bình Dương': 0.6, 'Lào Cai': 0.4, 'Thái Bình': 0.3, 'Bình Định': 0.3, 'Hưng Yên': 0.3, 'Hải Dương': 0.3, 'TP. Hồ Chí': 0.3, 'Thái Nguyên': 0.2, 'Hải Phòng': 0.2, 'Nghệ An': 0.1, 'Thừa Thiên Huế': 0.1, 'Bà Rịa - Vũng Tàu': 0.1, 'Đà Nẵng': 0.1, 'Kon Tum': 0.1, 'Cà Mau': 0.1, 'Ninh Bình': 0.1, 'Vĩnh Phúc': 0.1, 'Cần Thơ': 0.1, 'Lâm Đồng': 0.1, 'Lạng Sơn': 0.1, 'Tiền Giang': 0.1, 'Bắc Ninh': 0.1, 'Nam Định': 0.1, 'Hà ': 0.1, 'Thanh Hóa': 0.1}  {False: 66.6, 'False': 26.8, True: 3.7, 'None': 1.7, 'True': 1.2}  {'None': 100.0}     {'None': 100.0}  {False: 94.1, True: 5.9}  {False: 53.2, True: 46.8}  {'None': 100.0}   \n",
       "\n",
       "                                                                                                                                                                                                                                                                                                                                                                                                                                                                                                                                                                                                                                                                                                                                                                                                                                                                                                                                                                                                                                                                                                                                                                                                                                                                                                                                                                                                                                                                                                                                                                                                                                                                                                                                                                                                                                                                                                                                                                                                                                                                                                                                                                                                                                                                                                                                                                                                                                                                                                                                                                                                                                                                                                                                                                                                                                                                                                                                                                                                                                                                                                                                                                                                                                                                                                                                                                                                                                                                                                                                                                                                                                                                                                                                                                                                                                                                                                                                                                                                                                                                                                                                                                                                                                                                                                                                                                                                                                                                                                                                                                                                                                                                                                                                                                                                                                                                                                                                                                                                                                                                                                                                                                                                                                                                                                                                                                                                                                                                                                                                                                                                                                                                                                                                                                                                                                                                                                                                                                                                                                                                                                                                                                                                                                                                                                                                                                                                                                                                                                                                                                                                                                                                                                                                                                                                                                                                                                                                                                                                                                                                                                                                                                                                                  name  \n",
       "missing_ratio                                                                                                                                                                                                                                                                                                                                                                                                                                                                                                                                                                                                                                                                                                                                                                                                                                                                                                                                                                                                                                                                                                                                                                                                                                                                                                                                                                                                                                                                                                                                                                                                                                                                                                                                                                                                                                                                                                                                                                                                                                                                                                                                                                                                                                                                                                                                                                                                                                                                                                                                                                                                                                                                                                                                                                                                                                                                                                                                                                                                                                                                                                                                                                                                                                                                                                                                                                                                                                                                                                                                                                                                                                                                                                                                                                                                                                                                                                                                                                                                                                                                                                                                                                                                                                                                                                                                                                                                                                                                                                                                                                                                                                                                                                                                                                                                                                                                                                                                                                                                                                                                                                                                                                                                                                                                                                                                                                                                                                                                                                                                                                                                                                                                                                                                                                                                                                                                                                                                                                                                                                                                                                                                                                                                                                                                                                                                                                                                                                                                                                                                                                                                                                                                                                                                                                                                                                                                                                                                                                                                                                                                                                                                                                                                        0  \n",
       "num_values                                                                                                                                                                                                                                                                                                                                                                                                                                                                                                                                                                                                                                                                                                                                                                                                                                                                                                                                                                                                                                                                                                                                                                                                                                                                                                                                                                                                                                                                                                                                                                                                                                                                                                                                                                                                                                                                                                                                                                                                                                                                                                                                                                                                                                                                                                                                                                                                                                                                                                                                                                                                                                                                                                                                                                                                                                                                                                                                                                                                                                                                                                                                                                                                                                                                                                                                                                                                                                                                                                                                                                                                                                                                                                                                                                                                                                                                                                                                                                                                                                                                                                                                                                                                                                                                                                                                                                                                                                                                                                                                                                                                                                                                                                                                                                                                                                                                                                                                                                                                                                                                                                                                                                                                                                                                                                                                                                                                                                                                                                                                                                                                                                                                                                                                                                                                                                                                                                                                                                                                                                                                                                                                                                                                                                                                                                                                                                                                                                                                                                                                                                                                                                                                                                                                                                                                                                                                                                                                                                                                                                                                                                                                                                                                        1479  \n",
       "value_ratios   {'Quần tây nam vải co giãn ống côn ĐẲNG CẤP thời trang nam': 0.6, 'Áo Hoodies Có Nón Dài Tay Thời Trang Nam': 0.5, 'Giày Nam Thể Thao Thời Trang Nam bền đẹp giá rẻ': 0.3, 'Giày sneaker thời trang nam cao cấp -GTTB13': 0.3, 'Áo sơ mi đũi NPV thời trang nam,áo sơ mi nam cao cấp phong cách nam tính 3 màu': 0.3, 'Giày sneaker thời trang nam cao cấp 2018-GTTB13': 0.3, 'Giày Sneaker Sup thời trang nam mẫu mới đế siêu bền': 0.2, 'Quần tây âu (2 Màu ĐEN  XANH) Nam Nữ Unisex [Thời trang nam]': 0.2, 'Giày Lười Canvas Thời Trang Nam': 0.2, 'Áo Sơ Mi Thời Trang Nam Cao Cấp BT1': 0.2, 'Áo sơ mi thời trang Nam Hàn Quốc': 0.2, '(Hàng sịn ) Quần Âu Nam Đẹp KOREA vải mịn co dãn màu ghi nhạt, ghi đậm, đen, xanh đen [Thời trang nam]': 0.2, 'BALO THỜI TRANG NAM PHONG CÁCH MỚI': 0.2, '[LIMITED+FULLBOX] #AMMY - Giày Nam DIOR Cao Cấp - GIÀY GUCCI thời trang Nam Sneaker-Đế Bệt 2cm-Khử Mùi Hôi-Mẫu Độc Quyền': 0.2, 'Áo Sơ Mi Nam trắng dài tay Hàn Quốc form body, vải lụa Thái chống nhăn [Thời Trang Nam]': 0.2, 'Nón Snapback Nam Nữ Thời Trang N86 - Mũ Hiphop N86': 0.1, 'GIÀY SNEAKER QP MS9 THỜI TRANG NAM - MÀU ĐEN': 0.1, 'Giày sneaker thời trang nam cao cấp-GTTB14': 0.1, 'Áo Len Cổ Tròn Dài Tay Thời Trang Nam': 0.1, 'Quần âu nam đẹp dáng ôm vải co giãn phong cách thời trang nam hàn quốc': 0.1, 'Balo thời trang nam ❣️freship❣️ balo gucci': 0.1, 'Giày Nam Thể Thao Thời Trang Nam Phong Cách 2020 - GN92': 0.1, 'Giày sneaker thời trang nam cao cấp - GTTB13': 0.1, 'Vớ thời trang nam': 0.1, '5 Quần tây nam vải co giãn ống côn thời trang nam': 0.1, 'Quần Dài Ống Đứng Thời Trang Nam': 0.1, 'Quần Jean Rách Thời Trang Nam': 0.1, 'Quần Ngắn Lưng Thun Thời Trang Nam': 0.1, 'Quần tây âu (2 Màu ĐEN XÁM) Nam Nữ Unisex [Thời trang nam]': 0.1, 'Áo sơ mi kẻ sọc NPV thời trang nam,áo sơ mi nam cao cấp phong cách nam tính 3 màu': 0.1, 'Giày Nam Thể Thao Thời Trang Nam': 0.1, '🔥HOT🔥 áo phông unisex in hình đẹp ⚡ FREESHIP ⚡Áo thun ZORO đẹp giá rẻ thời trang nam': 0.1, 'Túi đeo chéo Champion thời trang nam': 0.1, '🔥HOT🔥 áo Free Fire in hình đẹp ⚡ FREESHIP ⚡Áo game Free Fire đẹp giá rẻ thời trang nam': 0.1, 'Quần tây nam (đen) ống côn dáng body, phong cách thời trang nam cao cấp': 0.1, 'Giày sneaker thời trang nam cao cấp- MS3 1347': 0.1, 'Áo Khoác Sơ Mi Caro Thời Trang Nam': 0.1, 'Áo Sơ Mi Thời Trang Nam Chống Nhăn': 0.1, 'Áo thun thời trang nam cộc tay siêu đẹp xịn - Levis': 0.1, 'Túi xách thời trang nam': 0.1, 'Giày sneaker thời trang nam cao cấp- Verygood- MS10': 0.1, 'Quần Dài Lưng Thun Thời Trang Nam': 0.1, '[SALE HOT] Balo Thời trang Nam Đẹp - Balo chống nước, Đựng laptop cỡ vừa': 0.1, 'Dép Hot Hit Thái Siêu Nhẹ Xỏ Ngón Thời Trang Nam DT11': 0.1, 'Mũ Lưỡi Trai hàn quốc Reclusive ❤️ Nón Lưỡi Trai Thời trang ❤️ Nón Kết nam nữ đẹp': 0.1, '[Freeship] Giày Sneaker nam thể thao phong cách hàng đẹp và chất lượng - Phố Thời Trang Nam SNK11': 0.1, 'Quần lót co giãn eo thấp mùa hè phong cách thể thao thời trang nam gợi cảm': 0.1, 'Giày Thể Thao Thời Trang Nam Bateno BT83': 0.1, '[HOT] Mũ thời trang LV - mũ bucket cao cấp nam nữ': 0.1, '( XẢ KHO - GIÁ SỐC ) Ví Da Bò THẬT  thời trang nam cao cấp': 0.1, 'Combo 3 Đôi Tất Vớ Cổ Ngắn Nam Chống Hôi Kháng Khuẩn Khử Mùi MRM Manlywear': 0.1, '[Quần Jogger]_ Quần dài thu đông thời trang nam, Mã Q49': 0.1, '★THỜI TRANG NAM★Aluminum Alloy Credit Card Holder Wallet Antimagnetic Waterproof Protective Case': 0.1, 'Quần Jogger thời trang nam chất liệu vải umi One 55 One shop': 0.1, 'Quần tây nam hàn quốc công sở đẹp ống côn [Thời Trang Nam]': 0.1, 'Áo thun lạnh cổ tròn nam thời trang nam 036, phom 40-75kg.': 0.1, 'Balo Nữ Thời Trang Nam Chống Nước Style Hàn Quốc BL12': 0.1, 'QUẦN SHORT NAM - kaki thời trang nam chất liệu cotton mềm mịn, quần sọt kaki ngang gối thoáng mát QK04': 0.1, 'Kẹp cà vạt kim loại thiết kế đơn giản thời trang nam': 0.1, 'Áo thun Không Cổ Ngắn Tay Mẫu Mới Nhất 2020 Fom 45 - 75kg, Áo cộc tay thời trang nam (AKC02)': 0.1, 'Túi đeo chéo nam. túi da đeo chéo , túi da thời trang nam loại DA07': 0.1, 'Giày thể thao da trắng thời trang Nam, Giày Sneakers Nam, mẫu hot năm 2019': 0.1, 'Ví da nam cầm tay VARADO VD014  cao cấp thời trang': 0.1, 'Balo Da Thời Trang Nam Phối Họa Tiết Vòng Đặc Biệt 2020 Bazan_shop BZ429': 0.1, 'Túi Đeo Chéo Canvas Thời Trang Nam - Tích Hợp Cổng Sạc USB Tiện Dụng': 0.1, 'Áo Sơ Mi Nam Dài Tay Trắng Kẻ Sọc Đen Chất Vải Lụa Thô Cao Cấp Form Body Phong Cách Công Sở Trẻ Trung Năng Động [SM7]': 0.1, 'Áo hoodie in logo ADIDAS 3D dáng rộng thời trang nam': 0.1, '⭐️GIÁ HỦY DIỆT⭐️BALO DA D8685🔥BALO DA THỜI TRANG NAM ĐI LÀM ĐI HỌC ĐI CHƠI': 0.1, 'Giày thời trang nam Hàn Quốc kiểu dây buộc Rozalo RM5632': 0.1, 'GIÀY SNEAKER THỜI TRANG NAM VERYGOOD MS9 QP - MÀU ĐEN 1381 MS9': 0.1, 'Áo khoác kiểu dáng đơn giản phong cách Hàn Quốc hợp thời trang cho nam/nữ': 0.1, 'Áo Thun Polo Dệt Kim Dài Tay Thời Trang Nam Trung Niên': 0.1, '[XẢ KHO GIÁ SỐC] _ Áo gió mặc hai mặt cao cấp thời trang nam, Mã A01': 0.1, '[Kapo Shop] Áo Khoác Jean Nam Xanh Sáng, Thời Trang Nam Cao Cấp Hàng Đẹp Co Giãn Không Ra Màu': 0.1, 'Cặp đeo chéo thời trang nam Tactical 511 Delivery Lima size lớn': 0.1, '[Ảnh thật ở sau] Áo sơ mi nam cổ trụ phối túi vuông thời trang nam đồ nam chất lượng': 0.1, 'Áo thời trang nam Áo Sơ Mi Nam Hàn Quốc Ngắn Tay áo sơ mi': 0.1, 'Túi đeo hông phong cách quân sự thời trang nam cho hoạt động chạy bộ': 0.1, 'Quần chất liệu vải đũi, có ống bo chun thời trang nam , Mã 21': 0.1, 'Áo sơ mi thời trang nam in hình ảnh nhiều màu sắc thú vị phong cách Hawaii': 0.1, '💖HÀNG XỊN💖BALO NAM THỜI TRANG💖BALO VẢI DÙ DÂY RÚT NĂNG ĐỘNG': 0.1, 'quần short tây nam , quần nam ngắn tây âu kiểu dáng trẻ trung': 0.1, 'Khăn cài túi áo Vest họa tiết Paisley dành cho nam - Phụ kiện cài áo cao cấp thời trang': 0.1, 'Quần âu nam đen thêu họa tiết con ong, vải không nhăn, không xù(QAHT)': 0.1, 'Áo thun hoodie tay ngắn thời trang nam thể thao năng động': 0.1, 'Áo thu đông nam dài tay chất nỉ Thái phối logo ngực hàng may đep dày mịn mã SW21': 0.1, 'Quần lửng thời trang nam chất vải đũi cao cấp phom 40-75kg, Mã 40 One shop': 0.1, 'Nón mũ lưỡi trai NY đen nam nữ đẹp Logo Thêu New York vải kaki trẻ trung thời trang': 0.1, 'Giày lười thời trang nam cá tính siêu mềm êm đi nhẹ chân- GTTB12 1511': 0.1, 'Giày Nam Thể Thao Giày Sneaker Thời Trang Nam 031': 0.1, 'Quần thể thao nam nỉ dày dặn 3 sọc THE 1992 Jogger 3 lines 508': 0.1, 'Nơ cài cổ áo và Khăn cài túi áo Vest thời trang NO-80 và khăn KT-10 {Phụ Kiện Áo Vest Nam - AdamZone}': 0.1, 'Mũ nón lưỡi trai thời trang nam': 0.1, 'Áo Sơ Mi Thời Trang Nam Cao Cấp (Xanh Đậm) BT1': 0.1, 'Áo sơ mi ngắn tay vải denim thời trang nam năng động': 0.1, 'L129- GIÀY VẢI PHỐI MÀU THỔ CẨM (ẢNH THẬT KÈM VIDEO) - THỜI TRANG NAM SPORTMAN - L129': 0.1, 'Áo Khoác Phao Không Tay Khóa Kéo Thời Trang Nam': 0.1, 'Áo Sơ Mi Ngắn Tay Họa Tiết Dân Tộc Thời Trang Nam': 0.1, 'Túi đeo chéo nam chất liệu da PU chống nước 3 màu thời trang hàn quốc TC124': 0.1, 'Giày lười gót da thời trang nam': 0.1, ...}  "
      ]
     },
     "execution_count": 39,
     "metadata": {},
     "output_type": "execute_result"
    }
   ],
   "source": [
    "def missing_ratio(df):\n",
    "    return (df.isna().mean() * 100).round(1)\n",
    "def num_values(df):\n",
    "    return df.nunique()\n",
    "def value_ratios(c):\n",
    "    return dict((c.value_counts(normalize=True) * 100).round(1))\n",
    "df = train_X_df[cat_cols]\n",
    "cat_col_info_df = df.agg([missing_ratio, num_values, value_ratios])\n",
    "cat_col_info_df"
   ]
  },
  {
   "cell_type": "markdown",
   "metadata": {},
   "source": [
    "## V. Tiền xử lý cho tập huấn luyện"
   ]
  },
  {
   "cell_type": "markdown",
   "metadata": {},
   "source": [
    "### 1. Xử lý khác biệt ngữ nghĩa do parse data từ JSON\n",
    "\n",
    "Do dữ liệu trả về từ API của shopee, những dữ liệu thiếu có dạng string: 'None' nên pandas sẽ không đếm được lượng dữ liệu không có giá trị này. Ta tiến hành thay 'None' thành np.nan để có thể đếm lượng dữ liệu thiếu này chính xác."
   ]
  },
  {
   "cell_type": "markdown",
   "metadata": {},
   "source": [
    "### 2. Bỏ cột\n",
    "\n",
    "Ta sẽ tiến hành bỏ những cột sau:\n",
    "- `name`: do quá nhiều giá trị\n",
    "- `is_adult`: giá trị False chiếm 100%\n",
    "- `flash_sale`, `upcoming_flash_sale`, `coin_earn_label`: Thiếu 100% giá trị"
   ]
  },
  {
   "cell_type": "markdown",
   "metadata": {},
   "source": [
    "### 3. Sửa cột\n",
    "Ta tiến hành sửa những cột sau: \n",
    "- `shop_location`: ta thấy có khá nhiều giá trị khác nhau trong tập huấn luyện (46 giá trị), trong đó có các giá trị chỉ xuất hiện một hoặc một ít lần; nếu ta để nguyên thì khi chuyển sang dạng số bằng phương pháp one-hot sẽ có nhiều cột → dễ bị overfit. Ta sẽ xử lý vấn đề này như sau: chỉ lấy 3 location có giá trị xuất hiện nhiều nhất, các giá trị còn lại sẽ được thay thế bằng giá trị \"Others\". Ngoài ra, thuộc tính shop_location cũng có giá trị thiếu, lưu ý rằng các dữ liệu này vẫn hoạt động tốt trên Shopee nên ta dùng lệnh sau để xem những mẫu nào bị _thiếu_ và đối chiếu với trên shopee.\n",
    "\n",
    "Sau khi đối chiếu ta được kết quả sau: \n",
    "\n",
    "Mẫu không thiếu:\n",
    "\n",
    "![shop_location_not_missing_value](images/shop_location_not_missing_value.jpg)\n",
    "\n",
    "Mẫu thiếu:\n",
    "\n",
    "![shop_location_missing_value](images/shop_location_missing_value.jpg)\n",
    "\n",
    "Tức là những mẫu có thuộc tính shop_location thiếu sẽ không hiển thị vị trí shop ở góc dưới.\n",
    "\n",
    "Vậy ta sẽ xử lý bằng cách thay các giá trị thiếu này thành chuỗi \"None\".\n",
    "\n",
    "- `discount`: có thêm kí tự % đằng sau nên có kiểu chuỗi, vậy ta sẽ tách số ra đó và chuyển thành số. Ngoài ra, ta còn thấy `discount` có giá trị thiếu. Kiểm tra đối chiếu với các item trên Shopee, ta thấy thực tế những mẫu bị _thiếu_ dữ liệu ở thuộc tính discount là do không có giảm giá (discount = 0). Ta tiến hành sửa bằng cách thay giá trị nan tại cột này thành 0.\n",
    "\n",
    "- `shopee_verified`, `show_official_shop_label_in_title`, `is_preferred_plus_seller`, `show_free_shipping`: những cột kiểu bool như này thì ta chuyển hết về 0 và 1, riêng `show_official_shop_label_in_title` vừa có kiểu bool vừa có kiểu string nên ta xử lý đặc biệt hơn\n"
   ]
  },
  {
   "cell_type": "markdown",
   "metadata": {},
   "source": [
    "Class ColAdderDropper sẽ thực hiện các bước trên."
   ]
  },
  {
   "cell_type": "code",
   "execution_count": 40,
   "metadata": {},
   "outputs": [],
   "source": [
    "class ColAdderDropper(BaseEstimator, TransformerMixin):\n",
    "    def __init__(self, num_top_location=3):\n",
    "        self.num_top_location = num_top_location\n",
    "    def fit(self, X_df, y=None):\n",
    "        location_col = X_df['shop_location']\n",
    "        self.location_counts_ = location_col.value_counts()\n",
    "        locations = list(self.location_counts_.index)\n",
    "        self.top_locations_ = locations[:max(1, min(self.num_top_location, len(locations)))]\n",
    "        return self\n",
    "    def transform(self, X_df, y=None):\n",
    "        # YOUR CODE HERE\n",
    "        tf_df = X_df.copy()\n",
    "        # Bước 1\n",
    "        tf_df = tf_df.replace('None', np.nan)\n",
    "        # Bước 2\n",
    "        tf_df = tf_df.drop(['name', 'is_adult', 'flash_sale', 'upcoming_flash_sale', 'coin_earn_label'], axis=1)\n",
    "        # Bước 3\n",
    "        tf_df['shop_location'] = tf_df['shop_location'].replace(np.nan, 'None')\n",
    "        locations = list(tf_df['shop_location'].value_counts().index)\n",
    "        top_locations = ['Hà Nội', 'Nước ngoài', 'TP. Hồ Chí Minh']\n",
    "        other_locations = list(set(locations) - set(top_locations))\n",
    "        tf_df['shop_location'] = tf_df['shop_location'].replace(other_locations, 'Others')\n",
    "        \n",
    "        tf_df['discount'] = tf_df['discount'].replace(np.nan, 0)\n",
    "        \n",
    "        def apply_discount(discount):\n",
    "            if type(discount) == int:\n",
    "                return discount\n",
    "            else:\n",
    "                result = re.findall(r'\\d+',discount)\n",
    "                return result[0]\n",
    "            pass\n",
    "\n",
    "        tf_df['discount'] = tf_df.apply(lambda row: apply_discount(row['discount']), axis=1)\n",
    "        \n",
    "        def convert_col_dtype(col):\n",
    "            if col.name in ['discount']:\n",
    "                return pd.to_numeric(col, errors='coerce')\n",
    "            return col\n",
    "\n",
    "        tf_df = tf_df.apply(convert_col_dtype)\n",
    "        \n",
    "\n",
    "        def apply_bool(FalseOrTrue):\n",
    "            if FalseOrTrue is np.nan:\n",
    "                return FalseOrTrue\n",
    "            if FalseOrTrue == 'False' or FalseOrTrue == False:\n",
    "                return 0\n",
    "            if FalseOrTrue == 'True' or FalseOrTrue == True:\n",
    "                return 1\n",
    "            else:\n",
    "                return FalseOrTrue\n",
    "            pass\n",
    "\n",
    "        tf_df['show_official_shop_label_in_title'] = tf_df.apply(lambda row: apply_bool(row['show_official_shop_label_in_title']), axis=1)\n",
    "        tf_df['is_preferred_plus_seller'] = tf_df.apply(lambda row: apply_bool(row['is_preferred_plus_seller']), axis=1)\n",
    "        tf_df['shopee_verified'] = tf_df.apply(lambda row: apply_bool(row['shopee_verified']), axis=1)\n",
    "        tf_df['show_free_shipping'] = tf_df.apply(lambda row: apply_bool(row['show_free_shipping']), axis=1)\n",
    "        return tf_df\n",
    "        #raise NotImplementedError()"
   ]
  },
  {
   "cell_type": "code",
   "execution_count": 41,
   "metadata": {},
   "outputs": [
    {
     "data": {
      "text/html": [
       "<div>\n",
       "<style scoped>\n",
       "    .dataframe tbody tr th:only-of-type {\n",
       "        vertical-align: middle;\n",
       "    }\n",
       "\n",
       "    .dataframe tbody tr th {\n",
       "        vertical-align: top;\n",
       "    }\n",
       "\n",
       "    .dataframe thead th {\n",
       "        text-align: right;\n",
       "    }\n",
       "</style>\n",
       "<table border=\"1\" class=\"dataframe\">\n",
       "  <thead>\n",
       "    <tr style=\"text-align: right;\">\n",
       "      <th></th>\n",
       "      <th>category_id</th>\n",
       "      <th>shop_location</th>\n",
       "      <th>item_public_time</th>\n",
       "      <th>item_be_got_time</th>\n",
       "      <th>sell_time</th>\n",
       "      <th>shopee_verified</th>\n",
       "      <th>discount</th>\n",
       "      <th>options</th>\n",
       "      <th>show_official_shop_label_in_title</th>\n",
       "      <th>rating_star</th>\n",
       "      <th>five_star</th>\n",
       "      <th>four_star</th>\n",
       "      <th>three_star</th>\n",
       "      <th>two_star</th>\n",
       "      <th>one_star</th>\n",
       "      <th>price_min</th>\n",
       "      <th>price_min_before_discount</th>\n",
       "      <th>price_max</th>\n",
       "      <th>price_max_before_discount</th>\n",
       "      <th>price</th>\n",
       "      <th>price_before_discount</th>\n",
       "      <th>liked_count</th>\n",
       "      <th>view_count</th>\n",
       "      <th>cmt_count</th>\n",
       "      <th>is_preferred_plus_seller</th>\n",
       "      <th>show_free_shipping</th>\n",
       "      <th>images</th>\n",
       "      <th>video_info_list</th>\n",
       "    </tr>\n",
       "  </thead>\n",
       "  <tbody>\n",
       "    <tr>\n",
       "      <th>2283</th>\n",
       "      <td>2829</td>\n",
       "      <td>Hà Nội</td>\n",
       "      <td>1.603703e+09</td>\n",
       "      <td>1.610610e+09</td>\n",
       "      <td>6907146.0</td>\n",
       "      <td>0</td>\n",
       "      <td>20</td>\n",
       "      <td>28.0</td>\n",
       "      <td>0.0</td>\n",
       "      <td>5.000000</td>\n",
       "      <td>6.0</td>\n",
       "      <td>0.0</td>\n",
       "      <td>0.0</td>\n",
       "      <td>0.0</td>\n",
       "      <td>0.0</td>\n",
       "      <td>5.520000e+10</td>\n",
       "      <td>6.900000e+10</td>\n",
       "      <td>5.520000e+10</td>\n",
       "      <td>6.900000e+10</td>\n",
       "      <td>5.520000e+10</td>\n",
       "      <td>6.900000e+10</td>\n",
       "      <td>451.0</td>\n",
       "      <td>1166.0</td>\n",
       "      <td>6.0</td>\n",
       "      <td>0</td>\n",
       "      <td>1</td>\n",
       "      <td>7.0</td>\n",
       "      <td>0.0</td>\n",
       "    </tr>\n",
       "    <tr>\n",
       "      <th>128</th>\n",
       "      <td>8947</td>\n",
       "      <td>Hà Nội</td>\n",
       "      <td>1.583143e+09</td>\n",
       "      <td>1.609949e+09</td>\n",
       "      <td>26806573.0</td>\n",
       "      <td>1</td>\n",
       "      <td>47</td>\n",
       "      <td>24.0</td>\n",
       "      <td>0.0</td>\n",
       "      <td>4.500000</td>\n",
       "      <td>1.0</td>\n",
       "      <td>1.0</td>\n",
       "      <td>0.0</td>\n",
       "      <td>0.0</td>\n",
       "      <td>0.0</td>\n",
       "      <td>6.900000e+09</td>\n",
       "      <td>1.290000e+10</td>\n",
       "      <td>6.900000e+09</td>\n",
       "      <td>1.290000e+10</td>\n",
       "      <td>6.900000e+09</td>\n",
       "      <td>1.290000e+10</td>\n",
       "      <td>3.0</td>\n",
       "      <td>10.0</td>\n",
       "      <td>2.0</td>\n",
       "      <td>0</td>\n",
       "      <td>0</td>\n",
       "      <td>9.0</td>\n",
       "      <td>0.0</td>\n",
       "    </tr>\n",
       "    <tr>\n",
       "      <th>416</th>\n",
       "      <td>8947</td>\n",
       "      <td>Hà Nội</td>\n",
       "      <td>1.573125e+09</td>\n",
       "      <td>1.609949e+09</td>\n",
       "      <td>36823998.0</td>\n",
       "      <td>1</td>\n",
       "      <td>23</td>\n",
       "      <td>12.0</td>\n",
       "      <td>0.0</td>\n",
       "      <td>4.889447</td>\n",
       "      <td>371.0</td>\n",
       "      <td>18.0</td>\n",
       "      <td>5.0</td>\n",
       "      <td>0.0</td>\n",
       "      <td>4.0</td>\n",
       "      <td>1.150000e+10</td>\n",
       "      <td>1.500000e+10</td>\n",
       "      <td>1.150000e+10</td>\n",
       "      <td>1.500000e+10</td>\n",
       "      <td>1.150000e+10</td>\n",
       "      <td>1.500000e+10</td>\n",
       "      <td>1605.0</td>\n",
       "      <td>3954.0</td>\n",
       "      <td>398.0</td>\n",
       "      <td>0</td>\n",
       "      <td>1</td>\n",
       "      <td>9.0</td>\n",
       "      <td>1.0</td>\n",
       "    </tr>\n",
       "    <tr>\n",
       "      <th>197</th>\n",
       "      <td>8947</td>\n",
       "      <td>Hà Nội</td>\n",
       "      <td>1.597224e+09</td>\n",
       "      <td>1.609949e+09</td>\n",
       "      <td>12725742.0</td>\n",
       "      <td>0</td>\n",
       "      <td>0</td>\n",
       "      <td>14.0</td>\n",
       "      <td>0.0</td>\n",
       "      <td>5.000000</td>\n",
       "      <td>1.0</td>\n",
       "      <td>0.0</td>\n",
       "      <td>0.0</td>\n",
       "      <td>0.0</td>\n",
       "      <td>0.0</td>\n",
       "      <td>1.790000e+10</td>\n",
       "      <td>-1.000000e+00</td>\n",
       "      <td>1.790000e+10</td>\n",
       "      <td>-1.000000e+00</td>\n",
       "      <td>1.790000e+10</td>\n",
       "      <td>0.000000e+00</td>\n",
       "      <td>0.0</td>\n",
       "      <td>0.0</td>\n",
       "      <td>1.0</td>\n",
       "      <td>0</td>\n",
       "      <td>0</td>\n",
       "      <td>5.0</td>\n",
       "      <td>0.0</td>\n",
       "    </tr>\n",
       "    <tr>\n",
       "      <th>1914</th>\n",
       "      <td>1899</td>\n",
       "      <td>Nước ngoài</td>\n",
       "      <td>1.574051e+09</td>\n",
       "      <td>1.609992e+09</td>\n",
       "      <td>35940789.0</td>\n",
       "      <td>0</td>\n",
       "      <td>44</td>\n",
       "      <td>0.0</td>\n",
       "      <td>0.0</td>\n",
       "      <td>5.000000</td>\n",
       "      <td>1.0</td>\n",
       "      <td>0.0</td>\n",
       "      <td>0.0</td>\n",
       "      <td>0.0</td>\n",
       "      <td>0.0</td>\n",
       "      <td>4.600000e+09</td>\n",
       "      <td>8.200000e+09</td>\n",
       "      <td>4.600000e+09</td>\n",
       "      <td>8.200000e+09</td>\n",
       "      <td>4.600000e+09</td>\n",
       "      <td>8.200000e+09</td>\n",
       "      <td>1.0</td>\n",
       "      <td>9.0</td>\n",
       "      <td>1.0</td>\n",
       "      <td>0</td>\n",
       "      <td>0</td>\n",
       "      <td>9.0</td>\n",
       "      <td>0.0</td>\n",
       "    </tr>\n",
       "    <tr>\n",
       "      <th>...</th>\n",
       "      <td>...</td>\n",
       "      <td>...</td>\n",
       "      <td>...</td>\n",
       "      <td>...</td>\n",
       "      <td>...</td>\n",
       "      <td>...</td>\n",
       "      <td>...</td>\n",
       "      <td>...</td>\n",
       "      <td>...</td>\n",
       "      <td>...</td>\n",
       "      <td>...</td>\n",
       "      <td>...</td>\n",
       "      <td>...</td>\n",
       "      <td>...</td>\n",
       "      <td>...</td>\n",
       "      <td>...</td>\n",
       "      <td>...</td>\n",
       "      <td>...</td>\n",
       "      <td>...</td>\n",
       "      <td>...</td>\n",
       "      <td>...</td>\n",
       "      <td>...</td>\n",
       "      <td>...</td>\n",
       "      <td>...</td>\n",
       "      <td>...</td>\n",
       "      <td>...</td>\n",
       "      <td>...</td>\n",
       "      <td>...</td>\n",
       "    </tr>\n",
       "    <tr>\n",
       "      <th>1462</th>\n",
       "      <td>2831</td>\n",
       "      <td>TP. Hồ Chí Minh</td>\n",
       "      <td>1.542363e+09</td>\n",
       "      <td>1.609910e+09</td>\n",
       "      <td>67547006.0</td>\n",
       "      <td>1</td>\n",
       "      <td>50</td>\n",
       "      <td>2.0</td>\n",
       "      <td>0.0</td>\n",
       "      <td>4.111111</td>\n",
       "      <td>5.0</td>\n",
       "      <td>2.0</td>\n",
       "      <td>1.0</td>\n",
       "      <td>0.0</td>\n",
       "      <td>1.0</td>\n",
       "      <td>5.500000e+09</td>\n",
       "      <td>1.100000e+10</td>\n",
       "      <td>5.500000e+09</td>\n",
       "      <td>1.100000e+10</td>\n",
       "      <td>5.500000e+09</td>\n",
       "      <td>1.100000e+10</td>\n",
       "      <td>45.0</td>\n",
       "      <td>63.0</td>\n",
       "      <td>9.0</td>\n",
       "      <td>0</td>\n",
       "      <td>1</td>\n",
       "      <td>9.0</td>\n",
       "      <td>0.0</td>\n",
       "    </tr>\n",
       "    <tr>\n",
       "      <th>235</th>\n",
       "      <td>8947</td>\n",
       "      <td>Nước ngoài</td>\n",
       "      <td>1.570458e+09</td>\n",
       "      <td>1.609949e+09</td>\n",
       "      <td>39491258.0</td>\n",
       "      <td>0</td>\n",
       "      <td>26</td>\n",
       "      <td>7.0</td>\n",
       "      <td>0.0</td>\n",
       "      <td>0.000000</td>\n",
       "      <td>0.0</td>\n",
       "      <td>0.0</td>\n",
       "      <td>0.0</td>\n",
       "      <td>0.0</td>\n",
       "      <td>0.0</td>\n",
       "      <td>1.983190e+10</td>\n",
       "      <td>2.679990e+10</td>\n",
       "      <td>1.983190e+10</td>\n",
       "      <td>2.679990e+10</td>\n",
       "      <td>1.983190e+10</td>\n",
       "      <td>2.679990e+10</td>\n",
       "      <td>1.0</td>\n",
       "      <td>0.0</td>\n",
       "      <td>0.0</td>\n",
       "      <td>0</td>\n",
       "      <td>0</td>\n",
       "      <td>6.0</td>\n",
       "      <td>0.0</td>\n",
       "    </tr>\n",
       "    <tr>\n",
       "      <th>941</th>\n",
       "      <td>2429</td>\n",
       "      <td>Hà Nội</td>\n",
       "      <td>1.497515e+09</td>\n",
       "      <td>1.609917e+09</td>\n",
       "      <td>112402223.0</td>\n",
       "      <td>1</td>\n",
       "      <td>0</td>\n",
       "      <td>1.0</td>\n",
       "      <td>0.0</td>\n",
       "      <td>4.816327</td>\n",
       "      <td>44.0</td>\n",
       "      <td>2.0</td>\n",
       "      <td>2.0</td>\n",
       "      <td>1.0</td>\n",
       "      <td>0.0</td>\n",
       "      <td>4.900000e+09</td>\n",
       "      <td>-1.000000e+00</td>\n",
       "      <td>4.900000e+09</td>\n",
       "      <td>-1.000000e+00</td>\n",
       "      <td>4.900000e+09</td>\n",
       "      <td>0.000000e+00</td>\n",
       "      <td>183.0</td>\n",
       "      <td>204.0</td>\n",
       "      <td>58.0</td>\n",
       "      <td>0</td>\n",
       "      <td>1</td>\n",
       "      <td>9.0</td>\n",
       "      <td>0.0</td>\n",
       "    </tr>\n",
       "    <tr>\n",
       "      <th>1315</th>\n",
       "      <td>2429</td>\n",
       "      <td>Hà Nội</td>\n",
       "      <td>1.558317e+09</td>\n",
       "      <td>1.609917e+09</td>\n",
       "      <td>51600840.0</td>\n",
       "      <td>1</td>\n",
       "      <td>14</td>\n",
       "      <td>10.0</td>\n",
       "      <td>0.0</td>\n",
       "      <td>5.000000</td>\n",
       "      <td>3.0</td>\n",
       "      <td>0.0</td>\n",
       "      <td>0.0</td>\n",
       "      <td>0.0</td>\n",
       "      <td>0.0</td>\n",
       "      <td>6.900000e+09</td>\n",
       "      <td>8.000000e+09</td>\n",
       "      <td>6.900000e+09</td>\n",
       "      <td>8.000000e+09</td>\n",
       "      <td>6.900000e+09</td>\n",
       "      <td>8.000000e+09</td>\n",
       "      <td>2.0</td>\n",
       "      <td>6.0</td>\n",
       "      <td>3.0</td>\n",
       "      <td>0</td>\n",
       "      <td>1</td>\n",
       "      <td>8.0</td>\n",
       "      <td>1.0</td>\n",
       "    </tr>\n",
       "    <tr>\n",
       "      <th>948</th>\n",
       "      <td>2429</td>\n",
       "      <td>Hà Nội</td>\n",
       "      <td>1.608002e+09</td>\n",
       "      <td>1.609917e+09</td>\n",
       "      <td>1914965.0</td>\n",
       "      <td>1</td>\n",
       "      <td>49</td>\n",
       "      <td>12.0</td>\n",
       "      <td>0.0</td>\n",
       "      <td>0.000000</td>\n",
       "      <td>0.0</td>\n",
       "      <td>0.0</td>\n",
       "      <td>0.0</td>\n",
       "      <td>0.0</td>\n",
       "      <td>0.0</td>\n",
       "      <td>3.990000e+10</td>\n",
       "      <td>7.890000e+10</td>\n",
       "      <td>3.990000e+10</td>\n",
       "      <td>7.890000e+10</td>\n",
       "      <td>3.990000e+10</td>\n",
       "      <td>7.890000e+10</td>\n",
       "      <td>1697.0</td>\n",
       "      <td>1805.0</td>\n",
       "      <td>0.0</td>\n",
       "      <td>0</td>\n",
       "      <td>1</td>\n",
       "      <td>9.0</td>\n",
       "      <td>0.0</td>\n",
       "    </tr>\n",
       "  </tbody>\n",
       "</table>\n",
       "<p>1555 rows × 28 columns</p>\n",
       "</div>"
      ],
      "text/plain": [
       "      category_id    shop_location  item_public_time  item_be_got_time    sell_time  shopee_verified  discount  options  show_official_shop_label_in_title  rating_star  five_star  four_star  three_star  two_star  one_star     price_min  price_min_before_discount     price_max  price_max_before_discount         price  price_before_discount  liked_count  view_count  cmt_count  is_preferred_plus_seller  show_free_shipping  images  video_info_list\n",
       "2283         2829           Hà Nội      1.603703e+09      1.610610e+09    6907146.0                0        20     28.0                                0.0     5.000000        6.0        0.0         0.0       0.0       0.0  5.520000e+10               6.900000e+10  5.520000e+10               6.900000e+10  5.520000e+10           6.900000e+10        451.0      1166.0        6.0                         0                   1     7.0              0.0\n",
       "128          8947           Hà Nội      1.583143e+09      1.609949e+09   26806573.0                1        47     24.0                                0.0     4.500000        1.0        1.0         0.0       0.0       0.0  6.900000e+09               1.290000e+10  6.900000e+09               1.290000e+10  6.900000e+09           1.290000e+10          3.0        10.0        2.0                         0                   0     9.0              0.0\n",
       "416          8947           Hà Nội      1.573125e+09      1.609949e+09   36823998.0                1        23     12.0                                0.0     4.889447      371.0       18.0         5.0       0.0       4.0  1.150000e+10               1.500000e+10  1.150000e+10               1.500000e+10  1.150000e+10           1.500000e+10       1605.0      3954.0      398.0                         0                   1     9.0              1.0\n",
       "197          8947           Hà Nội      1.597224e+09      1.609949e+09   12725742.0                0         0     14.0                                0.0     5.000000        1.0        0.0         0.0       0.0       0.0  1.790000e+10              -1.000000e+00  1.790000e+10              -1.000000e+00  1.790000e+10           0.000000e+00          0.0         0.0        1.0                         0                   0     5.0              0.0\n",
       "1914         1899       Nước ngoài      1.574051e+09      1.609992e+09   35940789.0                0        44      0.0                                0.0     5.000000        1.0        0.0         0.0       0.0       0.0  4.600000e+09               8.200000e+09  4.600000e+09               8.200000e+09  4.600000e+09           8.200000e+09          1.0         9.0        1.0                         0                   0     9.0              0.0\n",
       "...           ...              ...               ...               ...          ...              ...       ...      ...                                ...          ...        ...        ...         ...       ...       ...           ...                        ...           ...                        ...           ...                    ...          ...         ...        ...                       ...                 ...     ...              ...\n",
       "1462         2831  TP. Hồ Chí Minh      1.542363e+09      1.609910e+09   67547006.0                1        50      2.0                                0.0     4.111111        5.0        2.0         1.0       0.0       1.0  5.500000e+09               1.100000e+10  5.500000e+09               1.100000e+10  5.500000e+09           1.100000e+10         45.0        63.0        9.0                         0                   1     9.0              0.0\n",
       "235          8947       Nước ngoài      1.570458e+09      1.609949e+09   39491258.0                0        26      7.0                                0.0     0.000000        0.0        0.0         0.0       0.0       0.0  1.983190e+10               2.679990e+10  1.983190e+10               2.679990e+10  1.983190e+10           2.679990e+10          1.0         0.0        0.0                         0                   0     6.0              0.0\n",
       "941          2429           Hà Nội      1.497515e+09      1.609917e+09  112402223.0                1         0      1.0                                0.0     4.816327       44.0        2.0         2.0       1.0       0.0  4.900000e+09              -1.000000e+00  4.900000e+09              -1.000000e+00  4.900000e+09           0.000000e+00        183.0       204.0       58.0                         0                   1     9.0              0.0\n",
       "1315         2429           Hà Nội      1.558317e+09      1.609917e+09   51600840.0                1        14     10.0                                0.0     5.000000        3.0        0.0         0.0       0.0       0.0  6.900000e+09               8.000000e+09  6.900000e+09               8.000000e+09  6.900000e+09           8.000000e+09          2.0         6.0        3.0                         0                   1     8.0              1.0\n",
       "948          2429           Hà Nội      1.608002e+09      1.609917e+09    1914965.0                1        49     12.0                                0.0     0.000000        0.0        0.0         0.0       0.0       0.0  3.990000e+10               7.890000e+10  3.990000e+10               7.890000e+10  3.990000e+10           7.890000e+10       1697.0      1805.0        0.0                         0                   1     9.0              0.0\n",
       "\n",
       "[1555 rows x 28 columns]"
      ]
     },
     "execution_count": 41,
     "metadata": {},
     "output_type": "execute_result"
    }
   ],
   "source": [
    "# Test\n",
    "col_adderdropper = ColAdderDropper()\n",
    "fewer_cols_train_X_df = col_adderdropper.fit_transform(train_X_df)\n",
    "fewer_cols_train_X_df"
   ]
  },
  {
   "cell_type": "code",
   "execution_count": 42,
   "metadata": {},
   "outputs": [
    {
     "data": {
      "text/html": [
       "<div>\n",
       "<style scoped>\n",
       "    .dataframe tbody tr th:only-of-type {\n",
       "        vertical-align: middle;\n",
       "    }\n",
       "\n",
       "    .dataframe tbody tr th {\n",
       "        vertical-align: top;\n",
       "    }\n",
       "\n",
       "    .dataframe thead th {\n",
       "        text-align: right;\n",
       "    }\n",
       "</style>\n",
       "<table border=\"1\" class=\"dataframe\">\n",
       "  <thead>\n",
       "    <tr style=\"text-align: right;\">\n",
       "      <th></th>\n",
       "      <th>shopee_verified</th>\n",
       "      <th>category_id</th>\n",
       "      <th>shop_location</th>\n",
       "      <th>show_official_shop_label_in_title</th>\n",
       "      <th>is_preferred_plus_seller</th>\n",
       "      <th>show_free_shipping</th>\n",
       "    </tr>\n",
       "  </thead>\n",
       "  <tbody>\n",
       "    <tr>\n",
       "      <th>missing_ratio</th>\n",
       "      <td>0</td>\n",
       "      <td>0</td>\n",
       "      <td>0</td>\n",
       "      <td>1.7</td>\n",
       "      <td>0</td>\n",
       "      <td>0</td>\n",
       "    </tr>\n",
       "    <tr>\n",
       "      <th>num_values</th>\n",
       "      <td>2</td>\n",
       "      <td>7</td>\n",
       "      <td>4</td>\n",
       "      <td>2</td>\n",
       "      <td>2</td>\n",
       "      <td>2</td>\n",
       "    </tr>\n",
       "    <tr>\n",
       "      <th>value_ratios</th>\n",
       "      <td>{0: 59.7, 1: 40.3}</td>\n",
       "      <td>{8947: 23.9, 2429: 22.9, 1899: 18.5, 9572: 12.3, 2831: 11.3, 2829: 8.0, 8945: 3.2}</td>\n",
       "      <td>{'Hà Nội': 52.9, 'TP. Hồ Chí Minh': 22.2, 'Nước ngoài': 16.8, 'Others': 8.2}</td>\n",
       "      <td>{0.0: 95.0, 1.0: 5.0}</td>\n",
       "      <td>{0: 94.1, 1: 5.9}</td>\n",
       "      <td>{0: 53.2, 1: 46.8}</td>\n",
       "    </tr>\n",
       "  </tbody>\n",
       "</table>\n",
       "</div>"
      ],
      "text/plain": [
       "                  shopee_verified                                                                         category_id                                                                 shop_location show_official_shop_label_in_title is_preferred_plus_seller  show_free_shipping\n",
       "missing_ratio                   0                                                                                   0                                                                             0                               1.7                        0                   0\n",
       "num_values                      2                                                                                   7                                                                             4                                 2                        2                   2\n",
       "value_ratios   {0: 59.7, 1: 40.3}  {8947: 23.9, 2429: 22.9, 1899: 18.5, 9572: 12.3, 2831: 11.3, 2829: 8.0, 8945: 3.2}  {'Hà Nội': 52.9, 'TP. Hồ Chí Minh': 22.2, 'Nước ngoài': 16.8, 'Others': 8.2}             {0.0: 95.0, 1.0: 5.0}        {0: 94.1, 1: 5.9}  {0: 53.2, 1: 46.8}"
      ]
     },
     "execution_count": 42,
     "metadata": {},
     "output_type": "execute_result"
    }
   ],
   "source": [
    "# Kiểm tra các giá trị không phải số đã được xử lý đúng chưa\n",
    "cat_cols = list(set(fewer_cols_train_X_df.columns) - set(num_cols))\n",
    "df = fewer_cols_train_X_df[cat_cols]\n",
    "cat_col_info_df = df.agg([missing_ratio, num_values, value_ratios])\n",
    "cat_col_info_df"
   ]
  },
  {
   "cell_type": "markdown",
   "metadata": {},
   "source": [
    "### 4. Xử lý giá trị thiếu\n",
    "- Với các cột dạng số, ta sẽ điền giá trị thiếu bằng giá trị mean của cột <font color=gray>(gợi ý: dùng `SimpleImputer` trong Sklearn)</font>. Với *tất cả* các cột dạng số trong tập huấn luyện, ta đều cần tính mean, vì ta không biết được cột nào sẽ bị thiếu giá trị khi dự đoán với các véc-tơ input mới. \n",
    "- Với các cột không phải dạng số và không có thứ tự:\n",
    "    - Ta sẽ điền giá trị thiếu bằng giá trị mode (giá trị xuất hiện nhiều nhất) của cột <font color=gray>(gợi ý: dùng `SimpleImputer` trong Sklearn)</font>. Với *tất cả* các cột không có dạng số và không có thứ tự, ta đều cần tính mode, vì ta không biết được cột nào sẽ bị thiếu giá trị khi dự đoán với các véc-tơ input mới.\n",
    "    - Sau đó, ta sẽ chuyển sang dạng số bằng phương pháp mã hóa one-hot <font color=gray>(gợi ý: dùng `OneHotEncoder` trong Sklearn, để ý tham số `handle_unknown` vì khi dự đoán với các véc-tơ input mới ...)</font>.\n",
    "- Với cột không phải dạng số và có thứ tự:\n",
    "    - Ta sẽ điền giá trị thiếu bằng giá trị mode (giá trị xuất hiện nhiều nhất) của cột.\n",
    "    - Các giá trị của cột này đều là kiểu boolean và ta đã chuyển sang dạng 0, 1 trước đó nên không cần phải mã hóa nữa"
   ]
  },
  {
   "cell_type": "code",
   "execution_count": 43,
   "metadata": {
    "Collapsed": "false",
    "nbgrader": {
     "cell_type": "code",
     "checksum": "e7a1d4ae5e4fa50b60b4998de6be96a1",
     "grade": false,
     "grade_id": "cell-ae75d7dfa7256c7f",
     "locked": false,
     "schema_version": 3,
     "solution": true
    }
   },
   "outputs": [],
   "source": [
    "nume_cols = ['item_public_time','item_be_got_time', 'sell_time', 'discount', \n",
    "            'options', 'rating_star' ,'five_star', 'four_star', 'three_star', \n",
    "            'two_star' ,'one_star' ,'price_min_before_discount', 'price_max', 'price_min', \n",
    "            'price_max_before_discount', 'price', 'price_before_discount', \n",
    "            'liked_count', 'view_count', 'cmt_count','images', 'video_info_list']\n",
    "unorder_cate_cols = ['category_id', 'shop_location']\n",
    "order_cate_cols = ['is_preferred_plus_seller', 'shopee_verified', 'show_free_shipping', 'show_official_shop_label_in_title']\n",
    "# YOUR CODE HERE\n",
    "imp_mean = SimpleImputer(missing_values=np.nan, strategy='mean')\n",
    "imp_mode = SimpleImputer(missing_values=np.nan, strategy='most_frequent')\n",
    "enc = OneHotEncoder(handle_unknown='ignore')\n",
    "unorder_cate_pipeline = make_pipeline(imp_mode, enc)\n",
    "column_transformer = ColumnTransformer(transformers = [('numerical', imp_mean, nume_cols),\n",
    "                                                      ('unorder_categorical', unorder_cate_pipeline, unorder_cate_cols),\n",
    "                                                      ('order_categorical', imp_mode, order_cate_cols)], remainder='passthrough')"
   ]
  },
  {
   "cell_type": "markdown",
   "metadata": {},
   "source": [
    "### 5. Chuẩn hóa\n",
    "Cuối cùng, khi tất cả các cột đã được điền giá trị thiếu và đã có dạng số, ta sẽ tiến hành chuẩn hóa bằng cách trừ đi mean và chia cho độ lệch chuẩn của cột để giúp cho các thuật toán cực tiểu hóa như Gradient Descent, LBFGS, ... hội tụ nhanh hơn "
   ]
  },
  {
   "cell_type": "markdown",
   "metadata": {},
   "source": [
    "### 6. Tạo pipeline"
   ]
  },
  {
   "cell_type": "markdown",
   "metadata": {},
   "source": [
    "Khi đã có những bước tiền xử lý cụ thể, ta sẽ tạo pipeline chứa chúng để cho quá trình tiền xử lý và mô hình hóa được dễ dàng hơn"
   ]
  },
  {
   "cell_type": "code",
   "execution_count": 44,
   "metadata": {},
   "outputs": [],
   "source": [
    "preprocess_pipeline = make_pipeline(ColAdderDropper(), column_transformer,  StandardScaler())"
   ]
  },
  {
   "cell_type": "code",
   "execution_count": 45,
   "metadata": {},
   "outputs": [],
   "source": [
    "preprocessed_train_X = preprocess_pipeline.fit_transform(train_X_df)\n",
    "preprocessed_val_X = preprocess_pipeline.transform(val_X_df)"
   ]
  },
  {
   "cell_type": "code",
   "execution_count": 46,
   "metadata": {},
   "outputs": [
    {
     "data": {
      "text/plain": [
       "(1555, 37)"
      ]
     },
     "execution_count": 46,
     "metadata": {},
     "output_type": "execute_result"
    }
   ],
   "source": [
    "preprocessed_train_X.shape"
   ]
  },
  {
   "cell_type": "code",
   "execution_count": 47,
   "metadata": {},
   "outputs": [
    {
     "data": {
      "text/plain": [
       "(389, 37)"
      ]
     },
     "execution_count": 47,
     "metadata": {},
     "output_type": "execute_result"
    }
   ],
   "source": [
    "preprocessed_val_X.shape"
   ]
  },
  {
   "cell_type": "markdown",
   "metadata": {},
   "source": [
    "## VI. Mô hình hóa dữ liệu"
   ]
  },
  {
   "cell_type": "markdown",
   "metadata": {},
   "source": [
    "### 1. Tìm mô hình tốt nhất\n",
    "\n",
    "Do output là kiểu số thực liên tục nên ta sẽ sử dụng mô hình hồi quy để dự đoán các input mới, ta sẽ sử dụng các model đã được học sau:\n",
    "\n",
    "- Hồi quy tuyến tính\n",
    "- Mạng neural nhân tạo\n"
   ]
  },
  {
   "cell_type": "markdown",
   "metadata": {},
   "source": [
    "Đầu tiên, đối với các mô hình hồi quy này thì ta sử dụng độ đo $R^2$ để đánh giá độ lỗi vì độ đo MSE không cho ta biết được cụ thể chất lượng của mô hình \n",
    "\n",
    "$R^2$ bình phương cho biết độ phù hợp của mô hình, người ta nghiên cứu được rằng, với $R^2$ bình phương > 0.5 thì một mô hình được đánh giá là phù hợp."
   ]
  },
  {
   "cell_type": "markdown",
   "metadata": {},
   "source": [
    "#### Huấn luyện mô hình hồi quy tuyến tính "
   ]
  },
  {
   "cell_type": "code",
   "execution_count": 48,
   "metadata": {},
   "outputs": [
    {
     "data": {
      "text/plain": [
       "0.506339058644641"
      ]
     },
     "execution_count": 48,
     "metadata": {},
     "output_type": "execute_result"
    }
   ],
   "source": [
    "full_pipeline = make_pipeline(ColAdderDropper(), column_transformer, StandardScaler(), LinearRegression())\n",
    "full_pipeline.fit(train_X_df, train_y_sr)\n",
    "full_pipeline.score(val_X_df, val_y_sr)"
   ]
  },
  {
   "cell_type": "markdown",
   "metadata": {},
   "source": [
    "Ta thấy $R^2$ khá thấp, có lẽ dữ liệu không có nhiều sự tương quan tuyến tính"
   ]
  },
  {
   "cell_type": "markdown",
   "metadata": {},
   "source": [
    "#### Huấn luyện mô hình mạng neural nhân tạo\n",
    "\n",
    "Ta sẽ thử 5 x 5 = 25 mô hình với các tham số khác nhau (fit khá lâu do khó hội tụ). \n",
    "\n",
    "Các tham số thay đổi:\n",
    "- `alpha`: 0.001, 0.1, 1, 10, 100\n",
    "- `hidden_layer_sizes`: 10, 20, 30, 40, 50\n",
    "\n",
    "Các tham số được cố định:\n",
    "- `activation`: `relu`\n",
    "- `solver`: `adam`: Do dữ liệu rất nhiều và không có hệ thống nên sử dụng thuật toán adam rất hiệu quả (theo scikit-learn)\n",
    "- `max_iter`: 10000: Để cho thuật toán được hội tụ, nếu set quá thấp sẽ không đủ lần lặp để hội tụ"
   ]
  },
  {
   "cell_type": "code",
   "execution_count": 116,
   "metadata": {},
   "outputs": [
    {
     "name": "stdout",
     "output_type": "stream",
     "text": [
      "Start with alpha =  0.001\n",
      "mlp train time: 0.09374856948852539\n",
      "sgd train time: 0.006980419158935547\n",
      "Start with alpha =  0.01\n"
     ]
    },
    {
     "name": "stderr",
     "output_type": "stream",
     "text": [
      "C:\\Users\\Nguyen Khang\\anaconda3\\lib\\site-packages\\sklearn\\neural_network\\_multilayer_perceptron.py:582: ConvergenceWarning: Stochastic Optimizer: Maximum iterations (10) reached and the optimization hasn't converged yet.\n",
      "  warnings.warn(\n",
      "C:\\Users\\Nguyen Khang\\anaconda3\\lib\\site-packages\\sklearn\\neural_network\\_multilayer_perceptron.py:582: ConvergenceWarning: Stochastic Optimizer: Maximum iterations (10) reached and the optimization hasn't converged yet.\n",
      "  warnings.warn(\n",
      "C:\\Users\\Nguyen Khang\\anaconda3\\lib\\site-packages\\sklearn\\neural_network\\_multilayer_perceptron.py:582: ConvergenceWarning: Stochastic Optimizer: Maximum iterations (10) reached and the optimization hasn't converged yet.\n",
      "  warnings.warn(\n"
     ]
    },
    {
     "name": "stdout",
     "output_type": "stream",
     "text": [
      "mlp train time: 0.2443552017211914\n",
      "sgd train time: 0.010960578918457031\n",
      "Start with alpha =  0.1\n",
      "mlp train time: 0.06881594657897949\n",
      "sgd train time: 0.005983591079711914\n",
      "Start with alpha =  1\n",
      "mlp train time: 0.09769940376281738\n",
      "sgd train time: 0.009971380233764648\n",
      "Start with alpha =  10\n",
      "mlp train time: 0.07779192924499512\n",
      "sgd train time: 0.009972810745239258\n"
     ]
    },
    {
     "name": "stderr",
     "output_type": "stream",
     "text": [
      "C:\\Users\\Nguyen Khang\\anaconda3\\lib\\site-packages\\sklearn\\neural_network\\_multilayer_perceptron.py:582: ConvergenceWarning: Stochastic Optimizer: Maximum iterations (10) reached and the optimization hasn't converged yet.\n",
      "  warnings.warn(\n",
      "C:\\Users\\Nguyen Khang\\anaconda3\\lib\\site-packages\\sklearn\\neural_network\\_multilayer_perceptron.py:582: ConvergenceWarning: Stochastic Optimizer: Maximum iterations (10) reached and the optimization hasn't converged yet.\n",
      "  warnings.warn(\n"
     ]
    }
   ],
   "source": [
    "mlp = MLPRegressor(hidden_layer_sizes=(40), activation='tanh', solver='adam', random_state=0, max_iter=10)\n",
    "sgd = SGDRegressor(penalty='l1', random_state=0)\n",
    "full_pipeline = make_pipeline(mlp)\n",
    "full_pipeline1 = make_pipeline(sgd)\n",
    "alphas = [0.001, 0.01, 0.1, 1, 10]\n",
    "\n",
    "\n",
    "train_rr = []\n",
    "val_rr = []\n",
    "best_val_rr = -float('inf'); best_alpha = None;\n",
    "y_after_predict = [[[]]]\n",
    "y_after_predict.clear()\n",
    "y_after_predict = np.random.rand(2,5,389)\n",
    "\n",
    "baseline_preds = train_y_sr.mean()\n",
    "def compute_mse(y, preds):\n",
    "        return ((y - preds) ** 2).mean()\n",
    "def compute_rr(y, preds):\n",
    "        return 1 - compute_mse(y, preds) / compute_mse(y, baseline_preds)\n",
    "    \n",
    "    \n",
    "i = 0\n",
    "j = 0\n",
    "for alpha in alphas:\n",
    "    print('Start with alpha = ', alpha)\n",
    "    t0 = time.time()\n",
    "    full_pipeline.fit(preprocessed_train_X, train_y_sr)\n",
    "    t1 = time.time()\n",
    "    print('mlp train time:',t1 - t0)\n",
    "    full_pipeline1.fit(preprocessed_train_X, train_y_sr)\n",
    "    t2 = time.time()\n",
    "    print('sgd train time:',t2 - t1)\n",
    "    \n",
    "    full_pipeline.set_params(mlpregressor__alpha=alpha)\n",
    "    y_after_predict[0][i] = (full_pipeline.predict(preprocessed_val_X).copy())\n",
    "#     print('y_after_predict[0][i]',y_after_predict[0][i])\n",
    "#     print('full_pipeline.predict(preprocessed_val_X)',full_pipeline.predict(preprocessed_val_X))\n",
    "    full_pipeline1.set_params(sgdregressor__alpha=alpha)\n",
    "    y_after_predict[1][j] = (full_pipeline1.predict(preprocessed_val_X).copy())\n",
    "    i+=1\n",
    "    j+=1\n",
    "    \n",
    "    train_rr.append(compute_rr(y = train_y_sr, preds = full_pipeline.predict(preprocessed_train_X)))\n",
    "    val_rr.append(compute_rr(y = val_y_sr, preds = full_pipeline.predict(preprocessed_val_X)))\n",
    "    if val_rr[-1] > best_val_rr:\n",
    "        best_val_rr, best_alpha = val_rr[-1], alpha\n",
    "    \n",
    "    "
   ]
  },
  {
   "cell_type": "code",
   "execution_count": 117,
   "metadata": {},
   "outputs": [
    {
     "data": {
      "text/plain": [
       "[-0.028663001408845368,\n",
       " -0.028663001400168975,\n",
       " -0.028663001320816672,\n",
       " -0.028663004763932465,\n",
       " -0.02866299513282189]"
      ]
     },
     "execution_count": 117,
     "metadata": {},
     "output_type": "execute_result"
    }
   ],
   "source": [
    "best_alpha\n",
    "val_rr"
   ]
  },
  {
   "cell_type": "code",
   "execution_count": 118,
   "metadata": {},
   "outputs": [],
   "source": [
    "baseline_preds = train_y_sr.mean()\n",
    "reviewModel = ReviewModel(val_y_sr, y_after_predict,baseline_preds = baseline_preds, DistanceType = 'r2') "
   ]
  },
  {
   "cell_type": "code",
   "execution_count": 119,
   "metadata": {},
   "outputs": [
    {
     "name": "stdout",
     "output_type": "stream",
     "text": [
      "[-0.028663001408845368, -0.028663001400168975, -0.028663001320816672, -0.028663004763932465, -0.02866299513282189]\n",
      "[-178.45965135538736, -178.45594802326042, -178.41890976521276, -178.04900399619365, -174.42436518050096]\n"
     ]
    }
   ],
   "source": [
    "# In ra màn hình kết quả bảng axb \n",
    "# với a: số cột: số siêu tham số thử cho model\n",
    "# b: số hàng - số model chạy thử\n",
    "# Mỗi một ô thể hiện độ đo giữa tập val_y_sr và tập predict cảu mọt model nhất định tại một siêu tham số nhất định\n",
    "# Kết quả trả về binaryArray,bestIndexModel\n",
    "# binaryArray: Mảng 2 chiều, lưu siêu tham số tốt nhất của mỗi model dưới dạng nhị phân, 1 = tốt nhất, còn lại = 0. \n",
    "# (Mỗi model là một hàng)\n",
    "# bestIndexModel: Chỉ số của model tốt nhất trong các model,\n",
    "# chỉ số ở đây là chỉ số đầu tiên trong y_after_predict cũng như binaryArray\n",
    "# ví dụ bestIndexModel = 0 thì model lưu tại binaryArray[0] là tốt nhất\n",
    "# với độ lỗi tốt nhất là reviewModel.distance[bestIndexModel][binaryArray[bestIndexModel].index(max(binaryArray[bestIndexModel]))]\n",
    "binaryArray,bestIndexModel = reviewModel.calculate()"
   ]
  },
  {
   "cell_type": "code",
   "execution_count": 120,
   "metadata": {},
   "outputs": [
    {
     "data": {
      "text/plain": [
       "[[0, 0, 0, 0, 1], [0, 0, 0, 0, 1]]"
      ]
     },
     "execution_count": 120,
     "metadata": {},
     "output_type": "execute_result"
    }
   ],
   "source": [
    "#Biến \n",
    "binaryArray"
   ]
  },
  {
   "cell_type": "code",
   "execution_count": 121,
   "metadata": {},
   "outputs": [
    {
     "data": {
      "text/plain": [
       "0"
      ]
     },
     "execution_count": 121,
     "metadata": {},
     "output_type": "execute_result"
    }
   ],
   "source": [
    "bestIndexModel"
   ]
  },
  {
   "cell_type": "code",
   "execution_count": 122,
   "metadata": {},
   "outputs": [
    {
     "data": {
      "text/plain": [
       "-0.02866299513282189"
      ]
     },
     "execution_count": 122,
     "metadata": {},
     "output_type": "execute_result"
    }
   ],
   "source": [
    "reviewModel.distance[bestIndexModel][binaryArray[bestIndexModel].index(max(binaryArray[bestIndexModel]))]"
   ]
  },
  {
   "cell_type": "code",
   "execution_count": 123,
   "metadata": {},
   "outputs": [
    {
     "name": "stdout",
     "output_type": "stream",
     "text": [
      "10\n",
      "best alpha for model 1 10\n",
      "best alpha for model 2 10\n"
     ]
    }
   ],
   "source": [
    "#best alpha for best model:\n",
    "print(alphas[binaryArray[bestIndexModel].index(max(binaryArray[bestIndexModel]))])\n",
    "\n",
    "print('best alpha for model 1', alphas[binaryArray[0].index(max(binaryArray[0]))])\n",
    "print('best alpha for model 2', alphas[binaryArray[1].index(max(binaryArray[1]))])"
   ]
  },
  {
   "cell_type": "markdown",
   "metadata": {},
   "source": [
    "Như vậy $R^2$ > 0.5, mô hình này có thể phù hợp để dự đoán các dữ liệu mới.\n"
   ]
  },
  {
   "cell_type": "markdown",
   "metadata": {},
   "source": [
    "Cuối cùng, ta sẽ huấn luyện lại `full_pipeline` trên `rest_X_df` và `rest_y_sr` (tập huấn luyện + tập validation) với `best_alpha` và `best_layer` tìm được ở trên để ra được mô hình cụ thể cuối cùng."
   ]
  },
  {
   "cell_type": "code",
   "execution_count": null,
   "metadata": {},
   "outputs": [],
   "source": [
    "full_pipeline = make_pipeline(ColAdderDropper(), column_transformer, StandardScaler(), MLPRegressor(alpha=best_alpha, hidden_layer_sizes=best_layer,\n",
    "                                                               activation='relu', solver='adam', random_state=0, max_iter=10000))\n",
    "full_pipeline.fit(rest_X_df, rest_y_sr)"
   ]
  },
  {
   "cell_type": "markdown",
   "metadata": {},
   "source": [
    "### 2. Đánh giá mô hình tìm được"
   ]
  },
  {
   "cell_type": "markdown",
   "metadata": {},
   "source": [
    "Sau khi đã có mô hình tốt nhất fit vào tập train, ta sẽ dùng mô hình đó để dự đoán tập test cuối cùng"
   ]
  },
  {
   "cell_type": "markdown",
   "metadata": {},
   "source": [
    "## VII. Nhìn lại quá trình làm đồ án"
   ]
  },
  {
   "cell_type": "markdown",
   "metadata": {},
   "source": [
    "### 1. Khó khăn"
   ]
  },
  {
   "cell_type": "markdown",
   "metadata": {},
   "source": [
    "### 2. Những thứ học được"
   ]
  },
  {
   "cell_type": "markdown",
   "metadata": {},
   "source": [
    "### 3. Những điểu cần bổ sung nếu có thêm thời gian"
   ]
  },
  {
   "cell_type": "markdown",
   "metadata": {},
   "source": [
    "## VIII. Tài liệu tham khảo"
   ]
  },
  {
   "cell_type": "code",
   "execution_count": null,
   "metadata": {},
   "outputs": [],
   "source": []
  }
 ],
 "metadata": {
  "kernelspec": {
   "display_name": "Python 3",
   "language": "python",
   "name": "python3"
  },
  "language_info": {
   "codemirror_mode": {
    "name": "ipython",
    "version": 3
   },
   "file_extension": ".py",
   "mimetype": "text/x-python",
   "name": "python",
   "nbconvert_exporter": "python",
   "pygments_lexer": "ipython3",
   "version": "3.8.3"
  }
 },
 "nbformat": 4,
 "nbformat_minor": 4
}
