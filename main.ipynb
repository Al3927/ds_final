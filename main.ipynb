{
 "cells": [
  {
   "cell_type": "markdown",
   "metadata": {},
   "source": [
    "# Đồ án Cuối Kỳ \n",
    " Môn __Nhập môn khoa học dữ liệu__\n",
    " \n",
    " Khái quát về dự án (Tiếng Anh): https://github.com/cstotodile/ds_final/blob/main/README.md\n",
    " \n",
    "## Danh sách nhóm:\n",
    "\n",
    "No. 15\n",
    "\n",
    "18120184 - Nguyễn Nguyên Khang\n",
    "\n",
    "18120189 - Trần Đăng Khoa\n",
    "\n",
    "\n",
    "Task | Assigned\n",
    "------------ | -------------\n",
    "Data Crawler |  Nguyễn Nguyên Khang\n",
    "Data Exploration & Preprocessing |  Nguyễn Nguyên Khang, Trần Đăng Khoa (hỗ trợ)\n",
    "Data Modeling (Train models and review them) |  Trần Đăng Khoa\n",
    "Notebook & Github Readme.md | Nguyễn Nguyên Khang & Trần Đăng Khoa"
   ]
  },
  {
   "cell_type": "markdown",
   "metadata": {},
   "source": [
    "# Mục lục\n",
    "- [Thu thập dữ liệu](#Thu-thập-dữ-liệu)\n",
    "- [Khám phá dữ liệu và Tiền Xử lý](#Khám-phá-dữ-liệu-và-Tiền-Xử-lý)\n",
    "  - [Dữ liệu](#Dữ-liệu)\n",
    "  - [Câu hỏi đặt ra](#Câu-hỏi-đặt-ra)\n",
    "  - [Mở file và chỉnh sửa thông số hiển thị](#Mở-file-và-chỉnh-sửa-thông-số-hiển-thị)\n",
    "  - [Mỗi dòng có ý nghĩa gì? Có vấn đề các dòng có ý nghĩa khác nhau không?](#Mỗi-dòng-có-ý-nghĩa-gì?-Có-vấn-đề-các-dòng-có-ý-nghĩa-khác-nhau-không?)\n",
    "  - [Xử lý giá trị trùng lặp](#Xử-lý-giá-trị-trùng-lặp)   \n",
    "  - [Xử lý khác biệt ngữ nghĩa do parse data từ json](#Xử-lý-khác-biệt-ngữ-nghĩa-do-parse-data-từ-json)\n",
    "  - [Phân bố giá trị của cột có kiểu dữ liệu không phải dạng số](#Phân-bố-giá-trị-của-cột-có-kiểu-dữ-liệu-không-phải-dạng-số)\n",
    "  - [Phân bố giá trị của cột có kiểu dữ liệu dạng số](#Phân-bố-giá-trị-của-cột-có-kiểu-dữ-liệu-dạng-số)\n",
    "  - [Xử lý dữ liệu thiếu](#Xử-lý-dữ-liệu-thiếu)\n",
    "  - [Xử lý kiểu dữ liệu cột](#Xử-lý-kiểu-dữ-liệu-cột)\n",
    "  - [Xử lý giá trị không hợp lệ](#Xử-lý-giá-trị-không-hợp-lệ)\n",
    "  - [Tách các tập](#Tách-các-tập) \n",
    "  - [Tiền xử lý cột name, shop_location và chuẩn hóa dữ liệu](#Tiền-xử-lý-cột-name,-shop_location-và-chuẩn-hóa-dữ-liệu)"
   ]
  },
  {
   "cell_type": "markdown",
   "metadata": {},
   "source": [
    "## Thu thập dữ liệu\n",
    "\n",
    "Toàn bộ phần thu thập dữ liệu được nhóm đặt trong thư mục _Data Crawler_ và quá trình làm việc trong branch [_develope-Al27_](https://github.com/cstotodile/ds_final/tree/develope-Al27)"
   ]
  },
  {
   "cell_type": "markdown",
   "metadata": {},
   "source": [
    "## Khám phá dữ liệu và Tiền Xử lý\n",
    "\n",
    "## (Exploring Data & PreProcessing Data)\n",
    "\n",
    "Quá trình làm việc của nhóm trong branch [Preprocessing](https://github.com/cstotodile/ds_final/tree/Preprocessing)\n"
   ]
  },
  {
   "cell_type": "markdown",
   "metadata": {},
   "source": [
    "### Dữ liệu\n",
    "\n",
    "Các món hàng _Thời trang nam_ trên shopee\n",
    "\n",
    "Input là các thuộc tính của món hàng mà được biểu hiện ra trên giao diện của shopee.vn cho người dùng thấy, và thuộc tính thời gian của món hàng bao gồm: Thời gian sản phẩm được đăng, thời gian sản phẩm được lấy dữ liệu về máy, và thời gian sản phẩm được bày bán\n",
    "\n",
    "Output là số lượng hàng đã bán được trong thời gian món hàng được đăng lên shopee cho đến lúc được lấy dữ liệu về máy\n",
    "\n",
    "Dữ liệu đúng vì được request từ api của shopee, có nghĩa là shopee cũng đang sử dụng dữ liệu này để hiện thị cho người tiêu dùng xem.\n",
    "\n",
    "### Câu hỏi đặt ra\n",
    "\n",
    "Dự đoán số lượng hàng bán được của một sản phẩm _Thời trang Nam_ tại một thời điểm trên shopee.vn\n",
    "\n"
   ]
  },
  {
   "cell_type": "markdown",
   "metadata": {},
   "source": [
    "### Import \n",
    "\n",
    "import trước các thư viện re, numpy, pandas, sklearn"
   ]
  },
  {
   "cell_type": "code",
   "execution_count": 138,
   "metadata": {},
   "outputs": [],
   "source": [
    "import re\n",
    "import pandas as pd\n",
    "import numpy as np\n",
    "%matplotlib inline\n",
    "import matplotlib.pyplot as plt\n",
    "import seaborn as sns\n",
    "\n",
    "from numpy import mean\n",
    "from numpy import std\n",
    "from sklearn.model_selection import train_test_split\n",
    "from sklearn import preprocessing\n",
    "from sklearn.compose import ColumnTransformer\n",
    "from sklearn.compose import make_column_transformer\n",
    "from sklearn.preprocessing import LabelEncoder\n",
    "from sklearn.preprocessing import OneHotEncoder\n",
    "from sklearn.feature_extraction.text import CountVectorizer\n",
    "from sklearn.preprocessing import MinMaxScaler\n",
    "from sklearn.preprocessing import StandardScaler\n",
    "\n",
    "from sklearn.impute import SimpleImputer\n",
    "from sklearn.impute import KNNImputer\n",
    "from sklearn.pipeline import Pipeline, make_pipeline\n",
    "from sklearn import set_config\n",
    "set_config(display='diagram') # Để trực quan hóa pipeline\n",
    "# from sklearn.cross_validation import train_test_split\n",
    "\n",
    "from sklearn.neural_network import MLPRegressor\n",
    "from sklearn.linear_model import LinearRegression"
   ]
  },
  {
   "cell_type": "markdown",
   "metadata": {},
   "source": [
    "### Mở file và chỉnh sửa thông số hiển thị\n",
    "\n",
    "Do dataset hiện đang nằm ở nhiều file khác nhau do có category khác nhau nên ta tiến hành gộp data bằng lệnh concat của pandas."
   ]
  },
  {
   "cell_type": "code",
   "execution_count": 3,
   "metadata": {},
   "outputs": [],
   "source": [
    "#Set Option\n",
    "pd.set_option('max_colwidth', 10000)\n",
    "pd.set_option('display.max_rows', 500)\n",
    "pd.set_option('display.max_columns', 500)\n",
    "pd.set_option('display.width', 1000)"
   ]
  },
  {
   "cell_type": "markdown",
   "metadata": {},
   "source": [
    " - Mở file\n",
    " \n",
    "  Thử mở file thuộc danh mục _Áo ngắn tay không cổ_ và đánh giá qua về data trước khi gộp"
   ]
  },
  {
   "cell_type": "code",
   "execution_count": 4,
   "metadata": {},
   "outputs": [
    {
     "data": {
      "text/html": [
       "<div>\n",
       "<style scoped>\n",
       "    .dataframe tbody tr th:only-of-type {\n",
       "        vertical-align: middle;\n",
       "    }\n",
       "\n",
       "    .dataframe tbody tr th {\n",
       "        vertical-align: top;\n",
       "    }\n",
       "\n",
       "    .dataframe thead th {\n",
       "        text-align: right;\n",
       "    }\n",
       "</style>\n",
       "<table border=\"1\" class=\"dataframe\">\n",
       "  <thead>\n",
       "    <tr style=\"text-align: right;\">\n",
       "      <th></th>\n",
       "      <th>name</th>\n",
       "      <th>shop_location</th>\n",
       "      <th>item_public_time</th>\n",
       "      <th>item_be_got_time</th>\n",
       "      <th>sell_time</th>\n",
       "      <th>shopee_verified</th>\n",
       "      <th>discount</th>\n",
       "      <th>is_adult</th>\n",
       "      <th>options</th>\n",
       "      <th>show_official_shop_label_in_title</th>\n",
       "      <th>rating_star</th>\n",
       "      <th>five_star</th>\n",
       "      <th>four_star</th>\n",
       "      <th>three_star</th>\n",
       "      <th>two_star</th>\n",
       "      <th>one_star</th>\n",
       "      <th>flash_sale</th>\n",
       "      <th>upcoming_flash_sale</th>\n",
       "      <th>price_min</th>\n",
       "      <th>price_min_before_discoun</th>\n",
       "      <th>price_max</th>\n",
       "      <th>price_max_before_discount</th>\n",
       "      <th>price</th>\n",
       "      <th>price_before_discount</th>\n",
       "      <th>coin_earn_label</th>\n",
       "      <th>liked_count</th>\n",
       "      <th>view_count</th>\n",
       "      <th>cmt_count</th>\n",
       "      <th>is_preferred_plus_seller</th>\n",
       "      <th>show_free_shipping</th>\n",
       "      <th>images</th>\n",
       "      <th>video_info_list</th>\n",
       "      <th>historical_sold</th>\n",
       "    </tr>\n",
       "  </thead>\n",
       "  <tbody>\n",
       "    <tr>\n",
       "      <th>0</th>\n",
       "      <td>Áo thun phông Unisex nam nữ 2 màu Trắng Đen tay ngắn cổ tròn dáng ôm phối cực cá tính - V107</td>\n",
       "      <td>TP. Hồ Chí Minh</td>\n",
       "      <td>1607316973</td>\n",
       "      <td>1609949428</td>\n",
       "      <td>2632455</td>\n",
       "      <td>True</td>\n",
       "      <td>39%</td>\n",
       "      <td>False</td>\n",
       "      <td>8</td>\n",
       "      <td>False</td>\n",
       "      <td>5.000000</td>\n",
       "      <td>4</td>\n",
       "      <td>0</td>\n",
       "      <td>0</td>\n",
       "      <td>0</td>\n",
       "      <td>0</td>\n",
       "      <td>None</td>\n",
       "      <td>None</td>\n",
       "      <td>14900000000</td>\n",
       "      <td>24500000000</td>\n",
       "      <td>14900000000</td>\n",
       "      <td>24500000000</td>\n",
       "      <td>14900000000</td>\n",
       "      <td>24500000000</td>\n",
       "      <td>None</td>\n",
       "      <td>7</td>\n",
       "      <td>1048</td>\n",
       "      <td>4</td>\n",
       "      <td>True</td>\n",
       "      <td>False</td>\n",
       "      <td>8</td>\n",
       "      <td>0</td>\n",
       "      <td>18</td>\n",
       "    </tr>\n",
       "    <tr>\n",
       "      <th>1</th>\n",
       "      <td>Áo Thun Trơn Nam [FREESHIP] Áo phông nam tay ngắn 100% cotton Trắng Đen dáng ôm vừa vặn AT01</td>\n",
       "      <td>TP. Hồ Chí Minh</td>\n",
       "      <td>1596338054</td>\n",
       "      <td>1609949428</td>\n",
       "      <td>13611374</td>\n",
       "      <td>True</td>\n",
       "      <td>49%</td>\n",
       "      <td>False</td>\n",
       "      <td>35</td>\n",
       "      <td>False</td>\n",
       "      <td>4.947977</td>\n",
       "      <td>166</td>\n",
       "      <td>5</td>\n",
       "      <td>2</td>\n",
       "      <td>0</td>\n",
       "      <td>0</td>\n",
       "      <td>None</td>\n",
       "      <td>None</td>\n",
       "      <td>10900000000</td>\n",
       "      <td>10900000000</td>\n",
       "      <td>10900000000</td>\n",
       "      <td>21500000000</td>\n",
       "      <td>10900000000</td>\n",
       "      <td>10900000000</td>\n",
       "      <td>None</td>\n",
       "      <td>109</td>\n",
       "      <td>10540</td>\n",
       "      <td>173</td>\n",
       "      <td>True</td>\n",
       "      <td>False</td>\n",
       "      <td>9</td>\n",
       "      <td>0</td>\n",
       "      <td>526</td>\n",
       "    </tr>\n",
       "    <tr>\n",
       "      <th>2</th>\n",
       "      <td>[SALE 50%] - Áo Thun Nam Cổ Tròn Cao Cấp ( nhiều màu) Tay Ngắn, chất cotton bề mặt vải mềm Mịn cực hot</td>\n",
       "      <td>TP. Hồ Chí Minh</td>\n",
       "      <td>1603987674</td>\n",
       "      <td>1609949428</td>\n",
       "      <td>5961754</td>\n",
       "      <td>True</td>\n",
       "      <td>50%</td>\n",
       "      <td>False</td>\n",
       "      <td>48</td>\n",
       "      <td>False</td>\n",
       "      <td>4.885417</td>\n",
       "      <td>89</td>\n",
       "      <td>4</td>\n",
       "      <td>2</td>\n",
       "      <td>1</td>\n",
       "      <td>0</td>\n",
       "      <td>None</td>\n",
       "      <td>None</td>\n",
       "      <td>4950000000</td>\n",
       "      <td>9900000000</td>\n",
       "      <td>4950000000</td>\n",
       "      <td>9900000000</td>\n",
       "      <td>4950000000</td>\n",
       "      <td>9900000000</td>\n",
       "      <td>None</td>\n",
       "      <td>25</td>\n",
       "      <td>4025</td>\n",
       "      <td>96</td>\n",
       "      <td>True</td>\n",
       "      <td>False</td>\n",
       "      <td>9</td>\n",
       "      <td>0</td>\n",
       "      <td>431</td>\n",
       "    </tr>\n",
       "    <tr>\n",
       "      <th>3</th>\n",
       "      <td>Áo thun nam unisex 100% cotton basic Trắng Đen áo phông co giãn cao cấp dáng rộng dễ phối đồ - V69</td>\n",
       "      <td>TP. Hồ Chí Minh</td>\n",
       "      <td>1596082707</td>\n",
       "      <td>1609949428</td>\n",
       "      <td>13866721</td>\n",
       "      <td>True</td>\n",
       "      <td>39%</td>\n",
       "      <td>False</td>\n",
       "      <td>8</td>\n",
       "      <td>False</td>\n",
       "      <td>5.000000</td>\n",
       "      <td>66</td>\n",
       "      <td>0</td>\n",
       "      <td>0</td>\n",
       "      <td>0</td>\n",
       "      <td>0</td>\n",
       "      <td>None</td>\n",
       "      <td>None</td>\n",
       "      <td>14900000000</td>\n",
       "      <td>24500000000</td>\n",
       "      <td>14900000000</td>\n",
       "      <td>24500000000</td>\n",
       "      <td>14900000000</td>\n",
       "      <td>24500000000</td>\n",
       "      <td>None</td>\n",
       "      <td>85</td>\n",
       "      <td>4551</td>\n",
       "      <td>66</td>\n",
       "      <td>True</td>\n",
       "      <td>False</td>\n",
       "      <td>7</td>\n",
       "      <td>0</td>\n",
       "      <td>141</td>\n",
       "    </tr>\n",
       "    <tr>\n",
       "      <th>4</th>\n",
       "      <td>🔥XẢ HÀNG🔥 Áo đôi - áo cặp nam nữ dễ thương cực HOT</td>\n",
       "      <td>Hà Nội</td>\n",
       "      <td>1590391265</td>\n",
       "      <td>1609949428</td>\n",
       "      <td>19558163</td>\n",
       "      <td>False</td>\n",
       "      <td>None</td>\n",
       "      <td>False</td>\n",
       "      <td>10</td>\n",
       "      <td>False</td>\n",
       "      <td>4.687500</td>\n",
       "      <td>27</td>\n",
       "      <td>1</td>\n",
       "      <td>3</td>\n",
       "      <td>1</td>\n",
       "      <td>0</td>\n",
       "      <td>None</td>\n",
       "      <td>None</td>\n",
       "      <td>7200000000</td>\n",
       "      <td>-1</td>\n",
       "      <td>7200000000</td>\n",
       "      <td>-1</td>\n",
       "      <td>7200000000</td>\n",
       "      <td>0</td>\n",
       "      <td>None</td>\n",
       "      <td>128</td>\n",
       "      <td>3613</td>\n",
       "      <td>32</td>\n",
       "      <td>False</td>\n",
       "      <td>False</td>\n",
       "      <td>1</td>\n",
       "      <td>0</td>\n",
       "      <td>158</td>\n",
       "    </tr>\n",
       "  </tbody>\n",
       "</table>\n",
       "</div>"
      ],
      "text/plain": [
       "                                                                                                     name    shop_location  item_public_time  item_be_got_time  sell_time  shopee_verified discount  is_adult  options  show_official_shop_label_in_title  rating_star  five_star  four_star  three_star  two_star  one_star flash_sale upcoming_flash_sale    price_min  price_min_before_discoun    price_max  price_max_before_discount        price  price_before_discount coin_earn_label  liked_count  view_count  cmt_count  is_preferred_plus_seller  show_free_shipping  images  video_info_list  historical_sold\n",
       "0            Áo thun phông Unisex nam nữ 2 màu Trắng Đen tay ngắn cổ tròn dáng ôm phối cực cá tính - V107  TP. Hồ Chí Minh        1607316973        1609949428    2632455             True      39%     False        8                              False     5.000000          4          0           0         0         0       None                None  14900000000               24500000000  14900000000                24500000000  14900000000            24500000000            None            7        1048          4                      True               False       8                0               18\n",
       "1            Áo Thun Trơn Nam [FREESHIP] Áo phông nam tay ngắn 100% cotton Trắng Đen dáng ôm vừa vặn AT01  TP. Hồ Chí Minh        1596338054        1609949428   13611374             True      49%     False       35                              False     4.947977        166          5           2         0         0       None                None  10900000000               10900000000  10900000000                21500000000  10900000000            10900000000            None          109       10540        173                      True               False       9                0              526\n",
       "2  [SALE 50%] - Áo Thun Nam Cổ Tròn Cao Cấp ( nhiều màu) Tay Ngắn, chất cotton bề mặt vải mềm Mịn cực hot  TP. Hồ Chí Minh        1603987674        1609949428    5961754             True      50%     False       48                              False     4.885417         89          4           2         1         0       None                None   4950000000                9900000000   4950000000                 9900000000   4950000000             9900000000            None           25        4025         96                      True               False       9                0              431\n",
       "3      Áo thun nam unisex 100% cotton basic Trắng Đen áo phông co giãn cao cấp dáng rộng dễ phối đồ - V69  TP. Hồ Chí Minh        1596082707        1609949428   13866721             True      39%     False        8                              False     5.000000         66          0           0         0         0       None                None  14900000000               24500000000  14900000000                24500000000  14900000000            24500000000            None           85        4551         66                      True               False       7                0              141\n",
       "4                                                      🔥XẢ HÀNG🔥 Áo đôi - áo cặp nam nữ dễ thương cực HOT           Hà Nội        1590391265        1609949428   19558163            False     None     False       10                              False     4.687500         27          1           3         1         0       None                None   7200000000                        -1   7200000000                         -1   7200000000                      0            None          128        3613         32                     False               False       1                0              158"
      ]
     },
     "execution_count": 4,
     "metadata": {},
     "output_type": "execute_result"
    }
   ],
   "source": [
    "aoNganTayKhongCo_df = pd.read_csv('Data/ShoppeItem_thoiTrangNam_aoNganTayKhongCo_0-949.tsv', sep='\\t')\n",
    "aoNganTayKhongCo_df.head()"
   ]
  },
  {
   "cell_type": "markdown",
   "metadata": {},
   "source": [
    "Ta thấy ngay cột `name` nếu sử dụng chiến lược _Bag of Words_ thì sẽ tăng số lượng cột lên rất nhiều, dễ gây overfitting. Tuy nhiên trong cột name vẫn mang rõ đặc trưng của nhóm hàng này là _Áo ngắn tay không cổ_.\n",
    "\n",
    "Vậy trước khi gộp chung vào thành 1 dataset lớn, ta sẽ thêm vào data frame cột `category` để xác định món hàng đó thuộc nhóm nào, và bỏ cột `name` đi."
   ]
  },
  {
   "cell_type": "code",
   "execution_count": 5,
   "metadata": {},
   "outputs": [],
   "source": [
    "def removeNameAddCategory(df, category):\n",
    "    df = df.reindex(columns = ['category'] + df.columns.tolist())\n",
    "    df['category'] = df['category'].fillna(category)\n",
    "    df = df.drop('name', axis = 1)\n",
    "    return df"
   ]
  },
  {
   "cell_type": "code",
   "execution_count": 6,
   "metadata": {},
   "outputs": [
    {
     "data": {
      "text/html": [
       "<div>\n",
       "<style scoped>\n",
       "    .dataframe tbody tr th:only-of-type {\n",
       "        vertical-align: middle;\n",
       "    }\n",
       "\n",
       "    .dataframe tbody tr th {\n",
       "        vertical-align: top;\n",
       "    }\n",
       "\n",
       "    .dataframe thead th {\n",
       "        text-align: right;\n",
       "    }\n",
       "</style>\n",
       "<table border=\"1\" class=\"dataframe\">\n",
       "  <thead>\n",
       "    <tr style=\"text-align: right;\">\n",
       "      <th></th>\n",
       "      <th>category</th>\n",
       "      <th>shop_location</th>\n",
       "      <th>item_public_time</th>\n",
       "      <th>item_be_got_time</th>\n",
       "      <th>sell_time</th>\n",
       "      <th>shopee_verified</th>\n",
       "      <th>discount</th>\n",
       "      <th>is_adult</th>\n",
       "      <th>options</th>\n",
       "      <th>show_official_shop_label_in_title</th>\n",
       "      <th>rating_star</th>\n",
       "      <th>five_star</th>\n",
       "      <th>four_star</th>\n",
       "      <th>three_star</th>\n",
       "      <th>two_star</th>\n",
       "      <th>one_star</th>\n",
       "      <th>flash_sale</th>\n",
       "      <th>upcoming_flash_sale</th>\n",
       "      <th>price_min</th>\n",
       "      <th>price_min_before_discoun</th>\n",
       "      <th>price_max</th>\n",
       "      <th>price_max_before_discount</th>\n",
       "      <th>price</th>\n",
       "      <th>price_before_discount</th>\n",
       "      <th>coin_earn_label</th>\n",
       "      <th>liked_count</th>\n",
       "      <th>view_count</th>\n",
       "      <th>cmt_count</th>\n",
       "      <th>is_preferred_plus_seller</th>\n",
       "      <th>show_free_shipping</th>\n",
       "      <th>images</th>\n",
       "      <th>video_info_list</th>\n",
       "      <th>historical_sold</th>\n",
       "    </tr>\n",
       "  </thead>\n",
       "  <tbody>\n",
       "    <tr>\n",
       "      <th>0</th>\n",
       "      <td>Ao ngan tay khong co</td>\n",
       "      <td>TP. Hồ Chí Minh</td>\n",
       "      <td>1607316973</td>\n",
       "      <td>1609949428</td>\n",
       "      <td>2632455</td>\n",
       "      <td>True</td>\n",
       "      <td>39%</td>\n",
       "      <td>False</td>\n",
       "      <td>8</td>\n",
       "      <td>False</td>\n",
       "      <td>5.000000</td>\n",
       "      <td>4</td>\n",
       "      <td>0</td>\n",
       "      <td>0</td>\n",
       "      <td>0</td>\n",
       "      <td>0</td>\n",
       "      <td>None</td>\n",
       "      <td>None</td>\n",
       "      <td>14900000000</td>\n",
       "      <td>24500000000</td>\n",
       "      <td>14900000000</td>\n",
       "      <td>24500000000</td>\n",
       "      <td>14900000000</td>\n",
       "      <td>24500000000</td>\n",
       "      <td>None</td>\n",
       "      <td>7</td>\n",
       "      <td>1048</td>\n",
       "      <td>4</td>\n",
       "      <td>True</td>\n",
       "      <td>False</td>\n",
       "      <td>8</td>\n",
       "      <td>0</td>\n",
       "      <td>18</td>\n",
       "    </tr>\n",
       "    <tr>\n",
       "      <th>1</th>\n",
       "      <td>Ao ngan tay khong co</td>\n",
       "      <td>TP. Hồ Chí Minh</td>\n",
       "      <td>1596338054</td>\n",
       "      <td>1609949428</td>\n",
       "      <td>13611374</td>\n",
       "      <td>True</td>\n",
       "      <td>49%</td>\n",
       "      <td>False</td>\n",
       "      <td>35</td>\n",
       "      <td>False</td>\n",
       "      <td>4.947977</td>\n",
       "      <td>166</td>\n",
       "      <td>5</td>\n",
       "      <td>2</td>\n",
       "      <td>0</td>\n",
       "      <td>0</td>\n",
       "      <td>None</td>\n",
       "      <td>None</td>\n",
       "      <td>10900000000</td>\n",
       "      <td>10900000000</td>\n",
       "      <td>10900000000</td>\n",
       "      <td>21500000000</td>\n",
       "      <td>10900000000</td>\n",
       "      <td>10900000000</td>\n",
       "      <td>None</td>\n",
       "      <td>109</td>\n",
       "      <td>10540</td>\n",
       "      <td>173</td>\n",
       "      <td>True</td>\n",
       "      <td>False</td>\n",
       "      <td>9</td>\n",
       "      <td>0</td>\n",
       "      <td>526</td>\n",
       "    </tr>\n",
       "    <tr>\n",
       "      <th>2</th>\n",
       "      <td>Ao ngan tay khong co</td>\n",
       "      <td>TP. Hồ Chí Minh</td>\n",
       "      <td>1603987674</td>\n",
       "      <td>1609949428</td>\n",
       "      <td>5961754</td>\n",
       "      <td>True</td>\n",
       "      <td>50%</td>\n",
       "      <td>False</td>\n",
       "      <td>48</td>\n",
       "      <td>False</td>\n",
       "      <td>4.885417</td>\n",
       "      <td>89</td>\n",
       "      <td>4</td>\n",
       "      <td>2</td>\n",
       "      <td>1</td>\n",
       "      <td>0</td>\n",
       "      <td>None</td>\n",
       "      <td>None</td>\n",
       "      <td>4950000000</td>\n",
       "      <td>9900000000</td>\n",
       "      <td>4950000000</td>\n",
       "      <td>9900000000</td>\n",
       "      <td>4950000000</td>\n",
       "      <td>9900000000</td>\n",
       "      <td>None</td>\n",
       "      <td>25</td>\n",
       "      <td>4025</td>\n",
       "      <td>96</td>\n",
       "      <td>True</td>\n",
       "      <td>False</td>\n",
       "      <td>9</td>\n",
       "      <td>0</td>\n",
       "      <td>431</td>\n",
       "    </tr>\n",
       "  </tbody>\n",
       "</table>\n",
       "</div>"
      ],
      "text/plain": [
       "               category    shop_location  item_public_time  item_be_got_time  sell_time  shopee_verified discount  is_adult  options  show_official_shop_label_in_title  rating_star  five_star  four_star  three_star  two_star  one_star flash_sale upcoming_flash_sale    price_min  price_min_before_discoun    price_max  price_max_before_discount        price  price_before_discount coin_earn_label  liked_count  view_count  cmt_count  is_preferred_plus_seller  show_free_shipping  images  video_info_list  historical_sold\n",
       "0  Ao ngan tay khong co  TP. Hồ Chí Minh        1607316973        1609949428    2632455             True      39%     False        8                              False     5.000000          4          0           0         0         0       None                None  14900000000               24500000000  14900000000                24500000000  14900000000            24500000000            None            7        1048          4                      True               False       8                0               18\n",
       "1  Ao ngan tay khong co  TP. Hồ Chí Minh        1596338054        1609949428   13611374             True      49%     False       35                              False     4.947977        166          5           2         0         0       None                None  10900000000               10900000000  10900000000                21500000000  10900000000            10900000000            None          109       10540        173                      True               False       9                0              526\n",
       "2  Ao ngan tay khong co  TP. Hồ Chí Minh        1603987674        1609949428    5961754             True      50%     False       48                              False     4.885417         89          4           2         1         0       None                None   4950000000                9900000000   4950000000                 9900000000   4950000000             9900000000            None           25        4025         96                      True               False       9                0              431"
      ]
     },
     "execution_count": 6,
     "metadata": {},
     "output_type": "execute_result"
    }
   ],
   "source": [
    "aoNganTayKhongCo_df = removeNameAddCategory(aoNganTayKhongCo_df, category = 'Ao ngan tay khong co')\n",
    "aoNganTayKhongCo_df.head(3)"
   ]
  },
  {
   "cell_type": "markdown",
   "metadata": {},
   "source": [
    "Ta xử lý tương tự cho các dataset còn lại"
   ]
  },
  {
   "cell_type": "code",
   "execution_count": 7,
   "metadata": {},
   "outputs": [],
   "source": [
    "aoSoMi_df = pd.read_csv('Data/ShoppeItem_thoiTrangNam_aoSoMi_0-949.tsv', sep='\\t')\n",
    "baloTuiVi_df = pd.read_csv('Data/ShoppeItem_thoiTrangNam_baloTuiVi_0-949.tsv', sep='\\t')\n",
    "giayDepNam_df = pd.read_csv('Data/ShoppeItem_thoiTrangNam_giayDepNam_0-949.tsv', sep='\\t')\n",
    "phuKienNam_df = pd.read_csv('Data/ShoppeItem_thoiTrangNam_phuKienNam_0-949.tsv', sep='\\t')\n",
    "Quan_df = pd.read_csv('Data/ShoppeItem_thoiTrangNam_Quan_0-949.tsv', sep='\\t')\n",
    "\n",
    "aoSoMi_df = removeNameAddCategory(aoSoMi_df, category = 'Ao so mi')\n",
    "baloTuiVi_df = removeNameAddCategory(baloTuiVi_df, category = 'Balo/ Tui/ Vi')\n",
    "giayDepNam_df = removeNameAddCategory(giayDepNam_df, category = 'Giay dep nam')\n",
    "phuKienNam_df = removeNameAddCategory(phuKienNam_df, category = 'Phu kien Nam')\n",
    "Quan_df = removeNameAddCategory(Quan_df, category = 'Quan')"
   ]
  },
  {
   "cell_type": "markdown",
   "metadata": {},
   "source": [
    "Tiếp theo, ta tiến hành gộp các dataset này lại với nhau"
   ]
  },
  {
   "cell_type": "code",
   "execution_count": 8,
   "metadata": {},
   "outputs": [],
   "source": [
    "frames = [aoNganTayKhongCo_df,aoSoMi_df,baloTuiVi_df,giayDepNam_df,phuKienNam_df,Quan_df]\n",
    "\n",
    "items_df = pd.concat(frames, ignore_index=True, sort=False)\n",
    "\n",
    "# Sử dụng lệnh dưới thay vì lệnh đang dùng ở phía trên, các dataframe được gộp với nhau \n",
    "# nhưng vẫn có thể gọi riêng một dataframe thông qua key.\n",
    "# Trường hợp này ta có thể áp dụng gộp rồi mới thêm cột category\n",
    "# Tuy nhiên chỉ số index sẽ không chạy từ 0 đến hết mà giữ nguyên ở mỗi bảng.\n",
    "\n",
    "# items_df = pd.concat(frames, keys = [aoNganTayKhongCo', 'aoSoMi', 'baloTuiVi', 'giayDepNam', 'phuKienNam', 'Quan'])"
   ]
  },
  {
   "cell_type": "code",
   "execution_count": 9,
   "metadata": {},
   "outputs": [
    {
     "data": {
      "text/html": [
       "<div>\n",
       "<style scoped>\n",
       "    .dataframe tbody tr th:only-of-type {\n",
       "        vertical-align: middle;\n",
       "    }\n",
       "\n",
       "    .dataframe tbody tr th {\n",
       "        vertical-align: top;\n",
       "    }\n",
       "\n",
       "    .dataframe thead th {\n",
       "        text-align: right;\n",
       "    }\n",
       "</style>\n",
       "<table border=\"1\" class=\"dataframe\">\n",
       "  <thead>\n",
       "    <tr style=\"text-align: right;\">\n",
       "      <th></th>\n",
       "      <th>category</th>\n",
       "      <th>shop_location</th>\n",
       "      <th>item_public_time</th>\n",
       "      <th>item_be_got_time</th>\n",
       "      <th>sell_time</th>\n",
       "      <th>shopee_verified</th>\n",
       "      <th>discount</th>\n",
       "      <th>is_adult</th>\n",
       "      <th>options</th>\n",
       "      <th>show_official_shop_label_in_title</th>\n",
       "      <th>rating_star</th>\n",
       "      <th>five_star</th>\n",
       "      <th>four_star</th>\n",
       "      <th>three_star</th>\n",
       "      <th>two_star</th>\n",
       "      <th>one_star</th>\n",
       "      <th>flash_sale</th>\n",
       "      <th>upcoming_flash_sale</th>\n",
       "      <th>price_min</th>\n",
       "      <th>price_min_before_discoun</th>\n",
       "      <th>price_max</th>\n",
       "      <th>price_max_before_discount</th>\n",
       "      <th>price</th>\n",
       "      <th>price_before_discount</th>\n",
       "      <th>coin_earn_label</th>\n",
       "      <th>liked_count</th>\n",
       "      <th>view_count</th>\n",
       "      <th>cmt_count</th>\n",
       "      <th>is_preferred_plus_seller</th>\n",
       "      <th>show_free_shipping</th>\n",
       "      <th>images</th>\n",
       "      <th>video_info_list</th>\n",
       "      <th>historical_sold</th>\n",
       "    </tr>\n",
       "  </thead>\n",
       "  <tbody>\n",
       "    <tr>\n",
       "      <th>0</th>\n",
       "      <td>Ao ngan tay khong co</td>\n",
       "      <td>TP. Hồ Chí Minh</td>\n",
       "      <td>1.607317e+09</td>\n",
       "      <td>1.609949e+09</td>\n",
       "      <td>2632455.0</td>\n",
       "      <td>True</td>\n",
       "      <td>39%</td>\n",
       "      <td>False</td>\n",
       "      <td>8.0</td>\n",
       "      <td>False</td>\n",
       "      <td>5.000000</td>\n",
       "      <td>4.0</td>\n",
       "      <td>0.0</td>\n",
       "      <td>0.0</td>\n",
       "      <td>0.0</td>\n",
       "      <td>0.0</td>\n",
       "      <td>None</td>\n",
       "      <td>None</td>\n",
       "      <td>1.490000e+10</td>\n",
       "      <td>2.450000e+10</td>\n",
       "      <td>1.490000e+10</td>\n",
       "      <td>2.450000e+10</td>\n",
       "      <td>1.490000e+10</td>\n",
       "      <td>2.450000e+10</td>\n",
       "      <td>None</td>\n",
       "      <td>7.0</td>\n",
       "      <td>1048.0</td>\n",
       "      <td>4.0</td>\n",
       "      <td>True</td>\n",
       "      <td>False</td>\n",
       "      <td>8.0</td>\n",
       "      <td>0.0</td>\n",
       "      <td>18.0</td>\n",
       "    </tr>\n",
       "    <tr>\n",
       "      <th>1</th>\n",
       "      <td>Ao ngan tay khong co</td>\n",
       "      <td>TP. Hồ Chí Minh</td>\n",
       "      <td>1.596338e+09</td>\n",
       "      <td>1.609949e+09</td>\n",
       "      <td>13611374.0</td>\n",
       "      <td>True</td>\n",
       "      <td>49%</td>\n",
       "      <td>False</td>\n",
       "      <td>35.0</td>\n",
       "      <td>False</td>\n",
       "      <td>4.947977</td>\n",
       "      <td>166.0</td>\n",
       "      <td>5.0</td>\n",
       "      <td>2.0</td>\n",
       "      <td>0.0</td>\n",
       "      <td>0.0</td>\n",
       "      <td>None</td>\n",
       "      <td>None</td>\n",
       "      <td>1.090000e+10</td>\n",
       "      <td>1.090000e+10</td>\n",
       "      <td>1.090000e+10</td>\n",
       "      <td>2.150000e+10</td>\n",
       "      <td>1.090000e+10</td>\n",
       "      <td>1.090000e+10</td>\n",
       "      <td>None</td>\n",
       "      <td>109.0</td>\n",
       "      <td>10540.0</td>\n",
       "      <td>173.0</td>\n",
       "      <td>True</td>\n",
       "      <td>False</td>\n",
       "      <td>9.0</td>\n",
       "      <td>0.0</td>\n",
       "      <td>526.0</td>\n",
       "    </tr>\n",
       "    <tr>\n",
       "      <th>2</th>\n",
       "      <td>Ao ngan tay khong co</td>\n",
       "      <td>TP. Hồ Chí Minh</td>\n",
       "      <td>1.603988e+09</td>\n",
       "      <td>1.609949e+09</td>\n",
       "      <td>5961754.0</td>\n",
       "      <td>True</td>\n",
       "      <td>50%</td>\n",
       "      <td>False</td>\n",
       "      <td>48.0</td>\n",
       "      <td>False</td>\n",
       "      <td>4.885417</td>\n",
       "      <td>89.0</td>\n",
       "      <td>4.0</td>\n",
       "      <td>2.0</td>\n",
       "      <td>1.0</td>\n",
       "      <td>0.0</td>\n",
       "      <td>None</td>\n",
       "      <td>None</td>\n",
       "      <td>4.950000e+09</td>\n",
       "      <td>9.900000e+09</td>\n",
       "      <td>4.950000e+09</td>\n",
       "      <td>9.900000e+09</td>\n",
       "      <td>4.950000e+09</td>\n",
       "      <td>9.900000e+09</td>\n",
       "      <td>None</td>\n",
       "      <td>25.0</td>\n",
       "      <td>4025.0</td>\n",
       "      <td>96.0</td>\n",
       "      <td>True</td>\n",
       "      <td>False</td>\n",
       "      <td>9.0</td>\n",
       "      <td>0.0</td>\n",
       "      <td>431.0</td>\n",
       "    </tr>\n",
       "    <tr>\n",
       "      <th>3</th>\n",
       "      <td>Ao ngan tay khong co</td>\n",
       "      <td>TP. Hồ Chí Minh</td>\n",
       "      <td>1.596083e+09</td>\n",
       "      <td>1.609949e+09</td>\n",
       "      <td>13866721.0</td>\n",
       "      <td>True</td>\n",
       "      <td>39%</td>\n",
       "      <td>False</td>\n",
       "      <td>8.0</td>\n",
       "      <td>False</td>\n",
       "      <td>5.000000</td>\n",
       "      <td>66.0</td>\n",
       "      <td>0.0</td>\n",
       "      <td>0.0</td>\n",
       "      <td>0.0</td>\n",
       "      <td>0.0</td>\n",
       "      <td>None</td>\n",
       "      <td>None</td>\n",
       "      <td>1.490000e+10</td>\n",
       "      <td>2.450000e+10</td>\n",
       "      <td>1.490000e+10</td>\n",
       "      <td>2.450000e+10</td>\n",
       "      <td>1.490000e+10</td>\n",
       "      <td>2.450000e+10</td>\n",
       "      <td>None</td>\n",
       "      <td>85.0</td>\n",
       "      <td>4551.0</td>\n",
       "      <td>66.0</td>\n",
       "      <td>True</td>\n",
       "      <td>False</td>\n",
       "      <td>7.0</td>\n",
       "      <td>0.0</td>\n",
       "      <td>141.0</td>\n",
       "    </tr>\n",
       "    <tr>\n",
       "      <th>4</th>\n",
       "      <td>Ao ngan tay khong co</td>\n",
       "      <td>Hà Nội</td>\n",
       "      <td>1.590391e+09</td>\n",
       "      <td>1.609949e+09</td>\n",
       "      <td>19558163.0</td>\n",
       "      <td>False</td>\n",
       "      <td>None</td>\n",
       "      <td>False</td>\n",
       "      <td>10.0</td>\n",
       "      <td>False</td>\n",
       "      <td>4.687500</td>\n",
       "      <td>27.0</td>\n",
       "      <td>1.0</td>\n",
       "      <td>3.0</td>\n",
       "      <td>1.0</td>\n",
       "      <td>0.0</td>\n",
       "      <td>None</td>\n",
       "      <td>None</td>\n",
       "      <td>7.200000e+09</td>\n",
       "      <td>-1.000000e+00</td>\n",
       "      <td>7.200000e+09</td>\n",
       "      <td>-1.000000e+00</td>\n",
       "      <td>7.200000e+09</td>\n",
       "      <td>0.000000e+00</td>\n",
       "      <td>None</td>\n",
       "      <td>128.0</td>\n",
       "      <td>3613.0</td>\n",
       "      <td>32.0</td>\n",
       "      <td>False</td>\n",
       "      <td>False</td>\n",
       "      <td>1.0</td>\n",
       "      <td>0.0</td>\n",
       "      <td>158.0</td>\n",
       "    </tr>\n",
       "    <tr>\n",
       "      <th>...</th>\n",
       "      <td>...</td>\n",
       "      <td>...</td>\n",
       "      <td>...</td>\n",
       "      <td>...</td>\n",
       "      <td>...</td>\n",
       "      <td>...</td>\n",
       "      <td>...</td>\n",
       "      <td>...</td>\n",
       "      <td>...</td>\n",
       "      <td>...</td>\n",
       "      <td>...</td>\n",
       "      <td>...</td>\n",
       "      <td>...</td>\n",
       "      <td>...</td>\n",
       "      <td>...</td>\n",
       "      <td>...</td>\n",
       "      <td>...</td>\n",
       "      <td>...</td>\n",
       "      <td>...</td>\n",
       "      <td>...</td>\n",
       "      <td>...</td>\n",
       "      <td>...</td>\n",
       "      <td>...</td>\n",
       "      <td>...</td>\n",
       "      <td>...</td>\n",
       "      <td>...</td>\n",
       "      <td>...</td>\n",
       "      <td>...</td>\n",
       "      <td>...</td>\n",
       "      <td>...</td>\n",
       "      <td>...</td>\n",
       "      <td>...</td>\n",
       "      <td>...</td>\n",
       "    </tr>\n",
       "    <tr>\n",
       "      <th>5746</th>\n",
       "      <td>Quan</td>\n",
       "      <td>Hà Nội</td>\n",
       "      <td>1.581356e+09</td>\n",
       "      <td>1.609992e+09</td>\n",
       "      <td>28635448.0</td>\n",
       "      <td>True</td>\n",
       "      <td>47%</td>\n",
       "      <td>False</td>\n",
       "      <td>18.0</td>\n",
       "      <td>False</td>\n",
       "      <td>4.857143</td>\n",
       "      <td>6.0</td>\n",
       "      <td>1.0</td>\n",
       "      <td>0.0</td>\n",
       "      <td>0.0</td>\n",
       "      <td>0.0</td>\n",
       "      <td>None</td>\n",
       "      <td>None</td>\n",
       "      <td>6.900000e+09</td>\n",
       "      <td>1.290000e+10</td>\n",
       "      <td>6.900000e+09</td>\n",
       "      <td>1.290000e+10</td>\n",
       "      <td>6.900000e+09</td>\n",
       "      <td>1.290000e+10</td>\n",
       "      <td>None</td>\n",
       "      <td>4.0</td>\n",
       "      <td>35.0</td>\n",
       "      <td>7.0</td>\n",
       "      <td>False</td>\n",
       "      <td>True</td>\n",
       "      <td>8.0</td>\n",
       "      <td>0.0</td>\n",
       "      <td>14.0</td>\n",
       "    </tr>\n",
       "    <tr>\n",
       "      <th>5747</th>\n",
       "      <td>Quan</td>\n",
       "      <td>Hà Nội</td>\n",
       "      <td>1.597771e+09</td>\n",
       "      <td>1.609992e+09</td>\n",
       "      <td>12220879.0</td>\n",
       "      <td>True</td>\n",
       "      <td>47%</td>\n",
       "      <td>False</td>\n",
       "      <td>6.0</td>\n",
       "      <td>False</td>\n",
       "      <td>5.000000</td>\n",
       "      <td>2.0</td>\n",
       "      <td>0.0</td>\n",
       "      <td>0.0</td>\n",
       "      <td>0.0</td>\n",
       "      <td>0.0</td>\n",
       "      <td>None</td>\n",
       "      <td>None</td>\n",
       "      <td>6.900000e+09</td>\n",
       "      <td>1.290000e+10</td>\n",
       "      <td>6.900000e+09</td>\n",
       "      <td>1.290000e+10</td>\n",
       "      <td>6.900000e+09</td>\n",
       "      <td>1.290000e+10</td>\n",
       "      <td>None</td>\n",
       "      <td>0.0</td>\n",
       "      <td>40.0</td>\n",
       "      <td>2.0</td>\n",
       "      <td>True</td>\n",
       "      <td>False</td>\n",
       "      <td>9.0</td>\n",
       "      <td>0.0</td>\n",
       "      <td>4.0</td>\n",
       "    </tr>\n",
       "    <tr>\n",
       "      <th>5748</th>\n",
       "      <td>Quan</td>\n",
       "      <td>Nước ngoài</td>\n",
       "      <td>1.570801e+09</td>\n",
       "      <td>1.609992e+09</td>\n",
       "      <td>39190550.0</td>\n",
       "      <td>False</td>\n",
       "      <td>48%</td>\n",
       "      <td>False</td>\n",
       "      <td>0.0</td>\n",
       "      <td>False</td>\n",
       "      <td>5.000000</td>\n",
       "      <td>1.0</td>\n",
       "      <td>0.0</td>\n",
       "      <td>0.0</td>\n",
       "      <td>0.0</td>\n",
       "      <td>0.0</td>\n",
       "      <td>None</td>\n",
       "      <td>None</td>\n",
       "      <td>4.742400e+09</td>\n",
       "      <td>9.120000e+09</td>\n",
       "      <td>4.742400e+09</td>\n",
       "      <td>9.120000e+09</td>\n",
       "      <td>4.742400e+09</td>\n",
       "      <td>9.120000e+09</td>\n",
       "      <td>None</td>\n",
       "      <td>4.0</td>\n",
       "      <td>12.0</td>\n",
       "      <td>1.0</td>\n",
       "      <td>False</td>\n",
       "      <td>True</td>\n",
       "      <td>9.0</td>\n",
       "      <td>0.0</td>\n",
       "      <td>2.0</td>\n",
       "    </tr>\n",
       "    <tr>\n",
       "      <th>5749</th>\n",
       "      <td>Quan</td>\n",
       "      <td>TP. Hồ Chí Minh</td>\n",
       "      <td>1.552326e+09</td>\n",
       "      <td>1.609992e+09</td>\n",
       "      <td>57665762.0</td>\n",
       "      <td>True</td>\n",
       "      <td>22%</td>\n",
       "      <td>False</td>\n",
       "      <td>3.0</td>\n",
       "      <td>False</td>\n",
       "      <td>4.833333</td>\n",
       "      <td>22.0</td>\n",
       "      <td>1.0</td>\n",
       "      <td>0.0</td>\n",
       "      <td>1.0</td>\n",
       "      <td>0.0</td>\n",
       "      <td>None</td>\n",
       "      <td>None</td>\n",
       "      <td>8.500000e+09</td>\n",
       "      <td>1.090000e+10</td>\n",
       "      <td>8.500000e+09</td>\n",
       "      <td>1.090000e+10</td>\n",
       "      <td>8.500000e+09</td>\n",
       "      <td>1.090000e+10</td>\n",
       "      <td>None</td>\n",
       "      <td>4965.0</td>\n",
       "      <td>13.0</td>\n",
       "      <td>24.0</td>\n",
       "      <td>False</td>\n",
       "      <td>True</td>\n",
       "      <td>6.0</td>\n",
       "      <td>0.0</td>\n",
       "      <td>49.0</td>\n",
       "    </tr>\n",
       "    <tr>\n",
       "      <th>5750</th>\n",
       "      <td>Quan</td>\n",
       "      <td>Nước ngoài</td>\n",
       "      <td>1.574765e+09</td>\n",
       "      <td>1.609992e+09</td>\n",
       "      <td>35226632.0</td>\n",
       "      <td>False</td>\n",
       "      <td>45%</td>\n",
       "      <td>False</td>\n",
       "      <td>0.0</td>\n",
       "      <td>False</td>\n",
       "      <td>5.000000</td>\n",
       "      <td>1.0</td>\n",
       "      <td>0.0</td>\n",
       "      <td>0.0</td>\n",
       "      <td>0.0</td>\n",
       "      <td>0.0</td>\n",
       "      <td>None</td>\n",
       "      <td>None</td>\n",
       "      <td>3.200000e+09</td>\n",
       "      <td>5.800000e+09</td>\n",
       "      <td>3.600000e+09</td>\n",
       "      <td>6.500000e+09</td>\n",
       "      <td>3.200000e+09</td>\n",
       "      <td>5.800000e+09</td>\n",
       "      <td>None</td>\n",
       "      <td>1.0</td>\n",
       "      <td>3.0</td>\n",
       "      <td>1.0</td>\n",
       "      <td>False</td>\n",
       "      <td>False</td>\n",
       "      <td>9.0</td>\n",
       "      <td>0.0</td>\n",
       "      <td>1.0</td>\n",
       "    </tr>\n",
       "  </tbody>\n",
       "</table>\n",
       "<p>5751 rows × 33 columns</p>\n",
       "</div>"
      ],
      "text/plain": [
       "                  category    shop_location  item_public_time  item_be_got_time   sell_time shopee_verified discount is_adult  options show_official_shop_label_in_title  rating_star  five_star  four_star  three_star  two_star  one_star flash_sale upcoming_flash_sale     price_min  price_min_before_discoun     price_max  price_max_before_discount         price  price_before_discount coin_earn_label  liked_count  view_count  cmt_count is_preferred_plus_seller show_free_shipping  images  video_info_list  historical_sold\n",
       "0     Ao ngan tay khong co  TP. Hồ Chí Minh      1.607317e+09      1.609949e+09   2632455.0            True      39%    False      8.0                             False     5.000000        4.0        0.0         0.0       0.0       0.0       None                None  1.490000e+10              2.450000e+10  1.490000e+10               2.450000e+10  1.490000e+10           2.450000e+10            None          7.0      1048.0        4.0                     True              False     8.0              0.0             18.0\n",
       "1     Ao ngan tay khong co  TP. Hồ Chí Minh      1.596338e+09      1.609949e+09  13611374.0            True      49%    False     35.0                             False     4.947977      166.0        5.0         2.0       0.0       0.0       None                None  1.090000e+10              1.090000e+10  1.090000e+10               2.150000e+10  1.090000e+10           1.090000e+10            None        109.0     10540.0      173.0                     True              False     9.0              0.0            526.0\n",
       "2     Ao ngan tay khong co  TP. Hồ Chí Minh      1.603988e+09      1.609949e+09   5961754.0            True      50%    False     48.0                             False     4.885417       89.0        4.0         2.0       1.0       0.0       None                None  4.950000e+09              9.900000e+09  4.950000e+09               9.900000e+09  4.950000e+09           9.900000e+09            None         25.0      4025.0       96.0                     True              False     9.0              0.0            431.0\n",
       "3     Ao ngan tay khong co  TP. Hồ Chí Minh      1.596083e+09      1.609949e+09  13866721.0            True      39%    False      8.0                             False     5.000000       66.0        0.0         0.0       0.0       0.0       None                None  1.490000e+10              2.450000e+10  1.490000e+10               2.450000e+10  1.490000e+10           2.450000e+10            None         85.0      4551.0       66.0                     True              False     7.0              0.0            141.0\n",
       "4     Ao ngan tay khong co           Hà Nội      1.590391e+09      1.609949e+09  19558163.0           False     None    False     10.0                             False     4.687500       27.0        1.0         3.0       1.0       0.0       None                None  7.200000e+09             -1.000000e+00  7.200000e+09              -1.000000e+00  7.200000e+09           0.000000e+00            None        128.0      3613.0       32.0                    False              False     1.0              0.0            158.0\n",
       "...                    ...              ...               ...               ...         ...             ...      ...      ...      ...                               ...          ...        ...        ...         ...       ...       ...        ...                 ...           ...                       ...           ...                        ...           ...                    ...             ...          ...         ...        ...                      ...                ...     ...              ...              ...\n",
       "5746                  Quan           Hà Nội      1.581356e+09      1.609992e+09  28635448.0            True      47%    False     18.0                             False     4.857143        6.0        1.0         0.0       0.0       0.0       None                None  6.900000e+09              1.290000e+10  6.900000e+09               1.290000e+10  6.900000e+09           1.290000e+10            None          4.0        35.0        7.0                    False               True     8.0              0.0             14.0\n",
       "5747                  Quan           Hà Nội      1.597771e+09      1.609992e+09  12220879.0            True      47%    False      6.0                             False     5.000000        2.0        0.0         0.0       0.0       0.0       None                None  6.900000e+09              1.290000e+10  6.900000e+09               1.290000e+10  6.900000e+09           1.290000e+10            None          0.0        40.0        2.0                     True              False     9.0              0.0              4.0\n",
       "5748                  Quan       Nước ngoài      1.570801e+09      1.609992e+09  39190550.0           False      48%    False      0.0                             False     5.000000        1.0        0.0         0.0       0.0       0.0       None                None  4.742400e+09              9.120000e+09  4.742400e+09               9.120000e+09  4.742400e+09           9.120000e+09            None          4.0        12.0        1.0                    False               True     9.0              0.0              2.0\n",
       "5749                  Quan  TP. Hồ Chí Minh      1.552326e+09      1.609992e+09  57665762.0            True      22%    False      3.0                             False     4.833333       22.0        1.0         0.0       1.0       0.0       None                None  8.500000e+09              1.090000e+10  8.500000e+09               1.090000e+10  8.500000e+09           1.090000e+10            None       4965.0        13.0       24.0                    False               True     6.0              0.0             49.0\n",
       "5750                  Quan       Nước ngoài      1.574765e+09      1.609992e+09  35226632.0           False      45%    False      0.0                             False     5.000000        1.0        0.0         0.0       0.0       0.0       None                None  3.200000e+09              5.800000e+09  3.600000e+09               6.500000e+09  3.200000e+09           5.800000e+09            None          1.0         3.0        1.0                    False              False     9.0              0.0              1.0\n",
       "\n",
       "[5751 rows x 33 columns]"
      ]
     },
     "execution_count": 9,
     "metadata": {},
     "output_type": "execute_result"
    }
   ],
   "source": [
    "items_df"
   ]
  },
  {
   "cell_type": "markdown",
   "metadata": {},
   "source": [
    "Thử kiểm tra lại thông số về số mẫu và số thuộc tính của dataset"
   ]
  },
  {
   "cell_type": "code",
   "execution_count": 10,
   "metadata": {},
   "outputs": [
    {
     "data": {
      "text/plain": [
       "(5751, 33)"
      ]
     },
     "execution_count": 10,
     "metadata": {},
     "output_type": "execute_result"
    }
   ],
   "source": [
    "items_df.shape"
   ]
  },
  {
   "cell_type": "code",
   "execution_count": 11,
   "metadata": {},
   "outputs": [
    {
     "data": {
      "text/plain": [
       "array(['category', 'shop_location', 'item_public_time',\n",
       "       'item_be_got_time', 'sell_time', 'shopee_verified', 'discount',\n",
       "       'is_adult', 'options', 'show_official_shop_label_in_title',\n",
       "       'rating_star', 'five_star', 'four_star', 'three_star', 'two_star',\n",
       "       'one_star', 'flash_sale', 'upcoming_flash_sale', 'price_min',\n",
       "       'price_min_before_discoun', 'price_max',\n",
       "       'price_max_before_discount', 'price', 'price_before_discount',\n",
       "       'coin_earn_label', 'liked_count', 'view_count', 'cmt_count',\n",
       "       'is_preferred_plus_seller', 'show_free_shipping', 'images',\n",
       "       'video_info_list', 'historical_sold'], dtype=object)"
      ]
     },
     "execution_count": 11,
     "metadata": {},
     "output_type": "execute_result"
    }
   ],
   "source": [
    "items_df.columns.values"
   ]
  },
  {
   "cell_type": "markdown",
   "metadata": {},
   "source": [
    "Sau khi kiểm tra, ta tiến hành lưu lại dữ liệu đã gộp"
   ]
  },
  {
   "cell_type": "code",
   "execution_count": 12,
   "metadata": {},
   "outputs": [],
   "source": [
    "items_df.to_csv('Data/ShoppeItem_full.tsv', sep = '\\t', index=False)"
   ]
  },
  {
   "cell_type": "markdown",
   "metadata": {},
   "source": [
    "### Mỗi dòng có ý nghĩa gì? Có vấn đề các dòng có ý nghĩa khác nhau không?"
   ]
  },
  {
   "cell_type": "markdown",
   "metadata": {},
   "source": [
    "Quan sát sơ bộ dữ liệu và qua quá trình crawler data, ta thấy mỗi dòng chứa thông tin của một món hàng, và không có vấn đề các dòng có ý nghĩa khác nhau."
   ]
  },
  {
   "cell_type": "markdown",
   "metadata": {},
   "source": [
    "### Xử lý giá trị trùng lặp"
   ]
  },
  {
   "cell_type": "markdown",
   "metadata": {},
   "source": [
    "Trước tiên, ta xem thử có bao nhiều dòng bị lặp giá trị"
   ]
  },
  {
   "cell_type": "code",
   "execution_count": 13,
   "metadata": {},
   "outputs": [
    {
     "data": {
      "text/plain": [
       "40"
      ]
     },
     "execution_count": 13,
     "metadata": {},
     "output_type": "execute_result"
    }
   ],
   "source": [
    "num_duplicated_rows = items_df.duplicated().sum()\n",
    "num_duplicated_rows"
   ]
  },
  {
   "cell_type": "markdown",
   "metadata": {},
   "source": [
    "Xóa các dòng có giá trị lặp bằng phương thức drop_duplicates của pandas, mặc định dữ lại dòng có giá trị lặp đầu tiên "
   ]
  },
  {
   "cell_type": "code",
   "execution_count": 14,
   "metadata": {
    "scrolled": true
   },
   "outputs": [
    {
     "data": {
      "text/plain": [
       "(5711, 33)"
      ]
     },
     "execution_count": 14,
     "metadata": {},
     "output_type": "execute_result"
    }
   ],
   "source": [
    "items_df = items_df.drop_duplicates(ignore_index = True)\n",
    "items_df.shape"
   ]
  },
  {
   "cell_type": "markdown",
   "metadata": {},
   "source": [
    "### Xử lý khác biệt ngữ nghĩa do parse data từ json\n",
    "\n",
    "Do dữ liệu trả về từ api của shopee, những dữ liệu thiếu có dạng string: 'None' nên pandas sẽ không đếm được lượng dữ liệu __không có giá trị__ này. Ta tiến hành thay 'None' thành pd.NA để có thể đếm lượng dữ liệu thiếu này chính xác."
   ]
  },
  {
   "cell_type": "code",
   "execution_count": 15,
   "metadata": {},
   "outputs": [],
   "source": [
    "# cond = items_df != 'None'\n",
    "# items_df.where(cond, pd.NA)\n",
    "items_df = items_df.replace('None', pd.NA)"
   ]
  },
  {
   "cell_type": "code",
   "execution_count": 16,
   "metadata": {},
   "outputs": [
    {
     "data": {
      "text/plain": [
       "0       2.450000e+10\n",
       "1       1.090000e+10\n",
       "2       9.900000e+09\n",
       "3       2.450000e+10\n",
       "4      -1.000000e+00\n",
       "            ...     \n",
       "5706    1.290000e+10\n",
       "5707    1.290000e+10\n",
       "5708    9.120000e+09\n",
       "5709    1.090000e+10\n",
       "5710    5.800000e+09\n",
       "Name: price_min_before_discount, Length: 5711, dtype: float64"
      ]
     },
     "execution_count": 16,
     "metadata": {},
     "output_type": "execute_result"
    }
   ],
   "source": [
    "# Do lỗi trong quá trình crawler nên tên cột price_min_before_discount bị thiếu chữ t, ta sửa lại ở dưới\n",
    "\n",
    "items_df = items_df.rename(columns={'price_min_before_discoun': 'price_min_before_discount'})\n",
    "items_df['price_min_before_discount']"
   ]
  },
  {
   "cell_type": "markdown",
   "metadata": {},
   "source": [
    "### Phân bố giá trị của cột có kiểu dữ liệu dạng số\n",
    "\n",
    "- Tỉ lệ % (từ 0 đến 100) các giá trị thiếu \n",
    "- Giá trị min\n",
    "- Giá trị lower quartile (phân vị 25)\n",
    "- Giá trị median (phân vị 50)\n",
    "- Giá trị upper quartile (phân vị 75)\n",
    "- Giá trị max\n",
    "\n",
    "Kết quả được lưu vào DataFrame `num_col_info_df`, trong đó: \n",
    "- Tên của các cột là tên của các cột số trong `survey_df`\n",
    "- Tên của các dòng là: \"missing_ratio\", \"min\", \"lower_quartile\", \"median\", \"upper_quartile\", \"max\" "
   ]
  },
  {
   "cell_type": "code",
   "execution_count": 17,
   "metadata": {},
   "outputs": [
    {
     "data": {
      "text/html": [
       "<div>\n",
       "<style scoped>\n",
       "    .dataframe tbody tr th:only-of-type {\n",
       "        vertical-align: middle;\n",
       "    }\n",
       "\n",
       "    .dataframe tbody tr th {\n",
       "        vertical-align: top;\n",
       "    }\n",
       "\n",
       "    .dataframe thead th {\n",
       "        text-align: right;\n",
       "    }\n",
       "</style>\n",
       "<table border=\"1\" class=\"dataframe\">\n",
       "  <thead>\n",
       "    <tr style=\"text-align: right;\">\n",
       "      <th></th>\n",
       "      <th>item_public_time</th>\n",
       "      <th>item_be_got_time</th>\n",
       "      <th>sell_time</th>\n",
       "      <th>options</th>\n",
       "      <th>rating_star</th>\n",
       "      <th>five_star</th>\n",
       "      <th>four_star</th>\n",
       "      <th>three_star</th>\n",
       "      <th>two_star</th>\n",
       "      <th>one_star</th>\n",
       "      <th>price_min</th>\n",
       "      <th>price_min_before_discount</th>\n",
       "      <th>price_max</th>\n",
       "      <th>price_max_before_discount</th>\n",
       "      <th>price</th>\n",
       "      <th>price_before_discount</th>\n",
       "      <th>liked_count</th>\n",
       "      <th>view_count</th>\n",
       "      <th>cmt_count</th>\n",
       "      <th>images</th>\n",
       "      <th>video_info_list</th>\n",
       "      <th>historical_sold</th>\n",
       "    </tr>\n",
       "  </thead>\n",
       "  <tbody>\n",
       "    <tr>\n",
       "      <th>missing_ratio</th>\n",
       "      <td>0.000000e+00</td>\n",
       "      <td>0.000000e+00</td>\n",
       "      <td>0.0</td>\n",
       "      <td>0.0</td>\n",
       "      <td>0.0</td>\n",
       "      <td>0.0</td>\n",
       "      <td>0.0</td>\n",
       "      <td>0.0</td>\n",
       "      <td>0.0</td>\n",
       "      <td>0.0</td>\n",
       "      <td>0.000000e+00</td>\n",
       "      <td>0.000000e+00</td>\n",
       "      <td>0.000000e+00</td>\n",
       "      <td>0.000000e+00</td>\n",
       "      <td>0.000000e+00</td>\n",
       "      <td>0.000000e+00</td>\n",
       "      <td>0.0</td>\n",
       "      <td>0.0</td>\n",
       "      <td>0.0</td>\n",
       "      <td>0.0</td>\n",
       "      <td>0.0</td>\n",
       "      <td>0.0</td>\n",
       "    </tr>\n",
       "    <tr>\n",
       "      <th>min</th>\n",
       "      <td>1.455984e+09</td>\n",
       "      <td>1.609910e+09</td>\n",
       "      <td>54304.0</td>\n",
       "      <td>0.0</td>\n",
       "      <td>0.0</td>\n",
       "      <td>0.0</td>\n",
       "      <td>0.0</td>\n",
       "      <td>0.0</td>\n",
       "      <td>0.0</td>\n",
       "      <td>0.0</td>\n",
       "      <td>3.900000e+08</td>\n",
       "      <td>-1.000000e+00</td>\n",
       "      <td>3.900000e+08</td>\n",
       "      <td>-1.000000e+00</td>\n",
       "      <td>3.900000e+08</td>\n",
       "      <td>0.000000e+00</td>\n",
       "      <td>0.0</td>\n",
       "      <td>0.0</td>\n",
       "      <td>0.0</td>\n",
       "      <td>1.0</td>\n",
       "      <td>0.0</td>\n",
       "      <td>0.0</td>\n",
       "    </tr>\n",
       "    <tr>\n",
       "      <th>lower_quartile</th>\n",
       "      <td>1.581799e+09</td>\n",
       "      <td>1.609917e+09</td>\n",
       "      <td>4364561.5</td>\n",
       "      <td>3.0</td>\n",
       "      <td>0.0</td>\n",
       "      <td>0.0</td>\n",
       "      <td>0.0</td>\n",
       "      <td>0.0</td>\n",
       "      <td>0.0</td>\n",
       "      <td>0.0</td>\n",
       "      <td>9.900000e+09</td>\n",
       "      <td>-1.000000e+00</td>\n",
       "      <td>9.900000e+09</td>\n",
       "      <td>-1.000000e+00</td>\n",
       "      <td>9.900000e+09</td>\n",
       "      <td>0.000000e+00</td>\n",
       "      <td>0.0</td>\n",
       "      <td>0.0</td>\n",
       "      <td>0.0</td>\n",
       "      <td>5.0</td>\n",
       "      <td>0.0</td>\n",
       "      <td>0.0</td>\n",
       "    </tr>\n",
       "    <tr>\n",
       "      <th>median</th>\n",
       "      <td>1.597195e+09</td>\n",
       "      <td>1.609949e+09</td>\n",
       "      <td>12754241.5</td>\n",
       "      <td>6.0</td>\n",
       "      <td>0.0</td>\n",
       "      <td>0.0</td>\n",
       "      <td>0.0</td>\n",
       "      <td>0.0</td>\n",
       "      <td>0.0</td>\n",
       "      <td>0.0</td>\n",
       "      <td>1.680000e+10</td>\n",
       "      <td>6.000000e+09</td>\n",
       "      <td>1.700000e+10</td>\n",
       "      <td>6.605000e+09</td>\n",
       "      <td>1.680000e+10</td>\n",
       "      <td>6.000000e+09</td>\n",
       "      <td>0.0</td>\n",
       "      <td>0.0</td>\n",
       "      <td>0.0</td>\n",
       "      <td>8.0</td>\n",
       "      <td>0.0</td>\n",
       "      <td>0.0</td>\n",
       "    </tr>\n",
       "    <tr>\n",
       "      <th>upper_quartile</th>\n",
       "      <td>1.605597e+09</td>\n",
       "      <td>1.609992e+09</td>\n",
       "      <td>28162952.2</td>\n",
       "      <td>15.0</td>\n",
       "      <td>4.7</td>\n",
       "      <td>1.0</td>\n",
       "      <td>0.0</td>\n",
       "      <td>0.0</td>\n",
       "      <td>0.0</td>\n",
       "      <td>0.0</td>\n",
       "      <td>2.850000e+10</td>\n",
       "      <td>2.500000e+10</td>\n",
       "      <td>2.990000e+10</td>\n",
       "      <td>2.500000e+10</td>\n",
       "      <td>2.850000e+10</td>\n",
       "      <td>2.500000e+10</td>\n",
       "      <td>7.0</td>\n",
       "      <td>27.8</td>\n",
       "      <td>1.0</td>\n",
       "      <td>9.0</td>\n",
       "      <td>0.0</td>\n",
       "      <td>3.0</td>\n",
       "    </tr>\n",
       "    <tr>\n",
       "      <th>max</th>\n",
       "      <td>1.609856e+09</td>\n",
       "      <td>1.609994e+09</td>\n",
       "      <td>153926683.0</td>\n",
       "      <td>80.0</td>\n",
       "      <td>5.0</td>\n",
       "      <td>7869.0</td>\n",
       "      <td>777.0</td>\n",
       "      <td>427.0</td>\n",
       "      <td>199.0</td>\n",
       "      <td>462.0</td>\n",
       "      <td>6.900000e+11</td>\n",
       "      <td>2.680000e+11</td>\n",
       "      <td>6.900000e+11</td>\n",
       "      <td>2.680000e+11</td>\n",
       "      <td>6.900000e+11</td>\n",
       "      <td>2.680000e+11</td>\n",
       "      <td>79919.0</td>\n",
       "      <td>189252.0</td>\n",
       "      <td>9737.0</td>\n",
       "      <td>9.0</td>\n",
       "      <td>1.0</td>\n",
       "      <td>37079.0</td>\n",
       "    </tr>\n",
       "  </tbody>\n",
       "</table>\n",
       "</div>"
      ],
      "text/plain": [
       "                item_public_time  item_be_got_time    sell_time  options  rating_star  five_star  four_star  three_star  two_star  one_star     price_min  price_min_before_discount     price_max  price_max_before_discount         price  price_before_discount  liked_count  view_count  cmt_count  images  video_info_list  historical_sold\n",
       "missing_ratio       0.000000e+00      0.000000e+00          0.0      0.0          0.0        0.0        0.0         0.0       0.0       0.0  0.000000e+00               0.000000e+00  0.000000e+00               0.000000e+00  0.000000e+00           0.000000e+00          0.0         0.0        0.0     0.0              0.0              0.0\n",
       "min                 1.455984e+09      1.609910e+09      54304.0      0.0          0.0        0.0        0.0         0.0       0.0       0.0  3.900000e+08              -1.000000e+00  3.900000e+08              -1.000000e+00  3.900000e+08           0.000000e+00          0.0         0.0        0.0     1.0              0.0              0.0\n",
       "lower_quartile      1.581799e+09      1.609917e+09    4364561.5      3.0          0.0        0.0        0.0         0.0       0.0       0.0  9.900000e+09              -1.000000e+00  9.900000e+09              -1.000000e+00  9.900000e+09           0.000000e+00          0.0         0.0        0.0     5.0              0.0              0.0\n",
       "median              1.597195e+09      1.609949e+09   12754241.5      6.0          0.0        0.0        0.0         0.0       0.0       0.0  1.680000e+10               6.000000e+09  1.700000e+10               6.605000e+09  1.680000e+10           6.000000e+09          0.0         0.0        0.0     8.0              0.0              0.0\n",
       "upper_quartile      1.605597e+09      1.609992e+09   28162952.2     15.0          4.7        1.0        0.0         0.0       0.0       0.0  2.850000e+10               2.500000e+10  2.990000e+10               2.500000e+10  2.850000e+10           2.500000e+10          7.0        27.8        1.0     9.0              0.0              3.0\n",
       "max                 1.609856e+09      1.609994e+09  153926683.0     80.0          5.0     7869.0      777.0       427.0     199.0     462.0  6.900000e+11               2.680000e+11  6.900000e+11               2.680000e+11  6.900000e+11           2.680000e+11      79919.0    189252.0     9737.0     9.0              1.0          37079.0"
      ]
     },
     "execution_count": 17,
     "metadata": {},
     "output_type": "execute_result"
    }
   ],
   "source": [
    "df = items_df.select_dtypes(exclude='object')\n",
    "def missing_ratio(df):\n",
    "    return (df.isna().mean() * 100).round(1)\n",
    "def lower_quartile(df):\n",
    "    return df.quantile(0.25)\n",
    "def median(df):\n",
    "    return df.quantile(0.5)\n",
    "def upper_quartile(df):\n",
    "    return df.quantile(0.75)\n",
    "num_col_info_df = df.agg([missing_ratio, min, lower_quartile, median, upper_quartile, max]).round(1)\n",
    "num_col_info_df"
   ]
  },
  {
   "cell_type": "markdown",
   "metadata": {},
   "source": [
    "### Phân bố giá trị của cột có kiểu dữ liệu không phải dạng số\n",
    "\n",
    "- Tỉ lệ % (từ 0 đến 100) các giá trị thiếu \n",
    "\n",
    "- Số lượng các giá trị (các giá trị ở đây là các giá trị khác nhau và ta không xét giá trị thiếu)\n",
    "\n",
    "- Tỉ lệ % (từ 0 đến 100) của mỗi giá trị được sort theo tỉ lệ % giảm dần (ta không xét giá trị thiếu, tỉ lệ là tỉ lệ so với số lượng các giá trị không thiếu): dùng dictionary để lưu, key là giá trị, value là tỉ lệ %\n",
    "\n",
    "Kết quả được lưu vào DataFrame `cat_col_info_df`, trong đó: \n",
    "\n",
    "- Tên của các cột là tên của các cột không phải số trong `items_df`\n",
    "- Tên của các dòng là: \"missing_ratio\", \"num_values\", \"value_ratios\"  "
   ]
  },
  {
   "cell_type": "code",
   "execution_count": 18,
   "metadata": {},
   "outputs": [
    {
     "data": {
      "text/html": [
       "<div>\n",
       "<style scoped>\n",
       "    .dataframe tbody tr th:only-of-type {\n",
       "        vertical-align: middle;\n",
       "    }\n",
       "\n",
       "    .dataframe tbody tr th {\n",
       "        vertical-align: top;\n",
       "    }\n",
       "\n",
       "    .dataframe thead th {\n",
       "        text-align: right;\n",
       "    }\n",
       "</style>\n",
       "<table border=\"1\" class=\"dataframe\">\n",
       "  <thead>\n",
       "    <tr style=\"text-align: right;\">\n",
       "      <th></th>\n",
       "      <th>category</th>\n",
       "      <th>shop_location</th>\n",
       "      <th>shopee_verified</th>\n",
       "      <th>discount</th>\n",
       "      <th>is_adult</th>\n",
       "      <th>show_official_shop_label_in_title</th>\n",
       "      <th>flash_sale</th>\n",
       "      <th>upcoming_flash_sale</th>\n",
       "      <th>coin_earn_label</th>\n",
       "      <th>is_preferred_plus_seller</th>\n",
       "      <th>show_free_shipping</th>\n",
       "    </tr>\n",
       "  </thead>\n",
       "  <tbody>\n",
       "    <tr>\n",
       "      <th>missing_ratio</th>\n",
       "      <td>0</td>\n",
       "      <td>1</td>\n",
       "      <td>0</td>\n",
       "      <td>47.3</td>\n",
       "      <td>0</td>\n",
       "      <td>1.1</td>\n",
       "      <td>100</td>\n",
       "      <td>100</td>\n",
       "      <td>100</td>\n",
       "      <td>0</td>\n",
       "      <td>0</td>\n",
       "    </tr>\n",
       "    <tr>\n",
       "      <th>num_values</th>\n",
       "      <td>6</td>\n",
       "      <td>46</td>\n",
       "      <td>2</td>\n",
       "      <td>56</td>\n",
       "      <td>3</td>\n",
       "      <td>5</td>\n",
       "      <td>1</td>\n",
       "      <td>1</td>\n",
       "      <td>1</td>\n",
       "      <td>2</td>\n",
       "      <td>2</td>\n",
       "    </tr>\n",
       "    <tr>\n",
       "      <th>value_ratios</th>\n",
       "      <td>{'Ao ngan tay khong co': 17.3, 'Balo/ Tui/ Vi': 16.6, 'Quan': 16.6, 'Giay dep nam': 16.6, 'Ao so mi': 16.5, 'Phu kien Nam': 16.4}</td>\n",
       "      <td>{'Hà Nội': 37.7, 'Nước ngoài': 35.6, 'TP. Hồ Chí Minh': 19.0, 'Bình Dương': 0.8, 'Hải Dương': 0.8, 'Bình Định': 0.7, 'Hưng Yên': 0.5, 'Đồng Nai': 0.4, 'Quảng Ninh': 0.4, 'Hà Nam': 0.4, 'Phú Thọ': 0.3, 'Ninh Bình': 0.2, 'Hải Phòng': 0.2, 'Thái Bình': 0.2, 'Khánh Hòa': 0.2, 'Bình Thuận': 0.2, 'Bắc Ninh': 0.2, 'Lào Cai': 0.2, 'Thừa Thiên Huế': 0.2, 'Lạng Sơn': 0.2, 'Hòa Bình': 0.1, 'Đà Nẵng': 0.1, 'Lâm Đồng': 0.1, 'Nam Định': 0.1, 'Thái Nguyên': 0.1, 'Thanh Hóa': 0.1, 'Bắc Kạn': 0.1, 'Cần Thơ': 0.1, 'Vĩnh Phúc': 0.1, 'Bắc Giang': 0.1, 'Kon Tum': 0.1, 'Bà Rịa - Vũng Tàu': 0.1, 'Sóc Trăng': 0.1, 'Phú Yên': 0.1, 'Đồng Tháp': 0.1, 'Nghệ An': 0.1, 'Đắk Lắk': 0.0, 'Bến Tre': 0.0, 'Tiền Giang': 0.0, 'Hà Tĩnh': 0.0, 'Ninh Thuận': 0.0, 'Cao Bằng': 0.0, 'Quảng Ngãi': 0.0, 'Vĩnh Long': 0.0, 'Cà Mau': 0.0}</td>\n",
       "      <td>{False: 83.4, True: 16.6}</td>\n",
       "      <td>{'50%': 20.9, '40%': 6.0, '30%': 4.7, '49%': 4.5, '20%': 4.0, '45%': 3.5, '48%': 3.5, '41%': 3.2, '47%': 3.1, '1%': 3.1, '46%': 2.7, '25%': 2.6, '35%': 2.6, '44%': 2.5, '43%': 2.3, '38%': 2.1, '34%': 2.0, '29%': 1.9, '10%': 1.8, '39%': 1.7, '42%': 1.5, '31%': 1.5, '36%': 1.5, '19%': 1.3, '28%': 1.2, '26%': 1.1, '37%': 1.1, '15%': 1.1, '33%': 1.0, '21%': 1.0, '23%': 0.9, '5%': 0.9, '27%': 0.8, '32%': 0.8, '22%': 0.7, '24%': 0.7, '18%': 0.6, '17%': 0.5, '14%': 0.5, '7%': 0.5, '16%': 0.4, '13%': 0.4, '12%': 0.3, '2%': 0.3, '8%': 0.2, '9%': 0.2, '11%': 0.2, '4%': 0.1, '56%': 0.1, '3%': 0.1, '6%': 0.1, '87%': 0.0, '61%': 0.0, '60%': 0.0, '51%': 0.0}</td>\n",
       "      <td>{False: 83.6, 'False': 16.4}</td>\n",
       "      <td>{False: 66.0, 'False': 31.7, True: 1.8, 'True': 0.5}</td>\n",
       "      <td>{}</td>\n",
       "      <td>{}</td>\n",
       "      <td>{}</td>\n",
       "      <td>{False: 97.4, True: 2.6}</td>\n",
       "      <td>{False: 77.8, True: 22.2}</td>\n",
       "    </tr>\n",
       "  </tbody>\n",
       "</table>\n",
       "</div>"
      ],
      "text/plain": [
       "                                                                                                                                        category                                                                                                                                                                                                                                                                                                                                                                                                                                                                                                                                                                                                                                                                                                                                                                                                                       shop_location            shopee_verified  \\\n",
       "missing_ratio                                                                                                                                  0                                                                                                                                                                                                                                                                                                                                                                                                                                                                                                                                                                                                                                                                                                                                                                                                                                   1                          0   \n",
       "num_values                                                                                                                                     6                                                                                                                                                                                                                                                                                                                                                                                                                                                                                                                                                                                                                                                                                                                                                                                                                                  46                          2   \n",
       "value_ratios   {'Ao ngan tay khong co': 17.3, 'Balo/ Tui/ Vi': 16.6, 'Quan': 16.6, 'Giay dep nam': 16.6, 'Ao so mi': 16.5, 'Phu kien Nam': 16.4}  {'Hà Nội': 37.7, 'Nước ngoài': 35.6, 'TP. Hồ Chí Minh': 19.0, 'Bình Dương': 0.8, 'Hải Dương': 0.8, 'Bình Định': 0.7, 'Hưng Yên': 0.5, 'Đồng Nai': 0.4, 'Quảng Ninh': 0.4, 'Hà Nam': 0.4, 'Phú Thọ': 0.3, 'Ninh Bình': 0.2, 'Hải Phòng': 0.2, 'Thái Bình': 0.2, 'Khánh Hòa': 0.2, 'Bình Thuận': 0.2, 'Bắc Ninh': 0.2, 'Lào Cai': 0.2, 'Thừa Thiên Huế': 0.2, 'Lạng Sơn': 0.2, 'Hòa Bình': 0.1, 'Đà Nẵng': 0.1, 'Lâm Đồng': 0.1, 'Nam Định': 0.1, 'Thái Nguyên': 0.1, 'Thanh Hóa': 0.1, 'Bắc Kạn': 0.1, 'Cần Thơ': 0.1, 'Vĩnh Phúc': 0.1, 'Bắc Giang': 0.1, 'Kon Tum': 0.1, 'Bà Rịa - Vũng Tàu': 0.1, 'Sóc Trăng': 0.1, 'Phú Yên': 0.1, 'Đồng Tháp': 0.1, 'Nghệ An': 0.1, 'Đắk Lắk': 0.0, 'Bến Tre': 0.0, 'Tiền Giang': 0.0, 'Hà Tĩnh': 0.0, 'Ninh Thuận': 0.0, 'Cao Bằng': 0.0, 'Quảng Ngãi': 0.0, 'Vĩnh Long': 0.0, 'Cà Mau': 0.0}  {False: 83.4, True: 16.6}   \n",
       "\n",
       "                                                                                                                                                                                                                                                                                                                                                                                                                                                                                                                                                                                                                                                                                   discount                      is_adult                     show_official_shop_label_in_title flash_sale upcoming_flash_sale coin_earn_label  is_preferred_plus_seller         show_free_shipping  \n",
       "missing_ratio                                                                                                                                                                                                                                                                                                                                                                                                                                                                                                                                                                                                                                                                          47.3                             0                                                   1.1        100                 100             100                         0                          0  \n",
       "num_values                                                                                                                                                                                                                                                                                                                                                                                                                                                                                                                                                                                                                                                                               56                             3                                                     5          1                   1               1                         2                          2  \n",
       "value_ratios   {'50%': 20.9, '40%': 6.0, '30%': 4.7, '49%': 4.5, '20%': 4.0, '45%': 3.5, '48%': 3.5, '41%': 3.2, '47%': 3.1, '1%': 3.1, '46%': 2.7, '25%': 2.6, '35%': 2.6, '44%': 2.5, '43%': 2.3, '38%': 2.1, '34%': 2.0, '29%': 1.9, '10%': 1.8, '39%': 1.7, '42%': 1.5, '31%': 1.5, '36%': 1.5, '19%': 1.3, '28%': 1.2, '26%': 1.1, '37%': 1.1, '15%': 1.1, '33%': 1.0, '21%': 1.0, '23%': 0.9, '5%': 0.9, '27%': 0.8, '32%': 0.8, '22%': 0.7, '24%': 0.7, '18%': 0.6, '17%': 0.5, '14%': 0.5, '7%': 0.5, '16%': 0.4, '13%': 0.4, '12%': 0.3, '2%': 0.3, '8%': 0.2, '9%': 0.2, '11%': 0.2, '4%': 0.1, '56%': 0.1, '3%': 0.1, '6%': 0.1, '87%': 0.0, '61%': 0.0, '60%': 0.0, '51%': 0.0}  {False: 83.6, 'False': 16.4}  {False: 66.0, 'False': 31.7, True: 1.8, 'True': 0.5}         {}                  {}              {}  {False: 97.4, True: 2.6}  {False: 77.8, True: 22.2}  "
      ]
     },
     "execution_count": 18,
     "metadata": {},
     "output_type": "execute_result"
    }
   ],
   "source": [
    "\n",
    "# pd.set_option('display.max_colwidth', 200) \n",
    "df = items_df.select_dtypes(include='object')\n",
    "def missing_ratio(df):\n",
    "    return (df.isna().mean() * 100).round(1)\n",
    "def num_values(df):\n",
    "    return df.nunique()\n",
    "def value_ratios(c):\n",
    "    return dict((c.value_counts(normalize=True) * 100).round(1))\n",
    "cat_col_info_df = df.agg([missing_ratio, num_values, value_ratios])\n",
    "cat_col_info_df"
   ]
  },
  {
   "cell_type": "markdown",
   "metadata": {},
   "source": [
    "### Xử lý dữ liệu thiếu"
   ]
  },
  {
   "cell_type": "code",
   "execution_count": 19,
   "metadata": {},
   "outputs": [
    {
     "name": "stdout",
     "output_type": "stream",
     "text": [
      "<class 'pandas.core.frame.DataFrame'>\n",
      "RangeIndex: 5711 entries, 0 to 5710\n",
      "Data columns (total 33 columns):\n",
      " #   Column                             Non-Null Count  Dtype  \n",
      "---  ------                             --------------  -----  \n",
      " 0   category                           5711 non-null   object \n",
      " 1   shop_location                      5656 non-null   object \n",
      " 2   item_public_time                   5710 non-null   float64\n",
      " 3   item_be_got_time                   5710 non-null   float64\n",
      " 4   sell_time                          5710 non-null   float64\n",
      " 5   shopee_verified                    5710 non-null   object \n",
      " 6   discount                           3010 non-null   object \n",
      " 7   is_adult                           5709 non-null   object \n",
      " 8   options                            5710 non-null   float64\n",
      " 9   show_official_shop_label_in_title  5647 non-null   object \n",
      " 10  rating_star                        5710 non-null   float64\n",
      " 11  five_star                          5710 non-null   float64\n",
      " 12  four_star                          5710 non-null   float64\n",
      " 13  three_star                         5710 non-null   float64\n",
      " 14  two_star                           5710 non-null   float64\n",
      " 15  one_star                           5710 non-null   float64\n",
      " 16  flash_sale                         0 non-null      object \n",
      " 17  upcoming_flash_sale                0 non-null      object \n",
      " 18  price_min                          5710 non-null   float64\n",
      " 19  price_min_before_discount          5710 non-null   float64\n",
      " 20  price_max                          5710 non-null   float64\n",
      " 21  price_max_before_discount          5710 non-null   float64\n",
      " 22  price                              5710 non-null   float64\n",
      " 23  price_before_discount              5710 non-null   float64\n",
      " 24  coin_earn_label                    0 non-null      object \n",
      " 25  liked_count                        5710 non-null   float64\n",
      " 26  view_count                         5710 non-null   float64\n",
      " 27  cmt_count                          5710 non-null   float64\n",
      " 28  is_preferred_plus_seller           5710 non-null   object \n",
      " 29  show_free_shipping                 5710 non-null   object \n",
      " 30  images                             5710 non-null   float64\n",
      " 31  video_info_list                    5710 non-null   float64\n",
      " 32  historical_sold                    5710 non-null   float64\n",
      "dtypes: float64(22), object(11)\n",
      "memory usage: 1.4+ MB\n"
     ]
    }
   ],
   "source": [
    "items_df.info()"
   ]
  },
  {
   "cell_type": "markdown",
   "metadata": {},
   "source": [
    "Nhận xét:\n",
    "\n",
    "1. Ta thấy 3 thuộc tính flash_sale, upcoming_flash_sale, coin_earn_label đều bị thiếu toàn bộ dữ liệu (0 non-null) nên vô nghĩa, ta tiến hành xóa bỏ ba thuộc tính này khỏi dataset.\n",
    "\n",
    "2. Ta lại thấy có một mẫu bị thiếu tất cả dữ liệu trừ thuộc tính name, tiến hành xóa mẫu này.\n",
    "\n",
    "Để đơn giản, ta có thể dùng phương thức dropna của pandas để xóa các dòng và cột bị thiếu toàn bộ dữ liệu:\n",
    "\n",
    "1. Truyền tham số how = 'all' và axis = 1  cho cột\n",
    "\n",
    "2. Truyền tham số thresh = 15 (những mẫu thiếu từ 15 thuộc tính) và axis = 0 cho dòng."
   ]
  },
  {
   "cell_type": "code",
   "execution_count": 20,
   "metadata": {},
   "outputs": [],
   "source": [
    "items_df = items_df.dropna(axis = 0, thresh = 15)\n",
    "items_df = items_df.dropna(axis = 1, how = 'all')"
   ]
  },
  {
   "cell_type": "code",
   "execution_count": 21,
   "metadata": {},
   "outputs": [
    {
     "name": "stdout",
     "output_type": "stream",
     "text": [
      "<class 'pandas.core.frame.DataFrame'>\n",
      "Int64Index: 5710 entries, 0 to 5710\n",
      "Data columns (total 30 columns):\n",
      " #   Column                             Non-Null Count  Dtype  \n",
      "---  ------                             --------------  -----  \n",
      " 0   category                           5710 non-null   object \n",
      " 1   shop_location                      5656 non-null   object \n",
      " 2   item_public_time                   5710 non-null   float64\n",
      " 3   item_be_got_time                   5710 non-null   float64\n",
      " 4   sell_time                          5710 non-null   float64\n",
      " 5   shopee_verified                    5710 non-null   object \n",
      " 6   discount                           3010 non-null   object \n",
      " 7   is_adult                           5709 non-null   object \n",
      " 8   options                            5710 non-null   float64\n",
      " 9   show_official_shop_label_in_title  5647 non-null   object \n",
      " 10  rating_star                        5710 non-null   float64\n",
      " 11  five_star                          5710 non-null   float64\n",
      " 12  four_star                          5710 non-null   float64\n",
      " 13  three_star                         5710 non-null   float64\n",
      " 14  two_star                           5710 non-null   float64\n",
      " 15  one_star                           5710 non-null   float64\n",
      " 16  price_min                          5710 non-null   float64\n",
      " 17  price_min_before_discount          5710 non-null   float64\n",
      " 18  price_max                          5710 non-null   float64\n",
      " 19  price_max_before_discount          5710 non-null   float64\n",
      " 20  price                              5710 non-null   float64\n",
      " 21  price_before_discount              5710 non-null   float64\n",
      " 22  liked_count                        5710 non-null   float64\n",
      " 23  view_count                         5710 non-null   float64\n",
      " 24  cmt_count                          5710 non-null   float64\n",
      " 25  is_preferred_plus_seller           5710 non-null   object \n",
      " 26  show_free_shipping                 5710 non-null   object \n",
      " 27  images                             5710 non-null   float64\n",
      " 28  video_info_list                    5710 non-null   float64\n",
      " 29  historical_sold                    5710 non-null   float64\n",
      "dtypes: float64(22), object(8)\n",
      "memory usage: 1.4+ MB\n"
     ]
    }
   ],
   "source": [
    "items_df.info()"
   ]
  },
  {
   "cell_type": "markdown",
   "metadata": {},
   "source": [
    "Kiểm tra lại ta thấy thuộc tính discount gần như có một nửa giá trị bị _thiếu_. Kiểm tra đối chiếu với các item trên shopee, ta thấy thực tế những mẫu bị _thiếu_ dữ liệu ở thuộc tính discount là do không có giảm giá (discount = 0). Ta tiến hành sửa bằng cách thay giá trị NA tại cột này thành 0."
   ]
  },
  {
   "cell_type": "code",
   "execution_count": 22,
   "metadata": {},
   "outputs": [],
   "source": [
    "items_df['discount'] = items_df['discount'].fillna(0)"
   ]
  },
  {
   "cell_type": "code",
   "execution_count": 23,
   "metadata": {},
   "outputs": [
    {
     "name": "stdout",
     "output_type": "stream",
     "text": [
      "<class 'pandas.core.frame.DataFrame'>\n",
      "Int64Index: 5710 entries, 0 to 5710\n",
      "Data columns (total 30 columns):\n",
      " #   Column                             Non-Null Count  Dtype  \n",
      "---  ------                             --------------  -----  \n",
      " 0   category                           5710 non-null   object \n",
      " 1   shop_location                      5656 non-null   object \n",
      " 2   item_public_time                   5710 non-null   float64\n",
      " 3   item_be_got_time                   5710 non-null   float64\n",
      " 4   sell_time                          5710 non-null   float64\n",
      " 5   shopee_verified                    5710 non-null   object \n",
      " 6   discount                           5710 non-null   object \n",
      " 7   is_adult                           5709 non-null   object \n",
      " 8   options                            5710 non-null   float64\n",
      " 9   show_official_shop_label_in_title  5647 non-null   object \n",
      " 10  rating_star                        5710 non-null   float64\n",
      " 11  five_star                          5710 non-null   float64\n",
      " 12  four_star                          5710 non-null   float64\n",
      " 13  three_star                         5710 non-null   float64\n",
      " 14  two_star                           5710 non-null   float64\n",
      " 15  one_star                           5710 non-null   float64\n",
      " 16  price_min                          5710 non-null   float64\n",
      " 17  price_min_before_discount          5710 non-null   float64\n",
      " 18  price_max                          5710 non-null   float64\n",
      " 19  price_max_before_discount          5710 non-null   float64\n",
      " 20  price                              5710 non-null   float64\n",
      " 21  price_before_discount              5710 non-null   float64\n",
      " 22  liked_count                        5710 non-null   float64\n",
      " 23  view_count                         5710 non-null   float64\n",
      " 24  cmt_count                          5710 non-null   float64\n",
      " 25  is_preferred_plus_seller           5710 non-null   object \n",
      " 26  show_free_shipping                 5710 non-null   object \n",
      " 27  images                             5710 non-null   float64\n",
      " 28  video_info_list                    5710 non-null   float64\n",
      " 29  historical_sold                    5710 non-null   float64\n",
      "dtypes: float64(22), object(8)\n",
      "memory usage: 1.4+ MB\n"
     ]
    }
   ],
   "source": [
    "items_df.info()"
   ]
  },
  {
   "cell_type": "markdown",
   "metadata": {},
   "source": [
    "Đến đây ta thấy: \n",
    "\n",
    "1. Cột is_adult có một vài mẫu bị _thiếu_ dữ liệu (xấp xỉ 0% theo [Phân bố giá trị của cột có kiểu dữ liệu không phải dạng số](#Phân-bố-giá-trị-của-cột-có-kiểu-dữ-liệu-không-phải-dạng-số)) \n",
    "  - Do số lượng mẫu thiếu dữ liệu ít \n",
    "  - -> Vậy nên ta có thể xóa những mẫu này.\n",
    "2. Thuộc tính show_official_shop_label_in_title _thiếu_ 1.1% (theo [Phân bố giá trị của cột có kiểu dữ liệu không phải dạng số](#Phân-bố-giá-trị-của-cột-có-kiểu-dữ-liệu-không-phải-dạng-số)).\n",
    "\n",
    "  - Do số lượng mẫu thiếu dữ liệu ít \n",
    "  - -> Vậy nên ta có thể xóa những mẫu này.\n",
    "\n",
    "3. Thuộc tính shop_location _thiếu_ 1% (theo [Phân bố giá trị của cột có kiểu dữ liệu không phải dạng số](#Phân-bố-giá-trị-của-cột-có-kiểu-dữ-liệu-không-phải-dạng-số))\n",
    "\n",
    "  - Ta có thể xóa các mẫu bị thiếu dữ liệu như 2 thuộc tính trên nhưng ta sẽ thử xử lý ở thuộc tính này thay vì xóa hẳn.\n",
    "\n",
    "  - Lưu ý rằng các dữ liệu này vẫn hoạt động tốt trên shopee nên ta dùng lệnh sau để xem những mẫu nào bị _thiếu_ và đối chiếu với trên shopee.\n",
    "```python\n",
    "items_df['shop_location'] = items_df['shop_location'].replace(pd.NA, 'None')\n",
    "items_df.loc[items_df['shop_location'] == 'None']\n",
    "```\n",
    "\n",
    "Sau khi đối chiếu ta được kết quả sau: \n",
    "\n",
    "Mẫu không thiếu:\n",
    "\n",
    "![shop_location_not_missing_value](images/shop_location_not_missing_value.jpg)\n",
    "\n",
    "Mẫu thiếu:\n",
    "\n",
    "![shop_location_missing_value](images/shop_location_missing_value.jpg)\n",
    "\n",
    "Tức là những mẫu có thuộc tính shop_location thiếu sẽ không hiển thị vị trí shop ở góc dưới.\n",
    "\n",
    "Vậy ta sẽ xử lý bằng cách thay các giá trị thiếu này thành chuỗi \"None\".\n",
    "\n"
   ]
  },
  {
   "cell_type": "code",
   "execution_count": 24,
   "metadata": {},
   "outputs": [],
   "source": [
    "items_df = items_df.dropna(subset = ['is_adult', 'show_official_shop_label_in_title'])"
   ]
  },
  {
   "cell_type": "code",
   "execution_count": 25,
   "metadata": {},
   "outputs": [
    {
     "data": {
      "text/html": [
       "<div>\n",
       "<style scoped>\n",
       "    .dataframe tbody tr th:only-of-type {\n",
       "        vertical-align: middle;\n",
       "    }\n",
       "\n",
       "    .dataframe tbody tr th {\n",
       "        vertical-align: top;\n",
       "    }\n",
       "\n",
       "    .dataframe thead th {\n",
       "        text-align: right;\n",
       "    }\n",
       "</style>\n",
       "<table border=\"1\" class=\"dataframe\">\n",
       "  <thead>\n",
       "    <tr style=\"text-align: right;\">\n",
       "      <th></th>\n",
       "      <th>category</th>\n",
       "      <th>shop_location</th>\n",
       "      <th>item_public_time</th>\n",
       "      <th>item_be_got_time</th>\n",
       "      <th>sell_time</th>\n",
       "      <th>shopee_verified</th>\n",
       "      <th>discount</th>\n",
       "      <th>is_adult</th>\n",
       "      <th>options</th>\n",
       "      <th>show_official_shop_label_in_title</th>\n",
       "      <th>rating_star</th>\n",
       "      <th>five_star</th>\n",
       "      <th>four_star</th>\n",
       "      <th>three_star</th>\n",
       "      <th>two_star</th>\n",
       "      <th>one_star</th>\n",
       "      <th>price_min</th>\n",
       "      <th>price_min_before_discount</th>\n",
       "      <th>price_max</th>\n",
       "      <th>price_max_before_discount</th>\n",
       "      <th>price</th>\n",
       "      <th>price_before_discount</th>\n",
       "      <th>liked_count</th>\n",
       "      <th>view_count</th>\n",
       "      <th>cmt_count</th>\n",
       "      <th>is_preferred_plus_seller</th>\n",
       "      <th>show_free_shipping</th>\n",
       "      <th>images</th>\n",
       "      <th>video_info_list</th>\n",
       "      <th>historical_sold</th>\n",
       "    </tr>\n",
       "  </thead>\n",
       "  <tbody>\n",
       "    <tr>\n",
       "      <th>701</th>\n",
       "      <td>Ao ngan tay khong co</td>\n",
       "      <td>None</td>\n",
       "      <td>1.608700e+09</td>\n",
       "      <td>1.609949e+09</td>\n",
       "      <td>1249018.0</td>\n",
       "      <td>False</td>\n",
       "      <td>0</td>\n",
       "      <td>False</td>\n",
       "      <td>1.0</td>\n",
       "      <td>False</td>\n",
       "      <td>0.0</td>\n",
       "      <td>0.0</td>\n",
       "      <td>0.0</td>\n",
       "      <td>0.0</td>\n",
       "      <td>0.0</td>\n",
       "      <td>0.0</td>\n",
       "      <td>5.000000e+10</td>\n",
       "      <td>-1.0</td>\n",
       "      <td>5.000000e+10</td>\n",
       "      <td>-1.0</td>\n",
       "      <td>5.000000e+10</td>\n",
       "      <td>0.0</td>\n",
       "      <td>0.0</td>\n",
       "      <td>3.0</td>\n",
       "      <td>0.0</td>\n",
       "      <td>False</td>\n",
       "      <td>False</td>\n",
       "      <td>1.0</td>\n",
       "      <td>0.0</td>\n",
       "      <td>0.0</td>\n",
       "    </tr>\n",
       "    <tr>\n",
       "      <th>1111</th>\n",
       "      <td>Ao so mi</td>\n",
       "      <td>None</td>\n",
       "      <td>1.609141e+09</td>\n",
       "      <td>1.609949e+09</td>\n",
       "      <td>808406.0</td>\n",
       "      <td>False</td>\n",
       "      <td>0</td>\n",
       "      <td>False</td>\n",
       "      <td>6.0</td>\n",
       "      <td>False</td>\n",
       "      <td>0.0</td>\n",
       "      <td>0.0</td>\n",
       "      <td>0.0</td>\n",
       "      <td>0.0</td>\n",
       "      <td>0.0</td>\n",
       "      <td>0.0</td>\n",
       "      <td>8.201000e+09</td>\n",
       "      <td>-1.0</td>\n",
       "      <td>8.201000e+09</td>\n",
       "      <td>-1.0</td>\n",
       "      <td>8.201000e+09</td>\n",
       "      <td>0.0</td>\n",
       "      <td>0.0</td>\n",
       "      <td>1.0</td>\n",
       "      <td>0.0</td>\n",
       "      <td>False</td>\n",
       "      <td>False</td>\n",
       "      <td>2.0</td>\n",
       "      <td>0.0</td>\n",
       "      <td>0.0</td>\n",
       "    </tr>\n",
       "    <tr>\n",
       "      <th>1435</th>\n",
       "      <td>Ao so mi</td>\n",
       "      <td>None</td>\n",
       "      <td>1.609141e+09</td>\n",
       "      <td>1.609949e+09</td>\n",
       "      <td>808836.0</td>\n",
       "      <td>False</td>\n",
       "      <td>0</td>\n",
       "      <td>False</td>\n",
       "      <td>9.0</td>\n",
       "      <td>False</td>\n",
       "      <td>0.0</td>\n",
       "      <td>0.0</td>\n",
       "      <td>0.0</td>\n",
       "      <td>0.0</td>\n",
       "      <td>0.0</td>\n",
       "      <td>0.0</td>\n",
       "      <td>9.063000e+09</td>\n",
       "      <td>-1.0</td>\n",
       "      <td>9.063000e+09</td>\n",
       "      <td>-1.0</td>\n",
       "      <td>9.063000e+09</td>\n",
       "      <td>0.0</td>\n",
       "      <td>0.0</td>\n",
       "      <td>1.0</td>\n",
       "      <td>0.0</td>\n",
       "      <td>False</td>\n",
       "      <td>False</td>\n",
       "      <td>7.0</td>\n",
       "      <td>0.0</td>\n",
       "      <td>0.0</td>\n",
       "    </tr>\n",
       "    <tr>\n",
       "      <th>1490</th>\n",
       "      <td>Ao so mi</td>\n",
       "      <td>None</td>\n",
       "      <td>1.590679e+09</td>\n",
       "      <td>1.609949e+09</td>\n",
       "      <td>19270053.0</td>\n",
       "      <td>False</td>\n",
       "      <td>0</td>\n",
       "      <td>False</td>\n",
       "      <td>8.0</td>\n",
       "      <td>False</td>\n",
       "      <td>0.0</td>\n",
       "      <td>0.0</td>\n",
       "      <td>0.0</td>\n",
       "      <td>0.0</td>\n",
       "      <td>0.0</td>\n",
       "      <td>0.0</td>\n",
       "      <td>2.500000e+10</td>\n",
       "      <td>-1.0</td>\n",
       "      <td>2.500000e+10</td>\n",
       "      <td>-1.0</td>\n",
       "      <td>2.500000e+10</td>\n",
       "      <td>0.0</td>\n",
       "      <td>0.0</td>\n",
       "      <td>0.0</td>\n",
       "      <td>0.0</td>\n",
       "      <td>False</td>\n",
       "      <td>False</td>\n",
       "      <td>1.0</td>\n",
       "      <td>0.0</td>\n",
       "      <td>0.0</td>\n",
       "    </tr>\n",
       "    <tr>\n",
       "      <th>1795</th>\n",
       "      <td>Ao so mi</td>\n",
       "      <td>None</td>\n",
       "      <td>1.590679e+09</td>\n",
       "      <td>1.609949e+09</td>\n",
       "      <td>19270077.0</td>\n",
       "      <td>False</td>\n",
       "      <td>0</td>\n",
       "      <td>False</td>\n",
       "      <td>8.0</td>\n",
       "      <td>False</td>\n",
       "      <td>0.0</td>\n",
       "      <td>0.0</td>\n",
       "      <td>0.0</td>\n",
       "      <td>0.0</td>\n",
       "      <td>0.0</td>\n",
       "      <td>0.0</td>\n",
       "      <td>2.500000e+10</td>\n",
       "      <td>-1.0</td>\n",
       "      <td>2.500000e+10</td>\n",
       "      <td>-1.0</td>\n",
       "      <td>2.500000e+10</td>\n",
       "      <td>0.0</td>\n",
       "      <td>0.0</td>\n",
       "      <td>1.0</td>\n",
       "      <td>0.0</td>\n",
       "      <td>False</td>\n",
       "      <td>False</td>\n",
       "      <td>1.0</td>\n",
       "      <td>0.0</td>\n",
       "      <td>0.0</td>\n",
       "    </tr>\n",
       "    <tr>\n",
       "      <th>2370</th>\n",
       "      <td>Balo/ Tui/ Vi</td>\n",
       "      <td>None</td>\n",
       "      <td>1.607187e+09</td>\n",
       "      <td>1.609994e+09</td>\n",
       "      <td>2807274.0</td>\n",
       "      <td>False</td>\n",
       "      <td>0</td>\n",
       "      <td>False</td>\n",
       "      <td>5.0</td>\n",
       "      <td>False</td>\n",
       "      <td>0.0</td>\n",
       "      <td>0.0</td>\n",
       "      <td>0.0</td>\n",
       "      <td>0.0</td>\n",
       "      <td>0.0</td>\n",
       "      <td>0.0</td>\n",
       "      <td>1.694000e+10</td>\n",
       "      <td>-1.0</td>\n",
       "      <td>1.694000e+10</td>\n",
       "      <td>-1.0</td>\n",
       "      <td>1.694000e+10</td>\n",
       "      <td>0.0</td>\n",
       "      <td>0.0</td>\n",
       "      <td>0.0</td>\n",
       "      <td>0.0</td>\n",
       "      <td>False</td>\n",
       "      <td>False</td>\n",
       "      <td>9.0</td>\n",
       "      <td>0.0</td>\n",
       "      <td>0.0</td>\n",
       "    </tr>\n",
       "    <tr>\n",
       "      <th>2375</th>\n",
       "      <td>Balo/ Tui/ Vi</td>\n",
       "      <td>None</td>\n",
       "      <td>1.607187e+09</td>\n",
       "      <td>1.609994e+09</td>\n",
       "      <td>2807280.0</td>\n",
       "      <td>False</td>\n",
       "      <td>0</td>\n",
       "      <td>False</td>\n",
       "      <td>5.0</td>\n",
       "      <td>False</td>\n",
       "      <td>0.0</td>\n",
       "      <td>0.0</td>\n",
       "      <td>0.0</td>\n",
       "      <td>0.0</td>\n",
       "      <td>0.0</td>\n",
       "      <td>0.0</td>\n",
       "      <td>1.694000e+10</td>\n",
       "      <td>-1.0</td>\n",
       "      <td>1.694000e+10</td>\n",
       "      <td>-1.0</td>\n",
       "      <td>1.694000e+10</td>\n",
       "      <td>0.0</td>\n",
       "      <td>0.0</td>\n",
       "      <td>0.0</td>\n",
       "      <td>0.0</td>\n",
       "      <td>False</td>\n",
       "      <td>False</td>\n",
       "      <td>9.0</td>\n",
       "      <td>0.0</td>\n",
       "      <td>0.0</td>\n",
       "    </tr>\n",
       "    <tr>\n",
       "      <th>2638</th>\n",
       "      <td>Balo/ Tui/ Vi</td>\n",
       "      <td>None</td>\n",
       "      <td>1.607187e+09</td>\n",
       "      <td>1.609994e+09</td>\n",
       "      <td>2807249.0</td>\n",
       "      <td>False</td>\n",
       "      <td>0</td>\n",
       "      <td>False</td>\n",
       "      <td>5.0</td>\n",
       "      <td>False</td>\n",
       "      <td>0.0</td>\n",
       "      <td>0.0</td>\n",
       "      <td>0.0</td>\n",
       "      <td>0.0</td>\n",
       "      <td>0.0</td>\n",
       "      <td>0.0</td>\n",
       "      <td>1.694000e+10</td>\n",
       "      <td>-1.0</td>\n",
       "      <td>1.694000e+10</td>\n",
       "      <td>-1.0</td>\n",
       "      <td>1.694000e+10</td>\n",
       "      <td>0.0</td>\n",
       "      <td>0.0</td>\n",
       "      <td>0.0</td>\n",
       "      <td>0.0</td>\n",
       "      <td>False</td>\n",
       "      <td>False</td>\n",
       "      <td>9.0</td>\n",
       "      <td>0.0</td>\n",
       "      <td>0.0</td>\n",
       "    </tr>\n",
       "    <tr>\n",
       "      <th>2671</th>\n",
       "      <td>Balo/ Tui/ Vi</td>\n",
       "      <td>None</td>\n",
       "      <td>1.607187e+09</td>\n",
       "      <td>1.609994e+09</td>\n",
       "      <td>2807256.0</td>\n",
       "      <td>False</td>\n",
       "      <td>0</td>\n",
       "      <td>False</td>\n",
       "      <td>5.0</td>\n",
       "      <td>False</td>\n",
       "      <td>0.0</td>\n",
       "      <td>0.0</td>\n",
       "      <td>0.0</td>\n",
       "      <td>0.0</td>\n",
       "      <td>0.0</td>\n",
       "      <td>0.0</td>\n",
       "      <td>1.694000e+10</td>\n",
       "      <td>-1.0</td>\n",
       "      <td>1.694000e+10</td>\n",
       "      <td>-1.0</td>\n",
       "      <td>1.694000e+10</td>\n",
       "      <td>0.0</td>\n",
       "      <td>0.0</td>\n",
       "      <td>0.0</td>\n",
       "      <td>0.0</td>\n",
       "      <td>False</td>\n",
       "      <td>False</td>\n",
       "      <td>9.0</td>\n",
       "      <td>0.0</td>\n",
       "      <td>0.0</td>\n",
       "    </tr>\n",
       "    <tr>\n",
       "      <th>2753</th>\n",
       "      <td>Balo/ Tui/ Vi</td>\n",
       "      <td>None</td>\n",
       "      <td>1.607187e+09</td>\n",
       "      <td>1.609994e+09</td>\n",
       "      <td>2807268.0</td>\n",
       "      <td>False</td>\n",
       "      <td>0</td>\n",
       "      <td>False</td>\n",
       "      <td>5.0</td>\n",
       "      <td>False</td>\n",
       "      <td>0.0</td>\n",
       "      <td>0.0</td>\n",
       "      <td>0.0</td>\n",
       "      <td>0.0</td>\n",
       "      <td>0.0</td>\n",
       "      <td>0.0</td>\n",
       "      <td>1.694000e+10</td>\n",
       "      <td>-1.0</td>\n",
       "      <td>1.694000e+10</td>\n",
       "      <td>-1.0</td>\n",
       "      <td>1.694000e+10</td>\n",
       "      <td>0.0</td>\n",
       "      <td>0.0</td>\n",
       "      <td>0.0</td>\n",
       "      <td>0.0</td>\n",
       "      <td>False</td>\n",
       "      <td>False</td>\n",
       "      <td>9.0</td>\n",
       "      <td>0.0</td>\n",
       "      <td>0.0</td>\n",
       "    </tr>\n",
       "    <tr>\n",
       "      <th>4883</th>\n",
       "      <td>Quan</td>\n",
       "      <td>None</td>\n",
       "      <td>1.608304e+09</td>\n",
       "      <td>1.609992e+09</td>\n",
       "      <td>1688170.0</td>\n",
       "      <td>False</td>\n",
       "      <td>0</td>\n",
       "      <td>False</td>\n",
       "      <td>5.0</td>\n",
       "      <td>False</td>\n",
       "      <td>0.0</td>\n",
       "      <td>0.0</td>\n",
       "      <td>0.0</td>\n",
       "      <td>0.0</td>\n",
       "      <td>0.0</td>\n",
       "      <td>0.0</td>\n",
       "      <td>2.000000e+10</td>\n",
       "      <td>-1.0</td>\n",
       "      <td>2.000000e+10</td>\n",
       "      <td>-1.0</td>\n",
       "      <td>2.000000e+10</td>\n",
       "      <td>0.0</td>\n",
       "      <td>0.0</td>\n",
       "      <td>0.0</td>\n",
       "      <td>0.0</td>\n",
       "      <td>False</td>\n",
       "      <td>False</td>\n",
       "      <td>5.0</td>\n",
       "      <td>0.0</td>\n",
       "      <td>0.0</td>\n",
       "    </tr>\n",
       "    <tr>\n",
       "      <th>5095</th>\n",
       "      <td>Quan</td>\n",
       "      <td>None</td>\n",
       "      <td>1.608439e+09</td>\n",
       "      <td>1.609992e+09</td>\n",
       "      <td>1552897.0</td>\n",
       "      <td>False</td>\n",
       "      <td>0</td>\n",
       "      <td>False</td>\n",
       "      <td>6.0</td>\n",
       "      <td>False</td>\n",
       "      <td>0.0</td>\n",
       "      <td>0.0</td>\n",
       "      <td>0.0</td>\n",
       "      <td>0.0</td>\n",
       "      <td>0.0</td>\n",
       "      <td>0.0</td>\n",
       "      <td>1.853330e+10</td>\n",
       "      <td>-1.0</td>\n",
       "      <td>1.853330e+10</td>\n",
       "      <td>-1.0</td>\n",
       "      <td>1.853330e+10</td>\n",
       "      <td>0.0</td>\n",
       "      <td>0.0</td>\n",
       "      <td>3.0</td>\n",
       "      <td>0.0</td>\n",
       "      <td>False</td>\n",
       "      <td>False</td>\n",
       "      <td>5.0</td>\n",
       "      <td>0.0</td>\n",
       "      <td>0.0</td>\n",
       "    </tr>\n",
       "    <tr>\n",
       "      <th>5387</th>\n",
       "      <td>Quan</td>\n",
       "      <td>None</td>\n",
       "      <td>1.608374e+09</td>\n",
       "      <td>1.609992e+09</td>\n",
       "      <td>1617607.0</td>\n",
       "      <td>False</td>\n",
       "      <td>0</td>\n",
       "      <td>False</td>\n",
       "      <td>6.0</td>\n",
       "      <td>False</td>\n",
       "      <td>0.0</td>\n",
       "      <td>0.0</td>\n",
       "      <td>0.0</td>\n",
       "      <td>0.0</td>\n",
       "      <td>0.0</td>\n",
       "      <td>0.0</td>\n",
       "      <td>2.253330e+10</td>\n",
       "      <td>-1.0</td>\n",
       "      <td>2.253330e+10</td>\n",
       "      <td>-1.0</td>\n",
       "      <td>2.253330e+10</td>\n",
       "      <td>0.0</td>\n",
       "      <td>0.0</td>\n",
       "      <td>0.0</td>\n",
       "      <td>0.0</td>\n",
       "      <td>False</td>\n",
       "      <td>False</td>\n",
       "      <td>5.0</td>\n",
       "      <td>0.0</td>\n",
       "      <td>0.0</td>\n",
       "    </tr>\n",
       "  </tbody>\n",
       "</table>\n",
       "</div>"
      ],
      "text/plain": [
       "                  category shop_location  item_public_time  item_be_got_time   sell_time shopee_verified discount is_adult  options show_official_shop_label_in_title  rating_star  five_star  four_star  three_star  two_star  one_star     price_min  price_min_before_discount     price_max  price_max_before_discount         price  price_before_discount  liked_count  view_count  cmt_count is_preferred_plus_seller show_free_shipping  images  video_info_list  historical_sold\n",
       "701   Ao ngan tay khong co          None      1.608700e+09      1.609949e+09   1249018.0           False        0    False      1.0                             False          0.0        0.0        0.0         0.0       0.0       0.0  5.000000e+10                       -1.0  5.000000e+10                       -1.0  5.000000e+10                    0.0          0.0         3.0        0.0                    False              False     1.0              0.0              0.0\n",
       "1111              Ao so mi          None      1.609141e+09      1.609949e+09    808406.0           False        0    False      6.0                             False          0.0        0.0        0.0         0.0       0.0       0.0  8.201000e+09                       -1.0  8.201000e+09                       -1.0  8.201000e+09                    0.0          0.0         1.0        0.0                    False              False     2.0              0.0              0.0\n",
       "1435              Ao so mi          None      1.609141e+09      1.609949e+09    808836.0           False        0    False      9.0                             False          0.0        0.0        0.0         0.0       0.0       0.0  9.063000e+09                       -1.0  9.063000e+09                       -1.0  9.063000e+09                    0.0          0.0         1.0        0.0                    False              False     7.0              0.0              0.0\n",
       "1490              Ao so mi          None      1.590679e+09      1.609949e+09  19270053.0           False        0    False      8.0                             False          0.0        0.0        0.0         0.0       0.0       0.0  2.500000e+10                       -1.0  2.500000e+10                       -1.0  2.500000e+10                    0.0          0.0         0.0        0.0                    False              False     1.0              0.0              0.0\n",
       "1795              Ao so mi          None      1.590679e+09      1.609949e+09  19270077.0           False        0    False      8.0                             False          0.0        0.0        0.0         0.0       0.0       0.0  2.500000e+10                       -1.0  2.500000e+10                       -1.0  2.500000e+10                    0.0          0.0         1.0        0.0                    False              False     1.0              0.0              0.0\n",
       "2370         Balo/ Tui/ Vi          None      1.607187e+09      1.609994e+09   2807274.0           False        0    False      5.0                             False          0.0        0.0        0.0         0.0       0.0       0.0  1.694000e+10                       -1.0  1.694000e+10                       -1.0  1.694000e+10                    0.0          0.0         0.0        0.0                    False              False     9.0              0.0              0.0\n",
       "2375         Balo/ Tui/ Vi          None      1.607187e+09      1.609994e+09   2807280.0           False        0    False      5.0                             False          0.0        0.0        0.0         0.0       0.0       0.0  1.694000e+10                       -1.0  1.694000e+10                       -1.0  1.694000e+10                    0.0          0.0         0.0        0.0                    False              False     9.0              0.0              0.0\n",
       "2638         Balo/ Tui/ Vi          None      1.607187e+09      1.609994e+09   2807249.0           False        0    False      5.0                             False          0.0        0.0        0.0         0.0       0.0       0.0  1.694000e+10                       -1.0  1.694000e+10                       -1.0  1.694000e+10                    0.0          0.0         0.0        0.0                    False              False     9.0              0.0              0.0\n",
       "2671         Balo/ Tui/ Vi          None      1.607187e+09      1.609994e+09   2807256.0           False        0    False      5.0                             False          0.0        0.0        0.0         0.0       0.0       0.0  1.694000e+10                       -1.0  1.694000e+10                       -1.0  1.694000e+10                    0.0          0.0         0.0        0.0                    False              False     9.0              0.0              0.0\n",
       "2753         Balo/ Tui/ Vi          None      1.607187e+09      1.609994e+09   2807268.0           False        0    False      5.0                             False          0.0        0.0        0.0         0.0       0.0       0.0  1.694000e+10                       -1.0  1.694000e+10                       -1.0  1.694000e+10                    0.0          0.0         0.0        0.0                    False              False     9.0              0.0              0.0\n",
       "4883                  Quan          None      1.608304e+09      1.609992e+09   1688170.0           False        0    False      5.0                             False          0.0        0.0        0.0         0.0       0.0       0.0  2.000000e+10                       -1.0  2.000000e+10                       -1.0  2.000000e+10                    0.0          0.0         0.0        0.0                    False              False     5.0              0.0              0.0\n",
       "5095                  Quan          None      1.608439e+09      1.609992e+09   1552897.0           False        0    False      6.0                             False          0.0        0.0        0.0         0.0       0.0       0.0  1.853330e+10                       -1.0  1.853330e+10                       -1.0  1.853330e+10                    0.0          0.0         3.0        0.0                    False              False     5.0              0.0              0.0\n",
       "5387                  Quan          None      1.608374e+09      1.609992e+09   1617607.0           False        0    False      6.0                             False          0.0        0.0        0.0         0.0       0.0       0.0  2.253330e+10                       -1.0  2.253330e+10                       -1.0  2.253330e+10                    0.0          0.0         0.0        0.0                    False              False     5.0              0.0              0.0"
      ]
     },
     "execution_count": 25,
     "metadata": {},
     "output_type": "execute_result"
    }
   ],
   "source": [
    "items_df['shop_location'] = items_df['shop_location'].replace(pd.NA, 'None')\n",
    "items_df.loc[items_df['shop_location'] == 'None']"
   ]
  },
  {
   "cell_type": "code",
   "execution_count": 26,
   "metadata": {},
   "outputs": [
    {
     "name": "stdout",
     "output_type": "stream",
     "text": [
      "<class 'pandas.core.frame.DataFrame'>\n",
      "Int64Index: 5647 entries, 0 to 5710\n",
      "Data columns (total 30 columns):\n",
      " #   Column                             Non-Null Count  Dtype  \n",
      "---  ------                             --------------  -----  \n",
      " 0   category                           5647 non-null   object \n",
      " 1   shop_location                      5647 non-null   object \n",
      " 2   item_public_time                   5647 non-null   float64\n",
      " 3   item_be_got_time                   5647 non-null   float64\n",
      " 4   sell_time                          5647 non-null   float64\n",
      " 5   shopee_verified                    5647 non-null   object \n",
      " 6   discount                           5647 non-null   object \n",
      " 7   is_adult                           5647 non-null   object \n",
      " 8   options                            5647 non-null   float64\n",
      " 9   show_official_shop_label_in_title  5647 non-null   object \n",
      " 10  rating_star                        5647 non-null   float64\n",
      " 11  five_star                          5647 non-null   float64\n",
      " 12  four_star                          5647 non-null   float64\n",
      " 13  three_star                         5647 non-null   float64\n",
      " 14  two_star                           5647 non-null   float64\n",
      " 15  one_star                           5647 non-null   float64\n",
      " 16  price_min                          5647 non-null   float64\n",
      " 17  price_min_before_discount          5647 non-null   float64\n",
      " 18  price_max                          5647 non-null   float64\n",
      " 19  price_max_before_discount          5647 non-null   float64\n",
      " 20  price                              5647 non-null   float64\n",
      " 21  price_before_discount              5647 non-null   float64\n",
      " 22  liked_count                        5647 non-null   float64\n",
      " 23  view_count                         5647 non-null   float64\n",
      " 24  cmt_count                          5647 non-null   float64\n",
      " 25  is_preferred_plus_seller           5647 non-null   object \n",
      " 26  show_free_shipping                 5647 non-null   object \n",
      " 27  images                             5647 non-null   float64\n",
      " 28  video_info_list                    5647 non-null   float64\n",
      " 29  historical_sold                    5647 non-null   float64\n",
      "dtypes: float64(22), object(8)\n",
      "memory usage: 1.3+ MB\n"
     ]
    }
   ],
   "source": [
    "# Kiểm tra lại thấy không còn dữ liệu thiếu nữa\n",
    "\n",
    "items_df.info()"
   ]
  },
  {
   "cell_type": "markdown",
   "metadata": {},
   "source": [
    "### Xử lý kiểu dữ liệu cột"
   ]
  },
  {
   "cell_type": "markdown",
   "metadata": {},
   "source": [
    "Cột `category` ta sẽ xử lý bằng phương pháp _One Hot_\n",
    "\n",
    "Cột `shop_location` ta chỉ lấy 3 location có số mẫu nhiều nhất, còn lại để là _Others_. Sau đó ta sẽ tiếp tục xử lý cột này bàng phương pháp _One Hot_\n",
    "\n",
    "Cột `discount` chuyển thành dạng `float`\n",
    "\n",
    "Cột `shopee_verified`, `is_adult`, `show_official_shop_label_in_title`, `is_preferred_plus_seller `, `show_free_shipping` chuyển thành dạng 1, 0\n",
    "\n"
   ]
  },
  {
   "cell_type": "code",
   "execution_count": 27,
   "metadata": {},
   "outputs": [
    {
     "data": {
      "text/plain": [
       "category                              object\n",
       "shop_location                         object\n",
       "item_public_time                     float64\n",
       "item_be_got_time                     float64\n",
       "sell_time                            float64\n",
       "shopee_verified                       object\n",
       "discount                              object\n",
       "is_adult                              object\n",
       "options                              float64\n",
       "show_official_shop_label_in_title     object\n",
       "rating_star                          float64\n",
       "five_star                            float64\n",
       "four_star                            float64\n",
       "three_star                           float64\n",
       "two_star                             float64\n",
       "one_star                             float64\n",
       "price_min                            float64\n",
       "price_min_before_discount            float64\n",
       "price_max                            float64\n",
       "price_max_before_discount            float64\n",
       "price                                float64\n",
       "price_before_discount                float64\n",
       "liked_count                          float64\n",
       "view_count                           float64\n",
       "cmt_count                            float64\n",
       "is_preferred_plus_seller              object\n",
       "show_free_shipping                    object\n",
       "images                               float64\n",
       "video_info_list                      float64\n",
       "historical_sold                      float64\n",
       "dtype: object"
      ]
     },
     "execution_count": 27,
     "metadata": {},
     "output_type": "execute_result"
    }
   ],
   "source": [
    "# Xem lại kiểu dữ liệu các cột\n",
    "items_df.dtypes"
   ]
  },
  {
   "cell_type": "markdown",
   "metadata": {},
   "source": [
    "#### Xử lý cột `shop_location`"
   ]
  },
  {
   "cell_type": "code",
   "execution_count": 28,
   "metadata": {},
   "outputs": [
    {
     "data": {
      "text/plain": [
       "Hà Nội               2135\n",
       "Nước ngoài           1991\n",
       "TP. Hồ Chí Minh      1075\n",
       "Bình Dương             47\n",
       "Hải Dương              44\n",
       "Bình Định              40\n",
       "Hưng Yên               27\n",
       "Đồng Nai               25\n",
       "Quảng Ninh             25\n",
       "Hà Nam                 22\n",
       "Phú Thọ                17\n",
       "Ninh Bình              14\n",
       "Hải Phòng              14\n",
       "None                   13\n",
       "Bình Thuận             12\n",
       "Thái Bình              12\n",
       "Khánh Hòa              12\n",
       "Bắc Ninh               11\n",
       "Lào Cai                 9\n",
       "Lạng Sơn                9\n",
       "Thừa Thiên Huế          9\n",
       "Hòa Bình                8\n",
       "Đà Nẵng                 7\n",
       "Lâm Đồng                7\n",
       "Nam Định                6\n",
       "Thái Nguyên             6\n",
       "Thanh Hóa               5\n",
       "Vĩnh Phúc               4\n",
       "Cần Thơ                 4\n",
       "Bắc Kạn                 4\n",
       "Sóc Trăng               3\n",
       "Bắc Giang               3\n",
       "Kon Tum                 3\n",
       "Bà Rịa - Vũng Tàu       3\n",
       "Nghệ An                 3\n",
       "Phú Yên                 3\n",
       "Đồng Tháp               3\n",
       "Đắk Lắk                 2\n",
       "Bến Tre                 2\n",
       "Tiền Giang              2\n",
       "Hà Tĩnh                 1\n",
       "Ninh Thuận              1\n",
       "Cao Bằng                1\n",
       "Quảng Ngãi              1\n",
       "Vĩnh Long               1\n",
       "Cà Mau                  1\n",
       "Name: shop_location, dtype: int64"
      ]
     },
     "execution_count": 28,
     "metadata": {},
     "output_type": "execute_result"
    }
   ],
   "source": [
    "shop_location_count = items_df['shop_location'].value_counts()\n",
    "shop_location_count"
   ]
  },
  {
   "cell_type": "code",
   "execution_count": 29,
   "metadata": {},
   "outputs": [
    {
     "data": {
      "text/plain": [
       "['Hà Nội',\n",
       " 'Nước ngoài',\n",
       " 'TP. Hồ Chí Minh',\n",
       " 'Bình Dương',\n",
       " 'Hải Dương',\n",
       " 'Bình Định',\n",
       " 'Hưng Yên',\n",
       " 'Đồng Nai',\n",
       " 'Quảng Ninh',\n",
       " 'Hà Nam',\n",
       " 'Phú Thọ',\n",
       " 'Ninh Bình',\n",
       " 'Hải Phòng',\n",
       " 'None',\n",
       " 'Bình Thuận',\n",
       " 'Thái Bình',\n",
       " 'Khánh Hòa',\n",
       " 'Bắc Ninh',\n",
       " 'Lào Cai',\n",
       " 'Lạng Sơn',\n",
       " 'Thừa Thiên Huế',\n",
       " 'Hòa Bình',\n",
       " 'Đà Nẵng',\n",
       " 'Lâm Đồng',\n",
       " 'Nam Định',\n",
       " 'Thái Nguyên',\n",
       " 'Thanh Hóa',\n",
       " 'Vĩnh Phúc',\n",
       " 'Cần Thơ',\n",
       " 'Bắc Kạn',\n",
       " 'Sóc Trăng',\n",
       " 'Bắc Giang',\n",
       " 'Kon Tum',\n",
       " 'Bà Rịa - Vũng Tàu',\n",
       " 'Nghệ An',\n",
       " 'Phú Yên',\n",
       " 'Đồng Tháp',\n",
       " 'Đắk Lắk',\n",
       " 'Bến Tre',\n",
       " 'Tiền Giang',\n",
       " 'Hà Tĩnh',\n",
       " 'Ninh Thuận',\n",
       " 'Cao Bằng',\n",
       " 'Quảng Ngãi',\n",
       " 'Vĩnh Long',\n",
       " 'Cà Mau']"
      ]
     },
     "execution_count": 29,
     "metadata": {},
     "output_type": "execute_result"
    }
   ],
   "source": [
    "location = list(shop_location_count.index)\n",
    "location"
   ]
  },
  {
   "cell_type": "code",
   "execution_count": 30,
   "metadata": {},
   "outputs": [],
   "source": [
    "top_location = location[:3]\n",
    "other_location = list(set(location) - set(top_location))\n",
    "items_df['shop_location'] = items_df['shop_location'].replace(other_location, 'Others')"
   ]
  },
  {
   "cell_type": "code",
   "execution_count": 31,
   "metadata": {},
   "outputs": [
    {
     "data": {
      "text/plain": [
       "Hà Nội             2135\n",
       "Nước ngoài         1991\n",
       "TP. Hồ Chí Minh    1075\n",
       "Others              446\n",
       "Name: shop_location, dtype: int64"
      ]
     },
     "execution_count": 31,
     "metadata": {},
     "output_type": "execute_result"
    }
   ],
   "source": [
    "items_df['shop_location'].value_counts()"
   ]
  },
  {
   "cell_type": "markdown",
   "metadata": {},
   "source": [
    "#### Xử lý cột `discount`\n",
    "\n",
    "Đầu tiên, ta xem các giá trị của discount"
   ]
  },
  {
   "cell_type": "code",
   "execution_count": 32,
   "metadata": {},
   "outputs": [
    {
     "data": {
      "text/plain": [
       "array(['39%', '49%', '50%', 0, '29%', '17%', '47%', '45%', '30%', '43%',\n",
       "       '46%', '38%', '34%', '44%', '36%', '33%', '40%', '28%', '19%',\n",
       "       '22%', '23%', '41%', '48%', '24%', '25%', '31%', '10%', '15%',\n",
       "       '35%', '20%', '27%', '32%', '42%', '14%', '18%', '37%', '26%',\n",
       "       '21%', '5%', '2%', '12%', '16%', '61%', '13%', '1%', '4%', '8%',\n",
       "       '7%', '11%', '60%', '9%', '56%', '3%', '51%', '87%', '6%'],\n",
       "      dtype=object)"
      ]
     },
     "execution_count": 32,
     "metadata": {},
     "output_type": "execute_result"
    }
   ],
   "source": [
    "items_df['discount'].unique()"
   ]
  },
  {
   "cell_type": "code",
   "execution_count": 33,
   "metadata": {},
   "outputs": [
    {
     "data": {
      "text/plain": [
       "'33'"
      ]
     },
     "execution_count": 33,
     "metadata": {},
     "output_type": "execute_result"
    }
   ],
   "source": [
    "# Ta sẽ dùng RegEX để sửa lại giá trị cột discount, test thử như ở dưới\n",
    "\n",
    "result = re.findall(r'\\d+','33%')\n",
    "result[0]"
   ]
  },
  {
   "cell_type": "code",
   "execution_count": 34,
   "metadata": {},
   "outputs": [],
   "source": [
    "# Xử lý cột discount\n",
    "\n",
    "def apply_discount(discount):\n",
    "    if discount == 0:\n",
    "        return 0\n",
    "    else:\n",
    "        result = re.findall(r'\\d+',discount)\n",
    "        return result[0]\n",
    "    pass\n",
    "\n",
    "items_df['discount'] = items_df.apply(lambda row: apply_discount(row['discount']), axis=1)\n"
   ]
  },
  {
   "cell_type": "code",
   "execution_count": 35,
   "metadata": {},
   "outputs": [],
   "source": [
    "def convert_col_dtype(col):\n",
    "    if col.name in ['discount']:\n",
    "        return pd.to_numeric(col, errors='coerce')\n",
    "    return col\n",
    "\n",
    "items_df = items_df.apply(convert_col_dtype)"
   ]
  },
  {
   "cell_type": "code",
   "execution_count": 36,
   "metadata": {},
   "outputs": [
    {
     "data": {
      "text/plain": [
       "array([39, 49, 50,  0, 29, 17, 47, 45, 30, 43, 46, 38, 34, 44, 36, 33, 40,\n",
       "       28, 19, 22, 23, 41, 48, 24, 25, 31, 10, 15, 35, 20, 27, 32, 42, 14,\n",
       "       18, 37, 26, 21,  5,  2, 12, 16, 61, 13,  1,  4,  8,  7, 11, 60,  9,\n",
       "       56,  3, 51, 87,  6])"
      ]
     },
     "execution_count": 36,
     "metadata": {},
     "output_type": "execute_result"
    }
   ],
   "source": [
    "# Kiểm tra lại các giá trị cột discount\n",
    "items_df['discount'].unique()"
   ]
  },
  {
   "cell_type": "markdown",
   "metadata": {},
   "source": [
    "#### Xử lý các cột dạng bool\n",
    "\n",
    "Trước tiên, ta kiểm tra giá trị của các cột này"
   ]
  },
  {
   "cell_type": "code",
   "execution_count": 37,
   "metadata": {},
   "outputs": [
    {
     "data": {
      "text/plain": [
       "array([True, False], dtype=object)"
      ]
     },
     "execution_count": 37,
     "metadata": {},
     "output_type": "execute_result"
    }
   ],
   "source": [
    "items_df['shopee_verified'].unique()"
   ]
  },
  {
   "cell_type": "code",
   "execution_count": 38,
   "metadata": {},
   "outputs": [
    {
     "data": {
      "text/plain": [
       "array([False, 'False'], dtype=object)"
      ]
     },
     "execution_count": 38,
     "metadata": {},
     "output_type": "execute_result"
    }
   ],
   "source": [
    "items_df['is_adult'].unique()"
   ]
  },
  {
   "cell_type": "code",
   "execution_count": 39,
   "metadata": {},
   "outputs": [
    {
     "data": {
      "text/plain": [
       "array([False, True, 'False', 'True'], dtype=object)"
      ]
     },
     "execution_count": 39,
     "metadata": {},
     "output_type": "execute_result"
    }
   ],
   "source": [
    "items_df['show_official_shop_label_in_title'].unique()"
   ]
  },
  {
   "cell_type": "code",
   "execution_count": 40,
   "metadata": {},
   "outputs": [
    {
     "data": {
      "text/plain": [
       "array([True, False], dtype=object)"
      ]
     },
     "execution_count": 40,
     "metadata": {},
     "output_type": "execute_result"
    }
   ],
   "source": [
    "items_df['is_preferred_plus_seller'].unique()"
   ]
  },
  {
   "cell_type": "code",
   "execution_count": 41,
   "metadata": {},
   "outputs": [
    {
     "data": {
      "text/plain": [
       "array([False, True], dtype=object)"
      ]
     },
     "execution_count": 41,
     "metadata": {},
     "output_type": "execute_result"
    }
   ],
   "source": [
    "items_df['show_free_shipping'].unique()"
   ]
  },
  {
   "cell_type": "markdown",
   "metadata": {},
   "source": [
    "Ta thấy:\n",
    "\n",
    "- Cột `is_adult` chỉ có giá trị False nên vô nghĩa, ta xóa cột này.\n",
    "\n",
    "- Các cột `is_preferred_plus_seller`, `show_free_shipping`, `shopee_verified` đều đã ở dạng bool ta chỉ việc chuyển về dạng interger bằng hàm astype(int)\n",
    "\n",
    "- Cột `show_official_shop_label_in_title` đang có 4 giá trị: False, True, 'False', 'True'. Tương tự như xử lý với cột `discount`, ta chuyển hai giá trị 'False' và 'True' về dạng chuẩn, sau đó mới gọi astype(int)\n"
   ]
  },
  {
   "cell_type": "code",
   "execution_count": 42,
   "metadata": {},
   "outputs": [],
   "source": [
    "items_df = items_df.drop('is_adult', axis = 1)"
   ]
  },
  {
   "cell_type": "code",
   "execution_count": 43,
   "metadata": {},
   "outputs": [],
   "source": [
    "items_df['shopee_verified'] = items_df['shopee_verified'].astype(int)\n",
    "items_df['is_preferred_plus_seller'] = items_df['is_preferred_plus_seller'].astype(int)\n",
    "items_df['show_free_shipping'] = items_df['show_free_shipping'].astype(int)"
   ]
  },
  {
   "cell_type": "code",
   "execution_count": 44,
   "metadata": {},
   "outputs": [],
   "source": [
    "def apply_bool(FalseOrTrue):\n",
    "    if FalseOrTrue == 'False':\n",
    "        return False\n",
    "    if FalseOrTrue == 'True':\n",
    "        return True\n",
    "    else:\n",
    "        return FalseOrTrue\n",
    "    pass\n",
    "\n",
    "items_df['show_official_shop_label_in_title'] = items_df.apply(lambda row: apply_bool(row['show_official_shop_label_in_title']), axis=1)\n",
    "\n",
    "items_df['show_official_shop_label_in_title'] = items_df['show_official_shop_label_in_title'].astype(int)\n"
   ]
  },
  {
   "cell_type": "code",
   "execution_count": 45,
   "metadata": {},
   "outputs": [
    {
     "data": {
      "text/plain": [
       "array([1, 0])"
      ]
     },
     "execution_count": 45,
     "metadata": {},
     "output_type": "execute_result"
    }
   ],
   "source": [
    "#Kiểm tra lại\n",
    "\n",
    "items_df['shopee_verified'].unique()"
   ]
  },
  {
   "cell_type": "code",
   "execution_count": 46,
   "metadata": {},
   "outputs": [
    {
     "data": {
      "text/plain": [
       "array([0, 1])"
      ]
     },
     "execution_count": 46,
     "metadata": {},
     "output_type": "execute_result"
    }
   ],
   "source": [
    "items_df['show_official_shop_label_in_title'].unique()"
   ]
  },
  {
   "cell_type": "code",
   "execution_count": 47,
   "metadata": {},
   "outputs": [
    {
     "data": {
      "text/plain": [
       "array([1, 0])"
      ]
     },
     "execution_count": 47,
     "metadata": {},
     "output_type": "execute_result"
    }
   ],
   "source": [
    "items_df['is_preferred_plus_seller'].unique()"
   ]
  },
  {
   "cell_type": "code",
   "execution_count": 48,
   "metadata": {},
   "outputs": [
    {
     "data": {
      "text/plain": [
       "array([0, 1])"
      ]
     },
     "execution_count": 48,
     "metadata": {},
     "output_type": "execute_result"
    }
   ],
   "source": [
    "\n",
    "items_df['show_free_shipping'].unique()"
   ]
  },
  {
   "cell_type": "markdown",
   "metadata": {},
   "source": [
    "Đến đây, ta đã chuyển xong các cột về dạng numeric, ta kiểm tra lại bằng lệnh dtypes của pandas"
   ]
  },
  {
   "cell_type": "code",
   "execution_count": 49,
   "metadata": {},
   "outputs": [
    {
     "data": {
      "text/plain": [
       "category                              object\n",
       "shop_location                         object\n",
       "item_public_time                     float64\n",
       "item_be_got_time                     float64\n",
       "sell_time                            float64\n",
       "shopee_verified                        int64\n",
       "discount                               int64\n",
       "options                              float64\n",
       "show_official_shop_label_in_title      int64\n",
       "rating_star                          float64\n",
       "five_star                            float64\n",
       "four_star                            float64\n",
       "three_star                           float64\n",
       "two_star                             float64\n",
       "one_star                             float64\n",
       "price_min                            float64\n",
       "price_min_before_discount            float64\n",
       "price_max                            float64\n",
       "price_max_before_discount            float64\n",
       "price                                float64\n",
       "price_before_discount                float64\n",
       "liked_count                          float64\n",
       "view_count                           float64\n",
       "cmt_count                            float64\n",
       "is_preferred_plus_seller               int64\n",
       "show_free_shipping                     int64\n",
       "images                               float64\n",
       "video_info_list                      float64\n",
       "historical_sold                      float64\n",
       "dtype: object"
      ]
     },
     "execution_count": 49,
     "metadata": {},
     "output_type": "execute_result"
    }
   ],
   "source": [
    "items_df.dtypes"
   ]
  },
  {
   "cell_type": "markdown",
   "metadata": {},
   "source": [
    "### Xử lý giá trị không hợp lệ\n",
    "\n",
    "Đến đây ta đã không còn giá trị thiếu, tuy nhiên có thể có giá trị không hợp lệ. Thật ra giá trị của những mẫu này đều đang hoạt động bình thường trên giao diện shopee nên khả năng lỗi là rất thấp. Ta vẫn kiểm tra lại các trường hợp như sau:\n",
    "\n",
    "1. Có giá trị âm ở các cột dạng numeric (trong đó có sell_time, nếu sell_time âm tức là item_be_got_time và tem_public_time cũng bị lỗi)\n",
    "  - Ta đã thực hiện ở đây: [Phân bố giá trị của cột có kiểu dữ liệu dạng số](#Phân-bố-giá-trị-của-cột-có-kiểu-dữ-liệu-dạng-số)\n",
    "  - Ta thấy cột price_min_before_discount và cột price_max_before_discount có giá trị âm. Ta sẽ kiểm tra ở dưới\n",
    "  \n",
    "2. So sánh price_min > price_max, price_min_before_discount > price_max_before_discount\n",
    "\n",
    "3. So sánh price < price_before_discount, price_min < price_min_before_discount, price_max < price_max_before_discount\n",
    "\n",
    "4. Các cột dạng bool toàn bộ là False/True. Ta đã xử lý khi chuyển các cột dạng bool sang kiểu 1,0."
   ]
  },
  {
   "cell_type": "code",
   "execution_count": 50,
   "metadata": {},
   "outputs": [
    {
     "data": {
      "text/plain": [
       "0.47387993624933594"
      ]
     },
     "execution_count": 50,
     "metadata": {},
     "output_type": "execute_result"
    }
   ],
   "source": [
    "# Xử lý trường hợp 1.\n",
    "\n",
    "invalid_price_negative = (items_df.price_min_before_discount < 0) | (items_df.price_max_before_discount < 0)\n",
    "invalid_price_negative_vals = invalid_price_negative.sum()\n",
    "invalid_price_negative_vals/len(items_df)"
   ]
  },
  {
   "cell_type": "markdown",
   "metadata": {},
   "source": [
    "Ta thấy có đến xấp xỉ 47.35% các giá trị `price_min_before_discount` và `price_min_before_discount` bị âm.\n",
    "Do shopee vẫn hiển thị bình thường nên ta dự đoán có lẽ do tại những mẫu có giá trị âm này thì `discount = 0` "
   ]
  },
  {
   "cell_type": "code",
   "execution_count": 51,
   "metadata": {},
   "outputs": [
    {
     "name": "stdout",
     "output_type": "stream",
     "text": [
      "0.47387993624933594\n",
      "True\n"
     ]
    }
   ],
   "source": [
    "print((items_df.discount == 0).sum()/len(items_df))\n",
    "print((items_df.discount == 0).sum()/len(items_df) == invalid_price_negative_vals/len(items_df))"
   ]
  },
  {
   "cell_type": "markdown",
   "metadata": {},
   "source": [
    "Kiểm tra thấy hai giá trị là hoàn toàn giống nhau chứng tỏ dự đoán là đúng.\n",
    "Vậy code shopee chịu lỗi này hoặc đây là quy ước data của shopee, khi lấy mẫu mới về từ shopee trường hợp này vẫn sẽ là giá trị âm. Vậy nên những giá trị âm này ta xem như hợp lệ."
   ]
  },
  {
   "cell_type": "code",
   "execution_count": 52,
   "metadata": {},
   "outputs": [
    {
     "data": {
      "text/plain": [
       "0"
      ]
     },
     "execution_count": 52,
     "metadata": {},
     "output_type": "execute_result"
    }
   ],
   "source": [
    "# Xử lý trường hợp 2\n",
    "invalid_price_min_max = (items_df.price_min_before_discount > items_df.price_max_before_discount) | (items_df.price_max < items_df.price_min)\n",
    "invalid_price_min_max_vals = invalid_price_min_max.sum()\n",
    "invalid_price_min_max_vals\n",
    "# Không có bất kỳ giá trị không hợp lệ nào trong trường hợp này."
   ]
  },
  {
   "cell_type": "code",
   "execution_count": 53,
   "metadata": {},
   "outputs": [
    {
     "data": {
      "text/plain": [
       "0.47387993624933594"
      ]
     },
     "execution_count": 53,
     "metadata": {},
     "output_type": "execute_result"
    }
   ],
   "source": [
    "# Xử lý trường hợp 3\n",
    "invalid_price_before_after = (items_df.price > items_df.price_before_discount) | (items_df.price_min > items_df.price_min_before_discount) | (items_df.price_max > items_df.price_max_before_discount)\n",
    "invalid_price_before_after_vals = invalid_price_before_after.sum()\n",
    "invalid_price_before_after_vals / len(items_df)"
   ]
  },
  {
   "cell_type": "markdown",
   "metadata": {},
   "source": [
    "Ta thấy phần trăm các giá trị lỗi giống như ở trường hợp 1 nên kiểm tra riêng lại cho điều kiện (items_df.price_min > items_df.price_min_before_discount) | (items_df.price_max > items_df.price_max_before_discount)"
   ]
  },
  {
   "cell_type": "code",
   "execution_count": 54,
   "metadata": {},
   "outputs": [
    {
     "name": "stdout",
     "output_type": "stream",
     "text": [
      "(items_df.price_min > items_df.price_min_before_discount) | (items_df.price_max > items_df.price_max_before_discount):\n",
      "-> 0.47387993624933594\n",
      "True if it equal to (items_df.discount == 0).sum()/len(items_df))\n",
      "-> True\n"
     ]
    }
   ],
   "source": [
    "print('(items_df.price_min > items_df.price_min_before_discount) | (items_df.price_max > items_df.price_max_before_discount):\\n->', ((items_df.price_min > items_df.price_min_before_discount) | (items_df.price_max > items_df.price_max_before_discount)).sum()/len(items_df))\n",
    "print('True if it equal to (items_df.discount == 0).sum()/len(items_df))\\n->', ((items_df.price_min > items_df.price_min_before_discount) | (items_df.price_max > items_df.price_max_before_discount)).sum()/len(items_df) == (items_df.discount == 0).sum()/len(items_df))"
   ]
  },
  {
   "cell_type": "markdown",
   "metadata": {},
   "source": [
    "Vậy tương tự như trường hợp 1, những giá trị này là hợp lệ."
   ]
  },
  {
   "cell_type": "markdown",
   "metadata": {},
   "source": [
    "### Tiền xử lý cột `name`, `shop_location` và chuẩn hóa dữ liệu"
   ]
  },
  {
   "cell_type": "markdown",
   "metadata": {},
   "source": [
    "#### Xây dựng transformer xử lý cột `category` và `shop_location`, sau đó chuẩn hóa dữ liệu"
   ]
  },
  {
   "cell_type": "markdown",
   "metadata": {},
   "source": [
    "- Để tránh sự rò rỉ thông tin giữa các tập, ta sẽ xử lý cột `category` và `shop_location` bằng cách tạo ra một transformer để ghép vào pipeline, ta xử lý hai cột này bằng phương pháp one hot, sử dụng OneHotEncoder của SciKit Learn.\n"
   ]
  },
  {
   "cell_type": "code",
   "execution_count": 64,
   "metadata": {},
   "outputs": [],
   "source": [
    "not_bool_col = ['item_public_time', 'item_be_got_time', 'sell_time', \n",
    "                'discount', 'options',\n",
    "                'rating_star', 'five_star', 'four_star', 'three_star', 'two_star', 'one_star', \n",
    "                'price_min', 'price_min_before_discount', 'price_max', 'price_max_before_discount', \n",
    "                'price', 'price_before_discount', 'liked_count', 'view_count', 'cmt_count', \n",
    "                'is_preferred_plus_seller', 'images']\n",
    "column_transformer = make_column_transformer((OneHotEncoder(), ['category','shop_location']), (StandardScaler(), not_bool_col), remainder='passthrough')"
   ]
  },
  {
   "cell_type": "markdown",
   "metadata": {},
   "source": [
    "### Tách các tập"
   ]
  },
  {
   "cell_type": "code",
   "execution_count": 55,
   "metadata": {},
   "outputs": [],
   "source": [
    "# Tách X và y\n",
    "y_sr = items_df[\"historical_sold\"]\n",
    "X_df = items_df.drop(\"historical_sold\", axis=1)"
   ]
  },
  {
   "cell_type": "code",
   "execution_count": 56,
   "metadata": {},
   "outputs": [],
   "source": [
    "# Tách train và test\n",
    "rest_X_df, test_X_df, rest_y_sr, test_y_sr = train_test_split(X_df, y_sr, test_size=0.2, random_state=0)"
   ]
  },
  {
   "cell_type": "code",
   "execution_count": 57,
   "metadata": {},
   "outputs": [],
   "source": [
    "# Tách train và validation\n",
    "train_X_df, val_X_df, train_y_sr, val_y_sr = train_test_split(rest_X_df, rest_y_sr, test_size=0.2, random_state=0)"
   ]
  },
  {
   "cell_type": "code",
   "execution_count": 58,
   "metadata": {},
   "outputs": [
    {
     "data": {
      "text/plain": [
       "(3613, 28)"
      ]
     },
     "execution_count": 58,
     "metadata": {},
     "output_type": "execute_result"
    }
   ],
   "source": [
    "train_X_df.shape"
   ]
  },
  {
   "cell_type": "code",
   "execution_count": 59,
   "metadata": {},
   "outputs": [
    {
     "data": {
      "text/plain": [
       "(3613,)"
      ]
     },
     "execution_count": 59,
     "metadata": {},
     "output_type": "execute_result"
    }
   ],
   "source": [
    "train_y_sr.shape"
   ]
  },
  {
   "cell_type": "code",
   "execution_count": 60,
   "metadata": {},
   "outputs": [
    {
     "data": {
      "text/plain": [
       "(904, 28)"
      ]
     },
     "execution_count": 60,
     "metadata": {},
     "output_type": "execute_result"
    }
   ],
   "source": [
    "val_X_df.shape"
   ]
  },
  {
   "cell_type": "code",
   "execution_count": 61,
   "metadata": {},
   "outputs": [
    {
     "data": {
      "text/plain": [
       "(904,)"
      ]
     },
     "execution_count": 61,
     "metadata": {},
     "output_type": "execute_result"
    }
   ],
   "source": [
    "val_y_sr.shape"
   ]
  },
  {
   "cell_type": "code",
   "execution_count": 62,
   "metadata": {},
   "outputs": [
    {
     "data": {
      "text/plain": [
       "(1130, 28)"
      ]
     },
     "execution_count": 62,
     "metadata": {},
     "output_type": "execute_result"
    }
   ],
   "source": [
    "test_X_df.shape"
   ]
  },
  {
   "cell_type": "code",
   "execution_count": 63,
   "metadata": {},
   "outputs": [
    {
     "data": {
      "text/plain": [
       "(1130,)"
      ]
     },
     "execution_count": 63,
     "metadata": {},
     "output_type": "execute_result"
    }
   ],
   "source": [
    "test_y_sr.shape"
   ]
  },
  {
   "cell_type": "markdown",
   "metadata": {},
   "source": [
    "# Mô hình hóa dữ liệu"
   ]
  },
  {
   "cell_type": "markdown",
   "metadata": {},
   "source": [
    "## Tìm mô hình tốt nhất\n",
    "\n",
    "Do output là kiểu số thực liên tục nên ta sẽ sử dụng mô hình hồi quy để dự đoán các input mới, ta sẽ sử dụng các model sau:\n",
    "\n",
    "- Hồi quy tuyến tính\n",
    "- Mạng neural nhân tạo\n"
   ]
  },
  {
   "cell_type": "markdown",
   "metadata": {},
   "source": [
    "Đầu tiên, đối với các mô hình hồi quy này thì ta sử dụng độ đo $R^2$ để đánh giá độ lỗi vì độ đo MSE không cho ta biết được cụ thể chất lượng của mô hình \n",
    "\n",
    "$R^2$ bình phương cho biết độ phù hợp của mô hình, người ta nghiên cứu được rằng, với $R^2$ bình phương > 0.5 thì một mô hình được đánh giá là phù hợp."
   ]
  },
  {
   "cell_type": "code",
   "execution_count": 130,
   "metadata": {},
   "outputs": [],
   "source": [
    "# Tính độ đo r^2 trên tập huấn luyện\n",
    "def compute_mse(y, preds):\n",
    "    return ((y - preds) ** 2).mean()\n",
    "def compute_rr(y, preds, baseline_preds):\n",
    "    return 1 - compute_mse(y, preds) / compute_mse(y, baseline_preds)\n",
    "baseline_preds = train_y_sr.mean()"
   ]
  },
  {
   "cell_type": "markdown",
   "metadata": {},
   "source": [
    "Huấn luyện mô hình hồi quy tuyến tính "
   ]
  },
  {
   "cell_type": "code",
   "execution_count": 133,
   "metadata": {},
   "outputs": [
    {
     "data": {
      "text/plain": [
       "0.3811533278240742"
      ]
     },
     "execution_count": 133,
     "metadata": {},
     "output_type": "execute_result"
    }
   ],
   "source": [
    "full_pipeline = make_pipeline(column_transformer, LinearRegression())\n",
    "full_pipeline.fit(train_X_df, train_y_sr)\n",
    "compute_rr(val_y_sr, full_pipeline.predict(val_X_df), baseline_preds)"
   ]
  },
  {
   "cell_type": "markdown",
   "metadata": {},
   "source": [
    "Huấn luyện mô hình mạng neural nhân tạo\n",
    "\n",
    "Ta sẽ thử 6 x 6 = 36 mô hình với các tham số khác nhau (fit khá lâu do khó hội tụ). Các tham số thay đổi là alpha và số neural tầng ẩn"
   ]
  },
  {
   "cell_type": "code",
   "execution_count": 122,
   "metadata": {},
   "outputs": [],
   "source": [
    "full_pipeline = make_pipeline(column_transformer, MLPRegressor(activation='relu', solver='adam', random_state=0, max_iter=10000))\n",
    "alphas = [0.0001, 0.001, 0.1, 1, 10, 100]\n",
    "layer_sizes = [20, 25, 30, 35, 40, 45]\n",
    "train_rr = []\n",
    "val_rr = []\n",
    "best_val_rr = -float('inf'); best_alpha = None; best_layer = None; best_act = None\n",
    "for alpha in alphas:\n",
    "    for layer in layer_sizes:\n",
    "        full_pipeline.set_params(mlpregressor__alpha=alpha, mlpregressor__hidden_layer_sizes=layer)\n",
    "        full_pipeline.fit(train_X_df, train_y_sr)\n",
    "        train_rr.append(compute_rr(train_y_sr, full_pipeline.predict(train_X_df), baseline_preds))\n",
    "        val_rr.append(compute_rr(val_y_sr, full_pipeline.predict(val_X_df), baseline_preds))\n",
    "        if val_rr[-1] > best_val_rr:\n",
    "            best_val_rr, best_alpha, best_layer= val_rr[-1], alpha, layer"
   ]
  },
  {
   "cell_type": "code",
   "execution_count": 140,
   "metadata": {},
   "outputs": [
    {
     "data": {
      "image/png": "[encoded data removed]",
      "text/plain": [
       "<Figure size 720x360 with 2 Axes>"
      ]
     },
     "metadata": {
      "needs_background": "light"
     },
     "output_type": "display_data"
    }
   ],
   "source": [
    "# Trực quan hóa kết quả\n",
    "train_rr_df = pd.DataFrame(data=np.array(train_rr).reshape(len(alphas), -1),\n",
    "                             index=alphas, columns=layer_sizes)\n",
    "val_rr_df = pd.DataFrame(data=np.array(val_rr).reshape(len(alphas), -1), \n",
    "                           index=alphas, columns=layer_sizes)\n",
    "min_rr = min(min(train_rr), min(val_rr))\n",
    "max_rr = max(max(train_rr), max(val_rr))\n",
    "plt.figure(figsize=(10, 5))\n",
    "plt.subplot(1, 2, 1)\n",
    "sns.heatmap(train_rr_df, vmin=min_rr, vmax=max_rr, square=True, annot=True, \n",
    "            cbar=False, fmt='.1f', cmap='Reds')\n",
    "plt.title('train r^2'); plt.xlabel('layer size'); plt.ylabel('alpha')\n",
    "plt.subplot(1, 2, 2)\n",
    "sns.heatmap(val_rr_df, vmin=min_rr, vmax=max_rr, square=True, annot=True, \n",
    "            cbar=False, fmt='.1f', cmap='Reds')\n",
    "plt.title('validation r^2'); plt.xlabel('layer size'); plt.ylabel('alpha');"
   ]
  },
  {
   "cell_type": "markdown",
   "metadata": {},
   "source": [
    "Nhìn từ biểu đồ trên, ta thấy không có sự tương quan mạnh nào giữa việc tăng giảm số neural và giá trị của $R^2$, khi số neural là 20 và 45 thì giá trị của $R^2$ cao hơn so với khi có các số neural còn lại\n",
    "\n",
    "Có thể thấy khi sử dụng mô hình mạng neural nhân tạo thì $R^2$ cải thiện rõ rệt, ta hãy xem giá trị cao nhất của $R^2$ là bao nhiêu"
   ]
  },
  {
   "cell_type": "code",
   "execution_count": 125,
   "metadata": {},
   "outputs": [
    {
     "data": {
      "text/plain": [
       "0.5535572858889766"
      ]
     },
     "execution_count": 125,
     "metadata": {},
     "output_type": "execute_result"
    }
   ],
   "source": [
    "best_val_rr"
   ]
  },
  {
   "cell_type": "markdown",
   "metadata": {},
   "source": [
    "Như vậy $R^2$ > 0.5, mô hình này có thể phù hợp để dự đoán các dữ liệu mới.\n"
   ]
  },
  {
   "cell_type": "markdown",
   "metadata": {},
   "source": [
    "Cuối cùng, ta sẽ huấn luyện lại `full_pipeline` trên `rest_X_df` và `rest_y_sr` (tập huấn luyện + tập validation) với `best_alpha` và `best_layer` tìm được ở trên để ra được mô hình cụ thể cuối cùng."
   ]
  },
  {
   "cell_type": "code",
   "execution_count": 142,
   "metadata": {},
   "outputs": [
    {
     "data": {
      "text/html": [
       "<style>div.sk-top-container {color: black;background-color: white;}div.sk-toggleable {background-color: white;}label.sk-toggleable__label {cursor: pointer;display: block;width: 100%;margin-bottom: 0;padding: 0.2em 0.3em;box-sizing: border-box;text-align: center;}div.sk-toggleable__content {max-height: 0;max-width: 0;overflow: hidden;text-align: left;background-color: #f0f8ff;}div.sk-toggleable__content pre {margin: 0.2em;color: black;border-radius: 0.25em;background-color: #f0f8ff;}input.sk-toggleable__control:checked~div.sk-toggleable__content {max-height: 200px;max-width: 100%;overflow: auto;}div.sk-estimator input.sk-toggleable__control:checked~label.sk-toggleable__label {background-color: #d4ebff;}div.sk-label input.sk-toggleable__control:checked~label.sk-toggleable__label {background-color: #d4ebff;}input.sk-hidden--visually {border: 0;clip: rect(1px 1px 1px 1px);clip: rect(1px, 1px, 1px, 1px);height: 1px;margin: -1px;overflow: hidden;padding: 0;position: absolute;width: 1px;}div.sk-estimator {font-family: monospace;background-color: #f0f8ff;margin: 0.25em 0.25em;border: 1px dotted black;border-radius: 0.25em;box-sizing: border-box;}div.sk-estimator:hover {background-color: #d4ebff;}div.sk-parallel-item::after {content: \"\";width: 100%;border-bottom: 1px solid gray;flex-grow: 1;}div.sk-label:hover label.sk-toggleable__label {background-color: #d4ebff;}div.sk-serial::before {content: \"\";position: absolute;border-left: 1px solid gray;box-sizing: border-box;top: 2em;bottom: 0;left: 50%;}div.sk-serial {display: flex;flex-direction: column;align-items: center;background-color: white;}div.sk-item {z-index: 1;}div.sk-parallel {display: flex;align-items: stretch;justify-content: center;background-color: white;}div.sk-parallel-item {display: flex;flex-direction: column;position: relative;background-color: white;}div.sk-parallel-item:first-child::after {align-self: flex-end;width: 50%;}div.sk-parallel-item:last-child::after {align-self: flex-start;width: 50%;}div.sk-parallel-item:only-child::after {width: 0;}div.sk-dashed-wrapped {border: 1px dashed gray;margin: 0.2em;box-sizing: border-box;padding-bottom: 0.1em;background-color: white;position: relative;}div.sk-label label {font-family: monospace;font-weight: bold;background-color: white;display: inline-block;line-height: 1.2em;}div.sk-label-container {position: relative;z-index: 2;text-align: center;}div.sk-container {display: inline-block;position: relative;}</style><div class=\"sk-top-container\"><div class=\"sk-container\"><div class=\"sk-item sk-dashed-wrapped\"><div class=\"sk-label-container\"><div class=\"sk-label sk-toggleable\"><input class=\"sk-toggleable__control sk-hidden--visually\" id=\"a89ce69e-5b03-4523-8887-4e1151fb2a55\" type=\"checkbox\" ><label class=\"sk-toggleable__label\" for=\"a89ce69e-5b03-4523-8887-4e1151fb2a55\">Pipeline</label><div class=\"sk-toggleable__content\"><pre>Pipeline(steps=[('columntransformer',\n",
       "                 ColumnTransformer(remainder='passthrough',\n",
       "                                   transformers=[('onehotencoder',\n",
       "                                                  OneHotEncoder(),\n",
       "                                                  ['category',\n",
       "                                                   'shop_location']),\n",
       "                                                 ('standardscaler',\n",
       "                                                  StandardScaler(),\n",
       "                                                  ['item_public_time',\n",
       "                                                   'item_be_got_time',\n",
       "                                                   'sell_time', 'discount',\n",
       "                                                   'options', 'rating_star',\n",
       "                                                   'five_star', 'four_star',\n",
       "                                                   'three_star', 'two_star',\n",
       "                                                   'one_star', 'price_min',\n",
       "                                                   'price_min_before_discount',\n",
       "                                                   'price_max',\n",
       "                                                   'price_max_before_discount',\n",
       "                                                   'price',\n",
       "                                                   'price_before_discount',\n",
       "                                                   'liked_count', 'view_count',\n",
       "                                                   'cmt_count',\n",
       "                                                   'is_preferred_plus_seller',\n",
       "                                                   'images'])])),\n",
       "                ('mlpregressor',\n",
       "                 MLPRegressor(alpha=0.001, hidden_layer_sizes=45,\n",
       "                              max_iter=10000, random_state=0))])</pre></div></div></div><div class=\"sk-serial\"><div class=\"sk-item sk-dashed-wrapped\"><div class=\"sk-label-container\"><div class=\"sk-label sk-toggleable\"><input class=\"sk-toggleable__control sk-hidden--visually\" id=\"0c2a9355-ccf6-48cf-b580-712dd22694ec\" type=\"checkbox\" ><label class=\"sk-toggleable__label\" for=\"0c2a9355-ccf6-48cf-b580-712dd22694ec\">columntransformer: ColumnTransformer</label><div class=\"sk-toggleable__content\"><pre>ColumnTransformer(remainder='passthrough',\n",
       "                  transformers=[('onehotencoder', OneHotEncoder(),\n",
       "                                 ['category', 'shop_location']),\n",
       "                                ('standardscaler', StandardScaler(),\n",
       "                                 ['item_public_time', 'item_be_got_time',\n",
       "                                  'sell_time', 'discount', 'options',\n",
       "                                  'rating_star', 'five_star', 'four_star',\n",
       "                                  'three_star', 'two_star', 'one_star',\n",
       "                                  'price_min', 'price_min_before_discount',\n",
       "                                  'price_max', 'price_max_before_discount',\n",
       "                                  'price', 'price_before_discount',\n",
       "                                  'liked_count', 'view_count', 'cmt_count',\n",
       "                                  'is_preferred_plus_seller', 'images'])])</pre></div></div></div><div class=\"sk-parallel\"><div class=\"sk-parallel-item\"><div class=\"sk-item\"><div class=\"sk-label-container\"><div class=\"sk-label sk-toggleable\"><input class=\"sk-toggleable__control sk-hidden--visually\" id=\"354f8b4f-2c80-4e4f-94e7-11428167bd5c\" type=\"checkbox\" ><label class=\"sk-toggleable__label\" for=\"354f8b4f-2c80-4e4f-94e7-11428167bd5c\">onehotencoder</label><div class=\"sk-toggleable__content\"><pre>['category', 'shop_location']</pre></div></div></div><div class=\"sk-serial\"><div class=\"sk-item\"><div class=\"sk-estimator sk-toggleable\"><input class=\"sk-toggleable__control sk-hidden--visually\" id=\"9067c31b-a7df-41ea-8f8c-7ea8c5a3133f\" type=\"checkbox\" ><label class=\"sk-toggleable__label\" for=\"9067c31b-a7df-41ea-8f8c-7ea8c5a3133f\">OneHotEncoder</label><div class=\"sk-toggleable__content\"><pre>OneHotEncoder()</pre></div></div></div></div></div></div><div class=\"sk-parallel-item\"><div class=\"sk-item\"><div class=\"sk-label-container\"><div class=\"sk-label sk-toggleable\"><input class=\"sk-toggleable__control sk-hidden--visually\" id=\"e6ae9f9d-fb9c-4b07-9500-0db19aec80bb\" type=\"checkbox\" ><label class=\"sk-toggleable__label\" for=\"e6ae9f9d-fb9c-4b07-9500-0db19aec80bb\">standardscaler</label><div class=\"sk-toggleable__content\"><pre>['item_public_time', 'item_be_got_time', 'sell_time', 'discount', 'options', 'rating_star', 'five_star', 'four_star', 'three_star', 'two_star', 'one_star', 'price_min', 'price_min_before_discount', 'price_max', 'price_max_before_discount', 'price', 'price_before_discount', 'liked_count', 'view_count', 'cmt_count', 'is_preferred_plus_seller', 'images']</pre></div></div></div><div class=\"sk-serial\"><div class=\"sk-item\"><div class=\"sk-estimator sk-toggleable\"><input class=\"sk-toggleable__control sk-hidden--visually\" id=\"5efcf7a8-2196-4146-be55-78c8d45f8657\" type=\"checkbox\" ><label class=\"sk-toggleable__label\" for=\"5efcf7a8-2196-4146-be55-78c8d45f8657\">StandardScaler</label><div class=\"sk-toggleable__content\"><pre>StandardScaler()</pre></div></div></div></div></div></div></div></div><div class=\"sk-item\"><div class=\"sk-estimator sk-toggleable\"><input class=\"sk-toggleable__control sk-hidden--visually\" id=\"a66bc245-6040-4326-852d-bfeef3ae8888\" type=\"checkbox\" ><label class=\"sk-toggleable__label\" for=\"a66bc245-6040-4326-852d-bfeef3ae8888\">MLPRegressor</label><div class=\"sk-toggleable__content\"><pre>MLPRegressor(alpha=0.001, hidden_layer_sizes=45, max_iter=10000, random_state=0)</pre></div></div></div></div></div></div></div>"
      ],
      "text/plain": [
       "Pipeline(steps=[('columntransformer',\n",
       "                 ColumnTransformer(remainder='passthrough',\n",
       "                                   transformers=[('onehotencoder',\n",
       "                                                  OneHotEncoder(),\n",
       "                                                  ['category',\n",
       "                                                   'shop_location']),\n",
       "                                                 ('standardscaler',\n",
       "                                                  StandardScaler(),\n",
       "                                                  ['item_public_time',\n",
       "                                                   'item_be_got_time',\n",
       "                                                   'sell_time', 'discount',\n",
       "                                                   'options', 'rating_star',\n",
       "                                                   'five_star', 'four_star',\n",
       "                                                   'three_star', 'two_star',\n",
       "                                                   'one_star', 'price_min',\n",
       "                                                   'price_min_before_discount',\n",
       "                                                   'price_max',\n",
       "                                                   'price_max_before_discount',\n",
       "                                                   'price',\n",
       "                                                   'price_before_discount',\n",
       "                                                   'liked_count', 'view_count',\n",
       "                                                   'cmt_count',\n",
       "                                                   'is_preferred_plus_seller',\n",
       "                                                   'images'])])),\n",
       "                ('mlpregressor',\n",
       "                 MLPRegressor(alpha=0.001, hidden_layer_sizes=45,\n",
       "                              max_iter=10000, random_state=0))])"
      ]
     },
     "execution_count": 142,
     "metadata": {},
     "output_type": "execute_result"
    }
   ],
   "source": [
    "full_pipeline = make_pipeline(column_transformer, MLPRegressor(alpha=best_alpha, hidden_layer_sizes=best_layer,\n",
    "                                                               activation='relu', solver='adam', random_state=0, max_iter=10000))\n",
    "full_pipeline.fit(rest_X_df, rest_y_sr)"
   ]
  },
  {
   "cell_type": "markdown",
   "metadata": {},
   "source": [
    "## Đánh giá mô hình tìm được"
   ]
  },
  {
   "cell_type": "markdown",
   "metadata": {},
   "source": [
    "Sau khi đã có mô hình tốt nhất fit vào tập train, ta sẽ dùng mô hình đó để dự đoán tập test cuối cùng"
   ]
  },
  {
   "cell_type": "code",
   "execution_count": 144,
   "metadata": {},
   "outputs": [
    {
     "data": {
      "text/plain": [
       "0.7094360643532869"
      ]
     },
     "execution_count": 144,
     "metadata": {},
     "output_type": "execute_result"
    }
   ],
   "source": [
    "compute_rr(test_y_sr, full_pipeline.predict(test_X_df), baseline_preds)"
   ]
  },
  {
   "cell_type": "code",
   "execution_count": null,
   "metadata": {},
   "outputs": [],
   "source": []
  }
 ],
 "metadata": {
  "kernelspec": {
   "display_name": "Python 3",
   "language": "python",
   "name": "python3"
  },
  "language_info": {
   "codemirror_mode": {
    "name": "ipython",
    "version": 3
   },
   "file_extension": ".py",
   "mimetype": "text/x-python",
   "name": "python",
   "nbconvert_exporter": "python",
   "pygments_lexer": "ipython3",
   "version": "3.8.3"
  }
 },
 "nbformat": 4,
 "nbformat_minor": 4
}
