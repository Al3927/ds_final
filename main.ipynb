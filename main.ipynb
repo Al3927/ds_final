{
 "cells": [
  {
   "cell_type": "markdown",
   "metadata": {},
   "source": [
    "# Đồ án Cuối kỳ \n",
    " Môn __Nhập môn khoa học dữ liệu__\n",
    " \n",
    " Khái quát về dự án (Tiếng Anh): https://github.com/cstotodile/ds_final/blob/main/README.md\n",
    " \n",
    "## Danh sách nhóm:\n",
    "\n",
    "No. 15\n",
    "\n",
    "18120184 - Nguyễn Nguyên Khang\n",
    "\n",
    "18120189 - Trần Đăng Khoa\n",
    "\n",
    "\n",
    "Task | Assigned\n",
    "------------ | -------------\n",
    "Data Crawler |  Nguyễn Nguyên Khang\n",
    "Data Exploration & Preprocessing |  Nguyễn Nguyên Khang, Trần Đăng Khoa (hỗ trợ)\n",
    "Data Modelling (Train models and review them) |  Trần Đăng Khoa\n",
    "Notebook & Github Readme.md | Nguyễn Nguyên Khang & Trần Đăng Khoa"
   ]
  },
  {
   "cell_type": "markdown",
   "metadata": {},
   "source": [
    "# Mục lục\n",
    "- [Câu hỏi cần trả lời](#Câu-hỏi-cần-trả-lời)\n",
    "   - [Dữ liệu](#Dữ-liệu)\n",
    "   - [Câu hỏi và cảm hứng](#Câu-hỏi-đặt-ra)\n",
    "- [Thu thập dữ liệu](#Thu-thập-dữ-liệu)\n",
    "- [Khám phá dữ liệu](#Khám-phá-dữ-liệu)\n",
    "  - [Mở file và chỉnh sửa thông số hiển thị](#Mở-file-và-chỉnh-sửa-thông-số-hiển-thị)\n",
    "  - [Mỗi dòng có ý nghĩa gì? Có vấn đề các dòng có ý nghĩa khác nhau không?](#Mỗi-dòng-có-ý-nghĩa-gì?-Có-vấn-đề-các-dòng-có-ý-nghĩa-khác-nhau-không?)\n",
    "  - [Xử lý giá trị trùng lặp](#Xử-lý-giá-trị-trùng-lặp)   \n",
    "  - [Xử lý khác biệt ngữ nghĩa do parse data từ json](#Xử-lý-khác-biệt-ngữ-nghĩa-do-parse-data-từ-json)\n",
    "  - [Phân bố giá trị của cột có kiểu dữ liệu dạng số](#Phân-bố-giá-trị-của-cột-có-kiểu-dữ-liệu-dạng-số)\n",
    "  - [Phân bố giá trị của cột có kiểu dữ liệu không phải dạng số](#Phân-bố-giá-trị-của-cột-có-kiểu-dữ-liệu-không-phải-dạng-số)\n",
    "- [Tiền xử lý dữ liệu](#Tiền-xử-lý-dữ-liệu)\n",
    "  - [Xử lý dữ liệu thiếu](#Xử-lý-dữ-liệu-thiếu)\n",
    "  - [Xử lý kiểu dữ liệu cột](#Xử-lý-kiểu-dữ-liệu-cột)\n",
    "  - [Xử lý giá trị không hợp lệ](#Xử-lý-giá-trị-không-hợp-lệ)\n",
    "  - [Tiền xử lý cho tập huấn luyện](#Tiền-xử-lý-cho-tập-huấn-luyện)\n",
    "- [Mô hình hóa dữ liệu](#Mô-hình-hóa-dữ-liệu)\n",
    "  - [Tách các tập](#Tách-các-tập) \n",
    "  - [Tìm mô hình tốt nhất](#Tìm-mô-hình-tốt-nhất)\n",
    "  - [Đánh giá mô hình tìm được](#Đánh-giá-mô-hình-tìm-được)\n",
    "- [Nhìn lại quá trình làm đồ án](#Nhìn-lại-quá-trình-làm-đồ-án)\n",
    "  - [Khó khăn](#Khó-khăn)\n",
    "  - [Những thứ học được](#Những-thứ-học-được)\n",
    "  - [Những điều cần bổ sung nếu có thêm thời gian](#Những-điều-cần-bổ-sung-nếu-có-thêm-thời-gian)\n",
    "- [Tài liệu tham khảo](#Tài-liệu-tham-khảo)"
   ]
  },
  {
   "cell_type": "markdown",
   "metadata": {},
   "source": [
    "## Câu hỏi cần trả lời\n",
    "### Dữ liệu\n",
    "\n",
    "Các món hàng _Thời trang nam_ trên shopee\n",
    "\n",
    "Input là các thuộc tính của món hàng mà được biểu hiện ra trên giao diện của shopee.vn cho người dùng thấy, và thuộc tính thời gian của món hàng bao gồm: Thời gian sản phẩm được đăng, thời gian sản phẩm được lấy dữ liệu về máy, và thời gian sản phẩm được bày bán\n",
    "\n",
    "Output là số lượng hàng đã bán được trong thời gian món hàng được đăng lên shopee cho đến lúc được lấy dữ liệu về máy\n",
    "\n",
    "Dữ liệu đúng vì được request từ api của shopee, có nghĩa là shopee cũng đang sử dụng dữ liệu này để hiện thị cho người tiêu dùng xem.\n",
    "\n",
    "### Câu hỏi và cảm hứng\n",
    "\n",
    "Dự đoán số lượng hàng bán được của một sản phẩm _Thời trang Nam_ tại một thời điểm trên shopee.vn\n",
    "\n",
    "Cảm hứng từ việc muốn tăng doanh số bán được trên shopee (tự nghĩ)\n",
    "\n"
   ]
  },
  {
   "cell_type": "markdown",
   "metadata": {},
   "source": [
    "## Thu thập dữ liệu\n",
    "\n",
    "Toàn bộ phần thu thập dữ liệu được nhóm đặt trong thư mục _Data Crawler_ và quá trình làm việc trong branch [_develope-Al27_](https://github.com/cstotodile/ds_final/tree/develope-Al27)"
   ]
  },
  {
   "cell_type": "markdown",
   "metadata": {},
   "source": [
    "## Khám phá dữ liệu\n",
    "\n",
    "Quá trình làm việc của nhóm trong branch [Preprocessing](https://github.com/cstotodile/ds_final/tree/Preprocessing)\n"
   ]
  },
  {
   "cell_type": "markdown",
   "metadata": {},
   "source": [
    "### Import \n",
    "\n",
    "import trước các thư viện re, numpy, pandas, sklearn"
   ]
  },
  {
   "cell_type": "code",
   "execution_count": 1,
   "metadata": {},
   "outputs": [],
   "source": [
    "import re\n",
    "import pandas as pd\n",
    "import numpy as np\n",
    "%matplotlib inline\n",
    "import matplotlib.pyplot as plt\n",
    "import seaborn as sns\n",
    "\n",
    "from numpy import mean\n",
    "from numpy import std\n",
    "from sklearn.model_selection import train_test_split\n",
    "from sklearn import preprocessing\n",
    "from sklearn.compose import ColumnTransformer\n",
    "from sklearn.compose import make_column_transformer\n",
    "from sklearn.preprocessing import LabelEncoder\n",
    "from sklearn.preprocessing import OneHotEncoder\n",
    "from sklearn.feature_extraction.text import CountVectorizer\n",
    "from sklearn.preprocessing import MinMaxScaler\n",
    "from sklearn.preprocessing import StandardScaler\n",
    "from sklearn.base import BaseEstimator, TransformerMixin\n",
    "\n",
    "from sklearn.impute import SimpleImputer\n",
    "from sklearn.impute import KNNImputer\n",
    "from sklearn.pipeline import Pipeline, make_pipeline\n",
    "from sklearn import set_config\n",
    "set_config(display='diagram') # Để trực quan hóa pipeline\n",
    "# from sklearn.cross_validation import train_test_split\n",
    "\n",
    "from sklearn.neural_network import MLPRegressor\n",
    "from sklearn.linear_model import LinearRegression"
   ]
  },
  {
   "cell_type": "markdown",
   "metadata": {},
   "source": [
    "### Mở file và chỉnh sửa thông số hiển thị\n",
    "\n",
    "Do dataset hiện đang nằm ở nhiều file khác nhau do có category khác nhau nên ta tiến hành gộp data bằng lệnh concat của pandas."
   ]
  },
  {
   "cell_type": "code",
   "execution_count": 2,
   "metadata": {},
<<<<<<< HEAD
=======
   "outputs": [],
   "source": [
    "#Set Option\n",
    "pd.set_option('max_colwidth', 10000)\n",
    "pd.set_option('display.max_rows', 500)\n",
    "pd.set_option('display.max_columns', 500)\n",
    "pd.set_option('display.width', 1000)"
   ]
  },
  {
   "cell_type": "markdown",
   "metadata": {},
   "source": [
    " - Mở file\n",
    " \n",
    "  Thử mở file thuộc danh mục _Áo ngắn tay không cổ_ và đánh giá qua về data trước khi gộp"
   ]
  },
  {
   "cell_type": "code",
   "execution_count": 3,
   "metadata": {},
   "outputs": [
    {
     "data": {
      "text/html": [
       "<div>\n",
       "<style scoped>\n",
       "    .dataframe tbody tr th:only-of-type {\n",
       "        vertical-align: middle;\n",
       "    }\n",
       "\n",
       "    .dataframe tbody tr th {\n",
       "        vertical-align: top;\n",
       "    }\n",
       "\n",
       "    .dataframe thead th {\n",
       "        text-align: right;\n",
       "    }\n",
       "</style>\n",
       "<table border=\"1\" class=\"dataframe\">\n",
       "  <thead>\n",
       "    <tr style=\"text-align: right;\">\n",
       "      <th></th>\n",
       "      <th>name</th>\n",
       "      <th>shop_location</th>\n",
       "      <th>item_public_time</th>\n",
       "      <th>item_be_got_time</th>\n",
       "      <th>sell_time</th>\n",
       "      <th>shopee_verified</th>\n",
       "      <th>discount</th>\n",
       "      <th>is_adult</th>\n",
       "      <th>options</th>\n",
       "      <th>show_official_shop_label_in_title</th>\n",
       "      <th>rating_star</th>\n",
       "      <th>five_star</th>\n",
       "      <th>four_star</th>\n",
       "      <th>three_star</th>\n",
       "      <th>two_star</th>\n",
       "      <th>one_star</th>\n",
       "      <th>flash_sale</th>\n",
       "      <th>upcoming_flash_sale</th>\n",
       "      <th>price_min</th>\n",
       "      <th>price_min_before_discoun</th>\n",
       "      <th>price_max</th>\n",
       "      <th>price_max_before_discount</th>\n",
       "      <th>price</th>\n",
       "      <th>price_before_discount</th>\n",
       "      <th>coin_earn_label</th>\n",
       "      <th>liked_count</th>\n",
       "      <th>view_count</th>\n",
       "      <th>cmt_count</th>\n",
       "      <th>is_preferred_plus_seller</th>\n",
       "      <th>show_free_shipping</th>\n",
       "      <th>images</th>\n",
       "      <th>video_info_list</th>\n",
       "      <th>historical_sold</th>\n",
       "    </tr>\n",
       "  </thead>\n",
       "  <tbody>\n",
       "    <tr>\n",
       "      <th>0</th>\n",
       "      <td>Áo thun phông Unisex nam nữ 2 màu Trắng Đen tay ngắn cổ tròn dáng ôm phối cực cá tính - V107</td>\n",
       "      <td>TP. Hồ Chí Minh</td>\n",
       "      <td>1607316973</td>\n",
       "      <td>1609949428</td>\n",
       "      <td>2632455</td>\n",
       "      <td>True</td>\n",
       "      <td>39%</td>\n",
       "      <td>False</td>\n",
       "      <td>8</td>\n",
       "      <td>False</td>\n",
       "      <td>5.000000</td>\n",
       "      <td>4</td>\n",
       "      <td>0</td>\n",
       "      <td>0</td>\n",
       "      <td>0</td>\n",
       "      <td>0</td>\n",
       "      <td>None</td>\n",
       "      <td>None</td>\n",
       "      <td>14900000000</td>\n",
       "      <td>24500000000</td>\n",
       "      <td>14900000000</td>\n",
       "      <td>24500000000</td>\n",
       "      <td>14900000000</td>\n",
       "      <td>24500000000</td>\n",
       "      <td>None</td>\n",
       "      <td>7</td>\n",
       "      <td>1048</td>\n",
       "      <td>4</td>\n",
       "      <td>True</td>\n",
       "      <td>False</td>\n",
       "      <td>8</td>\n",
       "      <td>0</td>\n",
       "      <td>18</td>\n",
       "    </tr>\n",
       "    <tr>\n",
       "      <th>1</th>\n",
       "      <td>Áo Thun Trơn Nam [FREESHIP] Áo phông nam tay ngắn 100% cotton Trắng Đen dáng ôm vừa vặn AT01</td>\n",
       "      <td>TP. Hồ Chí Minh</td>\n",
       "      <td>1596338054</td>\n",
       "      <td>1609949428</td>\n",
       "      <td>13611374</td>\n",
       "      <td>True</td>\n",
       "      <td>49%</td>\n",
       "      <td>False</td>\n",
       "      <td>35</td>\n",
       "      <td>False</td>\n",
       "      <td>4.947977</td>\n",
       "      <td>166</td>\n",
       "      <td>5</td>\n",
       "      <td>2</td>\n",
       "      <td>0</td>\n",
       "      <td>0</td>\n",
       "      <td>None</td>\n",
       "      <td>None</td>\n",
       "      <td>10900000000</td>\n",
       "      <td>10900000000</td>\n",
       "      <td>10900000000</td>\n",
       "      <td>21500000000</td>\n",
       "      <td>10900000000</td>\n",
       "      <td>10900000000</td>\n",
       "      <td>None</td>\n",
       "      <td>109</td>\n",
       "      <td>10540</td>\n",
       "      <td>173</td>\n",
       "      <td>True</td>\n",
       "      <td>False</td>\n",
       "      <td>9</td>\n",
       "      <td>0</td>\n",
       "      <td>526</td>\n",
       "    </tr>\n",
       "    <tr>\n",
       "      <th>2</th>\n",
       "      <td>[SALE 50%] - Áo Thun Nam Cổ Tròn Cao Cấp ( nhiều màu) Tay Ngắn, chất cotton bề mặt vải mềm Mịn cực hot</td>\n",
       "      <td>TP. Hồ Chí Minh</td>\n",
       "      <td>1603987674</td>\n",
       "      <td>1609949428</td>\n",
       "      <td>5961754</td>\n",
       "      <td>True</td>\n",
       "      <td>50%</td>\n",
       "      <td>False</td>\n",
       "      <td>48</td>\n",
       "      <td>False</td>\n",
       "      <td>4.885417</td>\n",
       "      <td>89</td>\n",
       "      <td>4</td>\n",
       "      <td>2</td>\n",
       "      <td>1</td>\n",
       "      <td>0</td>\n",
       "      <td>None</td>\n",
       "      <td>None</td>\n",
       "      <td>4950000000</td>\n",
       "      <td>9900000000</td>\n",
       "      <td>4950000000</td>\n",
       "      <td>9900000000</td>\n",
       "      <td>4950000000</td>\n",
       "      <td>9900000000</td>\n",
       "      <td>None</td>\n",
       "      <td>25</td>\n",
       "      <td>4025</td>\n",
       "      <td>96</td>\n",
       "      <td>True</td>\n",
       "      <td>False</td>\n",
       "      <td>9</td>\n",
       "      <td>0</td>\n",
       "      <td>431</td>\n",
       "    </tr>\n",
       "    <tr>\n",
       "      <th>3</th>\n",
       "      <td>Áo thun nam unisex 100% cotton basic Trắng Đen áo phông co giãn cao cấp dáng rộng dễ phối đồ - V69</td>\n",
       "      <td>TP. Hồ Chí Minh</td>\n",
       "      <td>1596082707</td>\n",
       "      <td>1609949428</td>\n",
       "      <td>13866721</td>\n",
       "      <td>True</td>\n",
       "      <td>39%</td>\n",
       "      <td>False</td>\n",
       "      <td>8</td>\n",
       "      <td>False</td>\n",
       "      <td>5.000000</td>\n",
       "      <td>66</td>\n",
       "      <td>0</td>\n",
       "      <td>0</td>\n",
       "      <td>0</td>\n",
       "      <td>0</td>\n",
       "      <td>None</td>\n",
       "      <td>None</td>\n",
       "      <td>14900000000</td>\n",
       "      <td>24500000000</td>\n",
       "      <td>14900000000</td>\n",
       "      <td>24500000000</td>\n",
       "      <td>14900000000</td>\n",
       "      <td>24500000000</td>\n",
       "      <td>None</td>\n",
       "      <td>85</td>\n",
       "      <td>4551</td>\n",
       "      <td>66</td>\n",
       "      <td>True</td>\n",
       "      <td>False</td>\n",
       "      <td>7</td>\n",
       "      <td>0</td>\n",
       "      <td>141</td>\n",
       "    </tr>\n",
       "    <tr>\n",
       "      <th>4</th>\n",
       "      <td>🔥XẢ HÀNG🔥 Áo đôi - áo cặp nam nữ dễ thương cực HOT</td>\n",
       "      <td>Hà Nội</td>\n",
       "      <td>1590391265</td>\n",
       "      <td>1609949428</td>\n",
       "      <td>19558163</td>\n",
       "      <td>False</td>\n",
       "      <td>None</td>\n",
       "      <td>False</td>\n",
       "      <td>10</td>\n",
       "      <td>False</td>\n",
       "      <td>4.687500</td>\n",
       "      <td>27</td>\n",
       "      <td>1</td>\n",
       "      <td>3</td>\n",
       "      <td>1</td>\n",
       "      <td>0</td>\n",
       "      <td>None</td>\n",
       "      <td>None</td>\n",
       "      <td>7200000000</td>\n",
       "      <td>-1</td>\n",
       "      <td>7200000000</td>\n",
       "      <td>-1</td>\n",
       "      <td>7200000000</td>\n",
       "      <td>0</td>\n",
       "      <td>None</td>\n",
       "      <td>128</td>\n",
       "      <td>3613</td>\n",
       "      <td>32</td>\n",
       "      <td>False</td>\n",
       "      <td>False</td>\n",
       "      <td>1</td>\n",
       "      <td>0</td>\n",
       "      <td>158</td>\n",
       "    </tr>\n",
       "  </tbody>\n",
       "</table>\n",
       "</div>"
      ],
      "text/plain": [
       "                                                                                                     name    shop_location  item_public_time  item_be_got_time  sell_time  shopee_verified discount  is_adult  options  show_official_shop_label_in_title  rating_star  five_star  four_star  three_star  two_star  one_star flash_sale upcoming_flash_sale    price_min  price_min_before_discoun    price_max  price_max_before_discount        price  price_before_discount coin_earn_label  liked_count  view_count  cmt_count  is_preferred_plus_seller  show_free_shipping  images  video_info_list  historical_sold\n",
       "0            Áo thun phông Unisex nam nữ 2 màu Trắng Đen tay ngắn cổ tròn dáng ôm phối cực cá tính - V107  TP. Hồ Chí Minh        1607316973        1609949428    2632455             True      39%     False        8                              False     5.000000          4          0           0         0         0       None                None  14900000000               24500000000  14900000000                24500000000  14900000000            24500000000            None            7        1048          4                      True               False       8                0               18\n",
       "1            Áo Thun Trơn Nam [FREESHIP] Áo phông nam tay ngắn 100% cotton Trắng Đen dáng ôm vừa vặn AT01  TP. Hồ Chí Minh        1596338054        1609949428   13611374             True      49%     False       35                              False     4.947977        166          5           2         0         0       None                None  10900000000               10900000000  10900000000                21500000000  10900000000            10900000000            None          109       10540        173                      True               False       9                0              526\n",
       "2  [SALE 50%] - Áo Thun Nam Cổ Tròn Cao Cấp ( nhiều màu) Tay Ngắn, chất cotton bề mặt vải mềm Mịn cực hot  TP. Hồ Chí Minh        1603987674        1609949428    5961754             True      50%     False       48                              False     4.885417         89          4           2         1         0       None                None   4950000000                9900000000   4950000000                 9900000000   4950000000             9900000000            None           25        4025         96                      True               False       9                0              431\n",
       "3      Áo thun nam unisex 100% cotton basic Trắng Đen áo phông co giãn cao cấp dáng rộng dễ phối đồ - V69  TP. Hồ Chí Minh        1596082707        1609949428   13866721             True      39%     False        8                              False     5.000000         66          0           0         0         0       None                None  14900000000               24500000000  14900000000                24500000000  14900000000            24500000000            None           85        4551         66                      True               False       7                0              141\n",
       "4                                                      🔥XẢ HÀNG🔥 Áo đôi - áo cặp nam nữ dễ thương cực HOT           Hà Nội        1590391265        1609949428   19558163            False     None     False       10                              False     4.687500         27          1           3         1         0       None                None   7200000000                        -1   7200000000                         -1   7200000000                      0            None          128        3613         32                     False               False       1                0              158"
      ]
     },
     "execution_count": 3,
     "metadata": {},
     "output_type": "execute_result"
    }
   ],
   "source": [
    "aoNganTayKhongCo_df = pd.read_csv('Data/ShoppeItem_thoiTrangNam_aoNganTayKhongCo_0-949.tsv', sep='\\t')\n",
    "aoNganTayKhongCo_df.head()"
   ]
  },
  {
   "cell_type": "markdown",
   "metadata": {},
   "source": [
    "Ta thấy ngay cột `name` nếu sử dụng chiến lược _Bag of Words_ thì sẽ tăng số lượng cột lên rất nhiều, dễ gây overfitting. Tuy nhiên trong cột name vẫn mang rõ đặc trưng của nhóm hàng này là _Áo ngắn tay không cổ_.\n",
    "\n",
    "Vậy trước khi gộp chung vào thành 1 dataset lớn, ta sẽ thêm vào data frame cột `category` để xác định món hàng đó thuộc nhóm nào, và bỏ cột `name` đi."
   ]
  },
  {
   "cell_type": "code",
   "execution_count": 4,
   "metadata": {},
   "outputs": [],
   "source": [
    "def removeNameAddCategory(df, category):\n",
    "    df = df.reindex(columns = ['category'] + df.columns.tolist())\n",
    "    df['category'] = df['category'].fillna(category)\n",
    "    df = df.drop('name', axis = 1)\n",
    "    return df"
   ]
  },
  {
   "cell_type": "code",
   "execution_count": 5,
   "metadata": {},
   "outputs": [
    {
     "data": {
      "text/html": [
       "<div>\n",
       "<style scoped>\n",
       "    .dataframe tbody tr th:only-of-type {\n",
       "        vertical-align: middle;\n",
       "    }\n",
       "\n",
       "    .dataframe tbody tr th {\n",
       "        vertical-align: top;\n",
       "    }\n",
       "\n",
       "    .dataframe thead th {\n",
       "        text-align: right;\n",
       "    }\n",
       "</style>\n",
       "<table border=\"1\" class=\"dataframe\">\n",
       "  <thead>\n",
       "    <tr style=\"text-align: right;\">\n",
       "      <th></th>\n",
       "      <th>category</th>\n",
       "      <th>shop_location</th>\n",
       "      <th>item_public_time</th>\n",
       "      <th>item_be_got_time</th>\n",
       "      <th>sell_time</th>\n",
       "      <th>shopee_verified</th>\n",
       "      <th>discount</th>\n",
       "      <th>is_adult</th>\n",
       "      <th>options</th>\n",
       "      <th>show_official_shop_label_in_title</th>\n",
       "      <th>rating_star</th>\n",
       "      <th>five_star</th>\n",
       "      <th>four_star</th>\n",
       "      <th>three_star</th>\n",
       "      <th>two_star</th>\n",
       "      <th>one_star</th>\n",
       "      <th>flash_sale</th>\n",
       "      <th>upcoming_flash_sale</th>\n",
       "      <th>price_min</th>\n",
       "      <th>price_min_before_discoun</th>\n",
       "      <th>price_max</th>\n",
       "      <th>price_max_before_discount</th>\n",
       "      <th>price</th>\n",
       "      <th>price_before_discount</th>\n",
       "      <th>coin_earn_label</th>\n",
       "      <th>liked_count</th>\n",
       "      <th>view_count</th>\n",
       "      <th>cmt_count</th>\n",
       "      <th>is_preferred_plus_seller</th>\n",
       "      <th>show_free_shipping</th>\n",
       "      <th>images</th>\n",
       "      <th>video_info_list</th>\n",
       "      <th>historical_sold</th>\n",
       "    </tr>\n",
       "  </thead>\n",
       "  <tbody>\n",
       "    <tr>\n",
       "      <th>0</th>\n",
       "      <td>Ao ngan tay khong co</td>\n",
       "      <td>TP. Hồ Chí Minh</td>\n",
       "      <td>1607316973</td>\n",
       "      <td>1609949428</td>\n",
       "      <td>2632455</td>\n",
       "      <td>True</td>\n",
       "      <td>39%</td>\n",
       "      <td>False</td>\n",
       "      <td>8</td>\n",
       "      <td>False</td>\n",
       "      <td>5.000000</td>\n",
       "      <td>4</td>\n",
       "      <td>0</td>\n",
       "      <td>0</td>\n",
       "      <td>0</td>\n",
       "      <td>0</td>\n",
       "      <td>None</td>\n",
       "      <td>None</td>\n",
       "      <td>14900000000</td>\n",
       "      <td>24500000000</td>\n",
       "      <td>14900000000</td>\n",
       "      <td>24500000000</td>\n",
       "      <td>14900000000</td>\n",
       "      <td>24500000000</td>\n",
       "      <td>None</td>\n",
       "      <td>7</td>\n",
       "      <td>1048</td>\n",
       "      <td>4</td>\n",
       "      <td>True</td>\n",
       "      <td>False</td>\n",
       "      <td>8</td>\n",
       "      <td>0</td>\n",
       "      <td>18</td>\n",
       "    </tr>\n",
       "    <tr>\n",
       "      <th>1</th>\n",
       "      <td>Ao ngan tay khong co</td>\n",
       "      <td>TP. Hồ Chí Minh</td>\n",
       "      <td>1596338054</td>\n",
       "      <td>1609949428</td>\n",
       "      <td>13611374</td>\n",
       "      <td>True</td>\n",
       "      <td>49%</td>\n",
       "      <td>False</td>\n",
       "      <td>35</td>\n",
       "      <td>False</td>\n",
       "      <td>4.947977</td>\n",
       "      <td>166</td>\n",
       "      <td>5</td>\n",
       "      <td>2</td>\n",
       "      <td>0</td>\n",
       "      <td>0</td>\n",
       "      <td>None</td>\n",
       "      <td>None</td>\n",
       "      <td>10900000000</td>\n",
       "      <td>10900000000</td>\n",
       "      <td>10900000000</td>\n",
       "      <td>21500000000</td>\n",
       "      <td>10900000000</td>\n",
       "      <td>10900000000</td>\n",
       "      <td>None</td>\n",
       "      <td>109</td>\n",
       "      <td>10540</td>\n",
       "      <td>173</td>\n",
       "      <td>True</td>\n",
       "      <td>False</td>\n",
       "      <td>9</td>\n",
       "      <td>0</td>\n",
       "      <td>526</td>\n",
       "    </tr>\n",
       "    <tr>\n",
       "      <th>2</th>\n",
       "      <td>Ao ngan tay khong co</td>\n",
       "      <td>TP. Hồ Chí Minh</td>\n",
       "      <td>1603987674</td>\n",
       "      <td>1609949428</td>\n",
       "      <td>5961754</td>\n",
       "      <td>True</td>\n",
       "      <td>50%</td>\n",
       "      <td>False</td>\n",
       "      <td>48</td>\n",
       "      <td>False</td>\n",
       "      <td>4.885417</td>\n",
       "      <td>89</td>\n",
       "      <td>4</td>\n",
       "      <td>2</td>\n",
       "      <td>1</td>\n",
       "      <td>0</td>\n",
       "      <td>None</td>\n",
       "      <td>None</td>\n",
       "      <td>4950000000</td>\n",
       "      <td>9900000000</td>\n",
       "      <td>4950000000</td>\n",
       "      <td>9900000000</td>\n",
       "      <td>4950000000</td>\n",
       "      <td>9900000000</td>\n",
       "      <td>None</td>\n",
       "      <td>25</td>\n",
       "      <td>4025</td>\n",
       "      <td>96</td>\n",
       "      <td>True</td>\n",
       "      <td>False</td>\n",
       "      <td>9</td>\n",
       "      <td>0</td>\n",
       "      <td>431</td>\n",
       "    </tr>\n",
       "  </tbody>\n",
       "</table>\n",
       "</div>"
      ],
      "text/plain": [
       "               category    shop_location  item_public_time  item_be_got_time  sell_time  shopee_verified discount  is_adult  options  show_official_shop_label_in_title  rating_star  five_star  four_star  three_star  two_star  one_star flash_sale upcoming_flash_sale    price_min  price_min_before_discoun    price_max  price_max_before_discount        price  price_before_discount coin_earn_label  liked_count  view_count  cmt_count  is_preferred_plus_seller  show_free_shipping  images  video_info_list  historical_sold\n",
       "0  Ao ngan tay khong co  TP. Hồ Chí Minh        1607316973        1609949428    2632455             True      39%     False        8                              False     5.000000          4          0           0         0         0       None                None  14900000000               24500000000  14900000000                24500000000  14900000000            24500000000            None            7        1048          4                      True               False       8                0               18\n",
       "1  Ao ngan tay khong co  TP. Hồ Chí Minh        1596338054        1609949428   13611374             True      49%     False       35                              False     4.947977        166          5           2         0         0       None                None  10900000000               10900000000  10900000000                21500000000  10900000000            10900000000            None          109       10540        173                      True               False       9                0              526\n",
       "2  Ao ngan tay khong co  TP. Hồ Chí Minh        1603987674        1609949428    5961754             True      50%     False       48                              False     4.885417         89          4           2         1         0       None                None   4950000000                9900000000   4950000000                 9900000000   4950000000             9900000000            None           25        4025         96                      True               False       9                0              431"
      ]
     },
     "execution_count": 5,
     "metadata": {},
     "output_type": "execute_result"
    }
   ],
   "source": [
    "aoNganTayKhongCo_df = removeNameAddCategory(aoNganTayKhongCo_df, category = 'Ao ngan tay khong co')\n",
    "aoNganTayKhongCo_df.head(3)"
   ]
  },
  {
   "cell_type": "markdown",
   "metadata": {},
   "source": [
    "Ta xử lý tương tự cho các dataset còn lại"
   ]
  },
  {
   "cell_type": "code",
   "execution_count": 6,
   "metadata": {},
   "outputs": [],
   "source": [
    "aoSoMi_df = pd.read_csv('Data/ShoppeItem_thoiTrangNam_aoSoMi_0-949.tsv', sep='\\t')\n",
    "baloTuiVi_df = pd.read_csv('Data/ShoppeItem_thoiTrangNam_baloTuiVi_0-949.tsv', sep='\\t')\n",
    "giayDepNam_df = pd.read_csv('Data/ShoppeItem_thoiTrangNam_giayDepNam_0-949.tsv', sep='\\t')\n",
    "phuKienNam_df = pd.read_csv('Data/ShoppeItem_thoiTrangNam_phuKienNam_0-949.tsv', sep='\\t')\n",
    "Quan_df = pd.read_csv('Data/ShoppeItem_thoiTrangNam_Quan_0-949.tsv', sep='\\t')\n",
    "\n",
    "aoSoMi_df = removeNameAddCategory(aoSoMi_df, category = 'Ao so mi')\n",
    "baloTuiVi_df = removeNameAddCategory(baloTuiVi_df, category = 'Balo/ Tui/ Vi')\n",
    "giayDepNam_df = removeNameAddCategory(giayDepNam_df, category = 'Giay dep nam')\n",
    "phuKienNam_df = removeNameAddCategory(phuKienNam_df, category = 'Phu kien Nam')\n",
    "Quan_df = removeNameAddCategory(Quan_df, category = 'Quan')"
   ]
  },
  {
   "cell_type": "markdown",
   "metadata": {},
   "source": [
    "Tiếp theo, ta tiến hành gộp các dataset này lại với nhau"
   ]
  },
  {
   "cell_type": "code",
   "execution_count": 7,
   "metadata": {},
   "outputs": [],
   "source": [
    "frames = [aoNganTayKhongCo_df,aoSoMi_df,baloTuiVi_df,giayDepNam_df,phuKienNam_df,Quan_df]\n",
    "\n",
    "items_df = pd.concat(frames, ignore_index=True, sort=False)\n",
    "\n",
    "# Sử dụng lệnh dưới thay vì lệnh đang dùng ở phía trên, các dataframe được gộp với nhau \n",
    "# nhưng vẫn có thể gọi riêng một dataframe thông qua key.\n",
    "# Trường hợp này ta có thể áp dụng gộp rồi mới thêm cột category\n",
    "# Tuy nhiên chỉ số index sẽ không chạy từ 0 đến hết mà giữ nguyên ở mỗi bảng.\n",
    "\n",
    "# items_df = pd.concat(frames, keys = [aoNganTayKhongCo', 'aoSoMi', 'baloTuiVi', 'giayDepNam', 'phuKienNam', 'Quan'])"
   ]
  },
  {
   "cell_type": "code",
   "execution_count": 8,
   "metadata": {},
>>>>>>> parent of c59b306... add CombineData
   "outputs": [
    {
     "data": {
      "text/html": [
       "<div>\n",
       "<style scoped>\n",
       "    .dataframe tbody tr th:only-of-type {\n",
       "        vertical-align: middle;\n",
       "    }\n",
       "\n",
       "    .dataframe tbody tr th {\n",
       "        vertical-align: top;\n",
       "    }\n",
       "\n",
       "    .dataframe thead th {\n",
       "        text-align: right;\n",
       "    }\n",
       "</style>\n",
       "<table border=\"1\" class=\"dataframe\">\n",
       "  <thead>\n",
       "    <tr style=\"text-align: right;\">\n",
       "      <th></th>\n",
       "      <th>category</th>\n",
       "      <th>shop_location</th>\n",
       "      <th>item_public_time</th>\n",
       "      <th>item_be_got_time</th>\n",
       "      <th>sell_time</th>\n",
       "      <th>shopee_verified</th>\n",
       "      <th>discount</th>\n",
       "      <th>is_adult</th>\n",
       "      <th>options</th>\n",
       "      <th>show_official_shop_label_in_title</th>\n",
       "      <th>rating_star</th>\n",
       "      <th>five_star</th>\n",
       "      <th>four_star</th>\n",
       "      <th>three_star</th>\n",
       "      <th>two_star</th>\n",
       "      <th>one_star</th>\n",
       "      <th>flash_sale</th>\n",
       "      <th>upcoming_flash_sale</th>\n",
       "      <th>price_min</th>\n",
       "      <th>price_min_before_discoun</th>\n",
       "      <th>price_max</th>\n",
       "      <th>price_max_before_discount</th>\n",
       "      <th>price</th>\n",
       "      <th>price_before_discount</th>\n",
       "      <th>coin_earn_label</th>\n",
       "      <th>liked_count</th>\n",
       "      <th>view_count</th>\n",
       "      <th>cmt_count</th>\n",
       "      <th>is_preferred_plus_seller</th>\n",
       "      <th>show_free_shipping</th>\n",
       "      <th>images</th>\n",
       "      <th>video_info_list</th>\n",
       "      <th>historical_sold</th>\n",
       "    </tr>\n",
       "  </thead>\n",
       "  <tbody>\n",
       "    <tr>\n",
       "      <th>0</th>\n",
       "      <td>Ao ngan tay khong co</td>\n",
       "      <td>TP. Hồ Chí Minh</td>\n",
       "      <td>1.607317e+09</td>\n",
       "      <td>1.609949e+09</td>\n",
       "      <td>2632455.0</td>\n",
       "      <td>True</td>\n",
       "      <td>39%</td>\n",
       "      <td>False</td>\n",
       "      <td>8.0</td>\n",
       "      <td>False</td>\n",
       "      <td>5.000000</td>\n",
       "      <td>4.0</td>\n",
       "      <td>0.0</td>\n",
       "      <td>0.0</td>\n",
       "      <td>0.0</td>\n",
       "      <td>0.0</td>\n",
       "      <td>None</td>\n",
       "      <td>None</td>\n",
       "      <td>1.490000e+10</td>\n",
       "      <td>2.450000e+10</td>\n",
       "      <td>1.490000e+10</td>\n",
       "      <td>2.450000e+10</td>\n",
       "      <td>1.490000e+10</td>\n",
       "      <td>2.450000e+10</td>\n",
       "      <td>None</td>\n",
       "      <td>7.0</td>\n",
       "      <td>1048.0</td>\n",
       "      <td>4.0</td>\n",
       "      <td>True</td>\n",
       "      <td>False</td>\n",
       "      <td>8.0</td>\n",
       "      <td>0.0</td>\n",
       "      <td>18.0</td>\n",
       "    </tr>\n",
       "    <tr>\n",
       "      <th>1</th>\n",
       "      <td>Ao ngan tay khong co</td>\n",
       "      <td>TP. Hồ Chí Minh</td>\n",
       "      <td>1.596338e+09</td>\n",
       "      <td>1.609949e+09</td>\n",
       "      <td>13611374.0</td>\n",
       "      <td>True</td>\n",
       "      <td>49%</td>\n",
       "      <td>False</td>\n",
       "      <td>35.0</td>\n",
       "      <td>False</td>\n",
       "      <td>4.947977</td>\n",
       "      <td>166.0</td>\n",
       "      <td>5.0</td>\n",
       "      <td>2.0</td>\n",
       "      <td>0.0</td>\n",
       "      <td>0.0</td>\n",
       "      <td>None</td>\n",
       "      <td>None</td>\n",
       "      <td>1.090000e+10</td>\n",
       "      <td>1.090000e+10</td>\n",
       "      <td>1.090000e+10</td>\n",
       "      <td>2.150000e+10</td>\n",
       "      <td>1.090000e+10</td>\n",
       "      <td>1.090000e+10</td>\n",
       "      <td>None</td>\n",
       "      <td>109.0</td>\n",
       "      <td>10540.0</td>\n",
       "      <td>173.0</td>\n",
       "      <td>True</td>\n",
       "      <td>False</td>\n",
       "      <td>9.0</td>\n",
       "      <td>0.0</td>\n",
       "      <td>526.0</td>\n",
       "    </tr>\n",
       "    <tr>\n",
       "      <th>2</th>\n",
       "      <td>Ao ngan tay khong co</td>\n",
       "      <td>TP. Hồ Chí Minh</td>\n",
       "      <td>1.603988e+09</td>\n",
       "      <td>1.609949e+09</td>\n",
       "      <td>5961754.0</td>\n",
       "      <td>True</td>\n",
       "      <td>50%</td>\n",
       "      <td>False</td>\n",
       "      <td>48.0</td>\n",
       "      <td>False</td>\n",
       "      <td>4.885417</td>\n",
       "      <td>89.0</td>\n",
       "      <td>4.0</td>\n",
       "      <td>2.0</td>\n",
       "      <td>1.0</td>\n",
       "      <td>0.0</td>\n",
       "      <td>None</td>\n",
       "      <td>None</td>\n",
       "      <td>4.950000e+09</td>\n",
       "      <td>9.900000e+09</td>\n",
       "      <td>4.950000e+09</td>\n",
       "      <td>9.900000e+09</td>\n",
       "      <td>4.950000e+09</td>\n",
       "      <td>9.900000e+09</td>\n",
       "      <td>None</td>\n",
       "      <td>25.0</td>\n",
       "      <td>4025.0</td>\n",
       "      <td>96.0</td>\n",
       "      <td>True</td>\n",
       "      <td>False</td>\n",
       "      <td>9.0</td>\n",
       "      <td>0.0</td>\n",
       "      <td>431.0</td>\n",
       "    </tr>\n",
       "    <tr>\n",
       "      <th>3</th>\n",
       "      <td>Ao ngan tay khong co</td>\n",
       "      <td>TP. Hồ Chí Minh</td>\n",
       "      <td>1.596083e+09</td>\n",
       "      <td>1.609949e+09</td>\n",
       "      <td>13866721.0</td>\n",
       "      <td>True</td>\n",
       "      <td>39%</td>\n",
       "      <td>False</td>\n",
       "      <td>8.0</td>\n",
       "      <td>False</td>\n",
       "      <td>5.000000</td>\n",
       "      <td>66.0</td>\n",
       "      <td>0.0</td>\n",
       "      <td>0.0</td>\n",
       "      <td>0.0</td>\n",
       "      <td>0.0</td>\n",
       "      <td>None</td>\n",
       "      <td>None</td>\n",
       "      <td>1.490000e+10</td>\n",
       "      <td>2.450000e+10</td>\n",
       "      <td>1.490000e+10</td>\n",
       "      <td>2.450000e+10</td>\n",
       "      <td>1.490000e+10</td>\n",
       "      <td>2.450000e+10</td>\n",
       "      <td>None</td>\n",
       "      <td>85.0</td>\n",
       "      <td>4551.0</td>\n",
       "      <td>66.0</td>\n",
       "      <td>True</td>\n",
       "      <td>False</td>\n",
       "      <td>7.0</td>\n",
       "      <td>0.0</td>\n",
       "      <td>141.0</td>\n",
       "    </tr>\n",
       "    <tr>\n",
       "      <th>4</th>\n",
       "      <td>Ao ngan tay khong co</td>\n",
       "      <td>Hà Nội</td>\n",
       "      <td>1.590391e+09</td>\n",
       "      <td>1.609949e+09</td>\n",
       "      <td>19558163.0</td>\n",
       "      <td>False</td>\n",
       "      <td>None</td>\n",
       "      <td>False</td>\n",
       "      <td>10.0</td>\n",
       "      <td>False</td>\n",
       "      <td>4.687500</td>\n",
       "      <td>27.0</td>\n",
       "      <td>1.0</td>\n",
       "      <td>3.0</td>\n",
       "      <td>1.0</td>\n",
       "      <td>0.0</td>\n",
       "      <td>None</td>\n",
       "      <td>None</td>\n",
       "      <td>7.200000e+09</td>\n",
       "      <td>-1.000000e+00</td>\n",
       "      <td>7.200000e+09</td>\n",
       "      <td>-1.000000e+00</td>\n",
       "      <td>7.200000e+09</td>\n",
       "      <td>0.000000e+00</td>\n",
       "      <td>None</td>\n",
       "      <td>128.0</td>\n",
       "      <td>3613.0</td>\n",
       "      <td>32.0</td>\n",
       "      <td>False</td>\n",
       "      <td>False</td>\n",
       "      <td>1.0</td>\n",
       "      <td>0.0</td>\n",
       "      <td>158.0</td>\n",
       "    </tr>\n",
<<<<<<< HEAD
       "  </tbody>\n",
       "</table>\n",
       "</div>"
      ],
      "text/plain": [
       "               category    shop_location  item_public_time  item_be_got_time   sell_time shopee_verified discount is_adult  options show_official_shop_label_in_title  rating_star  five_star  four_star  three_star  two_star  one_star flash_sale upcoming_flash_sale     price_min  price_min_before_discoun     price_max  price_max_before_discount         price  price_before_discount coin_earn_label  liked_count  view_count  cmt_count is_preferred_plus_seller show_free_shipping  images  video_info_list  historical_sold\n",
       "0  Ao ngan tay khong co  TP. Hồ Chí Minh      1.607317e+09      1.609949e+09   2632455.0            True      39%    False      8.0                             False     5.000000        4.0        0.0         0.0       0.0       0.0       None                None  1.490000e+10              2.450000e+10  1.490000e+10               2.450000e+10  1.490000e+10           2.450000e+10            None          7.0      1048.0        4.0                     True              False     8.0              0.0             18.0\n",
       "1  Ao ngan tay khong co  TP. Hồ Chí Minh      1.596338e+09      1.609949e+09  13611374.0            True      49%    False     35.0                             False     4.947977      166.0        5.0         2.0       0.0       0.0       None                None  1.090000e+10              1.090000e+10  1.090000e+10               2.150000e+10  1.090000e+10           1.090000e+10            None        109.0     10540.0      173.0                     True              False     9.0              0.0            526.0\n",
       "2  Ao ngan tay khong co  TP. Hồ Chí Minh      1.603988e+09      1.609949e+09   5961754.0            True      50%    False     48.0                             False     4.885417       89.0        4.0         2.0       1.0       0.0       None                None  4.950000e+09              9.900000e+09  4.950000e+09               9.900000e+09  4.950000e+09           9.900000e+09            None         25.0      4025.0       96.0                     True              False     9.0              0.0            431.0\n",
       "3  Ao ngan tay khong co  TP. Hồ Chí Minh      1.596083e+09      1.609949e+09  13866721.0            True      39%    False      8.0                             False     5.000000       66.0        0.0         0.0       0.0       0.0       None                None  1.490000e+10              2.450000e+10  1.490000e+10               2.450000e+10  1.490000e+10           2.450000e+10            None         85.0      4551.0       66.0                     True              False     7.0              0.0            141.0\n",
       "4  Ao ngan tay khong co           Hà Nội      1.590391e+09      1.609949e+09  19558163.0           False     None    False     10.0                             False     4.687500       27.0        1.0         3.0       1.0       0.0       None                None  7.200000e+09             -1.000000e+00  7.200000e+09              -1.000000e+00  7.200000e+09           0.000000e+00            None        128.0      3613.0       32.0                    False              False     1.0              0.0            158.0"
      ]
     },
     "execution_count": 2,
=======
       "    <tr>\n",
       "      <th>...</th>\n",
       "      <td>...</td>\n",
       "      <td>...</td>\n",
       "      <td>...</td>\n",
       "      <td>...</td>\n",
       "      <td>...</td>\n",
       "      <td>...</td>\n",
       "      <td>...</td>\n",
       "      <td>...</td>\n",
       "      <td>...</td>\n",
       "      <td>...</td>\n",
       "      <td>...</td>\n",
       "      <td>...</td>\n",
       "      <td>...</td>\n",
       "      <td>...</td>\n",
       "      <td>...</td>\n",
       "      <td>...</td>\n",
       "      <td>...</td>\n",
       "      <td>...</td>\n",
       "      <td>...</td>\n",
       "      <td>...</td>\n",
       "      <td>...</td>\n",
       "      <td>...</td>\n",
       "      <td>...</td>\n",
       "      <td>...</td>\n",
       "      <td>...</td>\n",
       "      <td>...</td>\n",
       "      <td>...</td>\n",
       "      <td>...</td>\n",
       "      <td>...</td>\n",
       "      <td>...</td>\n",
       "      <td>...</td>\n",
       "      <td>...</td>\n",
       "      <td>...</td>\n",
       "    </tr>\n",
       "    <tr>\n",
       "      <th>5746</th>\n",
       "      <td>Quan</td>\n",
       "      <td>Hà Nội</td>\n",
       "      <td>1.581356e+09</td>\n",
       "      <td>1.609992e+09</td>\n",
       "      <td>28635448.0</td>\n",
       "      <td>True</td>\n",
       "      <td>47%</td>\n",
       "      <td>False</td>\n",
       "      <td>18.0</td>\n",
       "      <td>False</td>\n",
       "      <td>4.857143</td>\n",
       "      <td>6.0</td>\n",
       "      <td>1.0</td>\n",
       "      <td>0.0</td>\n",
       "      <td>0.0</td>\n",
       "      <td>0.0</td>\n",
       "      <td>None</td>\n",
       "      <td>None</td>\n",
       "      <td>6.900000e+09</td>\n",
       "      <td>1.290000e+10</td>\n",
       "      <td>6.900000e+09</td>\n",
       "      <td>1.290000e+10</td>\n",
       "      <td>6.900000e+09</td>\n",
       "      <td>1.290000e+10</td>\n",
       "      <td>None</td>\n",
       "      <td>4.0</td>\n",
       "      <td>35.0</td>\n",
       "      <td>7.0</td>\n",
       "      <td>False</td>\n",
       "      <td>True</td>\n",
       "      <td>8.0</td>\n",
       "      <td>0.0</td>\n",
       "      <td>14.0</td>\n",
       "    </tr>\n",
       "    <tr>\n",
       "      <th>5747</th>\n",
       "      <td>Quan</td>\n",
       "      <td>Hà Nội</td>\n",
       "      <td>1.597771e+09</td>\n",
       "      <td>1.609992e+09</td>\n",
       "      <td>12220879.0</td>\n",
       "      <td>True</td>\n",
       "      <td>47%</td>\n",
       "      <td>False</td>\n",
       "      <td>6.0</td>\n",
       "      <td>False</td>\n",
       "      <td>5.000000</td>\n",
       "      <td>2.0</td>\n",
       "      <td>0.0</td>\n",
       "      <td>0.0</td>\n",
       "      <td>0.0</td>\n",
       "      <td>0.0</td>\n",
       "      <td>None</td>\n",
       "      <td>None</td>\n",
       "      <td>6.900000e+09</td>\n",
       "      <td>1.290000e+10</td>\n",
       "      <td>6.900000e+09</td>\n",
       "      <td>1.290000e+10</td>\n",
       "      <td>6.900000e+09</td>\n",
       "      <td>1.290000e+10</td>\n",
       "      <td>None</td>\n",
       "      <td>0.0</td>\n",
       "      <td>40.0</td>\n",
       "      <td>2.0</td>\n",
       "      <td>True</td>\n",
       "      <td>False</td>\n",
       "      <td>9.0</td>\n",
       "      <td>0.0</td>\n",
       "      <td>4.0</td>\n",
       "    </tr>\n",
       "    <tr>\n",
       "      <th>5748</th>\n",
       "      <td>Quan</td>\n",
       "      <td>Nước ngoài</td>\n",
       "      <td>1.570801e+09</td>\n",
       "      <td>1.609992e+09</td>\n",
       "      <td>39190550.0</td>\n",
       "      <td>False</td>\n",
       "      <td>48%</td>\n",
       "      <td>False</td>\n",
       "      <td>0.0</td>\n",
       "      <td>False</td>\n",
       "      <td>5.000000</td>\n",
       "      <td>1.0</td>\n",
       "      <td>0.0</td>\n",
       "      <td>0.0</td>\n",
       "      <td>0.0</td>\n",
       "      <td>0.0</td>\n",
       "      <td>None</td>\n",
       "      <td>None</td>\n",
       "      <td>4.742400e+09</td>\n",
       "      <td>9.120000e+09</td>\n",
       "      <td>4.742400e+09</td>\n",
       "      <td>9.120000e+09</td>\n",
       "      <td>4.742400e+09</td>\n",
       "      <td>9.120000e+09</td>\n",
       "      <td>None</td>\n",
       "      <td>4.0</td>\n",
       "      <td>12.0</td>\n",
       "      <td>1.0</td>\n",
       "      <td>False</td>\n",
       "      <td>True</td>\n",
       "      <td>9.0</td>\n",
       "      <td>0.0</td>\n",
       "      <td>2.0</td>\n",
       "    </tr>\n",
       "    <tr>\n",
       "      <th>5749</th>\n",
       "      <td>Quan</td>\n",
       "      <td>TP. Hồ Chí Minh</td>\n",
       "      <td>1.552326e+09</td>\n",
       "      <td>1.609992e+09</td>\n",
       "      <td>57665762.0</td>\n",
       "      <td>True</td>\n",
       "      <td>22%</td>\n",
       "      <td>False</td>\n",
       "      <td>3.0</td>\n",
       "      <td>False</td>\n",
       "      <td>4.833333</td>\n",
       "      <td>22.0</td>\n",
       "      <td>1.0</td>\n",
       "      <td>0.0</td>\n",
       "      <td>1.0</td>\n",
       "      <td>0.0</td>\n",
       "      <td>None</td>\n",
       "      <td>None</td>\n",
       "      <td>8.500000e+09</td>\n",
       "      <td>1.090000e+10</td>\n",
       "      <td>8.500000e+09</td>\n",
       "      <td>1.090000e+10</td>\n",
       "      <td>8.500000e+09</td>\n",
       "      <td>1.090000e+10</td>\n",
       "      <td>None</td>\n",
       "      <td>4965.0</td>\n",
       "      <td>13.0</td>\n",
       "      <td>24.0</td>\n",
       "      <td>False</td>\n",
       "      <td>True</td>\n",
       "      <td>6.0</td>\n",
       "      <td>0.0</td>\n",
       "      <td>49.0</td>\n",
       "    </tr>\n",
       "    <tr>\n",
       "      <th>5750</th>\n",
       "      <td>Quan</td>\n",
       "      <td>Nước ngoài</td>\n",
       "      <td>1.574765e+09</td>\n",
       "      <td>1.609992e+09</td>\n",
       "      <td>35226632.0</td>\n",
       "      <td>False</td>\n",
       "      <td>45%</td>\n",
       "      <td>False</td>\n",
       "      <td>0.0</td>\n",
       "      <td>False</td>\n",
       "      <td>5.000000</td>\n",
       "      <td>1.0</td>\n",
       "      <td>0.0</td>\n",
       "      <td>0.0</td>\n",
       "      <td>0.0</td>\n",
       "      <td>0.0</td>\n",
       "      <td>None</td>\n",
       "      <td>None</td>\n",
       "      <td>3.200000e+09</td>\n",
       "      <td>5.800000e+09</td>\n",
       "      <td>3.600000e+09</td>\n",
       "      <td>6.500000e+09</td>\n",
       "      <td>3.200000e+09</td>\n",
       "      <td>5.800000e+09</td>\n",
       "      <td>None</td>\n",
       "      <td>1.0</td>\n",
       "      <td>3.0</td>\n",
       "      <td>1.0</td>\n",
       "      <td>False</td>\n",
       "      <td>False</td>\n",
       "      <td>9.0</td>\n",
       "      <td>0.0</td>\n",
       "      <td>1.0</td>\n",
       "    </tr>\n",
       "  </tbody>\n",
       "</table>\n",
       "<p>5751 rows × 33 columns</p>\n",
       "</div>"
      ],
      "text/plain": [
       "                  category    shop_location  item_public_time  item_be_got_time   sell_time shopee_verified discount is_adult  options show_official_shop_label_in_title  rating_star  five_star  four_star  three_star  two_star  one_star flash_sale upcoming_flash_sale     price_min  price_min_before_discoun     price_max  price_max_before_discount         price  price_before_discount coin_earn_label  liked_count  view_count  cmt_count is_preferred_plus_seller show_free_shipping  images  video_info_list  historical_sold\n",
       "0     Ao ngan tay khong co  TP. Hồ Chí Minh      1.607317e+09      1.609949e+09   2632455.0            True      39%    False      8.0                             False     5.000000        4.0        0.0         0.0       0.0       0.0       None                None  1.490000e+10              2.450000e+10  1.490000e+10               2.450000e+10  1.490000e+10           2.450000e+10            None          7.0      1048.0        4.0                     True              False     8.0              0.0             18.0\n",
       "1     Ao ngan tay khong co  TP. Hồ Chí Minh      1.596338e+09      1.609949e+09  13611374.0            True      49%    False     35.0                             False     4.947977      166.0        5.0         2.0       0.0       0.0       None                None  1.090000e+10              1.090000e+10  1.090000e+10               2.150000e+10  1.090000e+10           1.090000e+10            None        109.0     10540.0      173.0                     True              False     9.0              0.0            526.0\n",
       "2     Ao ngan tay khong co  TP. Hồ Chí Minh      1.603988e+09      1.609949e+09   5961754.0            True      50%    False     48.0                             False     4.885417       89.0        4.0         2.0       1.0       0.0       None                None  4.950000e+09              9.900000e+09  4.950000e+09               9.900000e+09  4.950000e+09           9.900000e+09            None         25.0      4025.0       96.0                     True              False     9.0              0.0            431.0\n",
       "3     Ao ngan tay khong co  TP. Hồ Chí Minh      1.596083e+09      1.609949e+09  13866721.0            True      39%    False      8.0                             False     5.000000       66.0        0.0         0.0       0.0       0.0       None                None  1.490000e+10              2.450000e+10  1.490000e+10               2.450000e+10  1.490000e+10           2.450000e+10            None         85.0      4551.0       66.0                     True              False     7.0              0.0            141.0\n",
       "4     Ao ngan tay khong co           Hà Nội      1.590391e+09      1.609949e+09  19558163.0           False     None    False     10.0                             False     4.687500       27.0        1.0         3.0       1.0       0.0       None                None  7.200000e+09             -1.000000e+00  7.200000e+09              -1.000000e+00  7.200000e+09           0.000000e+00            None        128.0      3613.0       32.0                    False              False     1.0              0.0            158.0\n",
       "...                    ...              ...               ...               ...         ...             ...      ...      ...      ...                               ...          ...        ...        ...         ...       ...       ...        ...                 ...           ...                       ...           ...                        ...           ...                    ...             ...          ...         ...        ...                      ...                ...     ...              ...              ...\n",
       "5746                  Quan           Hà Nội      1.581356e+09      1.609992e+09  28635448.0            True      47%    False     18.0                             False     4.857143        6.0        1.0         0.0       0.0       0.0       None                None  6.900000e+09              1.290000e+10  6.900000e+09               1.290000e+10  6.900000e+09           1.290000e+10            None          4.0        35.0        7.0                    False               True     8.0              0.0             14.0\n",
       "5747                  Quan           Hà Nội      1.597771e+09      1.609992e+09  12220879.0            True      47%    False      6.0                             False     5.000000        2.0        0.0         0.0       0.0       0.0       None                None  6.900000e+09              1.290000e+10  6.900000e+09               1.290000e+10  6.900000e+09           1.290000e+10            None          0.0        40.0        2.0                     True              False     9.0              0.0              4.0\n",
       "5748                  Quan       Nước ngoài      1.570801e+09      1.609992e+09  39190550.0           False      48%    False      0.0                             False     5.000000        1.0        0.0         0.0       0.0       0.0       None                None  4.742400e+09              9.120000e+09  4.742400e+09               9.120000e+09  4.742400e+09           9.120000e+09            None          4.0        12.0        1.0                    False               True     9.0              0.0              2.0\n",
       "5749                  Quan  TP. Hồ Chí Minh      1.552326e+09      1.609992e+09  57665762.0            True      22%    False      3.0                             False     4.833333       22.0        1.0         0.0       1.0       0.0       None                None  8.500000e+09              1.090000e+10  8.500000e+09               1.090000e+10  8.500000e+09           1.090000e+10            None       4965.0        13.0       24.0                    False               True     6.0              0.0             49.0\n",
       "5750                  Quan       Nước ngoài      1.574765e+09      1.609992e+09  35226632.0           False      45%    False      0.0                             False     5.000000        1.0        0.0         0.0       0.0       0.0       None                None  3.200000e+09              5.800000e+09  3.600000e+09               6.500000e+09  3.200000e+09           5.800000e+09            None          1.0         3.0        1.0                    False              False     9.0              0.0              1.0\n",
       "\n",
       "[5751 rows x 33 columns]"
      ]
     },
     "execution_count": 8,
>>>>>>> parent of c59b306... add CombineData
     "metadata": {},
     "output_type": "execute_result"
    }
   ],
   "source": [
<<<<<<< HEAD
    "#Set Option\n",
    "pd.set_option('max_colwidth', 10000)\n",
    "pd.set_option('display.max_rows', 500)\n",
    "pd.set_option('display.max_columns', 500)\n",
    "pd.set_option('display.width', 1000)\n",
    "\n",
    "#Open file\n",
    "items_df = pd.read_csv('Data/ShoppeItem_full.tsv', sep='\\t')\n",
    "items_df.head()"
=======
    "items_df"
   ]
  },
  {
   "cell_type": "markdown",
   "metadata": {},
   "source": [
    "Thử kiểm tra lại thông số về số mẫu và số thuộc tính của dataset"
   ]
  },
  {
   "cell_type": "code",
   "execution_count": 9,
   "metadata": {},
   "outputs": [
    {
     "data": {
      "text/plain": [
       "(5751, 33)"
      ]
     },
     "execution_count": 9,
     "metadata": {},
     "output_type": "execute_result"
    }
   ],
   "source": [
    "items_df.shape"
   ]
  },
  {
   "cell_type": "code",
   "execution_count": 10,
   "metadata": {},
   "outputs": [
    {
     "data": {
      "text/plain": [
       "array(['category', 'shop_location', 'item_public_time',\n",
       "       'item_be_got_time', 'sell_time', 'shopee_verified', 'discount',\n",
       "       'is_adult', 'options', 'show_official_shop_label_in_title',\n",
       "       'rating_star', 'five_star', 'four_star', 'three_star', 'two_star',\n",
       "       'one_star', 'flash_sale', 'upcoming_flash_sale', 'price_min',\n",
       "       'price_min_before_discoun', 'price_max',\n",
       "       'price_max_before_discount', 'price', 'price_before_discount',\n",
       "       'coin_earn_label', 'liked_count', 'view_count', 'cmt_count',\n",
       "       'is_preferred_plus_seller', 'show_free_shipping', 'images',\n",
       "       'video_info_list', 'historical_sold'], dtype=object)"
      ]
     },
     "execution_count": 10,
     "metadata": {},
     "output_type": "execute_result"
    }
   ],
   "source": [
    "items_df.columns.values"
   ]
  },
  {
   "cell_type": "markdown",
   "metadata": {},
   "source": [
    "Sau khi kiểm tra, ta tiến hành lưu lại dữ liệu đã gộp"
   ]
  },
  {
   "cell_type": "code",
   "execution_count": 11,
   "metadata": {},
   "outputs": [],
   "source": [
    "items_df.to_csv('Data/ShoppeItem_full.tsv', sep = '\\t', index=False)"
>>>>>>> parent of c59b306... add CombineData
   ]
  },
  {
   "cell_type": "markdown",
   "metadata": {},
   "source": [
    "### Mỗi dòng có ý nghĩa gì? Có vấn đề các dòng có ý nghĩa khác nhau không?"
   ]
  },
  {
   "cell_type": "markdown",
   "metadata": {},
   "source": [
    "Quan sát sơ bộ dữ liệu và qua quá trình crawler data, ta thấy mỗi dòng chứa thông tin của một món hàng, và không có vấn đề các dòng có ý nghĩa khác nhau."
   ]
  },
  {
   "cell_type": "markdown",
   "metadata": {},
   "source": [
    "### Xử lý giá trị trùng lặp"
   ]
  },
  {
   "cell_type": "markdown",
   "metadata": {},
   "source": [
    "Trước tiên, ta xem thử có bao nhiều dòng bị lặp giá trị"
   ]
  },
  {
   "cell_type": "code",
   "execution_count": 3,
   "metadata": {},
   "outputs": [
    {
     "data": {
      "text/plain": [
       "40"
      ]
     },
     "execution_count": 3,
     "metadata": {},
     "output_type": "execute_result"
    }
   ],
   "source": [
    "num_duplicated_rows = items_df.duplicated().sum()\n",
    "num_duplicated_rows"
   ]
  },
  {
   "cell_type": "markdown",
   "metadata": {},
   "source": [
    "Xóa các dòng có giá trị lặp bằng phương thức drop_duplicates của pandas, mặc định dữ lại dòng có giá trị lặp đầu tiên "
   ]
  },
  {
   "cell_type": "code",
   "execution_count": 4,
   "metadata": {
    "scrolled": true
   },
   "outputs": [
    {
     "data": {
      "text/plain": [
       "(5711, 33)"
      ]
     },
     "execution_count": 4,
     "metadata": {},
     "output_type": "execute_result"
    }
   ],
   "source": [
    "items_df = items_df.drop_duplicates(ignore_index = True)\n",
    "items_df.shape"
   ]
  },
  {
   "cell_type": "markdown",
   "metadata": {},
   "source": [
    "### Xử lý khác biệt ngữ nghĩa do parse data từ json\n",
    "\n",
    "Do dữ liệu trả về từ api của shopee, những dữ liệu thiếu có dạng string: 'None' nên pandas sẽ không đếm được lượng dữ liệu __không có giá trị__ này. Ta tiến hành thay 'None' thành pd.NA để có thể đếm lượng dữ liệu thiếu này chính xác."
   ]
  },
  {
   "cell_type": "code",
   "execution_count": 5,
   "metadata": {},
   "outputs": [],
   "source": [
    "# cond = items_df != 'None'\n",
    "# items_df.where(cond, pd.NA)\n",
    "items_df = items_df.replace('None', pd.NA)"
   ]
  },
  {
   "cell_type": "code",
   "execution_count": 6,
   "metadata": {},
   "outputs": [
    {
     "data": {
      "text/plain": [
       "0       2.450000e+10\n",
       "1       1.090000e+10\n",
       "2       9.900000e+09\n",
       "3       2.450000e+10\n",
       "4      -1.000000e+00\n",
       "            ...     \n",
       "5706    1.290000e+10\n",
       "5707    1.290000e+10\n",
       "5708    9.120000e+09\n",
       "5709    1.090000e+10\n",
       "5710    5.800000e+09\n",
       "Name: price_min_before_discount, Length: 5711, dtype: float64"
      ]
     },
     "execution_count": 6,
     "metadata": {},
     "output_type": "execute_result"
    }
   ],
   "source": [
    "# Do lỗi trong quá trình crawler nên tên cột price_min_before_discount bị thiếu chữ t, ta sửa lại ở dưới\n",
    "\n",
    "items_df = items_df.rename(columns={'price_min_before_discoun': 'price_min_before_discount'})\n",
    "items_df['price_min_before_discount']"
   ]
  },
  {
   "cell_type": "markdown",
   "metadata": {},
   "source": [
    "### Phân bố giá trị của cột có kiểu dữ liệu dạng số\n",
    "\n",
    "- Tỉ lệ % (từ 0 đến 100) các giá trị thiếu \n",
    "- Giá trị min\n",
    "- Giá trị lower quartile (phân vị 25)\n",
    "- Giá trị median (phân vị 50)\n",
    "- Giá trị upper quartile (phân vị 75)\n",
    "- Giá trị max\n",
    "\n",
    "Kết quả được lưu vào DataFrame `num_col_info_df`, trong đó: \n",
    "- Tên của các cột là tên của các cột số trong `items_df`\n",
    "- Tên của các dòng là: \"missing_ratio\", \"min\", \"lower_quartile\", \"median\", \"upper_quartile\", \"max\" "
   ]
  },
  {
   "cell_type": "code",
   "execution_count": 7,
   "metadata": {},
   "outputs": [
    {
     "data": {
      "text/html": [
       "<div>\n",
       "<style scoped>\n",
       "    .dataframe tbody tr th:only-of-type {\n",
       "        vertical-align: middle;\n",
       "    }\n",
       "\n",
       "    .dataframe tbody tr th {\n",
       "        vertical-align: top;\n",
       "    }\n",
       "\n",
       "    .dataframe thead th {\n",
       "        text-align: right;\n",
       "    }\n",
       "</style>\n",
       "<table border=\"1\" class=\"dataframe\">\n",
       "  <thead>\n",
       "    <tr style=\"text-align: right;\">\n",
       "      <th></th>\n",
       "      <th>item_public_time</th>\n",
       "      <th>item_be_got_time</th>\n",
       "      <th>sell_time</th>\n",
       "      <th>options</th>\n",
       "      <th>rating_star</th>\n",
       "      <th>five_star</th>\n",
       "      <th>four_star</th>\n",
       "      <th>three_star</th>\n",
       "      <th>two_star</th>\n",
       "      <th>one_star</th>\n",
       "      <th>price_min</th>\n",
       "      <th>price_min_before_discount</th>\n",
       "      <th>price_max</th>\n",
       "      <th>price_max_before_discount</th>\n",
       "      <th>price</th>\n",
       "      <th>price_before_discount</th>\n",
       "      <th>liked_count</th>\n",
       "      <th>view_count</th>\n",
       "      <th>cmt_count</th>\n",
       "      <th>images</th>\n",
       "      <th>video_info_list</th>\n",
       "      <th>historical_sold</th>\n",
       "    </tr>\n",
       "  </thead>\n",
       "  <tbody>\n",
       "    <tr>\n",
       "      <th>missing_ratio</th>\n",
       "      <td>0.000000e+00</td>\n",
       "      <td>0.000000e+00</td>\n",
       "      <td>0.0</td>\n",
       "      <td>0.0</td>\n",
       "      <td>0.0</td>\n",
       "      <td>0.0</td>\n",
       "      <td>0.0</td>\n",
       "      <td>0.0</td>\n",
       "      <td>0.0</td>\n",
       "      <td>0.0</td>\n",
       "      <td>0.000000e+00</td>\n",
       "      <td>0.000000e+00</td>\n",
       "      <td>0.000000e+00</td>\n",
       "      <td>0.000000e+00</td>\n",
       "      <td>0.000000e+00</td>\n",
       "      <td>0.000000e+00</td>\n",
       "      <td>0.0</td>\n",
       "      <td>0.0</td>\n",
       "      <td>0.0</td>\n",
       "      <td>0.0</td>\n",
       "      <td>0.0</td>\n",
       "      <td>0.0</td>\n",
       "    </tr>\n",
       "    <tr>\n",
       "      <th>min</th>\n",
       "      <td>1.455984e+09</td>\n",
       "      <td>1.609910e+09</td>\n",
       "      <td>54304.0</td>\n",
       "      <td>0.0</td>\n",
       "      <td>0.0</td>\n",
       "      <td>0.0</td>\n",
       "      <td>0.0</td>\n",
       "      <td>0.0</td>\n",
       "      <td>0.0</td>\n",
       "      <td>0.0</td>\n",
       "      <td>3.900000e+08</td>\n",
       "      <td>-1.000000e+00</td>\n",
       "      <td>3.900000e+08</td>\n",
       "      <td>-1.000000e+00</td>\n",
       "      <td>3.900000e+08</td>\n",
       "      <td>0.000000e+00</td>\n",
       "      <td>0.0</td>\n",
       "      <td>0.0</td>\n",
       "      <td>0.0</td>\n",
       "      <td>1.0</td>\n",
       "      <td>0.0</td>\n",
       "      <td>0.0</td>\n",
       "    </tr>\n",
       "    <tr>\n",
       "      <th>lower_quartile</th>\n",
       "      <td>1.581799e+09</td>\n",
       "      <td>1.609917e+09</td>\n",
       "      <td>4364561.5</td>\n",
       "      <td>3.0</td>\n",
       "      <td>0.0</td>\n",
       "      <td>0.0</td>\n",
       "      <td>0.0</td>\n",
       "      <td>0.0</td>\n",
       "      <td>0.0</td>\n",
       "      <td>0.0</td>\n",
       "      <td>9.900000e+09</td>\n",
       "      <td>-1.000000e+00</td>\n",
       "      <td>9.900000e+09</td>\n",
       "      <td>-1.000000e+00</td>\n",
       "      <td>9.900000e+09</td>\n",
       "      <td>0.000000e+00</td>\n",
       "      <td>0.0</td>\n",
       "      <td>0.0</td>\n",
       "      <td>0.0</td>\n",
       "      <td>5.0</td>\n",
       "      <td>0.0</td>\n",
       "      <td>0.0</td>\n",
       "    </tr>\n",
       "    <tr>\n",
       "      <th>median</th>\n",
       "      <td>1.597195e+09</td>\n",
       "      <td>1.609949e+09</td>\n",
       "      <td>12754241.5</td>\n",
       "      <td>6.0</td>\n",
       "      <td>0.0</td>\n",
       "      <td>0.0</td>\n",
       "      <td>0.0</td>\n",
       "      <td>0.0</td>\n",
       "      <td>0.0</td>\n",
       "      <td>0.0</td>\n",
       "      <td>1.680000e+10</td>\n",
       "      <td>6.000000e+09</td>\n",
       "      <td>1.700000e+10</td>\n",
       "      <td>6.605000e+09</td>\n",
       "      <td>1.680000e+10</td>\n",
       "      <td>6.000000e+09</td>\n",
       "      <td>0.0</td>\n",
       "      <td>0.0</td>\n",
       "      <td>0.0</td>\n",
       "      <td>8.0</td>\n",
       "      <td>0.0</td>\n",
       "      <td>0.0</td>\n",
       "    </tr>\n",
       "    <tr>\n",
       "      <th>upper_quartile</th>\n",
       "      <td>1.605597e+09</td>\n",
       "      <td>1.609992e+09</td>\n",
       "      <td>28162952.2</td>\n",
       "      <td>15.0</td>\n",
       "      <td>4.7</td>\n",
       "      <td>1.0</td>\n",
       "      <td>0.0</td>\n",
       "      <td>0.0</td>\n",
       "      <td>0.0</td>\n",
       "      <td>0.0</td>\n",
       "      <td>2.850000e+10</td>\n",
       "      <td>2.500000e+10</td>\n",
       "      <td>2.990000e+10</td>\n",
       "      <td>2.500000e+10</td>\n",
       "      <td>2.850000e+10</td>\n",
       "      <td>2.500000e+10</td>\n",
       "      <td>7.0</td>\n",
       "      <td>27.8</td>\n",
       "      <td>1.0</td>\n",
       "      <td>9.0</td>\n",
       "      <td>0.0</td>\n",
       "      <td>3.0</td>\n",
       "    </tr>\n",
       "    <tr>\n",
       "      <th>max</th>\n",
       "      <td>1.609856e+09</td>\n",
       "      <td>1.609994e+09</td>\n",
       "      <td>153926683.0</td>\n",
       "      <td>80.0</td>\n",
       "      <td>5.0</td>\n",
       "      <td>7869.0</td>\n",
       "      <td>777.0</td>\n",
       "      <td>427.0</td>\n",
       "      <td>199.0</td>\n",
       "      <td>462.0</td>\n",
       "      <td>6.900000e+11</td>\n",
       "      <td>2.680000e+11</td>\n",
       "      <td>6.900000e+11</td>\n",
       "      <td>2.680000e+11</td>\n",
       "      <td>6.900000e+11</td>\n",
       "      <td>2.680000e+11</td>\n",
       "      <td>79919.0</td>\n",
       "      <td>189252.0</td>\n",
       "      <td>9737.0</td>\n",
       "      <td>9.0</td>\n",
       "      <td>1.0</td>\n",
       "      <td>37079.0</td>\n",
       "    </tr>\n",
       "  </tbody>\n",
       "</table>\n",
       "</div>"
      ],
      "text/plain": [
       "                item_public_time  item_be_got_time    sell_time  options  rating_star  five_star  four_star  three_star  two_star  one_star     price_min  price_min_before_discount     price_max  price_max_before_discount         price  price_before_discount  liked_count  view_count  cmt_count  images  video_info_list  historical_sold\n",
       "missing_ratio       0.000000e+00      0.000000e+00          0.0      0.0          0.0        0.0        0.0         0.0       0.0       0.0  0.000000e+00               0.000000e+00  0.000000e+00               0.000000e+00  0.000000e+00           0.000000e+00          0.0         0.0        0.0     0.0              0.0              0.0\n",
       "min                 1.455984e+09      1.609910e+09      54304.0      0.0          0.0        0.0        0.0         0.0       0.0       0.0  3.900000e+08              -1.000000e+00  3.900000e+08              -1.000000e+00  3.900000e+08           0.000000e+00          0.0         0.0        0.0     1.0              0.0              0.0\n",
       "lower_quartile      1.581799e+09      1.609917e+09    4364561.5      3.0          0.0        0.0        0.0         0.0       0.0       0.0  9.900000e+09              -1.000000e+00  9.900000e+09              -1.000000e+00  9.900000e+09           0.000000e+00          0.0         0.0        0.0     5.0              0.0              0.0\n",
       "median              1.597195e+09      1.609949e+09   12754241.5      6.0          0.0        0.0        0.0         0.0       0.0       0.0  1.680000e+10               6.000000e+09  1.700000e+10               6.605000e+09  1.680000e+10           6.000000e+09          0.0         0.0        0.0     8.0              0.0              0.0\n",
       "upper_quartile      1.605597e+09      1.609992e+09   28162952.2     15.0          4.7        1.0        0.0         0.0       0.0       0.0  2.850000e+10               2.500000e+10  2.990000e+10               2.500000e+10  2.850000e+10           2.500000e+10          7.0        27.8        1.0     9.0              0.0              3.0\n",
       "max                 1.609856e+09      1.609994e+09  153926683.0     80.0          5.0     7869.0      777.0       427.0     199.0     462.0  6.900000e+11               2.680000e+11  6.900000e+11               2.680000e+11  6.900000e+11           2.680000e+11      79919.0    189252.0     9737.0     9.0              1.0          37079.0"
      ]
     },
     "execution_count": 7,
     "metadata": {},
     "output_type": "execute_result"
    }
   ],
   "source": [
    "df = items_df.select_dtypes(exclude='object')\n",
    "def missing_ratio(df):\n",
    "    return (df.isna().mean() * 100).round(1)\n",
    "def lower_quartile(df):\n",
    "    return df.quantile(0.25)\n",
    "def median(df):\n",
    "    return df.quantile(0.5)\n",
    "def upper_quartile(df):\n",
    "    return df.quantile(0.75)\n",
    "num_col_info_df = df.agg([missing_ratio, min, lower_quartile, median, upper_quartile, max]).round(1)\n",
    "num_col_info_df"
   ]
  },
  {
   "cell_type": "markdown",
   "metadata": {},
   "source": [
    "### Phân bố giá trị của cột có kiểu dữ liệu không phải dạng số\n",
    "\n",
    "- Tỉ lệ % (từ 0 đến 100) các giá trị thiếu \n",
    "\n",
    "- Số lượng các giá trị (các giá trị ở đây là các giá trị khác nhau và ta không xét giá trị thiếu)\n",
    "\n",
    "- Tỉ lệ % (từ 0 đến 100) của mỗi giá trị được sort theo tỉ lệ % giảm dần (ta không xét giá trị thiếu, tỉ lệ là tỉ lệ so với số lượng các giá trị không thiếu): dùng dictionary để lưu, key là giá trị, value là tỉ lệ %\n",
    "\n",
    "Kết quả được lưu vào DataFrame `cat_col_info_df`, trong đó: \n",
    "\n",
    "- Tên của các cột là tên của các cột không phải số trong `items_df`\n",
    "- Tên của các dòng là: \"missing_ratio\", \"num_values\", \"value_ratios\"  "
   ]
  },
  {
   "cell_type": "code",
   "execution_count": 8,
   "metadata": {},
   "outputs": [
    {
     "data": {
      "text/html": [
       "<div>\n",
       "<style scoped>\n",
       "    .dataframe tbody tr th:only-of-type {\n",
       "        vertical-align: middle;\n",
       "    }\n",
       "\n",
       "    .dataframe tbody tr th {\n",
       "        vertical-align: top;\n",
       "    }\n",
       "\n",
       "    .dataframe thead th {\n",
       "        text-align: right;\n",
       "    }\n",
       "</style>\n",
       "<table border=\"1\" class=\"dataframe\">\n",
       "  <thead>\n",
       "    <tr style=\"text-align: right;\">\n",
       "      <th></th>\n",
       "      <th>category</th>\n",
       "      <th>shop_location</th>\n",
       "      <th>shopee_verified</th>\n",
       "      <th>discount</th>\n",
       "      <th>is_adult</th>\n",
       "      <th>show_official_shop_label_in_title</th>\n",
       "      <th>flash_sale</th>\n",
       "      <th>upcoming_flash_sale</th>\n",
       "      <th>coin_earn_label</th>\n",
       "      <th>is_preferred_plus_seller</th>\n",
       "      <th>show_free_shipping</th>\n",
       "    </tr>\n",
       "  </thead>\n",
       "  <tbody>\n",
       "    <tr>\n",
       "      <th>missing_ratio</th>\n",
       "      <td>0</td>\n",
       "      <td>1</td>\n",
       "      <td>0</td>\n",
       "      <td>47.3</td>\n",
       "      <td>0</td>\n",
       "      <td>1.1</td>\n",
       "      <td>100</td>\n",
       "      <td>100</td>\n",
       "      <td>100</td>\n",
       "      <td>0</td>\n",
       "      <td>0</td>\n",
       "    </tr>\n",
       "    <tr>\n",
       "      <th>num_values</th>\n",
       "      <td>6</td>\n",
       "      <td>46</td>\n",
       "      <td>2</td>\n",
       "      <td>56</td>\n",
       "      <td>2</td>\n",
       "      <td>3</td>\n",
       "      <td>1</td>\n",
       "      <td>1</td>\n",
       "      <td>1</td>\n",
       "      <td>2</td>\n",
       "      <td>2</td>\n",
       "    </tr>\n",
       "    <tr>\n",
       "      <th>value_ratios</th>\n",
       "      <td>{'Ao ngan tay khong co': 17.3, 'Balo/ Tui/ Vi': 16.6, 'Quan': 16.6, 'Giay dep nam': 16.6, 'Ao so mi': 16.5, 'Phu kien Nam': 16.4}</td>\n",
       "      <td>{'Hà Nội': 37.7, 'Nước ngoài': 35.6, 'TP. Hồ Chí Minh': 19.0, 'Bình Dương': 0.8, 'Hải Dương': 0.8, 'Bình Định': 0.7, 'Hưng Yên': 0.5, 'Quảng Ninh': 0.4, 'Đồng Nai': 0.4, 'Hà Nam': 0.4, 'Phú Thọ': 0.3, 'Ninh Bình': 0.2, 'Hải Phòng': 0.2, 'Bình Thuận': 0.2, 'Khánh Hòa': 0.2, 'Thái Bình': 0.2, 'Bắc Ninh': 0.2, 'Thừa Thiên Huế': 0.2, 'Lạng Sơn': 0.2, 'Lào Cai': 0.2, 'Hòa Bình': 0.1, 'Lâm Đồng': 0.1, 'Đà Nẵng': 0.1, 'Thái Nguyên': 0.1, 'Nam Định': 0.1, 'Thanh Hóa': 0.1, 'Vĩnh Phúc': 0.1, 'Bắc Kạn': 0.1, 'Cần Thơ': 0.1, 'Nghệ An': 0.1, 'Phú Yên': 0.1, 'Bắc Giang': 0.1, 'Bà Rịa - Vũng Tàu': 0.1, 'Kon Tum': 0.1, 'Sóc Trăng': 0.1, 'Đồng Tháp': 0.1, 'Bến Tre': 0.0, 'Đắk Lắk': 0.0, 'Tiền Giang': 0.0, 'Cao Bằng': 0.0, 'Quảng Ngãi': 0.0, 'Hà Tĩnh': 0.0, 'Vĩnh Long': 0.0, 'Cà Mau': 0.0, 'Ninh Thuận': 0.0}</td>\n",
       "      <td>{False: 83.4, True: 16.6}</td>\n",
       "      <td>{'50%': 20.9, '40%': 6.0, '30%': 4.7, '49%': 4.5, '20%': 4.0, '45%': 3.5, '48%': 3.5, '41%': 3.2, '47%': 3.1, '1%': 3.1, '46%': 2.7, '35%': 2.6, '25%': 2.6, '44%': 2.5, '43%': 2.3, '38%': 2.1, '34%': 2.0, '29%': 1.9, '10%': 1.8, '39%': 1.7, '42%': 1.5, '31%': 1.5, '36%': 1.5, '19%': 1.3, '28%': 1.2, '26%': 1.1, '37%': 1.1, '15%': 1.1, '33%': 1.0, '21%': 1.0, '23%': 0.9, '5%': 0.9, '32%': 0.8, '27%': 0.8, '24%': 0.7, '22%': 0.7, '18%': 0.6, '17%': 0.5, '7%': 0.5, '14%': 0.5, '16%': 0.4, '13%': 0.4, '12%': 0.3, '2%': 0.3, '9%': 0.2, '8%': 0.2, '11%': 0.2, '56%': 0.1, '4%': 0.1, '6%': 0.1, '3%': 0.1, '60%': 0.0, '87%': 0.0, '61%': 0.0, '51%': 0.0}</td>\n",
       "      <td>{'False': 100.0}</td>\n",
       "      <td>{'False': 97.7, 'True': 2.3}</td>\n",
       "      <td>{}</td>\n",
       "      <td>{}</td>\n",
       "      <td>{}</td>\n",
       "      <td>{False: 97.4, True: 2.6}</td>\n",
       "      <td>{False: 77.8, True: 22.2}</td>\n",
       "    </tr>\n",
       "  </tbody>\n",
       "</table>\n",
       "</div>"
      ],
      "text/plain": [
       "                                                                                                                                        category                                                                                                                                                                                                                                                                                                                                                                                                                                                                                                                                                                                                                                                                                                                                                                                                                       shop_location            shopee_verified  \\\n",
       "missing_ratio                                                                                                                                  0                                                                                                                                                                                                                                                                                                                                                                                                                                                                                                                                                                                                                                                                                                                                                                                                                                   1                          0   \n",
       "num_values                                                                                                                                     6                                                                                                                                                                                                                                                                                                                                                                                                                                                                                                                                                                                                                                                                                                                                                                                                                                  46                          2   \n",
       "value_ratios   {'Ao ngan tay khong co': 17.3, 'Balo/ Tui/ Vi': 16.6, 'Quan': 16.6, 'Giay dep nam': 16.6, 'Ao so mi': 16.5, 'Phu kien Nam': 16.4}  {'Hà Nội': 37.7, 'Nước ngoài': 35.6, 'TP. Hồ Chí Minh': 19.0, 'Bình Dương': 0.8, 'Hải Dương': 0.8, 'Bình Định': 0.7, 'Hưng Yên': 0.5, 'Quảng Ninh': 0.4, 'Đồng Nai': 0.4, 'Hà Nam': 0.4, 'Phú Thọ': 0.3, 'Ninh Bình': 0.2, 'Hải Phòng': 0.2, 'Bình Thuận': 0.2, 'Khánh Hòa': 0.2, 'Thái Bình': 0.2, 'Bắc Ninh': 0.2, 'Thừa Thiên Huế': 0.2, 'Lạng Sơn': 0.2, 'Lào Cai': 0.2, 'Hòa Bình': 0.1, 'Lâm Đồng': 0.1, 'Đà Nẵng': 0.1, 'Thái Nguyên': 0.1, 'Nam Định': 0.1, 'Thanh Hóa': 0.1, 'Vĩnh Phúc': 0.1, 'Bắc Kạn': 0.1, 'Cần Thơ': 0.1, 'Nghệ An': 0.1, 'Phú Yên': 0.1, 'Bắc Giang': 0.1, 'Bà Rịa - Vũng Tàu': 0.1, 'Kon Tum': 0.1, 'Sóc Trăng': 0.1, 'Đồng Tháp': 0.1, 'Bến Tre': 0.0, 'Đắk Lắk': 0.0, 'Tiền Giang': 0.0, 'Cao Bằng': 0.0, 'Quảng Ngãi': 0.0, 'Hà Tĩnh': 0.0, 'Vĩnh Long': 0.0, 'Cà Mau': 0.0, 'Ninh Thuận': 0.0}  {False: 83.4, True: 16.6}   \n",
       "\n",
       "                                                                                                                                                                                                                                                                                                                                                                                                                                                                                                                                                                                                                                                                                   discount          is_adult show_official_shop_label_in_title flash_sale upcoming_flash_sale coin_earn_label  is_preferred_plus_seller         show_free_shipping  \n",
       "missing_ratio                                                                                                                                                                                                                                                                                                                                                                                                                                                                                                                                                                                                                                                                          47.3                 0                               1.1        100                 100             100                         0                          0  \n",
       "num_values                                                                                                                                                                                                                                                                                                                                                                                                                                                                                                                                                                                                                                                                               56                 2                                 3          1                   1               1                         2                          2  \n",
       "value_ratios   {'50%': 20.9, '40%': 6.0, '30%': 4.7, '49%': 4.5, '20%': 4.0, '45%': 3.5, '48%': 3.5, '41%': 3.2, '47%': 3.1, '1%': 3.1, '46%': 2.7, '35%': 2.6, '25%': 2.6, '44%': 2.5, '43%': 2.3, '38%': 2.1, '34%': 2.0, '29%': 1.9, '10%': 1.8, '39%': 1.7, '42%': 1.5, '31%': 1.5, '36%': 1.5, '19%': 1.3, '28%': 1.2, '26%': 1.1, '37%': 1.1, '15%': 1.1, '33%': 1.0, '21%': 1.0, '23%': 0.9, '5%': 0.9, '32%': 0.8, '27%': 0.8, '24%': 0.7, '22%': 0.7, '18%': 0.6, '17%': 0.5, '7%': 0.5, '14%': 0.5, '16%': 0.4, '13%': 0.4, '12%': 0.3, '2%': 0.3, '9%': 0.2, '8%': 0.2, '11%': 0.2, '56%': 0.1, '4%': 0.1, '6%': 0.1, '3%': 0.1, '60%': 0.0, '87%': 0.0, '61%': 0.0, '51%': 0.0}  {'False': 100.0}      {'False': 97.7, 'True': 2.3}         {}                  {}              {}  {False: 97.4, True: 2.6}  {False: 77.8, True: 22.2}  "
      ]
     },
     "execution_count": 8,
     "metadata": {},
     "output_type": "execute_result"
    }
   ],
   "source": [
    "\n",
    "# pd.set_option('display.max_colwidth', 200) \n",
    "df = items_df.select_dtypes(include='object')\n",
    "def missing_ratio(df):\n",
    "    return (df.isna().mean() * 100).round(1)\n",
    "def num_values(df):\n",
    "    return df.nunique()\n",
    "def value_ratios(c):\n",
    "    return dict((c.value_counts(normalize=True) * 100).round(1))\n",
    "cat_col_info_df = df.agg([missing_ratio, num_values, value_ratios])\n",
    "cat_col_info_df"
   ]
  },
  {
   "cell_type": "markdown",
   "metadata": {},
   "source": [
    "## Tiền xử lý dữ liệu\n",
    "\n",
    "Quá trình làm việc của nhóm trong branch [Preprocessing](https://github.com/cstotodile/ds_final/tree/Preprocessing)\n",
    "\n",
    "Ta chia việc tiền xử lý thành hai phần:\n",
    "- Tiền xử lý dữ liệu thô\n",
    "- Tiền xử lý tập huấn luyện\n",
    "\n",
    "Ở bước tiền xử lý dữ liệu thô, do những tiền xử lý đơn giản là bỏ cột, bỏ mẫu, thay đổi giá trị cho phù hợp với ngữ cảnh của dữ liệu nên sẽ không bị rò rỉ thông tin. Vì thế ta sẽ tiến hành tiền xử lý trên toàn bộ tập dữ liệu\n",
    "\n",
    "Còn ở bước tiền xử lý tập huấn luyện, ta sẽ tạo ra transformer để fit vào tập huấn luyện, làm vậy sẽ tránh được việc rò rỉ thông tin giữa các tập, các phần xử lý của bước này là gộp các giá trị của `shop_location`, mã hóa onehot cho các thuộc tính định danh và chuẩn hóa dữ liệu"
   ]
  },
  {
   "cell_type": "markdown",
   "metadata": {},
   "source": [
    "### Xử lý dữ liệu thiếu"
   ]
  },
  {
   "cell_type": "code",
   "execution_count": 9,
   "metadata": {},
   "outputs": [
    {
     "name": "stdout",
     "output_type": "stream",
     "text": [
      "<class 'pandas.core.frame.DataFrame'>\n",
      "RangeIndex: 5711 entries, 0 to 5710\n",
      "Data columns (total 33 columns):\n",
      " #   Column                             Non-Null Count  Dtype  \n",
      "---  ------                             --------------  -----  \n",
      " 0   category                           5711 non-null   object \n",
      " 1   shop_location                      5656 non-null   object \n",
      " 2   item_public_time                   5710 non-null   float64\n",
      " 3   item_be_got_time                   5710 non-null   float64\n",
      " 4   sell_time                          5710 non-null   float64\n",
      " 5   shopee_verified                    5710 non-null   object \n",
      " 6   discount                           3010 non-null   object \n",
      " 7   is_adult                           5709 non-null   object \n",
      " 8   options                            5710 non-null   float64\n",
      " 9   show_official_shop_label_in_title  5647 non-null   object \n",
      " 10  rating_star                        5710 non-null   float64\n",
      " 11  five_star                          5710 non-null   float64\n",
      " 12  four_star                          5710 non-null   float64\n",
      " 13  three_star                         5710 non-null   float64\n",
      " 14  two_star                           5710 non-null   float64\n",
      " 15  one_star                           5710 non-null   float64\n",
      " 16  flash_sale                         0 non-null      object \n",
      " 17  upcoming_flash_sale                0 non-null      object \n",
      " 18  price_min                          5710 non-null   float64\n",
      " 19  price_min_before_discount          5710 non-null   float64\n",
      " 20  price_max                          5710 non-null   float64\n",
      " 21  price_max_before_discount          5710 non-null   float64\n",
      " 22  price                              5710 non-null   float64\n",
      " 23  price_before_discount              5710 non-null   float64\n",
      " 24  coin_earn_label                    0 non-null      object \n",
      " 25  liked_count                        5710 non-null   float64\n",
      " 26  view_count                         5710 non-null   float64\n",
      " 27  cmt_count                          5710 non-null   float64\n",
      " 28  is_preferred_plus_seller           5710 non-null   object \n",
      " 29  show_free_shipping                 5710 non-null   object \n",
      " 30  images                             5710 non-null   float64\n",
      " 31  video_info_list                    5710 non-null   float64\n",
      " 32  historical_sold                    5710 non-null   float64\n",
      "dtypes: float64(22), object(11)\n",
      "memory usage: 1.4+ MB\n"
     ]
    }
   ],
   "source": [
    "items_df.info()"
   ]
  },
  {
   "cell_type": "markdown",
   "metadata": {},
   "source": [
    "Nhận xét:\n",
    "\n",
    "1. Ta thấy 3 thuộc tính flash_sale, upcoming_flash_sale, coin_earn_label đều bị thiếu toàn bộ dữ liệu (0 non-null) nên vô nghĩa, ta tiến hành xóa bỏ ba thuộc tính này khỏi dataset.\n",
    "\n",
    "2. Ta lại thấy có một mẫu bị thiếu tất cả dữ liệu trừ thuộc tính name, tiến hành xóa mẫu này.\n",
    "\n",
    "Để đơn giản, ta có thể dùng phương thức dropna của pandas để xóa các dòng và cột bị thiếu toàn bộ dữ liệu:\n",
    "\n",
    "1. Truyền tham số how = 'all' và axis = 1  cho cột\n",
    "\n",
    "2. Truyền tham số thresh = 15 (những mẫu thiếu từ 15 thuộc tính) và axis = 0 cho dòng."
   ]
  },
  {
   "cell_type": "code",
   "execution_count": 10,
   "metadata": {},
   "outputs": [],
   "source": [
    "items_df = items_df.dropna(axis = 0, thresh = 15)\n",
    "items_df = items_df.dropna(axis = 1, how = 'all')"
   ]
  },
  {
   "cell_type": "code",
   "execution_count": 11,
   "metadata": {},
   "outputs": [
    {
     "name": "stdout",
     "output_type": "stream",
     "text": [
      "<class 'pandas.core.frame.DataFrame'>\n",
      "Int64Index: 5710 entries, 0 to 5710\n",
      "Data columns (total 30 columns):\n",
      " #   Column                             Non-Null Count  Dtype  \n",
      "---  ------                             --------------  -----  \n",
      " 0   category                           5710 non-null   object \n",
      " 1   shop_location                      5656 non-null   object \n",
      " 2   item_public_time                   5710 non-null   float64\n",
      " 3   item_be_got_time                   5710 non-null   float64\n",
      " 4   sell_time                          5710 non-null   float64\n",
      " 5   shopee_verified                    5710 non-null   object \n",
      " 6   discount                           3010 non-null   object \n",
      " 7   is_adult                           5709 non-null   object \n",
      " 8   options                            5710 non-null   float64\n",
      " 9   show_official_shop_label_in_title  5647 non-null   object \n",
      " 10  rating_star                        5710 non-null   float64\n",
      " 11  five_star                          5710 non-null   float64\n",
      " 12  four_star                          5710 non-null   float64\n",
      " 13  three_star                         5710 non-null   float64\n",
      " 14  two_star                           5710 non-null   float64\n",
      " 15  one_star                           5710 non-null   float64\n",
      " 16  price_min                          5710 non-null   float64\n",
      " 17  price_min_before_discount          5710 non-null   float64\n",
      " 18  price_max                          5710 non-null   float64\n",
      " 19  price_max_before_discount          5710 non-null   float64\n",
      " 20  price                              5710 non-null   float64\n",
      " 21  price_before_discount              5710 non-null   float64\n",
      " 22  liked_count                        5710 non-null   float64\n",
      " 23  view_count                         5710 non-null   float64\n",
      " 24  cmt_count                          5710 non-null   float64\n",
      " 25  is_preferred_plus_seller           5710 non-null   object \n",
      " 26  show_free_shipping                 5710 non-null   object \n",
      " 27  images                             5710 non-null   float64\n",
      " 28  video_info_list                    5710 non-null   float64\n",
      " 29  historical_sold                    5710 non-null   float64\n",
      "dtypes: float64(22), object(8)\n",
      "memory usage: 1.4+ MB\n"
     ]
    }
   ],
   "source": [
    "items_df.info()"
   ]
  },
  {
   "cell_type": "markdown",
   "metadata": {},
   "source": [
    "Kiểm tra lại ta thấy thuộc tính discount gần như có một nửa giá trị bị _thiếu_. Kiểm tra đối chiếu với các item trên shopee, ta thấy thực tế những mẫu bị _thiếu_ dữ liệu ở thuộc tính discount là do không có giảm giá (discount = 0). Ta tiến hành sửa bằng cách thay giá trị NA tại cột này thành 0."
   ]
  },
  {
   "cell_type": "code",
   "execution_count": 12,
   "metadata": {},
   "outputs": [],
   "source": [
    "items_df['discount'] = items_df['discount'].fillna(0)"
   ]
  },
  {
   "cell_type": "code",
   "execution_count": 13,
   "metadata": {},
   "outputs": [
    {
     "name": "stdout",
     "output_type": "stream",
     "text": [
      "<class 'pandas.core.frame.DataFrame'>\n",
      "Int64Index: 5710 entries, 0 to 5710\n",
      "Data columns (total 30 columns):\n",
      " #   Column                             Non-Null Count  Dtype  \n",
      "---  ------                             --------------  -----  \n",
      " 0   category                           5710 non-null   object \n",
      " 1   shop_location                      5656 non-null   object \n",
      " 2   item_public_time                   5710 non-null   float64\n",
      " 3   item_be_got_time                   5710 non-null   float64\n",
      " 4   sell_time                          5710 non-null   float64\n",
      " 5   shopee_verified                    5710 non-null   object \n",
      " 6   discount                           5710 non-null   object \n",
      " 7   is_adult                           5709 non-null   object \n",
      " 8   options                            5710 non-null   float64\n",
      " 9   show_official_shop_label_in_title  5647 non-null   object \n",
      " 10  rating_star                        5710 non-null   float64\n",
      " 11  five_star                          5710 non-null   float64\n",
      " 12  four_star                          5710 non-null   float64\n",
      " 13  three_star                         5710 non-null   float64\n",
      " 14  two_star                           5710 non-null   float64\n",
      " 15  one_star                           5710 non-null   float64\n",
      " 16  price_min                          5710 non-null   float64\n",
      " 17  price_min_before_discount          5710 non-null   float64\n",
      " 18  price_max                          5710 non-null   float64\n",
      " 19  price_max_before_discount          5710 non-null   float64\n",
      " 20  price                              5710 non-null   float64\n",
      " 21  price_before_discount              5710 non-null   float64\n",
      " 22  liked_count                        5710 non-null   float64\n",
      " 23  view_count                         5710 non-null   float64\n",
      " 24  cmt_count                          5710 non-null   float64\n",
      " 25  is_preferred_plus_seller           5710 non-null   object \n",
      " 26  show_free_shipping                 5710 non-null   object \n",
      " 27  images                             5710 non-null   float64\n",
      " 28  video_info_list                    5710 non-null   float64\n",
      " 29  historical_sold                    5710 non-null   float64\n",
      "dtypes: float64(22), object(8)\n",
      "memory usage: 1.4+ MB\n"
     ]
    }
   ],
   "source": [
    "items_df.info()"
   ]
  },
  {
   "cell_type": "markdown",
   "metadata": {},
   "source": [
    "Đến đây ta thấy: \n",
    "\n",
    "1. Cột is_adult có một vài mẫu bị _thiếu_ dữ liệu (xấp xỉ 0% theo [Phân bố giá trị của cột có kiểu dữ liệu không phải dạng số](#Phân-bố-giá-trị-của-cột-có-kiểu-dữ-liệu-không-phải-dạng-số)) \n",
    "  - Do số lượng mẫu thiếu dữ liệu ít \n",
    "  - -> Vậy nên ta có thể xóa những mẫu này.\n",
    "2. Thuộc tính show_official_shop_label_in_title _thiếu_ 1.1% (theo [Phân bố giá trị của cột có kiểu dữ liệu không phải dạng số](#Phân-bố-giá-trị-của-cột-có-kiểu-dữ-liệu-không-phải-dạng-số)).\n",
    "\n",
    "  - Do số lượng mẫu thiếu dữ liệu ít \n",
    "  - -> Vậy nên ta có thể xóa những mẫu này.\n",
    "\n",
    "3. Thuộc tính shop_location _thiếu_ 1% (theo [Phân bố giá trị của cột có kiểu dữ liệu không phải dạng số](#Phân-bố-giá-trị-của-cột-có-kiểu-dữ-liệu-không-phải-dạng-số))\n",
    "\n",
    "  - Ta có thể xóa các mẫu bị thiếu dữ liệu như 2 thuộc tính trên nhưng ta sẽ thử xử lý ở thuộc tính này thay vì xóa hẳn.\n",
    "\n",
    "  - Lưu ý rằng các dữ liệu này vẫn hoạt động tốt trên shopee nên ta dùng lệnh sau để xem những mẫu nào bị _thiếu_ và đối chiếu với trên shopee.\n",
    "```python\n",
    "items_df['shop_location'] = items_df['shop_location'].replace(pd.NA, 'None')\n",
    "items_df.loc[items_df['shop_location'] == 'None']\n",
    "```\n",
    "\n",
    "Sau khi đối chiếu ta được kết quả sau: \n",
    "\n",
    "Mẫu không thiếu:\n",
    "\n",
    "![shop_location_not_missing_value](images/shop_location_not_missing_value.jpg)\n",
    "\n",
    "Mẫu thiếu:\n",
    "\n",
    "![shop_location_missing_value](images/shop_location_missing_value.jpg)\n",
    "\n",
    "Tức là những mẫu có thuộc tính shop_location thiếu sẽ không hiển thị vị trí shop ở góc dưới.\n",
    "\n",
    "Vậy ta sẽ xử lý bằng cách thay các giá trị thiếu này thành chuỗi \"None\".\n",
    "\n"
   ]
  },
  {
   "cell_type": "code",
   "execution_count": 14,
   "metadata": {},
   "outputs": [],
   "source": [
    "items_df = items_df.dropna(subset = ['is_adult', 'show_official_shop_label_in_title'])"
   ]
  },
  {
   "cell_type": "code",
   "execution_count": 15,
   "metadata": {},
   "outputs": [
    {
     "data": {
      "text/html": [
       "<div>\n",
       "<style scoped>\n",
       "    .dataframe tbody tr th:only-of-type {\n",
       "        vertical-align: middle;\n",
       "    }\n",
       "\n",
       "    .dataframe tbody tr th {\n",
       "        vertical-align: top;\n",
       "    }\n",
       "\n",
       "    .dataframe thead th {\n",
       "        text-align: right;\n",
       "    }\n",
       "</style>\n",
       "<table border=\"1\" class=\"dataframe\">\n",
       "  <thead>\n",
       "    <tr style=\"text-align: right;\">\n",
       "      <th></th>\n",
       "      <th>category</th>\n",
       "      <th>shop_location</th>\n",
       "      <th>item_public_time</th>\n",
       "      <th>item_be_got_time</th>\n",
       "      <th>sell_time</th>\n",
       "      <th>shopee_verified</th>\n",
       "      <th>discount</th>\n",
       "      <th>is_adult</th>\n",
       "      <th>options</th>\n",
       "      <th>show_official_shop_label_in_title</th>\n",
       "      <th>rating_star</th>\n",
       "      <th>five_star</th>\n",
       "      <th>four_star</th>\n",
       "      <th>three_star</th>\n",
       "      <th>two_star</th>\n",
       "      <th>one_star</th>\n",
       "      <th>price_min</th>\n",
       "      <th>price_min_before_discount</th>\n",
       "      <th>price_max</th>\n",
       "      <th>price_max_before_discount</th>\n",
       "      <th>price</th>\n",
       "      <th>price_before_discount</th>\n",
       "      <th>liked_count</th>\n",
       "      <th>view_count</th>\n",
       "      <th>cmt_count</th>\n",
       "      <th>is_preferred_plus_seller</th>\n",
       "      <th>show_free_shipping</th>\n",
       "      <th>images</th>\n",
       "      <th>video_info_list</th>\n",
       "      <th>historical_sold</th>\n",
       "    </tr>\n",
       "  </thead>\n",
       "  <tbody>\n",
       "    <tr>\n",
       "      <th>701</th>\n",
       "      <td>Ao ngan tay khong co</td>\n",
       "      <td>None</td>\n",
       "      <td>1.608700e+09</td>\n",
       "      <td>1.609949e+09</td>\n",
       "      <td>1249018.0</td>\n",
       "      <td>False</td>\n",
       "      <td>0</td>\n",
       "      <td>False</td>\n",
       "      <td>1.0</td>\n",
       "      <td>False</td>\n",
       "      <td>0.0</td>\n",
       "      <td>0.0</td>\n",
       "      <td>0.0</td>\n",
       "      <td>0.0</td>\n",
       "      <td>0.0</td>\n",
       "      <td>0.0</td>\n",
       "      <td>5.000000e+10</td>\n",
       "      <td>-1.0</td>\n",
       "      <td>5.000000e+10</td>\n",
       "      <td>-1.0</td>\n",
       "      <td>5.000000e+10</td>\n",
       "      <td>0.0</td>\n",
       "      <td>0.0</td>\n",
       "      <td>3.0</td>\n",
       "      <td>0.0</td>\n",
       "      <td>False</td>\n",
       "      <td>False</td>\n",
       "      <td>1.0</td>\n",
       "      <td>0.0</td>\n",
       "      <td>0.0</td>\n",
       "    </tr>\n",
       "    <tr>\n",
       "      <th>1111</th>\n",
       "      <td>Ao so mi</td>\n",
       "      <td>None</td>\n",
       "      <td>1.609141e+09</td>\n",
       "      <td>1.609949e+09</td>\n",
       "      <td>808406.0</td>\n",
       "      <td>False</td>\n",
       "      <td>0</td>\n",
       "      <td>False</td>\n",
       "      <td>6.0</td>\n",
       "      <td>False</td>\n",
       "      <td>0.0</td>\n",
       "      <td>0.0</td>\n",
       "      <td>0.0</td>\n",
       "      <td>0.0</td>\n",
       "      <td>0.0</td>\n",
       "      <td>0.0</td>\n",
       "      <td>8.201000e+09</td>\n",
       "      <td>-1.0</td>\n",
       "      <td>8.201000e+09</td>\n",
       "      <td>-1.0</td>\n",
       "      <td>8.201000e+09</td>\n",
       "      <td>0.0</td>\n",
       "      <td>0.0</td>\n",
       "      <td>1.0</td>\n",
       "      <td>0.0</td>\n",
       "      <td>False</td>\n",
       "      <td>False</td>\n",
       "      <td>2.0</td>\n",
       "      <td>0.0</td>\n",
       "      <td>0.0</td>\n",
       "    </tr>\n",
       "    <tr>\n",
       "      <th>1435</th>\n",
       "      <td>Ao so mi</td>\n",
       "      <td>None</td>\n",
       "      <td>1.609141e+09</td>\n",
       "      <td>1.609949e+09</td>\n",
       "      <td>808836.0</td>\n",
       "      <td>False</td>\n",
       "      <td>0</td>\n",
       "      <td>False</td>\n",
       "      <td>9.0</td>\n",
       "      <td>False</td>\n",
       "      <td>0.0</td>\n",
       "      <td>0.0</td>\n",
       "      <td>0.0</td>\n",
       "      <td>0.0</td>\n",
       "      <td>0.0</td>\n",
       "      <td>0.0</td>\n",
       "      <td>9.063000e+09</td>\n",
       "      <td>-1.0</td>\n",
       "      <td>9.063000e+09</td>\n",
       "      <td>-1.0</td>\n",
       "      <td>9.063000e+09</td>\n",
       "      <td>0.0</td>\n",
       "      <td>0.0</td>\n",
       "      <td>1.0</td>\n",
       "      <td>0.0</td>\n",
       "      <td>False</td>\n",
       "      <td>False</td>\n",
       "      <td>7.0</td>\n",
       "      <td>0.0</td>\n",
       "      <td>0.0</td>\n",
       "    </tr>\n",
       "    <tr>\n",
       "      <th>1490</th>\n",
       "      <td>Ao so mi</td>\n",
       "      <td>None</td>\n",
       "      <td>1.590679e+09</td>\n",
       "      <td>1.609949e+09</td>\n",
       "      <td>19270053.0</td>\n",
       "      <td>False</td>\n",
       "      <td>0</td>\n",
       "      <td>False</td>\n",
       "      <td>8.0</td>\n",
       "      <td>False</td>\n",
       "      <td>0.0</td>\n",
       "      <td>0.0</td>\n",
       "      <td>0.0</td>\n",
       "      <td>0.0</td>\n",
       "      <td>0.0</td>\n",
       "      <td>0.0</td>\n",
       "      <td>2.500000e+10</td>\n",
       "      <td>-1.0</td>\n",
       "      <td>2.500000e+10</td>\n",
       "      <td>-1.0</td>\n",
       "      <td>2.500000e+10</td>\n",
       "      <td>0.0</td>\n",
       "      <td>0.0</td>\n",
       "      <td>0.0</td>\n",
       "      <td>0.0</td>\n",
       "      <td>False</td>\n",
       "      <td>False</td>\n",
       "      <td>1.0</td>\n",
       "      <td>0.0</td>\n",
       "      <td>0.0</td>\n",
       "    </tr>\n",
       "    <tr>\n",
       "      <th>1795</th>\n",
       "      <td>Ao so mi</td>\n",
       "      <td>None</td>\n",
       "      <td>1.590679e+09</td>\n",
       "      <td>1.609949e+09</td>\n",
       "      <td>19270077.0</td>\n",
       "      <td>False</td>\n",
       "      <td>0</td>\n",
       "      <td>False</td>\n",
       "      <td>8.0</td>\n",
       "      <td>False</td>\n",
       "      <td>0.0</td>\n",
       "      <td>0.0</td>\n",
       "      <td>0.0</td>\n",
       "      <td>0.0</td>\n",
       "      <td>0.0</td>\n",
       "      <td>0.0</td>\n",
       "      <td>2.500000e+10</td>\n",
       "      <td>-1.0</td>\n",
       "      <td>2.500000e+10</td>\n",
       "      <td>-1.0</td>\n",
       "      <td>2.500000e+10</td>\n",
       "      <td>0.0</td>\n",
       "      <td>0.0</td>\n",
       "      <td>1.0</td>\n",
       "      <td>0.0</td>\n",
       "      <td>False</td>\n",
       "      <td>False</td>\n",
       "      <td>1.0</td>\n",
       "      <td>0.0</td>\n",
       "      <td>0.0</td>\n",
       "    </tr>\n",
       "    <tr>\n",
       "      <th>2370</th>\n",
       "      <td>Balo/ Tui/ Vi</td>\n",
       "      <td>None</td>\n",
       "      <td>1.607187e+09</td>\n",
       "      <td>1.609994e+09</td>\n",
       "      <td>2807274.0</td>\n",
       "      <td>False</td>\n",
       "      <td>0</td>\n",
       "      <td>False</td>\n",
       "      <td>5.0</td>\n",
       "      <td>False</td>\n",
       "      <td>0.0</td>\n",
       "      <td>0.0</td>\n",
       "      <td>0.0</td>\n",
       "      <td>0.0</td>\n",
       "      <td>0.0</td>\n",
       "      <td>0.0</td>\n",
       "      <td>1.694000e+10</td>\n",
       "      <td>-1.0</td>\n",
       "      <td>1.694000e+10</td>\n",
       "      <td>-1.0</td>\n",
       "      <td>1.694000e+10</td>\n",
       "      <td>0.0</td>\n",
       "      <td>0.0</td>\n",
       "      <td>0.0</td>\n",
       "      <td>0.0</td>\n",
       "      <td>False</td>\n",
       "      <td>False</td>\n",
       "      <td>9.0</td>\n",
       "      <td>0.0</td>\n",
       "      <td>0.0</td>\n",
       "    </tr>\n",
       "    <tr>\n",
       "      <th>2375</th>\n",
       "      <td>Balo/ Tui/ Vi</td>\n",
       "      <td>None</td>\n",
       "      <td>1.607187e+09</td>\n",
       "      <td>1.609994e+09</td>\n",
       "      <td>2807280.0</td>\n",
       "      <td>False</td>\n",
       "      <td>0</td>\n",
       "      <td>False</td>\n",
       "      <td>5.0</td>\n",
       "      <td>False</td>\n",
       "      <td>0.0</td>\n",
       "      <td>0.0</td>\n",
       "      <td>0.0</td>\n",
       "      <td>0.0</td>\n",
       "      <td>0.0</td>\n",
       "      <td>0.0</td>\n",
       "      <td>1.694000e+10</td>\n",
       "      <td>-1.0</td>\n",
       "      <td>1.694000e+10</td>\n",
       "      <td>-1.0</td>\n",
       "      <td>1.694000e+10</td>\n",
       "      <td>0.0</td>\n",
       "      <td>0.0</td>\n",
       "      <td>0.0</td>\n",
       "      <td>0.0</td>\n",
       "      <td>False</td>\n",
       "      <td>False</td>\n",
       "      <td>9.0</td>\n",
       "      <td>0.0</td>\n",
       "      <td>0.0</td>\n",
       "    </tr>\n",
       "    <tr>\n",
       "      <th>2638</th>\n",
       "      <td>Balo/ Tui/ Vi</td>\n",
       "      <td>None</td>\n",
       "      <td>1.607187e+09</td>\n",
       "      <td>1.609994e+09</td>\n",
       "      <td>2807249.0</td>\n",
       "      <td>False</td>\n",
       "      <td>0</td>\n",
       "      <td>False</td>\n",
       "      <td>5.0</td>\n",
       "      <td>False</td>\n",
       "      <td>0.0</td>\n",
       "      <td>0.0</td>\n",
       "      <td>0.0</td>\n",
       "      <td>0.0</td>\n",
       "      <td>0.0</td>\n",
       "      <td>0.0</td>\n",
       "      <td>1.694000e+10</td>\n",
       "      <td>-1.0</td>\n",
       "      <td>1.694000e+10</td>\n",
       "      <td>-1.0</td>\n",
       "      <td>1.694000e+10</td>\n",
       "      <td>0.0</td>\n",
       "      <td>0.0</td>\n",
       "      <td>0.0</td>\n",
       "      <td>0.0</td>\n",
       "      <td>False</td>\n",
       "      <td>False</td>\n",
       "      <td>9.0</td>\n",
       "      <td>0.0</td>\n",
       "      <td>0.0</td>\n",
       "    </tr>\n",
       "    <tr>\n",
       "      <th>2671</th>\n",
       "      <td>Balo/ Tui/ Vi</td>\n",
       "      <td>None</td>\n",
       "      <td>1.607187e+09</td>\n",
       "      <td>1.609994e+09</td>\n",
       "      <td>2807256.0</td>\n",
       "      <td>False</td>\n",
       "      <td>0</td>\n",
       "      <td>False</td>\n",
       "      <td>5.0</td>\n",
       "      <td>False</td>\n",
       "      <td>0.0</td>\n",
       "      <td>0.0</td>\n",
       "      <td>0.0</td>\n",
       "      <td>0.0</td>\n",
       "      <td>0.0</td>\n",
       "      <td>0.0</td>\n",
       "      <td>1.694000e+10</td>\n",
       "      <td>-1.0</td>\n",
       "      <td>1.694000e+10</td>\n",
       "      <td>-1.0</td>\n",
       "      <td>1.694000e+10</td>\n",
       "      <td>0.0</td>\n",
       "      <td>0.0</td>\n",
       "      <td>0.0</td>\n",
       "      <td>0.0</td>\n",
       "      <td>False</td>\n",
       "      <td>False</td>\n",
       "      <td>9.0</td>\n",
       "      <td>0.0</td>\n",
       "      <td>0.0</td>\n",
       "    </tr>\n",
       "    <tr>\n",
       "      <th>2753</th>\n",
       "      <td>Balo/ Tui/ Vi</td>\n",
       "      <td>None</td>\n",
       "      <td>1.607187e+09</td>\n",
       "      <td>1.609994e+09</td>\n",
       "      <td>2807268.0</td>\n",
       "      <td>False</td>\n",
       "      <td>0</td>\n",
       "      <td>False</td>\n",
       "      <td>5.0</td>\n",
       "      <td>False</td>\n",
       "      <td>0.0</td>\n",
       "      <td>0.0</td>\n",
       "      <td>0.0</td>\n",
       "      <td>0.0</td>\n",
       "      <td>0.0</td>\n",
       "      <td>0.0</td>\n",
       "      <td>1.694000e+10</td>\n",
       "      <td>-1.0</td>\n",
       "      <td>1.694000e+10</td>\n",
       "      <td>-1.0</td>\n",
       "      <td>1.694000e+10</td>\n",
       "      <td>0.0</td>\n",
       "      <td>0.0</td>\n",
       "      <td>0.0</td>\n",
       "      <td>0.0</td>\n",
       "      <td>False</td>\n",
       "      <td>False</td>\n",
       "      <td>9.0</td>\n",
       "      <td>0.0</td>\n",
       "      <td>0.0</td>\n",
       "    </tr>\n",
       "    <tr>\n",
       "      <th>4883</th>\n",
       "      <td>Quan</td>\n",
       "      <td>None</td>\n",
       "      <td>1.608304e+09</td>\n",
       "      <td>1.609992e+09</td>\n",
       "      <td>1688170.0</td>\n",
       "      <td>False</td>\n",
       "      <td>0</td>\n",
       "      <td>False</td>\n",
       "      <td>5.0</td>\n",
       "      <td>False</td>\n",
       "      <td>0.0</td>\n",
       "      <td>0.0</td>\n",
       "      <td>0.0</td>\n",
       "      <td>0.0</td>\n",
       "      <td>0.0</td>\n",
       "      <td>0.0</td>\n",
       "      <td>2.000000e+10</td>\n",
       "      <td>-1.0</td>\n",
       "      <td>2.000000e+10</td>\n",
       "      <td>-1.0</td>\n",
       "      <td>2.000000e+10</td>\n",
       "      <td>0.0</td>\n",
       "      <td>0.0</td>\n",
       "      <td>0.0</td>\n",
       "      <td>0.0</td>\n",
       "      <td>False</td>\n",
       "      <td>False</td>\n",
       "      <td>5.0</td>\n",
       "      <td>0.0</td>\n",
       "      <td>0.0</td>\n",
       "    </tr>\n",
       "    <tr>\n",
       "      <th>5095</th>\n",
       "      <td>Quan</td>\n",
       "      <td>None</td>\n",
       "      <td>1.608439e+09</td>\n",
       "      <td>1.609992e+09</td>\n",
       "      <td>1552897.0</td>\n",
       "      <td>False</td>\n",
       "      <td>0</td>\n",
       "      <td>False</td>\n",
       "      <td>6.0</td>\n",
       "      <td>False</td>\n",
       "      <td>0.0</td>\n",
       "      <td>0.0</td>\n",
       "      <td>0.0</td>\n",
       "      <td>0.0</td>\n",
       "      <td>0.0</td>\n",
       "      <td>0.0</td>\n",
       "      <td>1.853330e+10</td>\n",
       "      <td>-1.0</td>\n",
       "      <td>1.853330e+10</td>\n",
       "      <td>-1.0</td>\n",
       "      <td>1.853330e+10</td>\n",
       "      <td>0.0</td>\n",
       "      <td>0.0</td>\n",
       "      <td>3.0</td>\n",
       "      <td>0.0</td>\n",
       "      <td>False</td>\n",
       "      <td>False</td>\n",
       "      <td>5.0</td>\n",
       "      <td>0.0</td>\n",
       "      <td>0.0</td>\n",
       "    </tr>\n",
       "    <tr>\n",
       "      <th>5387</th>\n",
       "      <td>Quan</td>\n",
       "      <td>None</td>\n",
       "      <td>1.608374e+09</td>\n",
       "      <td>1.609992e+09</td>\n",
       "      <td>1617607.0</td>\n",
       "      <td>False</td>\n",
       "      <td>0</td>\n",
       "      <td>False</td>\n",
       "      <td>6.0</td>\n",
       "      <td>False</td>\n",
       "      <td>0.0</td>\n",
       "      <td>0.0</td>\n",
       "      <td>0.0</td>\n",
       "      <td>0.0</td>\n",
       "      <td>0.0</td>\n",
       "      <td>0.0</td>\n",
       "      <td>2.253330e+10</td>\n",
       "      <td>-1.0</td>\n",
       "      <td>2.253330e+10</td>\n",
       "      <td>-1.0</td>\n",
       "      <td>2.253330e+10</td>\n",
       "      <td>0.0</td>\n",
       "      <td>0.0</td>\n",
       "      <td>0.0</td>\n",
       "      <td>0.0</td>\n",
       "      <td>False</td>\n",
       "      <td>False</td>\n",
       "      <td>5.0</td>\n",
       "      <td>0.0</td>\n",
       "      <td>0.0</td>\n",
       "    </tr>\n",
       "  </tbody>\n",
       "</table>\n",
       "</div>"
      ],
      "text/plain": [
       "                  category shop_location  item_public_time  item_be_got_time   sell_time shopee_verified discount is_adult  options show_official_shop_label_in_title  rating_star  five_star  four_star  three_star  two_star  one_star     price_min  price_min_before_discount     price_max  price_max_before_discount         price  price_before_discount  liked_count  view_count  cmt_count is_preferred_plus_seller show_free_shipping  images  video_info_list  historical_sold\n",
       "701   Ao ngan tay khong co          None      1.608700e+09      1.609949e+09   1249018.0           False        0    False      1.0                             False          0.0        0.0        0.0         0.0       0.0       0.0  5.000000e+10                       -1.0  5.000000e+10                       -1.0  5.000000e+10                    0.0          0.0         3.0        0.0                    False              False     1.0              0.0              0.0\n",
       "1111              Ao so mi          None      1.609141e+09      1.609949e+09    808406.0           False        0    False      6.0                             False          0.0        0.0        0.0         0.0       0.0       0.0  8.201000e+09                       -1.0  8.201000e+09                       -1.0  8.201000e+09                    0.0          0.0         1.0        0.0                    False              False     2.0              0.0              0.0\n",
       "1435              Ao so mi          None      1.609141e+09      1.609949e+09    808836.0           False        0    False      9.0                             False          0.0        0.0        0.0         0.0       0.0       0.0  9.063000e+09                       -1.0  9.063000e+09                       -1.0  9.063000e+09                    0.0          0.0         1.0        0.0                    False              False     7.0              0.0              0.0\n",
       "1490              Ao so mi          None      1.590679e+09      1.609949e+09  19270053.0           False        0    False      8.0                             False          0.0        0.0        0.0         0.0       0.0       0.0  2.500000e+10                       -1.0  2.500000e+10                       -1.0  2.500000e+10                    0.0          0.0         0.0        0.0                    False              False     1.0              0.0              0.0\n",
       "1795              Ao so mi          None      1.590679e+09      1.609949e+09  19270077.0           False        0    False      8.0                             False          0.0        0.0        0.0         0.0       0.0       0.0  2.500000e+10                       -1.0  2.500000e+10                       -1.0  2.500000e+10                    0.0          0.0         1.0        0.0                    False              False     1.0              0.0              0.0\n",
       "2370         Balo/ Tui/ Vi          None      1.607187e+09      1.609994e+09   2807274.0           False        0    False      5.0                             False          0.0        0.0        0.0         0.0       0.0       0.0  1.694000e+10                       -1.0  1.694000e+10                       -1.0  1.694000e+10                    0.0          0.0         0.0        0.0                    False              False     9.0              0.0              0.0\n",
       "2375         Balo/ Tui/ Vi          None      1.607187e+09      1.609994e+09   2807280.0           False        0    False      5.0                             False          0.0        0.0        0.0         0.0       0.0       0.0  1.694000e+10                       -1.0  1.694000e+10                       -1.0  1.694000e+10                    0.0          0.0         0.0        0.0                    False              False     9.0              0.0              0.0\n",
       "2638         Balo/ Tui/ Vi          None      1.607187e+09      1.609994e+09   2807249.0           False        0    False      5.0                             False          0.0        0.0        0.0         0.0       0.0       0.0  1.694000e+10                       -1.0  1.694000e+10                       -1.0  1.694000e+10                    0.0          0.0         0.0        0.0                    False              False     9.0              0.0              0.0\n",
       "2671         Balo/ Tui/ Vi          None      1.607187e+09      1.609994e+09   2807256.0           False        0    False      5.0                             False          0.0        0.0        0.0         0.0       0.0       0.0  1.694000e+10                       -1.0  1.694000e+10                       -1.0  1.694000e+10                    0.0          0.0         0.0        0.0                    False              False     9.0              0.0              0.0\n",
       "2753         Balo/ Tui/ Vi          None      1.607187e+09      1.609994e+09   2807268.0           False        0    False      5.0                             False          0.0        0.0        0.0         0.0       0.0       0.0  1.694000e+10                       -1.0  1.694000e+10                       -1.0  1.694000e+10                    0.0          0.0         0.0        0.0                    False              False     9.0              0.0              0.0\n",
       "4883                  Quan          None      1.608304e+09      1.609992e+09   1688170.0           False        0    False      5.0                             False          0.0        0.0        0.0         0.0       0.0       0.0  2.000000e+10                       -1.0  2.000000e+10                       -1.0  2.000000e+10                    0.0          0.0         0.0        0.0                    False              False     5.0              0.0              0.0\n",
       "5095                  Quan          None      1.608439e+09      1.609992e+09   1552897.0           False        0    False      6.0                             False          0.0        0.0        0.0         0.0       0.0       0.0  1.853330e+10                       -1.0  1.853330e+10                       -1.0  1.853330e+10                    0.0          0.0         3.0        0.0                    False              False     5.0              0.0              0.0\n",
       "5387                  Quan          None      1.608374e+09      1.609992e+09   1617607.0           False        0    False      6.0                             False          0.0        0.0        0.0         0.0       0.0       0.0  2.253330e+10                       -1.0  2.253330e+10                       -1.0  2.253330e+10                    0.0          0.0         0.0        0.0                    False              False     5.0              0.0              0.0"
      ]
     },
     "execution_count": 15,
     "metadata": {},
     "output_type": "execute_result"
    }
   ],
   "source": [
    "items_df['shop_location'] = items_df['shop_location'].replace(pd.NA, 'None')\n",
    "items_df.loc[items_df['shop_location'] == 'None']"
   ]
  },
  {
   "cell_type": "code",
   "execution_count": 16,
   "metadata": {},
   "outputs": [
    {
     "name": "stdout",
     "output_type": "stream",
     "text": [
      "<class 'pandas.core.frame.DataFrame'>\n",
      "Int64Index: 5647 entries, 0 to 5710\n",
      "Data columns (total 30 columns):\n",
      " #   Column                             Non-Null Count  Dtype  \n",
      "---  ------                             --------------  -----  \n",
      " 0   category                           5647 non-null   object \n",
      " 1   shop_location                      5647 non-null   object \n",
      " 2   item_public_time                   5647 non-null   float64\n",
      " 3   item_be_got_time                   5647 non-null   float64\n",
      " 4   sell_time                          5647 non-null   float64\n",
      " 5   shopee_verified                    5647 non-null   object \n",
      " 6   discount                           5647 non-null   object \n",
      " 7   is_adult                           5647 non-null   object \n",
      " 8   options                            5647 non-null   float64\n",
      " 9   show_official_shop_label_in_title  5647 non-null   object \n",
      " 10  rating_star                        5647 non-null   float64\n",
      " 11  five_star                          5647 non-null   float64\n",
      " 12  four_star                          5647 non-null   float64\n",
      " 13  three_star                         5647 non-null   float64\n",
      " 14  two_star                           5647 non-null   float64\n",
      " 15  one_star                           5647 non-null   float64\n",
      " 16  price_min                          5647 non-null   float64\n",
      " 17  price_min_before_discount          5647 non-null   float64\n",
      " 18  price_max                          5647 non-null   float64\n",
      " 19  price_max_before_discount          5647 non-null   float64\n",
      " 20  price                              5647 non-null   float64\n",
      " 21  price_before_discount              5647 non-null   float64\n",
      " 22  liked_count                        5647 non-null   float64\n",
      " 23  view_count                         5647 non-null   float64\n",
      " 24  cmt_count                          5647 non-null   float64\n",
      " 25  is_preferred_plus_seller           5647 non-null   object \n",
      " 26  show_free_shipping                 5647 non-null   object \n",
      " 27  images                             5647 non-null   float64\n",
      " 28  video_info_list                    5647 non-null   float64\n",
      " 29  historical_sold                    5647 non-null   float64\n",
      "dtypes: float64(22), object(8)\n",
      "memory usage: 1.3+ MB\n"
     ]
    }
   ],
   "source": [
    "# Kiểm tra lại thấy không còn dữ liệu thiếu nữa\n",
    "\n",
    "items_df.info()"
   ]
  },
  {
   "cell_type": "markdown",
   "metadata": {},
   "source": [
    "### Xử lý kiểu dữ liệu cột"
   ]
  },
  {
   "cell_type": "markdown",
   "metadata": {},
   "source": [
    "Cột `discount` chuyển thành dạng `float`\n",
    "\n",
    "Cột `shopee_verified`, `is_adult`, `show_official_shop_label_in_title`, `is_preferred_plus_seller `, `show_free_shipping` chuyển thành dạng 1, 0\n",
    "\n"
   ]
  },
  {
   "cell_type": "code",
   "execution_count": 17,
   "metadata": {},
   "outputs": [
    {
     "data": {
      "text/plain": [
       "category                              object\n",
       "shop_location                         object\n",
       "item_public_time                     float64\n",
       "item_be_got_time                     float64\n",
       "sell_time                            float64\n",
       "shopee_verified                       object\n",
       "discount                              object\n",
       "is_adult                              object\n",
       "options                              float64\n",
       "show_official_shop_label_in_title     object\n",
       "rating_star                          float64\n",
       "five_star                            float64\n",
       "four_star                            float64\n",
       "three_star                           float64\n",
       "two_star                             float64\n",
       "one_star                             float64\n",
       "price_min                            float64\n",
       "price_min_before_discount            float64\n",
       "price_max                            float64\n",
       "price_max_before_discount            float64\n",
       "price                                float64\n",
       "price_before_discount                float64\n",
       "liked_count                          float64\n",
       "view_count                           float64\n",
       "cmt_count                            float64\n",
       "is_preferred_plus_seller              object\n",
       "show_free_shipping                    object\n",
       "images                               float64\n",
       "video_info_list                      float64\n",
       "historical_sold                      float64\n",
       "dtype: object"
      ]
     },
     "execution_count": 17,
     "metadata": {},
     "output_type": "execute_result"
    }
   ],
   "source": [
    "# Xem lại kiểu dữ liệu các cột\n",
    "items_df.dtypes"
   ]
  },
  {
   "cell_type": "markdown",
   "metadata": {},
   "source": [
    "#### Xử lý cột `discount`\n",
    "\n",
    "Đầu tiên, ta xem các giá trị của discount"
   ]
  },
  {
   "cell_type": "code",
   "execution_count": 18,
   "metadata": {},
   "outputs": [
    {
     "data": {
      "text/plain": [
       "array(['39%', '49%', '50%', 0, '29%', '17%', '47%', '45%', '30%', '43%',\n",
       "       '46%', '38%', '34%', '44%', '36%', '33%', '40%', '28%', '19%',\n",
       "       '22%', '23%', '41%', '48%', '24%', '25%', '31%', '10%', '15%',\n",
       "       '35%', '20%', '27%', '32%', '42%', '14%', '18%', '37%', '26%',\n",
       "       '21%', '5%', '2%', '12%', '16%', '61%', '13%', '1%', '4%', '8%',\n",
       "       '7%', '11%', '60%', '9%', '56%', '3%', '51%', '87%', '6%'],\n",
       "      dtype=object)"
      ]
     },
     "execution_count": 18,
     "metadata": {},
     "output_type": "execute_result"
    }
   ],
   "source": [
    "items_df['discount'].unique()"
   ]
  },
  {
   "cell_type": "code",
   "execution_count": 19,
   "metadata": {},
   "outputs": [
    {
     "data": {
      "text/plain": [
       "'33'"
      ]
     },
     "execution_count": 19,
     "metadata": {},
     "output_type": "execute_result"
    }
   ],
   "source": [
    "# Ta sẽ dùng RegEX để sửa lại giá trị cột discount, test thử như ở dưới\n",
    "\n",
    "result = re.findall(r'\\d+','33%')\n",
    "result[0]"
   ]
  },
  {
   "cell_type": "code",
   "execution_count": 20,
   "metadata": {},
   "outputs": [],
   "source": [
    "# Xử lý cột discount\n",
    "\n",
    "def apply_discount(discount):\n",
    "    if discount == 0:\n",
    "        return 0\n",
    "    else:\n",
    "        result = re.findall(r'\\d+',discount)\n",
    "        return result[0]\n",
    "    pass\n",
    "\n",
    "items_df['discount'] = items_df.apply(lambda row: apply_discount(row['discount']), axis=1)\n"
   ]
  },
  {
   "cell_type": "code",
   "execution_count": 21,
   "metadata": {},
   "outputs": [],
   "source": [
    "def convert_col_dtype(col):\n",
    "    if col.name in ['discount']:\n",
    "        return pd.to_numeric(col, errors='coerce')\n",
    "    return col\n",
    "\n",
    "items_df = items_df.apply(convert_col_dtype)"
   ]
  },
  {
   "cell_type": "code",
   "execution_count": 22,
   "metadata": {},
   "outputs": [
    {
     "data": {
      "text/plain": [
       "array([39, 49, 50,  0, 29, 17, 47, 45, 30, 43, 46, 38, 34, 44, 36, 33, 40,\n",
       "       28, 19, 22, 23, 41, 48, 24, 25, 31, 10, 15, 35, 20, 27, 32, 42, 14,\n",
       "       18, 37, 26, 21,  5,  2, 12, 16, 61, 13,  1,  4,  8,  7, 11, 60,  9,\n",
       "       56,  3, 51, 87,  6])"
      ]
     },
     "execution_count": 22,
     "metadata": {},
     "output_type": "execute_result"
    }
   ],
   "source": [
    "# Kiểm tra lại các giá trị cột discount\n",
    "items_df['discount'].unique()"
   ]
  },
  {
   "cell_type": "markdown",
   "metadata": {},
   "source": [
    "#### Xử lý các cột dạng bool\n",
    "\n",
    "Trước tiên, ta kiểm tra giá trị của các cột này"
   ]
  },
  {
   "cell_type": "code",
   "execution_count": 23,
   "metadata": {},
   "outputs": [
    {
     "data": {
      "text/plain": [
       "array([True, False], dtype=object)"
      ]
     },
     "execution_count": 23,
     "metadata": {},
     "output_type": "execute_result"
    }
   ],
   "source": [
    "items_df['shopee_verified'].unique()"
   ]
  },
  {
   "cell_type": "code",
   "execution_count": 24,
   "metadata": {},
   "outputs": [
    {
     "data": {
      "text/plain": [
       "array(['False'], dtype=object)"
      ]
     },
     "execution_count": 24,
     "metadata": {},
     "output_type": "execute_result"
    }
   ],
   "source": [
    "items_df['is_adult'].unique()"
   ]
  },
  {
   "cell_type": "code",
   "execution_count": 25,
   "metadata": {},
   "outputs": [
    {
     "data": {
      "text/plain": [
       "array(['False', 'True'], dtype=object)"
      ]
     },
     "execution_count": 25,
     "metadata": {},
     "output_type": "execute_result"
    }
   ],
   "source": [
    "items_df['show_official_shop_label_in_title'].unique()"
   ]
  },
  {
   "cell_type": "code",
   "execution_count": 26,
   "metadata": {},
   "outputs": [
    {
     "data": {
      "text/plain": [
       "array([True, False], dtype=object)"
      ]
     },
     "execution_count": 26,
     "metadata": {},
     "output_type": "execute_result"
    }
   ],
   "source": [
    "items_df['is_preferred_plus_seller'].unique()"
   ]
  },
  {
   "cell_type": "code",
   "execution_count": 27,
   "metadata": {},
   "outputs": [
    {
     "data": {
      "text/plain": [
       "array([False, True], dtype=object)"
      ]
     },
     "execution_count": 27,
     "metadata": {},
     "output_type": "execute_result"
    }
   ],
   "source": [
    "items_df['show_free_shipping'].unique()"
   ]
  },
  {
   "cell_type": "markdown",
   "metadata": {},
   "source": [
    "Ta thấy:\n",
    "\n",
    "- Cột `is_adult` chỉ có giá trị False nên vô nghĩa, ta xóa cột này.\n",
    "\n",
    "- Các cột `is_preferred_plus_seller`, `show_free_shipping`, `shopee_verified` đều đã ở dạng bool ta chỉ việc chuyển về dạng interger bằng hàm astype(int)\n",
    "\n",
    "- Cột `show_official_shop_label_in_title` đang có 2 giá trị: 'False', 'True'. Tương tự như xử lý với cột `discount`, ta chuyển hai giá trị 'False' và 'True' về dạng chuẩn, sau đó mới gọi astype(int)\n"
   ]
  },
  {
   "cell_type": "code",
   "execution_count": 28,
   "metadata": {},
   "outputs": [],
   "source": [
    "items_df = items_df.drop('is_adult', axis = 1)"
   ]
  },
  {
   "cell_type": "code",
   "execution_count": 29,
   "metadata": {},
   "outputs": [],
   "source": [
    "items_df['shopee_verified'] = items_df['shopee_verified'].astype(int)\n",
    "items_df['is_preferred_plus_seller'] = items_df['is_preferred_plus_seller'].astype(int)\n",
    "items_df['show_free_shipping'] = items_df['show_free_shipping'].astype(int)"
   ]
  },
  {
   "cell_type": "code",
   "execution_count": 30,
   "metadata": {},
   "outputs": [],
   "source": [
    "def apply_bool(FalseOrTrue):\n",
    "    if FalseOrTrue == 'False':\n",
    "        return False\n",
    "    if FalseOrTrue == 'True':\n",
    "        return True\n",
    "    else:\n",
    "        return FalseOrTrue\n",
    "    pass\n",
    "\n",
    "items_df['show_official_shop_label_in_title'] = items_df.apply(lambda row: apply_bool(row['show_official_shop_label_in_title']), axis=1)\n",
    "\n",
    "items_df['show_official_shop_label_in_title'] = items_df['show_official_shop_label_in_title'].astype(int)\n"
   ]
  },
  {
   "cell_type": "code",
   "execution_count": 31,
   "metadata": {},
   "outputs": [
    {
     "data": {
      "text/plain": [
       "array([1, 0])"
      ]
     },
     "execution_count": 31,
     "metadata": {},
     "output_type": "execute_result"
    }
   ],
   "source": [
    "#Kiểm tra lại\n",
    "\n",
    "items_df['shopee_verified'].unique()"
   ]
  },
  {
   "cell_type": "code",
   "execution_count": 32,
   "metadata": {},
   "outputs": [
    {
     "data": {
      "text/plain": [
       "array([0, 1])"
      ]
     },
     "execution_count": 32,
     "metadata": {},
     "output_type": "execute_result"
    }
   ],
   "source": [
    "items_df['show_official_shop_label_in_title'].unique()"
   ]
  },
  {
   "cell_type": "code",
   "execution_count": 33,
   "metadata": {},
   "outputs": [
    {
     "data": {
      "text/plain": [
       "array([1, 0])"
      ]
     },
     "execution_count": 33,
     "metadata": {},
     "output_type": "execute_result"
    }
   ],
   "source": [
    "items_df['is_preferred_plus_seller'].unique()"
   ]
  },
  {
   "cell_type": "code",
   "execution_count": 34,
   "metadata": {},
   "outputs": [
    {
     "data": {
      "text/plain": [
       "array([0, 1])"
      ]
     },
     "execution_count": 34,
     "metadata": {},
     "output_type": "execute_result"
    }
   ],
   "source": [
    "\n",
    "items_df['show_free_shipping'].unique()"
   ]
  },
  {
   "cell_type": "markdown",
   "metadata": {},
   "source": [
    "Đến đây, ta đã chuyển xong các cột về dạng numeric, ta kiểm tra lại bằng lệnh dtypes của pandas"
   ]
  },
  {
   "cell_type": "code",
   "execution_count": 35,
   "metadata": {},
   "outputs": [
    {
     "data": {
      "text/plain": [
       "category                              object\n",
       "shop_location                         object\n",
       "item_public_time                     float64\n",
       "item_be_got_time                     float64\n",
       "sell_time                            float64\n",
       "shopee_verified                        int64\n",
       "discount                               int64\n",
       "options                              float64\n",
       "show_official_shop_label_in_title      int64\n",
       "rating_star                          float64\n",
       "five_star                            float64\n",
       "four_star                            float64\n",
       "three_star                           float64\n",
       "two_star                             float64\n",
       "one_star                             float64\n",
       "price_min                            float64\n",
       "price_min_before_discount            float64\n",
       "price_max                            float64\n",
       "price_max_before_discount            float64\n",
       "price                                float64\n",
       "price_before_discount                float64\n",
       "liked_count                          float64\n",
       "view_count                           float64\n",
       "cmt_count                            float64\n",
       "is_preferred_plus_seller               int64\n",
       "show_free_shipping                     int64\n",
       "images                               float64\n",
       "video_info_list                      float64\n",
       "historical_sold                      float64\n",
       "dtype: object"
      ]
     },
     "execution_count": 35,
     "metadata": {},
     "output_type": "execute_result"
    }
   ],
   "source": [
    "items_df.dtypes"
   ]
  },
  {
   "cell_type": "markdown",
   "metadata": {},
   "source": [
    "### Xử lý giá trị không hợp lệ\n",
    "\n",
    "Đến đây ta đã không còn giá trị thiếu, tuy nhiên có thể có giá trị không hợp lệ. Thật ra giá trị của những mẫu này đều đang hoạt động bình thường trên giao diện shopee nên khả năng lỗi là rất thấp. Ta vẫn kiểm tra lại các trường hợp như sau:\n",
    "\n",
    "1. Có giá trị âm ở các cột dạng numeric (trong đó có sell_time, nếu sell_time âm tức là item_be_got_time và tem_public_time cũng bị lỗi)\n",
    "  - Ta đã thực hiện ở đây: [Phân bố giá trị của cột có kiểu dữ liệu dạng số](#Phân-bố-giá-trị-của-cột-có-kiểu-dữ-liệu-dạng-số)\n",
    "  - Ta thấy cột price_min_before_discount và cột price_max_before_discount có giá trị âm. Ta sẽ kiểm tra ở dưới\n",
    "  \n",
    "2. So sánh price_min > price_max, price_min_before_discount > price_max_before_discount\n",
    "\n",
    "3. So sánh price < price_before_discount, price_min < price_min_before_discount, price_max < price_max_before_discount\n",
    "\n",
    "4. Các cột dạng bool toàn bộ là False/True. Ta đã xử lý khi chuyển các cột dạng bool sang kiểu 1,0."
   ]
  },
  {
   "cell_type": "code",
   "execution_count": 36,
   "metadata": {},
   "outputs": [
    {
     "data": {
      "text/plain": [
       "0.47387993624933594"
      ]
     },
     "execution_count": 36,
     "metadata": {},
     "output_type": "execute_result"
    }
   ],
   "source": [
    "# Xử lý trường hợp 1.\n",
    "\n",
    "invalid_price_negative = (items_df.price_min_before_discount < 0) | (items_df.price_max_before_discount < 0)\n",
    "invalid_price_negative_vals = invalid_price_negative.sum()\n",
    "invalid_price_negative_vals/len(items_df)"
   ]
  },
  {
   "cell_type": "markdown",
   "metadata": {},
   "source": [
    "Ta thấy có đến xấp xỉ 47.38% các giá trị `price_min_before_discount` và `price_min_before_discount` bị âm.\n",
    "Do shopee vẫn hiển thị bình thường nên ta dự đoán có lẽ do tại những mẫu có giá trị âm này thì `discount = 0` "
   ]
  },
  {
   "cell_type": "code",
   "execution_count": 37,
   "metadata": {},
   "outputs": [
    {
     "name": "stdout",
     "output_type": "stream",
     "text": [
      "0.47387993624933594\n",
      "True\n"
     ]
    }
   ],
   "source": [
    "print((items_df.discount == 0).sum()/len(items_df))\n",
    "print((items_df.discount == 0).sum()/len(items_df) == invalid_price_negative_vals/len(items_df))"
   ]
  },
  {
   "cell_type": "markdown",
   "metadata": {},
   "source": [
    "Kiểm tra thấy hai giá trị là hoàn toàn giống nhau chứng tỏ dự đoán là đúng.\n",
    "Vậy code shopee chịu lỗi này hoặc đây là quy ước data của shopee, khi lấy mẫu mới về từ shopee trường hợp này vẫn sẽ là giá trị âm. Vậy nên những giá trị âm này ta xem như hợp lệ."
   ]
  },
  {
   "cell_type": "code",
   "execution_count": 38,
   "metadata": {},
   "outputs": [
    {
     "data": {
      "text/plain": [
       "0"
      ]
     },
     "execution_count": 38,
     "metadata": {},
     "output_type": "execute_result"
    }
   ],
   "source": [
    "# Xử lý trường hợp 2\n",
    "invalid_price_min_max = (items_df.price_min_before_discount > items_df.price_max_before_discount) | (items_df.price_max < items_df.price_min)\n",
    "invalid_price_min_max_vals = invalid_price_min_max.sum()\n",
    "invalid_price_min_max_vals\n",
    "# Không có bất kỳ giá trị không hợp lệ nào trong trường hợp này."
   ]
  },
  {
   "cell_type": "code",
   "execution_count": 39,
   "metadata": {},
   "outputs": [
    {
     "data": {
      "text/plain": [
       "0.47387993624933594"
      ]
     },
     "execution_count": 39,
     "metadata": {},
     "output_type": "execute_result"
    }
   ],
   "source": [
    "# Xử lý trường hợp 3\n",
    "invalid_price_before_after = (items_df.price > items_df.price_before_discount) | (items_df.price_min > items_df.price_min_before_discount) | (items_df.price_max > items_df.price_max_before_discount)\n",
    "invalid_price_before_after_vals = invalid_price_before_after.sum()\n",
    "invalid_price_before_after_vals / len(items_df)"
   ]
  },
  {
   "cell_type": "markdown",
   "metadata": {},
   "source": [
    "Ta thấy phần trăm các giá trị lỗi giống như ở trường hợp 1 nên kiểm tra riêng lại cho điều kiện (items_df.price_min > items_df.price_min_before_discount) | (items_df.price_max > items_df.price_max_before_discount)"
   ]
  },
  {
   "cell_type": "code",
   "execution_count": 40,
   "metadata": {},
   "outputs": [
    {
     "name": "stdout",
     "output_type": "stream",
     "text": [
      "(items_df.price_min > items_df.price_min_before_discount) | (items_df.price_max > items_df.price_max_before_discount):\n",
      "-> 0.47387993624933594\n",
      "True if it equal to (items_df.discount == 0).sum()/len(items_df))\n",
      "-> True\n"
     ]
    }
   ],
   "source": [
    "print('(items_df.price_min > items_df.price_min_before_discount) | (items_df.price_max > items_df.price_max_before_discount):\\n->', ((items_df.price_min > items_df.price_min_before_discount) | (items_df.price_max > items_df.price_max_before_discount)).sum()/len(items_df))\n",
    "print('True if it equal to (items_df.discount == 0).sum()/len(items_df))\\n->', ((items_df.price_min > items_df.price_min_before_discount) | (items_df.price_max > items_df.price_max_before_discount)).sum()/len(items_df) == (items_df.discount == 0).sum()/len(items_df))"
   ]
  },
  {
   "cell_type": "markdown",
   "metadata": {},
   "source": [
    "Vậy tương tự như trường hợp 1, những giá trị này là hợp lệ."
   ]
  },
  {
   "cell_type": "markdown",
   "metadata": {},
   "source": [
    "### Tiền xử lý cho tập huấn luyện"
   ]
  },
  {
   "cell_type": "markdown",
   "metadata": {},
   "source": [
    "Cột `shop_location` ta chỉ lấy 3 location có số mẫu nhiều nhất, còn lại để là _Others_."
   ]
  },
  {
   "cell_type": "code",
   "execution_count": 41,
   "metadata": {},
   "outputs": [],
   "source": [
    "class ColAdderDropper(BaseEstimator, TransformerMixin):\n",
    "    def __init__(self, num_top_location=3):\n",
    "        self.num_top_location = num_top_location\n",
    "    def fit(self, X_df, y=None):\n",
    "        location_col = X_df['shop_location']\n",
    "        self.location_counts_ = location_col.value_counts()\n",
    "        locations = list(self.location_counts_.index)\n",
    "        self.top_locations_ = locations[:max(1, min(self.num_top_location, len(locations)))]\n",
    "        return self\n",
    "    def transform(self, X_df, y=None):\n",
    "        # YOUR CODE HERE\n",
    "        tf_df = X_df.copy()\n",
    "        locations = list(tf_df['shop_location'].value_counts().index)\n",
    "        other_locations = list(set(locations) - set(self.top_locations_))\n",
    "        tf_df['shop_location'] = tf_df['shop_location'].replace(other_locations, 'Others')\n",
    "        return tf_df\n",
    "        #raise NotImplementedError()"
   ]
  },
  {
   "cell_type": "code",
   "execution_count": 42,
   "metadata": {},
   "outputs": [
    {
     "name": "stdout",
     "output_type": "stream",
     "text": [
      "Hà Nội               2135\n",
      "Nước ngoài           1991\n",
      "TP. Hồ Chí Minh      1075\n",
      "Bình Dương             47\n",
      "Hải Dương              44\n",
      "Bình Định              40\n",
      "Hưng Yên               27\n",
      "Đồng Nai               25\n",
      "Quảng Ninh             25\n",
      "Hà Nam                 22\n",
      "Phú Thọ                17\n",
      "Ninh Bình              14\n",
      "Hải Phòng              14\n",
      "None                   13\n",
      "Thái Bình              12\n",
      "Bình Thuận             12\n",
      "Khánh Hòa              12\n",
      "Bắc Ninh               11\n",
      "Lạng Sơn                9\n",
      "Lào Cai                 9\n",
      "Thừa Thiên Huế          9\n",
      "Hòa Bình                8\n",
      "Lâm Đồng                7\n",
      "Đà Nẵng                 7\n",
      "Thái Nguyên             6\n",
      "Nam Định                6\n",
      "Thanh Hóa               5\n",
      "Bắc Kạn                 4\n",
      "Vĩnh Phúc               4\n",
      "Cần Thơ                 4\n",
      "Bà Rịa - Vũng Tàu       3\n",
      "Nghệ An                 3\n",
      "Phú Yên                 3\n",
      "Sóc Trăng               3\n",
      "Đồng Tháp               3\n",
      "Bắc Giang               3\n",
      "Kon Tum                 3\n",
      "Bến Tre                 2\n",
      "Tiền Giang              2\n",
      "Đắk Lắk                 2\n",
      "Hà Tĩnh                 1\n",
      "Vĩnh Long               1\n",
      "Cà Mau                  1\n",
      "Cao Bằng                1\n",
      "Ninh Thuận              1\n",
      "Quảng Ngãi              1\n",
      "Name: shop_location, dtype: int64\n",
      "\n",
      "['Hà Nội', 'Nước ngoài', 'TP. Hồ Chí Minh']\n"
     ]
    },
    {
     "data": {
      "text/plain": [
       "array(['TP. Hồ Chí Minh', 'Hà Nội', 'Nước ngoài', 'Others'], dtype=object)"
      ]
     },
     "execution_count": 42,
     "metadata": {},
     "output_type": "execute_result"
    }
   ],
   "source": [
    "# TEST\n",
    "col_adderdropper = ColAdderDropper()\n",
    "col_adderdropper.fit(items_df)\n",
    "print(col_adderdropper.location_counts_)\n",
    "print()\n",
    "print(col_adderdropper.top_locations_)\n",
    "col_adderdropper.transform(items_df)['shop_location'].unique()"
   ]
  },
  {
   "cell_type": "markdown",
   "metadata": {},
   "source": [
    "Để tránh sự rò rỉ thông tin giữa các tập, ta sẽ xử lý cột `category` và `shop_location` bằng cách tạo ra một transformer để ghép vào pipeline, ta xử lý hai cột này bằng phương pháp one hot, sử dụng OneHotEncoder của SciKit Learn."
   ]
  },
  {
   "cell_type": "code",
   "execution_count": 43,
   "metadata": {},
   "outputs": [],
   "source": [
    "column_transformer = make_column_transformer((OneHotEncoder(), ['category','shop_location']), remainder='passthrough')"
   ]
  },
  {
   "cell_type": "markdown",
   "metadata": {},
   "source": [
    "## Mô hình hóa dữ liệu"
   ]
  },
  {
   "cell_type": "markdown",
   "metadata": {},
   "source": [
    "### Tách các tập"
   ]
  },
  {
   "cell_type": "code",
   "execution_count": 45,
   "metadata": {},
   "outputs": [],
   "source": [
    "# Tách X và y\n",
    "y_sr = items_df[\"historical_sold\"]\n",
    "X_df = items_df.drop(\"historical_sold\", axis=1)"
   ]
  },
  {
   "cell_type": "code",
   "execution_count": 46,
   "metadata": {},
   "outputs": [],
   "source": [
    "# Tách train và test\n",
    "rest_X_df, test_X_df, rest_y_sr, test_y_sr = train_test_split(X_df, y_sr, test_size=0.2, random_state=0)"
   ]
  },
  {
   "cell_type": "code",
   "execution_count": 47,
   "metadata": {},
   "outputs": [],
   "source": [
    "# Tách train và validation\n",
    "train_X_df, val_X_df, train_y_sr, val_y_sr = train_test_split(rest_X_df, rest_y_sr, test_size=0.2, random_state=0)"
   ]
  },
  {
   "cell_type": "code",
   "execution_count": 48,
   "metadata": {},
   "outputs": [
    {
     "data": {
      "text/plain": [
       "(3613, 28)"
      ]
     },
     "execution_count": 48,
     "metadata": {},
     "output_type": "execute_result"
    }
   ],
   "source": [
    "train_X_df.shape"
   ]
  },
  {
   "cell_type": "code",
   "execution_count": 49,
   "metadata": {},
   "outputs": [
    {
     "data": {
      "text/plain": [
       "(3613,)"
      ]
     },
     "execution_count": 49,
     "metadata": {},
     "output_type": "execute_result"
    }
   ],
   "source": [
    "train_y_sr.shape"
   ]
  },
  {
   "cell_type": "code",
   "execution_count": 50,
   "metadata": {},
   "outputs": [
    {
     "data": {
      "text/plain": [
       "(904, 28)"
      ]
     },
     "execution_count": 50,
     "metadata": {},
     "output_type": "execute_result"
    }
   ],
   "source": [
    "val_X_df.shape"
   ]
  },
  {
   "cell_type": "code",
   "execution_count": 51,
   "metadata": {},
   "outputs": [
    {
     "data": {
      "text/plain": [
       "(904,)"
      ]
     },
     "execution_count": 51,
     "metadata": {},
     "output_type": "execute_result"
    }
   ],
   "source": [
    "val_y_sr.shape"
   ]
  },
  {
   "cell_type": "code",
   "execution_count": 52,
   "metadata": {},
   "outputs": [
    {
     "data": {
      "text/plain": [
       "(1130, 28)"
      ]
     },
     "execution_count": 52,
     "metadata": {},
     "output_type": "execute_result"
    }
   ],
   "source": [
    "test_X_df.shape"
   ]
  },
  {
   "cell_type": "code",
   "execution_count": 53,
   "metadata": {},
   "outputs": [
    {
     "data": {
      "text/plain": [
       "(1130,)"
      ]
     },
     "execution_count": 53,
     "metadata": {},
     "output_type": "execute_result"
    }
   ],
   "source": [
    "test_y_sr.shape"
   ]
  },
  {
   "cell_type": "markdown",
   "metadata": {},
   "source": [
    "### Tìm mô hình tốt nhất\n",
    "\n",
    "Do output là kiểu số thực liên tục nên ta sẽ sử dụng mô hình hồi quy để dự đoán các input mới, ta sẽ sử dụng các model sau:\n",
    "\n",
    "- Hồi quy tuyến tính\n",
    "- Mạng neural nhân tạo\n"
   ]
  },
  {
   "cell_type": "markdown",
   "metadata": {},
   "source": [
    "Đầu tiên, đối với các mô hình hồi quy này thì ta sử dụng độ đo $R^2$ để đánh giá độ lỗi vì độ đo MSE không cho ta biết được cụ thể chất lượng của mô hình \n",
    "\n",
    "$R^2$ bình phương cho biết độ phù hợp của mô hình, người ta nghiên cứu được rằng, với $R^2$ bình phương > 0.5 thì một mô hình được đánh giá là phù hợp."
   ]
  },
  {
   "cell_type": "markdown",
   "metadata": {},
   "source": [
    "#### Huấn luyện mô hình hồi quy tuyến tính "
   ]
  },
  {
   "cell_type": "code",
   "execution_count": 54,
   "metadata": {},
   "outputs": [
    {
     "data": {
      "text/plain": [
       "0.37775855549264215"
      ]
     },
     "execution_count": 54,
     "metadata": {},
     "output_type": "execute_result"
    }
   ],
   "source": [
    "full_pipeline = make_pipeline(ColAdderDropper(), column_transformer, StandardScaler(), LinearRegression())\n",
    "full_pipeline.fit(train_X_df, train_y_sr)\n",
    "full_pipeline.score(val_X_df, val_y_sr)"
   ]
  },
  {
   "cell_type": "markdown",
   "metadata": {},
   "source": [
    "Ta thấy $R^2$ khá thấp, có lẽ dữ liệu không có nhiều sự tương quan tuyến tính"
   ]
  },
  {
   "cell_type": "markdown",
   "metadata": {},
   "source": [
    "#### Huấn luyện mô hình mạng neural nhân tạo\n",
    "\n",
    "Ta sẽ thử 4 x 4 = 16 mô hình với các tham số khác nhau (fit khá lâu do khó hội tụ). \n",
    "\n",
    "Các tham số thay đổi:\n",
    "- `alpha`: 0.001, 0.1, 1, 10, 100\n",
    "- `hidden_layer_sizes`: 10, 20, 30, 40, 50\n",
    "\n",
    "Các tham số được cố định:\n",
    "- `activation`: `relu`\n",
    "- `solver`: `adam`: Do dữ liệu rất nhiều và không có hệ thống nên sử dụng thuật toán adam rất hiệu quả (theo scikit-learn)\n",
    "- `max_iter`: 10000: Để cho thuật toán được hội tụ, nếu set quá thấp sẽ không đủ lần lặp để hội tụ"
   ]
  },
  {
   "cell_type": "code",
   "execution_count": 55,
   "metadata": {},
   "outputs": [],
   "source": [
    "full_pipeline = make_pipeline(ColAdderDropper(), column_transformer, StandardScaler(), MLPRegressor(activation='relu', solver='adam', random_state=0, max_iter=10000))\n",
    "alphas = [0.001, 0.1, 1, 10, 100]\n",
    "layer_sizes = [10, 20, 30, 40, 50]\n",
    "train_rr = []\n",
    "val_rr = []\n",
    "best_val_rr = -float('inf'); best_alpha = None; best_layer = None; best_act = None\n",
    "for alpha in alphas:\n",
    "    for layer in layer_sizes:\n",
    "        full_pipeline.set_params(mlpregressor__alpha=alpha, mlpregressor__hidden_layer_sizes=layer)\n",
    "        full_pipeline.fit(train_X_df, train_y_sr)\n",
    "        train_rr.append(full_pipeline.score(train_X_df, train_y_sr))\n",
    "        val_rr.append(full_pipeline.score(val_X_df, val_y_sr))\n",
    "        if val_rr[-1] > best_val_rr:\n",
    "            best_val_rr, best_alpha, best_layer= val_rr[-1], alpha, layer"
   ]
  },
  {
   "cell_type": "code",
   "execution_count": 56,
   "metadata": {},
   "outputs": [
    {
     "data": {
      "image/png": "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\n",
      "text/plain": [
       "<Figure size 720x360 with 2 Axes>"
      ]
     },
     "metadata": {
      "needs_background": "light"
     },
     "output_type": "display_data"
    }
   ],
   "source": [
    "# Trực quan hóa kết quả\n",
    "train_rr_df = pd.DataFrame(data=np.array(train_rr).reshape(len(alphas), -1),\n",
    "                             index=alphas, columns=layer_sizes)\n",
    "val_rr_df = pd.DataFrame(data=np.array(val_rr).reshape(len(alphas), -1), \n",
    "                           index=alphas, columns=layer_sizes)\n",
    "min_rr = min(min(train_rr), min(val_rr))\n",
    "max_rr = max(max(train_rr), max(val_rr))\n",
    "plt.figure(figsize=(10, 5))\n",
    "plt.subplot(1, 2, 1)\n",
    "sns.heatmap(train_rr_df, vmin=min_rr, vmax=max_rr, square=True, annot=True, \n",
    "            cbar=False, fmt='.1f', cmap='Reds')\n",
    "plt.title('train r^2'); plt.xlabel('layer size'); plt.ylabel('alpha')\n",
    "plt.subplot(1, 2, 2)\n",
    "sns.heatmap(val_rr_df, vmin=min_rr, vmax=max_rr, square=True, annot=True, \n",
    "            cbar=False, fmt='.1f', cmap='Reds')\n",
    "plt.title('validation r^2'); plt.xlabel('layer size'); plt.ylabel('alpha');"
   ]
  },
  {
   "cell_type": "markdown",
   "metadata": {},
   "source": [
    "Nhìn từ biểu đồ trên, ta thấy càng số neural 20, 40 thì cho kết quả tốt hơn các số neural còn lại\n",
    "\n",
    "Tuy vậy, nhìn chung ta thấy khi sử dụng mô hình mạng neural nhân tạo thì $R^2$ cải thiện rõ rệt, ta hãy xem giá trị cao nhất của $R^2$ là bao nhiêu"
   ]
  },
  {
   "cell_type": "code",
   "execution_count": 57,
   "metadata": {},
   "outputs": [
    {
     "data": {
      "text/plain": [
       "0.5089446329170484"
      ]
     },
     "execution_count": 57,
     "metadata": {},
     "output_type": "execute_result"
    }
   ],
   "source": [
    "best_val_rr"
   ]
  },
  {
   "cell_type": "markdown",
   "metadata": {},
   "source": [
    "Như vậy $R^2$ > 0.5, mô hình này là phù hợp để dự đoán các dữ liệu mới.\n"
   ]
  },
  {
   "cell_type": "markdown",
   "metadata": {},
   "source": [
    "Cuối cùng, ta sẽ huấn luyện lại `full_pipeline` trên `rest_X_df` và `rest_y_sr` (tập huấn luyện + tập validation) với `best_alpha` và `best_layer` tìm được ở trên để ra được mô hình cụ thể cuối cùng."
   ]
  },
  {
   "cell_type": "code",
   "execution_count": 58,
   "metadata": {},
   "outputs": [
    {
     "data": {
      "text/html": [
       "<style>div.sk-top-container {color: black;background-color: white;}div.sk-toggleable {background-color: white;}label.sk-toggleable__label {cursor: pointer;display: block;width: 100%;margin-bottom: 0;padding: 0.2em 0.3em;box-sizing: border-box;text-align: center;}div.sk-toggleable__content {max-height: 0;max-width: 0;overflow: hidden;text-align: left;background-color: #f0f8ff;}div.sk-toggleable__content pre {margin: 0.2em;color: black;border-radius: 0.25em;background-color: #f0f8ff;}input.sk-toggleable__control:checked~div.sk-toggleable__content {max-height: 200px;max-width: 100%;overflow: auto;}div.sk-estimator input.sk-toggleable__control:checked~label.sk-toggleable__label {background-color: #d4ebff;}div.sk-label input.sk-toggleable__control:checked~label.sk-toggleable__label {background-color: #d4ebff;}input.sk-hidden--visually {border: 0;clip: rect(1px 1px 1px 1px);clip: rect(1px, 1px, 1px, 1px);height: 1px;margin: -1px;overflow: hidden;padding: 0;position: absolute;width: 1px;}div.sk-estimator {font-family: monospace;background-color: #f0f8ff;margin: 0.25em 0.25em;border: 1px dotted black;border-radius: 0.25em;box-sizing: border-box;}div.sk-estimator:hover {background-color: #d4ebff;}div.sk-parallel-item::after {content: \"\";width: 100%;border-bottom: 1px solid gray;flex-grow: 1;}div.sk-label:hover label.sk-toggleable__label {background-color: #d4ebff;}div.sk-serial::before {content: \"\";position: absolute;border-left: 1px solid gray;box-sizing: border-box;top: 2em;bottom: 0;left: 50%;}div.sk-serial {display: flex;flex-direction: column;align-items: center;background-color: white;}div.sk-item {z-index: 1;}div.sk-parallel {display: flex;align-items: stretch;justify-content: center;background-color: white;}div.sk-parallel-item {display: flex;flex-direction: column;position: relative;background-color: white;}div.sk-parallel-item:first-child::after {align-self: flex-end;width: 50%;}div.sk-parallel-item:last-child::after {align-self: flex-start;width: 50%;}div.sk-parallel-item:only-child::after {width: 0;}div.sk-dashed-wrapped {border: 1px dashed gray;margin: 0.2em;box-sizing: border-box;padding-bottom: 0.1em;background-color: white;position: relative;}div.sk-label label {font-family: monospace;font-weight: bold;background-color: white;display: inline-block;line-height: 1.2em;}div.sk-label-container {position: relative;z-index: 2;text-align: center;}div.sk-container {display: inline-block;position: relative;}</style><div class=\"sk-top-container\"><div class=\"sk-container\"><div class=\"sk-item sk-dashed-wrapped\"><div class=\"sk-label-container\"><div class=\"sk-label sk-toggleable\"><input class=\"sk-toggleable__control sk-hidden--visually\" id=\"f515ff42-5b48-4b13-a38b-fc6f67c6712d\" type=\"checkbox\" ><label class=\"sk-toggleable__label\" for=\"f515ff42-5b48-4b13-a38b-fc6f67c6712d\">Pipeline</label><div class=\"sk-toggleable__content\"><pre>Pipeline(steps=[('coladderdropper', ColAdderDropper()),\n",
       "                ('columntransformer',\n",
       "                 ColumnTransformer(remainder='passthrough',\n",
       "                                   transformers=[('onehotencoder',\n",
       "                                                  OneHotEncoder(),\n",
       "                                                  ['category',\n",
       "                                                   'shop_location'])])),\n",
       "                ('standardscaler', StandardScaler()),\n",
       "                ('mlpregressor',\n",
       "                 MLPRegressor(alpha=1, hidden_layer_sizes=20, max_iter=10000,\n",
       "                              random_state=0))])</pre></div></div></div><div class=\"sk-serial\"><div class=\"sk-item\"><div class=\"sk-estimator sk-toggleable\"><input class=\"sk-toggleable__control sk-hidden--visually\" id=\"2f8c2a50-d5cc-46a3-8551-1adac7587d6a\" type=\"checkbox\" ><label class=\"sk-toggleable__label\" for=\"2f8c2a50-d5cc-46a3-8551-1adac7587d6a\">ColAdderDropper</label><div class=\"sk-toggleable__content\"><pre>ColAdderDropper()</pre></div></div></div><div class=\"sk-item sk-dashed-wrapped\"><div class=\"sk-label-container\"><div class=\"sk-label sk-toggleable\"><input class=\"sk-toggleable__control sk-hidden--visually\" id=\"3a0da971-ac8e-47ef-b1f6-823297d574a4\" type=\"checkbox\" ><label class=\"sk-toggleable__label\" for=\"3a0da971-ac8e-47ef-b1f6-823297d574a4\">columntransformer: ColumnTransformer</label><div class=\"sk-toggleable__content\"><pre>ColumnTransformer(remainder='passthrough',\n",
       "                  transformers=[('onehotencoder', OneHotEncoder(),\n",
       "                                 ['category', 'shop_location'])])</pre></div></div></div><div class=\"sk-parallel\"><div class=\"sk-parallel-item\"><div class=\"sk-item\"><div class=\"sk-label-container\"><div class=\"sk-label sk-toggleable\"><input class=\"sk-toggleable__control sk-hidden--visually\" id=\"215fb821-76d9-401a-8d1a-f8160bbd4d6e\" type=\"checkbox\" ><label class=\"sk-toggleable__label\" for=\"215fb821-76d9-401a-8d1a-f8160bbd4d6e\">onehotencoder</label><div class=\"sk-toggleable__content\"><pre>['category', 'shop_location']</pre></div></div></div><div class=\"sk-serial\"><div class=\"sk-item\"><div class=\"sk-estimator sk-toggleable\"><input class=\"sk-toggleable__control sk-hidden--visually\" id=\"268cb3ca-9990-4455-b815-f86740e16ac4\" type=\"checkbox\" ><label class=\"sk-toggleable__label\" for=\"268cb3ca-9990-4455-b815-f86740e16ac4\">OneHotEncoder</label><div class=\"sk-toggleable__content\"><pre>OneHotEncoder()</pre></div></div></div></div></div></div></div></div><div class=\"sk-item\"><div class=\"sk-estimator sk-toggleable\"><input class=\"sk-toggleable__control sk-hidden--visually\" id=\"469a56ab-d538-4495-85fa-a7b015b89744\" type=\"checkbox\" ><label class=\"sk-toggleable__label\" for=\"469a56ab-d538-4495-85fa-a7b015b89744\">StandardScaler</label><div class=\"sk-toggleable__content\"><pre>StandardScaler()</pre></div></div></div><div class=\"sk-item\"><div class=\"sk-estimator sk-toggleable\"><input class=\"sk-toggleable__control sk-hidden--visually\" id=\"4213244b-56b5-468a-95cc-1b1f2f2e2116\" type=\"checkbox\" ><label class=\"sk-toggleable__label\" for=\"4213244b-56b5-468a-95cc-1b1f2f2e2116\">MLPRegressor</label><div class=\"sk-toggleable__content\"><pre>MLPRegressor(alpha=1, hidden_layer_sizes=20, max_iter=10000, random_state=0)</pre></div></div></div></div></div></div></div>"
      ],
      "text/plain": [
       "Pipeline(steps=[('coladderdropper', ColAdderDropper()),\n",
       "                ('columntransformer',\n",
       "                 ColumnTransformer(remainder='passthrough',\n",
       "                                   transformers=[('onehotencoder',\n",
       "                                                  OneHotEncoder(),\n",
       "                                                  ['category',\n",
       "                                                   'shop_location'])])),\n",
       "                ('standardscaler', StandardScaler()),\n",
       "                ('mlpregressor',\n",
       "                 MLPRegressor(alpha=1, hidden_layer_sizes=20, max_iter=10000,\n",
       "                              random_state=0))])"
      ]
     },
     "execution_count": 58,
     "metadata": {},
     "output_type": "execute_result"
    }
   ],
   "source": [
    "full_pipeline = make_pipeline(ColAdderDropper(), column_transformer, StandardScaler(), MLPRegressor(alpha=best_alpha, hidden_layer_sizes=best_layer,\n",
    "                                                               activation='relu', solver='adam', random_state=0, max_iter=10000))\n",
    "full_pipeline.fit(rest_X_df, rest_y_sr)"
   ]
  },
  {
   "cell_type": "markdown",
   "metadata": {},
   "source": [
    "### Đánh giá mô hình tìm được"
   ]
  },
  {
   "cell_type": "markdown",
   "metadata": {},
   "source": [
    "Sau khi đã có mô hình tốt nhất fit vào tập train, ta sẽ dùng mô hình đó để dự đoán tập test cuối cùng"
   ]
  },
  {
   "cell_type": "code",
   "execution_count": 59,
   "metadata": {},
   "outputs": [
    {
     "data": {
      "text/plain": [
       "0.792961869319105"
      ]
     },
     "execution_count": 59,
     "metadata": {},
     "output_type": "execute_result"
    }
   ],
   "source": [
    "full_pipeline.score(test_X_df, test_y_sr)"
   ]
  },
  {
   "cell_type": "markdown",
   "metadata": {},
   "source": [
    "## Nhìn lại quá trình làm đồ án"
   ]
  },
  {
   "cell_type": "markdown",
   "metadata": {},
   "source": [
    "### Khó khăn\n",
    "- Dữ liệu nhiều và lộn xộn nên thời gian train khá lâu (hơn 1 tiếng)"
   ]
  },
  {
   "cell_type": "markdown",
   "metadata": {},
   "source": [
    "### Những thứ học được\n",
    "- Các bước làm việc trong một dự án khoa học dữ liệu\n",
    "- Cách sử dụng các công cụ để tiền xử lý và mô hình hóa"
   ]
  },
  {
   "cell_type": "markdown",
   "metadata": {},
   "source": [
    "### Những điểu cần bổ sung nếu có thêm thời gian"
   ]
  },
  {
   "cell_type": "markdown",
   "metadata": {},
   "source": [
    "## Tài liệu tham khảo"
   ]
  },
  {
   "cell_type": "code",
   "execution_count": null,
   "metadata": {},
   "outputs": [],
   "source": []
  }
 ],
 "metadata": {
  "kernelspec": {
   "display_name": "Python 3",
   "language": "python",
   "name": "python3"
  },
  "language_info": {
   "codemirror_mode": {
    "name": "ipython",
    "version": 3
   },
   "file_extension": ".py",
   "mimetype": "text/x-python",
   "name": "python",
   "nbconvert_exporter": "python",
   "pygments_lexer": "ipython3",
   "version": "3.8.3"
  }
 },
 "nbformat": 4,
 "nbformat_minor": 4
}
