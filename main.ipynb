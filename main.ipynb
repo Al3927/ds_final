{
 "cells": [
  {
   "cell_type": "markdown",
   "metadata": {},
   "source": [
    "# ĐỒ ÁN MÔN HỌC CUỐI KÌ\n",
    " \n",
    "__TÊN MÔN HỌC:__ NHẬP MÔN KHOA HỌC DỮ LIỆU\n",
    "\n",
    "__ĐỀ TÀI:__ ÁP DỤNG MÔ HÌNH HỌC MÁY ĐỂ DỰ ĐOÁN DOANH SỐ TRÊN SÀN THƯƠNG MẠI ĐIỆN TỬ SHOPEE\n",
    "\n",
    "__GIẢNG VIÊN:__ TRẦN TRUNG KIÊN\n",
    " \n",
    "__THỨ TỰ NHÓM:__ 15\n",
    " \n",
    "__THÀNH VIÊN:__\n",
    "\n",
    "- 18120184 - Nguyễn Nguyên Khang\n",
    "\n",
    "- 18120189 - Trần Đăng Khoa\n",
    "\n",
    "__PHÂN CÔNG:__\n",
    "\n",
    "Công việc | Thực hiện | Mức độ hoàn thành\n",
    "------------ | ------------- | ------------\n",
    "Thu thập dữ liệu | Khang |\n",
    "Khám phá dữ liệu | Khang |\n",
    "Tiền xử lý dữ liệu | Khang, Khoa |\n",
    "Mô hình hóa dữ liệu | Khoa |"
   ]
  },
  {
   "cell_type": "markdown",
   "metadata": {},
   "source": [
    "# Mục lục\n",
    "- [Giới thiệu đồ án](#I.-Giới-thiệu-đồ-án)\n",
    "   - [Dữ liệu](#1.-Dữ-liệu)\n",
    "   - [Câu hỏi](#2.-Câu-hỏi)\n",
    "- [Thu thập dữ liệu](#II.-Thu-thập-dữ-liệu)\n",
    "  - [Lấy dữ liệu từ Shopee bằng API](#1.-Lấy-dữ-liệu-từ-Shopee-bằng-API)\n",
    "  - [Gộp dữ liệu](#2.-Gộp-dữ-liệu)\n",
    "- [Khám phá dữ liệu, tiền xử lý đơn giản và tách tập](#III.-Khám-phá-dữ-liệu,-tiền-xử-lý-đơn-giản-và-tách-tập)\n",
    "  - [Kiểm tra output hợp lệ](#1.-Kiểm-tra-output-hợp-lệ)\n",
    "  - [Ý nghĩa của mỗi dòng](#2.-Ý-nghĩa-của-mỗi-dòng)\n",
    "  - [Kiểm tra các giá trị trùng](#3.-Kiểm-tra-các-giá-trị-trùng)   \n",
    "  - [Kiểm tra các giá trị không hợp lệ](#4.-Kiểm-tra-các-giá-trị-không-hợp-lệ)\n",
    "  - [Xử lý dữ liệu bị lệch](#5.-Xử-lý-dữ-liệu-bị-lệch)\n",
    "  - [Tách các tập](#6.-Tách-các-tập) \n",
    "- [Khám phá dữ liệu](#IV.-Khám-phá-dữ-liệu)\n",
    "  - [Kiểm tra kiểu dữ liệu của input có phù hợp](#1.-Kiểm-tra-kiểu-dữ-liệu-của-input-có-phù-hợp)\n",
    "  - [Phân bố giá trị của cột có kiểu dữ liệu dạng số](#2.-Phân-bố-giá-trị-của-cột-có-kiểu-dữ-liệu-dạng-số)\n",
    "  - [Phân bố giá trị của cột có kiểu dữ liệu không phải dạng số](#3.-Phân-bố-giá-trị-của-cột-có-kiểu-dữ-liệu-không-phải-dạng-số)\n",
    "- [Tiền xử lý cho tập huấn luyện](#V.-Tiền-xử-lý-cho-tập-huấn-luyện)\n",
    "  - [Xử lý khác biệt ngữ nghĩa do parse data từ JSON](#1.-Xử-lý-khác-biệt-ngữ-nghĩa-do-parse-data-từ-JSON)\n",
    "  - [Bỏ cột](#2.-Bỏ-cột)\n",
    "  - [Sửa cột](#3.-Sửa-cột)\n",
    "  - [Xử lý giá trị thiếu](#4.-Xử-lý-giá-trị-thiếu)\n",
    "  - [Chuẩn hóa](#5.-Chuẩn-hóa)\n",
    "  - [Tạo pipeline](#6.-Tạo-pipeline)\n",
    "- [Mô hình hóa dữ liệu](#VI.-Mô-hình-hóa-dữ-liệu)\n",
    "  - [Tìm mô hình tốt nhất](#1.-Tìm-mô-hình-tốt-nhất)\n",
    "  - [Đánh giá mô hình tìm được](#2.-Đánh-giá-mô-hình-tìm-được)\n",
    "- [Nhìn lại quá trình làm đồ án](#VII.-Nhìn-lại-quá-trình-làm-đồ-án)\n",
    "  - [Khó khăn](#1.-Khó-khăn)\n",
    "  - [Những thứ học được](#2.-Những-thứ-học-được)\n",
    "  - [Những điều cần bổ sung nếu có thêm thời gian](#3.-Những-điều-cần-bổ-sung-nếu-có-thêm-thời-gian)\n",
    "- [Tài liệu tham khảo](#VIII.-Tài-liệu-tham-khảo)"
   ]
  },
  {
   "cell_type": "markdown",
   "metadata": {},
   "source": [
    "## I. Giới thiệu đồ án\n",
    "### 1. Dữ liệu\n",
    "\n",
    "Các món hàng _Thời trang nam_ trên shopee\n",
    "\n",
    "Input là các thuộc tính của món hàng mà được biểu hiện ra trên giao diện của shopee.vn cho người dùng thấy, và thuộc tính thời gian của món hàng bao gồm: Thời gian sản phẩm được đăng, thời gian sản phẩm được lấy dữ liệu về máy, và thời gian sản phẩm được bày bán\n",
    "\n",
    "Output là số lượng hàng đã bán được trong thời gian món hàng được đăng lên shopee cho đến lúc được lấy dữ liệu về máy\n",
    "\n",
    "Dữ liệu đúng vì được request từ API của Shopee, có nghĩa là Shopee cũng đang sử dụng dữ liệu này để hiện thị cho người tiêu dùng xem.\n",
    "\n",
    "### 2. Câu hỏi\n",
    "\n",
    "*Output - doanh số -* được tính từ *input - các thông tin của sản phẩm -* theo công thức nào?\n",
    "\n",
    "Trả lời cho câu hỏi này có ý nghĩa trong việc tìm ra cách để tăng doanh số bán được trên shopee\n",
    "\n"
   ]
  },
  {
   "cell_type": "markdown",
   "metadata": {},
   "source": [
    "## Import \n",
    "\n",
    "import trước các thư viện re, numpy, pandas, sklearn"
   ]
  },
  {
   "cell_type": "code",
   "execution_count": 1530,
   "metadata": {},
   "outputs": [],
   "source": [
    "import re\n",
    "import pandas as pd\n",
    "import numpy as np\n",
    "%matplotlib inline\n",
    "import matplotlib.pyplot as plt\n",
    "import seaborn as sns\n",
    "\n",
    "from numpy import mean\n",
    "from numpy import std\n",
    "from sklearn.model_selection import train_test_split\n",
    "from sklearn import preprocessing\n",
    "from sklearn.compose import ColumnTransformer\n",
    "from sklearn.compose import make_column_transformer\n",
    "from sklearn.preprocessing import LabelEncoder\n",
    "from sklearn.preprocessing import OneHotEncoder\n",
    "from sklearn.preprocessing import FunctionTransformer\n",
    "from sklearn.preprocessing import MinMaxScaler\n",
    "from sklearn.preprocessing import StandardScaler\n",
    "from sklearn.base import BaseEstimator, TransformerMixin\n",
    "import time\n",
    "\n",
    "from sklearn.impute import SimpleImputer\n",
    "from sklearn.impute import KNNImputer\n",
    "from sklearn.pipeline import Pipeline, make_pipeline\n",
    "from sklearn.model_selection import GridSearchCV\n",
    "from sklearn import set_config\n",
    "set_config(display='diagram') # Để trực quan hóa pipeline\n",
    "# from sklearn.cross_validation import train_test_split\n",
    "\n",
    "from sklearn.neural_network import MLPRegressor\n",
    "from sklearn.linear_model import LinearRegression\n",
    "from sklearn.utils import resample\n",
    "\n",
    "#Set Option\n",
    "pd.set_option('max_colwidth', 10000)\n",
    "pd.set_option('display.max_rows', 500)\n",
    "pd.set_option('display.max_columns', 500)\n",
    "pd.set_option('display.width', 1000)"
   ]
  },
  {
   "cell_type": "markdown",
   "metadata": {},
   "source": [
    "## II. Thu thập dữ liệu"
   ]
  },
  {
   "cell_type": "markdown",
   "metadata": {},
   "source": [
    "### 1. Lấy dữ liệu từ Shopee bằng API \n",
    "Toàn bộ phần thu thập dữ liệu được nhóm đặt trong thư mục _Data Crawler_ và quá trình làm việc trong branch [_develope-Al27_](https://github.com/cstotodile/ds_final/tree/develope-Al27)"
   ]
  },
  {
   "cell_type": "markdown",
   "metadata": {},
   "source": [
    "### 2. Gộp dữ liệu"
   ]
  },
  {
   "cell_type": "markdown",
   "metadata": {},
   "source": [
    "Do dữ liệu thu thập được nằm ở những tập tin riêng lẻ, ta tiến hành gộp lại thành một tập dữ liệu duy nhất để khám phá"
   ]
  },
  {
   "cell_type": "code",
   "execution_count": 1531,
   "metadata": {},
   "outputs": [],
   "source": [
    "dataset = ['AoNganTayKhongCo', 'AoSoMi', 'BaloTuiVi', 'GiayDep', 'PhuKien', 'Quan', 'AoKhoacAoVest', 'AoNi', 'AoNganTayCoCo', 'TrangSucNam']\n",
    "frames = [pd.read_csv(f'Data/ShopeeItem-ThoiTrangNam-{x}.tsv', sep='\\t') for x in dataset]\n",
    "items_df = pd.concat(frames, ignore_index=True, sort=False)"
   ]
  },
  {
   "cell_type": "markdown",
   "metadata": {},
   "source": [
    "Xem kích thước của dữ liệu"
   ]
  },
  {
   "cell_type": "code",
   "execution_count": 1532,
   "metadata": {},
   "outputs": [
    {
     "data": {
      "text/plain": [
       "(10851, 34)"
      ]
     },
     "execution_count": 1532,
     "metadata": {},
     "output_type": "execute_result"
    }
   ],
   "source": [
    "items_df.shape"
   ]
  },
  {
   "cell_type": "code",
   "execution_count": 1533,
   "metadata": {},
   "outputs": [
    {
     "data": {
      "text/html": [
       "<div>\n",
       "<style scoped>\n",
       "    .dataframe tbody tr th:only-of-type {\n",
       "        vertical-align: middle;\n",
       "    }\n",
       "\n",
       "    .dataframe tbody tr th {\n",
       "        vertical-align: top;\n",
       "    }\n",
       "\n",
       "    .dataframe thead th {\n",
       "        text-align: right;\n",
       "    }\n",
       "</style>\n",
       "<table border=\"1\" class=\"dataframe\">\n",
       "  <thead>\n",
       "    <tr style=\"text-align: right;\">\n",
       "      <th></th>\n",
       "      <th>category_id</th>\n",
       "      <th>name</th>\n",
       "      <th>shop_location</th>\n",
       "      <th>item_public_time</th>\n",
       "      <th>item_be_got_time</th>\n",
       "      <th>sell_time</th>\n",
       "      <th>shopee_verified</th>\n",
       "      <th>discount</th>\n",
       "      <th>is_adult</th>\n",
       "      <th>options</th>\n",
       "      <th>show_official_shop_label_in_title</th>\n",
       "      <th>rating_star</th>\n",
       "      <th>five_star</th>\n",
       "      <th>four_star</th>\n",
       "      <th>three_star</th>\n",
       "      <th>two_star</th>\n",
       "      <th>one_star</th>\n",
       "      <th>flash_sale</th>\n",
       "      <th>upcoming_flash_sale</th>\n",
       "      <th>price_min</th>\n",
       "      <th>price_min_before_discount</th>\n",
       "      <th>price_max</th>\n",
       "      <th>price_max_before_discount</th>\n",
       "      <th>price</th>\n",
       "      <th>price_before_discount</th>\n",
       "      <th>coin_earn_label</th>\n",
       "      <th>liked_count</th>\n",
       "      <th>view_count</th>\n",
       "      <th>cmt_count</th>\n",
       "      <th>is_preferred_plus_seller</th>\n",
       "      <th>show_free_shipping</th>\n",
       "      <th>images</th>\n",
       "      <th>video_info_list</th>\n",
       "      <th>historical_sold</th>\n",
       "    </tr>\n",
       "  </thead>\n",
       "  <tbody>\n",
       "    <tr>\n",
       "      <th>0</th>\n",
       "      <td>8947</td>\n",
       "      <td>Áo thun phông Unisex nam nữ 2 màu Trắng Đen tay ngắn cổ tròn dáng ôm phối cực cá tính - V107</td>\n",
       "      <td>TP. Hồ Chí Minh</td>\n",
       "      <td>1.607317e+09</td>\n",
       "      <td>1.609949e+09</td>\n",
       "      <td>2632455.0</td>\n",
       "      <td>True</td>\n",
       "      <td>39%</td>\n",
       "      <td>False</td>\n",
       "      <td>8.0</td>\n",
       "      <td>False</td>\n",
       "      <td>5.000000</td>\n",
       "      <td>4.0</td>\n",
       "      <td>0.0</td>\n",
       "      <td>0.0</td>\n",
       "      <td>0.0</td>\n",
       "      <td>0.0</td>\n",
       "      <td>None</td>\n",
       "      <td>None</td>\n",
       "      <td>1.490000e+10</td>\n",
       "      <td>2.450000e+10</td>\n",
       "      <td>1.490000e+10</td>\n",
       "      <td>2.450000e+10</td>\n",
       "      <td>1.490000e+10</td>\n",
       "      <td>2.450000e+10</td>\n",
       "      <td>None</td>\n",
       "      <td>7.0</td>\n",
       "      <td>1048.0</td>\n",
       "      <td>4.0</td>\n",
       "      <td>True</td>\n",
       "      <td>False</td>\n",
       "      <td>8.0</td>\n",
       "      <td>0.0</td>\n",
       "      <td>18.0</td>\n",
       "    </tr>\n",
       "    <tr>\n",
       "      <th>1</th>\n",
       "      <td>8947</td>\n",
       "      <td>Áo Thun Trơn Nam [FREESHIP] Áo phông nam tay ngắn 100% cotton Trắng Đen dáng ôm vừa vặn AT01</td>\n",
       "      <td>TP. Hồ Chí Minh</td>\n",
       "      <td>1.596338e+09</td>\n",
       "      <td>1.609949e+09</td>\n",
       "      <td>13611374.0</td>\n",
       "      <td>True</td>\n",
       "      <td>49%</td>\n",
       "      <td>False</td>\n",
       "      <td>35.0</td>\n",
       "      <td>False</td>\n",
       "      <td>4.947977</td>\n",
       "      <td>166.0</td>\n",
       "      <td>5.0</td>\n",
       "      <td>2.0</td>\n",
       "      <td>0.0</td>\n",
       "      <td>0.0</td>\n",
       "      <td>None</td>\n",
       "      <td>None</td>\n",
       "      <td>1.090000e+10</td>\n",
       "      <td>1.090000e+10</td>\n",
       "      <td>1.090000e+10</td>\n",
       "      <td>2.150000e+10</td>\n",
       "      <td>1.090000e+10</td>\n",
       "      <td>1.090000e+10</td>\n",
       "      <td>None</td>\n",
       "      <td>109.0</td>\n",
       "      <td>10540.0</td>\n",
       "      <td>173.0</td>\n",
       "      <td>True</td>\n",
       "      <td>False</td>\n",
       "      <td>9.0</td>\n",
       "      <td>0.0</td>\n",
       "      <td>526.0</td>\n",
       "    </tr>\n",
       "    <tr>\n",
       "      <th>2</th>\n",
       "      <td>8947</td>\n",
       "      <td>[SALE 50%] - Áo Thun Nam Cổ Tròn Cao Cấp ( nhiều màu) Tay Ngắn, chất cotton bề mặt vải mềm Mịn cực hot</td>\n",
       "      <td>TP. Hồ Chí Minh</td>\n",
       "      <td>1.603988e+09</td>\n",
       "      <td>1.609949e+09</td>\n",
       "      <td>5961754.0</td>\n",
       "      <td>True</td>\n",
       "      <td>50%</td>\n",
       "      <td>False</td>\n",
       "      <td>48.0</td>\n",
       "      <td>False</td>\n",
       "      <td>4.885417</td>\n",
       "      <td>89.0</td>\n",
       "      <td>4.0</td>\n",
       "      <td>2.0</td>\n",
       "      <td>1.0</td>\n",
       "      <td>0.0</td>\n",
       "      <td>None</td>\n",
       "      <td>None</td>\n",
       "      <td>4.950000e+09</td>\n",
       "      <td>9.900000e+09</td>\n",
       "      <td>4.950000e+09</td>\n",
       "      <td>9.900000e+09</td>\n",
       "      <td>4.950000e+09</td>\n",
       "      <td>9.900000e+09</td>\n",
       "      <td>None</td>\n",
       "      <td>25.0</td>\n",
       "      <td>4025.0</td>\n",
       "      <td>96.0</td>\n",
       "      <td>True</td>\n",
       "      <td>False</td>\n",
       "      <td>9.0</td>\n",
       "      <td>0.0</td>\n",
       "      <td>431.0</td>\n",
       "    </tr>\n",
       "    <tr>\n",
       "      <th>3</th>\n",
       "      <td>8947</td>\n",
       "      <td>Áo thun nam unisex 100% cotton basic Trắng Đen áo phông co giãn cao cấp dáng rộng dễ phối đồ - V69</td>\n",
       "      <td>TP. Hồ Chí Minh</td>\n",
       "      <td>1.596083e+09</td>\n",
       "      <td>1.609949e+09</td>\n",
       "      <td>13866721.0</td>\n",
       "      <td>True</td>\n",
       "      <td>39%</td>\n",
       "      <td>False</td>\n",
       "      <td>8.0</td>\n",
       "      <td>False</td>\n",
       "      <td>5.000000</td>\n",
       "      <td>66.0</td>\n",
       "      <td>0.0</td>\n",
       "      <td>0.0</td>\n",
       "      <td>0.0</td>\n",
       "      <td>0.0</td>\n",
       "      <td>None</td>\n",
       "      <td>None</td>\n",
       "      <td>1.490000e+10</td>\n",
       "      <td>2.450000e+10</td>\n",
       "      <td>1.490000e+10</td>\n",
       "      <td>2.450000e+10</td>\n",
       "      <td>1.490000e+10</td>\n",
       "      <td>2.450000e+10</td>\n",
       "      <td>None</td>\n",
       "      <td>85.0</td>\n",
       "      <td>4551.0</td>\n",
       "      <td>66.0</td>\n",
       "      <td>True</td>\n",
       "      <td>False</td>\n",
       "      <td>7.0</td>\n",
       "      <td>0.0</td>\n",
       "      <td>141.0</td>\n",
       "    </tr>\n",
       "    <tr>\n",
       "      <th>4</th>\n",
       "      <td>8947</td>\n",
       "      <td>🔥XẢ HÀNG🔥 Áo đôi - áo cặp nam nữ dễ thương cực HOT</td>\n",
       "      <td>Hà Nội</td>\n",
       "      <td>1.590391e+09</td>\n",
       "      <td>1.609949e+09</td>\n",
       "      <td>19558163.0</td>\n",
       "      <td>False</td>\n",
       "      <td>None</td>\n",
       "      <td>False</td>\n",
       "      <td>10.0</td>\n",
       "      <td>False</td>\n",
       "      <td>4.687500</td>\n",
       "      <td>27.0</td>\n",
       "      <td>1.0</td>\n",
       "      <td>3.0</td>\n",
       "      <td>1.0</td>\n",
       "      <td>0.0</td>\n",
       "      <td>None</td>\n",
       "      <td>None</td>\n",
       "      <td>7.200000e+09</td>\n",
       "      <td>-1.000000e+00</td>\n",
       "      <td>7.200000e+09</td>\n",
       "      <td>-1.000000e+00</td>\n",
       "      <td>7.200000e+09</td>\n",
       "      <td>0.000000e+00</td>\n",
       "      <td>None</td>\n",
       "      <td>128.0</td>\n",
       "      <td>3613.0</td>\n",
       "      <td>32.0</td>\n",
       "      <td>False</td>\n",
       "      <td>False</td>\n",
       "      <td>1.0</td>\n",
       "      <td>0.0</td>\n",
       "      <td>158.0</td>\n",
       "    </tr>\n",
       "  </tbody>\n",
       "</table>\n",
       "</div>"
      ],
      "text/plain": [
       "   category_id                                                                                                    name    shop_location  item_public_time  item_be_got_time   sell_time shopee_verified discount is_adult  options show_official_shop_label_in_title  rating_star  five_star  four_star  three_star  two_star  one_star flash_sale upcoming_flash_sale     price_min  price_min_before_discount     price_max  price_max_before_discount         price  price_before_discount coin_earn_label  liked_count  view_count  cmt_count is_preferred_plus_seller show_free_shipping  images  video_info_list  historical_sold\n",
       "0         8947            Áo thun phông Unisex nam nữ 2 màu Trắng Đen tay ngắn cổ tròn dáng ôm phối cực cá tính - V107  TP. Hồ Chí Minh      1.607317e+09      1.609949e+09   2632455.0            True      39%    False      8.0                             False     5.000000        4.0        0.0         0.0       0.0       0.0       None                None  1.490000e+10               2.450000e+10  1.490000e+10               2.450000e+10  1.490000e+10           2.450000e+10            None          7.0      1048.0        4.0                     True              False     8.0              0.0             18.0\n",
       "1         8947            Áo Thun Trơn Nam [FREESHIP] Áo phông nam tay ngắn 100% cotton Trắng Đen dáng ôm vừa vặn AT01  TP. Hồ Chí Minh      1.596338e+09      1.609949e+09  13611374.0            True      49%    False     35.0                             False     4.947977      166.0        5.0         2.0       0.0       0.0       None                None  1.090000e+10               1.090000e+10  1.090000e+10               2.150000e+10  1.090000e+10           1.090000e+10            None        109.0     10540.0      173.0                     True              False     9.0              0.0            526.0\n",
       "2         8947  [SALE 50%] - Áo Thun Nam Cổ Tròn Cao Cấp ( nhiều màu) Tay Ngắn, chất cotton bề mặt vải mềm Mịn cực hot  TP. Hồ Chí Minh      1.603988e+09      1.609949e+09   5961754.0            True      50%    False     48.0                             False     4.885417       89.0        4.0         2.0       1.0       0.0       None                None  4.950000e+09               9.900000e+09  4.950000e+09               9.900000e+09  4.950000e+09           9.900000e+09            None         25.0      4025.0       96.0                     True              False     9.0              0.0            431.0\n",
       "3         8947      Áo thun nam unisex 100% cotton basic Trắng Đen áo phông co giãn cao cấp dáng rộng dễ phối đồ - V69  TP. Hồ Chí Minh      1.596083e+09      1.609949e+09  13866721.0            True      39%    False      8.0                             False     5.000000       66.0        0.0         0.0       0.0       0.0       None                None  1.490000e+10               2.450000e+10  1.490000e+10               2.450000e+10  1.490000e+10           2.450000e+10            None         85.0      4551.0       66.0                     True              False     7.0              0.0            141.0\n",
       "4         8947                                                      🔥XẢ HÀNG🔥 Áo đôi - áo cặp nam nữ dễ thương cực HOT           Hà Nội      1.590391e+09      1.609949e+09  19558163.0           False     None    False     10.0                             False     4.687500       27.0        1.0         3.0       1.0       0.0       None                None  7.200000e+09              -1.000000e+00  7.200000e+09              -1.000000e+00  7.200000e+09           0.000000e+00            None        128.0      3613.0       32.0                    False              False     1.0              0.0            158.0"
      ]
     },
     "execution_count": 1533,
     "metadata": {},
     "output_type": "execute_result"
    }
   ],
   "source": [
    "items_df.head()"
   ]
  },
  {
   "cell_type": "markdown",
   "metadata": {},
   "source": [
    "Lưu file khi cần thiết"
   ]
  },
  {
   "cell_type": "code",
   "execution_count": 1534,
   "metadata": {},
   "outputs": [],
   "source": [
    "#items_df.to_csv('Data/ShopeeItem-ThoiTrangNam-Full.tsv', sep='\\t', index=False)"
   ]
  },
  {
   "cell_type": "markdown",
   "metadata": {},
   "source": [
    "## III. Khám phá dữ liệu, tiền xử lý đơn giản và tách tập"
   ]
  },
  {
   "cell_type": "markdown",
   "metadata": {},
   "source": [
    "### 1. Kiểm tra output hợp lệ\n",
    "Ta kiểm tra xem dữ liệu thu được có đủ điều kiện để mô hình hóa hay không? Vì đây là bài toán hồi qui nên cột output bắt buộc phải có dạng số; nếu hiện chưa có dạng số (ví dụ, số nhưng được lưu dưới dạng chuỗi) thì ta cần chuyển sang dạng số rồi mới tách các tập."
   ]
  },
  {
   "cell_type": "code",
   "execution_count": 1535,
   "metadata": {},
   "outputs": [
    {
     "data": {
      "text/plain": [
       "dtype('float64')"
      ]
     },
     "execution_count": 1535,
     "metadata": {},
     "output_type": "execute_result"
    }
   ],
   "source": [
    "# Cột output hiện có kiểu dữ liệu gì?\n",
    "items_df['historical_sold'].dtype"
   ]
  },
  {
   "cell_type": "code",
   "execution_count": 1536,
   "metadata": {},
   "outputs": [
    {
     "data": {
      "text/plain": [
       "1"
      ]
     },
     "execution_count": 1536,
     "metadata": {},
     "output_type": "execute_result"
    }
   ],
   "source": [
    "# Cột output có giá trị thiếu không?\n",
    "items_df['historical_sold'].isna().sum()"
   ]
  },
  {
   "cell_type": "code",
   "execution_count": 1537,
   "metadata": {},
   "outputs": [],
   "source": [
    "# Xóa các mẫu có giá trị output thiếu\n",
    "items_df.dropna(subset=['historical_sold'], inplace=True)"
   ]
  },
  {
   "cell_type": "code",
   "execution_count": 1538,
   "metadata": {},
   "outputs": [
    {
     "data": {
      "text/plain": [
       "count    10850.000000\n",
       "mean        92.164516\n",
       "std        844.028673\n",
       "min          0.000000\n",
       "25%          0.000000\n",
       "50%          0.000000\n",
       "75%          4.000000\n",
       "max      37079.000000\n",
       "Name: historical_sold, dtype: float64"
      ]
     },
     "execution_count": 1538,
     "metadata": {},
     "output_type": "execute_result"
    }
   ],
   "source": [
    "# Xem phân bố các giá trị của output\n",
    "items_df['historical_sold'].describe()"
   ]
  },
  {
   "cell_type": "markdown",
   "metadata": {},
   "source": [
    "Ta có thể thấy giá trị 0 chiếm rất nhiều trong output khiến cho phân bố bị lệch rõ rệt, hãy xem biểu đồ phân bố dưới đây"
   ]
  },
  {
   "cell_type": "code",
   "execution_count": 1539,
   "metadata": {},
   "outputs": [
    {
     "data": {
      "text/plain": [
       "<matplotlib.axes._subplots.AxesSubplot at 0x7f0ac409b1f0>"
      ]
     },
     "execution_count": 1539,
     "metadata": {},
     "output_type": "execute_result"
    },
    {
     "data": {
      "image/png": "[encoded data removed]",
      "text/plain": [
       "<Figure size 432x288 with 1 Axes>"
      ]
     },
     "metadata": {
      "needs_background": "light"
     },
     "output_type": "display_data"
    }
   ],
   "source": [
    "items_df['historical_sold'].plot.hist(bins=range(0, 500,10), edgecolor='black')"
   ]
  },
  {
   "cell_type": "code",
   "execution_count": 1540,
   "metadata": {},
   "outputs": [
    {
     "data": {
      "text/plain": [
       "22.392901815404624"
      ]
     },
     "execution_count": 1540,
     "metadata": {},
     "output_type": "execute_result"
    }
   ],
   "source": [
    "# Tính thử độ lệch của output\n",
    "items_df['historical_sold'].skew()"
   ]
  },
  {
   "cell_type": "markdown",
   "metadata": {},
   "source": [
    "### 2. Ý nghĩa của mỗi dòng\n",
    "Quan sát sơ bộ dữ liệu và qua quá trình crawler data, ta thấy mỗi dòng chứa thông tin của một món hàng, và không có vấn đề các dòng có ý nghĩa khác nhau."
   ]
  },
  {
   "cell_type": "markdown",
   "metadata": {},
   "source": [
    "### 3. Kiểm tra các giá trị trùng\n",
    "Ta xem thử có bao nhiều mẫu bị trùng giá trị"
   ]
  },
  {
   "cell_type": "code",
   "execution_count": 1541,
   "metadata": {},
   "outputs": [
    {
     "data": {
      "text/plain": [
       "102"
      ]
     },
     "execution_count": 1541,
     "metadata": {},
     "output_type": "execute_result"
    }
   ],
   "source": [
    "num_duplicated_rows = items_df.duplicated().sum()\n",
    "num_duplicated_rows"
   ]
  },
  {
   "cell_type": "markdown",
   "metadata": {},
   "source": [
    "Tiến hành xóa các mẫu trùng"
   ]
  },
  {
   "cell_type": "code",
   "execution_count": 1542,
   "metadata": {},
   "outputs": [],
   "source": [
    "items_df = items_df.drop_duplicates(ignore_index = True)"
   ]
  },
  {
   "cell_type": "markdown",
   "metadata": {},
   "source": [
    "### 4. Kiểm tra các giá trị không hợp lệ\n",
    "\n",
    "Thật ra giá trị của những mẫu này đều đang hoạt động bình thường trên giao diện shopee nên khả năng lỗi là rất thấp. Ta vẫn kiểm tra lại các trường hợp như sau:\n",
    "\n",
    "1. Kiểm tra cột price_min_before_discount và cột price_max_before_discount xem có giá trị âm hay không?\n",
    "  \n",
    "2. So sánh price_min > price_max, price_min_before_discount > price_max_before_discount\n",
    "\n",
    "3. So sánh price < price_before_discount, price_min < price_min_before_discount, price_max < price_max_before_discount"
   ]
  },
  {
   "cell_type": "code",
   "execution_count": 1543,
   "metadata": {},
   "outputs": [
    {
     "data": {
      "text/plain": [
       "0.39067733531819876"
      ]
     },
     "execution_count": 1543,
     "metadata": {},
     "output_type": "execute_result"
    }
   ],
   "source": [
    "# Xử lý trường hợp 1.\n",
    "\n",
    "invalid_price_negative = (items_df.price_min_before_discount < 0) | (items_df.price_max_before_discount < 0)\n",
    "invalid_price_negative_vals = invalid_price_negative.sum()\n",
    "invalid_price_negative_vals/len(items_df)"
   ]
  },
  {
   "cell_type": "markdown",
   "metadata": {},
   "source": [
    "Ta thấy có đến xấp xỉ 47.35% các giá trị `price_min_before_discount` và `price_min_before_discount` bị âm.\n",
    "Do shopee vẫn hiển thị bình thường nên ta dự đoán có lẽ do tại những mẫu có giá trị âm này thì `discount` = None "
   ]
  },
  {
   "cell_type": "code",
   "execution_count": 1544,
   "metadata": {},
   "outputs": [
    {
     "name": "stdout",
     "output_type": "stream",
     "text": [
      "0.39067733531819876\n",
      "True\n"
     ]
    }
   ],
   "source": [
    "print((items_df.discount == 'None').sum()/len(items_df))\n",
    "print((items_df.discount == 'None').sum()/len(items_df) == invalid_price_negative_vals/len(items_df))"
   ]
  },
  {
   "cell_type": "markdown",
   "metadata": {},
   "source": [
    "Kiểm tra thấy hai giá trị là hoàn toàn giống nhau chứng tỏ dự đoán là đúng.\n",
    "Vậy code shopee chịu lỗi này hoặc đây là quy ước data của shopee, khi lấy mẫu mới về từ shopee trường hợp này vẫn sẽ là giá trị âm. Vậy nên những giá trị âm này ta xem như hợp lệ."
   ]
  },
  {
   "cell_type": "code",
   "execution_count": 1545,
   "metadata": {},
   "outputs": [
    {
     "data": {
      "text/plain": [
       "249"
      ]
     },
     "execution_count": 1545,
     "metadata": {},
     "output_type": "execute_result"
    }
   ],
   "source": [
    "# Xử lý trường hợp 2\n",
    "invalid_price_min_max = (items_df.price_min_before_discount > items_df.price_max_before_discount) | (items_df.price_max < items_df.price_min)\n",
    "invalid_price_min_max_vals = invalid_price_min_max.sum()\n",
    "invalid_price_min_max_vals\n"
   ]
  },
  {
   "cell_type": "markdown",
   "metadata": {},
   "source": [
    "Có những mẫu bất hợp lệ trong trường hợp này, ta sẽ giữ lại những mẫu hợp lệ"
   ]
  },
  {
   "cell_type": "code",
   "execution_count": 1546,
   "metadata": {},
   "outputs": [],
   "source": [
    "items_df = items_df[~invalid_price_min_max]"
   ]
  },
  {
   "cell_type": "code",
   "execution_count": 1547,
   "metadata": {},
   "outputs": [
    {
     "data": {
      "text/plain": [
       "0.39775216687303555"
      ]
     },
     "execution_count": 1547,
     "metadata": {},
     "output_type": "execute_result"
    }
   ],
   "source": [
    "# Xử lý trường hợp 3\n",
    "invalid_price_before_after = (items_df.price > items_df.price_before_discount) | (items_df.price_min > items_df.price_min_before_discount) | (items_df.price_max > items_df.price_max_before_discount)\n",
    "invalid_price_before_after_vals = invalid_price_before_after.sum()\n",
    "invalid_price_before_after_vals / len(items_df)"
   ]
  },
  {
   "cell_type": "markdown",
   "metadata": {},
   "source": [
    "Ta thấy phần trăm các giá trị lỗi giống như ở trường hợp 1 nên kiểm tra riêng lại cho điều kiện (items_df.price_min > items_df.price_min_before_discount) | (items_df.price_max > items_df.price_max_before_discount)"
   ]
  },
  {
   "cell_type": "code",
   "execution_count": 1548,
   "metadata": {},
   "outputs": [
    {
     "name": "stdout",
     "output_type": "stream",
     "text": [
      "(items_df.price_min > items_df.price_min_before_discount) | (items_df.price_max > items_df.price_max_before_discount):\n",
      "-> 0.39756167254024194\n",
      "True if it equal to (items_df.discount == \"None\").sum()/len(items_df))\n",
      "-> False\n"
     ]
    }
   ],
   "source": [
    "print('(items_df.price_min > items_df.price_min_before_discount) | (items_df.price_max > items_df.price_max_before_discount):\\n->', ((items_df.price_min > items_df.price_min_before_discount) | (items_df.price_max > items_df.price_max_before_discount)).sum()/len(items_df))\n",
    "print('True if it equal to (items_df.discount == \"None\").sum()/len(items_df))\\n->', ((items_df.price_min > items_df.price_min_before_discount) | (items_df.price_max > items_df.price_max_before_discount)).sum()/len(items_df) == (items_df.discount == 'None').sum()/len(items_df))"
   ]
  },
  {
   "cell_type": "markdown",
   "metadata": {},
   "source": [
    "Có một vài mẫu bất hợp lệ, ta cũng sẽ xóa những mẫu này"
   ]
  },
  {
   "cell_type": "code",
   "execution_count": 1549,
   "metadata": {},
   "outputs": [],
   "source": [
    "wrong = (((items_df.price_min > items_df.price_min_before_discount) | (items_df.price_max > items_df.price_max_before_discount)) & ~(items_df.discount == 'None'))\n",
    "items_df = items_df[~wrong]"
   ]
  },
  {
   "cell_type": "markdown",
   "metadata": {},
   "source": [
    "Kiểm tra lại số mẫu"
   ]
  },
  {
   "cell_type": "code",
   "execution_count": 1550,
   "metadata": {},
   "outputs": [
    {
     "data": {
      "text/plain": [
       "(10493, 34)"
      ]
     },
     "execution_count": 1550,
     "metadata": {},
     "output_type": "execute_result"
    }
   ],
   "source": [
    "items_df.shape"
   ]
  },
  {
   "cell_type": "markdown",
   "metadata": {},
   "source": [
    "### 5. Xử lý dữ liệu bị lệch"
   ]
  },
  {
   "cell_type": "markdown",
   "metadata": {},
   "source": [
    "Ta sẽ viết một hàm để giảm độ lệch của dữ liệu, ý tưởng là giảm số lượng giá trị xuất hiện nhiều nhất bằng với số lượng của giá trị xuất hiện nhiều thứ 2, ta sẽ điều chỉnh tham số s là độ lệch của cột đó sau khi transform bằng log(x + 1)"
   ]
  },
  {
   "cell_type": "code",
   "execution_count": 1551,
   "metadata": {},
   "outputs": [],
   "source": [
    "def reduce_skew(df, column, s=0.6):\n",
    "    k = df.copy()\n",
    "    while (np.log(k[column] + 1).skew() > s):\n",
    "        vc = k[column].value_counts()\n",
    "        mf = vc.index[0]\n",
    "        if len(vc[vc < vc[0]]):\n",
    "            sf_n = vc[vc < vc[0]].iloc[0]\n",
    "        else:\n",
    "            break\n",
    "        mf_sample = k[k[column] == mf]\n",
    "        not_mf_sample = k[k[column] != mf]\n",
    "        undersampled = resample(mf_sample, replace = False,\n",
    "                                    n_samples = sf_n, random_state = 0)\n",
    "        k = pd.concat([undersampled, not_mf_sample])\n",
    "    return k"
   ]
  },
  {
   "cell_type": "code",
   "execution_count": 1552,
   "metadata": {},
   "outputs": [
    {
     "name": "stderr",
     "output_type": "stream",
     "text": [
      "/home/khoa/anaconda3/lib/python3.8/site-packages/IPython/core/displayhook.py:275: UserWarning: Output cache limit (currently 1000 entries) hit.\n",
      "Flushing oldest 200 entries.\n",
      "  warn('Output cache limit (currently {sz} entries) hit.\\n'\n"
     ]
    },
    {
     "data": {
      "text/plain": [
       "(4007, 34)"
      ]
     },
     "execution_count": 1552,
     "metadata": {},
     "output_type": "execute_result"
    }
   ],
   "source": [
    "x = reduce_skew(items_df, 'historical_sold', 0.9)\n",
    "x.shape"
   ]
  },
  {
   "cell_type": "code",
   "execution_count": 1553,
   "metadata": {},
   "outputs": [
    {
     "data": {
      "text/plain": [
       "<matplotlib.axes._subplots.AxesSubplot at 0x7f0abcc4c6d0>"
      ]
     },
     "execution_count": 1553,
     "metadata": {},
     "output_type": "execute_result"
    },
    {
     "data": {
      "image/png": "[encoded data removed]",
      "text/plain": [
       "<Figure size 432x288 with 1 Axes>"
      ]
     },
     "metadata": {
      "needs_background": "light"
     },
     "output_type": "display_data"
    }
   ],
   "source": [
    "transformed = np.log(x['historical_sold'] + 1)\n",
    "transformed.plot.hist(bins=range(0, 11, 1), edgecolor='black')"
   ]
  },
  {
   "cell_type": "markdown",
   "metadata": {},
   "source": [
    "Ta thấy khi s = 0.9 thì phân phối có vẻ tốt, ngoài ra tập dữ liệu của chúng ta chỉ còn 4000 mẫu. Khi thấy ổn ta tiến hành cập nhật dữ liệu bằng cách gán lại vào df"
   ]
  },
  {
   "cell_type": "code",
   "execution_count": 1526,
   "metadata": {},
   "outputs": [],
   "source": [
    "items_df = x\n",
    "items_df['historical_sold'].skew()"
   ]
  },
  {
   "cell_type": "markdown",
   "metadata": {},
   "source": [
    "Sau đó ta sẽ transform cột output bằng hàm log(x + 1) để dữ liệu phân bố đều hơn"
   ]
  },
  {
   "cell_type": "code",
   "execution_count": 1528,
   "metadata": {},
   "outputs": [],
   "source": [
    "items_df['historical_sold'] = np.log(items_df['historical_sold'] + 1)\n",
    "items_df['historical_sold'].skew()"
   ]
  },
  {
   "cell_type": "code",
   "execution_count": 1274,
   "metadata": {},
   "outputs": [
    {
     "data": {
      "text/plain": [
       "count    4737.000000\n",
       "mean        2.385653\n",
       "std         2.068039\n",
       "min         0.000000\n",
       "25%         0.693147\n",
       "50%         1.791759\n",
       "75%         3.784190\n",
       "max        10.520833\n",
       "Name: historical_sold, dtype: float64"
      ]
     },
     "execution_count": 1274,
     "metadata": {},
     "output_type": "execute_result"
    }
   ],
   "source": [
    "items_df['historical_sold'].describe()"
   ]
  },
  {
   "cell_type": "markdown",
   "metadata": {},
   "source": [
    "### 6. Tách các tập\n",
    "Vậy là dữ liệu đã sẵn sàng để tách và khám phá"
   ]
  },
  {
   "cell_type": "code",
   "execution_count": 1182,
   "metadata": {},
   "outputs": [],
   "source": [
    "# Tách X và y\n",
    "y_sr = items_df[\"historical_sold\"]\n",
    "X_df = items_df.drop(\"historical_sold\", axis=1)"
   ]
  },
  {
   "cell_type": "code",
   "execution_count": 1183,
   "metadata": {},
   "outputs": [],
   "source": [
    "# Tách train và test\n",
    "rest_X_df, test_X_df, rest_y_sr, test_y_sr = train_test_split(X_df, y_sr, test_size=0.2, random_state=0)"
   ]
  },
  {
   "cell_type": "code",
   "execution_count": 1184,
   "metadata": {},
   "outputs": [],
   "source": [
    "# Tách train và validation\n",
    "train_X_df, val_X_df, train_y_sr, val_y_sr = train_test_split(rest_X_df, rest_y_sr, test_size=0.2, random_state=0)"
   ]
  },
  {
   "cell_type": "code",
   "execution_count": 1185,
   "metadata": {},
   "outputs": [
    {
     "data": {
      "text/plain": [
       "(1660, 33)"
      ]
     },
     "execution_count": 1185,
     "metadata": {},
     "output_type": "execute_result"
    }
   ],
   "source": [
    "train_X_df.shape"
   ]
  },
  {
   "cell_type": "code",
   "execution_count": 1186,
   "metadata": {},
   "outputs": [
    {
     "data": {
      "text/plain": [
       "(1660,)"
      ]
     },
     "execution_count": 1186,
     "metadata": {},
     "output_type": "execute_result"
    }
   ],
   "source": [
    "train_y_sr.shape"
   ]
  },
  {
   "cell_type": "code",
   "execution_count": 1187,
   "metadata": {},
   "outputs": [
    {
     "data": {
      "text/plain": [
       "(415, 33)"
      ]
     },
     "execution_count": 1187,
     "metadata": {},
     "output_type": "execute_result"
    }
   ],
   "source": [
    "val_X_df.shape"
   ]
  },
  {
   "cell_type": "code",
   "execution_count": 1188,
   "metadata": {},
   "outputs": [
    {
     "data": {
      "text/plain": [
       "(415,)"
      ]
     },
     "execution_count": 1188,
     "metadata": {},
     "output_type": "execute_result"
    }
   ],
   "source": [
    "val_y_sr.shape"
   ]
  },
  {
   "cell_type": "code",
   "execution_count": 1189,
   "metadata": {},
   "outputs": [
    {
     "data": {
      "text/plain": [
       "(519, 33)"
      ]
     },
     "execution_count": 1189,
     "metadata": {},
     "output_type": "execute_result"
    }
   ],
   "source": [
    "test_X_df.shape"
   ]
  },
  {
   "cell_type": "code",
   "execution_count": 1190,
   "metadata": {},
   "outputs": [
    {
     "data": {
      "text/plain": [
       "(519,)"
      ]
     },
     "execution_count": 1190,
     "metadata": {},
     "output_type": "execute_result"
    }
   ],
   "source": [
    "test_y_sr.shape"
   ]
  },
  {
   "cell_type": "markdown",
   "metadata": {},
   "source": [
    "## IV. Khám phá dữ liệu\n",
    "\n",
    "Quá trình làm việc của nhóm trong branch [Preprocessing](https://github.com/cstotodile/ds_final/tree/Preprocessing)\n"
   ]
  },
  {
   "cell_type": "markdown",
   "metadata": {},
   "source": [
    "Xem sơ qua về dữ liệu"
   ]
  },
  {
   "cell_type": "code",
   "execution_count": 1191,
   "metadata": {},
   "outputs": [
    {
     "data": {
      "text/html": [
       "<div>\n",
       "<style scoped>\n",
       "    .dataframe tbody tr th:only-of-type {\n",
       "        vertical-align: middle;\n",
       "    }\n",
       "\n",
       "    .dataframe tbody tr th {\n",
       "        vertical-align: top;\n",
       "    }\n",
       "\n",
       "    .dataframe thead th {\n",
       "        text-align: right;\n",
       "    }\n",
       "</style>\n",
       "<table border=\"1\" class=\"dataframe\">\n",
       "  <thead>\n",
       "    <tr style=\"text-align: right;\">\n",
       "      <th></th>\n",
       "      <th>category_id</th>\n",
       "      <th>name</th>\n",
       "      <th>shop_location</th>\n",
       "      <th>item_public_time</th>\n",
       "      <th>item_be_got_time</th>\n",
       "      <th>sell_time</th>\n",
       "      <th>shopee_verified</th>\n",
       "      <th>discount</th>\n",
       "      <th>is_adult</th>\n",
       "      <th>options</th>\n",
       "      <th>show_official_shop_label_in_title</th>\n",
       "      <th>rating_star</th>\n",
       "      <th>five_star</th>\n",
       "      <th>four_star</th>\n",
       "      <th>three_star</th>\n",
       "      <th>two_star</th>\n",
       "      <th>one_star</th>\n",
       "      <th>flash_sale</th>\n",
       "      <th>upcoming_flash_sale</th>\n",
       "      <th>price_min</th>\n",
       "      <th>price_min_before_discount</th>\n",
       "      <th>price_max</th>\n",
       "      <th>price_max_before_discount</th>\n",
       "      <th>price</th>\n",
       "      <th>price_before_discount</th>\n",
       "      <th>coin_earn_label</th>\n",
       "      <th>liked_count</th>\n",
       "      <th>view_count</th>\n",
       "      <th>cmt_count</th>\n",
       "      <th>is_preferred_plus_seller</th>\n",
       "      <th>show_free_shipping</th>\n",
       "      <th>images</th>\n",
       "      <th>video_info_list</th>\n",
       "    </tr>\n",
       "  </thead>\n",
       "  <tbody>\n",
       "    <tr>\n",
       "      <th>4982</th>\n",
       "      <td>1899</td>\n",
       "      <td>Quần đùi thể thao thời trang nam Bonado Ha03</td>\n",
       "      <td>TP. Hồ Chí Minh</td>\n",
       "      <td>1.588045e+09</td>\n",
       "      <td>1.609992e+09</td>\n",
       "      <td>21946897.0</td>\n",
       "      <td>False</td>\n",
       "      <td>47%</td>\n",
       "      <td>False</td>\n",
       "      <td>16.0</td>\n",
       "      <td>True</td>\n",
       "      <td>4.733333</td>\n",
       "      <td>13.0</td>\n",
       "      <td>1.0</td>\n",
       "      <td>0.0</td>\n",
       "      <td>1.0</td>\n",
       "      <td>0.0</td>\n",
       "      <td>None</td>\n",
       "      <td>None</td>\n",
       "      <td>6.900000e+09</td>\n",
       "      <td>1.300000e+10</td>\n",
       "      <td>6.900000e+09</td>\n",
       "      <td>1.300000e+10</td>\n",
       "      <td>6.900000e+09</td>\n",
       "      <td>1.300000e+10</td>\n",
       "      <td>None</td>\n",
       "      <td>1100.0</td>\n",
       "      <td>95.0</td>\n",
       "      <td>15.0</td>\n",
       "      <td>False</td>\n",
       "      <td>True</td>\n",
       "      <td>7.0</td>\n",
       "      <td>0.0</td>\n",
       "    </tr>\n",
       "    <tr>\n",
       "      <th>5977</th>\n",
       "      <td>2829</td>\n",
       "      <td>Áo khoác phao nam MŨ RỜI đại hàn thời trang bigsize cao cấp APHA23 - 7622</td>\n",
       "      <td>Hải Phòng</td>\n",
       "      <td>1.609776e+09</td>\n",
       "      <td>1.610610e+09</td>\n",
       "      <td>834375.0</td>\n",
       "      <td>True</td>\n",
       "      <td>22%</td>\n",
       "      <td>False</td>\n",
       "      <td>8.0</td>\n",
       "      <td>False</td>\n",
       "      <td>5.000000</td>\n",
       "      <td>11.0</td>\n",
       "      <td>0.0</td>\n",
       "      <td>0.0</td>\n",
       "      <td>0.0</td>\n",
       "      <td>0.0</td>\n",
       "      <td>None</td>\n",
       "      <td>None</td>\n",
       "      <td>6.990000e+10</td>\n",
       "      <td>9.000000e+10</td>\n",
       "      <td>6.990000e+10</td>\n",
       "      <td>9.000000e+10</td>\n",
       "      <td>6.990000e+10</td>\n",
       "      <td>9.000000e+10</td>\n",
       "      <td>None</td>\n",
       "      <td>15.0</td>\n",
       "      <td>1460.0</td>\n",
       "      <td>11.0</td>\n",
       "      <td>True</td>\n",
       "      <td>False</td>\n",
       "      <td>8.0</td>\n",
       "      <td>1.0</td>\n",
       "    </tr>\n",
       "    <tr>\n",
       "      <th>8815</th>\n",
       "      <td>15139</td>\n",
       "      <td>Áo len cổ lọ tay dài phong cách hợp thời trang cho nam</td>\n",
       "      <td>Nước ngoài</td>\n",
       "      <td>1.579997e+09</td>\n",
       "      <td>1.610639e+09</td>\n",
       "      <td>30641446.0</td>\n",
       "      <td>True</td>\n",
       "      <td>44%</td>\n",
       "      <td>False</td>\n",
       "      <td>12.0</td>\n",
       "      <td>False</td>\n",
       "      <td>4.250000</td>\n",
       "      <td>5.0</td>\n",
       "      <td>2.0</td>\n",
       "      <td>0.0</td>\n",
       "      <td>0.0</td>\n",
       "      <td>1.0</td>\n",
       "      <td>None</td>\n",
       "      <td>None</td>\n",
       "      <td>7.000000e+09</td>\n",
       "      <td>1.250000e+10</td>\n",
       "      <td>7.000000e+09</td>\n",
       "      <td>1.250000e+10</td>\n",
       "      <td>7.000000e+09</td>\n",
       "      <td>1.250000e+10</td>\n",
       "      <td>None</td>\n",
       "      <td>25.0</td>\n",
       "      <td>4343.0</td>\n",
       "      <td>8.0</td>\n",
       "      <td>False</td>\n",
       "      <td>True</td>\n",
       "      <td>9.0</td>\n",
       "      <td>0.0</td>\n",
       "    </tr>\n",
       "    <tr>\n",
       "      <th>8171</th>\n",
       "      <td>8948</td>\n",
       "      <td>Áo thun nam cổ bẻ tay ngắn đẹp thời trang giá rẻ Sọc Tay Chất Đẹp AT03</td>\n",
       "      <td>Hà Nội</td>\n",
       "      <td>1.584588e+09</td>\n",
       "      <td>1.610629e+09</td>\n",
       "      <td>26041341.0</td>\n",
       "      <td>True</td>\n",
       "      <td>40%</td>\n",
       "      <td>False</td>\n",
       "      <td>10.0</td>\n",
       "      <td>False</td>\n",
       "      <td>4.739130</td>\n",
       "      <td>20.0</td>\n",
       "      <td>2.0</td>\n",
       "      <td>0.0</td>\n",
       "      <td>0.0</td>\n",
       "      <td>1.0</td>\n",
       "      <td>None</td>\n",
       "      <td>None</td>\n",
       "      <td>9.000000e+09</td>\n",
       "      <td>1.500000e+10</td>\n",
       "      <td>9.000000e+09</td>\n",
       "      <td>1.500000e+10</td>\n",
       "      <td>9.000000e+09</td>\n",
       "      <td>1.500000e+10</td>\n",
       "      <td>None</td>\n",
       "      <td>13.0</td>\n",
       "      <td>131.0</td>\n",
       "      <td>23.0</td>\n",
       "      <td>False</td>\n",
       "      <td>True</td>\n",
       "      <td>9.0</td>\n",
       "      <td>0.0</td>\n",
       "    </tr>\n",
       "    <tr>\n",
       "      <th>4978</th>\n",
       "      <td>1899</td>\n",
       "      <td>Quần short nam chất đũi xước 4 màu thời trang cao cấp, mã TA-Q05</td>\n",
       "      <td>Hà Nội</td>\n",
       "      <td>1.603188e+09</td>\n",
       "      <td>1.609992e+09</td>\n",
       "      <td>6803743.0</td>\n",
       "      <td>True</td>\n",
       "      <td>46%</td>\n",
       "      <td>False</td>\n",
       "      <td>12.0</td>\n",
       "      <td>False</td>\n",
       "      <td>4.444444</td>\n",
       "      <td>7.0</td>\n",
       "      <td>1.0</td>\n",
       "      <td>0.0</td>\n",
       "      <td>0.0</td>\n",
       "      <td>1.0</td>\n",
       "      <td>None</td>\n",
       "      <td>None</td>\n",
       "      <td>7.600000e+09</td>\n",
       "      <td>1.400000e+10</td>\n",
       "      <td>7.600000e+09</td>\n",
       "      <td>1.400000e+10</td>\n",
       "      <td>7.600000e+09</td>\n",
       "      <td>1.400000e+10</td>\n",
       "      <td>None</td>\n",
       "      <td>21.0</td>\n",
       "      <td>1100.0</td>\n",
       "      <td>9.0</td>\n",
       "      <td>False</td>\n",
       "      <td>False</td>\n",
       "      <td>7.0</td>\n",
       "      <td>0.0</td>\n",
       "    </tr>\n",
       "  </tbody>\n",
       "</table>\n",
       "</div>"
      ],
      "text/plain": [
       "      category_id                                                                       name    shop_location  item_public_time  item_be_got_time   sell_time shopee_verified discount is_adult  options show_official_shop_label_in_title  rating_star  five_star  four_star  three_star  two_star  one_star flash_sale upcoming_flash_sale     price_min  price_min_before_discount     price_max  price_max_before_discount         price  price_before_discount coin_earn_label  liked_count  view_count  cmt_count is_preferred_plus_seller show_free_shipping  images  video_info_list\n",
       "4982         1899                               Quần đùi thể thao thời trang nam Bonado Ha03  TP. Hồ Chí Minh      1.588045e+09      1.609992e+09  21946897.0           False      47%    False     16.0                              True     4.733333       13.0        1.0         0.0       1.0       0.0       None                None  6.900000e+09               1.300000e+10  6.900000e+09               1.300000e+10  6.900000e+09           1.300000e+10            None       1100.0        95.0       15.0                    False               True     7.0              0.0\n",
       "5977         2829  Áo khoác phao nam MŨ RỜI đại hàn thời trang bigsize cao cấp APHA23 - 7622        Hải Phòng      1.609776e+09      1.610610e+09    834375.0            True      22%    False      8.0                             False     5.000000       11.0        0.0         0.0       0.0       0.0       None                None  6.990000e+10               9.000000e+10  6.990000e+10               9.000000e+10  6.990000e+10           9.000000e+10            None         15.0      1460.0       11.0                     True              False     8.0              1.0\n",
       "8815        15139                     Áo len cổ lọ tay dài phong cách hợp thời trang cho nam       Nước ngoài      1.579997e+09      1.610639e+09  30641446.0            True      44%    False     12.0                             False     4.250000        5.0        2.0         0.0       0.0       1.0       None                None  7.000000e+09               1.250000e+10  7.000000e+09               1.250000e+10  7.000000e+09           1.250000e+10            None         25.0      4343.0        8.0                    False               True     9.0              0.0\n",
       "8171         8948     Áo thun nam cổ bẻ tay ngắn đẹp thời trang giá rẻ Sọc Tay Chất Đẹp AT03           Hà Nội      1.584588e+09      1.610629e+09  26041341.0            True      40%    False     10.0                             False     4.739130       20.0        2.0         0.0       0.0       1.0       None                None  9.000000e+09               1.500000e+10  9.000000e+09               1.500000e+10  9.000000e+09           1.500000e+10            None         13.0       131.0       23.0                    False               True     9.0              0.0\n",
       "4978         1899           Quần short nam chất đũi xước 4 màu thời trang cao cấp, mã TA-Q05           Hà Nội      1.603188e+09      1.609992e+09   6803743.0            True      46%    False     12.0                             False     4.444444        7.0        1.0         0.0       0.0       1.0       None                None  7.600000e+09               1.400000e+10  7.600000e+09               1.400000e+10  7.600000e+09           1.400000e+10            None         21.0      1100.0        9.0                    False              False     7.0              0.0"
      ]
     },
     "execution_count": 1191,
     "metadata": {},
     "output_type": "execute_result"
    }
   ],
   "source": [
    "train_X_df.head()"
   ]
  },
  {
   "cell_type": "markdown",
   "metadata": {},
   "source": [
    "### 1. Kiểm tra kiểu dữ liệu của input có phù hợp"
   ]
  },
  {
   "cell_type": "code",
   "execution_count": 1192,
   "metadata": {},
   "outputs": [
    {
     "data": {
      "text/plain": [
       "category_id                            int64\n",
       "name                                  object\n",
       "shop_location                         object\n",
       "item_public_time                     float64\n",
       "item_be_got_time                     float64\n",
       "sell_time                            float64\n",
       "shopee_verified                       object\n",
       "discount                              object\n",
       "is_adult                              object\n",
       "options                              float64\n",
       "show_official_shop_label_in_title     object\n",
       "rating_star                          float64\n",
       "five_star                            float64\n",
       "four_star                            float64\n",
       "three_star                           float64\n",
       "two_star                             float64\n",
       "one_star                             float64\n",
       "flash_sale                            object\n",
       "upcoming_flash_sale                   object\n",
       "price_min                            float64\n",
       "price_min_before_discount            float64\n",
       "price_max                            float64\n",
       "price_max_before_discount            float64\n",
       "price                                float64\n",
       "price_before_discount                float64\n",
       "coin_earn_label                       object\n",
       "liked_count                          float64\n",
       "view_count                           float64\n",
       "cmt_count                            float64\n",
       "is_preferred_plus_seller              object\n",
       "show_free_shipping                    object\n",
       "images                               float64\n",
       "video_info_list                      float64\n",
       "dtype: object"
      ]
     },
     "execution_count": 1192,
     "metadata": {},
     "output_type": "execute_result"
    }
   ],
   "source": [
    "train_X_df.dtypes"
   ]
  },
  {
   "cell_type": "markdown",
   "metadata": {},
   "source": [
    "Ta nhận thấy thuộc tính `discount` có kiểu dữ liệu không phù hợp, đáng lẽ phải ở dạng số. Ta hãy kiểm tra xem `discount` giữ những giá trị gì?"
   ]
  },
  {
   "cell_type": "code",
   "execution_count": 1193,
   "metadata": {},
   "outputs": [
    {
     "data": {
      "text/plain": [
       "array(['47%', '22%', '44%', '40%', '46%', '31%', 'None', '50%', '45%',\n",
       "       '43%', '48%', '15%', '18%', '34%', '10%', '41%', '39%', '9%',\n",
       "       '30%', '37%', '51%', '35%', '23%', '1%', '33%', '36%', '20%',\n",
       "       '14%', '19%', '49%', '5%', '27%', '42%', '70%', '29%', '38%',\n",
       "       '21%', '11%', '4%', '25%', '3%', '28%', '16%', '8%', '32%', '17%',\n",
       "       '24%', '52%', '2%', '26%', '13%', '7%', '12%', '56%', '6%', '60%',\n",
       "       '53%'], dtype=object)"
      ]
     },
     "execution_count": 1193,
     "metadata": {},
     "output_type": "execute_result"
    }
   ],
   "source": [
    "train_X_df['discount'].unique()"
   ]
  },
  {
   "cell_type": "markdown",
   "metadata": {},
   "source": [
    "### 2. Phân bố giá trị của cột có kiểu dữ liệu dạng số\n",
    "\n",
    "- Tỉ lệ % (từ 0 đến 100) các giá trị thiếu \n",
    "- Giá trị min\n",
    "- Giá trị lower quartile (phân vị 25)\n",
    "- Giá trị median (phân vị 50)\n",
    "- Giá trị upper quartile (phân vị 75)\n",
    "- Giá trị max\n",
    "\n",
    "Kết quả được lưu vào DataFrame `num_col_info_df`, trong đó: \n",
    "- Tên của các cột là tên của các cột số trong `train_X_df`\n",
    "- Tên của các dòng là: \"missing_ratio\", \"min\", \"lower_quartile\", \"median\", \"upper_quartile\", \"max\" "
   ]
  },
  {
   "cell_type": "code",
   "execution_count": 1194,
   "metadata": {},
   "outputs": [],
   "source": [
    "num_cols = ['item_public_time','item_be_got_time', 'sell_time', 'discount', \n",
    "            'options', 'rating_star' ,'five_star', 'four_star', 'three_star', \n",
    "            'two_star' ,'one_star' ,'price_min_before_discount', 'price_max', 'price_min', \n",
    "            'price_max_before_discount', 'price', 'price_before_discount', \n",
    "            'liked_count', 'view_count', 'cmt_count','images', 'video_info_list']\n",
    "cat_cols = list(set(train_X_df.columns) - set(num_cols))"
   ]
  },
  {
   "cell_type": "code",
   "execution_count": 1195,
   "metadata": {},
   "outputs": [
    {
     "data": {
      "text/html": [
       "<div>\n",
       "<style scoped>\n",
       "    .dataframe tbody tr th:only-of-type {\n",
       "        vertical-align: middle;\n",
       "    }\n",
       "\n",
       "    .dataframe tbody tr th {\n",
       "        vertical-align: top;\n",
       "    }\n",
       "\n",
       "    .dataframe thead th {\n",
       "        text-align: right;\n",
       "    }\n",
       "</style>\n",
       "<table border=\"1\" class=\"dataframe\">\n",
       "  <thead>\n",
       "    <tr style=\"text-align: right;\">\n",
       "      <th></th>\n",
       "      <th>item_public_time</th>\n",
       "      <th>item_be_got_time</th>\n",
       "      <th>sell_time</th>\n",
       "      <th>discount</th>\n",
       "      <th>options</th>\n",
       "      <th>rating_star</th>\n",
       "      <th>five_star</th>\n",
       "      <th>four_star</th>\n",
       "      <th>three_star</th>\n",
       "      <th>two_star</th>\n",
       "      <th>one_star</th>\n",
       "      <th>price_min_before_discount</th>\n",
       "      <th>price_max</th>\n",
       "      <th>price_min</th>\n",
       "      <th>price_max_before_discount</th>\n",
       "      <th>price</th>\n",
       "      <th>price_before_discount</th>\n",
       "      <th>liked_count</th>\n",
       "      <th>view_count</th>\n",
       "      <th>cmt_count</th>\n",
       "      <th>images</th>\n",
       "      <th>video_info_list</th>\n",
       "    </tr>\n",
       "  </thead>\n",
       "  <tbody>\n",
       "    <tr>\n",
       "      <th>missing_ratio</th>\n",
       "      <td>0.000000e+00</td>\n",
       "      <td>0.000000e+00</td>\n",
       "      <td>0.000000e+00</td>\n",
       "      <td>0</td>\n",
       "      <td>0.0</td>\n",
       "      <td>0.0</td>\n",
       "      <td>0.0</td>\n",
       "      <td>0.0</td>\n",
       "      <td>0.0</td>\n",
       "      <td>0.0</td>\n",
       "      <td>0.0</td>\n",
       "      <td>0.000000e+00</td>\n",
       "      <td>0.000000e+00</td>\n",
       "      <td>0.000000e+00</td>\n",
       "      <td>0.000000e+00</td>\n",
       "      <td>0.000000e+00</td>\n",
       "      <td>0.000000e+00</td>\n",
       "      <td>0.0</td>\n",
       "      <td>0.0</td>\n",
       "      <td>0.0</td>\n",
       "      <td>0.0</td>\n",
       "      <td>0.0</td>\n",
       "    </tr>\n",
       "    <tr>\n",
       "      <th>min</th>\n",
       "      <td>1.439048e+09</td>\n",
       "      <td>1.609910e+09</td>\n",
       "      <td>-1.530817e+09</td>\n",
       "      <td>1%</td>\n",
       "      <td>0.0</td>\n",
       "      <td>0.0</td>\n",
       "      <td>0.0</td>\n",
       "      <td>0.0</td>\n",
       "      <td>0.0</td>\n",
       "      <td>0.0</td>\n",
       "      <td>0.0</td>\n",
       "      <td>-2.000000e+00</td>\n",
       "      <td>3.000000e+08</td>\n",
       "      <td>3.000000e+08</td>\n",
       "      <td>-2.000000e+00</td>\n",
       "      <td>3.000000e+08</td>\n",
       "      <td>0.000000e+00</td>\n",
       "      <td>0.0</td>\n",
       "      <td>0.0</td>\n",
       "      <td>0.0</td>\n",
       "      <td>1.0</td>\n",
       "      <td>0.0</td>\n",
       "    </tr>\n",
       "    <tr>\n",
       "      <th>lower_quartile</th>\n",
       "      <td>1.557180e+09</td>\n",
       "      <td>1.609949e+09</td>\n",
       "      <td>1.297775e+07</td>\n",
       "      <td>NaN</td>\n",
       "      <td>4.0</td>\n",
       "      <td>4.7</td>\n",
       "      <td>2.0</td>\n",
       "      <td>0.0</td>\n",
       "      <td>0.0</td>\n",
       "      <td>0.0</td>\n",
       "      <td>0.0</td>\n",
       "      <td>-1.000000e+00</td>\n",
       "      <td>7.200000e+09</td>\n",
       "      <td>6.900000e+09</td>\n",
       "      <td>-1.000000e+00</td>\n",
       "      <td>6.900000e+09</td>\n",
       "      <td>0.000000e+00</td>\n",
       "      <td>4.0</td>\n",
       "      <td>18.0</td>\n",
       "      <td>3.0</td>\n",
       "      <td>5.0</td>\n",
       "      <td>0.0</td>\n",
       "    </tr>\n",
       "    <tr>\n",
       "      <th>median</th>\n",
       "      <td>1.581417e+09</td>\n",
       "      <td>1.609994e+09</td>\n",
       "      <td>2.877930e+07</td>\n",
       "      <td>NaN</td>\n",
       "      <td>10.0</td>\n",
       "      <td>4.9</td>\n",
       "      <td>7.0</td>\n",
       "      <td>0.0</td>\n",
       "      <td>0.0</td>\n",
       "      <td>0.0</td>\n",
       "      <td>0.0</td>\n",
       "      <td>1.290000e+10</td>\n",
       "      <td>1.090000e+10</td>\n",
       "      <td>1.034445e+10</td>\n",
       "      <td>1.300000e+10</td>\n",
       "      <td>1.050000e+10</td>\n",
       "      <td>1.290000e+10</td>\n",
       "      <td>23.0</td>\n",
       "      <td>87.0</td>\n",
       "      <td>8.0</td>\n",
       "      <td>8.0</td>\n",
       "      <td>0.0</td>\n",
       "    </tr>\n",
       "    <tr>\n",
       "      <th>upper_quartile</th>\n",
       "      <td>1.597195e+09</td>\n",
       "      <td>1.610639e+09</td>\n",
       "      <td>5.317674e+07</td>\n",
       "      <td>NaN</td>\n",
       "      <td>16.0</td>\n",
       "      <td>5.0</td>\n",
       "      <td>26.0</td>\n",
       "      <td>2.0</td>\n",
       "      <td>1.0</td>\n",
       "      <td>0.0</td>\n",
       "      <td>0.0</td>\n",
       "      <td>2.000000e+10</td>\n",
       "      <td>1.621250e+10</td>\n",
       "      <td>1.590000e+10</td>\n",
       "      <td>2.000000e+10</td>\n",
       "      <td>1.590000e+10</td>\n",
       "      <td>2.000000e+10</td>\n",
       "      <td>472.2</td>\n",
       "      <td>428.0</td>\n",
       "      <td>30.0</td>\n",
       "      <td>9.0</td>\n",
       "      <td>0.0</td>\n",
       "    </tr>\n",
       "    <tr>\n",
       "      <th>max</th>\n",
       "      <td>3.141446e+09</td>\n",
       "      <td>1.610639e+09</td>\n",
       "      <td>1.715907e+08</td>\n",
       "      <td>None</td>\n",
       "      <td>75.0</td>\n",
       "      <td>5.9</td>\n",
       "      <td>6691.0</td>\n",
       "      <td>498.0</td>\n",
       "      <td>259.0</td>\n",
       "      <td>78.0</td>\n",
       "      <td>138.0</td>\n",
       "      <td>1.750000e+11</td>\n",
       "      <td>2.320000e+11</td>\n",
       "      <td>2.320000e+11</td>\n",
       "      <td>1.750000e+11</td>\n",
       "      <td>2.320000e+11</td>\n",
       "      <td>1.750000e+11</td>\n",
       "      <td>79919.0</td>\n",
       "      <td>189252.0</td>\n",
       "      <td>7649.0</td>\n",
       "      <td>9.0</td>\n",
       "      <td>1.0</td>\n",
       "    </tr>\n",
       "  </tbody>\n",
       "</table>\n",
       "</div>"
      ],
      "text/plain": [
       "                item_public_time  item_be_got_time     sell_time discount  options  rating_star  five_star  four_star  three_star  two_star  one_star  price_min_before_discount     price_max     price_min  price_max_before_discount         price  price_before_discount  liked_count  view_count  cmt_count  images  video_info_list\n",
       "missing_ratio       0.000000e+00      0.000000e+00  0.000000e+00        0      0.0          0.0        0.0        0.0         0.0       0.0       0.0               0.000000e+00  0.000000e+00  0.000000e+00               0.000000e+00  0.000000e+00           0.000000e+00          0.0         0.0        0.0     0.0              0.0\n",
       "min                 1.439048e+09      1.609910e+09 -1.530817e+09       1%      0.0          0.0        0.0        0.0         0.0       0.0       0.0              -2.000000e+00  3.000000e+08  3.000000e+08              -2.000000e+00  3.000000e+08           0.000000e+00          0.0         0.0        0.0     1.0              0.0\n",
       "lower_quartile      1.557180e+09      1.609949e+09  1.297775e+07      NaN      4.0          4.7        2.0        0.0         0.0       0.0       0.0              -1.000000e+00  7.200000e+09  6.900000e+09              -1.000000e+00  6.900000e+09           0.000000e+00          4.0        18.0        3.0     5.0              0.0\n",
       "median              1.581417e+09      1.609994e+09  2.877930e+07      NaN     10.0          4.9        7.0        0.0         0.0       0.0       0.0               1.290000e+10  1.090000e+10  1.034445e+10               1.300000e+10  1.050000e+10           1.290000e+10         23.0        87.0        8.0     8.0              0.0\n",
       "upper_quartile      1.597195e+09      1.610639e+09  5.317674e+07      NaN     16.0          5.0       26.0        2.0         1.0       0.0       0.0               2.000000e+10  1.621250e+10  1.590000e+10               2.000000e+10  1.590000e+10           2.000000e+10        472.2       428.0       30.0     9.0              0.0\n",
       "max                 3.141446e+09      1.610639e+09  1.715907e+08     None     75.0          5.9     6691.0      498.0       259.0      78.0     138.0               1.750000e+11  2.320000e+11  2.320000e+11               1.750000e+11  2.320000e+11           1.750000e+11      79919.0    189252.0     7649.0     9.0              1.0"
      ]
     },
     "execution_count": 1195,
     "metadata": {},
     "output_type": "execute_result"
    }
   ],
   "source": [
    "def missing_ratio(df):\n",
    "    return (df.isna().mean() * 100).round(1)\n",
    "def lower_quartile(df):\n",
    "    return df.quantile(0.25)\n",
    "def median(df):\n",
    "    return df.quantile(0.5)\n",
    "def upper_quartile(df):\n",
    "    return df.quantile(0.75)\n",
    "df = train_X_df[num_cols]\n",
    "num_col_info_df = df.agg([missing_ratio, min, lower_quartile, median, upper_quartile, max]).round(1)\n",
    "num_col_info_df"
   ]
  },
  {
   "cell_type": "markdown",
   "metadata": {},
   "source": [
    "### 3. Phân bố giá trị của cột có kiểu dữ liệu không phải dạng số\n",
    "\n",
    "- Tỉ lệ % (từ 0 đến 100) các giá trị thiếu \n",
    "\n",
    "- Số lượng các giá trị (các giá trị ở đây là các giá trị khác nhau và ta không xét giá trị thiếu)\n",
    "\n",
    "- Tỉ lệ % (từ 0 đến 100) của mỗi giá trị được sort theo tỉ lệ % giảm dần (ta không xét giá trị thiếu, tỉ lệ là tỉ lệ so với số lượng các giá trị không thiếu): dùng dictionary để lưu, key là giá trị, value là tỉ lệ %\n",
    "\n",
    "Kết quả được lưu vào DataFrame `cat_col_info_df`, trong đó: \n",
    "\n",
    "- Tên của các cột là tên của các cột không phải số trong `train_X_df`\n",
    "- Tên của các dòng là: \"missing_ratio\", \"num_values\", \"value_ratios\"  "
   ]
  },
  {
   "cell_type": "code",
   "execution_count": 1196,
   "metadata": {},
   "outputs": [
    {
     "data": {
      "text/html": [
       "<div>\n",
       "<style scoped>\n",
       "    .dataframe tbody tr th:only-of-type {\n",
       "        vertical-align: middle;\n",
       "    }\n",
       "\n",
       "    .dataframe tbody tr th {\n",
       "        vertical-align: top;\n",
       "    }\n",
       "\n",
       "    .dataframe thead th {\n",
       "        text-align: right;\n",
       "    }\n",
       "</style>\n",
       "<table border=\"1\" class=\"dataframe\">\n",
       "  <thead>\n",
       "    <tr style=\"text-align: right;\">\n",
       "      <th></th>\n",
       "      <th>coin_earn_label</th>\n",
       "      <th>upcoming_flash_sale</th>\n",
       "      <th>show_free_shipping</th>\n",
       "      <th>shopee_verified</th>\n",
       "      <th>shop_location</th>\n",
       "      <th>category_id</th>\n",
       "      <th>name</th>\n",
       "      <th>flash_sale</th>\n",
       "      <th>show_official_shop_label_in_title</th>\n",
       "      <th>is_preferred_plus_seller</th>\n",
       "      <th>is_adult</th>\n",
       "    </tr>\n",
       "  </thead>\n",
       "  <tbody>\n",
       "    <tr>\n",
       "      <th>missing_ratio</th>\n",
       "      <td>0</td>\n",
       "      <td>0</td>\n",
       "      <td>0</td>\n",
       "      <td>0</td>\n",
       "      <td>0</td>\n",
       "      <td>0</td>\n",
       "      <td>0</td>\n",
       "      <td>0</td>\n",
       "      <td>0</td>\n",
       "      <td>0</td>\n",
       "      <td>0</td>\n",
       "    </tr>\n",
       "    <tr>\n",
       "      <th>num_values</th>\n",
       "      <td>1</td>\n",
       "      <td>1</td>\n",
       "      <td>2</td>\n",
       "      <td>2</td>\n",
       "      <td>31</td>\n",
       "      <td>9</td>\n",
       "      <td>1479</td>\n",
       "      <td>1</td>\n",
       "      <td>5</td>\n",
       "      <td>2</td>\n",
       "      <td>3</td>\n",
       "    </tr>\n",
       "    <tr>\n",
       "      <th>value_ratios</th>\n",
       "      <td>{'None': 100.0}</td>\n",
       "      <td>{'None': 100.0}</td>\n",
       "      <td>{True: 51.3, False: 48.7}</td>\n",
       "      <td>{True: 51.1, False: 48.9}</td>\n",
       "      <td>{'Hà Nội': 42.9, 'TP. Hồ Chí Minh': 29.0, 'Nước ngoài': 19.7, 'Phú Thọ': 1.0, 'None': 0.9, 'Bình Định': 0.8, 'Hà Nam': 0.7, 'Đồng Nai': 0.7, 'Quảng Ninh': 0.6, 'TP. Hồ Chí': 0.6, 'Bình Dương': 0.4, 'Hà ': 0.3, 'An Giang': 0.3, 'Lào Cai': 0.2, 'Đắk Nông': 0.2, 'Bà Rịa - Vũng Tàu': 0.2, 'Hải Phòng': 0.2, 'Hưng Yên': 0.2, 'Đắk Lắk': 0.2, 'Bắc Ninh': 0.1, 'Nước n': 0.1, 'Lâm Đồng': 0.1, 'Thanh Hóa': 0.1, 'Ninh Bình': 0.1, 'Lạng Sơn': 0.1, 'Nghệ An': 0.1, 'Vĩnh ': 0.1, 'Thừa Thiên Huế': 0.1, 'Hải Dương': 0.1, 'Cần Thơ': 0.1, 'Thái Nguyên': 0.1}</td>\n",
       "      <td>{15139: 25.4, 8948: 14.8, 8947: 14.1, 2429: 12.4, 1899: 10.3, 2831: 9.1, 9572: 7.5, 2829: 4.2, 8945: 2.2}</td>\n",
       "      <td>{'Áo Thun Nam POLO Cổ Bẻ Ngắn Tay,ÁO Phông Nam Dáng Ôm Thời Trang Cam Cấp': 0.4, 'Áo Hoodies Có Nón Dài Tay Thời Trang Nam': 0.4, 'Giày Nam Thể Thao Thời Trang Nam bền đẹp giá rẻ': 0.2, 'Quần tây nam vải co giãn ống côn ĐẲNG CẤP thời trang nam': 0.2, 'Nhẫn Đính Đá Thời Trang Dành Cho Nam': 0.2, 'Áo Thun Nam  Cổ Bẻ Ngắn Tay,dáng ôm, thời trang cao cấp, chất cotton cực mát 4 màu trơn': 0.2, 'Áo Thun Polo Ngắn Tay Thời Trang Dành Cho Nam': 0.2, 'áo phông nam trơn body hàn quốc đẹp, Áo phông nam cổ bẻ thời trang VNXK chất đẹp Aru Shop': 0.2, 'Áo Sơ Mi Thời Trang Nam Cao Cấp BT1': 0.2, 'Nhẫn thời trang nam cao cấp Hỏa Long cao cấp': 0.2, 'Nhẫn nam trơn nhiều màu cao cấp thời trang không đen': 0.2, 'Áo Thun Polo Màu Trơn Chất Liệu Cotton Cao Cấp Thời Trang Dành Cho Nam': 0.1, '[Xả Hàng Lấy Vốn] Áo Thun Nam, Áo Phông Cổ Bẻ Ngắn Tay,dáng ôm, thời trang cao cấp, chất cotton cực mát 4 màu trơn': 0.1, '[FREESHIP 99K] Áo thời trang nam có cổ': 0.1, 'Nón lưỡi trai Kaki nam nữ MrCAPs freesize, full hộp, Nón Kết thêu Logo, Trắng, Đen': 0.1, 'Áo thun polo tay ngắn màu trơn thời trang nam': 0.1, 'Áo Thun Nam Ngắn Tay Có Cổ 🔵 𝐅𝐑𝐄𝐄 𝐒𝐇𝐈𝐏 🔵 Áo Phông Nam Đẹp Vải Thun Co Giãn Thời Trang Hpfashion - Atnhp012': 0.1, 'áo thun nam ngắn tay TC567 viền ngực 3 màu thời trang': 0.1, 'ÁO THUN NAM CỔ TRỤ TAY NGẮN THỜI TRANG RẺ VÀ ĐẸP': 0.1, 'Áo thun nam cổ bẻ Kojiba ngắn tay Thời Trang': 0.1, 'Áo có cổ thời trang nam, chất liệu vải thun dệt kim Mã A11': 0.1, 'Áo thun có cổ thời trang nam chất liệu vải thun cao cấp phom 40-75kg kynn': 0.1, 'Áo Thun Polo Nam Giordano 01010398 Tay Ngắn Thêu Hình Ếch Thời Trang': 0.1, 'Áo thun nam cổ bẻ tay ngắn đẹp thời trang giá rẻ Sọc Tay Chất Đẹp AT03': 0.1, 'Áo thun ba lỗ ôm dáng thời trang nam': 0.1, 'Áo Thun Nam Thời Trang Lịch Lãm ZERO': 0.1, 'Áo Phông Nam POLO Cổ Bẻ Ngắn Tay,ÁO Phông Nam Dáng Ôm Thời Trang Cam Cấp': 0.1, 'Áo Thun Nam Ngắn Tay Có Cổ 🔵 𝐅𝐑𝐄𝐄 𝐒𝐇𝐈𝐏 🔵 Áo Phông Nam Đẹp Vải Thun Co Giãn Thời Trang Hpfashion - Atnhp03': 0.1, 'Áo sơ mi nam thời trang nam áo hoa áo ngắn tay có cổ áo phông nam sơ mi nam ngắn tay áo phôn': 0.1, 'Mũ Lưỡi Trai hàn quốc Reclusive ❤️ Nón Lưỡi Trai Thời trang ❤️ Nón Kết nam nữ đẹp': 0.1, 'Giày sneaker thời trang nam cao cấp- MS3 1347': 0.1, 'Áo Thun Nam Có Cổ KITTY247-AT19 Chất Vải Thun Cá Sâu Thêu Năm 1985 Cực Chất - 4 Màu': 0.1, 'Áo thun nam tay ngắn logo B 3 màu thời trang': 0.1, 'Áo Thun Nam Có Cổ Ngắn Tay Cao Cấp 1985 Yourself RSP012 | Áo Phông Nam Đẹp Riooshop': 0.1, ''VIDEO + Ảnh' Áo thun nam ngắn tay cổ bẻ chuẩn from phối họa tiết thời trang chất cotton cao cấp': 0.1, '[SIÊU HOT] Áo thun nam tay ngắn có cổ thời trang hàn quốc cao cấp siêu đẹp': 0.1, 'Áo thun nam (HỖ TRỢ ĐỔI SIZE) polo cao cấp hình thuyền buồm độc đáo thời trang  - Liyor - ACB4012': 0.1, 'Áo Thun Tay Dài Cổ Lọ Thời Trang Cá Tính Cho Nam': 0.1, 'Áo Thun PoLo Nam,Áo phông, thun cộc tay,Áo Tay lỡ Cổ Bẻ Ngắn Tay,dáng ôm, thời trang cao cấp, chất cotton': 0.1, 'Áo thun nam vạt bầu tay ngắn dáng rộng thời trang': 0.1, 'Áo thun ngắn tay họa tiết đầu bóng rổ thời trang dành cho nam': 0.1, 'Áo thun nam ngắn tay in họa tiết thời trang': 0.1, 'Áo thun nam ngắn tay thời trang 36': 0.1, 'Áo Thun Polo Tay Ngắn Thời Trang Thanh Lịch Cho Nam': 0.1, 'Áo thun nam tay ngắn có cổ bẻ đẹp cao cấp thời trang AT01': 0.1, 'Áo Sơ Mi Nam Đỏ Đô dài tay Hàn Quốc form body, vải lụa Thái chống nhăn [Thời Trang Nam]': 0.1, 'Áo thun nam cổ trụ thời trang phong cách Hàn Quốc BONADO  - Trắng': 0.1, 'Áo thun nam cao cấp cổ bẻ thiết kế đơn giản thời trang nam Liyor - BDTATCS4004': 0.1, 'ÁO THUN NAM CỔ BẺ KIỂU THỜI TRANG': 0.1, 'Áo phông nam có cổ bẻ đẹp cao cấp thời trang 2020 Sọc Tay AT03': 0.1, 'Áo polo nam Galvin piqué Basic,áo thun nam có cổ tay lỡ công sở 7- Leo Vatino': 0.1, 'Áo thun nam tay ngắn cổ bẻ phối màu thời trang chuẩn from cao cấp thoáng mát': 0.1, 'ÁO THUN NAM CỔ BẺ SỌC HAI MÀU THỜI TRANG - KPS099': 0.1, 'Áo phông nam dáng slimfit, chuẩn thiết kế hàn quốc, cực tôn dáng, lịch sự, trẻ trung(ACBI)': 0.1, '[Có video] Áo thun unisex nam nữ đều mặc được tay lỡ form rộng - T shirt - Thời Trang Phương Ling - 250920201016': 0.1, '[LIMITED+FULLBOX] #AMMY - Giày Nam Versace Cao Cấp - #GIÀY thời trang Nam Sneaker-Đế Bệt 2cm-Khử Mùi Hôi-Mẫu Độc Quyền': 0.1, 'ÁO THUN NAM MÀU TRẮNG LOGAL MINI - THỜI TRANG PHƯƠNG LING': 0.1, ''VIDEO + ẢNH THẬT' Áo thun nam ngắn tay cổ bẻ chất cotton 4 chiều cao cấp thoáng mát phối hình thời trang': 0.1, 'Áo Thun Nam Ngắn Tay Có Cổ Basic Cực Đẹp RSP022 | Áo Polo Nam Riooshop': 0.1, 'Quần Kaki Nam dáng côn vải co giãn nhẹ đẳng cấp thời trang nam cao cấp': 0.1, 'Áo thun nam có cổ tay ngắn đẹp cao cấp thời trang cá sấu co dãn 4 chiều AT05': 0.1, 'Áo Polo Nam Thời Trang 💥 Áo Thun Nam Thêu Logo Cá Sấu Có Cổ Chất Liệu Cotton Co Dãn 4 Chiều': 0.1, 'Áo phông nam Áo cổ tròn nam phong cách trẻ trung form nhỏ thời trang trẻ': 0.1, 'Áo PoLo Nam thể thao thời trang cao cấp': 0.1, 'Dép Thái Siêu Nhẹ Xỏ Ngón Thời Trang Nam DT11': 0.1, 'Áo thun nam Cotton Sọc logo thêu Chữ A tay bo - Thời trang Havis - ASTD019': 0.1, 'Áo Thun Nam Tay Ngắn In Hình Thời Trang Trẻ Trung': 0.1, '[SIÊU HOT] Áo thun nam tay ngắn có cổ phong cách hàn quốc thời trang cao cấp siêu đẹp': 0.1, 'Áo Phông CỔ BẺ TRƠN Nam, Dáng Ôm, thời trang cao cấp, chất cotton cực mát 4 màu trơn': 0.1, 'áo thun nam ngắn tay TCB 4 màu thời trang': 0.1, 'Áo Thun Nam Ngắn Tay Có Cổ 🔵 𝐅𝐑𝐄𝐄 𝐒𝐇𝐈𝐏 🔵 Áo Phông Nam Đẹp Vải Thun Co Giãn Thời Trang Hpfashion - Atnhp011': 0.1, 'ÁO THUN NGẮN TAY NAM CỔ BẺ THÊU CHỮ THỜI TRANG [ảnh thật] - STD072': 0.1, 'Áo phông nam có cổ đẹp tay ngắn cao cấp thời trang': 0.1, '🔥[FREESHIP]🔥 Áo Polo Nam Zodiomen Vải CVC Kháng Khuẩn, Vải Mịn Không Xù Thoáng Mát (Nhiều màu)': 0.1, 'Áo hoodie không tay thể thao thời trang cho nam': 0.1, 'Áo Thun Nam Tay Ngắn LOGO FOREVER Nhiều Màu Cao Cấp Phong Cách Trẻ Trung Thời Trang TG': 0.1, 'Áo thun nam cổ họa tiết thổ cẩm thời trang cao cấp - TATCB4034': 0.1, 'Áo thun nam cổ tàu thời trang': 0.1, 'Áo phông nam cổ bẻ ngắn tay Ikemen cao cấp : Chất thun cá sấu cotton 100% co giãn 4 chiều cực mềm mịn mát(ACB)': 0.1, 'Áo Thun Tay Ngắn Dáng Rộng Thời Trang Dành Cho Nam Có Size M-3XL': 0.1, '[Có video, Giao nhanh 2h] Áo thun nam form rộng tay lỡ 65x46x23 (cm) - Thời Trang Phương Ling - ms 102': 0.1, '[Có video] Áo thun nam nữ hình đầu sư tử form rộng - Thời Trang Phương Ling - Bảo hành 7 ngày - 17062020632': 0.1, 'Áo Sơ Mi Nam trắng dài tay Hàn Quốc form body, vải lụa Thái chống nhăn [Thời Trang Nam]': 0.1, 'Áo thun nam cổ trụ thời trang phong cách Hàn Quốc BONADO  - Xám': 0.1, 'Áo thun nam có cổ Havis phối sọc ngang thời trang ASTD009': 0.1, '[ÁO LOẠI 1] Áo phông nam đẹp cao cấp thời trang có cổ bẻ 2020': 0.1, 'Áo Len Cổ Lọ Dài Tay Thời Trang Nam': 0.1, 'Vòng Tay Cao Su Màu Sắc Phát Quang Thời Trang Dành Cho Nam': 0.1, 'Áo PoLo Nam Cộc Tay Cổ Bẻ Thời Trang Hiệu Bông Lúa FRED PER.RY hàng xuất xịn vải gân mát': 0.1, 'Bộ gồm 5 áo thun trơn Nam - Nữ [MÀU NGẪU NHIÊN], chất liệu thun Cotton, thiết kế thời trang, mặc khi đi học, đi làm': 0.1, 'Áo thun nam ngắn tay có cổ logo nhiều màu thời trang': 0.1, 'Áo Thun Nam 🔵 𝐅𝐑𝐄𝐄 𝐒𝐇𝐈𝐏 🔵 Áo Phông Nam Đẹp Vải Thun Co Giãn Thấm Hút Mồ Hôi Thời Trang Hpfashion - Atnhp01': 0.1, 'Áo Thun Nam Ngắn Tay Cổ Tròn Thời Trang': 0.1, 'Áo thun nam tay ngắn cổ chữ V màu trơn thời trang Hàn Quốc': 0.1, 'Áo Phông Nam Cổ Bẻ, Thun Nam Cổ Trụ, Các Mẫu thời trang 2020 Siêu Hot, A001 ( video )': 0.1, 'Áo thun nam cổ trụ tròn thiết kế thắt nút nhiều màu cao cấp thời trang nam Liyor - TACB3001': 0.1, 'Áo Phông Nam Cổ Bẻ, Các Mẫu Cổ Bẻ BR thời trang 2020 siêu hot ( có video )': 0.1, '[VIDEO SP] Áo phông trơn tay lỡ unisex - áo thun tay lỡ nam nữ form rộng không cổ nhiều màu thời trang': 0.1, 'Áo Thun Polo Tay Ngắn Thời Trang Hè 2020 Cho Nam': 0.1, 'Áo nam vải thun thông hơi có cổ thời trang mã KA09 phom 40-75kg kynn shop': 0.1, ...}</td>\n",
       "      <td>{'None': 100.0}</td>\n",
       "      <td>{False: 75.2, 'False': 17.3, True: 5.4, 'None': 1.2, 'True': 0.9}</td>\n",
       "      <td>{False: 91.3, True: 8.7}</td>\n",
       "      <td>{False: 90.1, 'False': 9.1, True: 0.8}</td>\n",
       "    </tr>\n",
       "  </tbody>\n",
       "</table>\n",
       "</div>"
      ],
      "text/plain": [
       "               coin_earn_label upcoming_flash_sale         show_free_shipping            shopee_verified                                                                                                                                                                                                                                                                                                                                                                                                                                                                                                                                                      shop_location                                                                                                category_id  \\\n",
       "missing_ratio                0                   0                          0                          0                                                                                                                                                                                                                                                                                                                                                                                                                                                                                                                                                                  0                                                                                                          0   \n",
       "num_values                   1                   1                          2                          2                                                                                                                                                                                                                                                                                                                                                                                                                                                                                                                                                                 31                                                                                                          9   \n",
       "value_ratios   {'None': 100.0}     {'None': 100.0}  {True: 51.3, False: 48.7}  {True: 51.1, False: 48.9}  {'Hà Nội': 42.9, 'TP. Hồ Chí Minh': 29.0, 'Nước ngoài': 19.7, 'Phú Thọ': 1.0, 'None': 0.9, 'Bình Định': 0.8, 'Hà Nam': 0.7, 'Đồng Nai': 0.7, 'Quảng Ninh': 0.6, 'TP. Hồ Chí': 0.6, 'Bình Dương': 0.4, 'Hà ': 0.3, 'An Giang': 0.3, 'Lào Cai': 0.2, 'Đắk Nông': 0.2, 'Bà Rịa - Vũng Tàu': 0.2, 'Hải Phòng': 0.2, 'Hưng Yên': 0.2, 'Đắk Lắk': 0.2, 'Bắc Ninh': 0.1, 'Nước n': 0.1, 'Lâm Đồng': 0.1, 'Thanh Hóa': 0.1, 'Ninh Bình': 0.1, 'Lạng Sơn': 0.1, 'Nghệ An': 0.1, 'Vĩnh ': 0.1, 'Thừa Thiên Huế': 0.1, 'Hải Dương': 0.1, 'Cần Thơ': 0.1, 'Thái Nguyên': 0.1}  {15139: 25.4, 8948: 14.8, 8947: 14.1, 2429: 12.4, 1899: 10.3, 2831: 9.1, 9572: 7.5, 2829: 4.2, 8945: 2.2}   \n",
       "\n",
       "                                                                                                                                                                                                                                                                                                                                                                                                                                                                                                                                                                                                                                                                                                                                                                                                                                                                                                                                                                                                                                                                                                                                                                                                                                                                                                                                                                                                                                                                                                                                                                                                                                                                                                                                                                                                                                                                                                                                                                                                                                                                                                                                                                                                                                                                                                                                                                                                                                                                                                                                                                                                                                                                                                                                                                                                                                                                                                                                                                                                                                                                                                                                                                                                                                                                                                                                                                                                                                                                                                                                                                                                                                                                                                                                                                                                                                                                                                                                                                                                                                                                                                                                                                                                                                                                                                                                                                                                                                                                                                                                                                                                                                                                                                                                                                                                                                                                                                                                                                                                                                                                                                                                                                                                                                                                                                                                                                                                                                                                                                                                                                                                                                                                                                                                                                                                                                                                                                                                                                                                                                                                                                                                                                                                                                                                                                                                                                                                                                                                                                                                                                                                                                                                                                                                                                                                                                                                                                                                                                                                                                                                                                                                                                                                                                                                                                                                                                                                                                                                                                                                                                                                                                                                                                                                                                                                                                                                                                                                                                                                                                                                                                                                                 name  \\\n",
       "missing_ratio                                                                                                                                                                                                                                                                                                                                                                                                                                                                                                                                                                                                                                                                                                                                                                                                                                                                                                                                                                                                                                                                                                                                                                                                                                                                                                                                                                                                                                                                                                                                                                                                                                                                                                                                                                                                                                                                                                                                                                                                                                                                                                                                                                                                                                                                                                                                                                                                                                                                                                                                                                                                                                                                                                                                                                                                                                                                                                                                                                                                                                                                                                                                                                                                                                                                                                                                                                                                                                                                                                                                                                                                                                                                                                                                                                                                                                                                                                                                                                                                                                                                                                                                                                                                                                                                                                                                                                                                                                                                                                                                                                                                                                                                                                                                                                                                                                                                                                                                                                                                                                                                                                                                                                                                                                                                                                                                                                                                                                                                                                                                                                                                                                                                                                                                                                                                                                                                                                                                                                                                                                                                                                                                                                                                                                                                                                                                                                                                                                                                                                                                                                                                                                                                                                                                                                                                                                                                                                                                                                                                                                                                                                                                                                                                                                                                                                                                                                                                                                                                                                                                                                                                                                                                                                                                                                                                                                                                                                                                                                                                                                                                                                                                       0   \n",
       "num_values                                                                                                                                                                                                                                                                                                                                                                                                                                                                                                                                                                                                                                                                                                                                                                                                                                                                                                                                                                                                                                                                                                                                                                                                                                                                                                                                                                                                                                                                                                                                                                                                                                                                                                                                                                                                                                                                                                                                                                                                                                                                                                                                                                                                                                                                                                                                                                                                                                                                                                                                                                                                                                                                                                                                                                                                                                                                                                                                                                                                                                                                                                                                                                                                                                                                                                                                                                                                                                                                                                                                                                                                                                                                                                                                                                                                                                                                                                                                                                                                                                                                                                                                                                                                                                                                                                                                                                                                                                                                                                                                                                                                                                                                                                                                                                                                                                                                                                                                                                                                                                                                                                                                                                                                                                                                                                                                                                                                                                                                                                                                                                                                                                                                                                                                                                                                                                                                                                                                                                                                                                                                                                                                                                                                                                                                                                                                                                                                                                                                                                                                                                                                                                                                                                                                                                                                                                                                                                                                                                                                                                                                                                                                                                                                                                                                                                                                                                                                                                                                                                                                                                                                                                                                                                                                                                                                                                                                                                                                                                                                                                                                                                                                       1479   \n",
       "value_ratios   {'Áo Thun Nam POLO Cổ Bẻ Ngắn Tay,ÁO Phông Nam Dáng Ôm Thời Trang Cam Cấp': 0.4, 'Áo Hoodies Có Nón Dài Tay Thời Trang Nam': 0.4, 'Giày Nam Thể Thao Thời Trang Nam bền đẹp giá rẻ': 0.2, 'Quần tây nam vải co giãn ống côn ĐẲNG CẤP thời trang nam': 0.2, 'Nhẫn Đính Đá Thời Trang Dành Cho Nam': 0.2, 'Áo Thun Nam  Cổ Bẻ Ngắn Tay,dáng ôm, thời trang cao cấp, chất cotton cực mát 4 màu trơn': 0.2, 'Áo Thun Polo Ngắn Tay Thời Trang Dành Cho Nam': 0.2, 'áo phông nam trơn body hàn quốc đẹp, Áo phông nam cổ bẻ thời trang VNXK chất đẹp Aru Shop': 0.2, 'Áo Sơ Mi Thời Trang Nam Cao Cấp BT1': 0.2, 'Nhẫn thời trang nam cao cấp Hỏa Long cao cấp': 0.2, 'Nhẫn nam trơn nhiều màu cao cấp thời trang không đen': 0.2, 'Áo Thun Polo Màu Trơn Chất Liệu Cotton Cao Cấp Thời Trang Dành Cho Nam': 0.1, '[Xả Hàng Lấy Vốn] Áo Thun Nam, Áo Phông Cổ Bẻ Ngắn Tay,dáng ôm, thời trang cao cấp, chất cotton cực mát 4 màu trơn': 0.1, '[FREESHIP 99K] Áo thời trang nam có cổ': 0.1, 'Nón lưỡi trai Kaki nam nữ MrCAPs freesize, full hộp, Nón Kết thêu Logo, Trắng, Đen': 0.1, 'Áo thun polo tay ngắn màu trơn thời trang nam': 0.1, 'Áo Thun Nam Ngắn Tay Có Cổ 🔵 𝐅𝐑𝐄𝐄 𝐒𝐇𝐈𝐏 🔵 Áo Phông Nam Đẹp Vải Thun Co Giãn Thời Trang Hpfashion - Atnhp012': 0.1, 'áo thun nam ngắn tay TC567 viền ngực 3 màu thời trang': 0.1, 'ÁO THUN NAM CỔ TRỤ TAY NGẮN THỜI TRANG RẺ VÀ ĐẸP': 0.1, 'Áo thun nam cổ bẻ Kojiba ngắn tay Thời Trang': 0.1, 'Áo có cổ thời trang nam, chất liệu vải thun dệt kim Mã A11': 0.1, 'Áo thun có cổ thời trang nam chất liệu vải thun cao cấp phom 40-75kg kynn': 0.1, 'Áo Thun Polo Nam Giordano 01010398 Tay Ngắn Thêu Hình Ếch Thời Trang': 0.1, 'Áo thun nam cổ bẻ tay ngắn đẹp thời trang giá rẻ Sọc Tay Chất Đẹp AT03': 0.1, 'Áo thun ba lỗ ôm dáng thời trang nam': 0.1, 'Áo Thun Nam Thời Trang Lịch Lãm ZERO': 0.1, 'Áo Phông Nam POLO Cổ Bẻ Ngắn Tay,ÁO Phông Nam Dáng Ôm Thời Trang Cam Cấp': 0.1, 'Áo Thun Nam Ngắn Tay Có Cổ 🔵 𝐅𝐑𝐄𝐄 𝐒𝐇𝐈𝐏 🔵 Áo Phông Nam Đẹp Vải Thun Co Giãn Thời Trang Hpfashion - Atnhp03': 0.1, 'Áo sơ mi nam thời trang nam áo hoa áo ngắn tay có cổ áo phông nam sơ mi nam ngắn tay áo phôn': 0.1, 'Mũ Lưỡi Trai hàn quốc Reclusive ❤️ Nón Lưỡi Trai Thời trang ❤️ Nón Kết nam nữ đẹp': 0.1, 'Giày sneaker thời trang nam cao cấp- MS3 1347': 0.1, 'Áo Thun Nam Có Cổ KITTY247-AT19 Chất Vải Thun Cá Sâu Thêu Năm 1985 Cực Chất - 4 Màu': 0.1, 'Áo thun nam tay ngắn logo B 3 màu thời trang': 0.1, 'Áo Thun Nam Có Cổ Ngắn Tay Cao Cấp 1985 Yourself RSP012 | Áo Phông Nam Đẹp Riooshop': 0.1, ''VIDEO + Ảnh' Áo thun nam ngắn tay cổ bẻ chuẩn from phối họa tiết thời trang chất cotton cao cấp': 0.1, '[SIÊU HOT] Áo thun nam tay ngắn có cổ thời trang hàn quốc cao cấp siêu đẹp': 0.1, 'Áo thun nam (HỖ TRỢ ĐỔI SIZE) polo cao cấp hình thuyền buồm độc đáo thời trang  - Liyor - ACB4012': 0.1, 'Áo Thun Tay Dài Cổ Lọ Thời Trang Cá Tính Cho Nam': 0.1, 'Áo Thun PoLo Nam,Áo phông, thun cộc tay,Áo Tay lỡ Cổ Bẻ Ngắn Tay,dáng ôm, thời trang cao cấp, chất cotton': 0.1, 'Áo thun nam vạt bầu tay ngắn dáng rộng thời trang': 0.1, 'Áo thun ngắn tay họa tiết đầu bóng rổ thời trang dành cho nam': 0.1, 'Áo thun nam ngắn tay in họa tiết thời trang': 0.1, 'Áo thun nam ngắn tay thời trang 36': 0.1, 'Áo Thun Polo Tay Ngắn Thời Trang Thanh Lịch Cho Nam': 0.1, 'Áo thun nam tay ngắn có cổ bẻ đẹp cao cấp thời trang AT01': 0.1, 'Áo Sơ Mi Nam Đỏ Đô dài tay Hàn Quốc form body, vải lụa Thái chống nhăn [Thời Trang Nam]': 0.1, 'Áo thun nam cổ trụ thời trang phong cách Hàn Quốc BONADO  - Trắng': 0.1, 'Áo thun nam cao cấp cổ bẻ thiết kế đơn giản thời trang nam Liyor - BDTATCS4004': 0.1, 'ÁO THUN NAM CỔ BẺ KIỂU THỜI TRANG': 0.1, 'Áo phông nam có cổ bẻ đẹp cao cấp thời trang 2020 Sọc Tay AT03': 0.1, 'Áo polo nam Galvin piqué Basic,áo thun nam có cổ tay lỡ công sở 7- Leo Vatino': 0.1, 'Áo thun nam tay ngắn cổ bẻ phối màu thời trang chuẩn from cao cấp thoáng mát': 0.1, 'ÁO THUN NAM CỔ BẺ SỌC HAI MÀU THỜI TRANG - KPS099': 0.1, 'Áo phông nam dáng slimfit, chuẩn thiết kế hàn quốc, cực tôn dáng, lịch sự, trẻ trung(ACBI)': 0.1, '[Có video] Áo thun unisex nam nữ đều mặc được tay lỡ form rộng - T shirt - Thời Trang Phương Ling - 250920201016': 0.1, '[LIMITED+FULLBOX] #AMMY - Giày Nam Versace Cao Cấp - #GIÀY thời trang Nam Sneaker-Đế Bệt 2cm-Khử Mùi Hôi-Mẫu Độc Quyền': 0.1, 'ÁO THUN NAM MÀU TRẮNG LOGAL MINI - THỜI TRANG PHƯƠNG LING': 0.1, ''VIDEO + ẢNH THẬT' Áo thun nam ngắn tay cổ bẻ chất cotton 4 chiều cao cấp thoáng mát phối hình thời trang': 0.1, 'Áo Thun Nam Ngắn Tay Có Cổ Basic Cực Đẹp RSP022 | Áo Polo Nam Riooshop': 0.1, 'Quần Kaki Nam dáng côn vải co giãn nhẹ đẳng cấp thời trang nam cao cấp': 0.1, 'Áo thun nam có cổ tay ngắn đẹp cao cấp thời trang cá sấu co dãn 4 chiều AT05': 0.1, 'Áo Polo Nam Thời Trang 💥 Áo Thun Nam Thêu Logo Cá Sấu Có Cổ Chất Liệu Cotton Co Dãn 4 Chiều': 0.1, 'Áo phông nam Áo cổ tròn nam phong cách trẻ trung form nhỏ thời trang trẻ': 0.1, 'Áo PoLo Nam thể thao thời trang cao cấp': 0.1, 'Dép Thái Siêu Nhẹ Xỏ Ngón Thời Trang Nam DT11': 0.1, 'Áo thun nam Cotton Sọc logo thêu Chữ A tay bo - Thời trang Havis - ASTD019': 0.1, 'Áo Thun Nam Tay Ngắn In Hình Thời Trang Trẻ Trung': 0.1, '[SIÊU HOT] Áo thun nam tay ngắn có cổ phong cách hàn quốc thời trang cao cấp siêu đẹp': 0.1, 'Áo Phông CỔ BẺ TRƠN Nam, Dáng Ôm, thời trang cao cấp, chất cotton cực mát 4 màu trơn': 0.1, 'áo thun nam ngắn tay TCB 4 màu thời trang': 0.1, 'Áo Thun Nam Ngắn Tay Có Cổ 🔵 𝐅𝐑𝐄𝐄 𝐒𝐇𝐈𝐏 🔵 Áo Phông Nam Đẹp Vải Thun Co Giãn Thời Trang Hpfashion - Atnhp011': 0.1, 'ÁO THUN NGẮN TAY NAM CỔ BẺ THÊU CHỮ THỜI TRANG [ảnh thật] - STD072': 0.1, 'Áo phông nam có cổ đẹp tay ngắn cao cấp thời trang': 0.1, '🔥[FREESHIP]🔥 Áo Polo Nam Zodiomen Vải CVC Kháng Khuẩn, Vải Mịn Không Xù Thoáng Mát (Nhiều màu)': 0.1, 'Áo hoodie không tay thể thao thời trang cho nam': 0.1, 'Áo Thun Nam Tay Ngắn LOGO FOREVER Nhiều Màu Cao Cấp Phong Cách Trẻ Trung Thời Trang TG': 0.1, 'Áo thun nam cổ họa tiết thổ cẩm thời trang cao cấp - TATCB4034': 0.1, 'Áo thun nam cổ tàu thời trang': 0.1, 'Áo phông nam cổ bẻ ngắn tay Ikemen cao cấp : Chất thun cá sấu cotton 100% co giãn 4 chiều cực mềm mịn mát(ACB)': 0.1, 'Áo Thun Tay Ngắn Dáng Rộng Thời Trang Dành Cho Nam Có Size M-3XL': 0.1, '[Có video, Giao nhanh 2h] Áo thun nam form rộng tay lỡ 65x46x23 (cm) - Thời Trang Phương Ling - ms 102': 0.1, '[Có video] Áo thun nam nữ hình đầu sư tử form rộng - Thời Trang Phương Ling - Bảo hành 7 ngày - 17062020632': 0.1, 'Áo Sơ Mi Nam trắng dài tay Hàn Quốc form body, vải lụa Thái chống nhăn [Thời Trang Nam]': 0.1, 'Áo thun nam cổ trụ thời trang phong cách Hàn Quốc BONADO  - Xám': 0.1, 'Áo thun nam có cổ Havis phối sọc ngang thời trang ASTD009': 0.1, '[ÁO LOẠI 1] Áo phông nam đẹp cao cấp thời trang có cổ bẻ 2020': 0.1, 'Áo Len Cổ Lọ Dài Tay Thời Trang Nam': 0.1, 'Vòng Tay Cao Su Màu Sắc Phát Quang Thời Trang Dành Cho Nam': 0.1, 'Áo PoLo Nam Cộc Tay Cổ Bẻ Thời Trang Hiệu Bông Lúa FRED PER.RY hàng xuất xịn vải gân mát': 0.1, 'Bộ gồm 5 áo thun trơn Nam - Nữ [MÀU NGẪU NHIÊN], chất liệu thun Cotton, thiết kế thời trang, mặc khi đi học, đi làm': 0.1, 'Áo thun nam ngắn tay có cổ logo nhiều màu thời trang': 0.1, 'Áo Thun Nam 🔵 𝐅𝐑𝐄𝐄 𝐒𝐇𝐈𝐏 🔵 Áo Phông Nam Đẹp Vải Thun Co Giãn Thấm Hút Mồ Hôi Thời Trang Hpfashion - Atnhp01': 0.1, 'Áo Thun Nam Ngắn Tay Cổ Tròn Thời Trang': 0.1, 'Áo thun nam tay ngắn cổ chữ V màu trơn thời trang Hàn Quốc': 0.1, 'Áo Phông Nam Cổ Bẻ, Thun Nam Cổ Trụ, Các Mẫu thời trang 2020 Siêu Hot, A001 ( video )': 0.1, 'Áo thun nam cổ trụ tròn thiết kế thắt nút nhiều màu cao cấp thời trang nam Liyor - TACB3001': 0.1, 'Áo Phông Nam Cổ Bẻ, Các Mẫu Cổ Bẻ BR thời trang 2020 siêu hot ( có video )': 0.1, '[VIDEO SP] Áo phông trơn tay lỡ unisex - áo thun tay lỡ nam nữ form rộng không cổ nhiều màu thời trang': 0.1, 'Áo Thun Polo Tay Ngắn Thời Trang Hè 2020 Cho Nam': 0.1, 'Áo nam vải thun thông hơi có cổ thời trang mã KA09 phom 40-75kg kynn shop': 0.1, ...}   \n",
       "\n",
       "                    flash_sale                                  show_official_shop_label_in_title  is_preferred_plus_seller                                is_adult  \n",
       "missing_ratio                0                                                                  0                         0                                       0  \n",
       "num_values                   1                                                                  5                         2                                       3  \n",
       "value_ratios   {'None': 100.0}  {False: 75.2, 'False': 17.3, True: 5.4, 'None': 1.2, 'True': 0.9}  {False: 91.3, True: 8.7}  {False: 90.1, 'False': 9.1, True: 0.8}  "
      ]
     },
     "execution_count": 1196,
     "metadata": {},
     "output_type": "execute_result"
    }
   ],
   "source": [
    "def missing_ratio(df):\n",
    "    return (df.isna().mean() * 100).round(1)\n",
    "def num_values(df):\n",
    "    return df.nunique()\n",
    "def value_ratios(c):\n",
    "    return dict((c.value_counts(normalize=True) * 100).round(1))\n",
    "df = train_X_df[cat_cols]\n",
    "cat_col_info_df = df.agg([missing_ratio, num_values, value_ratios])\n",
    "cat_col_info_df"
   ]
  },
  {
   "cell_type": "markdown",
   "metadata": {},
   "source": [
    "## V. Tiền xử lý cho tập huấn luyện"
   ]
  },
  {
   "cell_type": "markdown",
   "metadata": {},
   "source": [
    "### 1. Xử lý khác biệt ngữ nghĩa do parse data từ JSON\n",
    "\n",
    "Do dữ liệu trả về từ API của shopee, những dữ liệu thiếu có dạng string: 'None' nên pandas sẽ không đếm được lượng dữ liệu không có giá trị này. Ta tiến hành thay 'None' thành np.nan để có thể đếm lượng dữ liệu thiếu này chính xác."
   ]
  },
  {
   "cell_type": "markdown",
   "metadata": {},
   "source": [
    "### 2. Bỏ cột\n",
    "\n",
    "Ta sẽ tiến hành bỏ những cột sau:\n",
    "- `name`: do quá nhiều giá trị\n",
    "- `is_adult`: giá trị False chiếm 100%\n",
    "- `flash_sale`, `upcoming_flash_sale`, `coin_earn_label`: Thiếu 100% giá trị"
   ]
  },
  {
   "cell_type": "markdown",
   "metadata": {},
   "source": [
    "### 3. Sửa cột\n",
    "Ta tiến hành sửa những cột sau: \n",
    "- `shop_location`: ta thấy có khá nhiều giá trị khác nhau trong tập huấn luyện (46 giá trị), trong đó có các giá trị chỉ xuất hiện một hoặc một ít lần; nếu ta để nguyên thì khi chuyển sang dạng số bằng phương pháp one-hot sẽ có nhiều cột → dễ bị overfit. Ta sẽ xử lý vấn đề này như sau: chỉ lấy 3 location có giá trị xuất hiện nhiều nhất, các giá trị còn lại sẽ được thay thế bằng giá trị \"Others\". Ngoài ra, thuộc tính shop_location cũng có giá trị thiếu, lưu ý rằng các dữ liệu này vẫn hoạt động tốt trên Shopee nên ta dùng lệnh sau để xem những mẫu nào bị _thiếu_ và đối chiếu với trên shopee.\n",
    "\n",
    "Sau khi đối chiếu ta được kết quả sau: \n",
    "\n",
    "Mẫu không thiếu:\n",
    "\n",
    "![shop_location_not_missing_value](images/shop_location_not_missing_value.jpg)\n",
    "\n",
    "Mẫu thiếu:\n",
    "\n",
    "![shop_location_missing_value](images/shop_location_missing_value.jpg)\n",
    "\n",
    "Tức là những mẫu có thuộc tính shop_location thiếu sẽ không hiển thị vị trí shop ở góc dưới.\n",
    "\n",
    "Vậy ta sẽ xử lý bằng cách thay các giá trị thiếu này thành chuỗi \"None\".\n",
    "\n",
    "- `discount`: có thêm kí tự % đằng sau nên có kiểu chuỗi, vậy ta sẽ tách số ra đó và chuyển thành số. Ngoài ra, ta còn thấy `discount` có giá trị thiếu. Kiểm tra đối chiếu với các item trên Shopee, ta thấy thực tế những mẫu bị _thiếu_ dữ liệu ở thuộc tính discount là do không có giảm giá (discount = 0). Ta tiến hành sửa bằng cách thay giá trị nan tại cột này thành 0.\n",
    "\n",
    "- `shopee_verified`, `show_official_shop_label_in_title`, `is_preferred_plus_seller`, `show_free_shipping`: những cột kiểu bool như này thì ta chuyển hết về 0 và 1, riêng `show_official_shop_label_in_title` vừa có kiểu bool vừa có kiểu string nên ta xử lý đặc biệt hơn\n"
   ]
  },
  {
   "cell_type": "markdown",
   "metadata": {},
   "source": [
    "Class ColAdderDropper sẽ thực hiện các bước trên."
   ]
  },
  {
   "cell_type": "code",
   "execution_count": 1197,
   "metadata": {},
   "outputs": [],
   "source": [
    "class ColAdderDropper(BaseEstimator, TransformerMixin):\n",
    "    def __init__(self, num_top_location=3):\n",
    "        self.num_top_location = num_top_location\n",
    "    def fit(self, X_df, y=None):\n",
    "        location_col = X_df['shop_location']\n",
    "        self.location_counts_ = location_col.value_counts()\n",
    "        locations = list(self.location_counts_.index)\n",
    "        self.top_locations_ = locations[:max(1, min(self.num_top_location, len(locations)))]\n",
    "        return self\n",
    "    def transform(self, X_df, y=None):\n",
    "        # YOUR CODE HERE\n",
    "        tf_df = X_df.copy()\n",
    "        # Bước 1\n",
    "        tf_df = tf_df.replace('None', np.nan)\n",
    "        # Bước 2\n",
    "        tf_df = tf_df.drop(['name', 'is_adult', 'flash_sale', 'upcoming_flash_sale', 'coin_earn_label'], axis=1)\n",
    "        # Bước 3\n",
    "        tf_df['shop_location'] = tf_df['shop_location'].replace(np.nan, 'None')\n",
    "        locations = list(tf_df['shop_location'].value_counts().index)\n",
    "        top_locations = ['Hà Nội', 'Nước ngoài', 'TP. Hồ Chí Minh']\n",
    "        other_locations = list(set(locations) - set(top_locations))\n",
    "        tf_df['shop_location'] = tf_df['shop_location'].replace(other_locations, 'Others')\n",
    "        \n",
    "        tf_df['discount'] = tf_df['discount'].replace(np.nan, 0)\n",
    "        \n",
    "        def apply_discount(discount):\n",
    "            if type(discount) == int:\n",
    "                return discount\n",
    "            else:\n",
    "                result = re.findall(r'\\d+',discount)\n",
    "                return result[0]\n",
    "            pass\n",
    "\n",
    "        tf_df['discount'] = tf_df.apply(lambda row: apply_discount(row['discount']), axis=1)\n",
    "        \n",
    "        def convert_col_dtype(col):\n",
    "            if col.name in ['discount']:\n",
    "                return pd.to_numeric(col, errors='coerce')\n",
    "            return col\n",
    "\n",
    "        tf_df = tf_df.apply(convert_col_dtype)\n",
    "        \n",
    "\n",
    "        def apply_bool(FalseOrTrue):\n",
    "            if FalseOrTrue is np.nan:\n",
    "                return FalseOrTrue\n",
    "            if FalseOrTrue == 'False' or FalseOrTrue == False:\n",
    "                return 0\n",
    "            if FalseOrTrue == 'True' or FalseOrTrue == True:\n",
    "                return 1\n",
    "            else:\n",
    "                return FalseOrTrue\n",
    "            pass\n",
    "\n",
    "        tf_df['show_official_shop_label_in_title'] = tf_df.apply(lambda row: apply_bool(row['show_official_shop_label_in_title']), axis=1)\n",
    "        tf_df['is_preferred_plus_seller'] = tf_df.apply(lambda row: apply_bool(row['is_preferred_plus_seller']), axis=1)\n",
    "        tf_df['shopee_verified'] = tf_df.apply(lambda row: apply_bool(row['shopee_verified']), axis=1)\n",
    "        tf_df['show_free_shipping'] = tf_df.apply(lambda row: apply_bool(row['show_free_shipping']), axis=1)\n",
    "        return tf_df\n",
    "        #raise NotImplementedError()"
   ]
  },
  {
   "cell_type": "code",
   "execution_count": 1198,
   "metadata": {},
   "outputs": [
    {
     "data": {
      "text/html": [
       "<div>\n",
       "<style scoped>\n",
       "    .dataframe tbody tr th:only-of-type {\n",
       "        vertical-align: middle;\n",
       "    }\n",
       "\n",
       "    .dataframe tbody tr th {\n",
       "        vertical-align: top;\n",
       "    }\n",
       "\n",
       "    .dataframe thead th {\n",
       "        text-align: right;\n",
       "    }\n",
       "</style>\n",
       "<table border=\"1\" class=\"dataframe\">\n",
       "  <thead>\n",
       "    <tr style=\"text-align: right;\">\n",
       "      <th></th>\n",
       "      <th>category_id</th>\n",
       "      <th>shop_location</th>\n",
       "      <th>item_public_time</th>\n",
       "      <th>item_be_got_time</th>\n",
       "      <th>sell_time</th>\n",
       "      <th>shopee_verified</th>\n",
       "      <th>discount</th>\n",
       "      <th>options</th>\n",
       "      <th>show_official_shop_label_in_title</th>\n",
       "      <th>rating_star</th>\n",
       "      <th>five_star</th>\n",
       "      <th>four_star</th>\n",
       "      <th>three_star</th>\n",
       "      <th>two_star</th>\n",
       "      <th>one_star</th>\n",
       "      <th>price_min</th>\n",
       "      <th>price_min_before_discount</th>\n",
       "      <th>price_max</th>\n",
       "      <th>price_max_before_discount</th>\n",
       "      <th>price</th>\n",
       "      <th>price_before_discount</th>\n",
       "      <th>liked_count</th>\n",
       "      <th>view_count</th>\n",
       "      <th>cmt_count</th>\n",
       "      <th>is_preferred_plus_seller</th>\n",
       "      <th>show_free_shipping</th>\n",
       "      <th>images</th>\n",
       "      <th>video_info_list</th>\n",
       "    </tr>\n",
       "  </thead>\n",
       "  <tbody>\n",
       "    <tr>\n",
       "      <th>4982</th>\n",
       "      <td>1899</td>\n",
       "      <td>TP. Hồ Chí Minh</td>\n",
       "      <td>1.588045e+09</td>\n",
       "      <td>1.609992e+09</td>\n",
       "      <td>21946897.0</td>\n",
       "      <td>0</td>\n",
       "      <td>47</td>\n",
       "      <td>16.0</td>\n",
       "      <td>1.0</td>\n",
       "      <td>4.733333</td>\n",
       "      <td>13.0</td>\n",
       "      <td>1.0</td>\n",
       "      <td>0.0</td>\n",
       "      <td>1.0</td>\n",
       "      <td>0.0</td>\n",
       "      <td>6.900000e+09</td>\n",
       "      <td>1.300000e+10</td>\n",
       "      <td>6.900000e+09</td>\n",
       "      <td>1.300000e+10</td>\n",
       "      <td>6.900000e+09</td>\n",
       "      <td>1.300000e+10</td>\n",
       "      <td>1100.0</td>\n",
       "      <td>95.0</td>\n",
       "      <td>15.0</td>\n",
       "      <td>0</td>\n",
       "      <td>1</td>\n",
       "      <td>7.0</td>\n",
       "      <td>0.0</td>\n",
       "    </tr>\n",
       "    <tr>\n",
       "      <th>5977</th>\n",
       "      <td>2829</td>\n",
       "      <td>Others</td>\n",
       "      <td>1.609776e+09</td>\n",
       "      <td>1.610610e+09</td>\n",
       "      <td>834375.0</td>\n",
       "      <td>1</td>\n",
       "      <td>22</td>\n",
       "      <td>8.0</td>\n",
       "      <td>0.0</td>\n",
       "      <td>5.000000</td>\n",
       "      <td>11.0</td>\n",
       "      <td>0.0</td>\n",
       "      <td>0.0</td>\n",
       "      <td>0.0</td>\n",
       "      <td>0.0</td>\n",
       "      <td>6.990000e+10</td>\n",
       "      <td>9.000000e+10</td>\n",
       "      <td>6.990000e+10</td>\n",
       "      <td>9.000000e+10</td>\n",
       "      <td>6.990000e+10</td>\n",
       "      <td>9.000000e+10</td>\n",
       "      <td>15.0</td>\n",
       "      <td>1460.0</td>\n",
       "      <td>11.0</td>\n",
       "      <td>1</td>\n",
       "      <td>0</td>\n",
       "      <td>8.0</td>\n",
       "      <td>1.0</td>\n",
       "    </tr>\n",
       "    <tr>\n",
       "      <th>8815</th>\n",
       "      <td>15139</td>\n",
       "      <td>Nước ngoài</td>\n",
       "      <td>1.579997e+09</td>\n",
       "      <td>1.610639e+09</td>\n",
       "      <td>30641446.0</td>\n",
       "      <td>1</td>\n",
       "      <td>44</td>\n",
       "      <td>12.0</td>\n",
       "      <td>0.0</td>\n",
       "      <td>4.250000</td>\n",
       "      <td>5.0</td>\n",
       "      <td>2.0</td>\n",
       "      <td>0.0</td>\n",
       "      <td>0.0</td>\n",
       "      <td>1.0</td>\n",
       "      <td>7.000000e+09</td>\n",
       "      <td>1.250000e+10</td>\n",
       "      <td>7.000000e+09</td>\n",
       "      <td>1.250000e+10</td>\n",
       "      <td>7.000000e+09</td>\n",
       "      <td>1.250000e+10</td>\n",
       "      <td>25.0</td>\n",
       "      <td>4343.0</td>\n",
       "      <td>8.0</td>\n",
       "      <td>0</td>\n",
       "      <td>1</td>\n",
       "      <td>9.0</td>\n",
       "      <td>0.0</td>\n",
       "    </tr>\n",
       "    <tr>\n",
       "      <th>8171</th>\n",
       "      <td>8948</td>\n",
       "      <td>Hà Nội</td>\n",
       "      <td>1.584588e+09</td>\n",
       "      <td>1.610629e+09</td>\n",
       "      <td>26041341.0</td>\n",
       "      <td>1</td>\n",
       "      <td>40</td>\n",
       "      <td>10.0</td>\n",
       "      <td>0.0</td>\n",
       "      <td>4.739130</td>\n",
       "      <td>20.0</td>\n",
       "      <td>2.0</td>\n",
       "      <td>0.0</td>\n",
       "      <td>0.0</td>\n",
       "      <td>1.0</td>\n",
       "      <td>9.000000e+09</td>\n",
       "      <td>1.500000e+10</td>\n",
       "      <td>9.000000e+09</td>\n",
       "      <td>1.500000e+10</td>\n",
       "      <td>9.000000e+09</td>\n",
       "      <td>1.500000e+10</td>\n",
       "      <td>13.0</td>\n",
       "      <td>131.0</td>\n",
       "      <td>23.0</td>\n",
       "      <td>0</td>\n",
       "      <td>1</td>\n",
       "      <td>9.0</td>\n",
       "      <td>0.0</td>\n",
       "    </tr>\n",
       "    <tr>\n",
       "      <th>4978</th>\n",
       "      <td>1899</td>\n",
       "      <td>Hà Nội</td>\n",
       "      <td>1.603188e+09</td>\n",
       "      <td>1.609992e+09</td>\n",
       "      <td>6803743.0</td>\n",
       "      <td>1</td>\n",
       "      <td>46</td>\n",
       "      <td>12.0</td>\n",
       "      <td>0.0</td>\n",
       "      <td>4.444444</td>\n",
       "      <td>7.0</td>\n",
       "      <td>1.0</td>\n",
       "      <td>0.0</td>\n",
       "      <td>0.0</td>\n",
       "      <td>1.0</td>\n",
       "      <td>7.600000e+09</td>\n",
       "      <td>1.400000e+10</td>\n",
       "      <td>7.600000e+09</td>\n",
       "      <td>1.400000e+10</td>\n",
       "      <td>7.600000e+09</td>\n",
       "      <td>1.400000e+10</td>\n",
       "      <td>21.0</td>\n",
       "      <td>1100.0</td>\n",
       "      <td>9.0</td>\n",
       "      <td>0</td>\n",
       "      <td>0</td>\n",
       "      <td>7.0</td>\n",
       "      <td>0.0</td>\n",
       "    </tr>\n",
       "    <tr>\n",
       "      <th>...</th>\n",
       "      <td>...</td>\n",
       "      <td>...</td>\n",
       "      <td>...</td>\n",
       "      <td>...</td>\n",
       "      <td>...</td>\n",
       "      <td>...</td>\n",
       "      <td>...</td>\n",
       "      <td>...</td>\n",
       "      <td>...</td>\n",
       "      <td>...</td>\n",
       "      <td>...</td>\n",
       "      <td>...</td>\n",
       "      <td>...</td>\n",
       "      <td>...</td>\n",
       "      <td>...</td>\n",
       "      <td>...</td>\n",
       "      <td>...</td>\n",
       "      <td>...</td>\n",
       "      <td>...</td>\n",
       "      <td>...</td>\n",
       "      <td>...</td>\n",
       "      <td>...</td>\n",
       "      <td>...</td>\n",
       "      <td>...</td>\n",
       "      <td>...</td>\n",
       "      <td>...</td>\n",
       "      <td>...</td>\n",
       "      <td>...</td>\n",
       "    </tr>\n",
       "    <tr>\n",
       "      <th>3088</th>\n",
       "      <td>2429</td>\n",
       "      <td>Nước ngoài</td>\n",
       "      <td>1.598756e+09</td>\n",
       "      <td>1.609917e+09</td>\n",
       "      <td>11161744.0</td>\n",
       "      <td>0</td>\n",
       "      <td>0</td>\n",
       "      <td>18.0</td>\n",
       "      <td>0.0</td>\n",
       "      <td>5.000000</td>\n",
       "      <td>1.0</td>\n",
       "      <td>0.0</td>\n",
       "      <td>0.0</td>\n",
       "      <td>0.0</td>\n",
       "      <td>0.0</td>\n",
       "      <td>2.126000e+10</td>\n",
       "      <td>-1.000000e+00</td>\n",
       "      <td>2.126000e+10</td>\n",
       "      <td>-1.000000e+00</td>\n",
       "      <td>2.126000e+10</td>\n",
       "      <td>0.000000e+00</td>\n",
       "      <td>0.0</td>\n",
       "      <td>59.0</td>\n",
       "      <td>1.0</td>\n",
       "      <td>0</td>\n",
       "      <td>0</td>\n",
       "      <td>9.0</td>\n",
       "      <td>0.0</td>\n",
       "    </tr>\n",
       "    <tr>\n",
       "      <th>1249</th>\n",
       "      <td>8947</td>\n",
       "      <td>TP. Hồ Chí Minh</td>\n",
       "      <td>1.563612e+09</td>\n",
       "      <td>1.609949e+09</td>\n",
       "      <td>46337373.0</td>\n",
       "      <td>1</td>\n",
       "      <td>44</td>\n",
       "      <td>4.0</td>\n",
       "      <td>0.0</td>\n",
       "      <td>4.901099</td>\n",
       "      <td>85.0</td>\n",
       "      <td>3.0</td>\n",
       "      <td>3.0</td>\n",
       "      <td>0.0</td>\n",
       "      <td>0.0</td>\n",
       "      <td>1.750000e+10</td>\n",
       "      <td>3.100000e+10</td>\n",
       "      <td>1.750000e+10</td>\n",
       "      <td>3.100000e+10</td>\n",
       "      <td>1.750000e+10</td>\n",
       "      <td>3.100000e+10</td>\n",
       "      <td>72.0</td>\n",
       "      <td>1238.0</td>\n",
       "      <td>91.0</td>\n",
       "      <td>0</td>\n",
       "      <td>1</td>\n",
       "      <td>2.0</td>\n",
       "      <td>0.0</td>\n",
       "    </tr>\n",
       "    <tr>\n",
       "      <th>4833</th>\n",
       "      <td>1899</td>\n",
       "      <td>Hà Nội</td>\n",
       "      <td>1.578057e+09</td>\n",
       "      <td>1.609992e+09</td>\n",
       "      <td>31935099.0</td>\n",
       "      <td>1</td>\n",
       "      <td>47</td>\n",
       "      <td>20.0</td>\n",
       "      <td>0.0</td>\n",
       "      <td>4.852941</td>\n",
       "      <td>625.0</td>\n",
       "      <td>31.0</td>\n",
       "      <td>10.0</td>\n",
       "      <td>7.0</td>\n",
       "      <td>7.0</td>\n",
       "      <td>6.900000e+09</td>\n",
       "      <td>1.290000e+10</td>\n",
       "      <td>6.900000e+09</td>\n",
       "      <td>1.290000e+10</td>\n",
       "      <td>6.900000e+09</td>\n",
       "      <td>1.290000e+10</td>\n",
       "      <td>159.0</td>\n",
       "      <td>644.0</td>\n",
       "      <td>680.0</td>\n",
       "      <td>1</td>\n",
       "      <td>1</td>\n",
       "      <td>9.0</td>\n",
       "      <td>0.0</td>\n",
       "    </tr>\n",
       "    <tr>\n",
       "      <th>1064</th>\n",
       "      <td>8947</td>\n",
       "      <td>TP. Hồ Chí Minh</td>\n",
       "      <td>1.602859e+09</td>\n",
       "      <td>1.609949e+09</td>\n",
       "      <td>7090452.0</td>\n",
       "      <td>0</td>\n",
       "      <td>13</td>\n",
       "      <td>4.0</td>\n",
       "      <td>0.0</td>\n",
       "      <td>5.000000</td>\n",
       "      <td>5.0</td>\n",
       "      <td>0.0</td>\n",
       "      <td>0.0</td>\n",
       "      <td>0.0</td>\n",
       "      <td>0.0</td>\n",
       "      <td>2.790000e+10</td>\n",
       "      <td>3.190000e+10</td>\n",
       "      <td>2.790000e+10</td>\n",
       "      <td>3.190000e+10</td>\n",
       "      <td>2.790000e+10</td>\n",
       "      <td>3.190000e+10</td>\n",
       "      <td>65.0</td>\n",
       "      <td>71.0</td>\n",
       "      <td>5.0</td>\n",
       "      <td>0</td>\n",
       "      <td>0</td>\n",
       "      <td>5.0</td>\n",
       "      <td>0.0</td>\n",
       "    </tr>\n",
       "    <tr>\n",
       "      <th>3790</th>\n",
       "      <td>2429</td>\n",
       "      <td>Hà Nội</td>\n",
       "      <td>1.531996e+09</td>\n",
       "      <td>1.609917e+09</td>\n",
       "      <td>77921090.0</td>\n",
       "      <td>1</td>\n",
       "      <td>49</td>\n",
       "      <td>8.0</td>\n",
       "      <td>0.0</td>\n",
       "      <td>5.000000</td>\n",
       "      <td>7.0</td>\n",
       "      <td>0.0</td>\n",
       "      <td>0.0</td>\n",
       "      <td>0.0</td>\n",
       "      <td>0.0</td>\n",
       "      <td>9.996000e+09</td>\n",
       "      <td>1.960000e+10</td>\n",
       "      <td>9.996000e+09</td>\n",
       "      <td>1.960000e+10</td>\n",
       "      <td>9.996000e+09</td>\n",
       "      <td>1.960000e+10</td>\n",
       "      <td>3.0</td>\n",
       "      <td>5.0</td>\n",
       "      <td>7.0</td>\n",
       "      <td>0</td>\n",
       "      <td>1</td>\n",
       "      <td>9.0</td>\n",
       "      <td>0.0</td>\n",
       "    </tr>\n",
       "  </tbody>\n",
       "</table>\n",
       "<p>1660 rows × 28 columns</p>\n",
       "</div>"
      ],
      "text/plain": [
       "      category_id    shop_location  item_public_time  item_be_got_time   sell_time  shopee_verified  discount  options  show_official_shop_label_in_title  rating_star  five_star  four_star  three_star  two_star  one_star     price_min  price_min_before_discount     price_max  price_max_before_discount         price  price_before_discount  liked_count  view_count  cmt_count  is_preferred_plus_seller  show_free_shipping  images  video_info_list\n",
       "4982         1899  TP. Hồ Chí Minh      1.588045e+09      1.609992e+09  21946897.0                0        47     16.0                                1.0     4.733333       13.0        1.0         0.0       1.0       0.0  6.900000e+09               1.300000e+10  6.900000e+09               1.300000e+10  6.900000e+09           1.300000e+10       1100.0        95.0       15.0                         0                   1     7.0              0.0\n",
       "5977         2829           Others      1.609776e+09      1.610610e+09    834375.0                1        22      8.0                                0.0     5.000000       11.0        0.0         0.0       0.0       0.0  6.990000e+10               9.000000e+10  6.990000e+10               9.000000e+10  6.990000e+10           9.000000e+10         15.0      1460.0       11.0                         1                   0     8.0              1.0\n",
       "8815        15139       Nước ngoài      1.579997e+09      1.610639e+09  30641446.0                1        44     12.0                                0.0     4.250000        5.0        2.0         0.0       0.0       1.0  7.000000e+09               1.250000e+10  7.000000e+09               1.250000e+10  7.000000e+09           1.250000e+10         25.0      4343.0        8.0                         0                   1     9.0              0.0\n",
       "8171         8948           Hà Nội      1.584588e+09      1.610629e+09  26041341.0                1        40     10.0                                0.0     4.739130       20.0        2.0         0.0       0.0       1.0  9.000000e+09               1.500000e+10  9.000000e+09               1.500000e+10  9.000000e+09           1.500000e+10         13.0       131.0       23.0                         0                   1     9.0              0.0\n",
       "4978         1899           Hà Nội      1.603188e+09      1.609992e+09   6803743.0                1        46     12.0                                0.0     4.444444        7.0        1.0         0.0       0.0       1.0  7.600000e+09               1.400000e+10  7.600000e+09               1.400000e+10  7.600000e+09           1.400000e+10         21.0      1100.0        9.0                         0                   0     7.0              0.0\n",
       "...           ...              ...               ...               ...         ...              ...       ...      ...                                ...          ...        ...        ...         ...       ...       ...           ...                        ...           ...                        ...           ...                    ...          ...         ...        ...                       ...                 ...     ...              ...\n",
       "3088         2429       Nước ngoài      1.598756e+09      1.609917e+09  11161744.0                0         0     18.0                                0.0     5.000000        1.0        0.0         0.0       0.0       0.0  2.126000e+10              -1.000000e+00  2.126000e+10              -1.000000e+00  2.126000e+10           0.000000e+00          0.0        59.0        1.0                         0                   0     9.0              0.0\n",
       "1249         8947  TP. Hồ Chí Minh      1.563612e+09      1.609949e+09  46337373.0                1        44      4.0                                0.0     4.901099       85.0        3.0         3.0       0.0       0.0  1.750000e+10               3.100000e+10  1.750000e+10               3.100000e+10  1.750000e+10           3.100000e+10         72.0      1238.0       91.0                         0                   1     2.0              0.0\n",
       "4833         1899           Hà Nội      1.578057e+09      1.609992e+09  31935099.0                1        47     20.0                                0.0     4.852941      625.0       31.0        10.0       7.0       7.0  6.900000e+09               1.290000e+10  6.900000e+09               1.290000e+10  6.900000e+09           1.290000e+10        159.0       644.0      680.0                         1                   1     9.0              0.0\n",
       "1064         8947  TP. Hồ Chí Minh      1.602859e+09      1.609949e+09   7090452.0                0        13      4.0                                0.0     5.000000        5.0        0.0         0.0       0.0       0.0  2.790000e+10               3.190000e+10  2.790000e+10               3.190000e+10  2.790000e+10           3.190000e+10         65.0        71.0        5.0                         0                   0     5.0              0.0\n",
       "3790         2429           Hà Nội      1.531996e+09      1.609917e+09  77921090.0                1        49      8.0                                0.0     5.000000        7.0        0.0         0.0       0.0       0.0  9.996000e+09               1.960000e+10  9.996000e+09               1.960000e+10  9.996000e+09           1.960000e+10          3.0         5.0        7.0                         0                   1     9.0              0.0\n",
       "\n",
       "[1660 rows x 28 columns]"
      ]
     },
     "execution_count": 1198,
     "metadata": {},
     "output_type": "execute_result"
    }
   ],
   "source": [
    "# Test\n",
    "col_adderdropper = ColAdderDropper()\n",
    "fewer_cols_train_X_df = col_adderdropper.fit_transform(train_X_df)\n",
    "fewer_cols_train_X_df"
   ]
  },
  {
   "cell_type": "code",
   "execution_count": 1199,
   "metadata": {},
   "outputs": [
    {
     "data": {
      "text/html": [
       "<div>\n",
       "<style scoped>\n",
       "    .dataframe tbody tr th:only-of-type {\n",
       "        vertical-align: middle;\n",
       "    }\n",
       "\n",
       "    .dataframe tbody tr th {\n",
       "        vertical-align: top;\n",
       "    }\n",
       "\n",
       "    .dataframe thead th {\n",
       "        text-align: right;\n",
       "    }\n",
       "</style>\n",
       "<table border=\"1\" class=\"dataframe\">\n",
       "  <thead>\n",
       "    <tr style=\"text-align: right;\">\n",
       "      <th></th>\n",
       "      <th>show_free_shipping</th>\n",
       "      <th>shopee_verified</th>\n",
       "      <th>shop_location</th>\n",
       "      <th>category_id</th>\n",
       "      <th>show_official_shop_label_in_title</th>\n",
       "      <th>is_preferred_plus_seller</th>\n",
       "    </tr>\n",
       "  </thead>\n",
       "  <tbody>\n",
       "    <tr>\n",
       "      <th>missing_ratio</th>\n",
       "      <td>0</td>\n",
       "      <td>0</td>\n",
       "      <td>0</td>\n",
       "      <td>0</td>\n",
       "      <td>1.2</td>\n",
       "      <td>0</td>\n",
       "    </tr>\n",
       "    <tr>\n",
       "      <th>num_values</th>\n",
       "      <td>2</td>\n",
       "      <td>2</td>\n",
       "      <td>4</td>\n",
       "      <td>9</td>\n",
       "      <td>2</td>\n",
       "      <td>2</td>\n",
       "    </tr>\n",
       "    <tr>\n",
       "      <th>value_ratios</th>\n",
       "      <td>{1: 51.3, 0: 48.7}</td>\n",
       "      <td>{1: 51.1, 0: 48.9}</td>\n",
       "      <td>{'Hà Nội': 42.9, 'TP. Hồ Chí Minh': 29.0, 'Nước ngoài': 19.7, 'Others': 8.4}</td>\n",
       "      <td>{15139: 25.4, 8948: 14.8, 8947: 14.1, 2429: 12.4, 1899: 10.3, 2831: 9.1, 9572: 7.5, 2829: 4.2, 8945: 2.2}</td>\n",
       "      <td>{0.0: 93.7, 1.0: 6.3}</td>\n",
       "      <td>{0: 91.3, 1: 8.7}</td>\n",
       "    </tr>\n",
       "  </tbody>\n",
       "</table>\n",
       "</div>"
      ],
      "text/plain": [
       "               show_free_shipping     shopee_verified                                                                 shop_location                                                                                                category_id show_official_shop_label_in_title is_preferred_plus_seller\n",
       "missing_ratio                   0                   0                                                                             0                                                                                                          0                               1.2                        0\n",
       "num_values                      2                   2                                                                             4                                                                                                          9                                 2                        2\n",
       "value_ratios   {1: 51.3, 0: 48.7}  {1: 51.1, 0: 48.9}  {'Hà Nội': 42.9, 'TP. Hồ Chí Minh': 29.0, 'Nước ngoài': 19.7, 'Others': 8.4}  {15139: 25.4, 8948: 14.8, 8947: 14.1, 2429: 12.4, 1899: 10.3, 2831: 9.1, 9572: 7.5, 2829: 4.2, 8945: 2.2}             {0.0: 93.7, 1.0: 6.3}        {0: 91.3, 1: 8.7}"
      ]
     },
     "execution_count": 1199,
     "metadata": {},
     "output_type": "execute_result"
    }
   ],
   "source": [
    "# Kiểm tra các giá trị không phải số đã được xử lý đúng chưa\n",
    "cat_cols = list(set(fewer_cols_train_X_df.columns) - set(num_cols))\n",
    "df = fewer_cols_train_X_df[cat_cols]\n",
    "cat_col_info_df = df.agg([missing_ratio, num_values, value_ratios])\n",
    "cat_col_info_df"
   ]
  },
  {
   "cell_type": "markdown",
   "metadata": {},
   "source": [
    "### 4. Xử lý giá trị thiếu\n",
    "- Với các cột dạng số, ta sẽ điền giá trị thiếu bằng giá trị mean của cột <font color=gray>(gợi ý: dùng `SimpleImputer` trong Sklearn)</font>. Với *tất cả* các cột dạng số trong tập huấn luyện, ta đều cần tính mean, vì ta không biết được cột nào sẽ bị thiếu giá trị khi dự đoán với các véc-tơ input mới. \n",
    "- Với các cột không phải dạng số và không có thứ tự:\n",
    "    - Ta sẽ điền giá trị thiếu bằng giá trị mode (giá trị xuất hiện nhiều nhất) của cột <font color=gray>(gợi ý: dùng `SimpleImputer` trong Sklearn)</font>. Với *tất cả* các cột không có dạng số và không có thứ tự, ta đều cần tính mode, vì ta không biết được cột nào sẽ bị thiếu giá trị khi dự đoán với các véc-tơ input mới.\n",
    "    - Sau đó, ta sẽ chuyển sang dạng số bằng phương pháp mã hóa one-hot <font color=gray>(gợi ý: dùng `OneHotEncoder` trong Sklearn, để ý tham số `handle_unknown` vì khi dự đoán với các véc-tơ input mới ...)</font>.\n",
    "- Với cột không phải dạng số và có thứ tự:\n",
    "    - Ta sẽ điền giá trị thiếu bằng giá trị mode (giá trị xuất hiện nhiều nhất) của cột.\n",
    "    - Các giá trị của cột này đều là kiểu boolean và ta đã chuyển sang dạng 0, 1 trước đó nên không cần phải mã hóa nữa"
   ]
  },
  {
   "cell_type": "code",
   "execution_count": 1200,
   "metadata": {
    "Collapsed": "false",
    "nbgrader": {
     "cell_type": "code",
     "checksum": "e7a1d4ae5e4fa50b60b4998de6be96a1",
     "grade": false,
     "grade_id": "cell-ae75d7dfa7256c7f",
     "locked": false,
     "schema_version": 3,
     "solution": true
    }
   },
   "outputs": [],
   "source": [
    "nume_cols = ['item_public_time','item_be_got_time', 'sell_time', 'discount', \n",
    "            'options', 'rating_star' ,'five_star', 'four_star', 'three_star', \n",
    "            'two_star' ,'one_star' ,'price_min_before_discount', 'price_max', 'price_min', \n",
    "            'price_max_before_discount', 'price', 'price_before_discount', \n",
    "            'liked_count', 'view_count', 'cmt_count','images', 'video_info_list']\n",
    "unorder_cate_cols = ['category_id', 'shop_location']\n",
    "order_cate_cols = ['is_preferred_plus_seller', 'shopee_verified', 'show_free_shipping', 'show_official_shop_label_in_title']\n",
    "# YOUR CODE HERE\n",
    "imp_mean = SimpleImputer(missing_values=np.nan, strategy='mean')\n",
    "imp_mode = SimpleImputer(missing_values=np.nan, strategy='most_frequent')\n",
    "enc = OneHotEncoder(handle_unknown='ignore')\n",
    "unorder_cate_pipeline = make_pipeline(imp_mode, enc)\n",
    "column_transformer = ColumnTransformer(transformers = [('numerical', imp_mean, nume_cols),\n",
    "                                                      ('unorder_categorical', unorder_cate_pipeline, unorder_cate_cols),\n",
    "                                                      ('order_categorical', imp_mode, order_cate_cols)], remainder='passthrough')"
   ]
  },
  {
   "cell_type": "markdown",
   "metadata": {},
   "source": [
    "### 5. Chuẩn hóa\n",
    "Cuối cùng, khi tất cả các cột đã được điền giá trị thiếu và đã có dạng số, ta sẽ tiến hành chuẩn hóa bằng cách trừ đi mean và chia cho độ lệch chuẩn của cột để giúp cho các thuật toán cực tiểu hóa như Gradient Descent, LBFGS, ... hội tụ nhanh hơn "
   ]
  },
  {
   "cell_type": "markdown",
   "metadata": {},
   "source": [
    "### 6. Tạo pipeline"
   ]
  },
  {
   "cell_type": "markdown",
   "metadata": {},
   "source": [
    "Khi đã có những bước tiền xử lý cụ thể, ta sẽ tạo pipeline chứa chúng để cho quá trình tiền xử lý và mô hình hóa được dễ dàng hơn"
   ]
  },
  {
   "cell_type": "code",
   "execution_count": 1201,
   "metadata": {},
   "outputs": [],
   "source": [
    "preprocess_pipeline = make_pipeline(ColAdderDropper(), column_transformer,  StandardScaler())"
   ]
  },
  {
   "cell_type": "code",
   "execution_count": 1202,
   "metadata": {},
   "outputs": [],
   "source": [
    "preprocessed_train_X = preprocess_pipeline.fit_transform(train_X_df)\n",
    "preprocessed_val_X = preprocess_pipeline.transform(val_X_df)"
   ]
  },
  {
   "cell_type": "code",
   "execution_count": 1203,
   "metadata": {},
   "outputs": [
    {
     "data": {
      "text/plain": [
       "(1660, 39)"
      ]
     },
     "execution_count": 1203,
     "metadata": {},
     "output_type": "execute_result"
    }
   ],
   "source": [
    "preprocessed_train_X.shape"
   ]
  },
  {
   "cell_type": "code",
   "execution_count": 1204,
   "metadata": {},
   "outputs": [
    {
     "data": {
      "text/plain": [
       "(415, 39)"
      ]
     },
     "execution_count": 1204,
     "metadata": {},
     "output_type": "execute_result"
    }
   ],
   "source": [
    "preprocessed_val_X.shape"
   ]
  },
  {
   "cell_type": "markdown",
   "metadata": {},
   "source": [
    "## VI. Mô hình hóa dữ liệu"
   ]
  },
  {
   "cell_type": "markdown",
   "metadata": {},
   "source": [
    "### 1. Tìm mô hình tốt nhất\n",
    "\n",
    "Do output là kiểu số thực liên tục nên ta sẽ sử dụng mô hình hồi quy để dự đoán các input mới, ta sẽ sử dụng các model đã được học sau:\n",
    "\n",
    "- Hồi quy tuyến tính\n",
    "- Mạng neural nhân tạo\n"
   ]
  },
  {
   "cell_type": "markdown",
   "metadata": {},
   "source": [
    "Đầu tiên, đối với các mô hình hồi quy này thì ta sử dụng độ đo $R^2$ để đánh giá độ lỗi vì độ đo MSE không cho ta biết được cụ thể chất lượng của mô hình \n",
    "\n",
    "$R^2$ bình phương cho biết độ phù hợp của mô hình, người ta nghiên cứu được rằng, với $R^2$ bình phương > 0.5 thì một mô hình được đánh giá là phù hợp."
   ]
  },
  {
   "cell_type": "markdown",
   "metadata": {},
   "source": [
    "#### Huấn luyện mô hình hồi quy tuyến tính "
   ]
  },
  {
   "cell_type": "code",
   "execution_count": 1205,
   "metadata": {},
   "outputs": [
    {
     "data": {
      "text/plain": [
       "0.011586177754797644"
      ]
     },
     "execution_count": 1205,
     "metadata": {},
     "output_type": "execute_result"
    }
   ],
   "source": [
    "full_pipeline = make_pipeline(ColAdderDropper(), column_transformer, StandardScaler(), LinearRegression())\n",
    "full_pipeline.fit(train_X_df, train_y_sr)\n",
    "full_pipeline.score(val_X_df, val_y_sr)"
   ]
  },
  {
   "cell_type": "code",
   "execution_count": 743,
   "metadata": {},
   "outputs": [
    {
     "data": {
      "text/plain": [
       "0.7941676075432698"
      ]
     },
     "execution_count": 743,
     "metadata": {},
     "output_type": "execute_result"
    }
   ],
   "source": [
    "full_pipeline.score(train_X_df, train_y_sr)"
   ]
  },
  {
   "cell_type": "markdown",
   "metadata": {},
   "source": [
    "Ta thấy $R^2$ khá thấp, có lẽ dữ liệu không có nhiều sự tương quan tuyến tính"
   ]
  },
  {
   "cell_type": "code",
   "execution_count": 1206,
   "metadata": {},
   "outputs": [],
   "source": [
    "from sklearn.ensemble import RandomForestRegressor"
   ]
  },
  {
   "cell_type": "code",
   "execution_count": 1207,
   "metadata": {},
   "outputs": [
    {
     "data": {
      "text/plain": [
       "0.6756494550591896"
      ]
     },
     "execution_count": 1207,
     "metadata": {},
     "output_type": "execute_result"
    }
   ],
   "source": [
    "regr = RandomForestRegressor(max_depth=2, random_state=0)\n",
    "full_pipeline = make_pipeline(ColAdderDropper(), column_transformer, StandardScaler(), regr)\n",
    "full_pipeline.fit(train_X_df, train_y_sr)\n",
    "full_pipeline.score(val_X_df, val_y_sr)"
   ]
  },
  {
   "cell_type": "code",
   "execution_count": 1208,
   "metadata": {},
   "outputs": [
    {
     "data": {
      "text/plain": [
       "0.6967489942660727"
      ]
     },
     "execution_count": 1208,
     "metadata": {},
     "output_type": "execute_result"
    }
   ],
   "source": [
    "full_pipeline.score(train_X_df, train_y_sr)"
   ]
  },
  {
   "cell_type": "markdown",
   "metadata": {},
   "source": [
    "#### Huấn luyện mô hình mạng neural nhân tạo\n",
    "\n",
    "Ta sẽ thử 5 x 5 = 25 mô hình với các tham số khác nhau (fit khá lâu do khó hội tụ). \n",
    "\n",
    "Các tham số thay đổi:\n",
    "- `alpha`: 0.001, 0.1, 1, 10, 100\n",
    "- `hidden_layer_sizes`: 10, 20, 30, 40, 50\n",
    "\n",
    "Các tham số được cố định:\n",
    "- `activation`: `relu`\n",
    "- `solver`: `adam`: Do dữ liệu rất nhiều và không có hệ thống nên sử dụng thuật toán adam rất hiệu quả (theo scikit-learn)\n",
    "- `max_iter`: 10000: Để cho thuật toán được hội tụ, nếu set quá thấp sẽ không đủ lần lặp để hội tụ"
   ]
  },
  {
   "cell_type": "code",
   "execution_count": 1209,
   "metadata": {},
   "outputs": [
    {
     "name": "stdout",
     "output_type": "stream",
     "text": [
      "27.147657871246338\n"
     ]
    }
   ],
   "source": [
    "mlp = MLPRegressor(hidden_layer_sizes=(40), activation='relu', solver='adam', random_state=0, max_iter=20000)\n",
    "sgd = SGDRegressor(penalty='l1', random_state=0)\n",
    "full_pipeline = make_pipeline(ColAdderDropper(), column_transformer, StandardScaler(), mlp)\n",
    "alphas = [0.001]\n",
    "train_rr = []\n",
    "val_rr = []\n",
    "best_val_rr = -float('inf'); best_alpha = None;\n",
    "for alpha in alphas:\n",
    "    full_pipeline.set_params(mlpregressor__alpha=alpha)\n",
    "    t0 = time.time()\n",
    "    full_pipeline.fit(train_X_df, train_y_sr)\n",
    "    t1 = time.time()\n",
    "    print(t1 - t0)\n",
    "    train_rr.append(full_pipeline.score(train_X_df, train_y_sr))\n",
    "    val_rr.append(full_pipeline.score(val_X_df, val_y_sr))\n",
    "    if val_rr[-1] > best_val_rr:\n",
    "        best_val_rr, best_alpha = val_rr[-1], alpha"
   ]
  },
  {
   "cell_type": "code",
   "execution_count": 1210,
   "metadata": {},
   "outputs": [
    {
     "data": {
      "text/plain": [
       "[0.5925331740512458]"
      ]
     },
     "execution_count": 1210,
     "metadata": {},
     "output_type": "execute_result"
    }
   ],
   "source": [
    "val_rr"
   ]
  },
  {
   "cell_type": "code",
   "execution_count": 635,
   "metadata": {},
   "outputs": [
    {
     "data": {
      "text/plain": [
       "-0.027444920906710246"
      ]
     },
     "execution_count": 635,
     "metadata": {},
     "output_type": "execute_result"
    }
   ],
   "source": [
    "best_val_rr"
   ]
  },
  {
   "cell_type": "code",
   "execution_count": 636,
   "metadata": {},
   "outputs": [
    {
     "data": {
      "text/plain": [
       "0.001"
      ]
     },
     "execution_count": 636,
     "metadata": {},
     "output_type": "execute_result"
    }
   ],
   "source": [
    "best_alpha"
   ]
  },
  {
   "cell_type": "markdown",
   "metadata": {},
   "source": [
    "Như vậy $R^2$ > 0.5, mô hình này có thể phù hợp để dự đoán các dữ liệu mới.\n"
   ]
  },
  {
   "cell_type": "markdown",
   "metadata": {},
   "source": [
    "Cuối cùng, ta sẽ huấn luyện lại `full_pipeline` trên `rest_X_df` và `rest_y_sr` (tập huấn luyện + tập validation) với `best_alpha` và `best_layer` tìm được ở trên để ra được mô hình cụ thể cuối cùng."
   ]
  },
  {
   "cell_type": "code",
   "execution_count": 637,
   "metadata": {},
   "outputs": [
    {
     "ename": "NameError",
     "evalue": "name 'best_layer' is not defined",
     "output_type": "error",
     "traceback": [
      "\u001b[0;31m---------------------------------------------------------------------------\u001b[0m",
      "\u001b[0;31mNameError\u001b[0m                                 Traceback (most recent call last)",
      "\u001b[0;32m<ipython-input-637-bd99bf45cc49>\u001b[0m in \u001b[0;36m<module>\u001b[0;34m\u001b[0m\n\u001b[0;32m----> 1\u001b[0;31m full_pipeline = make_pipeline(ColAdderDropper(), column_transformer, StandardScaler(), MLPRegressor(alpha=best_alpha, hidden_layer_sizes=best_layer,\n\u001b[0m\u001b[1;32m      2\u001b[0m                                                                activation='relu', solver='adam', random_state=0, max_iter=10000))\n\u001b[1;32m      3\u001b[0m \u001b[0mfull_pipeline\u001b[0m\u001b[0;34m.\u001b[0m\u001b[0mfit\u001b[0m\u001b[0;34m(\u001b[0m\u001b[0mrest_X_df\u001b[0m\u001b[0;34m,\u001b[0m \u001b[0mrest_y_sr\u001b[0m\u001b[0;34m)\u001b[0m\u001b[0;34m\u001b[0m\u001b[0;34m\u001b[0m\u001b[0m\n",
      "\u001b[0;31mNameError\u001b[0m: name 'best_layer' is not defined"
     ]
    }
   ],
   "source": [
    "full_pipeline = make_pipeline(ColAdderDropper(), column_transformer, StandardScaler(), MLPRegressor(alpha=best_alpha, hidden_layer_sizes=best_layer,\n",
    "                                                               activation='relu', solver='adam', random_state=0, max_iter=10000))\n",
    "full_pipeline.fit(rest_X_df, rest_y_sr)"
   ]
  },
  {
   "cell_type": "markdown",
   "metadata": {},
   "source": [
    "### 2. Đánh giá mô hình tìm được"
   ]
  },
  {
   "cell_type": "markdown",
   "metadata": {},
   "source": [
    "Sau khi đã có mô hình tốt nhất fit vào tập train, ta sẽ dùng mô hình đó để dự đoán tập test cuối cùng"
   ]
  },
  {
   "cell_type": "markdown",
   "metadata": {},
   "source": [
    "## VII. Nhìn lại quá trình làm đồ án"
   ]
  },
  {
   "cell_type": "markdown",
   "metadata": {},
   "source": [
    "### 1. Khó khăn"
   ]
  },
  {
   "cell_type": "markdown",
   "metadata": {},
   "source": [
    "### 2. Những thứ học được"
   ]
  },
  {
   "cell_type": "markdown",
   "metadata": {},
   "source": [
    "### 3. Những điểu cần bổ sung nếu có thêm thời gian"
   ]
  },
  {
   "cell_type": "markdown",
   "metadata": {},
   "source": [
    "## VIII. Tài liệu tham khảo"
   ]
  },
  {
   "cell_type": "code",
   "execution_count": null,
   "metadata": {},
   "outputs": [],
   "source": []
  }
 ],
 "metadata": {
  "kernelspec": {
   "display_name": "Python 3",
   "language": "python",
   "name": "python3"
  },
  "language_info": {
   "codemirror_mode": {
    "name": "ipython",
    "version": 3
   },
   "file_extension": ".py",
   "mimetype": "text/x-python",
   "name": "python",
   "nbconvert_exporter": "python",
   "pygments_lexer": "ipython3",
   "version": "3.8.3"
  }
 },
 "nbformat": 4,
 "nbformat_minor": 4
}
