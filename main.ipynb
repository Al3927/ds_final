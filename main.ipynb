{
 "cells": [
  {
   "cell_type": "markdown",
   "metadata": {},
   "source": [
    "# ĐỒ ÁN MÔN HỌC CUỐI KÌ\n",
    " \n",
    "__TÊN MÔN HỌC:__ NHẬP MÔN KHOA HỌC DỮ LIỆU\n",
    "\n",
    "__ĐỀ TÀI:__ ÁP DỤNG MÔ HÌNH HỌC MÁY ĐỂ DỰ ĐOÁN DOANH SỐ TRÊN SÀN THƯƠNG MẠI ĐIỆN TỬ SHOPEE\n",
    "\n",
    "__GIẢNG VIÊN:__ TRẦN TRUNG KIÊN\n",
    " \n",
    "__THỨ TỰ NHÓM:__ 15\n",
    " \n",
    "__THÀNH VIÊN:__\n",
    "\n",
    "- 18120184 - Nguyễn Nguyên Khang\n",
    "\n",
    "- 18120189 - Trần Đăng Khoa\n",
    "\n",
    "__PHÂN CÔNG:__\n",
    "\n",
    "Công việc | Thực hiện | Mức độ hoàn thành\n",
    "------------ | ------------- | ------------\n",
    "Thu thập dữ liệu | Khang |\n",
    "Khám phá dữ liệu | Khang |\n",
    "Tiền xử lý dữ liệu | Khang, Khoa |\n",
    "Mô hình hóa dữ liệu | Khoa |"
   ]
  },
  {
   "cell_type": "markdown",
   "metadata": {},
   "source": [
    "# Mục lục\n",
    "- [Câu hỏi cần trả lời](#Câu-hỏi-cần-trả-lời)\n",
    "   - [Dữ liệu](#Dữ-liệu)\n",
    "   - [Câu hỏi và cảm hứng](#Câu-hỏi-đặt-ra)\n",
    "- [Thu thập dữ liệu](#Thu-thập-dữ-liệu)\n",
    "- [Khám phá dữ liệu](#Khám-phá-dữ-liệu)\n",
    "  - [Mở file và chỉnh sửa thông số hiển thị](#Mở-file-và-chỉnh-sửa-thông-số-hiển-thị)\n",
    "  - [Mỗi dòng có ý nghĩa gì? Có vấn đề các dòng có ý nghĩa khác nhau không?](#Mỗi-dòng-có-ý-nghĩa-gì?-Có-vấn-đề-các-dòng-có-ý-nghĩa-khác-nhau-không?)\n",
    "  - [Xử lý giá trị trùng lặp](#Xử-lý-giá-trị-trùng-lặp)   \n",
    "  - [Xử lý khác biệt ngữ nghĩa do parse data từ json](#Xử-lý-khác-biệt-ngữ-nghĩa-do-parse-data-từ-json)\n",
    "  - [Phân bố giá trị của cột có kiểu dữ liệu không phải dạng số](#Phân-bố-giá-trị-của-cột-có-kiểu-dữ-liệu-không-phải-dạng-số)\n",
    "  - [Phân bố giá trị của cột có kiểu dữ liệu dạng số](#Phân-bố-giá-trị-của-cột-có-kiểu-dữ-liệu-dạng-số)\n",
    "- [Tiền xử lý dữ liệu](#Tiền-xử-lý-dữ-liệu)\n",
    "  - [Xử lý dữ liệu thiếu](#Xử-lý-dữ-liệu-thiếu)\n",
    "  - [Xử lý kiểu dữ liệu cột](#Xử-lý-kiểu-dữ-liệu-cột)\n",
    "  - [Xử lý giá trị không hợp lệ](#Xử-lý-giá-trị-không-hợp-lệ)\n",
    "  - [Tiền xử lý cột name, shop_location và chuẩn hóa dữ liệu](#Tiền-xử-lý-cột-name,-shop_location-và-chuẩn-hóa-dữ-liệu)\n",
    "- [Mô hình hóa dữ liệu](#Mô-hình-hóa-dữ-liệu)\n",
    "  - [Tách các tập](#Tách-các-tập) \n",
    "  - [Tìm mô hình tốt nhất](#Tìm-mô-hình-tốt-nhất)\n",
    "  - [Đánh giá mô hình tìm được](#Đánh-giá-mô-hình-tìm-được)\n",
    "- [Nhìn lại quá trình làm đồ án](#Nhìn-lại-quá-trình-làm-đồ-án)\n",
    "  - [Khó khăn](#Khó-khăn)\n",
    "  - [Những thứ học được](#Những-thứ-học-được)\n",
    "  - [Những điều cần bổ sung nếu có thêm thời gian](#Những-điều-cần-bổ-sung-nếu-có-thêm-thời-gian)\n",
    "- [Tài liệu tham khảo](#Tài-liệu-tham-khảo)"
   ]
  },
  {
   "cell_type": "markdown",
   "metadata": {},
   "source": [
    "## I. Câu hỏi cần trả lời\n",
    "### 1. Dữ liệu\n",
    "\n",
    "Các món hàng _Thời trang nam_ trên shopee\n",
    "\n",
    "Input là các thuộc tính của món hàng mà được biểu hiện ra trên giao diện của shopee.vn cho người dùng thấy, và thuộc tính thời gian của món hàng bao gồm: Thời gian sản phẩm được đăng, thời gian sản phẩm được lấy dữ liệu về máy, và thời gian sản phẩm được bày bán\n",
    "\n",
    "Output là số lượng hàng đã bán được trong thời gian món hàng được đăng lên shopee cho đến lúc được lấy dữ liệu về máy\n",
    "\n",
    "Dữ liệu đúng vì được request từ API của Shopee, có nghĩa là Shopee cũng đang sử dụng dữ liệu này để hiện thị cho người tiêu dùng xem.\n",
    "\n",
    "### 2. Câu hỏi\n",
    "\n",
    "*Output - doanh số -* được tính từ *input - các thông tin của sản phẩm -* theo công thức nào?\n",
    "\n",
    "Trả lời cho câu hỏi này có ý nghĩa trong việc tìm ra cách để tăng doanh số bán được trên shopee\n",
    "\n"
   ]
  },
  {
   "cell_type": "markdown",
   "metadata": {},
   "source": [
    "## Import \n",
    "\n",
    "import trước các thư viện re, numpy, pandas, sklearn"
   ]
  },
  {
   "cell_type": "code",
   "execution_count": 57,
   "metadata": {},
   "outputs": [],
   "source": [
    "import re\n",
    "import pandas as pd\n",
    "import numpy as np\n",
    "%matplotlib inline\n",
    "import matplotlib.pyplot as plt\n",
    "import seaborn as sns\n",
    "\n",
    "from numpy import mean\n",
    "from numpy import std\n",
    "from sklearn.model_selection import train_test_split\n",
    "from sklearn import preprocessing\n",
    "from sklearn.compose import ColumnTransformer\n",
    "from sklearn.compose import make_column_transformer\n",
    "from sklearn.preprocessing import LabelEncoder\n",
    "from sklearn.preprocessing import OneHotEncoder\n",
    "from sklearn.preprocessing import FunctionTransformer\n",
    "from sklearn.preprocessing import MinMaxScaler\n",
    "from sklearn.preprocessing import StandardScaler\n",
    "from sklearn.base import BaseEstimator, TransformerMixin\n",
    "\n",
    "from sklearn.impute import SimpleImputer\n",
    "from sklearn.impute import KNNImputer\n",
    "from sklearn.pipeline import Pipeline, make_pipeline\n",
    "from sklearn.model_selection import GridSearchCV\n",
    "from sklearn import set_config\n",
    "set_config(display='diagram') # Để trực quan hóa pipeline\n",
    "# from sklearn.cross_validation import train_test_split\n",
    "\n",
    "from sklearn.neural_network import MLPRegressor\n",
    "from sklearn.linear_model import LinearRegression\n",
    "\n",
    "#Set Option\n",
    "pd.set_option('max_colwidth', 10000)\n",
    "pd.set_option('display.max_rows', 500)\n",
    "pd.set_option('display.max_columns', 500)\n",
    "pd.set_option('display.width', 1000)"
   ]
  },
  {
   "cell_type": "markdown",
   "metadata": {},
   "source": [
    "## II. Thu thập dữ liệu"
   ]
  },
  {
   "cell_type": "markdown",
   "metadata": {},
   "source": [
    "### 1. Lấy dữ liệu từ Shopee bằng API \n",
    "Toàn bộ phần thu thập dữ liệu được nhóm đặt trong thư mục _Data Crawler_ và quá trình làm việc trong branch [_develope-Al27_](https://github.com/cstotodile/ds_final/tree/develope-Al27)"
   ]
  },
  {
   "cell_type": "markdown",
   "metadata": {},
   "source": [
    "### 2. Gộp dữ liệu"
   ]
  },
  {
   "cell_type": "markdown",
   "metadata": {},
   "source": [
    "Do dữ liệu thu thập được nằm ở những tập tin riêng lẻ, ta tiến hành gộp lại thành một tập dữ liệu duy nhất để khám phá"
   ]
  },
  {
   "cell_type": "code",
   "execution_count": 144,
   "metadata": {},
   "outputs": [
    {
     "data": {
      "text/html": [
       "<div>\n",
       "<style scoped>\n",
       "    .dataframe tbody tr th:only-of-type {\n",
       "        vertical-align: middle;\n",
       "    }\n",
       "\n",
       "    .dataframe tbody tr th {\n",
       "        vertical-align: top;\n",
       "    }\n",
       "\n",
       "    .dataframe thead th {\n",
       "        text-align: right;\n",
       "    }\n",
       "</style>\n",
       "<table border=\"1\" class=\"dataframe\">\n",
       "  <thead>\n",
       "    <tr style=\"text-align: right;\">\n",
       "      <th></th>\n",
       "      <th>category_id</th>\n",
       "      <th>name</th>\n",
       "      <th>shop_location</th>\n",
       "      <th>item_public_time</th>\n",
       "      <th>item_be_got_time</th>\n",
       "      <th>sell_time</th>\n",
       "      <th>shopee_verified</th>\n",
       "      <th>discount</th>\n",
       "      <th>is_adult</th>\n",
       "      <th>options</th>\n",
       "      <th>show_official_shop_label_in_title</th>\n",
       "      <th>rating_star</th>\n",
       "      <th>five_star</th>\n",
       "      <th>four_star</th>\n",
       "      <th>three_star</th>\n",
       "      <th>two_star</th>\n",
       "      <th>one_star</th>\n",
       "      <th>flash_sale</th>\n",
       "      <th>upcoming_flash_sale</th>\n",
       "      <th>price_min</th>\n",
       "      <th>price_min_before_discount</th>\n",
       "      <th>price_max</th>\n",
       "      <th>price_max_before_discount</th>\n",
       "      <th>price</th>\n",
       "      <th>price_before_discount</th>\n",
       "      <th>coin_earn_label</th>\n",
       "      <th>liked_count</th>\n",
       "      <th>view_count</th>\n",
       "      <th>cmt_count</th>\n",
       "      <th>is_preferred_plus_seller</th>\n",
       "      <th>show_free_shipping</th>\n",
       "      <th>images</th>\n",
       "      <th>video_info_list</th>\n",
       "      <th>historical_sold</th>\n",
       "    </tr>\n",
       "  </thead>\n",
       "  <tbody>\n",
       "    <tr>\n",
       "      <th>0</th>\n",
       "      <td>8947</td>\n",
       "      <td>Áo thun phông Unisex nam nữ 2 màu Trắng Đen tay ngắn cổ tròn dáng ôm phối cực cá tính - V107</td>\n",
       "      <td>TP. Hồ Chí Minh</td>\n",
       "      <td>1.607317e+09</td>\n",
       "      <td>1.609949e+09</td>\n",
       "      <td>2632455.0</td>\n",
       "      <td>True</td>\n",
       "      <td>39%</td>\n",
       "      <td>False</td>\n",
       "      <td>8.0</td>\n",
       "      <td>False</td>\n",
       "      <td>5.000000</td>\n",
       "      <td>4.0</td>\n",
       "      <td>0.0</td>\n",
       "      <td>0.0</td>\n",
       "      <td>0.0</td>\n",
       "      <td>0.0</td>\n",
       "      <td>None</td>\n",
       "      <td>None</td>\n",
       "      <td>1.490000e+10</td>\n",
       "      <td>2.450000e+10</td>\n",
       "      <td>1.490000e+10</td>\n",
       "      <td>2.450000e+10</td>\n",
       "      <td>1.490000e+10</td>\n",
       "      <td>2.450000e+10</td>\n",
       "      <td>None</td>\n",
       "      <td>7.0</td>\n",
       "      <td>1048.0</td>\n",
       "      <td>4.0</td>\n",
       "      <td>True</td>\n",
       "      <td>False</td>\n",
       "      <td>8.0</td>\n",
       "      <td>0.0</td>\n",
       "      <td>18.0</td>\n",
       "    </tr>\n",
       "    <tr>\n",
       "      <th>1</th>\n",
       "      <td>8947</td>\n",
       "      <td>Áo Thun Trơn Nam [FREESHIP] Áo phông nam tay ngắn 100% cotton Trắng Đen dáng ôm vừa vặn AT01</td>\n",
       "      <td>TP. Hồ Chí Minh</td>\n",
       "      <td>1.596338e+09</td>\n",
       "      <td>1.609949e+09</td>\n",
       "      <td>13611374.0</td>\n",
       "      <td>True</td>\n",
       "      <td>49%</td>\n",
       "      <td>False</td>\n",
       "      <td>35.0</td>\n",
       "      <td>False</td>\n",
       "      <td>4.947977</td>\n",
       "      <td>166.0</td>\n",
       "      <td>5.0</td>\n",
       "      <td>2.0</td>\n",
       "      <td>0.0</td>\n",
       "      <td>0.0</td>\n",
       "      <td>None</td>\n",
       "      <td>None</td>\n",
       "      <td>1.090000e+10</td>\n",
       "      <td>1.090000e+10</td>\n",
       "      <td>1.090000e+10</td>\n",
       "      <td>2.150000e+10</td>\n",
       "      <td>1.090000e+10</td>\n",
       "      <td>1.090000e+10</td>\n",
       "      <td>None</td>\n",
       "      <td>109.0</td>\n",
       "      <td>10540.0</td>\n",
       "      <td>173.0</td>\n",
       "      <td>True</td>\n",
       "      <td>False</td>\n",
       "      <td>9.0</td>\n",
       "      <td>0.0</td>\n",
       "      <td>526.0</td>\n",
       "    </tr>\n",
       "    <tr>\n",
       "      <th>2</th>\n",
       "      <td>8947</td>\n",
       "      <td>[SALE 50%] - Áo Thun Nam Cổ Tròn Cao Cấp ( nhiều màu) Tay Ngắn, chất cotton bề mặt vải mềm Mịn cực hot</td>\n",
       "      <td>TP. Hồ Chí Minh</td>\n",
       "      <td>1.603988e+09</td>\n",
       "      <td>1.609949e+09</td>\n",
       "      <td>5961754.0</td>\n",
       "      <td>True</td>\n",
       "      <td>50%</td>\n",
       "      <td>False</td>\n",
       "      <td>48.0</td>\n",
       "      <td>False</td>\n",
       "      <td>4.885417</td>\n",
       "      <td>89.0</td>\n",
       "      <td>4.0</td>\n",
       "      <td>2.0</td>\n",
       "      <td>1.0</td>\n",
       "      <td>0.0</td>\n",
       "      <td>None</td>\n",
       "      <td>None</td>\n",
       "      <td>4.950000e+09</td>\n",
       "      <td>9.900000e+09</td>\n",
       "      <td>4.950000e+09</td>\n",
       "      <td>9.900000e+09</td>\n",
       "      <td>4.950000e+09</td>\n",
       "      <td>9.900000e+09</td>\n",
       "      <td>None</td>\n",
       "      <td>25.0</td>\n",
       "      <td>4025.0</td>\n",
       "      <td>96.0</td>\n",
       "      <td>True</td>\n",
       "      <td>False</td>\n",
       "      <td>9.0</td>\n",
       "      <td>0.0</td>\n",
       "      <td>431.0</td>\n",
       "    </tr>\n",
       "    <tr>\n",
       "      <th>3</th>\n",
       "      <td>8947</td>\n",
       "      <td>Áo thun nam unisex 100% cotton basic Trắng Đen áo phông co giãn cao cấp dáng rộng dễ phối đồ - V69</td>\n",
       "      <td>TP. Hồ Chí Minh</td>\n",
       "      <td>1.596083e+09</td>\n",
       "      <td>1.609949e+09</td>\n",
       "      <td>13866721.0</td>\n",
       "      <td>True</td>\n",
       "      <td>39%</td>\n",
       "      <td>False</td>\n",
       "      <td>8.0</td>\n",
       "      <td>False</td>\n",
       "      <td>5.000000</td>\n",
       "      <td>66.0</td>\n",
       "      <td>0.0</td>\n",
       "      <td>0.0</td>\n",
       "      <td>0.0</td>\n",
       "      <td>0.0</td>\n",
       "      <td>None</td>\n",
       "      <td>None</td>\n",
       "      <td>1.490000e+10</td>\n",
       "      <td>2.450000e+10</td>\n",
       "      <td>1.490000e+10</td>\n",
       "      <td>2.450000e+10</td>\n",
       "      <td>1.490000e+10</td>\n",
       "      <td>2.450000e+10</td>\n",
       "      <td>None</td>\n",
       "      <td>85.0</td>\n",
       "      <td>4551.0</td>\n",
       "      <td>66.0</td>\n",
       "      <td>True</td>\n",
       "      <td>False</td>\n",
       "      <td>7.0</td>\n",
       "      <td>0.0</td>\n",
       "      <td>141.0</td>\n",
       "    </tr>\n",
       "    <tr>\n",
       "      <th>4</th>\n",
       "      <td>8947</td>\n",
       "      <td>🔥XẢ HÀNG🔥 Áo đôi - áo cặp nam nữ dễ thương cực HOT</td>\n",
       "      <td>Hà Nội</td>\n",
       "      <td>1.590391e+09</td>\n",
       "      <td>1.609949e+09</td>\n",
       "      <td>19558163.0</td>\n",
       "      <td>False</td>\n",
       "      <td>None</td>\n",
       "      <td>False</td>\n",
       "      <td>10.0</td>\n",
       "      <td>False</td>\n",
       "      <td>4.687500</td>\n",
       "      <td>27.0</td>\n",
       "      <td>1.0</td>\n",
       "      <td>3.0</td>\n",
       "      <td>1.0</td>\n",
       "      <td>0.0</td>\n",
       "      <td>None</td>\n",
       "      <td>None</td>\n",
       "      <td>7.200000e+09</td>\n",
       "      <td>-1.000000e+00</td>\n",
       "      <td>7.200000e+09</td>\n",
       "      <td>-1.000000e+00</td>\n",
       "      <td>7.200000e+09</td>\n",
       "      <td>0.000000e+00</td>\n",
       "      <td>None</td>\n",
       "      <td>128.0</td>\n",
       "      <td>3613.0</td>\n",
       "      <td>32.0</td>\n",
       "      <td>False</td>\n",
       "      <td>False</td>\n",
       "      <td>1.0</td>\n",
       "      <td>0.0</td>\n",
       "      <td>158.0</td>\n",
       "    </tr>\n",
       "  </tbody>\n",
       "</table>\n",
       "</div>"
      ],
      "text/plain": [
       "   category_id                                                                                                    name    shop_location  item_public_time  item_be_got_time   sell_time shopee_verified discount is_adult  options show_official_shop_label_in_title  rating_star  five_star  four_star  three_star  two_star  one_star flash_sale upcoming_flash_sale     price_min  price_min_before_discount     price_max  price_max_before_discount         price  price_before_discount coin_earn_label  liked_count  view_count  cmt_count is_preferred_plus_seller show_free_shipping  images  video_info_list  historical_sold\n",
       "0         8947            Áo thun phông Unisex nam nữ 2 màu Trắng Đen tay ngắn cổ tròn dáng ôm phối cực cá tính - V107  TP. Hồ Chí Minh      1.607317e+09      1.609949e+09   2632455.0            True      39%    False      8.0                             False     5.000000        4.0        0.0         0.0       0.0       0.0       None                None  1.490000e+10               2.450000e+10  1.490000e+10               2.450000e+10  1.490000e+10           2.450000e+10            None          7.0      1048.0        4.0                     True              False     8.0              0.0             18.0\n",
       "1         8947            Áo Thun Trơn Nam [FREESHIP] Áo phông nam tay ngắn 100% cotton Trắng Đen dáng ôm vừa vặn AT01  TP. Hồ Chí Minh      1.596338e+09      1.609949e+09  13611374.0            True      49%    False     35.0                             False     4.947977      166.0        5.0         2.0       0.0       0.0       None                None  1.090000e+10               1.090000e+10  1.090000e+10               2.150000e+10  1.090000e+10           1.090000e+10            None        109.0     10540.0      173.0                     True              False     9.0              0.0            526.0\n",
       "2         8947  [SALE 50%] - Áo Thun Nam Cổ Tròn Cao Cấp ( nhiều màu) Tay Ngắn, chất cotton bề mặt vải mềm Mịn cực hot  TP. Hồ Chí Minh      1.603988e+09      1.609949e+09   5961754.0            True      50%    False     48.0                             False     4.885417       89.0        4.0         2.0       1.0       0.0       None                None  4.950000e+09               9.900000e+09  4.950000e+09               9.900000e+09  4.950000e+09           9.900000e+09            None         25.0      4025.0       96.0                     True              False     9.0              0.0            431.0\n",
       "3         8947      Áo thun nam unisex 100% cotton basic Trắng Đen áo phông co giãn cao cấp dáng rộng dễ phối đồ - V69  TP. Hồ Chí Minh      1.596083e+09      1.609949e+09  13866721.0            True      39%    False      8.0                             False     5.000000       66.0        0.0         0.0       0.0       0.0       None                None  1.490000e+10               2.450000e+10  1.490000e+10               2.450000e+10  1.490000e+10           2.450000e+10            None         85.0      4551.0       66.0                     True              False     7.0              0.0            141.0\n",
       "4         8947                                                      🔥XẢ HÀNG🔥 Áo đôi - áo cặp nam nữ dễ thương cực HOT           Hà Nội      1.590391e+09      1.609949e+09  19558163.0           False     None    False     10.0                             False     4.687500       27.0        1.0         3.0       1.0       0.0       None                None  7.200000e+09              -1.000000e+00  7.200000e+09              -1.000000e+00  7.200000e+09           0.000000e+00            None        128.0      3613.0       32.0                    False              False     1.0              0.0            158.0"
      ]
     },
     "execution_count": 144,
     "metadata": {},
     "output_type": "execute_result"
    }
   ],
   "source": [
    "dataset = ['aoNganTayKhongCo', 'aoSoMi', 'baloTuiVi', 'giayDepNam', 'phuKienNam', 'Quan', 'aoKhoacAoVest']\n",
    "frames = [pd.read_csv(f'Data/[v3]ShoppeItem_thoiTrangNam_{x}_0-949.tsv', sep='\\t') for x in dataset]\n",
    "items_df = pd.concat(frames, ignore_index=True, sort=False)\n",
    "items_df.head()"
   ]
  },
  {
   "cell_type": "code",
   "execution_count": 141,
   "metadata": {},
   "outputs": [
    {
     "data": {
      "text/plain": [
       "(5751, 34)"
      ]
     },
     "execution_count": 141,
     "metadata": {},
     "output_type": "execute_result"
    }
   ],
   "source": [
    "items_df.shape"
   ]
  },
  {
   "cell_type": "code",
   "execution_count": 143,
   "metadata": {},
   "outputs": [
    {
     "data": {
      "text/plain": [
       "array([8947, 9572, 2429, 2831, 1899])"
      ]
     },
     "execution_count": 143,
     "metadata": {},
     "output_type": "execute_result"
    }
   ],
   "source": [
    "items_df['category_id'].unique()"
   ]
  },
  {
   "cell_type": "markdown",
   "metadata": {},
   "source": [
    "## III. Khám phá dữ liệu, tiền xử lý đơn giản và tách tập"
   ]
  },
  {
   "cell_type": "markdown",
   "metadata": {},
   "source": [
    "### 1. Kiểm tra output hợp lệ\n",
    "Ta kiểm tra xem dữ liệu thu được có đủ điều kiện để mô hình hóa hay không? Vì đây là bài toán hồi qui nên cột output bắt buộc phải có dạng số; nếu hiện chưa có dạng số (ví dụ, số nhưng được lưu dưới dạng chuỗi) thì ta cần chuyển sang dạng số rồi mới tách các tập."
   ]
  },
  {
   "cell_type": "code",
   "execution_count": 5,
   "metadata": {},
   "outputs": [
    {
     "data": {
      "text/plain": [
       "dtype('float64')"
      ]
     },
     "execution_count": 5,
     "metadata": {},
     "output_type": "execute_result"
    }
   ],
   "source": [
    "# Cột output hiện có kiểu dữ liệu gì?\n",
    "items_df['historical_sold'].dtype"
   ]
  },
  {
   "cell_type": "code",
   "execution_count": 6,
   "metadata": {},
   "outputs": [
    {
     "data": {
      "text/plain": [
       "1"
      ]
     },
     "execution_count": 6,
     "metadata": {},
     "output_type": "execute_result"
    }
   ],
   "source": [
    "# Cột output có giá trị thiếu không?\n",
    "items_df['historical_sold'].isna().sum()"
   ]
  },
  {
   "cell_type": "code",
   "execution_count": 7,
   "metadata": {},
   "outputs": [],
   "source": [
    "# Xóa các mẫu có giá trị output thiếu\n",
    "items_df.dropna(subset=['historical_sold'], inplace=True)"
   ]
  },
  {
   "cell_type": "code",
   "execution_count": 8,
   "metadata": {},
   "outputs": [
    {
     "data": {
      "text/plain": [
       "0"
      ]
     },
     "execution_count": 8,
     "metadata": {},
     "output_type": "execute_result"
    }
   ],
   "source": [
    "# Kiểm tra lại\n",
    "items_df['historical_sold'].isna().sum()"
   ]
  },
  {
   "cell_type": "code",
   "execution_count": 89,
   "metadata": {},
   "outputs": [
    {
     "data": {
      "text/plain": [
       "0.6246723746286913"
      ]
     },
     "execution_count": 89,
     "metadata": {},
     "output_type": "execute_result"
    }
   ],
   "source": [
    "items_df['historical_sold'].value_counts()[0]/items_df.shape[0]"
   ]
  },
  {
   "cell_type": "code",
   "execution_count": 94,
   "metadata": {},
   "outputs": [
    {
     "data": {
      "text/plain": [
       "<matplotlib.axes._subplots.AxesSubplot at 0x7f74250958b0>"
      ]
     },
     "execution_count": 94,
     "metadata": {},
     "output_type": "execute_result"
    },
    {
     "data": {
      "image/png": "[encoded data removed]",
      "text/plain": [
       "<Figure size 432x288 with 1 Axes>"
      ]
     },
     "metadata": {
      "needs_background": "light"
     },
     "output_type": "display_data"
    }
   ],
   "source": [
    "items_df['historical_sold'].plot.hist(bins=range(0, 10, 1), edgecolor='black')"
   ]
  },
  {
   "cell_type": "markdown",
   "metadata": {},
   "source": [
    "### 2. Ý nghĩa của mỗi dòng\n",
    "Quan sát sơ bộ dữ liệu và qua quá trình crawler data, ta thấy mỗi dòng chứa thông tin của một món hàng, và không có vấn đề các dòng có ý nghĩa khác nhau."
   ]
  },
  {
   "cell_type": "markdown",
   "metadata": {},
   "source": [
    "### 3. Kiểm tra các giá trị trùng\n",
    "Ta xem thử có bao nhiều mẫu bị trùng giá trị"
   ]
  },
  {
   "cell_type": "code",
   "execution_count": 9,
   "metadata": {},
   "outputs": [
    {
     "data": {
      "text/plain": [
       "27"
      ]
     },
     "execution_count": 9,
     "metadata": {},
     "output_type": "execute_result"
    }
   ],
   "source": [
    "num_duplicated_rows = items_df.duplicated().sum()\n",
    "num_duplicated_rows"
   ]
  },
  {
   "cell_type": "markdown",
   "metadata": {},
   "source": [
    "Tiến hành xóa các mẫu trùng"
   ]
  },
  {
   "cell_type": "code",
   "execution_count": 10,
   "metadata": {},
   "outputs": [],
   "source": [
    "items_df = items_df.drop_duplicates(ignore_index = True)"
   ]
  },
  {
   "cell_type": "markdown",
   "metadata": {},
   "source": [
    "### 4. Kiểm tra các giá trị không hợp lệ\n",
    "\n",
    "Thật ra giá trị của những mẫu này đều đang hoạt động bình thường trên giao diện shopee nên khả năng lỗi là rất thấp. Ta vẫn kiểm tra lại các trường hợp như sau:\n",
    "\n",
    "1. Kiểm tra cột price_min_before_discount và cột price_max_before_discount xem có giá trị âm hay không?\n",
    "  \n",
    "2. So sánh price_min > price_max, price_min_before_discount > price_max_before_discount\n",
    "\n",
    "3. So sánh price < price_before_discount, price_min < price_min_before_discount, price_max < price_max_before_discount"
   ]
  },
  {
   "cell_type": "code",
   "execution_count": 11,
   "metadata": {},
   "outputs": [
    {
     "data": {
      "text/plain": [
       "0.47247946881006464"
      ]
     },
     "execution_count": 11,
     "metadata": {},
     "output_type": "execute_result"
    }
   ],
   "source": [
    "# Xử lý trường hợp 1.\n",
    "\n",
    "invalid_price_negative = (items_df.price_min_before_discount < 0) | (items_df.price_max_before_discount < 0)\n",
    "invalid_price_negative_vals = invalid_price_negative.sum()\n",
    "invalid_price_negative_vals/len(items_df)"
   ]
  },
  {
   "cell_type": "markdown",
   "metadata": {},
   "source": [
    "Ta thấy có đến xấp xỉ 47.35% các giá trị `price_min_before_discount` và `price_min_before_discount` bị âm.\n",
    "Do shopee vẫn hiển thị bình thường nên ta dự đoán có lẽ do tại những mẫu có giá trị âm này thì `discount` = None "
   ]
  },
  {
   "cell_type": "code",
   "execution_count": 12,
   "metadata": {},
   "outputs": [
    {
     "name": "stdout",
     "output_type": "stream",
     "text": [
      "0.47247946881006464\n",
      "True\n"
     ]
    }
   ],
   "source": [
    "print((items_df.discount == 'None').sum()/len(items_df))\n",
    "print((items_df.discount == 'None').sum()/len(items_df) == invalid_price_negative_vals/len(items_df))"
   ]
  },
  {
   "cell_type": "markdown",
   "metadata": {},
   "source": [
    "Kiểm tra thấy hai giá trị là hoàn toàn giống nhau chứng tỏ dự đoán là đúng.\n",
    "Vậy code shopee chịu lỗi này hoặc đây là quy ước data của shopee, khi lấy mẫu mới về từ shopee trường hợp này vẫn sẽ là giá trị âm. Vậy nên những giá trị âm này ta xem như hợp lệ."
   ]
  },
  {
   "cell_type": "code",
   "execution_count": 13,
   "metadata": {},
   "outputs": [
    {
     "data": {
      "text/plain": [
       "0"
      ]
     },
     "execution_count": 13,
     "metadata": {},
     "output_type": "execute_result"
    }
   ],
   "source": [
    "# Xử lý trường hợp 2\n",
    "invalid_price_min_max = (items_df.price_min_before_discount > items_df.price_max_before_discount) | (items_df.price_max < items_df.price_min)\n",
    "invalid_price_min_max_vals = invalid_price_min_max.sum()\n",
    "invalid_price_min_max_vals\n",
    "# Không có bất kỳ giá trị không hợp lệ nào trong trường hợp này."
   ]
  },
  {
   "cell_type": "code",
   "execution_count": 14,
   "metadata": {},
   "outputs": [
    {
     "data": {
      "text/plain": [
       "0.47247946881006464"
      ]
     },
     "execution_count": 14,
     "metadata": {},
     "output_type": "execute_result"
    }
   ],
   "source": [
    "# Xử lý trường hợp 3\n",
    "invalid_price_before_after = (items_df.price > items_df.price_before_discount) | (items_df.price_min > items_df.price_min_before_discount) | (items_df.price_max > items_df.price_max_before_discount)\n",
    "invalid_price_before_after_vals = invalid_price_before_after.sum()\n",
    "invalid_price_before_after_vals / len(items_df)"
   ]
  },
  {
   "cell_type": "markdown",
   "metadata": {},
   "source": [
    "Ta thấy phần trăm các giá trị lỗi giống như ở trường hợp 1 nên kiểm tra riêng lại cho điều kiện (items_df.price_min > items_df.price_min_before_discount) | (items_df.price_max > items_df.price_max_before_discount)"
   ]
  },
  {
   "cell_type": "code",
   "execution_count": 15,
   "metadata": {},
   "outputs": [
    {
     "name": "stdout",
     "output_type": "stream",
     "text": [
      "(items_df.price_min > items_df.price_min_before_discount) | (items_df.price_max > items_df.price_max_before_discount):\n",
      "-> 0.47247946881006464\n",
      "True if it equal to (items_df.discount == \"None\").sum()/len(items_df))\n",
      "-> True\n"
     ]
    }
   ],
   "source": [
    "print('(items_df.price_min > items_df.price_min_before_discount) | (items_df.price_max > items_df.price_max_before_discount):\\n->', ((items_df.price_min > items_df.price_min_before_discount) | (items_df.price_max > items_df.price_max_before_discount)).sum()/len(items_df))\n",
    "print('True if it equal to (items_df.discount == \"None\").sum()/len(items_df))\\n->', ((items_df.price_min > items_df.price_min_before_discount) | (items_df.price_max > items_df.price_max_before_discount)).sum()/len(items_df) == (items_df.discount == 'None').sum()/len(items_df))"
   ]
  },
  {
   "cell_type": "markdown",
   "metadata": {},
   "source": [
    "Vậy tương tự như trường hợp 1, những giá trị này là hợp lệ."
   ]
  },
  {
   "cell_type": "markdown",
   "metadata": {},
   "source": [
    "### 5. Tách các tập\n",
    "Vậy là dữ liệu đã sẵn sàng để tách và khám phá"
   ]
  },
  {
   "cell_type": "code",
   "execution_count": 16,
   "metadata": {},
   "outputs": [],
   "source": [
    "# Tách X và y\n",
    "y_sr = items_df[\"historical_sold\"]\n",
    "X_df = items_df.drop(\"historical_sold\", axis=1)"
   ]
  },
  {
   "cell_type": "code",
   "execution_count": 17,
   "metadata": {},
   "outputs": [],
   "source": [
    "# Tách train và test\n",
    "rest_X_df, test_X_df, rest_y_sr, test_y_sr = train_test_split(X_df, y_sr, test_size=0.2, random_state=0)"
   ]
  },
  {
   "cell_type": "code",
   "execution_count": 18,
   "metadata": {},
   "outputs": [],
   "source": [
    "# Tách train và validation\n",
    "train_X_df, val_X_df, train_y_sr, val_y_sr = train_test_split(rest_X_df, rest_y_sr, test_size=0.2, random_state=0)"
   ]
  },
  {
   "cell_type": "code",
   "execution_count": 19,
   "metadata": {},
   "outputs": [
    {
     "data": {
      "text/plain": [
       "(3662, 33)"
      ]
     },
     "execution_count": 19,
     "metadata": {},
     "output_type": "execute_result"
    }
   ],
   "source": [
    "train_X_df.shape"
   ]
  },
  {
   "cell_type": "code",
   "execution_count": 20,
   "metadata": {},
   "outputs": [
    {
     "data": {
      "text/plain": [
       "(3662,)"
      ]
     },
     "execution_count": 20,
     "metadata": {},
     "output_type": "execute_result"
    }
   ],
   "source": [
    "train_y_sr.shape"
   ]
  },
  {
   "cell_type": "code",
   "execution_count": 21,
   "metadata": {},
   "outputs": [
    {
     "data": {
      "text/plain": [
       "(916, 33)"
      ]
     },
     "execution_count": 21,
     "metadata": {},
     "output_type": "execute_result"
    }
   ],
   "source": [
    "val_X_df.shape"
   ]
  },
  {
   "cell_type": "code",
   "execution_count": 22,
   "metadata": {},
   "outputs": [
    {
     "data": {
      "text/plain": [
       "(916,)"
      ]
     },
     "execution_count": 22,
     "metadata": {},
     "output_type": "execute_result"
    }
   ],
   "source": [
    "val_y_sr.shape"
   ]
  },
  {
   "cell_type": "code",
   "execution_count": 23,
   "metadata": {},
   "outputs": [
    {
     "data": {
      "text/plain": [
       "(1145, 33)"
      ]
     },
     "execution_count": 23,
     "metadata": {},
     "output_type": "execute_result"
    }
   ],
   "source": [
    "test_X_df.shape"
   ]
  },
  {
   "cell_type": "code",
   "execution_count": 24,
   "metadata": {},
   "outputs": [
    {
     "data": {
      "text/plain": [
       "(1145,)"
      ]
     },
     "execution_count": 24,
     "metadata": {},
     "output_type": "execute_result"
    }
   ],
   "source": [
    "test_y_sr.shape"
   ]
  },
  {
   "cell_type": "markdown",
   "metadata": {},
   "source": [
    "## IV. Khám phá dữ liệu\n",
    "\n",
    "Quá trình làm việc của nhóm trong branch [Preprocessing](https://github.com/cstotodile/ds_final/tree/Preprocessing)\n"
   ]
  },
  {
   "cell_type": "markdown",
   "metadata": {},
   "source": [
    "Xem sơ qua về dữ liệu"
   ]
  },
  {
   "cell_type": "code",
   "execution_count": 25,
   "metadata": {},
   "outputs": [
    {
     "data": {
      "text/html": [
       "<div>\n",
       "<style scoped>\n",
       "    .dataframe tbody tr th:only-of-type {\n",
       "        vertical-align: middle;\n",
       "    }\n",
       "\n",
       "    .dataframe tbody tr th {\n",
       "        vertical-align: top;\n",
       "    }\n",
       "\n",
       "    .dataframe thead th {\n",
       "        text-align: right;\n",
       "    }\n",
       "</style>\n",
       "<table border=\"1\" class=\"dataframe\">\n",
       "  <thead>\n",
       "    <tr style=\"text-align: right;\">\n",
       "      <th></th>\n",
       "      <th>category</th>\n",
       "      <th>name</th>\n",
       "      <th>shop_location</th>\n",
       "      <th>item_public_time</th>\n",
       "      <th>item_be_got_time</th>\n",
       "      <th>sell_time</th>\n",
       "      <th>shopee_verified</th>\n",
       "      <th>discount</th>\n",
       "      <th>is_adult</th>\n",
       "      <th>options</th>\n",
       "      <th>show_official_shop_label_in_title</th>\n",
       "      <th>rating_star</th>\n",
       "      <th>five_star</th>\n",
       "      <th>four_star</th>\n",
       "      <th>three_star</th>\n",
       "      <th>two_star</th>\n",
       "      <th>one_star</th>\n",
       "      <th>flash_sale</th>\n",
       "      <th>upcoming_flash_sale</th>\n",
       "      <th>price_min</th>\n",
       "      <th>price_min_before_discount</th>\n",
       "      <th>price_max</th>\n",
       "      <th>price_max_before_discount</th>\n",
       "      <th>price</th>\n",
       "      <th>price_before_discount</th>\n",
       "      <th>coin_earn_label</th>\n",
       "      <th>liked_count</th>\n",
       "      <th>view_count</th>\n",
       "      <th>cmt_count</th>\n",
       "      <th>is_preferred_plus_seller</th>\n",
       "      <th>show_free_shipping</th>\n",
       "      <th>images</th>\n",
       "      <th>video_info_list</th>\n",
       "    </tr>\n",
       "  </thead>\n",
       "  <tbody>\n",
       "    <tr>\n",
       "      <th>2805</th>\n",
       "      <td>Balo/ Tui/ Vi</td>\n",
       "      <td>Balo Thời Trang Nam Da Bò Cao Cấp C435185</td>\n",
       "      <td>TP. Hồ Chí Minh</td>\n",
       "      <td>1.574132e+09</td>\n",
       "      <td>1.609994e+09</td>\n",
       "      <td>35862920.0</td>\n",
       "      <td>False</td>\n",
       "      <td>None</td>\n",
       "      <td>False</td>\n",
       "      <td>1.0</td>\n",
       "      <td>False</td>\n",
       "      <td>0.000000</td>\n",
       "      <td>0.0</td>\n",
       "      <td>0.0</td>\n",
       "      <td>0.0</td>\n",
       "      <td>0.0</td>\n",
       "      <td>0.0</td>\n",
       "      <td>None</td>\n",
       "      <td>None</td>\n",
       "      <td>1.500000e+11</td>\n",
       "      <td>-1.000000e+00</td>\n",
       "      <td>1.500000e+11</td>\n",
       "      <td>-1.000000e+00</td>\n",
       "      <td>1.500000e+11</td>\n",
       "      <td>0.000000e+00</td>\n",
       "      <td>None</td>\n",
       "      <td>1.0</td>\n",
       "      <td>0.0</td>\n",
       "      <td>0.0</td>\n",
       "      <td>False</td>\n",
       "      <td>False</td>\n",
       "      <td>9.0</td>\n",
       "      <td>0.0</td>\n",
       "    </tr>\n",
       "    <tr>\n",
       "      <th>1112</th>\n",
       "      <td>Ao so mi</td>\n",
       "      <td>[bigsize &lt; 120kg] Áo sơ mi thời trang nam tay dài bigsize</td>\n",
       "      <td>TP. Hồ Chí Minh</td>\n",
       "      <td>1.609129e+09</td>\n",
       "      <td>1.609949e+09</td>\n",
       "      <td>820524.0</td>\n",
       "      <td>True</td>\n",
       "      <td>None</td>\n",
       "      <td>False</td>\n",
       "      <td>30.0</td>\n",
       "      <td>False</td>\n",
       "      <td>5.000000</td>\n",
       "      <td>1.0</td>\n",
       "      <td>0.0</td>\n",
       "      <td>0.0</td>\n",
       "      <td>0.0</td>\n",
       "      <td>0.0</td>\n",
       "      <td>None</td>\n",
       "      <td>None</td>\n",
       "      <td>2.000000e+10</td>\n",
       "      <td>-1.000000e+00</td>\n",
       "      <td>2.000000e+10</td>\n",
       "      <td>-1.000000e+00</td>\n",
       "      <td>2.000000e+10</td>\n",
       "      <td>0.000000e+00</td>\n",
       "      <td>None</td>\n",
       "      <td>4.0</td>\n",
       "      <td>394.0</td>\n",
       "      <td>1.0</td>\n",
       "      <td>True</td>\n",
       "      <td>False</td>\n",
       "      <td>9.0</td>\n",
       "      <td>0.0</td>\n",
       "    </tr>\n",
       "    <tr>\n",
       "      <th>3818</th>\n",
       "      <td>Giay dep nam</td>\n",
       "      <td>[🎁 Hàng có sẵn - Free ship đơn 250k 🎁 ] Dép nam, dép lê thời trang nam Đen 2 loại cực hót</td>\n",
       "      <td>Hà Nội</td>\n",
       "      <td>1.566321e+09</td>\n",
       "      <td>1.609917e+09</td>\n",
       "      <td>43596067.0</td>\n",
       "      <td>True</td>\n",
       "      <td>46%</td>\n",
       "      <td>False</td>\n",
       "      <td>10.0</td>\n",
       "      <td>False</td>\n",
       "      <td>5.000000</td>\n",
       "      <td>3.0</td>\n",
       "      <td>0.0</td>\n",
       "      <td>0.0</td>\n",
       "      <td>0.0</td>\n",
       "      <td>0.0</td>\n",
       "      <td>None</td>\n",
       "      <td>None</td>\n",
       "      <td>6.900000e+09</td>\n",
       "      <td>1.280000e+10</td>\n",
       "      <td>9.500000e+09</td>\n",
       "      <td>1.280000e+10</td>\n",
       "      <td>6.900000e+09</td>\n",
       "      <td>1.280000e+10</td>\n",
       "      <td>None</td>\n",
       "      <td>1122.0</td>\n",
       "      <td>57.0</td>\n",
       "      <td>3.0</td>\n",
       "      <td>False</td>\n",
       "      <td>False</td>\n",
       "      <td>7.0</td>\n",
       "      <td>0.0</td>\n",
       "    </tr>\n",
       "    <tr>\n",
       "      <th>667</th>\n",
       "      <td>Ao ngan tay khong co</td>\n",
       "      <td>Áo Thun Thể Thao Cổ Tròn Ngắn Tay Thời Trang Nam 2020 Atsq071</td>\n",
       "      <td>Nước ngoài</td>\n",
       "      <td>1.590332e+09</td>\n",
       "      <td>1.609949e+09</td>\n",
       "      <td>19617446.0</td>\n",
       "      <td>False</td>\n",
       "      <td>5%</td>\n",
       "      <td>False</td>\n",
       "      <td>18.0</td>\n",
       "      <td>False</td>\n",
       "      <td>0.000000</td>\n",
       "      <td>0.0</td>\n",
       "      <td>0.0</td>\n",
       "      <td>0.0</td>\n",
       "      <td>0.0</td>\n",
       "      <td>0.0</td>\n",
       "      <td>None</td>\n",
       "      <td>None</td>\n",
       "      <td>6.507000e+10</td>\n",
       "      <td>6.841000e+10</td>\n",
       "      <td>6.507000e+10</td>\n",
       "      <td>6.841000e+10</td>\n",
       "      <td>6.507000e+10</td>\n",
       "      <td>6.841000e+10</td>\n",
       "      <td>None</td>\n",
       "      <td>0.0</td>\n",
       "      <td>0.0</td>\n",
       "      <td>0.0</td>\n",
       "      <td>False</td>\n",
       "      <td>False</td>\n",
       "      <td>9.0</td>\n",
       "      <td>0.0</td>\n",
       "    </tr>\n",
       "    <tr>\n",
       "      <th>4431</th>\n",
       "      <td>Phu kien Nam</td>\n",
       "      <td>Mũ Lưỡi Trai Thêu Chữ Lvinmw Thời Trang Nam</td>\n",
       "      <td>Nước ngoài</td>\n",
       "      <td>1.602765e+09</td>\n",
       "      <td>1.609910e+09</td>\n",
       "      <td>7145100.0</td>\n",
       "      <td>False</td>\n",
       "      <td>50%</td>\n",
       "      <td>False</td>\n",
       "      <td>5.0</td>\n",
       "      <td>False</td>\n",
       "      <td>0.000000</td>\n",
       "      <td>0.0</td>\n",
       "      <td>0.0</td>\n",
       "      <td>0.0</td>\n",
       "      <td>0.0</td>\n",
       "      <td>0.0</td>\n",
       "      <td>None</td>\n",
       "      <td>None</td>\n",
       "      <td>2.325000e+10</td>\n",
       "      <td>4.626000e+10</td>\n",
       "      <td>2.325000e+10</td>\n",
       "      <td>4.626000e+10</td>\n",
       "      <td>2.325000e+10</td>\n",
       "      <td>4.626000e+10</td>\n",
       "      <td>None</td>\n",
       "      <td>0.0</td>\n",
       "      <td>0.0</td>\n",
       "      <td>0.0</td>\n",
       "      <td>False</td>\n",
       "      <td>False</td>\n",
       "      <td>6.0</td>\n",
       "      <td>0.0</td>\n",
       "    </tr>\n",
       "    <tr>\n",
       "      <th>...</th>\n",
       "      <td>...</td>\n",
       "      <td>...</td>\n",
       "      <td>...</td>\n",
       "      <td>...</td>\n",
       "      <td>...</td>\n",
       "      <td>...</td>\n",
       "      <td>...</td>\n",
       "      <td>...</td>\n",
       "      <td>...</td>\n",
       "      <td>...</td>\n",
       "      <td>...</td>\n",
       "      <td>...</td>\n",
       "      <td>...</td>\n",
       "      <td>...</td>\n",
       "      <td>...</td>\n",
       "      <td>...</td>\n",
       "      <td>...</td>\n",
       "      <td>...</td>\n",
       "      <td>...</td>\n",
       "      <td>...</td>\n",
       "      <td>...</td>\n",
       "      <td>...</td>\n",
       "      <td>...</td>\n",
       "      <td>...</td>\n",
       "      <td>...</td>\n",
       "      <td>...</td>\n",
       "      <td>...</td>\n",
       "      <td>...</td>\n",
       "      <td>...</td>\n",
       "      <td>...</td>\n",
       "      <td>...</td>\n",
       "      <td>...</td>\n",
       "      <td>...</td>\n",
       "    </tr>\n",
       "    <tr>\n",
       "      <th>5128</th>\n",
       "      <td>Quan</td>\n",
       "      <td>Quần jogger thời trang nam màu đen dạo phố du lịch - QJ03</td>\n",
       "      <td>Hà Nội</td>\n",
       "      <td>1.597916e+09</td>\n",
       "      <td>1.609992e+09</td>\n",
       "      <td>12075617.0</td>\n",
       "      <td>False</td>\n",
       "      <td>27%</td>\n",
       "      <td>False</td>\n",
       "      <td>4.0</td>\n",
       "      <td>False</td>\n",
       "      <td>0.000000</td>\n",
       "      <td>0.0</td>\n",
       "      <td>0.0</td>\n",
       "      <td>0.0</td>\n",
       "      <td>0.0</td>\n",
       "      <td>0.0</td>\n",
       "      <td>None</td>\n",
       "      <td>None</td>\n",
       "      <td>7.957000e+09</td>\n",
       "      <td>1.090000e+10</td>\n",
       "      <td>7.957000e+09</td>\n",
       "      <td>1.090000e+10</td>\n",
       "      <td>7.957000e+09</td>\n",
       "      <td>1.090000e+10</td>\n",
       "      <td>None</td>\n",
       "      <td>0.0</td>\n",
       "      <td>3.0</td>\n",
       "      <td>0.0</td>\n",
       "      <td>False</td>\n",
       "      <td>False</td>\n",
       "      <td>4.0</td>\n",
       "      <td>0.0</td>\n",
       "    </tr>\n",
       "    <tr>\n",
       "      <th>3982</th>\n",
       "      <td>Phu kien Nam</td>\n",
       "      <td>Nón Lưỡi Trai 🥇Freeship🥇 Mũ Nam Dài Đuôi Thời Trang UCOM</td>\n",
       "      <td>Hà Nội</td>\n",
       "      <td>1.569303e+09</td>\n",
       "      <td>1.609910e+09</td>\n",
       "      <td>40607869.0</td>\n",
       "      <td>False</td>\n",
       "      <td>44%</td>\n",
       "      <td>False</td>\n",
       "      <td>1.0</td>\n",
       "      <td>False</td>\n",
       "      <td>4.823529</td>\n",
       "      <td>31.0</td>\n",
       "      <td>2.0</td>\n",
       "      <td>0.0</td>\n",
       "      <td>0.0</td>\n",
       "      <td>1.0</td>\n",
       "      <td>None</td>\n",
       "      <td>None</td>\n",
       "      <td>5.500000e+09</td>\n",
       "      <td>9.900000e+09</td>\n",
       "      <td>5.500000e+09</td>\n",
       "      <td>9.900000e+09</td>\n",
       "      <td>5.500000e+09</td>\n",
       "      <td>9.900000e+09</td>\n",
       "      <td>None</td>\n",
       "      <td>1202.0</td>\n",
       "      <td>249.0</td>\n",
       "      <td>34.0</td>\n",
       "      <td>False</td>\n",
       "      <td>True</td>\n",
       "      <td>4.0</td>\n",
       "      <td>0.0</td>\n",
       "    </tr>\n",
       "    <tr>\n",
       "      <th>3184</th>\n",
       "      <td>Giay dep nam</td>\n",
       "      <td>(HOT) Dép quai ngang nam dép đúc cao su siêu nhẹ A28 (03 màu) dép ulzzang nam dép nam dép nam dép thời trang nam</td>\n",
       "      <td>Hà Nội</td>\n",
       "      <td>1.592549e+09</td>\n",
       "      <td>1.609917e+09</td>\n",
       "      <td>17368476.0</td>\n",
       "      <td>False</td>\n",
       "      <td>50%</td>\n",
       "      <td>False</td>\n",
       "      <td>12.0</td>\n",
       "      <td>False</td>\n",
       "      <td>0.000000</td>\n",
       "      <td>0.0</td>\n",
       "      <td>0.0</td>\n",
       "      <td>0.0</td>\n",
       "      <td>0.0</td>\n",
       "      <td>0.0</td>\n",
       "      <td>None</td>\n",
       "      <td>None</td>\n",
       "      <td>1.750000e+10</td>\n",
       "      <td>3.500000e+10</td>\n",
       "      <td>1.750000e+10</td>\n",
       "      <td>3.500000e+10</td>\n",
       "      <td>1.750000e+10</td>\n",
       "      <td>3.500000e+10</td>\n",
       "      <td>None</td>\n",
       "      <td>1817.0</td>\n",
       "      <td>1873.0</td>\n",
       "      <td>0.0</td>\n",
       "      <td>False</td>\n",
       "      <td>False</td>\n",
       "      <td>9.0</td>\n",
       "      <td>0.0</td>\n",
       "    </tr>\n",
       "    <tr>\n",
       "      <th>3277</th>\n",
       "      <td>Giay dep nam</td>\n",
       "      <td>Giày Da Nam Thơi Trang NĂM 2019</td>\n",
       "      <td>Hà Nội</td>\n",
       "      <td>1.537898e+09</td>\n",
       "      <td>1.609917e+09</td>\n",
       "      <td>72019616.0</td>\n",
       "      <td>False</td>\n",
       "      <td>None</td>\n",
       "      <td>False</td>\n",
       "      <td>5.0</td>\n",
       "      <td>False</td>\n",
       "      <td>1.000000</td>\n",
       "      <td>0.0</td>\n",
       "      <td>0.0</td>\n",
       "      <td>0.0</td>\n",
       "      <td>0.0</td>\n",
       "      <td>1.0</td>\n",
       "      <td>None</td>\n",
       "      <td>None</td>\n",
       "      <td>1.890000e+10</td>\n",
       "      <td>-1.000000e+00</td>\n",
       "      <td>1.890000e+10</td>\n",
       "      <td>-1.000000e+00</td>\n",
       "      <td>1.890000e+10</td>\n",
       "      <td>0.000000e+00</td>\n",
       "      <td>None</td>\n",
       "      <td>16033.0</td>\n",
       "      <td>1.0</td>\n",
       "      <td>1.0</td>\n",
       "      <td>False</td>\n",
       "      <td>True</td>\n",
       "      <td>3.0</td>\n",
       "      <td>0.0</td>\n",
       "    </tr>\n",
       "    <tr>\n",
       "      <th>1714</th>\n",
       "      <td>Ao so mi</td>\n",
       "      <td>Áo Sơ Mi Đũi ASMB2 cổ tàu kẻ sọc, áo thời trang nam</td>\n",
       "      <td>Hà Nội</td>\n",
       "      <td>1.542685e+09</td>\n",
       "      <td>1.609949e+09</td>\n",
       "      <td>67264586.0</td>\n",
       "      <td>True</td>\n",
       "      <td>33%</td>\n",
       "      <td>False</td>\n",
       "      <td>12.0</td>\n",
       "      <td>False</td>\n",
       "      <td>4.000000</td>\n",
       "      <td>5.0</td>\n",
       "      <td>1.0</td>\n",
       "      <td>0.0</td>\n",
       "      <td>1.0</td>\n",
       "      <td>1.0</td>\n",
       "      <td>None</td>\n",
       "      <td>None</td>\n",
       "      <td>1.200000e+10</td>\n",
       "      <td>1.800000e+10</td>\n",
       "      <td>1.200000e+10</td>\n",
       "      <td>1.800000e+10</td>\n",
       "      <td>1.200000e+10</td>\n",
       "      <td>1.800000e+10</td>\n",
       "      <td>None</td>\n",
       "      <td>10.0</td>\n",
       "      <td>9.0</td>\n",
       "      <td>8.0</td>\n",
       "      <td>False</td>\n",
       "      <td>True</td>\n",
       "      <td>9.0</td>\n",
       "      <td>1.0</td>\n",
       "    </tr>\n",
       "  </tbody>\n",
       "</table>\n",
       "<p>3662 rows × 33 columns</p>\n",
       "</div>"
      ],
      "text/plain": [
       "                  category                                                                                                              name    shop_location  item_public_time  item_be_got_time   sell_time shopee_verified discount is_adult  options show_official_shop_label_in_title  rating_star  five_star  four_star  three_star  two_star  one_star flash_sale upcoming_flash_sale     price_min  price_min_before_discount     price_max  price_max_before_discount         price  price_before_discount coin_earn_label  liked_count  view_count  cmt_count is_preferred_plus_seller show_free_shipping  images  video_info_list\n",
       "2805         Balo/ Tui/ Vi                                                                         Balo Thời Trang Nam Da Bò Cao Cấp C435185  TP. Hồ Chí Minh      1.574132e+09      1.609994e+09  35862920.0           False     None    False      1.0                             False     0.000000        0.0        0.0         0.0       0.0       0.0       None                None  1.500000e+11              -1.000000e+00  1.500000e+11              -1.000000e+00  1.500000e+11           0.000000e+00            None          1.0         0.0        0.0                    False              False     9.0              0.0\n",
       "1112              Ao so mi                                                      [bigsize < 120kg] Áo sơ mi thời trang nam tay dài bigsize  TP. Hồ Chí Minh      1.609129e+09      1.609949e+09    820524.0            True     None    False     30.0                             False     5.000000        1.0        0.0         0.0       0.0       0.0       None                None  2.000000e+10              -1.000000e+00  2.000000e+10              -1.000000e+00  2.000000e+10           0.000000e+00            None          4.0       394.0        1.0                     True              False     9.0              0.0\n",
       "3818          Giay dep nam                         [🎁 Hàng có sẵn - Free ship đơn 250k 🎁 ] Dép nam, dép lê thời trang nam Đen 2 loại cực hót           Hà Nội      1.566321e+09      1.609917e+09  43596067.0            True      46%    False     10.0                             False     5.000000        3.0        0.0         0.0       0.0       0.0       None                None  6.900000e+09               1.280000e+10  9.500000e+09               1.280000e+10  6.900000e+09           1.280000e+10            None       1122.0        57.0        3.0                    False              False     7.0              0.0\n",
       "667   Ao ngan tay khong co                                                     Áo Thun Thể Thao Cổ Tròn Ngắn Tay Thời Trang Nam 2020 Atsq071       Nước ngoài      1.590332e+09      1.609949e+09  19617446.0           False       5%    False     18.0                             False     0.000000        0.0        0.0         0.0       0.0       0.0       None                None  6.507000e+10               6.841000e+10  6.507000e+10               6.841000e+10  6.507000e+10           6.841000e+10            None          0.0         0.0        0.0                    False              False     9.0              0.0\n",
       "4431          Phu kien Nam                                                                       Mũ Lưỡi Trai Thêu Chữ Lvinmw Thời Trang Nam       Nước ngoài      1.602765e+09      1.609910e+09   7145100.0           False      50%    False      5.0                             False     0.000000        0.0        0.0         0.0       0.0       0.0       None                None  2.325000e+10               4.626000e+10  2.325000e+10               4.626000e+10  2.325000e+10           4.626000e+10            None          0.0         0.0        0.0                    False              False     6.0              0.0\n",
       "...                    ...                                                                                                               ...              ...               ...               ...         ...             ...      ...      ...      ...                               ...          ...        ...        ...         ...       ...       ...        ...                 ...           ...                        ...           ...                        ...           ...                    ...             ...          ...         ...        ...                      ...                ...     ...              ...\n",
       "5128                  Quan                                                         Quần jogger thời trang nam màu đen dạo phố du lịch - QJ03           Hà Nội      1.597916e+09      1.609992e+09  12075617.0           False      27%    False      4.0                             False     0.000000        0.0        0.0         0.0       0.0       0.0       None                None  7.957000e+09               1.090000e+10  7.957000e+09               1.090000e+10  7.957000e+09           1.090000e+10            None          0.0         3.0        0.0                    False              False     4.0              0.0\n",
       "3982          Phu kien Nam                                                          Nón Lưỡi Trai 🥇Freeship🥇 Mũ Nam Dài Đuôi Thời Trang UCOM           Hà Nội      1.569303e+09      1.609910e+09  40607869.0           False      44%    False      1.0                             False     4.823529       31.0        2.0         0.0       0.0       1.0       None                None  5.500000e+09               9.900000e+09  5.500000e+09               9.900000e+09  5.500000e+09           9.900000e+09            None       1202.0       249.0       34.0                    False               True     4.0              0.0\n",
       "3184          Giay dep nam  (HOT) Dép quai ngang nam dép đúc cao su siêu nhẹ A28 (03 màu) dép ulzzang nam dép nam dép nam dép thời trang nam           Hà Nội      1.592549e+09      1.609917e+09  17368476.0           False      50%    False     12.0                             False     0.000000        0.0        0.0         0.0       0.0       0.0       None                None  1.750000e+10               3.500000e+10  1.750000e+10               3.500000e+10  1.750000e+10           3.500000e+10            None       1817.0      1873.0        0.0                    False              False     9.0              0.0\n",
       "3277          Giay dep nam                                                                                   Giày Da Nam Thơi Trang NĂM 2019           Hà Nội      1.537898e+09      1.609917e+09  72019616.0           False     None    False      5.0                             False     1.000000        0.0        0.0         0.0       0.0       1.0       None                None  1.890000e+10              -1.000000e+00  1.890000e+10              -1.000000e+00  1.890000e+10           0.000000e+00            None      16033.0         1.0        1.0                    False               True     3.0              0.0\n",
       "1714              Ao so mi                                                               Áo Sơ Mi Đũi ASMB2 cổ tàu kẻ sọc, áo thời trang nam           Hà Nội      1.542685e+09      1.609949e+09  67264586.0            True      33%    False     12.0                             False     4.000000        5.0        1.0         0.0       1.0       1.0       None                None  1.200000e+10               1.800000e+10  1.200000e+10               1.800000e+10  1.200000e+10           1.800000e+10            None         10.0         9.0        8.0                    False               True     9.0              1.0\n",
       "\n",
       "[3662 rows x 33 columns]"
      ]
     },
     "execution_count": 25,
     "metadata": {},
     "output_type": "execute_result"
    }
   ],
   "source": [
    "train_X_df"
   ]
  },
  {
   "cell_type": "markdown",
   "metadata": {},
   "source": [
    "### 1. Kiểm tra kiểu dữ liệu của input có phù hợp"
   ]
  },
  {
   "cell_type": "code",
   "execution_count": 26,
   "metadata": {},
   "outputs": [
    {
     "data": {
      "text/plain": [
       "category                              object\n",
       "name                                  object\n",
       "shop_location                         object\n",
       "item_public_time                     float64\n",
       "item_be_got_time                     float64\n",
       "sell_time                            float64\n",
       "shopee_verified                       object\n",
       "discount                              object\n",
       "is_adult                              object\n",
       "options                              float64\n",
       "show_official_shop_label_in_title     object\n",
       "rating_star                          float64\n",
       "five_star                            float64\n",
       "four_star                            float64\n",
       "three_star                           float64\n",
       "two_star                             float64\n",
       "one_star                             float64\n",
       "flash_sale                            object\n",
       "upcoming_flash_sale                   object\n",
       "price_min                            float64\n",
       "price_min_before_discount            float64\n",
       "price_max                            float64\n",
       "price_max_before_discount            float64\n",
       "price                                float64\n",
       "price_before_discount                float64\n",
       "coin_earn_label                       object\n",
       "liked_count                          float64\n",
       "view_count                           float64\n",
       "cmt_count                            float64\n",
       "is_preferred_plus_seller              object\n",
       "show_free_shipping                    object\n",
       "images                               float64\n",
       "video_info_list                      float64\n",
       "dtype: object"
      ]
     },
     "execution_count": 26,
     "metadata": {},
     "output_type": "execute_result"
    }
   ],
   "source": [
    "train_X_df.dtypes"
   ]
  },
  {
   "cell_type": "markdown",
   "metadata": {},
   "source": [
    "Ta nhận thấy thuộc tính `discount` có kiểu dữ liệu không phù hợp, đáng lẽ phải ở dạng số. Ta hãy kiểm tra xem `discount` giữ những giá trị gì?"
   ]
  },
  {
   "cell_type": "code",
   "execution_count": 27,
   "metadata": {},
   "outputs": [
    {
     "data": {
      "text/plain": [
       "array(['None', '46%', '5%', '50%', '23%', '43%', '19%', '30%', '38%',\n",
       "       '40%', '49%', '35%', '25%', '8%', '20%', '45%', '27%', '48%',\n",
       "       '21%', '1%', '36%', '47%', '10%', '24%', '44%', '26%', '42%',\n",
       "       '18%', '29%', '32%', '17%', '41%', '56%', '28%', '2%', '37%',\n",
       "       '15%', '39%', '13%', '34%', '22%', '33%', '31%', '6%', '9%', '16%',\n",
       "       '14%', '12%', '7%', '3%', '11%', '87%', '51%', '61%', '4%'],\n",
       "      dtype=object)"
      ]
     },
     "execution_count": 27,
     "metadata": {},
     "output_type": "execute_result"
    }
   ],
   "source": [
    "train_X_df['discount'].unique()"
   ]
  },
  {
   "cell_type": "markdown",
   "metadata": {},
   "source": [
    "### 2. Phân bố giá trị của cột có kiểu dữ liệu dạng số\n",
    "\n",
    "- Tỉ lệ % (từ 0 đến 100) các giá trị thiếu \n",
    "- Giá trị min\n",
    "- Giá trị lower quartile (phân vị 25)\n",
    "- Giá trị median (phân vị 50)\n",
    "- Giá trị upper quartile (phân vị 75)\n",
    "- Giá trị max\n",
    "\n",
    "Kết quả được lưu vào DataFrame `num_col_info_df`, trong đó: \n",
    "- Tên của các cột là tên của các cột số trong `train_X_df`\n",
    "- Tên của các dòng là: \"missing_ratio\", \"min\", \"lower_quartile\", \"median\", \"upper_quartile\", \"max\" "
   ]
  },
  {
   "cell_type": "code",
   "execution_count": 28,
   "metadata": {},
   "outputs": [],
   "source": [
    "num_cols = ['item_public_time','item_be_got_time', 'sell_time', 'discount', \n",
    "            'options', 'rating_star' ,'five_star', 'four_star', 'three_star', \n",
    "            'two_star' ,'one_star' ,'price_min_before_discount', 'price_max', 'price_min', \n",
    "            'price_max_before_discount', 'price', 'price_before_discount', \n",
    "            'liked_count', 'view_count', 'cmt_count','images', 'video_info_list']\n",
    "cat_cols = list(set(train_X_df.columns) - set(num_cols))"
   ]
  },
  {
   "cell_type": "code",
   "execution_count": 29,
   "metadata": {},
   "outputs": [
    {
     "data": {
      "text/html": [
       "<div>\n",
       "<style scoped>\n",
       "    .dataframe tbody tr th:only-of-type {\n",
       "        vertical-align: middle;\n",
       "    }\n",
       "\n",
       "    .dataframe tbody tr th {\n",
       "        vertical-align: top;\n",
       "    }\n",
       "\n",
       "    .dataframe thead th {\n",
       "        text-align: right;\n",
       "    }\n",
       "</style>\n",
       "<table border=\"1\" class=\"dataframe\">\n",
       "  <thead>\n",
       "    <tr style=\"text-align: right;\">\n",
       "      <th></th>\n",
       "      <th>item_public_time</th>\n",
       "      <th>item_be_got_time</th>\n",
       "      <th>sell_time</th>\n",
       "      <th>discount</th>\n",
       "      <th>options</th>\n",
       "      <th>rating_star</th>\n",
       "      <th>five_star</th>\n",
       "      <th>four_star</th>\n",
       "      <th>three_star</th>\n",
       "      <th>two_star</th>\n",
       "      <th>one_star</th>\n",
       "      <th>price_min_before_discount</th>\n",
       "      <th>price_max</th>\n",
       "      <th>price_min</th>\n",
       "      <th>price_max_before_discount</th>\n",
       "      <th>price</th>\n",
       "      <th>price_before_discount</th>\n",
       "      <th>liked_count</th>\n",
       "      <th>view_count</th>\n",
       "      <th>cmt_count</th>\n",
       "      <th>images</th>\n",
       "      <th>video_info_list</th>\n",
       "    </tr>\n",
       "  </thead>\n",
       "  <tbody>\n",
       "    <tr>\n",
       "      <th>missing_ratio</th>\n",
       "      <td>0.000000e+00</td>\n",
       "      <td>0.000000e+00</td>\n",
       "      <td>0.0</td>\n",
       "      <td>0</td>\n",
       "      <td>0.0</td>\n",
       "      <td>0.0</td>\n",
       "      <td>0.0</td>\n",
       "      <td>0.0</td>\n",
       "      <td>0.0</td>\n",
       "      <td>0.0</td>\n",
       "      <td>0.0</td>\n",
       "      <td>0.000000e+00</td>\n",
       "      <td>0.000000e+00</td>\n",
       "      <td>0.000000e+00</td>\n",
       "      <td>0.000000e+00</td>\n",
       "      <td>0.000000e+00</td>\n",
       "      <td>0.000000e+00</td>\n",
       "      <td>0.0</td>\n",
       "      <td>0.0</td>\n",
       "      <td>0.0</td>\n",
       "      <td>0.0</td>\n",
       "      <td>0.0</td>\n",
       "    </tr>\n",
       "    <tr>\n",
       "      <th>min</th>\n",
       "      <td>1.475427e+09</td>\n",
       "      <td>1.609910e+09</td>\n",
       "      <td>54304.0</td>\n",
       "      <td>1%</td>\n",
       "      <td>0.0</td>\n",
       "      <td>0.0</td>\n",
       "      <td>0.0</td>\n",
       "      <td>0.0</td>\n",
       "      <td>0.0</td>\n",
       "      <td>0.0</td>\n",
       "      <td>0.0</td>\n",
       "      <td>-1.000000e+00</td>\n",
       "      <td>3.900000e+08</td>\n",
       "      <td>3.900000e+08</td>\n",
       "      <td>-1.000000e+00</td>\n",
       "      <td>3.900000e+08</td>\n",
       "      <td>0.000000e+00</td>\n",
       "      <td>0.0</td>\n",
       "      <td>0.0</td>\n",
       "      <td>0.0</td>\n",
       "      <td>1.0</td>\n",
       "      <td>0.0</td>\n",
       "    </tr>\n",
       "    <tr>\n",
       "      <th>lower_quartile</th>\n",
       "      <td>1.581412e+09</td>\n",
       "      <td>1.609917e+09</td>\n",
       "      <td>4288900.2</td>\n",
       "      <td>NaN</td>\n",
       "      <td>3.0</td>\n",
       "      <td>0.0</td>\n",
       "      <td>0.0</td>\n",
       "      <td>0.0</td>\n",
       "      <td>0.0</td>\n",
       "      <td>0.0</td>\n",
       "      <td>0.0</td>\n",
       "      <td>-1.000000e+00</td>\n",
       "      <td>9.900000e+09</td>\n",
       "      <td>9.900000e+09</td>\n",
       "      <td>-1.000000e+00</td>\n",
       "      <td>9.900000e+09</td>\n",
       "      <td>0.000000e+00</td>\n",
       "      <td>0.0</td>\n",
       "      <td>0.0</td>\n",
       "      <td>0.0</td>\n",
       "      <td>5.0</td>\n",
       "      <td>0.0</td>\n",
       "    </tr>\n",
       "    <tr>\n",
       "      <th>median</th>\n",
       "      <td>1.597216e+09</td>\n",
       "      <td>1.609949e+09</td>\n",
       "      <td>12736797.5</td>\n",
       "      <td>NaN</td>\n",
       "      <td>7.0</td>\n",
       "      <td>0.0</td>\n",
       "      <td>0.0</td>\n",
       "      <td>0.0</td>\n",
       "      <td>0.0</td>\n",
       "      <td>0.0</td>\n",
       "      <td>0.0</td>\n",
       "      <td>6.100000e+09</td>\n",
       "      <td>1.700000e+10</td>\n",
       "      <td>1.665155e+10</td>\n",
       "      <td>6.950000e+09</td>\n",
       "      <td>1.665155e+10</td>\n",
       "      <td>6.100000e+09</td>\n",
       "      <td>0.0</td>\n",
       "      <td>0.0</td>\n",
       "      <td>0.0</td>\n",
       "      <td>8.0</td>\n",
       "      <td>0.0</td>\n",
       "    </tr>\n",
       "    <tr>\n",
       "      <th>upper_quartile</th>\n",
       "      <td>1.605629e+09</td>\n",
       "      <td>1.609992e+09</td>\n",
       "      <td>28529687.5</td>\n",
       "      <td>NaN</td>\n",
       "      <td>15.0</td>\n",
       "      <td>4.7</td>\n",
       "      <td>1.0</td>\n",
       "      <td>0.0</td>\n",
       "      <td>0.0</td>\n",
       "      <td>0.0</td>\n",
       "      <td>0.0</td>\n",
       "      <td>2.500000e+10</td>\n",
       "      <td>2.939500e+10</td>\n",
       "      <td>2.800000e+10</td>\n",
       "      <td>2.518210e+10</td>\n",
       "      <td>2.800000e+10</td>\n",
       "      <td>2.500000e+10</td>\n",
       "      <td>7.0</td>\n",
       "      <td>29.8</td>\n",
       "      <td>1.0</td>\n",
       "      <td>9.0</td>\n",
       "      <td>0.0</td>\n",
       "    </tr>\n",
       "    <tr>\n",
       "      <th>max</th>\n",
       "      <td>1.609856e+09</td>\n",
       "      <td>1.609994e+09</td>\n",
       "      <td>134490475.0</td>\n",
       "      <td>None</td>\n",
       "      <td>75.0</td>\n",
       "      <td>5.0</td>\n",
       "      <td>7257.0</td>\n",
       "      <td>708.0</td>\n",
       "      <td>353.0</td>\n",
       "      <td>144.0</td>\n",
       "      <td>264.0</td>\n",
       "      <td>2.680000e+11</td>\n",
       "      <td>2.469000e+11</td>\n",
       "      <td>2.469000e+11</td>\n",
       "      <td>2.680000e+11</td>\n",
       "      <td>2.469000e+11</td>\n",
       "      <td>2.680000e+11</td>\n",
       "      <td>70382.0</td>\n",
       "      <td>113754.0</td>\n",
       "      <td>8723.0</td>\n",
       "      <td>9.0</td>\n",
       "      <td>1.0</td>\n",
       "    </tr>\n",
       "  </tbody>\n",
       "</table>\n",
       "</div>"
      ],
      "text/plain": [
       "                item_public_time  item_be_got_time    sell_time discount  options  rating_star  five_star  four_star  three_star  two_star  one_star  price_min_before_discount     price_max     price_min  price_max_before_discount         price  price_before_discount  liked_count  view_count  cmt_count  images  video_info_list\n",
       "missing_ratio       0.000000e+00      0.000000e+00          0.0        0      0.0          0.0        0.0        0.0         0.0       0.0       0.0               0.000000e+00  0.000000e+00  0.000000e+00               0.000000e+00  0.000000e+00           0.000000e+00          0.0         0.0        0.0     0.0              0.0\n",
       "min                 1.475427e+09      1.609910e+09      54304.0       1%      0.0          0.0        0.0        0.0         0.0       0.0       0.0              -1.000000e+00  3.900000e+08  3.900000e+08              -1.000000e+00  3.900000e+08           0.000000e+00          0.0         0.0        0.0     1.0              0.0\n",
       "lower_quartile      1.581412e+09      1.609917e+09    4288900.2      NaN      3.0          0.0        0.0        0.0         0.0       0.0       0.0              -1.000000e+00  9.900000e+09  9.900000e+09              -1.000000e+00  9.900000e+09           0.000000e+00          0.0         0.0        0.0     5.0              0.0\n",
       "median              1.597216e+09      1.609949e+09   12736797.5      NaN      7.0          0.0        0.0        0.0         0.0       0.0       0.0               6.100000e+09  1.700000e+10  1.665155e+10               6.950000e+09  1.665155e+10           6.100000e+09          0.0         0.0        0.0     8.0              0.0\n",
       "upper_quartile      1.605629e+09      1.609992e+09   28529687.5      NaN     15.0          4.7        1.0        0.0         0.0       0.0       0.0               2.500000e+10  2.939500e+10  2.800000e+10               2.518210e+10  2.800000e+10           2.500000e+10          7.0        29.8        1.0     9.0              0.0\n",
       "max                 1.609856e+09      1.609994e+09  134490475.0     None     75.0          5.0     7257.0      708.0       353.0     144.0     264.0               2.680000e+11  2.469000e+11  2.469000e+11               2.680000e+11  2.469000e+11           2.680000e+11      70382.0    113754.0     8723.0     9.0              1.0"
      ]
     },
     "execution_count": 29,
     "metadata": {},
     "output_type": "execute_result"
    }
   ],
   "source": [
    "def missing_ratio(df):\n",
    "    return (df.isna().mean() * 100).round(1)\n",
    "def lower_quartile(df):\n",
    "    return df.quantile(0.25)\n",
    "def median(df):\n",
    "    return df.quantile(0.5)\n",
    "def upper_quartile(df):\n",
    "    return df.quantile(0.75)\n",
    "df = train_X_df[num_cols]\n",
    "num_col_info_df = df.agg([missing_ratio, min, lower_quartile, median, upper_quartile, max]).round(1)\n",
    "num_col_info_df"
   ]
  },
  {
   "cell_type": "markdown",
   "metadata": {},
   "source": [
    "### 3. Phân bố giá trị của cột có kiểu dữ liệu không phải dạng số\n",
    "\n",
    "- Tỉ lệ % (từ 0 đến 100) các giá trị thiếu \n",
    "\n",
    "- Số lượng các giá trị (các giá trị ở đây là các giá trị khác nhau và ta không xét giá trị thiếu)\n",
    "\n",
    "- Tỉ lệ % (từ 0 đến 100) của mỗi giá trị được sort theo tỉ lệ % giảm dần (ta không xét giá trị thiếu, tỉ lệ là tỉ lệ so với số lượng các giá trị không thiếu): dùng dictionary để lưu, key là giá trị, value là tỉ lệ %\n",
    "\n",
    "Kết quả được lưu vào DataFrame `cat_col_info_df`, trong đó: \n",
    "\n",
    "- Tên của các cột là tên của các cột không phải số trong `train_X_df`\n",
    "- Tên của các dòng là: \"missing_ratio\", \"num_values\", \"value_ratios\"  "
   ]
  },
  {
   "cell_type": "code",
   "execution_count": 30,
   "metadata": {},
   "outputs": [
    {
     "data": {
      "text/html": [
       "<div>\n",
       "<style scoped>\n",
       "    .dataframe tbody tr th:only-of-type {\n",
       "        vertical-align: middle;\n",
       "    }\n",
       "\n",
       "    .dataframe tbody tr th {\n",
       "        vertical-align: top;\n",
       "    }\n",
       "\n",
       "    .dataframe thead th {\n",
       "        text-align: right;\n",
       "    }\n",
       "</style>\n",
       "<table border=\"1\" class=\"dataframe\">\n",
       "  <thead>\n",
       "    <tr style=\"text-align: right;\">\n",
       "      <th></th>\n",
       "      <th>shop_location</th>\n",
       "      <th>upcoming_flash_sale</th>\n",
       "      <th>name</th>\n",
       "      <th>show_official_shop_label_in_title</th>\n",
       "      <th>flash_sale</th>\n",
       "      <th>category</th>\n",
       "      <th>shopee_verified</th>\n",
       "      <th>coin_earn_label</th>\n",
       "      <th>is_adult</th>\n",
       "      <th>is_preferred_plus_seller</th>\n",
       "      <th>show_free_shipping</th>\n",
       "    </tr>\n",
       "  </thead>\n",
       "  <tbody>\n",
       "    <tr>\n",
       "      <th>missing_ratio</th>\n",
       "      <td>0</td>\n",
       "      <td>0</td>\n",
       "      <td>0</td>\n",
       "      <td>0</td>\n",
       "      <td>0</td>\n",
       "      <td>0</td>\n",
       "      <td>0</td>\n",
       "      <td>0</td>\n",
       "      <td>0</td>\n",
       "      <td>0</td>\n",
       "      <td>0</td>\n",
       "    </tr>\n",
       "    <tr>\n",
       "      <th>num_values</th>\n",
       "      <td>42</td>\n",
       "      <td>1</td>\n",
       "      <td>2977</td>\n",
       "      <td>5</td>\n",
       "      <td>1</td>\n",
       "      <td>6</td>\n",
       "      <td>2</td>\n",
       "      <td>1</td>\n",
       "      <td>3</td>\n",
       "      <td>2</td>\n",
       "      <td>2</td>\n",
       "    </tr>\n",
       "    <tr>\n",
       "      <th>value_ratios</th>\n",
       "      <td>{'Hà Nội': 37.7, 'Nước ngoài': 35.3, 'TP. Hồ Chí Minh': 19.2, 'None': 1.0, 'Hải Dương': 0.7, 'Bình Dương': 0.6, 'Bình Định': 0.6, 'Hưng Yên': 0.5, 'Quảng Ninh': 0.5, 'Đồng Nai': 0.4, 'Hà Nam': 0.4, 'Khánh Hòa': 0.3, 'Bình Thuận': 0.2, 'Hải Phòng': 0.2, 'Thái Bình': 0.2, 'Ninh Bình': 0.2, 'Bắc Ninh': 0.2, 'Phú Thọ': 0.2, 'Lào Cai': 0.1, 'Thái Nguyên': 0.1, 'Đà Nẵng': 0.1, 'Thừa Thiên Huế': 0.1, 'Hòa Bình': 0.1, 'Bắc Kạn': 0.1, 'Lâm Đồng': 0.1, 'Lạng Sơn': 0.1, 'Đồng Tháp': 0.1, 'Thanh Hóa': 0.1, 'Bắc Giang': 0.1, 'Đắk Lắk': 0.1, 'Nghệ An': 0.1, 'Tiền Giang': 0.1, 'Vĩnh Phúc': 0.1, 'Nam Định': 0.1, 'Cần Thơ': 0.1, 'Kon Tum': 0.1, 'Vĩnh Long': 0.0, 'Phú Yên': 0.0, 'Hà Tĩnh': 0.0, 'Ninh Thuận': 0.0, 'Sóc Trăng': 0.0, 'Bà Rịa - Vũng Tàu': 0.0}</td>\n",
       "      <td>{'None': 100.0}</td>\n",
       "      <td>{'Áo Khoác Sơ Mi Caro Thời Trang Nam': 2.3, 'Túi Đeo Chéo Chống Nước Thời Trang Nam': 1.0, 'Túi Đeo Chéo Thời Trang Nam': 0.8, 'Quần Dài Ống Đứng Thời Trang Nam': 0.5, 'Mũ Lưỡi Trai Thời Trang Nam': 0.5, 'Áo Sơ Mi Caro Dài Tay Thời Trang Nam': 0.4, 'Áo Thun Tay Ngắn In Chữ Trẻ Trung Thời Trang Nam': 0.4, 'Quần Jeans Dài Phối Vết Rách Cá Tính Thời Trang Nam': 0.4, 'Áo Sơ Mi Caro Ngắn Tay Thời Trang Nam': 0.4, 'Quần tây nam vải co giãn ống côn ĐẲNG CẤP thời trang nam': 0.3, 'Quần Jean Rách Thời Trang Nam': 0.3, 'Mũ nón lưỡi trai nam Ediko thời trang nam': 0.2, 'Mũ Len Kèm Khăn Choàng Cổ Giữ Ấm Thời Trang Nam': 0.2, 'Áo Sơ Mi Tay Dài Kẻ Sọc Vuông Trẻ Trung Thời Trang Nam': 0.2, 'Quần Ngắn Lưng Thun Thời Trang Nam': 0.2, '🔥Áo Game🔥Áo Call of Duty Mobile cực đẹp giá rẻ HOT nhất thời trang nam': 0.2, 'Thắt Lưng Da Thời Trang Nam Lịch Lãm': 0.2, 'Áo Khoác Sơ Mi Caro Thời Trang Nam Retro': 0.2, 'Túi Xách Đeo Chéo Thời Trang Nam': 0.2, 'Mũ Lưỡi Trai Chống Nắng Thời Trang Nam': 0.2, 'Giày Nam Thể Thao Thời Trang Nam bền đẹp giá rẻ': 0.2, 'Áo Thun Tay Ngắn In Hình Trẻ Trung Thời Trang Nam': 0.2, 'Quần Dài Lưng Thun Thời Trang Nam': 0.2, 'Balo thời trang nam ❣️freship❣️ balo gucci': 0.2, 'Quần Dài Có Túi Thời Trang Nam Năng Động': 0.2, 'Áo Sơ Mi Tay Dài Kẻ Sọc Trẻ Trung Thời Trang Nam': 0.2, 'Nón Kết Phối Lưới Thời Trang Nam': 0.2, 'Mũ Lưỡi Trai Thêu Chữ Thời Trang Nam': 0.1, 'Quần Short Jean Rách Thời Trang Nam': 0.1, '(HOT) Dép quai ngang nam dép đúc cao su siêu nhẹ A22 (02 màu) dép ulzzang nam dép nam dép nam dép thời trang nam': 0.1, '🔥HOT🔥 áo phông ACE in hình đẹp ⚡ FREESHIP ⚡Áo thun ONEPIECE đẹp giá rẻ thời trang nam /uy tín chất lượng': 0.1, '(FREESHIP) [freeship] Giày lười da nam cao cấp,Thời trang nam .': 0.1, 'Giày da thời trang nam phong cách lịch lãm . 2020 new': 0.1, 'Giày sneaker nam giày thể thao nam D529 màu đen trắng giày chạy bộ nam giày thời trang nam': 0.1, 'Túi Da Đeo Chéo Thời Trang Nam': 0.1, 'Túi Đeo Chéo Thời Trang Nam 2020': 0.1, 'Áo Khoác Len Không Tay Cổ Chữ V Thời Trang Nam Trung Niên': 0.1, 'Mũ Lưỡi Trai Giữ Ấm Thời Trang Nam': 0.1, 'Mũ Lưỡi Trai Thời Trang Nam 2018': 0.1, 'Giày sneaker nam giày thể thao nam F35 (04 màu) giày chạy bộ nam giày thời trang nam': 0.1, 'Mũ(nón) thời trang Nam.': 0.1, 'Giày Thể Thao Vải Lụa Lạnh Phối Lưới Thời Trang Nam Năng Động': 0.1, '[LIMITED+FULLBOX] #AMMY - Giày Nam DIOR Cao Cấp - GIÀY GUCCI thời trang Nam Sneaker-Đế Bệt 2cm-Khử Mùi Hôi-Mẫu Độc Quyền': 0.1, 'Mũ Lưỡi Trai Denim Thời Trang Nam': 0.1, 'Giày sneaker nam giày thể thao nam D529 màu đen full giày chạy bộ nam giày thời trang nam': 0.1, 'Quần Dài Thể Thao Dây Rút Trẻ Trung Thời Trang Nam': 0.1, '[bigsize - sỉ] Áo sơ mi thời trang nam tay dài bigsize': 0.1, 'Quần Jean Dài Thời Trang Nam': 0.1, 'Áo Sơ Mi Thời Trang Nam Chống Nhăn': 0.1, '🔥HOT🔥 áo phông unisex in hình đẹp ⚡ FREESHIP ⚡Áo thun ZORO đẹp giá rẻ thời trang nam /uy tín chất lượng': 0.1, 'Mũ Lưỡi Trai Thời Trang Nam 2020': 0.1, 'Quần Ngắn Lưng Thun Thời Trang Nam 2020': 0.1, 'Áo sơ mi hoa ngắn tay phong cách Hawaii thời trang nam': 0.1, '🔥HOT🔥 áo Naruto in hình đẹp ⚡Áo phông Itachi Sasuke đẹp giá rẻ thời trang nam': 0.1, '⚡ FREESHIP ⚡Áo in biểu tượng Messi đẹp giá rẻ thời trang nam sỉ toàn quốc /uy tín chất lượng': 0.1, '🔥HOT🔥 áo Free Fire in hình đẹp ⚡ FREESHIP ⚡Áo game Free Fire đẹp giá rẻ thời trang nam /uy tín chất lượng': 0.1, '(Hàng sịn ) Quần Âu Nam Đẹp KOREA vải mịn co dãn màu ghi nhạt, ghi đậm, đen, xanh đen [Thời trang nam]': 0.1, 'Đôi Tất Chân Giữ Ấm Thời Trang Nam': 0.1, 'Giày Lười Canvas Thời Trang Nam': 0.1, 'Túi xách thời trang nam': 0.1, '🔥HOT🔥 áo phông unisex in hình đẹp ⚡ FREESHIP ⚡Áo thun ZORO đẹp giá rẻ thời trang nam': 0.1, '🔥SALE SỐC🔥 🔥HOT🔥 ⚡ Rẻ vô địch ⚡Áo thun Mini World - áo Hero team đẹp giá rẻ thời trang nam': 0.1, 'Túi Vải Đeo Chéo Thời Trang Nam': 0.1, 'Mũ Len Giữ Ấm Thời Trang Nam': 0.1, '⚡Rẻ vô đich ⚡Áo thun unisex | áo in hình chữ Tàu thời trang nam đẹp giá rẻ': 0.1, 'Giày sneaker thời trang nam cao cấp 2018-GTTB13': 0.1, 'Áo sơ mi đũi NPV thời trang nam,áo sơ mi nam cao cấp phong cách nam tính 3 màu': 0.1, 'Giày Thể Thao Phối Lưới Thoáng Khí Thời Trang Nam Năng Động 730': 0.1, '🔥Áo Game🔥Áo Call of Duty Mobile cực đẹp giá rẻ HOT nhất thời trang nam /uy tín chất lượng': 0.1, 'Quần Short Thể Thao Dây Rút Trẻ Trung Thời Trang Nam': 0.1, 'Áo Khoác Len Không Tay Cổ V Thời Trang Nam Trung Niên': 0.1, 'Áo Sơ Mi Caro Có Nón Thời Trang Nam': 0.1, 'Áo Naruto🔥HOT🔥 áo phông Naruto Akatsuki đẹp giá rẻ thời trang nam': 0.1, 'Quần Lót Boxer Vải Lụa Lạnh Thoáng Khí Thời Trang Nam Cao Cấp': 0.1, 'Áo Sơ Mi Ca Rô Dài Tay Cổ Bẻ Thời Trang Nam': 0.1, 'Áo Sơ Mi Nam trắng dài tay Hàn Quốc form body, vải lụa Thái chống nhăn [Thời Trang Nam]': 0.1, 'Mũ Lưỡi Trai Phối Lưới Thời Trang Nam': 0.1, '⚡ FREESHIP ⚡Áo in biểu tượng Messi đẹp giá rẻ thời trang nam sỉ toàn quốc': 0.1, 'Mũ Len Trùm Đầu Giữ Ấm Thời Trang Nam': 0.1, 'Áo Thun Tay Ngắn In Chữ Trẻ Trung Thời Trang Nam 2020': 0.1, '🔥HOT🔥 áo Monkey.D.Luffy đẹp ⚡ FREESHIP ⚡Áo thun One Piece đẹp giá rẻ thời trang nam': 0.1, 'Áo Sơ Mi Ngắn Tay Thời Trang Nam Lịch Lãm': 0.1, '🔥HOT🔥 áo phông Re:zero in hình đẹp ⚡ FREESHIP ⚡Áo Anime đẹp giá rẻ thời trang nam': 0.1, 'Quần tây âu (2 Màu ĐEN  XANH) Nam Nữ Unisex [Thời trang nam]': 0.1, '🔥HOT🔥 áo phông One Piece ⚡ FREESHIP ⚡Áo in hình Portgas D Ace đẹp giá rẻ thời trang nam': 0.1, 'Quần âu nam đẹp dáng ôm vải co giãn phong cách thời trang nam hàn quốc': 0.1, 'Ví Da Cầm Tay Khóa Kéo Thời Trang Nam': 0.1, 'Áo thời trang nam BBR': 0.1, 'Túi Da Cầm Tay Thời Trang Nam Lịch Lãm': 0.1, 'Găng Tay Da Pu Giữ Ấm Thời Trang Nam': 0.1, 'Nón Kết Thêu Chữ Thời Trang Nam': 0.1, 'Giày sneaker nam giày thể thao nam A29 (04 màu) giày ulzzang giày thời trang nam giày tập gym nam giày chạy bộ nam': 0.1, 'Mũ Lưỡi Trai hàn quốc Reclusive ❤️ Nón Lưỡi Trai Thời trang ❤️ Nón Kết nam nữ đẹp': 0.1, 'Mũ Beanie Giả Lông Giữ Ấm Thời Trang Nam': 0.1, 'Giày sneaker nam giày thể thao nam D529 màu xanh rêu giày chạy bộ nam giày thời trang nam': 0.1, 'Giày cổ cao thời trang nam TARANTO TRT-GBN-03-DT (Màu đen trắng)': 0.1, 'Áo sơ mi nam dài tay Hàn Quốc vải lụa thái chống nhăn.phong cách thời trang xu hướng thời trang nam 2020tramanh_shopcu27': 0.1, 'Đôi Găng Tay Da Bò Phối Da Thời Trang Nam': 0.1, 'THỜI TRANG DÉP NAM CAO CẤP. SANG TRỌNG VÀ LỊCH LÃM CHO QUÝ ÔNG. HÓT NHẤT NĂM 2021': 0.1, 'HOT SALE- SALE- 🔥Áo Game🔥Áo Call of Duty Mobile cực đẹp giá rẻ HOT nhất thời trang nam -ADT Store - mẫu áo chất': 0.1, ...}</td>\n",
       "      <td>{False: 65.8, 'False': 31.0, True: 1.6, 'None': 1.0, 'True': 0.6}</td>\n",
       "      <td>{'None': 100.0}</td>\n",
       "      <td>{'Ao ngan tay khong co': 17.3, 'Ao so mi': 17.2, 'Giay dep nam': 16.5, 'Quan': 16.4, 'Balo/ Tui/ Vi': 16.4, 'Phu kien Nam': 16.2}</td>\n",
       "      <td>{False: 83.3, True: 16.7}</td>\n",
       "      <td>{'None': 100.0}</td>\n",
       "      <td>{False: 83.8, 'False': 16.2, 'None': 0.0}</td>\n",
       "      <td>{False: 97.5, True: 2.5}</td>\n",
       "      <td>{False: 77.6, True: 22.4}</td>\n",
       "    </tr>\n",
       "  </tbody>\n",
       "</table>\n",
       "</div>"
      ],
      "text/plain": [
       "                                                                                                                                                                                                                                                                                                                                                                                                                                                                                                                                                                                                                                                                                                                                                                              shop_location upcoming_flash_sale  \\\n",
       "missing_ratio                                                                                                                                                                                                                                                                                                                                                                                                                                                                                                                                                                                                                                                                                                                                                                             0                   0   \n",
       "num_values                                                                                                                                                                                                                                                                                                                                                                                                                                                                                                                                                                                                                                                                                                                                                                               42                   1   \n",
       "value_ratios   {'Hà Nội': 37.7, 'Nước ngoài': 35.3, 'TP. Hồ Chí Minh': 19.2, 'None': 1.0, 'Hải Dương': 0.7, 'Bình Dương': 0.6, 'Bình Định': 0.6, 'Hưng Yên': 0.5, 'Quảng Ninh': 0.5, 'Đồng Nai': 0.4, 'Hà Nam': 0.4, 'Khánh Hòa': 0.3, 'Bình Thuận': 0.2, 'Hải Phòng': 0.2, 'Thái Bình': 0.2, 'Ninh Bình': 0.2, 'Bắc Ninh': 0.2, 'Phú Thọ': 0.2, 'Lào Cai': 0.1, 'Thái Nguyên': 0.1, 'Đà Nẵng': 0.1, 'Thừa Thiên Huế': 0.1, 'Hòa Bình': 0.1, 'Bắc Kạn': 0.1, 'Lâm Đồng': 0.1, 'Lạng Sơn': 0.1, 'Đồng Tháp': 0.1, 'Thanh Hóa': 0.1, 'Bắc Giang': 0.1, 'Đắk Lắk': 0.1, 'Nghệ An': 0.1, 'Tiền Giang': 0.1, 'Vĩnh Phúc': 0.1, 'Nam Định': 0.1, 'Cần Thơ': 0.1, 'Kon Tum': 0.1, 'Vĩnh Long': 0.0, 'Phú Yên': 0.0, 'Hà Tĩnh': 0.0, 'Ninh Thuận': 0.0, 'Sóc Trăng': 0.0, 'Bà Rịa - Vũng Tàu': 0.0}     {'None': 100.0}   \n",
       "\n",
       "                                                                                                                                                                                                                                                                                                                                                                                                                                                                                                                                                                                                                                                                                                                                                                                                                                                                                                                                                                                                                                                                                                                                                                                                                                                                                                                                                                                                                                                                                                                                                                                                                                                                                                                                                                                                                                                                                                                                                                                                                                                                                                                                                                                                                                                                                                                                                                                                                                                                                                                                                                                                                                                                                                                                                                                                                                                                                                                                                                                                                                                                                                                                                                                                                                                                                                                                                                                                                                                                                                                                                                                                                                                                                                                                                                                                                                                                                                                                                                                                                                                                                                                                                                                                                                                                                                                                                                                                                                                                                                                                                                                                                                                                                                                                                                                                                                                                                                                                                                                                                                                                                                                                                                                                                                                                                                                                                                                                                                                                                                                                                                                                                                                                                                                                                                                                                                                                                                                                                                                                                                                                                                                                                                                                                                                                                                                                                                                                                                                                                                                                                                                                                                                                                                                                      name  \\\n",
       "missing_ratio                                                                                                                                                                                                                                                                                                                                                                                                                                                                                                                                                                                                                                                                                                                                                                                                                                                                                                                                                                                                                                                                                                                                                                                                                                                                                                                                                                                                                                                                                                                                                                                                                                                                                                                                                                                                                                                                                                                                                                                                                                                                                                                                                                                                                                                                                                                                                                                                                                                                                                                                                                                                                                                                                                                                                                                                                                                                                                                                                                                                                                                                                                                                                                                                                                                                                                                                                                                                                                                                                                                                                                                                                                                                                                                                                                                                                                                                                                                                                                                                                                                                                                                                                                                                                                                                                                                                                                                                                                                                                                                                                                                                                                                                                                                                                                                                                                                                                                                                                                                                                                                                                                                                                                                                                                                                                                                                                                                                                                                                                                                                                                                                                                                                                                                                                                                                                                                                                                                                                                                                                                                                                                                                                                                                                                                                                                                                                                                                                                                                                                                                                                                                                                                                                                                            0   \n",
       "num_values                                                                                                                                                                                                                                                                                                                                                                                                                                                                                                                                                                                                                                                                                                                                                                                                                                                                                                                                                                                                                                                                                                                                                                                                                                                                                                                                                                                                                                                                                                                                                                                                                                                                                                                                                                                                                                                                                                                                                                                                                                                                                                                                                                                                                                                                                                                                                                                                                                                                                                                                                                                                                                                                                                                                                                                                                                                                                                                                                                                                                                                                                                                                                                                                                                                                                                                                                                                                                                                                                                                                                                                                                                                                                                                                                                                                                                                                                                                                                                                                                                                                                                                                                                                                                                                                                                                                                                                                                                                                                                                                                                                                                                                                                                                                                                                                                                                                                                                                                                                                                                                                                                                                                                                                                                                                                                                                                                                                                                                                                                                                                                                                                                                                                                                                                                                                                                                                                                                                                                                                                                                                                                                                                                                                                                                                                                                                                                                                                                                                                                                                                                                                                                                                                                                            2977   \n",
       "value_ratios   {'Áo Khoác Sơ Mi Caro Thời Trang Nam': 2.3, 'Túi Đeo Chéo Chống Nước Thời Trang Nam': 1.0, 'Túi Đeo Chéo Thời Trang Nam': 0.8, 'Quần Dài Ống Đứng Thời Trang Nam': 0.5, 'Mũ Lưỡi Trai Thời Trang Nam': 0.5, 'Áo Sơ Mi Caro Dài Tay Thời Trang Nam': 0.4, 'Áo Thun Tay Ngắn In Chữ Trẻ Trung Thời Trang Nam': 0.4, 'Quần Jeans Dài Phối Vết Rách Cá Tính Thời Trang Nam': 0.4, 'Áo Sơ Mi Caro Ngắn Tay Thời Trang Nam': 0.4, 'Quần tây nam vải co giãn ống côn ĐẲNG CẤP thời trang nam': 0.3, 'Quần Jean Rách Thời Trang Nam': 0.3, 'Mũ nón lưỡi trai nam Ediko thời trang nam': 0.2, 'Mũ Len Kèm Khăn Choàng Cổ Giữ Ấm Thời Trang Nam': 0.2, 'Áo Sơ Mi Tay Dài Kẻ Sọc Vuông Trẻ Trung Thời Trang Nam': 0.2, 'Quần Ngắn Lưng Thun Thời Trang Nam': 0.2, '🔥Áo Game🔥Áo Call of Duty Mobile cực đẹp giá rẻ HOT nhất thời trang nam': 0.2, 'Thắt Lưng Da Thời Trang Nam Lịch Lãm': 0.2, 'Áo Khoác Sơ Mi Caro Thời Trang Nam Retro': 0.2, 'Túi Xách Đeo Chéo Thời Trang Nam': 0.2, 'Mũ Lưỡi Trai Chống Nắng Thời Trang Nam': 0.2, 'Giày Nam Thể Thao Thời Trang Nam bền đẹp giá rẻ': 0.2, 'Áo Thun Tay Ngắn In Hình Trẻ Trung Thời Trang Nam': 0.2, 'Quần Dài Lưng Thun Thời Trang Nam': 0.2, 'Balo thời trang nam ❣️freship❣️ balo gucci': 0.2, 'Quần Dài Có Túi Thời Trang Nam Năng Động': 0.2, 'Áo Sơ Mi Tay Dài Kẻ Sọc Trẻ Trung Thời Trang Nam': 0.2, 'Nón Kết Phối Lưới Thời Trang Nam': 0.2, 'Mũ Lưỡi Trai Thêu Chữ Thời Trang Nam': 0.1, 'Quần Short Jean Rách Thời Trang Nam': 0.1, '(HOT) Dép quai ngang nam dép đúc cao su siêu nhẹ A22 (02 màu) dép ulzzang nam dép nam dép nam dép thời trang nam': 0.1, '🔥HOT🔥 áo phông ACE in hình đẹp ⚡ FREESHIP ⚡Áo thun ONEPIECE đẹp giá rẻ thời trang nam /uy tín chất lượng': 0.1, '(FREESHIP) [freeship] Giày lười da nam cao cấp,Thời trang nam .': 0.1, 'Giày da thời trang nam phong cách lịch lãm . 2020 new': 0.1, 'Giày sneaker nam giày thể thao nam D529 màu đen trắng giày chạy bộ nam giày thời trang nam': 0.1, 'Túi Da Đeo Chéo Thời Trang Nam': 0.1, 'Túi Đeo Chéo Thời Trang Nam 2020': 0.1, 'Áo Khoác Len Không Tay Cổ Chữ V Thời Trang Nam Trung Niên': 0.1, 'Mũ Lưỡi Trai Giữ Ấm Thời Trang Nam': 0.1, 'Mũ Lưỡi Trai Thời Trang Nam 2018': 0.1, 'Giày sneaker nam giày thể thao nam F35 (04 màu) giày chạy bộ nam giày thời trang nam': 0.1, 'Mũ(nón) thời trang Nam.': 0.1, 'Giày Thể Thao Vải Lụa Lạnh Phối Lưới Thời Trang Nam Năng Động': 0.1, '[LIMITED+FULLBOX] #AMMY - Giày Nam DIOR Cao Cấp - GIÀY GUCCI thời trang Nam Sneaker-Đế Bệt 2cm-Khử Mùi Hôi-Mẫu Độc Quyền': 0.1, 'Mũ Lưỡi Trai Denim Thời Trang Nam': 0.1, 'Giày sneaker nam giày thể thao nam D529 màu đen full giày chạy bộ nam giày thời trang nam': 0.1, 'Quần Dài Thể Thao Dây Rút Trẻ Trung Thời Trang Nam': 0.1, '[bigsize - sỉ] Áo sơ mi thời trang nam tay dài bigsize': 0.1, 'Quần Jean Dài Thời Trang Nam': 0.1, 'Áo Sơ Mi Thời Trang Nam Chống Nhăn': 0.1, '🔥HOT🔥 áo phông unisex in hình đẹp ⚡ FREESHIP ⚡Áo thun ZORO đẹp giá rẻ thời trang nam /uy tín chất lượng': 0.1, 'Mũ Lưỡi Trai Thời Trang Nam 2020': 0.1, 'Quần Ngắn Lưng Thun Thời Trang Nam 2020': 0.1, 'Áo sơ mi hoa ngắn tay phong cách Hawaii thời trang nam': 0.1, '🔥HOT🔥 áo Naruto in hình đẹp ⚡Áo phông Itachi Sasuke đẹp giá rẻ thời trang nam': 0.1, '⚡ FREESHIP ⚡Áo in biểu tượng Messi đẹp giá rẻ thời trang nam sỉ toàn quốc /uy tín chất lượng': 0.1, '🔥HOT🔥 áo Free Fire in hình đẹp ⚡ FREESHIP ⚡Áo game Free Fire đẹp giá rẻ thời trang nam /uy tín chất lượng': 0.1, '(Hàng sịn ) Quần Âu Nam Đẹp KOREA vải mịn co dãn màu ghi nhạt, ghi đậm, đen, xanh đen [Thời trang nam]': 0.1, 'Đôi Tất Chân Giữ Ấm Thời Trang Nam': 0.1, 'Giày Lười Canvas Thời Trang Nam': 0.1, 'Túi xách thời trang nam': 0.1, '🔥HOT🔥 áo phông unisex in hình đẹp ⚡ FREESHIP ⚡Áo thun ZORO đẹp giá rẻ thời trang nam': 0.1, '🔥SALE SỐC🔥 🔥HOT🔥 ⚡ Rẻ vô địch ⚡Áo thun Mini World - áo Hero team đẹp giá rẻ thời trang nam': 0.1, 'Túi Vải Đeo Chéo Thời Trang Nam': 0.1, 'Mũ Len Giữ Ấm Thời Trang Nam': 0.1, '⚡Rẻ vô đich ⚡Áo thun unisex | áo in hình chữ Tàu thời trang nam đẹp giá rẻ': 0.1, 'Giày sneaker thời trang nam cao cấp 2018-GTTB13': 0.1, 'Áo sơ mi đũi NPV thời trang nam,áo sơ mi nam cao cấp phong cách nam tính 3 màu': 0.1, 'Giày Thể Thao Phối Lưới Thoáng Khí Thời Trang Nam Năng Động 730': 0.1, '🔥Áo Game🔥Áo Call of Duty Mobile cực đẹp giá rẻ HOT nhất thời trang nam /uy tín chất lượng': 0.1, 'Quần Short Thể Thao Dây Rút Trẻ Trung Thời Trang Nam': 0.1, 'Áo Khoác Len Không Tay Cổ V Thời Trang Nam Trung Niên': 0.1, 'Áo Sơ Mi Caro Có Nón Thời Trang Nam': 0.1, 'Áo Naruto🔥HOT🔥 áo phông Naruto Akatsuki đẹp giá rẻ thời trang nam': 0.1, 'Quần Lót Boxer Vải Lụa Lạnh Thoáng Khí Thời Trang Nam Cao Cấp': 0.1, 'Áo Sơ Mi Ca Rô Dài Tay Cổ Bẻ Thời Trang Nam': 0.1, 'Áo Sơ Mi Nam trắng dài tay Hàn Quốc form body, vải lụa Thái chống nhăn [Thời Trang Nam]': 0.1, 'Mũ Lưỡi Trai Phối Lưới Thời Trang Nam': 0.1, '⚡ FREESHIP ⚡Áo in biểu tượng Messi đẹp giá rẻ thời trang nam sỉ toàn quốc': 0.1, 'Mũ Len Trùm Đầu Giữ Ấm Thời Trang Nam': 0.1, 'Áo Thun Tay Ngắn In Chữ Trẻ Trung Thời Trang Nam 2020': 0.1, '🔥HOT🔥 áo Monkey.D.Luffy đẹp ⚡ FREESHIP ⚡Áo thun One Piece đẹp giá rẻ thời trang nam': 0.1, 'Áo Sơ Mi Ngắn Tay Thời Trang Nam Lịch Lãm': 0.1, '🔥HOT🔥 áo phông Re:zero in hình đẹp ⚡ FREESHIP ⚡Áo Anime đẹp giá rẻ thời trang nam': 0.1, 'Quần tây âu (2 Màu ĐEN  XANH) Nam Nữ Unisex [Thời trang nam]': 0.1, '🔥HOT🔥 áo phông One Piece ⚡ FREESHIP ⚡Áo in hình Portgas D Ace đẹp giá rẻ thời trang nam': 0.1, 'Quần âu nam đẹp dáng ôm vải co giãn phong cách thời trang nam hàn quốc': 0.1, 'Ví Da Cầm Tay Khóa Kéo Thời Trang Nam': 0.1, 'Áo thời trang nam BBR': 0.1, 'Túi Da Cầm Tay Thời Trang Nam Lịch Lãm': 0.1, 'Găng Tay Da Pu Giữ Ấm Thời Trang Nam': 0.1, 'Nón Kết Thêu Chữ Thời Trang Nam': 0.1, 'Giày sneaker nam giày thể thao nam A29 (04 màu) giày ulzzang giày thời trang nam giày tập gym nam giày chạy bộ nam': 0.1, 'Mũ Lưỡi Trai hàn quốc Reclusive ❤️ Nón Lưỡi Trai Thời trang ❤️ Nón Kết nam nữ đẹp': 0.1, 'Mũ Beanie Giả Lông Giữ Ấm Thời Trang Nam': 0.1, 'Giày sneaker nam giày thể thao nam D529 màu xanh rêu giày chạy bộ nam giày thời trang nam': 0.1, 'Giày cổ cao thời trang nam TARANTO TRT-GBN-03-DT (Màu đen trắng)': 0.1, 'Áo sơ mi nam dài tay Hàn Quốc vải lụa thái chống nhăn.phong cách thời trang xu hướng thời trang nam 2020tramanh_shopcu27': 0.1, 'Đôi Găng Tay Da Bò Phối Da Thời Trang Nam': 0.1, 'THỜI TRANG DÉP NAM CAO CẤP. SANG TRỌNG VÀ LỊCH LÃM CHO QUÝ ÔNG. HÓT NHẤT NĂM 2021': 0.1, 'HOT SALE- SALE- 🔥Áo Game🔥Áo Call of Duty Mobile cực đẹp giá rẻ HOT nhất thời trang nam -ADT Store - mẫu áo chất': 0.1, ...}   \n",
       "\n",
       "                                               show_official_shop_label_in_title       flash_sale                                                                                                                           category            shopee_verified  coin_earn_label                                   is_adult  is_preferred_plus_seller         show_free_shipping  \n",
       "missing_ratio                                                                  0                0                                                                                                                                  0                          0                0                                          0                         0                          0  \n",
       "num_values                                                                     5                1                                                                                                                                  6                          2                1                                          3                         2                          2  \n",
       "value_ratios   {False: 65.8, 'False': 31.0, True: 1.6, 'None': 1.0, 'True': 0.6}  {'None': 100.0}  {'Ao ngan tay khong co': 17.3, 'Ao so mi': 17.2, 'Giay dep nam': 16.5, 'Quan': 16.4, 'Balo/ Tui/ Vi': 16.4, 'Phu kien Nam': 16.2}  {False: 83.3, True: 16.7}  {'None': 100.0}  {False: 83.8, 'False': 16.2, 'None': 0.0}  {False: 97.5, True: 2.5}  {False: 77.6, True: 22.4}  "
      ]
     },
     "execution_count": 30,
     "metadata": {},
     "output_type": "execute_result"
    }
   ],
   "source": [
    "def missing_ratio(df):\n",
    "    return (df.isna().mean() * 100).round(1)\n",
    "def num_values(df):\n",
    "    return df.nunique()\n",
    "def value_ratios(c):\n",
    "    return dict((c.value_counts(normalize=True) * 100).round(1))\n",
    "df = train_X_df[cat_cols]\n",
    "cat_col_info_df = df.agg([missing_ratio, num_values, value_ratios])\n",
    "cat_col_info_df"
   ]
  },
  {
   "cell_type": "markdown",
   "metadata": {},
   "source": [
    "## V. Tiền xử lý cho tập huấn luyện"
   ]
  },
  {
   "cell_type": "markdown",
   "metadata": {},
   "source": [
    "### 1. Xử lý khác biệt ngữ nghĩa do parse data từ JSON\n",
    "\n",
    "Do dữ liệu trả về từ API của shopee, những dữ liệu thiếu có dạng string: 'None' nên pandas sẽ không đếm được lượng dữ liệu không có giá trị này. Ta tiến hành thay 'None' thành np.nan để có thể đếm lượng dữ liệu thiếu này chính xác."
   ]
  },
  {
   "cell_type": "markdown",
   "metadata": {},
   "source": [
    "### 2. Bỏ cột\n",
    "\n",
    "Ta sẽ tiến hành bỏ những cột sau:\n",
    "- `name`: do quá nhiều giá trị\n",
    "- `is_adult`: giá trị False chiếm 100%\n",
    "- `flash_sale`, `upcoming_flash_sale`, `coin_earn_label`: Thiếu 100% giá trị"
   ]
  },
  {
   "cell_type": "markdown",
   "metadata": {},
   "source": [
    "### 3. Sửa cột\n",
    "Ta tiến hành sửa những cột sau: \n",
    "- `shop_location`: ta thấy có khá nhiều giá trị khác nhau trong tập huấn luyện (46 giá trị), trong đó có các giá trị chỉ xuất hiện một hoặc một ít lần; nếu ta để nguyên thì khi chuyển sang dạng số bằng phương pháp one-hot sẽ có nhiều cột → dễ bị overfit. Ta sẽ xử lý vấn đề này như sau: chỉ lấy 3 location có giá trị xuất hiện nhiều nhất, các giá trị còn lại sẽ được thay thế bằng giá trị \"Others\". Ngoài ra, thuộc tính shop_location cũng có giá trị thiếu, lưu ý rằng các dữ liệu này vẫn hoạt động tốt trên Shopee nên ta dùng lệnh sau để xem những mẫu nào bị _thiếu_ và đối chiếu với trên shopee.\n",
    "\n",
    "Sau khi đối chiếu ta được kết quả sau: \n",
    "\n",
    "Mẫu không thiếu:\n",
    "\n",
    "![shop_location_not_missing_value](images/shop_location_not_missing_value.jpg)\n",
    "\n",
    "Mẫu thiếu:\n",
    "\n",
    "![shop_location_missing_value](images/shop_location_missing_value.jpg)\n",
    "\n",
    "Tức là những mẫu có thuộc tính shop_location thiếu sẽ không hiển thị vị trí shop ở góc dưới.\n",
    "\n",
    "Vậy ta sẽ xử lý bằng cách thay các giá trị thiếu này thành chuỗi \"None\".\n",
    "\n",
    "- `discount`: có thêm kí tự % đằng sau nên có kiểu chuỗi, vậy ta sẽ tách số ra đó và chuyển thành số. Ngoài ra, ta còn thấy `discount` có giá trị thiếu. Kiểm tra đối chiếu với các item trên Shopee, ta thấy thực tế những mẫu bị _thiếu_ dữ liệu ở thuộc tính discount là do không có giảm giá (discount = 0). Ta tiến hành sửa bằng cách thay giá trị nan tại cột này thành 0.\n",
    "\n",
    "- `shopee_verified`, `show_official_shop_label_in_title`, `is_preferred_plus_seller`, `show_free_shipping`: những cột kiểu bool như này thì ta chuyển hết về 0 và 1, riêng `show_official_shop_label_in_title` vừa có kiểu bool vừa có kiểu string nên ta xử lý đặc biệt hơn\n"
   ]
  },
  {
   "cell_type": "markdown",
   "metadata": {},
   "source": [
    "Class ColAdderDropper sẽ thực hiện các bước trên."
   ]
  },
  {
   "cell_type": "code",
   "execution_count": 48,
   "metadata": {},
   "outputs": [],
   "source": [
    "class ColAdderDropper(BaseEstimator, TransformerMixin):\n",
    "    def __init__(self, num_top_location=3):\n",
    "        self.num_top_location = num_top_location\n",
    "    def fit(self, X_df, y=None):\n",
    "        location_col = X_df['shop_location']\n",
    "        self.location_counts_ = location_col.value_counts()\n",
    "        locations = list(self.location_counts_.index)\n",
    "        self.top_locations_ = locations[:max(1, min(self.num_top_location, len(locations)))]\n",
    "        return self\n",
    "    def transform(self, X_df, y=None):\n",
    "        # YOUR CODE HERE\n",
    "        tf_df = X_df.copy()\n",
    "        # Bước 1\n",
    "        tf_df = tf_df.replace('None', np.nan)\n",
    "        # Bước 2\n",
    "        tf_df = tf_df.drop(['name', 'is_adult', 'flash_sale', 'upcoming_flash_sale', 'coin_earn_label'], axis=1)\n",
    "        # Bước 3\n",
    "        tf_df['shop_location'] = tf_df['shop_location'].replace(np.nan, 'None')\n",
    "        locations = list(tf_df['shop_location'].value_counts().index)\n",
    "        top_locations = ['Hà Nội', 'Nước ngoài', 'TP. Hồ Chí Minh']\n",
    "        other_locations = list(set(locations) - set(top_locations))\n",
    "        tf_df['shop_location'] = tf_df['shop_location'].replace(other_locations, 'Others')\n",
    "        \n",
    "        tf_df['discount'] = tf_df['discount'].replace(np.nan, 0)\n",
    "        \n",
    "        def apply_discount(discount):\n",
    "            if type(discount) == int:\n",
    "                return discount\n",
    "            else:\n",
    "                result = re.findall(r'\\d+',discount)\n",
    "                return result[0]\n",
    "            pass\n",
    "\n",
    "        tf_df['discount'] = tf_df.apply(lambda row: apply_discount(row['discount']), axis=1)\n",
    "        \n",
    "        def convert_col_dtype(col):\n",
    "            if col.name in ['discount']:\n",
    "                return pd.to_numeric(col, errors='coerce')\n",
    "            return col\n",
    "\n",
    "        tf_df = tf_df.apply(convert_col_dtype)\n",
    "        \n",
    "\n",
    "        def apply_bool(FalseOrTrue):\n",
    "            if FalseOrTrue is np.nan:\n",
    "                return FalseOrTrue\n",
    "            if FalseOrTrue == 'False' or FalseOrTrue == False:\n",
    "                return 0\n",
    "            if FalseOrTrue == 'True' or FalseOrTrue == True:\n",
    "                return 1\n",
    "            else:\n",
    "                return FalseOrTrue\n",
    "            pass\n",
    "\n",
    "        tf_df['show_official_shop_label_in_title'] = tf_df.apply(lambda row: apply_bool(row['show_official_shop_label_in_title']), axis=1)\n",
    "        tf_df['is_preferred_plus_seller'] = tf_df.apply(lambda row: apply_bool(row['is_preferred_plus_seller']), axis=1)\n",
    "        tf_df['shopee_verified'] = tf_df.apply(lambda row: apply_bool(row['shopee_verified']), axis=1)\n",
    "        tf_df['show_free_shipping'] = tf_df.apply(lambda row: apply_bool(row['show_free_shipping']), axis=1)\n",
    "        return tf_df\n",
    "        #raise NotImplementedError()"
   ]
  },
  {
   "cell_type": "code",
   "execution_count": 49,
   "metadata": {},
   "outputs": [],
   "source": [
    "col_adderdropper = ColAdderDropper()\n",
    "fewer_cols_train_X_df = col_adderdropper.fit_transform(train_X_df)"
   ]
  },
  {
   "cell_type": "code",
   "execution_count": 50,
   "metadata": {},
   "outputs": [
    {
     "data": {
      "text/html": [
       "<div>\n",
       "<style scoped>\n",
       "    .dataframe tbody tr th:only-of-type {\n",
       "        vertical-align: middle;\n",
       "    }\n",
       "\n",
       "    .dataframe tbody tr th {\n",
       "        vertical-align: top;\n",
       "    }\n",
       "\n",
       "    .dataframe thead th {\n",
       "        text-align: right;\n",
       "    }\n",
       "</style>\n",
       "<table border=\"1\" class=\"dataframe\">\n",
       "  <thead>\n",
       "    <tr style=\"text-align: right;\">\n",
       "      <th></th>\n",
       "      <th>category</th>\n",
       "      <th>shop_location</th>\n",
       "      <th>item_public_time</th>\n",
       "      <th>item_be_got_time</th>\n",
       "      <th>sell_time</th>\n",
       "      <th>shopee_verified</th>\n",
       "      <th>discount</th>\n",
       "      <th>options</th>\n",
       "      <th>show_official_shop_label_in_title</th>\n",
       "      <th>rating_star</th>\n",
       "      <th>five_star</th>\n",
       "      <th>four_star</th>\n",
       "      <th>three_star</th>\n",
       "      <th>two_star</th>\n",
       "      <th>one_star</th>\n",
       "      <th>price_min</th>\n",
       "      <th>price_min_before_discount</th>\n",
       "      <th>price_max</th>\n",
       "      <th>price_max_before_discount</th>\n",
       "      <th>price</th>\n",
       "      <th>price_before_discount</th>\n",
       "      <th>liked_count</th>\n",
       "      <th>view_count</th>\n",
       "      <th>cmt_count</th>\n",
       "      <th>is_preferred_plus_seller</th>\n",
       "      <th>show_free_shipping</th>\n",
       "      <th>images</th>\n",
       "      <th>video_info_list</th>\n",
       "    </tr>\n",
       "  </thead>\n",
       "  <tbody>\n",
       "    <tr>\n",
       "      <th>2805</th>\n",
       "      <td>Balo/ Tui/ Vi</td>\n",
       "      <td>TP. Hồ Chí Minh</td>\n",
       "      <td>1.574132e+09</td>\n",
       "      <td>1.609994e+09</td>\n",
       "      <td>35862920.0</td>\n",
       "      <td>0</td>\n",
       "      <td>0</td>\n",
       "      <td>1.0</td>\n",
       "      <td>0.0</td>\n",
       "      <td>0.000000</td>\n",
       "      <td>0.0</td>\n",
       "      <td>0.0</td>\n",
       "      <td>0.0</td>\n",
       "      <td>0.0</td>\n",
       "      <td>0.0</td>\n",
       "      <td>1.500000e+11</td>\n",
       "      <td>-1.000000e+00</td>\n",
       "      <td>1.500000e+11</td>\n",
       "      <td>-1.000000e+00</td>\n",
       "      <td>1.500000e+11</td>\n",
       "      <td>0.000000e+00</td>\n",
       "      <td>1.0</td>\n",
       "      <td>0.0</td>\n",
       "      <td>0.0</td>\n",
       "      <td>0</td>\n",
       "      <td>0</td>\n",
       "      <td>9.0</td>\n",
       "      <td>0.0</td>\n",
       "    </tr>\n",
       "    <tr>\n",
       "      <th>1112</th>\n",
       "      <td>Ao so mi</td>\n",
       "      <td>TP. Hồ Chí Minh</td>\n",
       "      <td>1.609129e+09</td>\n",
       "      <td>1.609949e+09</td>\n",
       "      <td>820524.0</td>\n",
       "      <td>1</td>\n",
       "      <td>0</td>\n",
       "      <td>30.0</td>\n",
       "      <td>0.0</td>\n",
       "      <td>5.000000</td>\n",
       "      <td>1.0</td>\n",
       "      <td>0.0</td>\n",
       "      <td>0.0</td>\n",
       "      <td>0.0</td>\n",
       "      <td>0.0</td>\n",
       "      <td>2.000000e+10</td>\n",
       "      <td>-1.000000e+00</td>\n",
       "      <td>2.000000e+10</td>\n",
       "      <td>-1.000000e+00</td>\n",
       "      <td>2.000000e+10</td>\n",
       "      <td>0.000000e+00</td>\n",
       "      <td>4.0</td>\n",
       "      <td>394.0</td>\n",
       "      <td>1.0</td>\n",
       "      <td>1</td>\n",
       "      <td>0</td>\n",
       "      <td>9.0</td>\n",
       "      <td>0.0</td>\n",
       "    </tr>\n",
       "    <tr>\n",
       "      <th>3818</th>\n",
       "      <td>Giay dep nam</td>\n",
       "      <td>Hà Nội</td>\n",
       "      <td>1.566321e+09</td>\n",
       "      <td>1.609917e+09</td>\n",
       "      <td>43596067.0</td>\n",
       "      <td>1</td>\n",
       "      <td>46</td>\n",
       "      <td>10.0</td>\n",
       "      <td>0.0</td>\n",
       "      <td>5.000000</td>\n",
       "      <td>3.0</td>\n",
       "      <td>0.0</td>\n",
       "      <td>0.0</td>\n",
       "      <td>0.0</td>\n",
       "      <td>0.0</td>\n",
       "      <td>6.900000e+09</td>\n",
       "      <td>1.280000e+10</td>\n",
       "      <td>9.500000e+09</td>\n",
       "      <td>1.280000e+10</td>\n",
       "      <td>6.900000e+09</td>\n",
       "      <td>1.280000e+10</td>\n",
       "      <td>1122.0</td>\n",
       "      <td>57.0</td>\n",
       "      <td>3.0</td>\n",
       "      <td>0</td>\n",
       "      <td>0</td>\n",
       "      <td>7.0</td>\n",
       "      <td>0.0</td>\n",
       "    </tr>\n",
       "    <tr>\n",
       "      <th>667</th>\n",
       "      <td>Ao ngan tay khong co</td>\n",
       "      <td>Nước ngoài</td>\n",
       "      <td>1.590332e+09</td>\n",
       "      <td>1.609949e+09</td>\n",
       "      <td>19617446.0</td>\n",
       "      <td>0</td>\n",
       "      <td>5</td>\n",
       "      <td>18.0</td>\n",
       "      <td>0.0</td>\n",
       "      <td>0.000000</td>\n",
       "      <td>0.0</td>\n",
       "      <td>0.0</td>\n",
       "      <td>0.0</td>\n",
       "      <td>0.0</td>\n",
       "      <td>0.0</td>\n",
       "      <td>6.507000e+10</td>\n",
       "      <td>6.841000e+10</td>\n",
       "      <td>6.507000e+10</td>\n",
       "      <td>6.841000e+10</td>\n",
       "      <td>6.507000e+10</td>\n",
       "      <td>6.841000e+10</td>\n",
       "      <td>0.0</td>\n",
       "      <td>0.0</td>\n",
       "      <td>0.0</td>\n",
       "      <td>0</td>\n",
       "      <td>0</td>\n",
       "      <td>9.0</td>\n",
       "      <td>0.0</td>\n",
       "    </tr>\n",
       "    <tr>\n",
       "      <th>4431</th>\n",
       "      <td>Phu kien Nam</td>\n",
       "      <td>Nước ngoài</td>\n",
       "      <td>1.602765e+09</td>\n",
       "      <td>1.609910e+09</td>\n",
       "      <td>7145100.0</td>\n",
       "      <td>0</td>\n",
       "      <td>50</td>\n",
       "      <td>5.0</td>\n",
       "      <td>0.0</td>\n",
       "      <td>0.000000</td>\n",
       "      <td>0.0</td>\n",
       "      <td>0.0</td>\n",
       "      <td>0.0</td>\n",
       "      <td>0.0</td>\n",
       "      <td>0.0</td>\n",
       "      <td>2.325000e+10</td>\n",
       "      <td>4.626000e+10</td>\n",
       "      <td>2.325000e+10</td>\n",
       "      <td>4.626000e+10</td>\n",
       "      <td>2.325000e+10</td>\n",
       "      <td>4.626000e+10</td>\n",
       "      <td>0.0</td>\n",
       "      <td>0.0</td>\n",
       "      <td>0.0</td>\n",
       "      <td>0</td>\n",
       "      <td>0</td>\n",
       "      <td>6.0</td>\n",
       "      <td>0.0</td>\n",
       "    </tr>\n",
       "    <tr>\n",
       "      <th>...</th>\n",
       "      <td>...</td>\n",
       "      <td>...</td>\n",
       "      <td>...</td>\n",
       "      <td>...</td>\n",
       "      <td>...</td>\n",
       "      <td>...</td>\n",
       "      <td>...</td>\n",
       "      <td>...</td>\n",
       "      <td>...</td>\n",
       "      <td>...</td>\n",
       "      <td>...</td>\n",
       "      <td>...</td>\n",
       "      <td>...</td>\n",
       "      <td>...</td>\n",
       "      <td>...</td>\n",
       "      <td>...</td>\n",
       "      <td>...</td>\n",
       "      <td>...</td>\n",
       "      <td>...</td>\n",
       "      <td>...</td>\n",
       "      <td>...</td>\n",
       "      <td>...</td>\n",
       "      <td>...</td>\n",
       "      <td>...</td>\n",
       "      <td>...</td>\n",
       "      <td>...</td>\n",
       "      <td>...</td>\n",
       "      <td>...</td>\n",
       "    </tr>\n",
       "    <tr>\n",
       "      <th>5128</th>\n",
       "      <td>Quan</td>\n",
       "      <td>Hà Nội</td>\n",
       "      <td>1.597916e+09</td>\n",
       "      <td>1.609992e+09</td>\n",
       "      <td>12075617.0</td>\n",
       "      <td>0</td>\n",
       "      <td>27</td>\n",
       "      <td>4.0</td>\n",
       "      <td>0.0</td>\n",
       "      <td>0.000000</td>\n",
       "      <td>0.0</td>\n",
       "      <td>0.0</td>\n",
       "      <td>0.0</td>\n",
       "      <td>0.0</td>\n",
       "      <td>0.0</td>\n",
       "      <td>7.957000e+09</td>\n",
       "      <td>1.090000e+10</td>\n",
       "      <td>7.957000e+09</td>\n",
       "      <td>1.090000e+10</td>\n",
       "      <td>7.957000e+09</td>\n",
       "      <td>1.090000e+10</td>\n",
       "      <td>0.0</td>\n",
       "      <td>3.0</td>\n",
       "      <td>0.0</td>\n",
       "      <td>0</td>\n",
       "      <td>0</td>\n",
       "      <td>4.0</td>\n",
       "      <td>0.0</td>\n",
       "    </tr>\n",
       "    <tr>\n",
       "      <th>3982</th>\n",
       "      <td>Phu kien Nam</td>\n",
       "      <td>Hà Nội</td>\n",
       "      <td>1.569303e+09</td>\n",
       "      <td>1.609910e+09</td>\n",
       "      <td>40607869.0</td>\n",
       "      <td>0</td>\n",
       "      <td>44</td>\n",
       "      <td>1.0</td>\n",
       "      <td>0.0</td>\n",
       "      <td>4.823529</td>\n",
       "      <td>31.0</td>\n",
       "      <td>2.0</td>\n",
       "      <td>0.0</td>\n",
       "      <td>0.0</td>\n",
       "      <td>1.0</td>\n",
       "      <td>5.500000e+09</td>\n",
       "      <td>9.900000e+09</td>\n",
       "      <td>5.500000e+09</td>\n",
       "      <td>9.900000e+09</td>\n",
       "      <td>5.500000e+09</td>\n",
       "      <td>9.900000e+09</td>\n",
       "      <td>1202.0</td>\n",
       "      <td>249.0</td>\n",
       "      <td>34.0</td>\n",
       "      <td>0</td>\n",
       "      <td>1</td>\n",
       "      <td>4.0</td>\n",
       "      <td>0.0</td>\n",
       "    </tr>\n",
       "    <tr>\n",
       "      <th>3184</th>\n",
       "      <td>Giay dep nam</td>\n",
       "      <td>Hà Nội</td>\n",
       "      <td>1.592549e+09</td>\n",
       "      <td>1.609917e+09</td>\n",
       "      <td>17368476.0</td>\n",
       "      <td>0</td>\n",
       "      <td>50</td>\n",
       "      <td>12.0</td>\n",
       "      <td>0.0</td>\n",
       "      <td>0.000000</td>\n",
       "      <td>0.0</td>\n",
       "      <td>0.0</td>\n",
       "      <td>0.0</td>\n",
       "      <td>0.0</td>\n",
       "      <td>0.0</td>\n",
       "      <td>1.750000e+10</td>\n",
       "      <td>3.500000e+10</td>\n",
       "      <td>1.750000e+10</td>\n",
       "      <td>3.500000e+10</td>\n",
       "      <td>1.750000e+10</td>\n",
       "      <td>3.500000e+10</td>\n",
       "      <td>1817.0</td>\n",
       "      <td>1873.0</td>\n",
       "      <td>0.0</td>\n",
       "      <td>0</td>\n",
       "      <td>0</td>\n",
       "      <td>9.0</td>\n",
       "      <td>0.0</td>\n",
       "    </tr>\n",
       "    <tr>\n",
       "      <th>3277</th>\n",
       "      <td>Giay dep nam</td>\n",
       "      <td>Hà Nội</td>\n",
       "      <td>1.537898e+09</td>\n",
       "      <td>1.609917e+09</td>\n",
       "      <td>72019616.0</td>\n",
       "      <td>0</td>\n",
       "      <td>0</td>\n",
       "      <td>5.0</td>\n",
       "      <td>0.0</td>\n",
       "      <td>1.000000</td>\n",
       "      <td>0.0</td>\n",
       "      <td>0.0</td>\n",
       "      <td>0.0</td>\n",
       "      <td>0.0</td>\n",
       "      <td>1.0</td>\n",
       "      <td>1.890000e+10</td>\n",
       "      <td>-1.000000e+00</td>\n",
       "      <td>1.890000e+10</td>\n",
       "      <td>-1.000000e+00</td>\n",
       "      <td>1.890000e+10</td>\n",
       "      <td>0.000000e+00</td>\n",
       "      <td>16033.0</td>\n",
       "      <td>1.0</td>\n",
       "      <td>1.0</td>\n",
       "      <td>0</td>\n",
       "      <td>1</td>\n",
       "      <td>3.0</td>\n",
       "      <td>0.0</td>\n",
       "    </tr>\n",
       "    <tr>\n",
       "      <th>1714</th>\n",
       "      <td>Ao so mi</td>\n",
       "      <td>Hà Nội</td>\n",
       "      <td>1.542685e+09</td>\n",
       "      <td>1.609949e+09</td>\n",
       "      <td>67264586.0</td>\n",
       "      <td>1</td>\n",
       "      <td>33</td>\n",
       "      <td>12.0</td>\n",
       "      <td>0.0</td>\n",
       "      <td>4.000000</td>\n",
       "      <td>5.0</td>\n",
       "      <td>1.0</td>\n",
       "      <td>0.0</td>\n",
       "      <td>1.0</td>\n",
       "      <td>1.0</td>\n",
       "      <td>1.200000e+10</td>\n",
       "      <td>1.800000e+10</td>\n",
       "      <td>1.200000e+10</td>\n",
       "      <td>1.800000e+10</td>\n",
       "      <td>1.200000e+10</td>\n",
       "      <td>1.800000e+10</td>\n",
       "      <td>10.0</td>\n",
       "      <td>9.0</td>\n",
       "      <td>8.0</td>\n",
       "      <td>0</td>\n",
       "      <td>1</td>\n",
       "      <td>9.0</td>\n",
       "      <td>1.0</td>\n",
       "    </tr>\n",
       "  </tbody>\n",
       "</table>\n",
       "<p>3662 rows × 28 columns</p>\n",
       "</div>"
      ],
      "text/plain": [
       "                  category    shop_location  item_public_time  item_be_got_time   sell_time  shopee_verified  discount  options  show_official_shop_label_in_title  rating_star  five_star  four_star  three_star  two_star  one_star     price_min  price_min_before_discount     price_max  price_max_before_discount         price  price_before_discount  liked_count  view_count  cmt_count  is_preferred_plus_seller  show_free_shipping  images  video_info_list\n",
       "2805         Balo/ Tui/ Vi  TP. Hồ Chí Minh      1.574132e+09      1.609994e+09  35862920.0                0         0      1.0                                0.0     0.000000        0.0        0.0         0.0       0.0       0.0  1.500000e+11              -1.000000e+00  1.500000e+11              -1.000000e+00  1.500000e+11           0.000000e+00          1.0         0.0        0.0                         0                   0     9.0              0.0\n",
       "1112              Ao so mi  TP. Hồ Chí Minh      1.609129e+09      1.609949e+09    820524.0                1         0     30.0                                0.0     5.000000        1.0        0.0         0.0       0.0       0.0  2.000000e+10              -1.000000e+00  2.000000e+10              -1.000000e+00  2.000000e+10           0.000000e+00          4.0       394.0        1.0                         1                   0     9.0              0.0\n",
       "3818          Giay dep nam           Hà Nội      1.566321e+09      1.609917e+09  43596067.0                1        46     10.0                                0.0     5.000000        3.0        0.0         0.0       0.0       0.0  6.900000e+09               1.280000e+10  9.500000e+09               1.280000e+10  6.900000e+09           1.280000e+10       1122.0        57.0        3.0                         0                   0     7.0              0.0\n",
       "667   Ao ngan tay khong co       Nước ngoài      1.590332e+09      1.609949e+09  19617446.0                0         5     18.0                                0.0     0.000000        0.0        0.0         0.0       0.0       0.0  6.507000e+10               6.841000e+10  6.507000e+10               6.841000e+10  6.507000e+10           6.841000e+10          0.0         0.0        0.0                         0                   0     9.0              0.0\n",
       "4431          Phu kien Nam       Nước ngoài      1.602765e+09      1.609910e+09   7145100.0                0        50      5.0                                0.0     0.000000        0.0        0.0         0.0       0.0       0.0  2.325000e+10               4.626000e+10  2.325000e+10               4.626000e+10  2.325000e+10           4.626000e+10          0.0         0.0        0.0                         0                   0     6.0              0.0\n",
       "...                    ...              ...               ...               ...         ...              ...       ...      ...                                ...          ...        ...        ...         ...       ...       ...           ...                        ...           ...                        ...           ...                    ...          ...         ...        ...                       ...                 ...     ...              ...\n",
       "5128                  Quan           Hà Nội      1.597916e+09      1.609992e+09  12075617.0                0        27      4.0                                0.0     0.000000        0.0        0.0         0.0       0.0       0.0  7.957000e+09               1.090000e+10  7.957000e+09               1.090000e+10  7.957000e+09           1.090000e+10          0.0         3.0        0.0                         0                   0     4.0              0.0\n",
       "3982          Phu kien Nam           Hà Nội      1.569303e+09      1.609910e+09  40607869.0                0        44      1.0                                0.0     4.823529       31.0        2.0         0.0       0.0       1.0  5.500000e+09               9.900000e+09  5.500000e+09               9.900000e+09  5.500000e+09           9.900000e+09       1202.0       249.0       34.0                         0                   1     4.0              0.0\n",
       "3184          Giay dep nam           Hà Nội      1.592549e+09      1.609917e+09  17368476.0                0        50     12.0                                0.0     0.000000        0.0        0.0         0.0       0.0       0.0  1.750000e+10               3.500000e+10  1.750000e+10               3.500000e+10  1.750000e+10           3.500000e+10       1817.0      1873.0        0.0                         0                   0     9.0              0.0\n",
       "3277          Giay dep nam           Hà Nội      1.537898e+09      1.609917e+09  72019616.0                0         0      5.0                                0.0     1.000000        0.0        0.0         0.0       0.0       1.0  1.890000e+10              -1.000000e+00  1.890000e+10              -1.000000e+00  1.890000e+10           0.000000e+00      16033.0         1.0        1.0                         0                   1     3.0              0.0\n",
       "1714              Ao so mi           Hà Nội      1.542685e+09      1.609949e+09  67264586.0                1        33     12.0                                0.0     4.000000        5.0        1.0         0.0       1.0       1.0  1.200000e+10               1.800000e+10  1.200000e+10               1.800000e+10  1.200000e+10           1.800000e+10         10.0         9.0        8.0                         0                   1     9.0              1.0\n",
       "\n",
       "[3662 rows x 28 columns]"
      ]
     },
     "execution_count": 50,
     "metadata": {},
     "output_type": "execute_result"
    }
   ],
   "source": [
    "fewer_cols_train_X_df"
   ]
  },
  {
   "cell_type": "code",
   "execution_count": 51,
   "metadata": {},
   "outputs": [
    {
     "data": {
      "text/html": [
       "<div>\n",
       "<style scoped>\n",
       "    .dataframe tbody tr th:only-of-type {\n",
       "        vertical-align: middle;\n",
       "    }\n",
       "\n",
       "    .dataframe tbody tr th {\n",
       "        vertical-align: top;\n",
       "    }\n",
       "\n",
       "    .dataframe thead th {\n",
       "        text-align: right;\n",
       "    }\n",
       "</style>\n",
       "<table border=\"1\" class=\"dataframe\">\n",
       "  <thead>\n",
       "    <tr style=\"text-align: right;\">\n",
       "      <th></th>\n",
       "      <th>shop_location</th>\n",
       "      <th>show_official_shop_label_in_title</th>\n",
       "      <th>shopee_verified</th>\n",
       "      <th>category</th>\n",
       "      <th>is_preferred_plus_seller</th>\n",
       "      <th>show_free_shipping</th>\n",
       "    </tr>\n",
       "  </thead>\n",
       "  <tbody>\n",
       "    <tr>\n",
       "      <th>missing_ratio</th>\n",
       "      <td>0</td>\n",
       "      <td>1</td>\n",
       "      <td>0</td>\n",
       "      <td>0</td>\n",
       "      <td>0</td>\n",
       "      <td>0</td>\n",
       "    </tr>\n",
       "    <tr>\n",
       "      <th>num_values</th>\n",
       "      <td>4</td>\n",
       "      <td>2</td>\n",
       "      <td>2</td>\n",
       "      <td>6</td>\n",
       "      <td>2</td>\n",
       "      <td>2</td>\n",
       "    </tr>\n",
       "    <tr>\n",
       "      <th>value_ratios</th>\n",
       "      <td>{'Hà Nội': 37.7, 'Nước ngoài': 35.3, 'TP. Hồ Chí Minh': 19.2, 'Others': 7.9}</td>\n",
       "      <td>{0.0: 97.8, 1.0: 2.2}</td>\n",
       "      <td>{0: 83.3, 1: 16.7}</td>\n",
       "      <td>{'Ao ngan tay khong co': 17.3, 'Ao so mi': 17.2, 'Giay dep nam': 16.5, 'Quan': 16.4, 'Balo/ Tui/ Vi': 16.4, 'Phu kien Nam': 16.2}</td>\n",
       "      <td>{0: 97.5, 1: 2.5}</td>\n",
       "      <td>{0: 77.6, 1: 22.4}</td>\n",
       "    </tr>\n",
       "  </tbody>\n",
       "</table>\n",
       "</div>"
      ],
      "text/plain": [
       "                                                                              shop_location show_official_shop_label_in_title     shopee_verified                                                                                                                           category is_preferred_plus_seller  show_free_shipping\n",
       "missing_ratio                                                                             0                                 1                   0                                                                                                                                  0                        0                   0\n",
       "num_values                                                                                4                                 2                   2                                                                                                                                  6                        2                   2\n",
       "value_ratios   {'Hà Nội': 37.7, 'Nước ngoài': 35.3, 'TP. Hồ Chí Minh': 19.2, 'Others': 7.9}             {0.0: 97.8, 1.0: 2.2}  {0: 83.3, 1: 16.7}  {'Ao ngan tay khong co': 17.3, 'Ao so mi': 17.2, 'Giay dep nam': 16.5, 'Quan': 16.4, 'Balo/ Tui/ Vi': 16.4, 'Phu kien Nam': 16.2}        {0: 97.5, 1: 2.5}  {0: 77.6, 1: 22.4}"
      ]
     },
     "execution_count": 51,
     "metadata": {},
     "output_type": "execute_result"
    }
   ],
   "source": [
    "cat_cols = list(set(fewer_cols_train_X_df.columns) - set(num_cols))\n",
    "df = fewer_cols_train_X_df[cat_cols]\n",
    "cat_col_info_df = df.agg([missing_ratio, num_values, value_ratios])\n",
    "cat_col_info_df"
   ]
  },
  {
   "cell_type": "markdown",
   "metadata": {},
   "source": [
    "### 4. Điền giá trị thiếu\n",
    "- Với các cột dạng số, ta sẽ điền giá trị thiếu bằng giá trị mean của cột <font color=gray>(gợi ý: dùng `SimpleImputer` trong Sklearn)</font>. Với *tất cả* các cột dạng số trong tập huấn luyện, ta đều cần tính mean, vì ta không biết được cột nào sẽ bị thiếu giá trị khi dự đoán với các véc-tơ input mới. \n",
    "- Với các cột không phải dạng số và không có thứ tự:\n",
    "    - Ta sẽ điền giá trị thiếu bằng giá trị mode (giá trị xuất hiện nhiều nhất) của cột <font color=gray>(gợi ý: dùng `SimpleImputer` trong Sklearn)</font>. Với *tất cả* các cột không có dạng số và không có thứ tự, ta đều cần tính mode, vì ta không biết được cột nào sẽ bị thiếu giá trị khi dự đoán với các véc-tơ input mới.\n",
    "    - Sau đó, ta sẽ chuyển sang dạng số bằng phương pháp mã hóa one-hot <font color=gray>(gợi ý: dùng `OneHotEncoder` trong Sklearn, để ý tham số `handle_unknown` vì khi dự đoán với các véc-tơ input mới ...)</font>.\n",
    "- Với cột không phải dạng số và có thứ tự:\n",
    "    - Ta sẽ điền giá trị thiếu bằng giá trị mode (giá trị xuất hiện nhiều nhất) của cột.\n",
    "    - Các giá trị của cột này đều là kiểu boolean và ta đã chuyển sang dạng 0, 1 trước đó nên không cần phải mã hóa nữa"
   ]
  },
  {
   "cell_type": "code",
   "execution_count": 52,
   "metadata": {
    "Collapsed": "false",
    "nbgrader": {
     "cell_type": "code",
     "checksum": "e7a1d4ae5e4fa50b60b4998de6be96a1",
     "grade": false,
     "grade_id": "cell-ae75d7dfa7256c7f",
     "locked": false,
     "schema_version": 3,
     "solution": true
    }
   },
   "outputs": [],
   "source": [
    "nume_cols = ['item_public_time','item_be_got_time', 'sell_time', 'discount', \n",
    "            'options', 'rating_star' ,'five_star', 'four_star', 'three_star', \n",
    "            'two_star' ,'one_star' ,'price_min_before_discount', 'price_max', 'price_min', \n",
    "            'price_max_before_discount', 'price', 'price_before_discount', \n",
    "            'liked_count', 'view_count', 'cmt_count','images', 'video_info_list']\n",
    "unorder_cate_cols = ['category', 'shop_location']\n",
    "order_cate_cols = ['is_preferred_plus_seller', 'shopee_verified', 'show_free_shipping', 'show_official_shop_label_in_title']\n",
    "# YOUR CODE HERE\n",
    "imp_mean = SimpleImputer(missing_values=np.nan, strategy='mean')\n",
    "imp_mode = SimpleImputer(missing_values=np.nan, strategy='most_frequent')\n",
    "enc = OneHotEncoder(handle_unknown='ignore')\n",
    "unorder_cate_pipeline = make_pipeline(imp_mode, enc)\n",
    "column_transformer = ColumnTransformer(transformers = [('numerical', imp_mean, nume_cols),\n",
    "                                                      ('unorder_categorical', unorder_cate_pipeline, unorder_cate_cols),\n",
    "                                                      ('order_categorical', imp_mode, order_cate_cols)], remainder='passthrough')"
   ]
  },
  {
   "cell_type": "markdown",
   "metadata": {},
   "source": [
    "### 5. Chuẩn hóa\n",
    "Cuối cùng, khi tất cả các cột đã được điền giá trị thiếu và đã có dạng số, ta sẽ tiến hành chuẩn hóa bằng cách trừ đi mean và chia cho độ lệch chuẩn của cột để giúp cho các thuật toán cực tiểu hóa như Gradient Descent, LBFGS, ... hội tụ nhanh hơn "
   ]
  },
  {
   "cell_type": "markdown",
   "metadata": {},
   "source": [
    "### 6. Tạo pipeline chứa những bước tiền xử lý nói trên"
   ]
  },
  {
   "cell_type": "code",
   "execution_count": 53,
   "metadata": {},
   "outputs": [],
   "source": [
    "preprocess_pipeline = make_pipeline(ColAdderDropper(), column_transformer,  StandardScaler())"
   ]
  },
  {
   "cell_type": "code",
   "execution_count": 62,
   "metadata": {},
   "outputs": [],
   "source": [
    "preprocessed_train_X = preprocess_pipeline.fit_transform(train_X_df)\n",
    "preprocessed_val_X = preprocess_pipeline.transform(val_X_df)"
   ]
  },
  {
   "cell_type": "code",
   "execution_count": 63,
   "metadata": {},
   "outputs": [
    {
     "data": {
      "text/plain": [
       "(3662, 36)"
      ]
     },
     "execution_count": 63,
     "metadata": {},
     "output_type": "execute_result"
    }
   ],
   "source": [
    "preprocessed_train_X.shape"
   ]
  },
  {
   "cell_type": "code",
   "execution_count": 64,
   "metadata": {},
   "outputs": [
    {
     "data": {
      "text/plain": [
       "(916, 36)"
      ]
     },
     "execution_count": 64,
     "metadata": {},
     "output_type": "execute_result"
    }
   ],
   "source": [
    "preprocessed_val_X.shape"
   ]
  },
  {
   "cell_type": "markdown",
   "metadata": {},
   "source": [
    "## VI. Mô hình hóa dữ liệu"
   ]
  },
  {
   "cell_type": "markdown",
   "metadata": {},
   "source": [
    "### 1. Tìm mô hình tốt nhất\n",
    "\n",
    "Do output là kiểu số thực liên tục nên ta sẽ sử dụng mô hình hồi quy để dự đoán các input mới, ta sẽ sử dụng các model sau:\n",
    "\n",
    "- Hồi quy tuyến tính\n",
    "- Mạng neural nhân tạo\n"
   ]
  },
  {
   "cell_type": "markdown",
   "metadata": {},
   "source": [
    "Đầu tiên, đối với các mô hình hồi quy này thì ta sử dụng độ đo $R^2$ để đánh giá độ lỗi vì độ đo MSE không cho ta biết được cụ thể chất lượng của mô hình \n",
    "\n",
    "$R^2$ bình phương cho biết độ phù hợp của mô hình, người ta nghiên cứu được rằng, với $R^2$ bình phương > 0.5 thì một mô hình được đánh giá là phù hợp."
   ]
  },
  {
   "cell_type": "markdown",
   "metadata": {},
   "source": [
    "#### Huấn luyện mô hình hồi quy tuyến tính "
   ]
  },
  {
   "cell_type": "code",
   "execution_count": 46,
   "metadata": {},
   "outputs": [
    {
     "data": {
      "text/plain": [
       "0.5382594142550717"
      ]
     },
     "execution_count": 46,
     "metadata": {},
     "output_type": "execute_result"
    }
   ],
   "source": [
    "full_pipeline = make_pipeline(ColAdderDropper(), column_transformer, StandardScaler(), LinearRegression())\n",
    "full_pipeline.fit(train_X_df, train_y_sr)\n",
    "full_pipeline.score(val_X_df, val_y_sr)"
   ]
  },
  {
   "cell_type": "markdown",
   "metadata": {},
   "source": [
    "Ta thấy $R^2$ khá thấp, có lẽ dữ liệu không có nhiều sự tương quan tuyến tính"
   ]
  },
  {
   "cell_type": "markdown",
   "metadata": {},
   "source": [
    "#### Huấn luyện mô hình mạng neural nhân tạo\n",
    "\n",
    "Ta sẽ thử 5 x 5 = 25 mô hình với các tham số khác nhau (fit khá lâu do khó hội tụ). \n",
    "\n",
    "Các tham số thay đổi:\n",
    "- `alpha`: 0.001, 0.1, 1, 10, 100\n",
    "- `hidden_layer_sizes`: 10, 20, 30, 40, 50\n",
    "\n",
    "Các tham số được cố định:\n",
    "- `activation`: `relu`\n",
    "- `solver`: `adam`: Do dữ liệu rất nhiều và không có hệ thống nên sử dụng thuật toán adam rất hiệu quả (theo scikit-learn)\n",
    "- `max_iter`: 10000: Để cho thuật toán được hội tụ, nếu set quá thấp sẽ không đủ lần lặp để hội tụ"
   ]
  },
  {
   "cell_type": "code",
   "execution_count": null,
   "metadata": {},
   "outputs": [],
   "source": [
    "full_pipeline = make_pipeline(ColAdderDropper(), column_transformer, StandardScaler(), MLPRegressor(hidden_layer_sizes=(20), activation='relu', solver='adam', random_state=0, max_iter=10000))\n",
    "alphas = [0.005, 0.001, 0.05, 0.01, 0.5, 0.1, 1, 5, 10, 15]\n",
    "train_rr = []\n",
    "val_rr = []\n",
    "best_val_rr = -float('inf'); best_alpha = None;\n",
    "for alpha in alphas:\n",
    "    full_pipeline.set_params(mlpregressor__alpha=alpha)\n",
    "    full_pipeline.fit(train_X_df, train_y_sr)\n",
    "    train_rr.append(full_pipeline.score(train_X_df, train_y_sr))\n",
    "    val_rr.append(full_pipeline.score(val_X_df, val_y_sr))\n",
    "    if val_rr[-1] > best_val_rr:\n",
    "        best_val_rr, best_alpha = val_rr[-1], alpha"
   ]
  },
  {
   "cell_type": "code",
   "execution_count": 74,
   "metadata": {},
   "outputs": [
    {
     "data": {
      "text/plain": [
       "[0.7199140404873566, 0.717630280427404, 0.7216920693255687, 0.7314301420072762]"
      ]
     },
     "execution_count": 74,
     "metadata": {},
     "output_type": "execute_result"
    }
   ],
   "source": [
    "val_rr"
   ]
  },
  {
   "cell_type": "code",
   "execution_count": 72,
   "metadata": {},
   "outputs": [
    {
     "data": {
      "text/plain": [
       "0.7314301420072762"
      ]
     },
     "execution_count": 72,
     "metadata": {},
     "output_type": "execute_result"
    }
   ],
   "source": [
    "best_val_rr"
   ]
  },
  {
   "cell_type": "code",
   "execution_count": 73,
   "metadata": {},
   "outputs": [
    {
     "data": {
      "text/plain": [
       "10"
      ]
     },
     "execution_count": 73,
     "metadata": {},
     "output_type": "execute_result"
    }
   ],
   "source": [
    "best_alpha"
   ]
  },
  {
   "cell_type": "markdown",
   "metadata": {},
   "source": [
    "Như vậy $R^2$ > 0.5, mô hình này có thể phù hợp để dự đoán các dữ liệu mới.\n"
   ]
  },
  {
   "cell_type": "markdown",
   "metadata": {},
   "source": [
    "Cuối cùng, ta sẽ huấn luyện lại `full_pipeline` trên `rest_X_df` và `rest_y_sr` (tập huấn luyện + tập validation) với `best_alpha` và `best_layer` tìm được ở trên để ra được mô hình cụ thể cuối cùng."
   ]
  },
  {
   "cell_type": "code",
   "execution_count": null,
   "metadata": {},
   "outputs": [],
   "source": [
    "full_pipeline = make_pipeline(ColAdderDropper(), column_transformer, StandardScaler(), MLPRegressor(alpha=best_alpha, hidden_layer_sizes=best_layer,\n",
    "                                                               activation='relu', solver='adam', random_state=0, max_iter=10000))\n",
    "full_pipeline.fit(rest_X_df, rest_y_sr)"
   ]
  },
  {
   "cell_type": "markdown",
   "metadata": {},
   "source": [
    "### 2. Đánh giá mô hình tìm được"
   ]
  },
  {
   "cell_type": "markdown",
   "metadata": {},
   "source": [
    "Sau khi đã có mô hình tốt nhất fit vào tập train, ta sẽ dùng mô hình đó để dự đoán tập test cuối cùng"
   ]
  },
  {
   "cell_type": "code",
   "execution_count": 47,
   "metadata": {},
   "outputs": [
    {
     "data": {
      "text/plain": [
       "15.210361013171648"
      ]
     },
     "execution_count": 47,
     "metadata": {},
     "output_type": "execute_result"
    }
   ],
   "source": [
    "(1 - full_pipeline.score(test_X_df, test_y_sr))*100"
   ]
  },
  {
   "cell_type": "markdown",
   "metadata": {},
   "source": [
    "## VII. Nhìn lại quá trình làm đồ án"
   ]
  },
  {
   "cell_type": "markdown",
   "metadata": {},
   "source": [
    "### 1. Khó khăn"
   ]
  },
  {
   "cell_type": "markdown",
   "metadata": {},
   "source": [
    "### 2. Những thứ học được"
   ]
  },
  {
   "cell_type": "markdown",
   "metadata": {},
   "source": [
    "### 3. Những điểu cần bổ sung nếu có thêm thời gian"
   ]
  },
  {
   "cell_type": "markdown",
   "metadata": {},
   "source": [
    "## VIII. Tài liệu tham khảo"
   ]
  },
  {
   "cell_type": "code",
   "execution_count": null,
   "metadata": {},
   "outputs": [],
   "source": []
  }
 ],
 "metadata": {
  "kernelspec": {
   "display_name": "Python 3",
   "language": "python",
   "name": "python3"
  },
  "language_info": {
   "codemirror_mode": {
    "name": "ipython",
    "version": 3
   },
   "file_extension": ".py",
   "mimetype": "text/x-python",
   "name": "python",
   "nbconvert_exporter": "python",
   "pygments_lexer": "ipython3",
   "version": "3.8.3"
  }
 },
 "nbformat": 4,
 "nbformat_minor": 4
}
