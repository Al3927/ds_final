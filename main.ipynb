{
 "cells": [
  {
   "cell_type": "markdown",
   "metadata": {},
   "source": [
    "# ĐỒ ÁN MÔN HỌC CUỐI KÌ\n",
    " \n",
    "__TÊN MÔN HỌC:__ NHẬP MÔN KHOA HỌC DỮ LIỆU\n",
    "\n",
    "__ĐỀ TÀI:__ ÁP DỤNG MÔ HÌNH HỌC MÁY ĐỂ DỰ ĐOÁN DOANH SỐ TRÊN SÀN THƯƠNG MẠI ĐIỆN TỬ SHOPEE\n",
    "\n",
    "__GIẢNG VIÊN:__ TRẦN TRUNG KIÊN\n",
    " \n",
    "__THỨ TỰ NHÓM:__ 15\n",
    " \n",
    "__THÀNH VIÊN:__\n",
    "\n",
    "- 18120184 - Nguyễn Nguyên Khang\n",
    "\n",
    "- 18120189 - Trần Đăng Khoa\n",
    "\n",
    "__PHÂN CÔNG:__\n",
    "\n",
    "Công việc | Thực hiện | Mức độ hoàn thành\n",
    "------------ | ------------- | ------------\n",
    "Thu thập dữ liệu | Khang | 100%\n",
    "Khám phá dữ liệu | Khang, Khoa | 100%\n",
    "Tiền xử lý dữ liệu | Khang, Khoa | 100%\n",
    "Mô hình hóa dữ liệu | Khoa | 100%"
   ]
  },
  {
   "cell_type": "markdown",
   "metadata": {},
   "source": [
    "# Mục lục\n",
    "- [Giới thiệu đồ án](#I.-Giới-thiệu-đồ-án)\n",
    "   - [Dữ liệu](#1.-Dữ-liệu)\n",
    "   - [Câu hỏi](#2.-Câu-hỏi)\n",
    "- [Thu thập dữ liệu](#II.-Thu-thập-dữ-liệu)\n",
    "  - [Lấy dữ liệu từ Shopee bằng API](#1.-Lấy-dữ-liệu-từ-Shopee-bằng-API)\n",
    "  - [Gộp dữ liệu](#2.-Gộp-dữ-liệu)\n",
    "- [Khám phá dữ liệu, tiền xử lý đơn giản và tách tập](#III.-Khám-phá-dữ-liệu,-tiền-xử-lý-đơn-giản-và-tách-tập)\n",
    "  - [Kiểm tra output hợp lệ](#1.-Kiểm-tra-output-hợp-lệ)\n",
    "  - [Ý nghĩa của mỗi dòng](#2.-Ý-nghĩa-của-mỗi-dòng)\n",
    "  - [Kiểm tra các giá trị trùng](#3.-Kiểm-tra-các-giá-trị-trùng)   \n",
    "  - [Kiểm tra các giá trị không hợp lệ](#4.-Kiểm-tra-các-giá-trị-không-hợp-lệ)\n",
    "  - [Xử lý dữ liệu bị lệch](#5.-Xử-lý-dữ-liệu-bị-lệch)\n",
    "  - [Tách các tập](#6.-Tách-các-tập) \n",
    "- [Khám phá dữ liệu](#IV.-Khám-phá-dữ-liệu)\n",
    "  - [Kiểm tra kiểu dữ liệu của input có phù hợp](#1.-Kiểm-tra-kiểu-dữ-liệu-của-input-có-phù-hợp)\n",
    "  - [Phân bố giá trị của cột có kiểu dữ liệu dạng số](#2.-Phân-bố-giá-trị-của-cột-có-kiểu-dữ-liệu-dạng-số)\n",
    "  - [Phân bố giá trị của cột có kiểu dữ liệu không phải dạng số](#3.-Phân-bố-giá-trị-của-cột-có-kiểu-dữ-liệu-không-phải-dạng-số)\n",
    "- [Tiền xử lý cho tập huấn luyện](#V.-Tiền-xử-lý-cho-tập-huấn-luyện)\n",
    "  - [Xử lý khác biệt ngữ nghĩa do parse data từ JSON](#1.-Xử-lý-khác-biệt-ngữ-nghĩa-do-parse-data-từ-JSON)\n",
    "  - [Bỏ cột](#2.-Bỏ-cột)\n",
    "  - [Sửa cột](#3.-Sửa-cột)\n",
    "  - [Xử lý giá trị thiếu](#4.-Xử-lý-giá-trị-thiếu)\n",
    "  - [Chuẩn hóa](#5.-Chuẩn-hóa)\n",
    "  - [Tạo pipeline](#6.-Tạo-pipeline)\n",
    "- [Mô hình hóa dữ liệu](#VI.-Mô-hình-hóa-dữ-liệu)\n",
    "  - [Tìm mô hình tốt nhất](#1.-Tìm-mô-hình-tốt-nhất)\n",
    "  - [Đánh giá mô hình tìm được](#2.-Đánh-giá-mô-hình-tìm-được)\n",
    "- [Nhìn lại quá trình làm đồ án](#VII.-Nhìn-lại-quá-trình-làm-đồ-án)\n",
    "  - [Khó khăn](#1.-Khó-khăn)\n",
    "  - [Những thứ học được](#2.-Những-thứ-học-được)\n",
    "  - [Những điều cần bổ sung nếu có thêm thời gian](#3.-Những-điều-cần-bổ-sung-nếu-có-thêm-thời-gian)\n",
    "- [Tài liệu tham khảo](#VIII.-Tài-liệu-tham-khảo)"
   ]
  },
  {
   "cell_type": "markdown",
   "metadata": {},
   "source": [
    "## I. Giới thiệu đồ án\n",
    "\n",
    "Mục đích chính của đồ án là xây dựng mô hình học máy để dự đoán doanh số bán hàng trên Shopee\n",
    "### 1. Dữ liệu\n",
    "\n",
    "Các món hàng _Thời trang nam_ trên Shopee\n",
    "\n",
    "Input là các thuộc tính của món hàng mà được biểu hiện ra trên giao diện của shopee.vn cho người dùng thấy như tên sản phẩm, giá thành,... và các thuộc tính ẩn bên dưới như thời gian sản phẩm được đăng, giá cao nhất,...\n",
    "\n",
    "Output là số lượng hàng đã bán được trong thời gian món hàng được đăng lên shopee cho đến lúc được lấy dữ liệu về máy\n",
    "\n",
    "Dữ liệu đúng vì được request từ API của Shopee, có nghĩa là Shopee cũng đang sử dụng dữ liệu này để hiện thị cho người tiêu dùng xem\n",
    "\n",
    "### 2. Câu hỏi\n",
    "\n",
    "*Output - doanh số -* được tính từ *input - các thông tin của sản phẩm -* theo công thức nào?\n",
    "\n",
    "Cảm hứng từ thực tế các trang thương mại điện tử ngày càng phát triển và nhu cầu trao đổi, mua bán, kinh doanh trên mạng cũng ngày càng tăng lên. \n",
    "\n",
    "Vì thế, trả lời cho câu hỏi này giúp ta có những chiến lược phù hợp để nâng cao doanh số sản phẩm\n",
    "\n"
   ]
  },
  {
   "cell_type": "markdown",
   "metadata": {},
   "source": [
    "## Import \n",
    "\n",
    "import trước các thư viện re, numpy, pandas, sklearn"
   ]
  },
  {
   "cell_type": "code",
   "execution_count": 1,
   "metadata": {},
   "outputs": [],
   "source": [
    "import re\n",
    "import pandas as pd\n",
    "import numpy as np\n",
    "%matplotlib inline\n",
    "import matplotlib.pyplot as plt\n",
    "\n",
    "from sklearn.model_selection import train_test_split\n",
    "from sklearn.model_selection import GridSearchCV\n",
    "from sklearn.compose import ColumnTransformer\n",
    "from sklearn.compose import make_column_transformer\n",
    "from sklearn.preprocessing import OneHotEncoder\n",
    "from sklearn.preprocessing import StandardScaler\n",
    "from sklearn.base import BaseEstimator, TransformerMixin\n",
    "from sklearn.impute import SimpleImputer\n",
    "from sklearn.pipeline import Pipeline, make_pipeline\n",
    "\n",
    "from sklearn import set_config\n",
    "set_config(display='diagram') # Để trực quan hóa pipeline\n",
    "# from sklearn.cross_validation import train_test_split\n",
    "\n",
    "from sklearn.neural_network import MLPRegressor\n",
    "from sklearn.linear_model import LinearRegression, SGDRegressor\n",
    "from sklearn.utils import resample\n",
    "\n",
    "#Set Option\n",
    "pd.set_option('max_colwidth', 10000)\n",
    "pd.set_option('display.max_rows', 500)\n",
    "pd.set_option('display.max_columns', 500)\n",
    "pd.set_option('display.width', 1000)"
   ]
  },
  {
   "cell_type": "markdown",
   "metadata": {},
   "source": [
    "## II. Thu thập dữ liệu"
   ]
  },
  {
   "cell_type": "markdown",
   "metadata": {},
   "source": [
    "### 1. Lấy dữ liệu từ Shopee bằng API \n",
    "Toàn bộ phần thu thập dữ liệu được nhóm đặt trong thư mục _Data Crawler_ và quá trình làm việc trong branch [_develope-Al27_](https://github.com/cstotodile/ds_final/tree/develope-Al27)"
   ]
  },
  {
   "cell_type": "markdown",
   "metadata": {},
   "source": [
    "### 2. Gộp dữ liệu (chỉ chạy khi có những file dữ liệu rời rạc)"
   ]
  },
  {
   "cell_type": "markdown",
   "metadata": {},
   "source": [
    "Do dữ liệu thu thập được nằm ở những file riêng lẻ, ta tiến hành gộp lại thành một tập dữ liệu duy nhất để khám phá"
   ]
  },
  {
   "cell_type": "code",
   "execution_count": 7,
   "metadata": {},
   "outputs": [],
   "source": [
    "dataset = ['AoNganTayKhongCo', 'AoSoMi', 'BaloTuiVi', 'GiayDep', 'PhuKien', 'Quan', 'AoKhoacAoVest', 'AoNi', 'AoNganTayCoCo', 'TrangSucNam']\n",
    "frames = [pd.read_csv(f'Data/ShopeeItem-ThoiTrangNam-{x}.tsv', sep='\\t') for x in dataset]\n",
    "items_df = pd.concat(frames, ignore_index=True, sort=False)"
   ]
  },
  {
   "cell_type": "markdown",
   "metadata": {},
   "source": [
    "Lưu file để nộp bài"
   ]
  },
  {
   "cell_type": "code",
   "execution_count": 8,
   "metadata": {},
   "outputs": [],
   "source": [
    "items_df.to_csv('Data/ShopeeItem-ThoiTrangNam-Full.tsv', sep='\\t', index=False)"
   ]
  },
  {
   "cell_type": "markdown",
   "metadata": {},
   "source": [
    "## III. Khám phá dữ liệu, tiền xử lý đơn giản và tách tập"
   ]
  },
  {
   "cell_type": "markdown",
   "metadata": {},
   "source": [
    "Đầu tiên ta sẽ đọc file dữ liệu vào DataFrame sau đó sẽ khám phá dữ liệu"
   ]
  },
  {
   "cell_type": "code",
   "execution_count": 14,
   "metadata": {},
   "outputs": [],
   "source": [
    "items_df = pd.read_csv('Data/ShopeeItem-ThoiTrangNam-Full.tsv', sep='\\t')"
   ]
  },
  {
   "cell_type": "code",
   "execution_count": 15,
   "metadata": {},
   "outputs": [
    {
     "data": {
      "text/plain": [
       "(10851, 34)"
      ]
     },
     "execution_count": 15,
     "metadata": {},
     "output_type": "execute_result"
    }
   ],
   "source": [
    "items_df.shape"
   ]
  },
  {
   "cell_type": "code",
   "execution_count": 16,
   "metadata": {},
   "outputs": [
    {
     "data": {
      "text/html": [
       "<div>\n",
       "<style scoped>\n",
       "    .dataframe tbody tr th:only-of-type {\n",
       "        vertical-align: middle;\n",
       "    }\n",
       "\n",
       "    .dataframe tbody tr th {\n",
       "        vertical-align: top;\n",
       "    }\n",
       "\n",
       "    .dataframe thead th {\n",
       "        text-align: right;\n",
       "    }\n",
       "</style>\n",
       "<table border=\"1\" class=\"dataframe\">\n",
       "  <thead>\n",
       "    <tr style=\"text-align: right;\">\n",
       "      <th></th>\n",
       "      <th>category_id</th>\n",
       "      <th>name</th>\n",
       "      <th>shop_location</th>\n",
       "      <th>item_public_time</th>\n",
       "      <th>item_be_got_time</th>\n",
       "      <th>sell_time</th>\n",
       "      <th>shopee_verified</th>\n",
       "      <th>discount</th>\n",
       "      <th>is_adult</th>\n",
       "      <th>options</th>\n",
       "      <th>show_official_shop_label_in_title</th>\n",
       "      <th>rating_star</th>\n",
       "      <th>five_star</th>\n",
       "      <th>four_star</th>\n",
       "      <th>three_star</th>\n",
       "      <th>two_star</th>\n",
       "      <th>one_star</th>\n",
       "      <th>flash_sale</th>\n",
       "      <th>upcoming_flash_sale</th>\n",
       "      <th>price_min</th>\n",
       "      <th>price_min_before_discount</th>\n",
       "      <th>price_max</th>\n",
       "      <th>price_max_before_discount</th>\n",
       "      <th>price</th>\n",
       "      <th>price_before_discount</th>\n",
       "      <th>coin_earn_label</th>\n",
       "      <th>liked_count</th>\n",
       "      <th>view_count</th>\n",
       "      <th>cmt_count</th>\n",
       "      <th>is_preferred_plus_seller</th>\n",
       "      <th>show_free_shipping</th>\n",
       "      <th>images</th>\n",
       "      <th>video_info_list</th>\n",
       "      <th>historical_sold</th>\n",
       "    </tr>\n",
       "  </thead>\n",
       "  <tbody>\n",
       "    <tr>\n",
       "      <th>0</th>\n",
       "      <td>8947</td>\n",
       "      <td>Áo thun phông Unisex nam nữ 2 màu Trắng Đen tay ngắn cổ tròn dáng ôm phối cực cá tính - V107</td>\n",
       "      <td>TP. Hồ Chí Minh</td>\n",
       "      <td>1.607317e+09</td>\n",
       "      <td>1.609949e+09</td>\n",
       "      <td>2632455.0</td>\n",
       "      <td>True</td>\n",
       "      <td>39%</td>\n",
       "      <td>False</td>\n",
       "      <td>8.0</td>\n",
       "      <td>False</td>\n",
       "      <td>5.000000</td>\n",
       "      <td>4.0</td>\n",
       "      <td>0.0</td>\n",
       "      <td>0.0</td>\n",
       "      <td>0.0</td>\n",
       "      <td>0.0</td>\n",
       "      <td>None</td>\n",
       "      <td>None</td>\n",
       "      <td>1.490000e+10</td>\n",
       "      <td>2.450000e+10</td>\n",
       "      <td>1.490000e+10</td>\n",
       "      <td>2.450000e+10</td>\n",
       "      <td>1.490000e+10</td>\n",
       "      <td>2.450000e+10</td>\n",
       "      <td>None</td>\n",
       "      <td>7.0</td>\n",
       "      <td>1048.0</td>\n",
       "      <td>4.0</td>\n",
       "      <td>True</td>\n",
       "      <td>False</td>\n",
       "      <td>8.0</td>\n",
       "      <td>0.0</td>\n",
       "      <td>18.0</td>\n",
       "    </tr>\n",
       "    <tr>\n",
       "      <th>1</th>\n",
       "      <td>8947</td>\n",
       "      <td>Áo Thun Trơn Nam [FREESHIP] Áo phông nam tay ngắn 100% cotton Trắng Đen dáng ôm vừa vặn AT01</td>\n",
       "      <td>TP. Hồ Chí Minh</td>\n",
       "      <td>1.596338e+09</td>\n",
       "      <td>1.609949e+09</td>\n",
       "      <td>13611374.0</td>\n",
       "      <td>True</td>\n",
       "      <td>49%</td>\n",
       "      <td>False</td>\n",
       "      <td>35.0</td>\n",
       "      <td>False</td>\n",
       "      <td>4.947977</td>\n",
       "      <td>166.0</td>\n",
       "      <td>5.0</td>\n",
       "      <td>2.0</td>\n",
       "      <td>0.0</td>\n",
       "      <td>0.0</td>\n",
       "      <td>None</td>\n",
       "      <td>None</td>\n",
       "      <td>1.090000e+10</td>\n",
       "      <td>1.090000e+10</td>\n",
       "      <td>1.090000e+10</td>\n",
       "      <td>2.150000e+10</td>\n",
       "      <td>1.090000e+10</td>\n",
       "      <td>1.090000e+10</td>\n",
       "      <td>None</td>\n",
       "      <td>109.0</td>\n",
       "      <td>10540.0</td>\n",
       "      <td>173.0</td>\n",
       "      <td>True</td>\n",
       "      <td>False</td>\n",
       "      <td>9.0</td>\n",
       "      <td>0.0</td>\n",
       "      <td>526.0</td>\n",
       "    </tr>\n",
       "    <tr>\n",
       "      <th>2</th>\n",
       "      <td>8947</td>\n",
       "      <td>[SALE 50%] - Áo Thun Nam Cổ Tròn Cao Cấp ( nhiều màu) Tay Ngắn, chất cotton bề mặt vải mềm Mịn cực hot</td>\n",
       "      <td>TP. Hồ Chí Minh</td>\n",
       "      <td>1.603988e+09</td>\n",
       "      <td>1.609949e+09</td>\n",
       "      <td>5961754.0</td>\n",
       "      <td>True</td>\n",
       "      <td>50%</td>\n",
       "      <td>False</td>\n",
       "      <td>48.0</td>\n",
       "      <td>False</td>\n",
       "      <td>4.885417</td>\n",
       "      <td>89.0</td>\n",
       "      <td>4.0</td>\n",
       "      <td>2.0</td>\n",
       "      <td>1.0</td>\n",
       "      <td>0.0</td>\n",
       "      <td>None</td>\n",
       "      <td>None</td>\n",
       "      <td>4.950000e+09</td>\n",
       "      <td>9.900000e+09</td>\n",
       "      <td>4.950000e+09</td>\n",
       "      <td>9.900000e+09</td>\n",
       "      <td>4.950000e+09</td>\n",
       "      <td>9.900000e+09</td>\n",
       "      <td>None</td>\n",
       "      <td>25.0</td>\n",
       "      <td>4025.0</td>\n",
       "      <td>96.0</td>\n",
       "      <td>True</td>\n",
       "      <td>False</td>\n",
       "      <td>9.0</td>\n",
       "      <td>0.0</td>\n",
       "      <td>431.0</td>\n",
       "    </tr>\n",
       "    <tr>\n",
       "      <th>3</th>\n",
       "      <td>8947</td>\n",
       "      <td>Áo thun nam unisex 100% cotton basic Trắng Đen áo phông co giãn cao cấp dáng rộng dễ phối đồ - V69</td>\n",
       "      <td>TP. Hồ Chí Minh</td>\n",
       "      <td>1.596083e+09</td>\n",
       "      <td>1.609949e+09</td>\n",
       "      <td>13866721.0</td>\n",
       "      <td>True</td>\n",
       "      <td>39%</td>\n",
       "      <td>False</td>\n",
       "      <td>8.0</td>\n",
       "      <td>False</td>\n",
       "      <td>5.000000</td>\n",
       "      <td>66.0</td>\n",
       "      <td>0.0</td>\n",
       "      <td>0.0</td>\n",
       "      <td>0.0</td>\n",
       "      <td>0.0</td>\n",
       "      <td>None</td>\n",
       "      <td>None</td>\n",
       "      <td>1.490000e+10</td>\n",
       "      <td>2.450000e+10</td>\n",
       "      <td>1.490000e+10</td>\n",
       "      <td>2.450000e+10</td>\n",
       "      <td>1.490000e+10</td>\n",
       "      <td>2.450000e+10</td>\n",
       "      <td>None</td>\n",
       "      <td>85.0</td>\n",
       "      <td>4551.0</td>\n",
       "      <td>66.0</td>\n",
       "      <td>True</td>\n",
       "      <td>False</td>\n",
       "      <td>7.0</td>\n",
       "      <td>0.0</td>\n",
       "      <td>141.0</td>\n",
       "    </tr>\n",
       "    <tr>\n",
       "      <th>4</th>\n",
       "      <td>8947</td>\n",
       "      <td>🔥XẢ HÀNG🔥 Áo đôi - áo cặp nam nữ dễ thương cực HOT</td>\n",
       "      <td>Hà Nội</td>\n",
       "      <td>1.590391e+09</td>\n",
       "      <td>1.609949e+09</td>\n",
       "      <td>19558163.0</td>\n",
       "      <td>False</td>\n",
       "      <td>None</td>\n",
       "      <td>False</td>\n",
       "      <td>10.0</td>\n",
       "      <td>False</td>\n",
       "      <td>4.687500</td>\n",
       "      <td>27.0</td>\n",
       "      <td>1.0</td>\n",
       "      <td>3.0</td>\n",
       "      <td>1.0</td>\n",
       "      <td>0.0</td>\n",
       "      <td>None</td>\n",
       "      <td>None</td>\n",
       "      <td>7.200000e+09</td>\n",
       "      <td>-1.000000e+00</td>\n",
       "      <td>7.200000e+09</td>\n",
       "      <td>-1.000000e+00</td>\n",
       "      <td>7.200000e+09</td>\n",
       "      <td>0.000000e+00</td>\n",
       "      <td>None</td>\n",
       "      <td>128.0</td>\n",
       "      <td>3613.0</td>\n",
       "      <td>32.0</td>\n",
       "      <td>False</td>\n",
       "      <td>False</td>\n",
       "      <td>1.0</td>\n",
       "      <td>0.0</td>\n",
       "      <td>158.0</td>\n",
       "    </tr>\n",
       "  </tbody>\n",
       "</table>\n",
       "</div>"
      ],
      "text/plain": [
       "   category_id                                                                                                    name    shop_location  item_public_time  item_be_got_time   sell_time shopee_verified discount is_adult  options show_official_shop_label_in_title  rating_star  five_star  four_star  three_star  two_star  one_star flash_sale upcoming_flash_sale     price_min  price_min_before_discount     price_max  price_max_before_discount         price  price_before_discount coin_earn_label  liked_count  view_count  cmt_count is_preferred_plus_seller show_free_shipping  images  video_info_list  historical_sold\n",
       "0         8947            Áo thun phông Unisex nam nữ 2 màu Trắng Đen tay ngắn cổ tròn dáng ôm phối cực cá tính - V107  TP. Hồ Chí Minh      1.607317e+09      1.609949e+09   2632455.0            True      39%    False      8.0                             False     5.000000        4.0        0.0         0.0       0.0       0.0       None                None  1.490000e+10               2.450000e+10  1.490000e+10               2.450000e+10  1.490000e+10           2.450000e+10            None          7.0      1048.0        4.0                     True              False     8.0              0.0             18.0\n",
       "1         8947            Áo Thun Trơn Nam [FREESHIP] Áo phông nam tay ngắn 100% cotton Trắng Đen dáng ôm vừa vặn AT01  TP. Hồ Chí Minh      1.596338e+09      1.609949e+09  13611374.0            True      49%    False     35.0                             False     4.947977      166.0        5.0         2.0       0.0       0.0       None                None  1.090000e+10               1.090000e+10  1.090000e+10               2.150000e+10  1.090000e+10           1.090000e+10            None        109.0     10540.0      173.0                     True              False     9.0              0.0            526.0\n",
       "2         8947  [SALE 50%] - Áo Thun Nam Cổ Tròn Cao Cấp ( nhiều màu) Tay Ngắn, chất cotton bề mặt vải mềm Mịn cực hot  TP. Hồ Chí Minh      1.603988e+09      1.609949e+09   5961754.0            True      50%    False     48.0                             False     4.885417       89.0        4.0         2.0       1.0       0.0       None                None  4.950000e+09               9.900000e+09  4.950000e+09               9.900000e+09  4.950000e+09           9.900000e+09            None         25.0      4025.0       96.0                     True              False     9.0              0.0            431.0\n",
       "3         8947      Áo thun nam unisex 100% cotton basic Trắng Đen áo phông co giãn cao cấp dáng rộng dễ phối đồ - V69  TP. Hồ Chí Minh      1.596083e+09      1.609949e+09  13866721.0            True      39%    False      8.0                             False     5.000000       66.0        0.0         0.0       0.0       0.0       None                None  1.490000e+10               2.450000e+10  1.490000e+10               2.450000e+10  1.490000e+10           2.450000e+10            None         85.0      4551.0       66.0                     True              False     7.0              0.0            141.0\n",
       "4         8947                                                      🔥XẢ HÀNG🔥 Áo đôi - áo cặp nam nữ dễ thương cực HOT           Hà Nội      1.590391e+09      1.609949e+09  19558163.0           False     None    False     10.0                             False     4.687500       27.0        1.0         3.0       1.0       0.0       None                None  7.200000e+09              -1.000000e+00  7.200000e+09              -1.000000e+00  7.200000e+09           0.000000e+00            None        128.0      3613.0       32.0                    False              False     1.0              0.0            158.0"
      ]
     },
     "execution_count": 16,
     "metadata": {},
     "output_type": "execute_result"
    }
   ],
   "source": [
    "items_df.head()"
   ]
  },
  {
   "cell_type": "markdown",
   "metadata": {},
   "source": [
    "### 1. Kiểm tra output hợp lệ\n",
    "Ta kiểm tra xem dữ liệu thu được có đủ điều kiện để mô hình hóa hay không? Vì đây là bài toán hồi qui nên cột output bắt buộc phải có dạng số; nếu hiện chưa có dạng số (ví dụ, số nhưng được lưu dưới dạng chuỗi) thì ta cần chuyển sang dạng số rồi mới tách các tập."
   ]
  },
  {
   "cell_type": "code",
   "execution_count": 17,
   "metadata": {},
   "outputs": [
    {
     "data": {
      "text/plain": [
       "dtype('float64')"
      ]
     },
     "execution_count": 17,
     "metadata": {},
     "output_type": "execute_result"
    }
   ],
   "source": [
    "# Cột output hiện có kiểu dữ liệu gì?\n",
    "items_df['historical_sold'].dtype"
   ]
  },
  {
   "cell_type": "code",
   "execution_count": 18,
   "metadata": {},
   "outputs": [
    {
     "data": {
      "text/plain": [
       "1"
      ]
     },
     "execution_count": 18,
     "metadata": {},
     "output_type": "execute_result"
    }
   ],
   "source": [
    "# Cột output có giá trị thiếu không?\n",
    "items_df['historical_sold'].isna().sum()"
   ]
  },
  {
   "cell_type": "code",
   "execution_count": 19,
   "metadata": {},
   "outputs": [],
   "source": [
    "# Xóa các mẫu có giá trị output thiếu\n",
    "items_df.dropna(subset=['historical_sold'], inplace=True)"
   ]
  },
  {
   "cell_type": "code",
   "execution_count": 20,
   "metadata": {},
   "outputs": [
    {
     "data": {
      "text/plain": [
       "count    10850.000000\n",
       "mean        92.164516\n",
       "std        844.028673\n",
       "min          0.000000\n",
       "25%          0.000000\n",
       "50%          0.000000\n",
       "75%          4.000000\n",
       "max      37079.000000\n",
       "Name: historical_sold, dtype: float64"
      ]
     },
     "execution_count": 20,
     "metadata": {},
     "output_type": "execute_result"
    }
   ],
   "source": [
    "# Xem phân bố các giá trị của output\n",
    "items_df['historical_sold'].describe()"
   ]
  },
  {
   "cell_type": "markdown",
   "metadata": {},
   "source": [
    "Ta có thể thấy giá trị 0 chiếm rất nhiều trong output khiến cho phân bố bị lệch rõ rệt, hãy xem biểu đồ phân bố dưới đây"
   ]
  },
  {
   "cell_type": "code",
   "execution_count": 21,
   "metadata": {},
   "outputs": [
    {
     "data": {
      "text/plain": [
       "<matplotlib.axes._subplots.AxesSubplot at 0x7fec5dee70a0>"
      ]
     },
     "execution_count": 21,
     "metadata": {},
     "output_type": "execute_result"
    },
    {
     "data": {
      "image/png": "[encoded data removed]",
      "text/plain": [
       "<Figure size 432x288 with 1 Axes>"
      ]
     },
     "metadata": {
      "needs_background": "light"
     },
     "output_type": "display_data"
    }
   ],
   "source": [
    "items_df['historical_sold'].plot.hist(bins=range(0, 500,10), edgecolor='black')"
   ]
  },
  {
   "cell_type": "code",
   "execution_count": 22,
   "metadata": {},
   "outputs": [
    {
     "data": {
      "text/plain": [
       "22.392901815404624"
      ]
     },
     "execution_count": 22,
     "metadata": {},
     "output_type": "execute_result"
    }
   ],
   "source": [
    "# Tính thử độ lệch của output\n",
    "items_df['historical_sold'].skew()"
   ]
  },
  {
   "cell_type": "markdown",
   "metadata": {},
   "source": [
    "Ta sẽ quay lại xử lý vấn đề này sau"
   ]
  },
  {
   "cell_type": "markdown",
   "metadata": {},
   "source": [
    "### 2. Ý nghĩa của mỗi dòng\n",
    "Quan sát sơ bộ dữ liệu và qua quá trình crawler data, ta thấy mỗi dòng chứa thông tin của một món hàng, và không có vấn đề các dòng có ý nghĩa khác nhau."
   ]
  },
  {
   "cell_type": "markdown",
   "metadata": {},
   "source": [
    "### 3. Kiểm tra các giá trị trùng\n",
    "Ta xem thử có bao nhiều mẫu bị trùng giá trị"
   ]
  },
  {
   "cell_type": "code",
   "execution_count": 23,
   "metadata": {},
   "outputs": [
    {
     "data": {
      "text/plain": [
       "102"
      ]
     },
     "execution_count": 23,
     "metadata": {},
     "output_type": "execute_result"
    }
   ],
   "source": [
    "num_duplicated_rows = items_df.duplicated().sum()\n",
    "num_duplicated_rows"
   ]
  },
  {
   "cell_type": "markdown",
   "metadata": {},
   "source": [
    "Xóa các mẫu có giá trị trùng bằng phương thức drop_duplicates của pandas, mặc định giữ lại dòng có giá trị lặp đầu tiên"
   ]
  },
  {
   "cell_type": "code",
   "execution_count": 24,
   "metadata": {},
   "outputs": [],
   "source": [
    "items_df = items_df.drop_duplicates(ignore_index = True)"
   ]
  },
  {
   "cell_type": "markdown",
   "metadata": {},
   "source": [
    "### 4. Kiểm tra các giá trị không hợp lệ"
   ]
  },
  {
   "cell_type": "code",
   "execution_count": 25,
   "metadata": {},
   "outputs": [
    {
     "data": {
      "text/html": [
       "<div>\n",
       "<style scoped>\n",
       "    .dataframe tbody tr th:only-of-type {\n",
       "        vertical-align: middle;\n",
       "    }\n",
       "\n",
       "    .dataframe tbody tr th {\n",
       "        vertical-align: top;\n",
       "    }\n",
       "\n",
       "    .dataframe thead th {\n",
       "        text-align: right;\n",
       "    }\n",
       "</style>\n",
       "<table border=\"1\" class=\"dataframe\">\n",
       "  <thead>\n",
       "    <tr style=\"text-align: right;\">\n",
       "      <th></th>\n",
       "      <th>category_id</th>\n",
       "      <th>item_public_time</th>\n",
       "      <th>item_be_got_time</th>\n",
       "      <th>sell_time</th>\n",
       "      <th>options</th>\n",
       "      <th>rating_star</th>\n",
       "      <th>five_star</th>\n",
       "      <th>four_star</th>\n",
       "      <th>three_star</th>\n",
       "      <th>two_star</th>\n",
       "      <th>one_star</th>\n",
       "      <th>price_min</th>\n",
       "      <th>price_min_before_discount</th>\n",
       "      <th>price_max</th>\n",
       "      <th>price_max_before_discount</th>\n",
       "      <th>price</th>\n",
       "      <th>price_before_discount</th>\n",
       "      <th>liked_count</th>\n",
       "      <th>view_count</th>\n",
       "      <th>cmt_count</th>\n",
       "      <th>images</th>\n",
       "      <th>video_info_list</th>\n",
       "      <th>historical_sold</th>\n",
       "    </tr>\n",
       "  </thead>\n",
       "  <tbody>\n",
       "    <tr>\n",
       "      <th>count</th>\n",
       "      <td>10748.000000</td>\n",
       "      <td>1.074800e+04</td>\n",
       "      <td>1.074800e+04</td>\n",
       "      <td>1.074800e+04</td>\n",
       "      <td>10748.000000</td>\n",
       "      <td>10748.000000</td>\n",
       "      <td>10748.000000</td>\n",
       "      <td>10748.000000</td>\n",
       "      <td>10748.000000</td>\n",
       "      <td>10748.000000</td>\n",
       "      <td>10748.000000</td>\n",
       "      <td>1.074800e+04</td>\n",
       "      <td>1.074800e+04</td>\n",
       "      <td>1.074800e+04</td>\n",
       "      <td>1.074800e+04</td>\n",
       "      <td>1.074800e+04</td>\n",
       "      <td>1.074800e+04</td>\n",
       "      <td>10748.000000</td>\n",
       "      <td>10748.000000</td>\n",
       "      <td>10748.000000</td>\n",
       "      <td>10748.000000</td>\n",
       "      <td>10748.000000</td>\n",
       "      <td>10748.000000</td>\n",
       "    </tr>\n",
       "    <tr>\n",
       "      <th>mean</th>\n",
       "      <td>7820.808895</td>\n",
       "      <td>1.615117e+09</td>\n",
       "      <td>1.610267e+09</td>\n",
       "      <td>-4.849890e+06</td>\n",
       "      <td>14.083923</td>\n",
       "      <td>1.512381</td>\n",
       "      <td>17.058523</td>\n",
       "      <td>1.077131</td>\n",
       "      <td>0.473111</td>\n",
       "      <td>0.156866</td>\n",
       "      <td>0.304243</td>\n",
       "      <td>2.490995e+10</td>\n",
       "      <td>1.942725e+10</td>\n",
       "      <td>2.564087e+10</td>\n",
       "      <td>1.988520e+10</td>\n",
       "      <td>2.491504e+10</td>\n",
       "      <td>1.949396e+10</td>\n",
       "      <td>377.439896</td>\n",
       "      <td>332.093599</td>\n",
       "      <td>19.031169</td>\n",
       "      <td>6.764421</td>\n",
       "      <td>0.082713</td>\n",
       "      <td>89.395702</td>\n",
       "    </tr>\n",
       "    <tr>\n",
       "      <th>std</th>\n",
       "      <td>4532.649995</td>\n",
       "      <td>1.639321e+08</td>\n",
       "      <td>3.366795e+05</td>\n",
       "      <td>1.638767e+08</td>\n",
       "      <td>13.191224</td>\n",
       "      <td>2.233879</td>\n",
       "      <td>174.807206</td>\n",
       "      <td>14.037485</td>\n",
       "      <td>7.121846</td>\n",
       "      <td>2.869150</td>\n",
       "      <td>6.136859</td>\n",
       "      <td>2.676040e+10</td>\n",
       "      <td>2.441459e+10</td>\n",
       "      <td>2.721072e+10</td>\n",
       "      <td>2.489001e+10</td>\n",
       "      <td>2.675672e+10</td>\n",
       "      <td>2.457162e+10</td>\n",
       "      <td>2223.495576</td>\n",
       "      <td>3215.224983</td>\n",
       "      <td>202.068231</td>\n",
       "      <td>2.586901</td>\n",
       "      <td>0.275461</td>\n",
       "      <td>835.687930</td>\n",
       "    </tr>\n",
       "    <tr>\n",
       "      <th>min</th>\n",
       "      <td>1899.000000</td>\n",
       "      <td>1.439048e+09</td>\n",
       "      <td>1.609910e+09</td>\n",
       "      <td>-1.567207e+09</td>\n",
       "      <td>0.000000</td>\n",
       "      <td>0.000000</td>\n",
       "      <td>0.000000</td>\n",
       "      <td>0.000000</td>\n",
       "      <td>0.000000</td>\n",
       "      <td>0.000000</td>\n",
       "      <td>0.000000</td>\n",
       "      <td>2.500000e+08</td>\n",
       "      <td>-2.000000e+00</td>\n",
       "      <td>2.730000e+08</td>\n",
       "      <td>-2.000000e+00</td>\n",
       "      <td>2.500000e+08</td>\n",
       "      <td>0.000000e+00</td>\n",
       "      <td>0.000000</td>\n",
       "      <td>0.000000</td>\n",
       "      <td>0.000000</td>\n",
       "      <td>1.000000</td>\n",
       "      <td>0.000000</td>\n",
       "      <td>0.000000</td>\n",
       "    </tr>\n",
       "    <tr>\n",
       "      <th>25%</th>\n",
       "      <td>2829.000000</td>\n",
       "      <td>1.582929e+09</td>\n",
       "      <td>1.609949e+09</td>\n",
       "      <td>2.874107e+06</td>\n",
       "      <td>4.000000</td>\n",
       "      <td>0.000000</td>\n",
       "      <td>0.000000</td>\n",
       "      <td>0.000000</td>\n",
       "      <td>0.000000</td>\n",
       "      <td>0.000000</td>\n",
       "      <td>0.000000</td>\n",
       "      <td>9.900000e+09</td>\n",
       "      <td>-1.000000e+00</td>\n",
       "      <td>9.990000e+09</td>\n",
       "      <td>-1.000000e+00</td>\n",
       "      <td>9.900000e+09</td>\n",
       "      <td>0.000000e+00</td>\n",
       "      <td>0.000000</td>\n",
       "      <td>0.000000</td>\n",
       "      <td>0.000000</td>\n",
       "      <td>5.000000</td>\n",
       "      <td>0.000000</td>\n",
       "      <td>0.000000</td>\n",
       "    </tr>\n",
       "    <tr>\n",
       "      <th>50%</th>\n",
       "      <td>8947.000000</td>\n",
       "      <td>1.598349e+09</td>\n",
       "      <td>1.609994e+09</td>\n",
       "      <td>1.200848e+07</td>\n",
       "      <td>10.000000</td>\n",
       "      <td>0.000000</td>\n",
       "      <td>0.000000</td>\n",
       "      <td>0.000000</td>\n",
       "      <td>0.000000</td>\n",
       "      <td>0.000000</td>\n",
       "      <td>0.000000</td>\n",
       "      <td>1.790000e+10</td>\n",
       "      <td>1.290000e+10</td>\n",
       "      <td>1.817000e+10</td>\n",
       "      <td>1.291000e+10</td>\n",
       "      <td>1.790000e+10</td>\n",
       "      <td>1.290000e+10</td>\n",
       "      <td>0.000000</td>\n",
       "      <td>0.000000</td>\n",
       "      <td>0.000000</td>\n",
       "      <td>8.000000</td>\n",
       "      <td>0.000000</td>\n",
       "      <td>0.000000</td>\n",
       "    </tr>\n",
       "    <tr>\n",
       "      <th>75%</th>\n",
       "      <td>9572.000000</td>\n",
       "      <td>1.607335e+09</td>\n",
       "      <td>1.610629e+09</td>\n",
       "      <td>2.730005e+07</td>\n",
       "      <td>20.000000</td>\n",
       "      <td>4.714286</td>\n",
       "      <td>1.000000</td>\n",
       "      <td>0.000000</td>\n",
       "      <td>0.000000</td>\n",
       "      <td>0.000000</td>\n",
       "      <td>0.000000</td>\n",
       "      <td>3.092000e+10</td>\n",
       "      <td>3.200000e+10</td>\n",
       "      <td>3.157750e+10</td>\n",
       "      <td>3.300000e+10</td>\n",
       "      <td>3.093250e+10</td>\n",
       "      <td>3.200000e+10</td>\n",
       "      <td>5.000000</td>\n",
       "      <td>28.000000</td>\n",
       "      <td>1.000000</td>\n",
       "      <td>9.000000</td>\n",
       "      <td>0.000000</td>\n",
       "      <td>4.000000</td>\n",
       "    </tr>\n",
       "    <tr>\n",
       "      <th>max</th>\n",
       "      <td>15139.000000</td>\n",
       "      <td>3.177817e+09</td>\n",
       "      <td>1.610639e+09</td>\n",
       "      <td>1.715907e+08</td>\n",
       "      <td>100.000000</td>\n",
       "      <td>5.996798</td>\n",
       "      <td>7869.000000</td>\n",
       "      <td>777.000000</td>\n",
       "      <td>427.000000</td>\n",
       "      <td>199.000000</td>\n",
       "      <td>462.000000</td>\n",
       "      <td>6.900000e+11</td>\n",
       "      <td>3.580000e+11</td>\n",
       "      <td>6.900000e+11</td>\n",
       "      <td>3.580000e+11</td>\n",
       "      <td>6.900000e+11</td>\n",
       "      <td>3.580000e+11</td>\n",
       "      <td>79919.000000</td>\n",
       "      <td>189252.000000</td>\n",
       "      <td>9737.000000</td>\n",
       "      <td>9.000000</td>\n",
       "      <td>1.000000</td>\n",
       "      <td>37079.000000</td>\n",
       "    </tr>\n",
       "  </tbody>\n",
       "</table>\n",
       "</div>"
      ],
      "text/plain": [
       "        category_id  item_public_time  item_be_got_time     sell_time       options   rating_star     five_star     four_star    three_star      two_star      one_star     price_min  price_min_before_discount     price_max  price_max_before_discount         price  price_before_discount   liked_count     view_count     cmt_count        images  video_info_list  historical_sold\n",
       "count  10748.000000      1.074800e+04      1.074800e+04  1.074800e+04  10748.000000  10748.000000  10748.000000  10748.000000  10748.000000  10748.000000  10748.000000  1.074800e+04               1.074800e+04  1.074800e+04               1.074800e+04  1.074800e+04           1.074800e+04  10748.000000   10748.000000  10748.000000  10748.000000     10748.000000     10748.000000\n",
       "mean    7820.808895      1.615117e+09      1.610267e+09 -4.849890e+06     14.083923      1.512381     17.058523      1.077131      0.473111      0.156866      0.304243  2.490995e+10               1.942725e+10  2.564087e+10               1.988520e+10  2.491504e+10           1.949396e+10    377.439896     332.093599     19.031169      6.764421         0.082713        89.395702\n",
       "std     4532.649995      1.639321e+08      3.366795e+05  1.638767e+08     13.191224      2.233879    174.807206     14.037485      7.121846      2.869150      6.136859  2.676040e+10               2.441459e+10  2.721072e+10               2.489001e+10  2.675672e+10           2.457162e+10   2223.495576    3215.224983    202.068231      2.586901         0.275461       835.687930\n",
       "min     1899.000000      1.439048e+09      1.609910e+09 -1.567207e+09      0.000000      0.000000      0.000000      0.000000      0.000000      0.000000      0.000000  2.500000e+08              -2.000000e+00  2.730000e+08              -2.000000e+00  2.500000e+08           0.000000e+00      0.000000       0.000000      0.000000      1.000000         0.000000         0.000000\n",
       "25%     2829.000000      1.582929e+09      1.609949e+09  2.874107e+06      4.000000      0.000000      0.000000      0.000000      0.000000      0.000000      0.000000  9.900000e+09              -1.000000e+00  9.990000e+09              -1.000000e+00  9.900000e+09           0.000000e+00      0.000000       0.000000      0.000000      5.000000         0.000000         0.000000\n",
       "50%     8947.000000      1.598349e+09      1.609994e+09  1.200848e+07     10.000000      0.000000      0.000000      0.000000      0.000000      0.000000      0.000000  1.790000e+10               1.290000e+10  1.817000e+10               1.291000e+10  1.790000e+10           1.290000e+10      0.000000       0.000000      0.000000      8.000000         0.000000         0.000000\n",
       "75%     9572.000000      1.607335e+09      1.610629e+09  2.730005e+07     20.000000      4.714286      1.000000      0.000000      0.000000      0.000000      0.000000  3.092000e+10               3.200000e+10  3.157750e+10               3.300000e+10  3.093250e+10           3.200000e+10      5.000000      28.000000      1.000000      9.000000         0.000000         4.000000\n",
       "max    15139.000000      3.177817e+09      1.610639e+09  1.715907e+08    100.000000      5.996798   7869.000000    777.000000    427.000000    199.000000    462.000000  6.900000e+11               3.580000e+11  6.900000e+11               3.580000e+11  6.900000e+11           3.580000e+11  79919.000000  189252.000000   9737.000000      9.000000         1.000000     37079.000000"
      ]
     },
     "execution_count": 25,
     "metadata": {},
     "output_type": "execute_result"
    }
   ],
   "source": [
    "items_df.describe()"
   ]
  },
  {
   "cell_type": "markdown",
   "metadata": {},
   "source": [
    "Nhìn vào bảng trên, ta thấy có một số bất thường. Thật ra giá trị của những mẫu này đều đang hoạt động bình thường trên giao diện shopee nên khả năng lỗi là rất thấp. Ta vẫn xem xét các trường hợp như sau:\n",
    "\n",
    "1. Cột price_min_before_discount và cột price_max_before_discount có giá trị âm\n",
    "\n",
    "2. Cột sell_time có giá trị âm\n",
    "  \n",
    "2. So sánh price_min > price_max, price_min_before_discount > price_max_before_discount\n",
    "\n",
    "3. So sánh price < price_before_discount, price_min < price_min_before_discount, price_max < price_max_before_discount"
   ]
  },
  {
   "cell_type": "code",
   "execution_count": 26,
   "metadata": {},
   "outputs": [
    {
     "data": {
      "text/plain": [
       "0.39067733531819876"
      ]
     },
     "execution_count": 26,
     "metadata": {},
     "output_type": "execute_result"
    }
   ],
   "source": [
    "# Xử lý trường hợp 1.\n",
    "\n",
    "invalid_price_negative = (items_df.price_min_before_discount < 0) | (items_df.price_max_before_discount < 0)\n",
    "invalid_price_negative_vals = invalid_price_negative.sum()\n",
    "invalid_price_negative_vals/len(items_df)"
   ]
  },
  {
   "cell_type": "markdown",
   "metadata": {},
   "source": [
    "Ta thấy có đến xấp xỉ 39.07% các giá trị `price_min_before_discount` và `price_min_before_discount` bị âm.\n",
    "Do shopee vẫn hiển thị bình thường nên ta dự đoán có lẽ do tại những mẫu có giá trị âm này thì `discount` = None "
   ]
  },
  {
   "cell_type": "code",
   "execution_count": 27,
   "metadata": {},
   "outputs": [
    {
     "name": "stdout",
     "output_type": "stream",
     "text": [
      "0.39067733531819876\n",
      "True\n"
     ]
    }
   ],
   "source": [
    "print((items_df.discount == 'None').sum()/len(items_df))\n",
    "print((items_df.discount == 'None').sum()/len(items_df) == invalid_price_negative_vals/len(items_df))"
   ]
  },
  {
   "cell_type": "markdown",
   "metadata": {},
   "source": [
    "Kiểm tra thấy hai giá trị là hoàn toàn giống nhau chứng tỏ dự đoán là đúng.\n",
    "Vậy code Shopee chịu lỗi này hoặc đây là quy ước data của shopee, khi lấy mẫu mới về từ Shopee trường hợp này vẫn sẽ là giá trị âm. Vậy nên những giá trị âm này ta xem như hợp lệ."
   ]
  },
  {
   "cell_type": "code",
   "execution_count": 28,
   "metadata": {},
   "outputs": [
    {
     "data": {
      "text/plain": [
       "348"
      ]
     },
     "execution_count": 28,
     "metadata": {},
     "output_type": "execute_result"
    }
   ],
   "source": [
    "# Xử lý trường hợp 2.\n",
    "invalid_sell_time = (items_df['sell_time'] < 0)\n",
    "invalid_sell_time.sum()"
   ]
  },
  {
   "cell_type": "markdown",
   "metadata": {},
   "source": [
    "Có khá nhiều mẫu có thuộc tính sell_time âm, ta xóa những mẫu này"
   ]
  },
  {
   "cell_type": "code",
   "execution_count": 29,
   "metadata": {},
   "outputs": [],
   "source": [
    "items_df = items_df[~invalid_sell_time]"
   ]
  },
  {
   "cell_type": "code",
   "execution_count": 30,
   "metadata": {},
   "outputs": [
    {
     "data": {
      "text/plain": [
       "1"
      ]
     },
     "execution_count": 30,
     "metadata": {},
     "output_type": "execute_result"
    }
   ],
   "source": [
    "# Xử lý trường hợp 3\n",
    "invalid_price_min_max = (items_df.price_min_before_discount > items_df.price_max_before_discount) | (items_df.price_max < items_df.price_min)\n",
    "invalid_price_min_max_vals = invalid_price_min_max.sum()\n",
    "invalid_price_min_max_vals\n"
   ]
  },
  {
   "cell_type": "markdown",
   "metadata": {},
   "source": [
    "Có 1 mẫu bất hợp lệ trong trường hợp này, ta xóa nốt"
   ]
  },
  {
   "cell_type": "code",
   "execution_count": 31,
   "metadata": {},
   "outputs": [],
   "source": [
    "items_df = items_df[~invalid_price_min_max]"
   ]
  },
  {
   "cell_type": "code",
   "execution_count": 32,
   "metadata": {},
   "outputs": [
    {
     "data": {
      "text/plain": [
       "0.3993653235888066"
      ]
     },
     "execution_count": 32,
     "metadata": {},
     "output_type": "execute_result"
    }
   ],
   "source": [
    "# Xử lý trường hợp 4\n",
    "invalid_price_before_after = (items_df.price > items_df.price_before_discount) | (items_df.price_min > items_df.price_min_before_discount) | (items_df.price_max > items_df.price_max_before_discount)\n",
    "invalid_price_before_after_vals = invalid_price_before_after.sum()\n",
    "invalid_price_before_after_vals / len(items_df)"
   ]
  },
  {
   "cell_type": "markdown",
   "metadata": {},
   "source": [
    "Ta thấy phần trăm các giá trị lỗi giống như ở trường hợp 1 nên kiểm tra riêng lại cho điều kiện (items_df.price_min > items_df.price_min_before_discount) | (items_df.price_max > items_df.price_max_before_discount)"
   ]
  },
  {
   "cell_type": "code",
   "execution_count": 33,
   "metadata": {},
   "outputs": [
    {
     "name": "stdout",
     "output_type": "stream",
     "text": [
      "(items_df.price_min > items_df.price_min_before_discount) | (items_df.price_max > items_df.price_max_before_discount):\n",
      "-> 0.3993653235888066\n",
      "True if it equal to (items_df.discount == \"None\").sum()/len(items_df))\n",
      "-> True\n"
     ]
    }
   ],
   "source": [
    "print('(items_df.price_min > items_df.price_min_before_discount) | (items_df.price_max > items_df.price_max_before_discount):\\n->', ((items_df.price_min > items_df.price_min_before_discount) | (items_df.price_max > items_df.price_max_before_discount)).sum()/len(items_df))\n",
    "print('True if it equal to (items_df.discount == \"None\").sum()/len(items_df))\\n->', ((items_df.price_min > items_df.price_min_before_discount) | (items_df.price_max > items_df.price_max_before_discount)).sum()/len(items_df) == (items_df.discount == 'None').sum()/len(items_df))"
   ]
  },
  {
   "cell_type": "markdown",
   "metadata": {},
   "source": [
    "Vậy tương tự như trường hợp 1, những giá trị này là hợp lệ."
   ]
  },
  {
   "cell_type": "markdown",
   "metadata": {},
   "source": [
    "Kiểm tra lại số mẫu"
   ]
  },
  {
   "cell_type": "code",
   "execution_count": 35,
   "metadata": {},
   "outputs": [
    {
     "data": {
      "text/plain": [
       "(10399, 34)"
      ]
     },
     "execution_count": 35,
     "metadata": {},
     "output_type": "execute_result"
    }
   ],
   "source": [
    "items_df.shape"
   ]
  },
  {
   "cell_type": "markdown",
   "metadata": {},
   "source": [
    "### 5. Xử lý dữ liệu bị lệch"
   ]
  },
  {
   "cell_type": "markdown",
   "metadata": {},
   "source": [
    "Ta sẽ viết một hàm để giảm độ lệch của dữ liệu, ý tưởng là giảm số lượng giá trị xuất hiện nhiều nhất bằng với số lượng của giá trị xuất hiện nhiều thứ 2 cho đến khi độ lệch đạt một mức nào đó, ta sẽ điều chỉnh tham số s là độ lệch của cột đó sau khi transform bằng log(x + 1)"
   ]
  },
  {
   "cell_type": "code",
   "execution_count": 36,
   "metadata": {},
   "outputs": [],
   "source": [
    "def reduce_skew(df, column, s=0.6):\n",
    "    k = df.copy()\n",
    "    while (np.log(k[column] + 1).skew() > s):\n",
    "        vc = k[column].value_counts()\n",
    "        mf = vc.index[0]\n",
    "        if len(vc[vc < vc[0]]):\n",
    "            sf_n = vc[vc < vc[0]].iloc[0]\n",
    "        else:\n",
    "            break\n",
    "        mf_sample = k[k[column] == mf]\n",
    "        not_mf_sample = k[k[column] != mf]\n",
    "        undersampled = resample(mf_sample, replace = False,\n",
    "                                    n_samples = sf_n, random_state = 0)\n",
    "        k = pd.concat([undersampled, not_mf_sample])\n",
    "    return k"
   ]
  },
  {
   "cell_type": "markdown",
   "metadata": {},
   "source": [
    "Gọi hàm reduce_skew với mỗi s tùy chọn, lưu ý rằng khi độ lệch càng nhỏ tức là phải bỏ đi nhiều mẫu, ta sẽ cố gắng cân bằng sao cho độ lệch và số mẫu chấp nhận được"
   ]
  },
  {
   "cell_type": "code",
   "execution_count": 37,
   "metadata": {},
   "outputs": [
    {
     "data": {
      "text/plain": [
       "(3967, 34)"
      ]
     },
     "execution_count": 37,
     "metadata": {},
     "output_type": "execute_result"
    }
   ],
   "source": [
    "x = reduce_skew(items_df, 'historical_sold', 0.9)\n",
    "x.shape"
   ]
  },
  {
   "cell_type": "code",
   "execution_count": 38,
   "metadata": {},
   "outputs": [
    {
     "data": {
      "text/plain": [
       "<matplotlib.axes._subplots.AxesSubplot at 0x7fec5d4e81c0>"
      ]
     },
     "execution_count": 38,
     "metadata": {},
     "output_type": "execute_result"
    },
    {
     "data": {
      "image/png": "[encoded data removed]",
      "text/plain": [
       "<Figure size 432x288 with 1 Axes>"
      ]
     },
     "metadata": {
      "needs_background": "light"
     },
     "output_type": "display_data"
    }
   ],
   "source": [
    "transformed = np.log(x['historical_sold'] + 1)\n",
    "transformed.plot.hist(bins=range(0, 11, 1), edgecolor='black')"
   ]
  },
  {
   "cell_type": "markdown",
   "metadata": {},
   "source": [
    "Ta thấy khi s = 0.9 thì phân phối có vẻ tốt, ngoài ra tập dữ liệu của chúng ta chỉ còn 3967 mẫu. Khi thấy ổn ta tiến hành cập nhật dữ liệu bằng cách gán lại vào df"
   ]
  },
  {
   "cell_type": "code",
   "execution_count": 39,
   "metadata": {},
   "outputs": [
    {
     "data": {
      "text/plain": [
       "14.191024989235334"
      ]
     },
     "execution_count": 39,
     "metadata": {},
     "output_type": "execute_result"
    }
   ],
   "source": [
    "items_df = x\n",
    "items_df['historical_sold'].skew()"
   ]
  },
  {
   "cell_type": "markdown",
   "metadata": {},
   "source": [
    "Sau đó ta sẽ transform cột output bằng hàm log(x + 1) để dữ liệu phân bố đều hơn"
   ]
  },
  {
   "cell_type": "code",
   "execution_count": 40,
   "metadata": {},
   "outputs": [
    {
     "data": {
      "text/plain": [
       "0.7989797963253716"
      ]
     },
     "execution_count": 40,
     "metadata": {},
     "output_type": "execute_result"
    }
   ],
   "source": [
    "items_df['historical_sold'] = np.log(items_df['historical_sold'] + 1)\n",
    "items_df['historical_sold'].skew()"
   ]
  },
  {
   "cell_type": "code",
   "execution_count": 41,
   "metadata": {},
   "outputs": [
    {
     "data": {
      "text/plain": [
       "count    3967.000000\n",
       "mean        2.745083\n",
       "std         2.055163\n",
       "min         0.000000\n",
       "25%         1.098612\n",
       "50%         2.302585\n",
       "75%         4.158883\n",
       "max        10.520833\n",
       "Name: historical_sold, dtype: float64"
      ]
     },
     "execution_count": 41,
     "metadata": {},
     "output_type": "execute_result"
    }
   ],
   "source": [
    "items_df['historical_sold'].describe()"
   ]
  },
  {
   "cell_type": "markdown",
   "metadata": {},
   "source": [
    "### 6. Tách các tập\n",
    "Vậy là dữ liệu đã sẵn sàng để tách và khám phá"
   ]
  },
  {
   "cell_type": "code",
   "execution_count": 42,
   "metadata": {},
   "outputs": [],
   "source": [
    "# Tách X và y\n",
    "y_sr = items_df[\"historical_sold\"]\n",
    "X_df = items_df.drop(\"historical_sold\", axis=1)"
   ]
  },
  {
   "cell_type": "code",
   "execution_count": 43,
   "metadata": {},
   "outputs": [],
   "source": [
    "# Tách train và test\n",
    "rest_X_df, test_X_df, rest_y_sr, test_y_sr = train_test_split(X_df, y_sr, test_size=0.2, random_state=0)"
   ]
  },
  {
   "cell_type": "code",
   "execution_count": 44,
   "metadata": {},
   "outputs": [],
   "source": [
    "# Tách train và validation\n",
    "train_X_df, val_X_df, train_y_sr, val_y_sr = train_test_split(rest_X_df, rest_y_sr, test_size=0.2, random_state=0)"
   ]
  },
  {
   "cell_type": "code",
   "execution_count": 45,
   "metadata": {},
   "outputs": [
    {
     "data": {
      "text/plain": [
       "(2538, 33)"
      ]
     },
     "execution_count": 45,
     "metadata": {},
     "output_type": "execute_result"
    }
   ],
   "source": [
    "train_X_df.shape"
   ]
  },
  {
   "cell_type": "code",
   "execution_count": 46,
   "metadata": {},
   "outputs": [
    {
     "data": {
      "text/plain": [
       "(2538,)"
      ]
     },
     "execution_count": 46,
     "metadata": {},
     "output_type": "execute_result"
    }
   ],
   "source": [
    "train_y_sr.shape"
   ]
  },
  {
   "cell_type": "code",
   "execution_count": 47,
   "metadata": {},
   "outputs": [
    {
     "data": {
      "text/plain": [
       "(635, 33)"
      ]
     },
     "execution_count": 47,
     "metadata": {},
     "output_type": "execute_result"
    }
   ],
   "source": [
    "val_X_df.shape"
   ]
  },
  {
   "cell_type": "code",
   "execution_count": 48,
   "metadata": {},
   "outputs": [
    {
     "data": {
      "text/plain": [
       "(635,)"
      ]
     },
     "execution_count": 48,
     "metadata": {},
     "output_type": "execute_result"
    }
   ],
   "source": [
    "val_y_sr.shape"
   ]
  },
  {
   "cell_type": "code",
   "execution_count": 49,
   "metadata": {},
   "outputs": [
    {
     "data": {
      "text/plain": [
       "(794, 33)"
      ]
     },
     "execution_count": 49,
     "metadata": {},
     "output_type": "execute_result"
    }
   ],
   "source": [
    "test_X_df.shape"
   ]
  },
  {
   "cell_type": "code",
   "execution_count": 50,
   "metadata": {},
   "outputs": [
    {
     "data": {
      "text/plain": [
       "(794,)"
      ]
     },
     "execution_count": 50,
     "metadata": {},
     "output_type": "execute_result"
    }
   ],
   "source": [
    "test_y_sr.shape"
   ]
  },
  {
   "cell_type": "markdown",
   "metadata": {},
   "source": [
    "## IV. Khám phá dữ liệu\n",
    "\n",
    "Quá trình làm việc của nhóm trong branch [Preprocessing](https://github.com/cstotodile/ds_final/tree/Preprocessing)\n"
   ]
  },
  {
   "cell_type": "markdown",
   "metadata": {},
   "source": [
    "### 1. Kiểm tra kiểu dữ liệu của input có phù hợp"
   ]
  },
  {
   "cell_type": "code",
   "execution_count": 51,
   "metadata": {},
   "outputs": [
    {
     "data": {
      "text/plain": [
       "category_id                            int64\n",
       "name                                  object\n",
       "shop_location                         object\n",
       "item_public_time                     float64\n",
       "item_be_got_time                     float64\n",
       "sell_time                            float64\n",
       "shopee_verified                       object\n",
       "discount                              object\n",
       "is_adult                              object\n",
       "options                              float64\n",
       "show_official_shop_label_in_title     object\n",
       "rating_star                          float64\n",
       "five_star                            float64\n",
       "four_star                            float64\n",
       "three_star                           float64\n",
       "two_star                             float64\n",
       "one_star                             float64\n",
       "flash_sale                            object\n",
       "upcoming_flash_sale                   object\n",
       "price_min                            float64\n",
       "price_min_before_discount            float64\n",
       "price_max                            float64\n",
       "price_max_before_discount            float64\n",
       "price                                float64\n",
       "price_before_discount                float64\n",
       "coin_earn_label                       object\n",
       "liked_count                          float64\n",
       "view_count                           float64\n",
       "cmt_count                            float64\n",
       "is_preferred_plus_seller              object\n",
       "show_free_shipping                    object\n",
       "images                               float64\n",
       "video_info_list                      float64\n",
       "dtype: object"
      ]
     },
     "execution_count": 51,
     "metadata": {},
     "output_type": "execute_result"
    }
   ],
   "source": [
    "train_X_df.dtypes"
   ]
  },
  {
   "cell_type": "markdown",
   "metadata": {},
   "source": [
    "Ta nhận thấy thuộc tính `discount` có kiểu dữ liệu không phù hợp, đáng lẽ phải ở dạng số. Ta hãy kiểm tra xem `discount` giữ những giá trị gì?"
   ]
  },
  {
   "cell_type": "code",
   "execution_count": 52,
   "metadata": {},
   "outputs": [
    {
     "data": {
      "text/plain": [
       "array(['48%', '46%', 'None', '47%', '36%', '30%', '34%', '13%', '19%',\n",
       "       '56%', '43%', '41%', '40%', '35%', '25%', '50%', '42%', '33%',\n",
       "       '45%', '38%', '7%', '37%', '31%', '29%', '18%', '15%', '39%',\n",
       "       '49%', '20%', '44%', '26%', '5%', '24%', '32%', '21%', '23%',\n",
       "       '27%', '28%', '10%', '22%', '4%', '53%', '1%', '17%', '12%', '51%',\n",
       "       '11%', '14%', '6%', '16%', '9%', '3%', '8%', '61%', '2%', '60%',\n",
       "       '52%'], dtype=object)"
      ]
     },
     "execution_count": 52,
     "metadata": {},
     "output_type": "execute_result"
    }
   ],
   "source": [
    "train_X_df['discount'].unique()"
   ]
  },
  {
   "cell_type": "markdown",
   "metadata": {},
   "source": [
    "Nhận xét: `discount` gồm con số và theo sau là kí tự %, `discount` có giá trị 'None'"
   ]
  },
  {
   "cell_type": "markdown",
   "metadata": {},
   "source": [
    "### 2. Phân bố giá trị của cột có kiểu dữ liệu dạng số\n",
    "\n",
    "- Tỉ lệ % (từ 0 đến 100) các giá trị thiếu \n",
    "- Giá trị min\n",
    "- Giá trị lower quartile (phân vị 25)\n",
    "- Giá trị median (phân vị 50)\n",
    "- Giá trị upper quartile (phân vị 75)\n",
    "- Giá trị max\n",
    "\n",
    "Kết quả được lưu vào DataFrame `num_col_info_df`, trong đó: \n",
    "- Tên của các cột là tên của các cột số trong `train_X_df`\n",
    "- Tên của các dòng là: \"missing_ratio\", \"min\", \"lower_quartile\", \"median\", \"upper_quartile\", \"max\" "
   ]
  },
  {
   "cell_type": "code",
   "execution_count": 66,
   "metadata": {},
   "outputs": [],
   "source": [
    "num_cols = ['item_public_time','item_be_got_time', 'sell_time', 'discount', \n",
    "            'options', 'rating_star' ,'five_star', 'four_star', 'three_star', \n",
    "            'two_star' ,'one_star' ,'price_min_before_discount', 'price_max', 'price_min', \n",
    "            'price_max_before_discount', 'price', 'price_before_discount', \n",
    "            'liked_count', 'view_count', 'cmt_count','images', 'video_info_list']\n",
    "cat_cols = list(set(train_X_df.columns) - set(num_cols))"
   ]
  },
  {
   "cell_type": "code",
   "execution_count": 67,
   "metadata": {},
   "outputs": [
    {
     "data": {
      "text/html": [
       "<div>\n",
       "<style scoped>\n",
       "    .dataframe tbody tr th:only-of-type {\n",
       "        vertical-align: middle;\n",
       "    }\n",
       "\n",
       "    .dataframe tbody tr th {\n",
       "        vertical-align: top;\n",
       "    }\n",
       "\n",
       "    .dataframe thead th {\n",
       "        text-align: right;\n",
       "    }\n",
       "</style>\n",
       "<table border=\"1\" class=\"dataframe\">\n",
       "  <thead>\n",
       "    <tr style=\"text-align: right;\">\n",
       "      <th></th>\n",
       "      <th>item_public_time</th>\n",
       "      <th>item_be_got_time</th>\n",
       "      <th>sell_time</th>\n",
       "      <th>discount</th>\n",
       "      <th>options</th>\n",
       "      <th>rating_star</th>\n",
       "      <th>five_star</th>\n",
       "      <th>four_star</th>\n",
       "      <th>three_star</th>\n",
       "      <th>two_star</th>\n",
       "      <th>one_star</th>\n",
       "      <th>price_min_before_discount</th>\n",
       "      <th>price_max</th>\n",
       "      <th>price_min</th>\n",
       "      <th>price_max_before_discount</th>\n",
       "      <th>price</th>\n",
       "      <th>price_before_discount</th>\n",
       "      <th>liked_count</th>\n",
       "      <th>view_count</th>\n",
       "      <th>cmt_count</th>\n",
       "      <th>images</th>\n",
       "      <th>video_info_list</th>\n",
       "    </tr>\n",
       "  </thead>\n",
       "  <tbody>\n",
       "    <tr>\n",
       "      <th>missing_ratio</th>\n",
       "      <td>0.000000e+00</td>\n",
       "      <td>0.000000e+00</td>\n",
       "      <td>0.0</td>\n",
       "      <td>0</td>\n",
       "      <td>0.0</td>\n",
       "      <td>0.0</td>\n",
       "      <td>0.0</td>\n",
       "      <td>0.0</td>\n",
       "      <td>0.0</td>\n",
       "      <td>0.0</td>\n",
       "      <td>0.0</td>\n",
       "      <td>0.000000e+00</td>\n",
       "      <td>0.000000e+00</td>\n",
       "      <td>0.000000e+00</td>\n",
       "      <td>0.000000e+00</td>\n",
       "      <td>0.000000e+00</td>\n",
       "      <td>0.000000e+00</td>\n",
       "      <td>0.0</td>\n",
       "      <td>0.0</td>\n",
       "      <td>0.0</td>\n",
       "      <td>0.0</td>\n",
       "      <td>0.0</td>\n",
       "    </tr>\n",
       "    <tr>\n",
       "      <th>min</th>\n",
       "      <td>1.439048e+09</td>\n",
       "      <td>1.609910e+09</td>\n",
       "      <td>70041.0</td>\n",
       "      <td>1%</td>\n",
       "      <td>0.0</td>\n",
       "      <td>0.0</td>\n",
       "      <td>0.0</td>\n",
       "      <td>0.0</td>\n",
       "      <td>0.0</td>\n",
       "      <td>0.0</td>\n",
       "      <td>0.0</td>\n",
       "      <td>-1.000000e+00</td>\n",
       "      <td>2.730000e+08</td>\n",
       "      <td>2.665000e+08</td>\n",
       "      <td>-1.000000e+00</td>\n",
       "      <td>2.665000e+08</td>\n",
       "      <td>0.000000e+00</td>\n",
       "      <td>0.0</td>\n",
       "      <td>0.0</td>\n",
       "      <td>0.0</td>\n",
       "      <td>1.0</td>\n",
       "      <td>0.0</td>\n",
       "    </tr>\n",
       "    <tr>\n",
       "      <th>lower_quartile</th>\n",
       "      <td>1.559014e+09</td>\n",
       "      <td>1.609949e+09</td>\n",
       "      <td>12112114.8</td>\n",
       "      <td>NaN</td>\n",
       "      <td>4.0</td>\n",
       "      <td>4.0</td>\n",
       "      <td>1.0</td>\n",
       "      <td>0.0</td>\n",
       "      <td>0.0</td>\n",
       "      <td>0.0</td>\n",
       "      <td>0.0</td>\n",
       "      <td>-1.000000e+00</td>\n",
       "      <td>7.500000e+09</td>\n",
       "      <td>6.900000e+09</td>\n",
       "      <td>-1.000000e+00</td>\n",
       "      <td>6.900000e+09</td>\n",
       "      <td>0.000000e+00</td>\n",
       "      <td>1.0</td>\n",
       "      <td>4.0</td>\n",
       "      <td>1.0</td>\n",
       "      <td>5.0</td>\n",
       "      <td>0.0</td>\n",
       "    </tr>\n",
       "    <tr>\n",
       "      <th>median</th>\n",
       "      <td>1.583827e+09</td>\n",
       "      <td>1.609994e+09</td>\n",
       "      <td>26419699.5</td>\n",
       "      <td>NaN</td>\n",
       "      <td>9.0</td>\n",
       "      <td>4.9</td>\n",
       "      <td>3.0</td>\n",
       "      <td>0.0</td>\n",
       "      <td>0.0</td>\n",
       "      <td>0.0</td>\n",
       "      <td>0.0</td>\n",
       "      <td>1.250000e+10</td>\n",
       "      <td>1.152140e+10</td>\n",
       "      <td>1.098500e+10</td>\n",
       "      <td>1.290000e+10</td>\n",
       "      <td>1.098500e+10</td>\n",
       "      <td>1.250000e+10</td>\n",
       "      <td>8.0</td>\n",
       "      <td>42.0</td>\n",
       "      <td>3.0</td>\n",
       "      <td>8.0</td>\n",
       "      <td>0.0</td>\n",
       "    </tr>\n",
       "    <tr>\n",
       "      <th>upper_quartile</th>\n",
       "      <td>1.598262e+09</td>\n",
       "      <td>1.610629e+09</td>\n",
       "      <td>51440169.5</td>\n",
       "      <td>NaN</td>\n",
       "      <td>18.0</td>\n",
       "      <td>5.0</td>\n",
       "      <td>14.0</td>\n",
       "      <td>1.0</td>\n",
       "      <td>0.0</td>\n",
       "      <td>0.0</td>\n",
       "      <td>0.0</td>\n",
       "      <td>2.100000e+10</td>\n",
       "      <td>1.890000e+10</td>\n",
       "      <td>1.850000e+10</td>\n",
       "      <td>2.150000e+10</td>\n",
       "      <td>1.850000e+10</td>\n",
       "      <td>2.100000e+10</td>\n",
       "      <td>185.0</td>\n",
       "      <td>204.0</td>\n",
       "      <td>15.0</td>\n",
       "      <td>9.0</td>\n",
       "      <td>0.0</td>\n",
       "    </tr>\n",
       "    <tr>\n",
       "      <th>max</th>\n",
       "      <td>1.610296e+09</td>\n",
       "      <td>1.610639e+09</td>\n",
       "      <td>171590688.0</td>\n",
       "      <td>None</td>\n",
       "      <td>80.0</td>\n",
       "      <td>5.0</td>\n",
       "      <td>7869.0</td>\n",
       "      <td>777.0</td>\n",
       "      <td>427.0</td>\n",
       "      <td>199.0</td>\n",
       "      <td>462.0</td>\n",
       "      <td>1.750000e+11</td>\n",
       "      <td>6.900000e+11</td>\n",
       "      <td>6.900000e+11</td>\n",
       "      <td>1.750000e+11</td>\n",
       "      <td>6.900000e+11</td>\n",
       "      <td>1.750000e+11</td>\n",
       "      <td>70382.0</td>\n",
       "      <td>189252.0</td>\n",
       "      <td>9737.0</td>\n",
       "      <td>9.0</td>\n",
       "      <td>1.0</td>\n",
       "    </tr>\n",
       "  </tbody>\n",
       "</table>\n",
       "</div>"
      ],
      "text/plain": [
       "                item_public_time  item_be_got_time    sell_time discount  options  rating_star  five_star  four_star  three_star  two_star  one_star  price_min_before_discount     price_max     price_min  price_max_before_discount         price  price_before_discount  liked_count  view_count  cmt_count  images  video_info_list\n",
       "missing_ratio       0.000000e+00      0.000000e+00          0.0        0      0.0          0.0        0.0        0.0         0.0       0.0       0.0               0.000000e+00  0.000000e+00  0.000000e+00               0.000000e+00  0.000000e+00           0.000000e+00          0.0         0.0        0.0     0.0              0.0\n",
       "min                 1.439048e+09      1.609910e+09      70041.0       1%      0.0          0.0        0.0        0.0         0.0       0.0       0.0              -1.000000e+00  2.730000e+08  2.665000e+08              -1.000000e+00  2.665000e+08           0.000000e+00          0.0         0.0        0.0     1.0              0.0\n",
       "lower_quartile      1.559014e+09      1.609949e+09   12112114.8      NaN      4.0          4.0        1.0        0.0         0.0       0.0       0.0              -1.000000e+00  7.500000e+09  6.900000e+09              -1.000000e+00  6.900000e+09           0.000000e+00          1.0         4.0        1.0     5.0              0.0\n",
       "median              1.583827e+09      1.609994e+09   26419699.5      NaN      9.0          4.9        3.0        0.0         0.0       0.0       0.0               1.250000e+10  1.152140e+10  1.098500e+10               1.290000e+10  1.098500e+10           1.250000e+10          8.0        42.0        3.0     8.0              0.0\n",
       "upper_quartile      1.598262e+09      1.610629e+09   51440169.5      NaN     18.0          5.0       14.0        1.0         0.0       0.0       0.0               2.100000e+10  1.890000e+10  1.850000e+10               2.150000e+10  1.850000e+10           2.100000e+10        185.0       204.0       15.0     9.0              0.0\n",
       "max                 1.610296e+09      1.610639e+09  171590688.0     None     80.0          5.0     7869.0      777.0       427.0     199.0     462.0               1.750000e+11  6.900000e+11  6.900000e+11               1.750000e+11  6.900000e+11           1.750000e+11      70382.0    189252.0     9737.0     9.0              1.0"
      ]
     },
     "execution_count": 67,
     "metadata": {},
     "output_type": "execute_result"
    }
   ],
   "source": [
    "def missing_ratio(df):\n",
    "    return (df.isna().mean() * 100).round(1)\n",
    "def lower_quartile(df):\n",
    "    return df.quantile(0.25)\n",
    "def median(df):\n",
    "    return df.quantile(0.5)\n",
    "def upper_quartile(df):\n",
    "    return df.quantile(0.75)\n",
    "df = train_X_df[num_cols]\n",
    "num_col_info_df = df.agg([missing_ratio, min, lower_quartile, median, upper_quartile, max]).round(1)\n",
    "num_col_info_df"
   ]
  },
  {
   "cell_type": "markdown",
   "metadata": {},
   "source": [
    "Nhận xét: Tuy một số thuộc tính có phân bố bị lệch nhưng điều này không ảnh hưởng đến việc mô hình hóa, nhìn chung thì không có gì bất thường cả"
   ]
  },
  {
   "cell_type": "markdown",
   "metadata": {},
   "source": [
    "### 3. Phân bố giá trị của cột có kiểu dữ liệu không phải dạng số\n",
    "\n",
    "- Tỉ lệ % (từ 0 đến 100) các giá trị thiếu \n",
    "\n",
    "- Số lượng các giá trị (các giá trị ở đây là các giá trị khác nhau và ta không xét giá trị thiếu)\n",
    "\n",
    "- Tỉ lệ % (từ 0 đến 100) của mỗi giá trị được sort theo tỉ lệ % giảm dần (ta không xét giá trị thiếu, tỉ lệ là tỉ lệ so với số lượng các giá trị không thiếu): dùng dictionary để lưu, key là giá trị, value là tỉ lệ %\n",
    "\n",
    "Kết quả được lưu vào DataFrame `cat_col_info_df`, trong đó: \n",
    "\n",
    "- Tên của các cột là tên của các cột không phải số trong `train_X_df`\n",
    "- Tên của các dòng là: \"missing_ratio\", \"num_values\", \"value_ratios\"  "
   ]
  },
  {
   "cell_type": "markdown",
   "metadata": {},
   "source": [
    "Trước hết kiểm tra có bao nhiêu giá trị `name`"
   ]
  },
  {
   "cell_type": "code",
   "execution_count": 68,
   "metadata": {},
   "outputs": [
    {
     "data": {
      "text/plain": [
       "2213"
      ]
     },
     "execution_count": 68,
     "metadata": {},
     "output_type": "execute_result"
    }
   ],
   "source": [
    "len(train_X_df['name'].unique())"
   ]
  },
  {
   "cell_type": "markdown",
   "metadata": {},
   "source": [
    "Do giá trị `name` rất nhiều ta sẽ không xét nó nữa và sẽ xóa trong phần tiền xử lý"
   ]
  },
  {
   "cell_type": "code",
   "execution_count": 71,
   "metadata": {},
   "outputs": [],
   "source": [
    "cat_cols = list(set(cat_cols) - set(['name']))"
   ]
  },
  {
   "cell_type": "code",
   "execution_count": 72,
   "metadata": {},
   "outputs": [
    {
     "data": {
      "text/html": [
       "<div>\n",
       "<style scoped>\n",
       "    .dataframe tbody tr th:only-of-type {\n",
       "        vertical-align: middle;\n",
       "    }\n",
       "\n",
       "    .dataframe tbody tr th {\n",
       "        vertical-align: top;\n",
       "    }\n",
       "\n",
       "    .dataframe thead th {\n",
       "        text-align: right;\n",
       "    }\n",
       "</style>\n",
       "<table border=\"1\" class=\"dataframe\">\n",
       "  <thead>\n",
       "    <tr style=\"text-align: right;\">\n",
       "      <th></th>\n",
       "      <th>show_free_shipping</th>\n",
       "      <th>coin_earn_label</th>\n",
       "      <th>shop_location</th>\n",
       "      <th>show_official_shop_label_in_title</th>\n",
       "      <th>category_id</th>\n",
       "      <th>upcoming_flash_sale</th>\n",
       "      <th>flash_sale</th>\n",
       "      <th>is_preferred_plus_seller</th>\n",
       "      <th>is_adult</th>\n",
       "      <th>shopee_verified</th>\n",
       "    </tr>\n",
       "  </thead>\n",
       "  <tbody>\n",
       "    <tr>\n",
       "      <th>missing_ratio</th>\n",
       "      <td>0</td>\n",
       "      <td>0</td>\n",
       "      <td>0</td>\n",
       "      <td>0</td>\n",
       "      <td>0</td>\n",
       "      <td>0</td>\n",
       "      <td>0</td>\n",
       "      <td>0</td>\n",
       "      <td>0</td>\n",
       "      <td>0</td>\n",
       "    </tr>\n",
       "    <tr>\n",
       "      <th>num_values</th>\n",
       "      <td>2</td>\n",
       "      <td>1</td>\n",
       "      <td>37</td>\n",
       "      <td>3</td>\n",
       "      <td>9</td>\n",
       "      <td>1</td>\n",
       "      <td>1</td>\n",
       "      <td>2</td>\n",
       "      <td>2</td>\n",
       "      <td>2</td>\n",
       "    </tr>\n",
       "    <tr>\n",
       "      <th>value_ratios</th>\n",
       "      <td>{False: 56.7, True: 43.3}</td>\n",
       "      <td>{'None': 100.0}</td>\n",
       "      <td>{'Hà Nội': 39.8, 'Nước ngoài': 26.8, 'TP. Hồ Chí Minh': 26.6, 'None': 0.7, 'Bình Định': 0.7, 'Bình Dương': 0.7, 'Quảng Ninh': 0.6, 'Hà Nam': 0.5, 'Đồng Nai': 0.5, 'Phú Thọ': 0.5, 'Hưng Yên': 0.2, 'An Giang': 0.2, 'Hải Dương': 0.2, 'Lào Cai': 0.2, 'Bắc Ninh': 0.2, 'Đắk Lắk': 0.2, 'Đắk Nông': 0.2, 'Hải Phòng': 0.2, 'Cần Thơ': 0.1, 'Nghệ An': 0.1, 'Ninh Bình': 0.1, 'Thái Nguyên': 0.1, 'Thừa Thiên Huế': 0.1, 'Bà Rịa - Vũng Tàu': 0.1, 'Nam Định': 0.1, 'Kon Tum': 0.1, 'Đà Nẵng': 0.1, 'Thanh Hóa': 0.0, 'Lâm Đồng': 0.0, 'TP. Hồ Chí': 0.0, 'Cà Mau': 0.0, 'Thái Bình': 0.0, 'Bình Thuận': 0.0, 'Vĩnh Phúc': 0.0, 'Bắc Kạn': 0.0, 'Bắc Giang': 0.0, 'Tiền Giang': 0.0}</td>\n",
       "      <td>{'False': 94.8, 'True': 4.3, 'None': 0.9}</td>\n",
       "      <td>{15139: 24.3, 8947: 14.1, 8948: 13.5, 2429: 13.1, 1899: 11.7, 2831: 8.0, 9572: 7.4, 2829: 4.8, 8945: 3.1}</td>\n",
       "      <td>{'None': 100.0}</td>\n",
       "      <td>{'None': 100.0}</td>\n",
       "      <td>{False: 93.1, True: 6.9}</td>\n",
       "      <td>{'False': 100.0, 'True': 0.0}</td>\n",
       "      <td>{False: 57.1, True: 42.9}</td>\n",
       "    </tr>\n",
       "  </tbody>\n",
       "</table>\n",
       "</div>"
      ],
      "text/plain": [
       "                      show_free_shipping  coin_earn_label                                                                                                                                                                                                                                                                                                                                                                                                                                                                                                                                                                                                                                                                        shop_location          show_official_shop_label_in_title                                                                                                category_id upcoming_flash_sale       flash_sale  is_preferred_plus_seller                       is_adult            shopee_verified\n",
       "missing_ratio                          0                0                                                                                                                                                                                                                                                                                                                                                                                                                                                                                                                                                                                                                                                                                    0                                          0                                                                                                          0                   0                0                         0                              0                          0\n",
       "num_values                             2                1                                                                                                                                                                                                                                                                                                                                                                                                                                                                                                                                                                                                                                                                                   37                                          3                                                                                                          9                   1                1                         2                              2                          2\n",
       "value_ratios   {False: 56.7, True: 43.3}  {'None': 100.0}  {'Hà Nội': 39.8, 'Nước ngoài': 26.8, 'TP. Hồ Chí Minh': 26.6, 'None': 0.7, 'Bình Định': 0.7, 'Bình Dương': 0.7, 'Quảng Ninh': 0.6, 'Hà Nam': 0.5, 'Đồng Nai': 0.5, 'Phú Thọ': 0.5, 'Hưng Yên': 0.2, 'An Giang': 0.2, 'Hải Dương': 0.2, 'Lào Cai': 0.2, 'Bắc Ninh': 0.2, 'Đắk Lắk': 0.2, 'Đắk Nông': 0.2, 'Hải Phòng': 0.2, 'Cần Thơ': 0.1, 'Nghệ An': 0.1, 'Ninh Bình': 0.1, 'Thái Nguyên': 0.1, 'Thừa Thiên Huế': 0.1, 'Bà Rịa - Vũng Tàu': 0.1, 'Nam Định': 0.1, 'Kon Tum': 0.1, 'Đà Nẵng': 0.1, 'Thanh Hóa': 0.0, 'Lâm Đồng': 0.0, 'TP. Hồ Chí': 0.0, 'Cà Mau': 0.0, 'Thái Bình': 0.0, 'Bình Thuận': 0.0, 'Vĩnh Phúc': 0.0, 'Bắc Kạn': 0.0, 'Bắc Giang': 0.0, 'Tiền Giang': 0.0}  {'False': 94.8, 'True': 4.3, 'None': 0.9}  {15139: 24.3, 8947: 14.1, 8948: 13.5, 2429: 13.1, 1899: 11.7, 2831: 8.0, 9572: 7.4, 2829: 4.8, 8945: 3.1}     {'None': 100.0}  {'None': 100.0}  {False: 93.1, True: 6.9}  {'False': 100.0, 'True': 0.0}  {False: 57.1, True: 42.9}"
      ]
     },
     "execution_count": 72,
     "metadata": {},
     "output_type": "execute_result"
    }
   ],
   "source": [
    "def missing_ratio(df):\n",
    "    return (df.isna().mean() * 100).round(1)\n",
    "def num_values(df):\n",
    "    return df.nunique()\n",
    "def value_ratios(c):\n",
    "    return dict((c.value_counts(normalize=True) * 100).round(1))\n",
    "df = train_X_df[cat_cols]\n",
    "cat_col_info_df = df.agg([missing_ratio, num_values, value_ratios])\n",
    "cat_col_info_df"
   ]
  },
  {
   "cell_type": "markdown",
   "metadata": {},
   "source": [
    "Nhận xét: \n",
    "- Không có giá trị thiếu nhưng có giá trị 'None' ở một vài thuộc tính, có lẽ những giá trị 'None' này chính là những giá trị thiếu\n",
    "- Thuộc tính `coin_earn_label`, `flash_sale` và `upcoming_flash_sale` thiếu 100% giá trị\n",
    "- Thuộc tính `is_adult` có 100% giá trị False\n",
    "- Thuộc tính `show_official_shop_label_in_title` có giá trị True False nhưng ở dạng chuỗi\n",
    "- Thuộc tính `shop_location` có 3 giá trị chiếm phần lớn mẫu là 'Hà Nội', 'TP. Hồ Chí Minh', 'Nước ngoài' với tỉ lệ chiếm là hơn 90%"
   ]
  },
  {
   "cell_type": "markdown",
   "metadata": {},
   "source": [
    "## V. Tiền xử lý cho tập huấn luyện"
   ]
  },
  {
   "cell_type": "markdown",
   "metadata": {},
   "source": [
    "### 1. Xử lý khác biệt ngữ nghĩa do parse data từ JSON\n",
    "\n",
    "Do dữ liệu trả về từ API của shopee, những dữ liệu thiếu có dạng string: 'None' nên pandas sẽ không đếm được lượng dữ liệu không có giá trị này. Ta tiến hành thay 'None' thành np.nan để có thể đếm lượng dữ liệu thiếu này chính xác."
   ]
  },
  {
   "cell_type": "markdown",
   "metadata": {},
   "source": [
    "### 2. Bỏ cột\n",
    "\n",
    "Ta sẽ tiến hành bỏ những cột sau:\n",
    "- `name`: do quá nhiều giá trị, nếu mã hóa bằng OneHot hoặc sử dụng kỹ thuật Bag of Word thì số cột tăng lên rất nhiều\n",
    "- `flash_sale`, `upcoming_flash_sale`, `coin_earn_label`: 3 thuộc tính đều bị thiếu toàn bộ dữ liệu nên vô nghĩa\n",
    "- `is_adult`: chỉ có giá trị False nên cũng vô nghĩa"
   ]
  },
  {
   "cell_type": "markdown",
   "metadata": {},
   "source": [
    "### 3. Sửa cột\n",
    "Ta tiến hành sửa những cột sau: \n",
    "1. `shop_location`: Thuộc tính có giá trị thiếu, lưu ý rằng các dữ liệu này vẫn hoạt động tốt trên Shopee nên ta dùng lệnh sau để xem những mẫu nào bị _thiếu_ và đối chiếu với trên Shopee.\n",
    "\n",
    "Sau khi đối chiếu ta được kết quả sau: \n",
    "\n",
    "Mẫu không thiếu:\n",
    "\n",
    "![shop_location_not_missing_value](images/shop_location_not_missing_value.jpg)\n",
    "\n",
    "Mẫu thiếu:\n",
    "\n",
    "![shop_location_missing_value](images/shop_location_missing_value.jpg)\n",
    "\n",
    "Tức là những mẫu có thuộc tính `shop_location` thiếu sẽ không hiển thị vị trí shop ở góc dưới\n",
    "\n",
    "Vậy ta sẽ xử lý bằng cách thay các giá trị thiếu này thành chuỗi \"None\"\n",
    "\n",
    "Ngoài ra, ta còn thấy có khá nhiều giá trị khác nhau trong tập huấn luyện (46 giá trị), trong đó có các giá trị chỉ xuất hiện một hoặc một ít lần; nếu ta để nguyên thì khi chuyển sang dạng số bằng phương pháp one-hot sẽ có nhiều cột → dễ bị overfit. Ta sẽ xử lý vấn đề này như sau: do có 3 giá trị chiếm tỉ lệ lớn nên ta chỉ lấy 3 giá trị đó, các giá trị còn lại sẽ được thay thế bằng giá trị \"Others\"\n",
    "\n",
    "2. `discount`: có thêm kí tự % đằng sau nên có kiểu chuỗi, vậy ta sẽ tách số ra đó và chuyển thành số. Ngoài ra, ta còn thấy `discount` có giá trị thiếu. Kiểm tra đối chiếu với các item trên Shopee, ta thấy thực tế những mẫu bị _thiếu_ dữ liệu ở thuộc tính `discount` là do không có giảm giá (`discount` = 0). Ta tiến hành sửa bằng cách thay giá trị nan tại cột này thành 0\n",
    "\n",
    "3. `shopee_verified`, `show_official_shop_label_in_title`, `is_preferred_plus_seller`, `show_free_shipping`: những cột kiểu bool như này thì ta chuyển hết về 0 và 1\n"
   ]
  },
  {
   "cell_type": "markdown",
   "metadata": {},
   "source": [
    "Class ColAdderDropper sẽ thực hiện các bước trên."
   ]
  },
  {
   "cell_type": "code",
   "execution_count": 82,
   "metadata": {},
   "outputs": [],
   "source": [
    "class ColAdderDropper(BaseEstimator, TransformerMixin):\n",
    "    def __init__(self, num_top_location=3):\n",
    "        self.num_top_location = num_top_location\n",
    "    def fit(self, X_df, y=None):\n",
    "        location_col = X_df['shop_location']\n",
    "        self.location_counts_ = location_col.value_counts()\n",
    "        locations = list(self.location_counts_.index)\n",
    "        self.top_locations_ = locations[:max(1, min(self.num_top_location, len(locations)))]\n",
    "        return self\n",
    "    def transform(self, X_df, y=None):\n",
    "        # YOUR CODE HERE\n",
    "        tf_df = X_df.copy()\n",
    "        \n",
    "        # Bước 1\n",
    "        tf_df = tf_df.replace('None', np.nan)\n",
    "        \n",
    "        # Bước 2\n",
    "        tf_df = tf_df.drop(['name', 'is_adult', 'flash_sale', 'upcoming_flash_sale', 'coin_earn_label'], axis=1)\n",
    "        \n",
    "        # Bước 3.1 Sửa cột location\n",
    "        tf_df['shop_location'] = tf_df['shop_location'].replace(np.nan, 'None')\n",
    "        locations = list(tf_df['shop_location'].value_counts().index)\n",
    "        top_locations = ['Hà Nội', 'Nước ngoài', 'TP. Hồ Chí Minh']\n",
    "        other_locations = list(set(locations) - set(top_locations))\n",
    "        tf_df['shop_location'] = tf_df['shop_location'].replace(other_locations, 'Others')\n",
    "        \n",
    "        # Bước 3.2 Sửa cột discount\n",
    "        tf_df['discount'] = tf_df['discount'].replace(np.nan, 0)\n",
    "        \n",
    "        def apply_discount(discount):\n",
    "            if type(discount) == int:\n",
    "                return discount\n",
    "            else:\n",
    "                result = re.findall(r'\\d+',discount)\n",
    "                return result[0]\n",
    "            pass\n",
    "\n",
    "        tf_df['discount'] = tf_df.apply(lambda row: apply_discount(row['discount']), axis=1)\n",
    "        \n",
    "        def convert_col_dtype(col):\n",
    "            if col.name in ['discount']:\n",
    "                return pd.to_numeric(col, errors='coerce')\n",
    "            return col\n",
    "\n",
    "        tf_df = tf_df.apply(convert_col_dtype)\n",
    "        \n",
    "        # Bước 3.3 Sửa các cột boolean\n",
    "        def apply_bool(FalseOrTrue):\n",
    "            if FalseOrTrue is np.nan:\n",
    "                return FalseOrTrue\n",
    "            if FalseOrTrue == 'False' or FalseOrTrue == False:\n",
    "                return 0\n",
    "            if FalseOrTrue == 'True' or FalseOrTrue == True:\n",
    "                return 1\n",
    "            else:\n",
    "                return FalseOrTrue\n",
    "            pass\n",
    "\n",
    "        tf_df['show_official_shop_label_in_title'] = tf_df.apply(lambda row: apply_bool(row['show_official_shop_label_in_title']), axis=1)\n",
    "        tf_df['is_preferred_plus_seller'] = tf_df.apply(lambda row: apply_bool(row['is_preferred_plus_seller']), axis=1)\n",
    "        tf_df['shopee_verified'] = tf_df.apply(lambda row: apply_bool(row['shopee_verified']), axis=1)\n",
    "        tf_df['show_free_shipping'] = tf_df.apply(lambda row: apply_bool(row['show_free_shipping']), axis=1)\n",
    "        return tf_df\n",
    "        #raise NotImplementedError()"
   ]
  },
  {
   "cell_type": "code",
   "execution_count": 83,
   "metadata": {},
   "outputs": [
    {
     "data": {
      "text/html": [
       "<div>\n",
       "<style scoped>\n",
       "    .dataframe tbody tr th:only-of-type {\n",
       "        vertical-align: middle;\n",
       "    }\n",
       "\n",
       "    .dataframe tbody tr th {\n",
       "        vertical-align: top;\n",
       "    }\n",
       "\n",
       "    .dataframe thead th {\n",
       "        text-align: right;\n",
       "    }\n",
       "</style>\n",
       "<table border=\"1\" class=\"dataframe\">\n",
       "  <thead>\n",
       "    <tr style=\"text-align: right;\">\n",
       "      <th></th>\n",
       "      <th>category_id</th>\n",
       "      <th>shop_location</th>\n",
       "      <th>item_public_time</th>\n",
       "      <th>item_be_got_time</th>\n",
       "      <th>sell_time</th>\n",
       "      <th>shopee_verified</th>\n",
       "      <th>discount</th>\n",
       "      <th>options</th>\n",
       "      <th>show_official_shop_label_in_title</th>\n",
       "      <th>rating_star</th>\n",
       "      <th>five_star</th>\n",
       "      <th>four_star</th>\n",
       "      <th>three_star</th>\n",
       "      <th>two_star</th>\n",
       "      <th>one_star</th>\n",
       "      <th>price_min</th>\n",
       "      <th>price_min_before_discount</th>\n",
       "      <th>price_max</th>\n",
       "      <th>price_max_before_discount</th>\n",
       "      <th>price</th>\n",
       "      <th>price_before_discount</th>\n",
       "      <th>liked_count</th>\n",
       "      <th>view_count</th>\n",
       "      <th>cmt_count</th>\n",
       "      <th>is_preferred_plus_seller</th>\n",
       "      <th>show_free_shipping</th>\n",
       "      <th>images</th>\n",
       "      <th>video_info_list</th>\n",
       "    </tr>\n",
       "  </thead>\n",
       "  <tbody>\n",
       "    <tr>\n",
       "      <th>9009</th>\n",
       "      <td>15139</td>\n",
       "      <td>TP. Hồ Chí Minh</td>\n",
       "      <td>1.590657e+09</td>\n",
       "      <td>1.610639e+09</td>\n",
       "      <td>19981277.0</td>\n",
       "      <td>1</td>\n",
       "      <td>48</td>\n",
       "      <td>8.0</td>\n",
       "      <td>0.0</td>\n",
       "      <td>5.000000</td>\n",
       "      <td>7.0</td>\n",
       "      <td>0.0</td>\n",
       "      <td>0.0</td>\n",
       "      <td>0.0</td>\n",
       "      <td>0.0</td>\n",
       "      <td>9.900000e+09</td>\n",
       "      <td>1.890000e+10</td>\n",
       "      <td>1.090000e+10</td>\n",
       "      <td>1.890000e+10</td>\n",
       "      <td>9.900000e+09</td>\n",
       "      <td>1.890000e+10</td>\n",
       "      <td>4.0</td>\n",
       "      <td>104.0</td>\n",
       "      <td>7.0</td>\n",
       "      <td>0</td>\n",
       "      <td>0</td>\n",
       "      <td>8.0</td>\n",
       "      <td>1.0</td>\n",
       "    </tr>\n",
       "    <tr>\n",
       "      <th>3872</th>\n",
       "      <td>2831</td>\n",
       "      <td>Hà Nội</td>\n",
       "      <td>1.602761e+09</td>\n",
       "      <td>1.609910e+09</td>\n",
       "      <td>7149688.0</td>\n",
       "      <td>0</td>\n",
       "      <td>46</td>\n",
       "      <td>1.0</td>\n",
       "      <td>0.0</td>\n",
       "      <td>4.666667</td>\n",
       "      <td>5.0</td>\n",
       "      <td>0.0</td>\n",
       "      <td>1.0</td>\n",
       "      <td>0.0</td>\n",
       "      <td>0.0</td>\n",
       "      <td>8.900000e+09</td>\n",
       "      <td>1.660000e+10</td>\n",
       "      <td>8.900000e+09</td>\n",
       "      <td>1.660000e+10</td>\n",
       "      <td>8.900000e+09</td>\n",
       "      <td>1.660000e+10</td>\n",
       "      <td>8.0</td>\n",
       "      <td>493.0</td>\n",
       "      <td>6.0</td>\n",
       "      <td>0</td>\n",
       "      <td>0</td>\n",
       "      <td>5.0</td>\n",
       "      <td>0.0</td>\n",
       "    </tr>\n",
       "    <tr>\n",
       "      <th>10475</th>\n",
       "      <td>15139</td>\n",
       "      <td>TP. Hồ Chí Minh</td>\n",
       "      <td>1.508202e+09</td>\n",
       "      <td>1.610639e+09</td>\n",
       "      <td>102436797.0</td>\n",
       "      <td>0</td>\n",
       "      <td>0</td>\n",
       "      <td>1.0</td>\n",
       "      <td>0.0</td>\n",
       "      <td>0.000000</td>\n",
       "      <td>0.0</td>\n",
       "      <td>0.0</td>\n",
       "      <td>0.0</td>\n",
       "      <td>0.0</td>\n",
       "      <td>0.0</td>\n",
       "      <td>4.800000e+09</td>\n",
       "      <td>-1.000000e+00</td>\n",
       "      <td>4.800000e+09</td>\n",
       "      <td>-1.000000e+00</td>\n",
       "      <td>4.800000e+09</td>\n",
       "      <td>0.000000e+00</td>\n",
       "      <td>1.0</td>\n",
       "      <td>3.0</td>\n",
       "      <td>0.0</td>\n",
       "      <td>0</td>\n",
       "      <td>1</td>\n",
       "      <td>5.0</td>\n",
       "      <td>0.0</td>\n",
       "    </tr>\n",
       "    <tr>\n",
       "      <th>4806</th>\n",
       "      <td>1899</td>\n",
       "      <td>Hà Nội</td>\n",
       "      <td>1.586276e+09</td>\n",
       "      <td>1.609992e+09</td>\n",
       "      <td>23715556.0</td>\n",
       "      <td>1</td>\n",
       "      <td>47</td>\n",
       "      <td>20.0</td>\n",
       "      <td>0.0</td>\n",
       "      <td>4.927273</td>\n",
       "      <td>208.0</td>\n",
       "      <td>9.0</td>\n",
       "      <td>2.0</td>\n",
       "      <td>1.0</td>\n",
       "      <td>0.0</td>\n",
       "      <td>6.900000e+09</td>\n",
       "      <td>1.290000e+10</td>\n",
       "      <td>6.900000e+09</td>\n",
       "      <td>1.290000e+10</td>\n",
       "      <td>6.900000e+09</td>\n",
       "      <td>1.290000e+10</td>\n",
       "      <td>63.0</td>\n",
       "      <td>110.0</td>\n",
       "      <td>220.0</td>\n",
       "      <td>0</td>\n",
       "      <td>1</td>\n",
       "      <td>9.0</td>\n",
       "      <td>0.0</td>\n",
       "    </tr>\n",
       "    <tr>\n",
       "      <th>6168</th>\n",
       "      <td>2829</td>\n",
       "      <td>Nước ngoài</td>\n",
       "      <td>1.609852e+09</td>\n",
       "      <td>1.610610e+09</td>\n",
       "      <td>757726.0</td>\n",
       "      <td>1</td>\n",
       "      <td>36</td>\n",
       "      <td>42.0</td>\n",
       "      <td>0.0</td>\n",
       "      <td>0.000000</td>\n",
       "      <td>0.0</td>\n",
       "      <td>0.0</td>\n",
       "      <td>0.0</td>\n",
       "      <td>0.0</td>\n",
       "      <td>0.0</td>\n",
       "      <td>1.785530e+10</td>\n",
       "      <td>2.785530e+10</td>\n",
       "      <td>1.785530e+10</td>\n",
       "      <td>2.785530e+10</td>\n",
       "      <td>1.785530e+10</td>\n",
       "      <td>2.785530e+10</td>\n",
       "      <td>0.0</td>\n",
       "      <td>0.0</td>\n",
       "      <td>0.0</td>\n",
       "      <td>0</td>\n",
       "      <td>0</td>\n",
       "      <td>7.0</td>\n",
       "      <td>0.0</td>\n",
       "    </tr>\n",
       "  </tbody>\n",
       "</table>\n",
       "</div>"
      ],
      "text/plain": [
       "       category_id    shop_location  item_public_time  item_be_got_time    sell_time  shopee_verified  discount  options  show_official_shop_label_in_title  rating_star  five_star  four_star  three_star  two_star  one_star     price_min  price_min_before_discount     price_max  price_max_before_discount         price  price_before_discount  liked_count  view_count  cmt_count  is_preferred_plus_seller  show_free_shipping  images  video_info_list\n",
       "9009         15139  TP. Hồ Chí Minh      1.590657e+09      1.610639e+09   19981277.0                1        48      8.0                                0.0     5.000000        7.0        0.0         0.0       0.0       0.0  9.900000e+09               1.890000e+10  1.090000e+10               1.890000e+10  9.900000e+09           1.890000e+10          4.0       104.0        7.0                         0                   0     8.0              1.0\n",
       "3872          2831           Hà Nội      1.602761e+09      1.609910e+09    7149688.0                0        46      1.0                                0.0     4.666667        5.0        0.0         1.0       0.0       0.0  8.900000e+09               1.660000e+10  8.900000e+09               1.660000e+10  8.900000e+09           1.660000e+10          8.0       493.0        6.0                         0                   0     5.0              0.0\n",
       "10475        15139  TP. Hồ Chí Minh      1.508202e+09      1.610639e+09  102436797.0                0         0      1.0                                0.0     0.000000        0.0        0.0         0.0       0.0       0.0  4.800000e+09              -1.000000e+00  4.800000e+09              -1.000000e+00  4.800000e+09           0.000000e+00          1.0         3.0        0.0                         0                   1     5.0              0.0\n",
       "4806          1899           Hà Nội      1.586276e+09      1.609992e+09   23715556.0                1        47     20.0                                0.0     4.927273      208.0        9.0         2.0       1.0       0.0  6.900000e+09               1.290000e+10  6.900000e+09               1.290000e+10  6.900000e+09           1.290000e+10         63.0       110.0      220.0                         0                   1     9.0              0.0\n",
       "6168          2829       Nước ngoài      1.609852e+09      1.610610e+09     757726.0                1        36     42.0                                0.0     0.000000        0.0        0.0         0.0       0.0       0.0  1.785530e+10               2.785530e+10  1.785530e+10               2.785530e+10  1.785530e+10           2.785530e+10          0.0         0.0        0.0                         0                   0     7.0              0.0"
      ]
     },
     "execution_count": 83,
     "metadata": {},
     "output_type": "execute_result"
    }
   ],
   "source": [
    "# Test\n",
    "col_adderdropper = ColAdderDropper()\n",
    "fewer_cols_train_X_df = col_adderdropper.fit_transform(train_X_df)\n",
    "fewer_cols_train_X_df.head()"
   ]
  },
  {
   "cell_type": "code",
   "execution_count": 84,
   "metadata": {},
   "outputs": [
    {
     "data": {
      "text/html": [
       "<div>\n",
       "<style scoped>\n",
       "    .dataframe tbody tr th:only-of-type {\n",
       "        vertical-align: middle;\n",
       "    }\n",
       "\n",
       "    .dataframe tbody tr th {\n",
       "        vertical-align: top;\n",
       "    }\n",
       "\n",
       "    .dataframe thead th {\n",
       "        text-align: right;\n",
       "    }\n",
       "</style>\n",
       "<table border=\"1\" class=\"dataframe\">\n",
       "  <thead>\n",
       "    <tr style=\"text-align: right;\">\n",
       "      <th></th>\n",
       "      <th>show_free_shipping</th>\n",
       "      <th>shop_location</th>\n",
       "      <th>show_official_shop_label_in_title</th>\n",
       "      <th>category_id</th>\n",
       "      <th>is_preferred_plus_seller</th>\n",
       "      <th>shopee_verified</th>\n",
       "    </tr>\n",
       "  </thead>\n",
       "  <tbody>\n",
       "    <tr>\n",
       "      <th>missing_ratio</th>\n",
       "      <td>0</td>\n",
       "      <td>0</td>\n",
       "      <td>0.9</td>\n",
       "      <td>0</td>\n",
       "      <td>0</td>\n",
       "      <td>0</td>\n",
       "    </tr>\n",
       "    <tr>\n",
       "      <th>num_values</th>\n",
       "      <td>2</td>\n",
       "      <td>4</td>\n",
       "      <td>2</td>\n",
       "      <td>9</td>\n",
       "      <td>2</td>\n",
       "      <td>2</td>\n",
       "    </tr>\n",
       "    <tr>\n",
       "      <th>value_ratios</th>\n",
       "      <td>{0: 56.7, 1: 43.3}</td>\n",
       "      <td>{'Hà Nội': 39.8, 'Nước ngoài': 26.8, 'TP. Hồ Chí Minh': 26.6, 'Others': 6.9}</td>\n",
       "      <td>{0.0: 95.6, 1.0: 4.4}</td>\n",
       "      <td>{15139: 24.3, 8947: 14.1, 8948: 13.5, 2429: 13.1, 1899: 11.7, 2831: 8.0, 9572: 7.4, 2829: 4.8, 8945: 3.1}</td>\n",
       "      <td>{0: 93.1, 1: 6.9}</td>\n",
       "      <td>{0: 57.1, 1: 42.9}</td>\n",
       "    </tr>\n",
       "  </tbody>\n",
       "</table>\n",
       "</div>"
      ],
      "text/plain": [
       "               show_free_shipping                                                                 shop_location show_official_shop_label_in_title                                                                                                category_id is_preferred_plus_seller     shopee_verified\n",
       "missing_ratio                   0                                                                             0                               0.9                                                                                                          0                        0                   0\n",
       "num_values                      2                                                                             4                                 2                                                                                                          9                        2                   2\n",
       "value_ratios   {0: 56.7, 1: 43.3}  {'Hà Nội': 39.8, 'Nước ngoài': 26.8, 'TP. Hồ Chí Minh': 26.6, 'Others': 6.9}             {0.0: 95.6, 1.0: 4.4}  {15139: 24.3, 8947: 14.1, 8948: 13.5, 2429: 13.1, 1899: 11.7, 2831: 8.0, 9572: 7.4, 2829: 4.8, 8945: 3.1}        {0: 93.1, 1: 6.9}  {0: 57.1, 1: 42.9}"
      ]
     },
     "execution_count": 84,
     "metadata": {},
     "output_type": "execute_result"
    }
   ],
   "source": [
    "# Kiểm tra các giá trị không phải số đã được xử lý đúng chưa\n",
    "cat_cols = list(set(fewer_cols_train_X_df.columns) - set(num_cols))\n",
    "df = fewer_cols_train_X_df[cat_cols]\n",
    "cat_col_info_df = df.agg([missing_ratio, num_values, value_ratios])\n",
    "cat_col_info_df"
   ]
  },
  {
   "cell_type": "markdown",
   "metadata": {},
   "source": [
    "### 4. Xử lý giá trị thiếu\n",
    "- Với các cột dạng số, ta sẽ điền giá trị thiếu bằng giá trị mean của cột <font color=gray>(gợi ý: dùng `SimpleImputer` trong Sklearn)</font>. Với *tất cả* các cột dạng số trong tập huấn luyện, ta đều cần tính mean, vì ta không biết được cột nào sẽ bị thiếu giá trị khi dự đoán với các véc-tơ input mới. \n",
    "- Với các cột không phải dạng số và không có thứ tự:\n",
    "    - Ta sẽ điền giá trị thiếu bằng giá trị mode (giá trị xuất hiện nhiều nhất) của cột <font color=gray>(gợi ý: dùng `SimpleImputer` trong Sklearn)</font>. Với *tất cả* các cột không có dạng số và không có thứ tự, ta đều cần tính mode, vì ta không biết được cột nào sẽ bị thiếu giá trị khi dự đoán với các véc-tơ input mới.\n",
    "    - Sau đó, ta sẽ chuyển sang dạng số bằng phương pháp mã hóa one-hot <font color=gray>(gợi ý: dùng `OneHotEncoder` trong Sklearn, để ý tham số `handle_unknown` vì khi dự đoán với các véc-tơ input mới ...)</font>.\n",
    "- Với cột không phải dạng số và có thứ tự:\n",
    "    - Ta sẽ điền giá trị thiếu bằng giá trị mode (giá trị xuất hiện nhiều nhất) của cột.\n",
    "    - Các giá trị của cột này đều là kiểu boolean và ta đã chuyển sang dạng 0, 1 trước đó nên không cần phải mã hóa nữa"
   ]
  },
  {
   "cell_type": "code",
   "execution_count": 85,
   "metadata": {
    "Collapsed": "false",
    "nbgrader": {
     "cell_type": "code",
     "checksum": "e7a1d4ae5e4fa50b60b4998de6be96a1",
     "grade": false,
     "grade_id": "cell-ae75d7dfa7256c7f",
     "locked": false,
     "schema_version": 3,
     "solution": true
    }
   },
   "outputs": [],
   "source": [
    "nume_cols = ['item_public_time','item_be_got_time', 'sell_time', 'discount', \n",
    "            'options', 'rating_star' ,'five_star', 'four_star', 'three_star', \n",
    "            'two_star' ,'one_star' ,'price_min_before_discount', 'price_max', 'price_min', \n",
    "            'price_max_before_discount', 'price', 'price_before_discount', \n",
    "            'liked_count', 'view_count', 'cmt_count','images', 'video_info_list']\n",
    "unorder_cate_cols = ['category_id', 'shop_location']\n",
    "order_cate_cols = ['is_preferred_plus_seller', 'shopee_verified', 'show_free_shipping', 'show_official_shop_label_in_title']\n",
    "# YOUR CODE HERE\n",
    "imp_mean = SimpleImputer(missing_values=np.nan, strategy='mean')\n",
    "imp_mode = SimpleImputer(missing_values=np.nan, strategy='most_frequent')\n",
    "enc = OneHotEncoder(handle_unknown='ignore')\n",
    "unorder_cate_pipeline = make_pipeline(imp_mode, enc)\n",
    "column_transformer = ColumnTransformer(transformers = [('numerical', imp_mean, nume_cols),\n",
    "                                                      ('unorder_categorical', unorder_cate_pipeline, unorder_cate_cols),\n",
    "                                                      ('order_categorical', imp_mode, order_cate_cols)], remainder='passthrough')"
   ]
  },
  {
   "cell_type": "markdown",
   "metadata": {},
   "source": [
    "### 5. Chuẩn hóa\n",
    "Cuối cùng, khi tất cả các cột đã được điền giá trị thiếu và đã có dạng số, ta sẽ tiến hành chuẩn hóa bằng cách trừ đi mean và chia cho độ lệch chuẩn của cột để giúp cho các thuật toán cực tiểu hóa như Gradient Descent, LBFGS, ... hội tụ nhanh hơn "
   ]
  },
  {
   "cell_type": "markdown",
   "metadata": {},
   "source": [
    "### 6. Tạo pipeline"
   ]
  },
  {
   "cell_type": "markdown",
   "metadata": {},
   "source": [
    "Khi đã có những bước tiền xử lý cụ thể, ta sẽ tạo pipeline chứa chúng để cho quá trình tiền xử lý và mô hình hóa được dễ dàng hơn"
   ]
  },
  {
   "cell_type": "code",
   "execution_count": 86,
   "metadata": {},
   "outputs": [],
   "source": [
    "preprocess_pipeline = make_pipeline(ColAdderDropper(), column_transformer,  StandardScaler())"
   ]
  },
  {
   "cell_type": "code",
   "execution_count": 87,
   "metadata": {},
   "outputs": [],
   "source": [
    "preprocessed_train_X = preprocess_pipeline.fit_transform(train_X_df)\n",
    "preprocessed_val_X = preprocess_pipeline.transform(val_X_df)"
   ]
  },
  {
   "cell_type": "code",
   "execution_count": 88,
   "metadata": {},
   "outputs": [
    {
     "data": {
      "text/plain": [
       "(2538, 39)"
      ]
     },
     "execution_count": 88,
     "metadata": {},
     "output_type": "execute_result"
    }
   ],
   "source": [
    "preprocessed_train_X.shape"
   ]
  },
  {
   "cell_type": "code",
   "execution_count": 89,
   "metadata": {},
   "outputs": [
    {
     "data": {
      "text/plain": [
       "(635, 39)"
      ]
     },
     "execution_count": 89,
     "metadata": {},
     "output_type": "execute_result"
    }
   ],
   "source": [
    "preprocessed_val_X.shape"
   ]
  },
  {
   "cell_type": "markdown",
   "metadata": {},
   "source": [
    "## VI. Mô hình hóa dữ liệu"
   ]
  },
  {
   "cell_type": "markdown",
   "metadata": {},
   "source": [
    "### 1. Tìm mô hình tốt nhất\n",
    "\n",
    "Do output là kiểu số thực liên tục nên ta sẽ sử dụng mô hình hồi quy để dự đoán các input mới, ta sẽ sử dụng các model đã được học sau:\n",
    "\n",
    "- Hồi quy tuyến tính\n",
    "- Mạng neural nhân tạo\n"
   ]
  },
  {
   "cell_type": "markdown",
   "metadata": {},
   "source": [
    "Đầu tiên, đối với các mô hình hồi quy này thì ta sử dụng độ đo $R^2$ để đánh giá độ lỗi vì độ đo MSE không cho ta biết được cụ thể chất lượng của mô hình \n",
    "\n",
    "$R^2$ bình phương cho biết độ phù hợp của mô hình, người ta nghiên cứu được rằng, với $R^2$ bình phương > 0.5 thì một mô hình được đánh giá là phù hợp."
   ]
  },
  {
   "cell_type": "markdown",
   "metadata": {},
   "source": [
    "#### Huấn luyện mô hình hồi quy tuyến tính "
   ]
  },
  {
   "cell_type": "code",
   "execution_count": 90,
   "metadata": {},
   "outputs": [
    {
     "data": {
      "text/html": [
       "<style>div.sk-top-container {color: black;background-color: white;}div.sk-toggleable {background-color: white;}label.sk-toggleable__label {cursor: pointer;display: block;width: 100%;margin-bottom: 0;padding: 0.2em 0.3em;box-sizing: border-box;text-align: center;}div.sk-toggleable__content {max-height: 0;max-width: 0;overflow: hidden;text-align: left;background-color: #f0f8ff;}div.sk-toggleable__content pre {margin: 0.2em;color: black;border-radius: 0.25em;background-color: #f0f8ff;}input.sk-toggleable__control:checked~div.sk-toggleable__content {max-height: 200px;max-width: 100%;overflow: auto;}div.sk-estimator input.sk-toggleable__control:checked~label.sk-toggleable__label {background-color: #d4ebff;}div.sk-label input.sk-toggleable__control:checked~label.sk-toggleable__label {background-color: #d4ebff;}input.sk-hidden--visually {border: 0;clip: rect(1px 1px 1px 1px);clip: rect(1px, 1px, 1px, 1px);height: 1px;margin: -1px;overflow: hidden;padding: 0;position: absolute;width: 1px;}div.sk-estimator {font-family: monospace;background-color: #f0f8ff;margin: 0.25em 0.25em;border: 1px dotted black;border-radius: 0.25em;box-sizing: border-box;}div.sk-estimator:hover {background-color: #d4ebff;}div.sk-parallel-item::after {content: \"\";width: 100%;border-bottom: 1px solid gray;flex-grow: 1;}div.sk-label:hover label.sk-toggleable__label {background-color: #d4ebff;}div.sk-serial::before {content: \"\";position: absolute;border-left: 1px solid gray;box-sizing: border-box;top: 2em;bottom: 0;left: 50%;}div.sk-serial {display: flex;flex-direction: column;align-items: center;background-color: white;}div.sk-item {z-index: 1;}div.sk-parallel {display: flex;align-items: stretch;justify-content: center;background-color: white;}div.sk-parallel-item {display: flex;flex-direction: column;position: relative;background-color: white;}div.sk-parallel-item:first-child::after {align-self: flex-end;width: 50%;}div.sk-parallel-item:last-child::after {align-self: flex-start;width: 50%;}div.sk-parallel-item:only-child::after {width: 0;}div.sk-dashed-wrapped {border: 1px dashed gray;margin: 0.2em;box-sizing: border-box;padding-bottom: 0.1em;background-color: white;position: relative;}div.sk-label label {font-family: monospace;font-weight: bold;background-color: white;display: inline-block;line-height: 1.2em;}div.sk-label-container {position: relative;z-index: 2;text-align: center;}div.sk-container {display: inline-block;position: relative;}</style><div class=\"sk-top-container\"><div class=\"sk-container\"><div class=\"sk-item sk-dashed-wrapped\"><div class=\"sk-label-container\"><div class=\"sk-label sk-toggleable\"><input class=\"sk-toggleable__control sk-hidden--visually\" id=\"6a45008d-bc89-4f76-900f-acdff85a1f3d\" type=\"checkbox\" ><label class=\"sk-toggleable__label\" for=\"6a45008d-bc89-4f76-900f-acdff85a1f3d\">Pipeline</label><div class=\"sk-toggleable__content\"><pre>Pipeline(steps=[('coladderdropper', ColAdderDropper()),\n",
       "                ('columntransformer',\n",
       "                 ColumnTransformer(remainder='passthrough',\n",
       "                                   transformers=[('numerical', SimpleImputer(),\n",
       "                                                  ['item_public_time',\n",
       "                                                   'item_be_got_time',\n",
       "                                                   'sell_time', 'discount',\n",
       "                                                   'options', 'rating_star',\n",
       "                                                   'five_star', 'four_star',\n",
       "                                                   'three_star', 'two_star',\n",
       "                                                   'one_star',\n",
       "                                                   'price_min_before_discount',\n",
       "                                                   'price_max', 'pric...\n",
       "                                                                   SimpleImputer(strategy='most_frequent')),\n",
       "                                                                  ('onehotencoder',\n",
       "                                                                   OneHotEncoder(handle_unknown='ignore'))]),\n",
       "                                                  ['category_id',\n",
       "                                                   'shop_location']),\n",
       "                                                 ('order_categorical',\n",
       "                                                  SimpleImputer(strategy='most_frequent'),\n",
       "                                                  ['is_preferred_plus_seller',\n",
       "                                                   'shopee_verified',\n",
       "                                                   'show_free_shipping',\n",
       "                                                   'show_official_shop_label_in_title'])])),\n",
       "                ('standardscaler', StandardScaler()),\n",
       "                ('linearregression', LinearRegression())])</pre></div></div></div><div class=\"sk-serial\"><div class=\"sk-item\"><div class=\"sk-estimator sk-toggleable\"><input class=\"sk-toggleable__control sk-hidden--visually\" id=\"b1cfc073-d1c5-40d6-b4ac-c497afe358a0\" type=\"checkbox\" ><label class=\"sk-toggleable__label\" for=\"b1cfc073-d1c5-40d6-b4ac-c497afe358a0\">ColAdderDropper</label><div class=\"sk-toggleable__content\"><pre>ColAdderDropper()</pre></div></div></div><div class=\"sk-item sk-dashed-wrapped\"><div class=\"sk-label-container\"><div class=\"sk-label sk-toggleable\"><input class=\"sk-toggleable__control sk-hidden--visually\" id=\"f1b4920a-5725-4056-9846-87ef6c6a3256\" type=\"checkbox\" ><label class=\"sk-toggleable__label\" for=\"f1b4920a-5725-4056-9846-87ef6c6a3256\">columntransformer: ColumnTransformer</label><div class=\"sk-toggleable__content\"><pre>ColumnTransformer(remainder='passthrough',\n",
       "                  transformers=[('numerical', SimpleImputer(),\n",
       "                                 ['item_public_time', 'item_be_got_time',\n",
       "                                  'sell_time', 'discount', 'options',\n",
       "                                  'rating_star', 'five_star', 'four_star',\n",
       "                                  'three_star', 'two_star', 'one_star',\n",
       "                                  'price_min_before_discount', 'price_max',\n",
       "                                  'price_min', 'price_max_before_discount',\n",
       "                                  'price', 'price_before_discount',\n",
       "                                  'liked_c...\n",
       "                                ('unorder_categorical',\n",
       "                                 Pipeline(steps=[('simpleimputer',\n",
       "                                                  SimpleImputer(strategy='most_frequent')),\n",
       "                                                 ('onehotencoder',\n",
       "                                                  OneHotEncoder(handle_unknown='ignore'))]),\n",
       "                                 ['category_id', 'shop_location']),\n",
       "                                ('order_categorical',\n",
       "                                 SimpleImputer(strategy='most_frequent'),\n",
       "                                 ['is_preferred_plus_seller', 'shopee_verified',\n",
       "                                  'show_free_shipping',\n",
       "                                  'show_official_shop_label_in_title'])])</pre></div></div></div><div class=\"sk-parallel\"><div class=\"sk-parallel-item\"><div class=\"sk-item\"><div class=\"sk-label-container\"><div class=\"sk-label sk-toggleable\"><input class=\"sk-toggleable__control sk-hidden--visually\" id=\"9102a647-e32b-4279-8d94-d4776f5905a3\" type=\"checkbox\" ><label class=\"sk-toggleable__label\" for=\"9102a647-e32b-4279-8d94-d4776f5905a3\">numerical</label><div class=\"sk-toggleable__content\"><pre>['item_public_time', 'item_be_got_time', 'sell_time', 'discount', 'options', 'rating_star', 'five_star', 'four_star', 'three_star', 'two_star', 'one_star', 'price_min_before_discount', 'price_max', 'price_min', 'price_max_before_discount', 'price', 'price_before_discount', 'liked_count', 'view_count', 'cmt_count', 'images', 'video_info_list']</pre></div></div></div><div class=\"sk-serial\"><div class=\"sk-item\"><div class=\"sk-estimator sk-toggleable\"><input class=\"sk-toggleable__control sk-hidden--visually\" id=\"44afe719-3f6d-4293-bb69-97b33f0fe57c\" type=\"checkbox\" ><label class=\"sk-toggleable__label\" for=\"44afe719-3f6d-4293-bb69-97b33f0fe57c\">SimpleImputer</label><div class=\"sk-toggleable__content\"><pre>SimpleImputer()</pre></div></div></div></div></div></div><div class=\"sk-parallel-item\"><div class=\"sk-item\"><div class=\"sk-label-container\"><div class=\"sk-label sk-toggleable\"><input class=\"sk-toggleable__control sk-hidden--visually\" id=\"fdf11274-c942-47ba-a0bf-5e1e5197bb28\" type=\"checkbox\" ><label class=\"sk-toggleable__label\" for=\"fdf11274-c942-47ba-a0bf-5e1e5197bb28\">unorder_categorical</label><div class=\"sk-toggleable__content\"><pre>['category_id', 'shop_location']</pre></div></div></div><div class=\"sk-serial\"><div class=\"sk-item\"><div class=\"sk-serial\"><div class=\"sk-item\"><div class=\"sk-estimator sk-toggleable\"><input class=\"sk-toggleable__control sk-hidden--visually\" id=\"2d4225d2-e41f-4c9a-868e-6660344d55c0\" type=\"checkbox\" ><label class=\"sk-toggleable__label\" for=\"2d4225d2-e41f-4c9a-868e-6660344d55c0\">SimpleImputer</label><div class=\"sk-toggleable__content\"><pre>SimpleImputer(strategy='most_frequent')</pre></div></div></div><div class=\"sk-item\"><div class=\"sk-estimator sk-toggleable\"><input class=\"sk-toggleable__control sk-hidden--visually\" id=\"3507c429-0b9f-47e8-900f-64befa4a55dd\" type=\"checkbox\" ><label class=\"sk-toggleable__label\" for=\"3507c429-0b9f-47e8-900f-64befa4a55dd\">OneHotEncoder</label><div class=\"sk-toggleable__content\"><pre>OneHotEncoder(handle_unknown='ignore')</pre></div></div></div></div></div></div></div></div><div class=\"sk-parallel-item\"><div class=\"sk-item\"><div class=\"sk-label-container\"><div class=\"sk-label sk-toggleable\"><input class=\"sk-toggleable__control sk-hidden--visually\" id=\"3d6acc80-4a7c-4e96-a23e-a9d7f3f1703b\" type=\"checkbox\" ><label class=\"sk-toggleable__label\" for=\"3d6acc80-4a7c-4e96-a23e-a9d7f3f1703b\">order_categorical</label><div class=\"sk-toggleable__content\"><pre>['is_preferred_plus_seller', 'shopee_verified', 'show_free_shipping', 'show_official_shop_label_in_title']</pre></div></div></div><div class=\"sk-serial\"><div class=\"sk-item\"><div class=\"sk-estimator sk-toggleable\"><input class=\"sk-toggleable__control sk-hidden--visually\" id=\"30e6fbad-907f-461e-a702-34d5fb030b82\" type=\"checkbox\" ><label class=\"sk-toggleable__label\" for=\"30e6fbad-907f-461e-a702-34d5fb030b82\">SimpleImputer</label><div class=\"sk-toggleable__content\"><pre>SimpleImputer(strategy='most_frequent')</pre></div></div></div></div></div></div></div></div><div class=\"sk-item\"><div class=\"sk-estimator sk-toggleable\"><input class=\"sk-toggleable__control sk-hidden--visually\" id=\"8f1696e2-9358-423c-8245-777136c51b65\" type=\"checkbox\" ><label class=\"sk-toggleable__label\" for=\"8f1696e2-9358-423c-8245-777136c51b65\">StandardScaler</label><div class=\"sk-toggleable__content\"><pre>StandardScaler()</pre></div></div></div><div class=\"sk-item\"><div class=\"sk-estimator sk-toggleable\"><input class=\"sk-toggleable__control sk-hidden--visually\" id=\"86e1ca79-d74c-4781-96d0-675f8a6d2d5a\" type=\"checkbox\" ><label class=\"sk-toggleable__label\" for=\"86e1ca79-d74c-4781-96d0-675f8a6d2d5a\">LinearRegression</label><div class=\"sk-toggleable__content\"><pre>LinearRegression()</pre></div></div></div></div></div></div></div>"
      ],
      "text/plain": [
       "Pipeline(steps=[('coladderdropper', ColAdderDropper()),\n",
       "                ('columntransformer',\n",
       "                 ColumnTransformer(remainder='passthrough',\n",
       "                                   transformers=[('numerical', SimpleImputer(),\n",
       "                                                  ['item_public_time',\n",
       "                                                   'item_be_got_time',\n",
       "                                                   'sell_time', 'discount',\n",
       "                                                   'options', 'rating_star',\n",
       "                                                   'five_star', 'four_star',\n",
       "                                                   'three_star', 'two_star',\n",
       "                                                   'one_star',\n",
       "                                                   'price_min_before_discount',\n",
       "                                                   'price_max', 'pric...\n",
       "                                                                   SimpleImputer(strategy='most_frequent')),\n",
       "                                                                  ('onehotencoder',\n",
       "                                                                   OneHotEncoder(handle_unknown='ignore'))]),\n",
       "                                                  ['category_id',\n",
       "                                                   'shop_location']),\n",
       "                                                 ('order_categorical',\n",
       "                                                  SimpleImputer(strategy='most_frequent'),\n",
       "                                                  ['is_preferred_plus_seller',\n",
       "                                                   'shopee_verified',\n",
       "                                                   'show_free_shipping',\n",
       "                                                   'show_official_shop_label_in_title'])])),\n",
       "                ('standardscaler', StandardScaler()),\n",
       "                ('linearregression', LinearRegression())])"
      ]
     },
     "execution_count": 90,
     "metadata": {},
     "output_type": "execute_result"
    }
   ],
   "source": [
    "linear_full_pipeline = make_pipeline(ColAdderDropper(), column_transformer, StandardScaler(), LinearRegression())\n",
    "linear_full_pipeline.fit(train_X_df, train_y_sr)"
   ]
  },
  {
   "cell_type": "code",
   "execution_count": 92,
   "metadata": {},
   "outputs": [
    {
     "data": {
      "text/plain": [
       "0.4948941558639116"
      ]
     },
     "execution_count": 92,
     "metadata": {},
     "output_type": "execute_result"
    }
   ],
   "source": [
    "# R^2 tập validation\n",
    "linear_full_pipeline.score(val_X_df, val_y_sr)"
   ]
  },
  {
   "cell_type": "markdown",
   "metadata": {},
   "source": [
    "Score < 0.5, **không** thỏa tiêu chí đặt ra"
   ]
  },
  {
   "cell_type": "markdown",
   "metadata": {},
   "source": [
    "#### Huấn luyện mô hình mạng neural nhân tạo\n",
    "\n",
    "Ta sẽ thử 6 siêu tham số alpha khác nhau để tìm ra mô hình tốt nhất \n",
    "\n",
    "Nếu ta thử nhiều siêu tham số để tính độ lỗi trên tập val_X_df thì sẽ dẫn tới overfit và kết quả sẽ không khách quan. \n",
    "\n",
    "Vì thế ta sẽ dùng GridSearchCV để thử tham số và cross-validate các mô hình, vì tự động cross-validate nên ta sẽ fit trên toàn bộ tập train + validation, sau đó tìm ra siêu tham số tốt nhất\n",
    "\n",
    "Các tham số thay đổi:\n",
    "- `alpha`: 0.0001, 0.001, 0.1, 1, 10, 100\n",
    "\n",
    "Các tham số được cố định:\n",
    "- `hidden_layer_sizes`: 70\n",
    "- `activation`: `relu`\n",
    "- `solver`: Do dữ liệu rất nhiều nên sử dụng thuật toán `adam` rất hiệu quả (theo scikit-learn), tuy nhiên nhược điểm là train khá lâu\n",
    "- `max_iter`: 10000 để cho thuật toán có thể đạt được hội tụ, nếu set quá thấp sẽ không đủ lần lặp để hội tụ"
   ]
  },
  {
   "cell_type": "code",
   "execution_count": 93,
   "metadata": {},
   "outputs": [
    {
     "data": {
      "text/html": [
       "<style>div.sk-top-container {color: black;background-color: white;}div.sk-toggleable {background-color: white;}label.sk-toggleable__label {cursor: pointer;display: block;width: 100%;margin-bottom: 0;padding: 0.2em 0.3em;box-sizing: border-box;text-align: center;}div.sk-toggleable__content {max-height: 0;max-width: 0;overflow: hidden;text-align: left;background-color: #f0f8ff;}div.sk-toggleable__content pre {margin: 0.2em;color: black;border-radius: 0.25em;background-color: #f0f8ff;}input.sk-toggleable__control:checked~div.sk-toggleable__content {max-height: 200px;max-width: 100%;overflow: auto;}div.sk-estimator input.sk-toggleable__control:checked~label.sk-toggleable__label {background-color: #d4ebff;}div.sk-label input.sk-toggleable__control:checked~label.sk-toggleable__label {background-color: #d4ebff;}input.sk-hidden--visually {border: 0;clip: rect(1px 1px 1px 1px);clip: rect(1px, 1px, 1px, 1px);height: 1px;margin: -1px;overflow: hidden;padding: 0;position: absolute;width: 1px;}div.sk-estimator {font-family: monospace;background-color: #f0f8ff;margin: 0.25em 0.25em;border: 1px dotted black;border-radius: 0.25em;box-sizing: border-box;}div.sk-estimator:hover {background-color: #d4ebff;}div.sk-parallel-item::after {content: \"\";width: 100%;border-bottom: 1px solid gray;flex-grow: 1;}div.sk-label:hover label.sk-toggleable__label {background-color: #d4ebff;}div.sk-serial::before {content: \"\";position: absolute;border-left: 1px solid gray;box-sizing: border-box;top: 2em;bottom: 0;left: 50%;}div.sk-serial {display: flex;flex-direction: column;align-items: center;background-color: white;}div.sk-item {z-index: 1;}div.sk-parallel {display: flex;align-items: stretch;justify-content: center;background-color: white;}div.sk-parallel-item {display: flex;flex-direction: column;position: relative;background-color: white;}div.sk-parallel-item:first-child::after {align-self: flex-end;width: 50%;}div.sk-parallel-item:last-child::after {align-self: flex-start;width: 50%;}div.sk-parallel-item:only-child::after {width: 0;}div.sk-dashed-wrapped {border: 1px dashed gray;margin: 0.2em;box-sizing: border-box;padding-bottom: 0.1em;background-color: white;position: relative;}div.sk-label label {font-family: monospace;font-weight: bold;background-color: white;display: inline-block;line-height: 1.2em;}div.sk-label-container {position: relative;z-index: 2;text-align: center;}div.sk-container {display: inline-block;position: relative;}</style><div class=\"sk-top-container\"><div class=\"sk-container\"><div class=\"sk-item sk-dashed-wrapped\"><div class=\"sk-label-container\"><div class=\"sk-label sk-toggleable\"><input class=\"sk-toggleable__control sk-hidden--visually\" id=\"86944478-d7ab-430b-aa64-8da69e8e7509\" type=\"checkbox\" ><label class=\"sk-toggleable__label\" for=\"86944478-d7ab-430b-aa64-8da69e8e7509\">GridSearchCV</label><div class=\"sk-toggleable__content\"><pre>GridSearchCV(cv=3,\n",
       "             estimator=Pipeline(steps=[('coladderdropper', ColAdderDropper()),\n",
       "                                       ('columntransformer',\n",
       "                                        ColumnTransformer(remainder='passthrough',\n",
       "                                                          transformers=[('numerical',\n",
       "                                                                         SimpleImputer(),\n",
       "                                                                         ['item_public_time',\n",
       "                                                                          'item_be_got_time',\n",
       "                                                                          'sell_time',\n",
       "                                                                          'discount',\n",
       "                                                                          'options',\n",
       "                                                                          'rating_star',\n",
       "                                                                          'five_star',\n",
       "                                                                          'four_star',\n",
       "                                                                          'three_star',\n",
       "                                                                          'two_star',\n",
       "                                                                          'one_star',\n",
       "                                                                          'price_min_before...\n",
       "                                                                        ('order_categorical',\n",
       "                                                                         SimpleImputer(strategy='most_frequent'),\n",
       "                                                                         ['is_preferred_plus_seller',\n",
       "                                                                          'shopee_verified',\n",
       "                                                                          'show_free_shipping',\n",
       "                                                                          'show_official_shop_label_in_title'])])),\n",
       "                                       ('standardscaler', StandardScaler()),\n",
       "                                       ('mlpregressor',\n",
       "                                        MLPRegressor(hidden_layer_sizes=70,\n",
       "                                                     max_iter=10000,\n",
       "                                                     random_state=0))]),\n",
       "             param_grid={'mlpregressor__alpha': [0.0001, 0.001, 0.01, 1, 10]})</pre></div></div></div><div class=\"sk-parallel\"><div class=\"sk-parallel-item\"><div class=\"sk-item\"><div class=\"sk-serial\"><div class=\"sk-item\"><div class=\"sk-serial\"><div class=\"sk-item\"><div class=\"sk-estimator sk-toggleable\"><input class=\"sk-toggleable__control sk-hidden--visually\" id=\"b70f5345-f8c7-4e5b-80bd-995f97866c15\" type=\"checkbox\" ><label class=\"sk-toggleable__label\" for=\"b70f5345-f8c7-4e5b-80bd-995f97866c15\">ColAdderDropper</label><div class=\"sk-toggleable__content\"><pre>ColAdderDropper()</pre></div></div></div><div class=\"sk-item sk-dashed-wrapped\"><div class=\"sk-label-container\"><div class=\"sk-label sk-toggleable\"><input class=\"sk-toggleable__control sk-hidden--visually\" id=\"1e15c524-ad85-4917-8db7-413d6383b773\" type=\"checkbox\" ><label class=\"sk-toggleable__label\" for=\"1e15c524-ad85-4917-8db7-413d6383b773\">columntransformer: ColumnTransformer</label><div class=\"sk-toggleable__content\"><pre>ColumnTransformer(remainder='passthrough',\n",
       "                  transformers=[('numerical', SimpleImputer(),\n",
       "                                 ['item_public_time', 'item_be_got_time',\n",
       "                                  'sell_time', 'discount', 'options',\n",
       "                                  'rating_star', 'five_star', 'four_star',\n",
       "                                  'three_star', 'two_star', 'one_star',\n",
       "                                  'price_min_before_discount', 'price_max',\n",
       "                                  'price_min', 'price_max_before_discount',\n",
       "                                  'price', 'price_before_discount',\n",
       "                                  'liked_c...\n",
       "                                ('unorder_categorical',\n",
       "                                 Pipeline(steps=[('simpleimputer',\n",
       "                                                  SimpleImputer(strategy='most_frequent')),\n",
       "                                                 ('onehotencoder',\n",
       "                                                  OneHotEncoder(handle_unknown='ignore'))]),\n",
       "                                 ['category_id', 'shop_location']),\n",
       "                                ('order_categorical',\n",
       "                                 SimpleImputer(strategy='most_frequent'),\n",
       "                                 ['is_preferred_plus_seller', 'shopee_verified',\n",
       "                                  'show_free_shipping',\n",
       "                                  'show_official_shop_label_in_title'])])</pre></div></div></div><div class=\"sk-parallel\"><div class=\"sk-parallel-item\"><div class=\"sk-item\"><div class=\"sk-label-container\"><div class=\"sk-label sk-toggleable\"><input class=\"sk-toggleable__control sk-hidden--visually\" id=\"9b4a3022-c5ed-4c54-a162-0e8a51f523b0\" type=\"checkbox\" ><label class=\"sk-toggleable__label\" for=\"9b4a3022-c5ed-4c54-a162-0e8a51f523b0\">numerical</label><div class=\"sk-toggleable__content\"><pre>['item_public_time', 'item_be_got_time', 'sell_time', 'discount', 'options', 'rating_star', 'five_star', 'four_star', 'three_star', 'two_star', 'one_star', 'price_min_before_discount', 'price_max', 'price_min', 'price_max_before_discount', 'price', 'price_before_discount', 'liked_count', 'view_count', 'cmt_count', 'images', 'video_info_list']</pre></div></div></div><div class=\"sk-serial\"><div class=\"sk-item\"><div class=\"sk-estimator sk-toggleable\"><input class=\"sk-toggleable__control sk-hidden--visually\" id=\"b58ba377-ee53-483d-8b3a-7a91886f1ca6\" type=\"checkbox\" ><label class=\"sk-toggleable__label\" for=\"b58ba377-ee53-483d-8b3a-7a91886f1ca6\">SimpleImputer</label><div class=\"sk-toggleable__content\"><pre>SimpleImputer()</pre></div></div></div></div></div></div><div class=\"sk-parallel-item\"><div class=\"sk-item\"><div class=\"sk-label-container\"><div class=\"sk-label sk-toggleable\"><input class=\"sk-toggleable__control sk-hidden--visually\" id=\"b2fddf4e-aeec-4ad2-aef9-aae3dc128e9d\" type=\"checkbox\" ><label class=\"sk-toggleable__label\" for=\"b2fddf4e-aeec-4ad2-aef9-aae3dc128e9d\">unorder_categorical</label><div class=\"sk-toggleable__content\"><pre>['category_id', 'shop_location']</pre></div></div></div><div class=\"sk-serial\"><div class=\"sk-item\"><div class=\"sk-serial\"><div class=\"sk-item\"><div class=\"sk-estimator sk-toggleable\"><input class=\"sk-toggleable__control sk-hidden--visually\" id=\"8f4e8d73-490b-46f7-8f63-704be17ef088\" type=\"checkbox\" ><label class=\"sk-toggleable__label\" for=\"8f4e8d73-490b-46f7-8f63-704be17ef088\">SimpleImputer</label><div class=\"sk-toggleable__content\"><pre>SimpleImputer(strategy='most_frequent')</pre></div></div></div><div class=\"sk-item\"><div class=\"sk-estimator sk-toggleable\"><input class=\"sk-toggleable__control sk-hidden--visually\" id=\"5cd016e9-c34a-4e5d-97c4-42cdf26b6837\" type=\"checkbox\" ><label class=\"sk-toggleable__label\" for=\"5cd016e9-c34a-4e5d-97c4-42cdf26b6837\">OneHotEncoder</label><div class=\"sk-toggleable__content\"><pre>OneHotEncoder(handle_unknown='ignore')</pre></div></div></div></div></div></div></div></div><div class=\"sk-parallel-item\"><div class=\"sk-item\"><div class=\"sk-label-container\"><div class=\"sk-label sk-toggleable\"><input class=\"sk-toggleable__control sk-hidden--visually\" id=\"b0a52963-8ac4-4fe3-8aa5-8ae89cc13531\" type=\"checkbox\" ><label class=\"sk-toggleable__label\" for=\"b0a52963-8ac4-4fe3-8aa5-8ae89cc13531\">order_categorical</label><div class=\"sk-toggleable__content\"><pre>['is_preferred_plus_seller', 'shopee_verified', 'show_free_shipping', 'show_official_shop_label_in_title']</pre></div></div></div><div class=\"sk-serial\"><div class=\"sk-item\"><div class=\"sk-estimator sk-toggleable\"><input class=\"sk-toggleable__control sk-hidden--visually\" id=\"31af549d-6e4b-4b25-aeeb-d4bdfc77c42c\" type=\"checkbox\" ><label class=\"sk-toggleable__label\" for=\"31af549d-6e4b-4b25-aeeb-d4bdfc77c42c\">SimpleImputer</label><div class=\"sk-toggleable__content\"><pre>SimpleImputer(strategy='most_frequent')</pre></div></div></div></div></div></div></div></div><div class=\"sk-item\"><div class=\"sk-estimator sk-toggleable\"><input class=\"sk-toggleable__control sk-hidden--visually\" id=\"97c7faae-9073-4597-924a-5ddcb4bb1250\" type=\"checkbox\" ><label class=\"sk-toggleable__label\" for=\"97c7faae-9073-4597-924a-5ddcb4bb1250\">StandardScaler</label><div class=\"sk-toggleable__content\"><pre>StandardScaler()</pre></div></div></div><div class=\"sk-item\"><div class=\"sk-estimator sk-toggleable\"><input class=\"sk-toggleable__control sk-hidden--visually\" id=\"0b59d6f6-39ca-4dc4-a69a-796e8e3ecee2\" type=\"checkbox\" ><label class=\"sk-toggleable__label\" for=\"0b59d6f6-39ca-4dc4-a69a-796e8e3ecee2\">MLPRegressor</label><div class=\"sk-toggleable__content\"><pre>MLPRegressor(hidden_layer_sizes=70, max_iter=10000, random_state=0)</pre></div></div></div></div></div></div></div></div></div></div></div></div>"
      ],
      "text/plain": [
       "GridSearchCV(cv=3,\n",
       "             estimator=Pipeline(steps=[('coladderdropper', ColAdderDropper()),\n",
       "                                       ('columntransformer',\n",
       "                                        ColumnTransformer(remainder='passthrough',\n",
       "                                                          transformers=[('numerical',\n",
       "                                                                         SimpleImputer(),\n",
       "                                                                         ['item_public_time',\n",
       "                                                                          'item_be_got_time',\n",
       "                                                                          'sell_time',\n",
       "                                                                          'discount',\n",
       "                                                                          'options',\n",
       "                                                                          'rating_star',\n",
       "                                                                          'five_star',\n",
       "                                                                          'four_star',\n",
       "                                                                          'three_star',\n",
       "                                                                          'two_star',\n",
       "                                                                          'one_star',\n",
       "                                                                          'price_min_before...\n",
       "                                                                        ('order_categorical',\n",
       "                                                                         SimpleImputer(strategy='most_frequent'),\n",
       "                                                                         ['is_preferred_plus_seller',\n",
       "                                                                          'shopee_verified',\n",
       "                                                                          'show_free_shipping',\n",
       "                                                                          'show_official_shop_label_in_title'])])),\n",
       "                                       ('standardscaler', StandardScaler()),\n",
       "                                       ('mlpregressor',\n",
       "                                        MLPRegressor(hidden_layer_sizes=70,\n",
       "                                                     max_iter=10000,\n",
       "                                                     random_state=0))]),\n",
       "             param_grid={'mlpregressor__alpha': [0.0001, 0.001, 0.01, 1, 10]})"
      ]
     },
     "execution_count": 93,
     "metadata": {},
     "output_type": "execute_result"
    }
   ],
   "source": [
    "mlp = MLPRegressor(hidden_layer_sizes=70, solver='adam', random_state=0, max_iter=10000)\n",
    "full_pipeline = make_pipeline(ColAdderDropper(), column_transformer, StandardScaler(), mlp)\n",
    "\n",
    "params = {\n",
    "    'mlpregressor__alpha': [0.0001, 0.001, 0.01, 1, 10],\n",
    "}\n",
    "\n",
    "grid_search=GridSearchCV(full_pipeline, param_grid=params, cv=3)\n",
    "grid_search.fit(rest_X_df, rest_y_sr)"
   ]
  },
  {
   "cell_type": "markdown",
   "metadata": {},
   "source": [
    "Kết quả chọn mô hình"
   ]
  },
  {
   "cell_type": "code",
   "execution_count": 94,
   "metadata": {},
   "outputs": [
    {
     "data": {
      "text/plain": [
       "{'mean_fit_time': array([28.54571764, 32.51349266, 26.93016179, 27.01651899, 38.37958837]),\n",
       " 'std_fit_time': array([ 4.81434468,  6.90138534, 10.26445845,  4.46119224, 10.29024215]),\n",
       " 'mean_score_time': array([0.23717491, 0.23078489, 0.22531494, 0.21188617, 0.25294542]),\n",
       " 'std_score_time': array([0.02445607, 0.00761036, 0.00393492, 0.02905515, 0.03249784]),\n",
       " 'param_mlpregressor__alpha': masked_array(data=[0.0001, 0.001, 0.01, 1, 10],\n",
       "              mask=[False, False, False, False, False],\n",
       "        fill_value='?',\n",
       "             dtype=object),\n",
       " 'params': [{'mlpregressor__alpha': 0.0001},\n",
       "  {'mlpregressor__alpha': 0.001},\n",
       "  {'mlpregressor__alpha': 0.01},\n",
       "  {'mlpregressor__alpha': 1},\n",
       "  {'mlpregressor__alpha': 10}],\n",
       " 'split0_test_score': array([0.78897261, 0.78843936, 0.788287  , 0.77460562, 0.71021799]),\n",
       " 'split1_test_score': array([0.78134166, 0.78000813, 0.78176159, 0.73746448, 0.68254295]),\n",
       " 'split2_test_score': array([0.62051058, 0.70981455, 0.5194771 , 0.7754656 , 0.72441515]),\n",
       " 'mean_test_score': array([0.73027495, 0.75942068, 0.69650857, 0.7625119 , 0.70572536]),\n",
       " 'std_test_score': array([0.07767763, 0.03524531, 0.12520849, 0.01771468, 0.01738693]),\n",
       " 'rank_test_score': array([3, 2, 5, 1, 4], dtype=int32)}"
      ]
     },
     "execution_count": 94,
     "metadata": {},
     "output_type": "execute_result"
    }
   ],
   "source": [
    "grid_search.cv_results_"
   ]
  },
  {
   "cell_type": "markdown",
   "metadata": {},
   "source": [
    "Tham số tốt nhất"
   ]
  },
  {
   "cell_type": "code",
   "execution_count": 95,
   "metadata": {},
   "outputs": [
    {
     "data": {
      "text/plain": [
       "{'mlpregressor__alpha': 1}"
      ]
     },
     "execution_count": 95,
     "metadata": {},
     "output_type": "execute_result"
    }
   ],
   "source": [
    "grid_search.best_params_"
   ]
  },
  {
   "cell_type": "markdown",
   "metadata": {},
   "source": [
    "Score trung bình cao nhất"
   ]
  },
  {
   "cell_type": "code",
   "execution_count": 96,
   "metadata": {},
   "outputs": [
    {
     "data": {
      "text/plain": [
       "0.7625119013705305"
      ]
     },
     "execution_count": 96,
     "metadata": {},
     "output_type": "execute_result"
    }
   ],
   "source": [
    "grid_search.best_score_"
   ]
  },
  {
   "cell_type": "markdown",
   "metadata": {},
   "source": [
    "Như vậy $R^2$ > 0.5, mô hình này có thể phù hợp để dự đoán các dữ liệu mới."
   ]
  },
  {
   "cell_type": "markdown",
   "metadata": {},
   "source": [
    "**Vậy ta sẽ chọn mô hình mạng neural để dự đoán**"
   ]
  },
  {
   "cell_type": "markdown",
   "metadata": {},
   "source": [
    "### 2. Đánh giá mô hình tìm được"
   ]
  },
  {
   "cell_type": "markdown",
   "metadata": {},
   "source": [
    "Sau khi đã có mô hình tốt nhất fit vào tập train, ta sẽ dùng mô hình đó để dự đoán tập test cuối cùng"
   ]
  },
  {
   "cell_type": "code",
   "execution_count": 97,
   "metadata": {},
   "outputs": [
    {
     "data": {
      "text/plain": [
       "0.7659745153630606"
      ]
     },
     "execution_count": 97,
     "metadata": {},
     "output_type": "execute_result"
    }
   ],
   "source": [
    "grid_search.score(test_X_df, test_y_sr)"
   ]
  },
  {
   "cell_type": "markdown",
   "metadata": {},
   "source": [
    "Và độ lỗi của mô hình trên tập test là"
   ]
  },
  {
   "cell_type": "code",
   "execution_count": 98,
   "metadata": {},
   "outputs": [
    {
     "data": {
      "text/plain": [
       "23.40254846369394"
      ]
     },
     "execution_count": 98,
     "metadata": {},
     "output_type": "execute_result"
    }
   ],
   "source": [
    "(1 - grid_search.score(test_X_df, test_y_sr)) * 100"
   ]
  },
  {
   "cell_type": "markdown",
   "metadata": {},
   "source": [
    "## VII. Nhìn lại quá trình làm đồ án"
   ]
  },
  {
   "cell_type": "markdown",
   "metadata": {},
   "source": [
    "### 1. Khó khăn\n",
    "- Thu thập dữ liệu khá mệt do thời gian giữa mỗi lần thu thập lớn (Shopee chỉ cho thu thập 1 ngày 1 lần)\n",
    "- Output dữ liệu bị lệch nghiêm trọng (giá trị 0 chiếm tới hơn 60% các mẫu) nên phải lấy thật nhiều dữ liệu để cân bằng lại, sau đó thực hiện tiền xử lý khá phức tạp\n",
    "- Giá trị của các thuộc tính không nhất quán và có những trường hợp đặc biệt như giá trị thiếu của `discount`, giá trị True False dạng chuỗi,... nên cần nhiều thời gian để phân tích và xử lý\n",
    "- Huấn luyện mô hình cần thời gian khá lâu (khoảng 10 phút)"
   ]
  },
  {
   "cell_type": "markdown",
   "metadata": {},
   "source": [
    "### 2. Những thứ học được\n",
    "- Rèn luyện kỹ năng làm việc nhóm, quản lý thời gian\n",
    "- Biết cách sử dụng phần mềm quản lý phiên bản Github\n",
    "- Biết cách sử dụng các công cụ hỗ trợ để thu thập, khám phá, tiền xử lý và mô hình hóa dữ liệu\n",
    "- Gặp và xử lý những vấn đề trong quy trình khoa học dữ liệu (tiền xử lý, chống overfit,...)"
   ]
  },
  {
   "cell_type": "markdown",
   "metadata": {},
   "source": [
    "### 3. Những điều cần bổ sung nếu có thêm thời gian\n",
    "- Thu thập thêm nhiều dữ liệu để mô hình dự đoán tốt hơn\n",
    "- Thử giảm số lượng thuộc tính, chỉ giữ lại những thuộc tính quan trọng\n",
    "- Train thêm nhiều mô hình để tìm ra mô hình tốt nhất, việc này cần nhiều thời gian"
   ]
  },
  {
   "cell_type": "markdown",
   "metadata": {},
   "source": [
    "## VIII. Tài liệu tham khảo\n",
    "- https://scikit-learn.org/\n",
    "- https://stackoverflow.com/\n",
    "- http://towardsdatascience.com/\n",
    "- https://pandas.pydata.org/\n",
    "- http://numpy.org/\n",
    "- https://www.researchgate.net/\n",
    "- https://medium.com/"
   ]
  }
 ],
 "metadata": {
  "kernelspec": {
   "display_name": "Python 3",
   "language": "python",
   "name": "python3"
  },
  "language_info": {
   "codemirror_mode": {
    "name": "ipython",
    "version": 3
   },
   "file_extension": ".py",
   "mimetype": "text/x-python",
   "name": "python",
   "nbconvert_exporter": "python",
   "pygments_lexer": "ipython3",
   "version": "3.8.3"
  }
 },
 "nbformat": 4,
 "nbformat_minor": 4
}
